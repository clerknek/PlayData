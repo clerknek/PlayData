{
 "cells": [
  {
   "cell_type": "code",
   "execution_count": 52,
   "id": "66e615c6",
   "metadata": {
    "ExecuteTime": {
     "end_time": "2023-02-03T02:49:59.976691Z",
     "start_time": "2023-02-03T02:48:42.142114Z"
    },
    "scrolled": true
   },
   "outputs": [
    {
     "name": "stdout",
     "output_type": "stream",
     "text": [
      "1 1 1 1 1 1 1 1 1 1\n",
      "1 0 0 1 0 0 0 0 0 1\n",
      "1 0 0 1 1 1 0 0 0 1\n",
      "1 0 0 0 0 0 0 1 0 1\n",
      "1 0 0 0 0 0 0 1 0 1\n",
      "1 0 0 0 0 1 0 1 0 1\n",
      "1 0 0 0 0 1 2 1 0 1\n",
      "1 0 0 0 0 1 0 0 0 1\n",
      "1 0 0 0 0 0 0 0 0 1\n",
      "1 1 1 1 1 1 1 1 1 1\n"
     ]
    }
   ],
   "source": [
    "l = [list(map(int, input().split(' '))) for i in range(10)]"
   ]
  },
  {
   "cell_type": "code",
   "execution_count": 53,
   "id": "f4c5efe3",
   "metadata": {
    "ExecuteTime": {
     "end_time": "2023-02-03T02:50:01.553355Z",
     "start_time": "2023-02-03T02:50:01.529356Z"
    }
   },
   "outputs": [
    {
     "data": {
      "text/plain": [
       "[[1, 1, 1, 1, 1, 1, 1, 1, 1, 1],\n",
       " [1, 0, 0, 1, 0, 0, 0, 0, 0, 1],\n",
       " [1, 0, 0, 1, 1, 1, 0, 0, 0, 1],\n",
       " [1, 0, 0, 0, 0, 0, 0, 1, 0, 1],\n",
       " [1, 0, 0, 0, 0, 0, 0, 1, 0, 1],\n",
       " [1, 0, 0, 0, 0, 1, 0, 1, 0, 1],\n",
       " [1, 0, 0, 0, 0, 1, 2, 1, 0, 1],\n",
       " [1, 0, 0, 0, 0, 1, 0, 0, 0, 1],\n",
       " [1, 0, 0, 0, 0, 0, 0, 0, 0, 1],\n",
       " [1, 1, 1, 1, 1, 1, 1, 1, 1, 1]]"
      ]
     },
     "execution_count": 53,
     "metadata": {},
     "output_type": "execute_result"
    }
   ],
   "source": [
    "l"
   ]
  },
  {
   "cell_type": "code",
   "execution_count": 76,
   "id": "9cee6144",
   "metadata": {
    "ExecuteTime": {
     "end_time": "2023-02-03T04:19:04.899438Z",
     "start_time": "2023-02-03T04:19:04.876442Z"
    }
   },
   "outputs": [],
   "source": [
    "l = [[1, 1, 1, 1, 1, 1, 1, 1, 1, 1],\n",
    "[1, 0, 0, 1, 0, 0, 0, 0, 0, 1],\n",
    "[1, 0, 0, 1, 1, 1, 0, 0, 0, 1],\n",
    "[1, 0, 0, 0, 0, 0, 0, 1, 0, 1],\n",
    "[1, 0, 0, 0, 0, 0, 0, 1, 0, 1],\n",
    "[1, 0, 0, 0, 0, 1, 0, 1, 0, 1],\n",
    "[1, 0, 0, 0, 0, 1, 2, 1, 0, 1],\n",
    "[1, 0, 0, 0, 0, 1, 0, 0, 0, 1],\n",
    "[1, 0, 0, 0, 0, 0, 0, 0, 0, 1],\n",
    "[1, 1, 1, 1, 1, 1, 1, 1, 1, 1]]"
   ]
  },
  {
   "cell_type": "code",
   "execution_count": 109,
   "id": "22e886ff",
   "metadata": {
    "ExecuteTime": {
     "end_time": "2023-02-03T05:11:15.869744Z",
     "start_time": "2023-02-03T05:11:15.852706Z"
    }
   },
   "outputs": [],
   "source": [
    "l = [[1, 1, 1, 1, 1, 1, 1, 1, 1, 1],\n",
    "[1, 0, 0, 1, 0, 0, 0, 0, 0, 1],\n",
    "[1, 0, 0, 1, 0, 0, 0, 0, 0, 1],\n",
    "[1, 0, 0, 1, 0, 0, 0, 0, 0, 1],\n",
    "[1, 0, 0, 1, 0, 0, 0, 0, 0, 1],\n",
    "[1, 0, 0, 1, 0, 0, 1, 0, 0, 1],\n",
    "[1, 0, 0, 0, 0, 0, 1, 0, 0, 1],\n",
    "[1, 0, 0, 0, 0, 0, 1, 0, 0, 1],\n",
    "[1, 0, 0, 0, 0, 0, 0, 2, 0, 1],\n",
    "[1, 1, 1, 1, 1, 1, 1, 1, 1, 1]]"
   ]
  },
  {
   "cell_type": "code",
   "execution_count": 110,
   "id": "782e531f",
   "metadata": {
    "ExecuteTime": {
     "end_time": "2023-02-03T05:11:16.393262Z",
     "start_time": "2023-02-03T05:11:16.369266Z"
    }
   },
   "outputs": [
    {
     "name": "stdout",
     "output_type": "stream",
     "text": [
      "1\n",
      "2 1\n",
      "--------------------------------------------------\n",
      "1\n",
      "3 1\n",
      "--------------------------------------------------\n",
      "3\n",
      "2 2\n",
      "--------------------------------------------------\n",
      "3\n",
      "1 3\n",
      "--------------------------------------------------\n",
      "2\n",
      "1 4\n",
      "--------------------------------------------------\n",
      "2\n",
      "1 5\n",
      "--------------------------------------------------\n",
      "2\n",
      "1 6\n",
      "--------------------------------------------------\n",
      "2\n",
      "1 7\n",
      "--------------------------------------------------\n",
      "2\n",
      "1 8\n",
      "--------------------------------------------------\n",
      "6\n",
      "1 1 1 1 1 1 1 1 1 1 \n",
      "1 9 9 1 0 0 0 0 0 1 \n",
      "1 0 9 1 0 0 0 0 0 1 \n",
      "1 9 0 1 0 0 0 0 0 1 \n",
      "1 9 0 1 0 0 0 0 0 1 \n",
      "1 9 0 1 0 0 1 0 0 1 \n",
      "1 9 0 0 0 0 1 0 0 1 \n",
      "1 9 0 0 0 0 1 0 0 1 \n",
      "1 9 0 0 0 0 0 2 0 1 \n",
      "1 1 1 1 1 1 1 1 1 1 \n"
     ]
    }
   ],
   "source": [
    "# l = [list(map(int, input().split(' '))) for i in range(10)]\n",
    "\n",
    "i = 0\n",
    "a = [1, 1]\n",
    "while True:\n",
    "    right = l[a[1]][a[0]]\n",
    "    down = l[a[1]+1][a[0]]\n",
    "    l_down = l[a[1]+1][a[0]-1]\n",
    "\n",
    "    if right == 0:\n",
    "        print(1)\n",
    "        l[a[1]][a[0]] = 9\n",
    "        a[0] += 1\n",
    "    elif right != 0 and down == 0:\n",
    "        print(2)\n",
    "        l[a[1]+1][a[0]] == 9\n",
    "        a[1] +=1\n",
    "    elif right != 0 and l_down == 0:\n",
    "        print(3)\n",
    "        l[a[1]+1][a[0]-1] = 9\n",
    "        a[1] += 1\n",
    "        a[0] -= 1\n",
    "    elif right == 2:\n",
    "        print(4)\n",
    "        l[a[1]][a[0]] = 9\n",
    "        break\n",
    "    elif l_down == 2:\n",
    "        print(5)\n",
    "        l[a[1]+1][a[0]-1]=9\n",
    "        break\n",
    "    else:\n",
    "        print(6)\n",
    "        break\n",
    "    i += 1\n",
    "    \n",
    "    print(a[0], a[1])\n",
    "    for j in l:\n",
    "        for k in j:\n",
    "            print(k, end=\" \")\n",
    "        print()\n",
    "    print(\"-\"*50)"
   ]
  },
  {
   "cell_type": "code",
   "execution_count": 106,
   "id": "ec41b4b9",
   "metadata": {
    "ExecuteTime": {
     "end_time": "2023-02-03T05:10:41.103672Z",
     "start_time": "2023-02-03T05:10:41.090644Z"
    }
   },
   "outputs": [
    {
     "name": "stdout",
     "output_type": "stream",
     "text": [
      "False\n"
     ]
    }
   ],
   "source": [
    "print(l[a[1]][a[0]] == 0)"
   ]
  },
  {
   "cell_type": "code",
   "execution_count": null,
   "id": "7e108804",
   "metadata": {},
   "outputs": [],
   "source": []
  }
 ],
 "metadata": {
  "kernelspec": {
   "display_name": "Python 3 (ipykernel)",
   "language": "python",
   "name": "python3"
  },
  "language_info": {
   "codemirror_mode": {
    "name": "ipython",
    "version": 3
   },
   "file_extension": ".py",
   "mimetype": "text/x-python",
   "name": "python",
   "nbconvert_exporter": "python",
   "pygments_lexer": "ipython3",
   "version": "3.9.15"
  },
  "toc": {
   "base_numbering": 1,
   "nav_menu": {},
   "number_sections": true,
   "sideBar": true,
   "skip_h1_title": false,
   "title_cell": "Table of Contents",
   "title_sidebar": "Contents",
   "toc_cell": false,
   "toc_position": {},
   "toc_section_display": true,
   "toc_window_display": false
  },
  "varInspector": {
   "cols": {
    "lenName": 16,
    "lenType": 16,
    "lenVar": 40
   },
   "kernels_config": {
    "python": {
     "delete_cmd_postfix": "",
     "delete_cmd_prefix": "del ",
     "library": "var_list.py",
     "varRefreshCmd": "print(var_dic_list())"
    },
    "r": {
     "delete_cmd_postfix": ") ",
     "delete_cmd_prefix": "rm(",
     "library": "var_list.r",
     "varRefreshCmd": "cat(var_dic_list()) "
    }
   },
   "types_to_exclude": [
    "module",
    "function",
    "builtin_function_or_method",
    "instance",
    "_Feature"
   ],
   "window_display": false
  }
 },
 "nbformat": 4,
 "nbformat_minor": 5
}
