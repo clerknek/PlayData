{
 "cells": [
  {
   "cell_type": "markdown",
   "metadata": {
    "slideshow": {
     "slide_type": "slide"
    }
   },
   "source": [
    "# Path (경로)\n",
    "\n",
    "- **경로(Path)**\n",
    "    - 프로그램에서 사용할 **자원의 위치**를 path/경로 라고 한다.\n",
    "    - **파일 시스템**에서는 파일이나 디렉토리가 있는 위치의 경로를 말한다.\n",
    "    "
   ]
  },
  {
   "cell_type": "markdown",
   "metadata": {
    "slideshow": {
     "slide_type": "subslide"
    }
   },
   "source": [
    "- **절대경로**\n",
    "    - 자원의 전체 경로를 표현하는 방식\n",
    "    - 시작 경로부터 자원(파일, 디렉토리)이 있는 위치까지 표현한다.\n",
    "        - 시작 경로: Root Path\n",
    "            - windows: `c:`, `d:`\n",
    "            - Unix, Linux: `/`"
   ]
  },
  {
   "cell_type": "markdown",
   "metadata": {
    "slideshow": {
     "slide_type": "fragment"
    }
   },
   "source": [
    "- **상대경로**\n",
    "    - 현재 작업 경로(위치)에서 부터 자원이 있는 위치까지 표현한다.\n",
    "        - 시작 경로: 현재 작업경로\n",
    "    - 구문\n",
    "        - `.` : 현재 디렉토리\n",
    "        - `..`: 상위 디렉토리\n",
    "        - `/` : 경로 구분자,  상위경로/하위경로"
   ]
  },
  {
   "cell_type": "markdown",
   "metadata": {
    "slideshow": {
     "slide_type": "fragment"
    }
   },
   "source": [
    "- 운영체제(O/S)별 경로구분자\n",
    "    - 윈도우즈: `\\` (역슬래쉬)\n",
    "    - 리눅스/유닉스: `/` (슬래쉬)"
   ]
  },
  {
   "cell_type": "code",
   "execution_count": null,
   "metadata": {
    "slideshow": {
     "slide_type": "fragment"
    }
   },
   "outputs": [],
   "source": [
    "\"C:\\Users\\jeonj\\Desktop\\Data_Analysis\\01_Python 기초\\my_package\\calculator.py\" # 절대 경로"
   ]
  },
  {
   "cell_type": "code",
   "execution_count": null,
   "metadata": {},
   "outputs": [],
   "source": [
    "\"./my_package/calculator.py  | my_package/caculator.py\"  # 01_Python 기초 디렉토리에 있을 때의 상대경로"
   ]
  },
  {
   "cell_type": "code",
   "execution_count": null,
   "metadata": {},
   "outputs": [],
   "source": [
    "\"./main.py | main.py\" # 01_Python 기초 디렉토리에 있을 때의 상대경로"
   ]
  },
  {
   "cell_type": "code",
   "execution_count": null,
   "metadata": {},
   "outputs": [],
   "source": [
    "\"./../main.py | ../main.py\" # my_package 디렉토리에 있을 때의 상대경로"
   ]
  },
  {
   "cell_type": "code",
   "execution_count": null,
   "metadata": {},
   "outputs": [],
   "source": [
    "\"./../01_Python 기초/main.py | ../01_Python 기초/ main.py\"  # 다른 디렉토리에 있을 때의 상대경로 -> 기존 디렉토리에서 나가고 01_Python 기초로 들어가서 main.py를 찾음"
   ]
  },
  {
   "cell_type": "code",
   "execution_count": null,
   "metadata": {},
   "outputs": [],
   "source": [
    "path = '/a/b/c'  # 시작 root 경로 -> 절대경로 표현\n",
    "path = './a/b'   # 시작 현재 경로 -> ./ 또는 디렉토리나 파일명일 경우 -> 상대 경로 표현\n",
    "path = 'a/b/c'"
   ]
  },
  {
   "cell_type": "code",
   "execution_count": null,
   "metadata": {
    "ExecuteTime": {
     "end_time": "2023-01-02T00:55:12.506350Z",
     "start_time": "2023-01-02T00:55:12.495337Z"
    }
   },
   "outputs": [],
   "source": [
    "\"http://sport.naver.com/wfootball/index\"\n",
    "# 컴퓨터 Internet 상의 위치는 대소문자 구분 X  ex) http://sport.naver.com\n",
    "# 파일 경로: 대소문자 구분 ex) /wfootball/index"
   ]
  },
  {
   "cell_type": "code",
   "execution_count": null,
   "metadata": {},
   "outputs": [],
   "source": [
    "# 경로 다루는 모듈\n",
    "# os 모듈, pathlib(python 3.4 추가) 모듈"
   ]
  },
  {
   "cell_type": "code",
   "execution_count": 10,
   "metadata": {
    "ExecuteTime": {
     "end_time": "2023-01-02T02:19:09.758780Z",
     "start_time": "2023-01-02T02:19:09.744778Z"
    }
   },
   "outputs": [
    {
     "name": "stdout",
     "output_type": "stream",
     "text": [
      "c:\\temp <class 'str'>\n"
     ]
    }
   ],
   "source": [
    "import os\n",
    "\n",
    "# 현재(Working) 디렉토리 - 현재 main 모듈이 있는 경로.\n",
    "cwd = os.getcwd()   # - getcwd: get current working directory\n",
    "print(cwd, type(cwd))"
   ]
  },
  {
   "cell_type": "code",
   "execution_count": 11,
   "metadata": {
    "ExecuteTime": {
     "end_time": "2023-01-02T02:19:11.041147Z",
     "start_time": "2023-01-02T02:19:11.025140Z"
    }
   },
   "outputs": [
    {
     "name": "stdout",
     "output_type": "stream",
     "text": [
      "c:\\temp\n"
     ]
    }
   ],
   "source": [
    "# 현재 working directory 변경\n",
    "os.chdir(r'c:\\temp')  # row string: escape 문자를 안쓸 것이다. - chdir: change directory\n",
    "print(os.getcwd())"
   ]
  },
  {
   "cell_type": "code",
   "execution_count": 12,
   "metadata": {
    "ExecuteTime": {
     "end_time": "2023-01-02T02:19:12.374299Z",
     "start_time": "2023-01-02T02:19:12.357325Z"
    }
   },
   "outputs": [],
   "source": [
    "# 디렉토리 생성\n",
    "try:\n",
    "    os.mkdir('test1') # test 디렉토리 생성 - mkdir:make directory\n",
    "except:\n",
    "    print(\"있는 디렉토리\")"
   ]
  },
  {
   "cell_type": "code",
   "execution_count": 13,
   "metadata": {
    "ExecuteTime": {
     "end_time": "2023-01-02T02:19:31.213896Z",
     "start_time": "2023-01-02T02:19:31.195902Z"
    }
   },
   "outputs": [
    {
     "name": "stdout",
     "output_type": "stream",
     "text": [
      "True\n",
      "False\n",
      "True\n"
     ]
    }
   ],
   "source": [
    "print(os.path.isdir('test1')) # test1이 존재하고 디렉토리인지 여부\n",
    "print(os.path.isfile('test1'))  # test1이 존재하고 파일인지 여부\n",
    "print(os.path.exists('test1'))  # test1이 존재하는지 여부"
   ]
  },
  {
   "cell_type": "code",
   "execution_count": 14,
   "metadata": {
    "ExecuteTime": {
     "end_time": "2023-01-02T02:19:31.972871Z",
     "start_time": "2023-01-02T02:19:31.964865Z"
    }
   },
   "outputs": [],
   "source": [
    "path = 'test2'\n",
    "if not os.path.isdir(path):  # 없으면 만듬\n",
    "    os.mkdir(path)"
   ]
  },
  {
   "cell_type": "code",
   "execution_count": 15,
   "metadata": {
    "ExecuteTime": {
     "end_time": "2023-01-02T02:19:32.720396Z",
     "start_time": "2023-01-02T02:19:32.705395Z"
    }
   },
   "outputs": [],
   "source": [
    "# 디렉토리 삭제\n",
    "if os.path.isdir('test2'):\n",
    "    os.rmdir('test2')  # 없는 디렉토리인 경우 Exception 발생 rmdir: remove directory"
   ]
  },
  {
   "cell_type": "code",
   "execution_count": 16,
   "metadata": {
    "ExecuteTime": {
     "end_time": "2023-01-02T02:19:33.330291Z",
     "start_time": "2023-01-02T02:19:33.302293Z"
    }
   },
   "outputs": [
    {
     "ename": "OSError",
     "evalue": "[WinError 145] 디렉터리가 비어 있지 않습니다: 'test1'",
     "output_type": "error",
     "traceback": [
      "\u001b[1;31m---------------------------------------------------------------------------\u001b[0m",
      "\u001b[1;31mOSError\u001b[0m                                   Traceback (most recent call last)",
      "\u001b[1;32m~\\AppData\\Local\\Temp\\ipykernel_6172\\3657998630.py\u001b[0m in \u001b[0;36m<module>\u001b[1;34m\u001b[0m\n\u001b[0;32m      1\u001b[0m \u001b[1;31m# dir(디렉토리)- 안에 파일이나 하위디렉토리가 있으면 Exception 발생\u001b[0m\u001b[1;33m\u001b[0m\u001b[1;33m\u001b[0m\u001b[0m\n\u001b[1;32m----> 2\u001b[1;33m \u001b[0mos\u001b[0m\u001b[1;33m.\u001b[0m\u001b[0mrmdir\u001b[0m\u001b[1;33m(\u001b[0m\u001b[1;34m'test1'\u001b[0m\u001b[1;33m)\u001b[0m\u001b[1;33m\u001b[0m\u001b[1;33m\u001b[0m\u001b[0m\n\u001b[0m",
      "\u001b[1;31mOSError\u001b[0m: [WinError 145] 디렉터리가 비어 있지 않습니다: 'test1'"
     ]
    }
   ],
   "source": [
    "# dir(디렉토리)- 안에 파일이나 하위디렉토리가 있으면 Exception 발생\n",
    "os.rmdir('test1')"
   ]
  },
  {
   "cell_type": "code",
   "execution_count": 17,
   "metadata": {
    "ExecuteTime": {
     "end_time": "2023-01-02T02:19:34.419336Z",
     "start_time": "2023-01-02T02:19:34.403341Z"
    },
    "scrolled": true
   },
   "outputs": [],
   "source": [
    "# 파일 삭제\n",
    "os.remove(\"test1/a.txt\")"
   ]
  },
  {
   "cell_type": "code",
   "execution_count": 18,
   "metadata": {
    "ExecuteTime": {
     "end_time": "2023-01-02T02:19:36.917241Z",
     "start_time": "2023-01-02T02:19:36.909198Z"
    },
    "scrolled": true
   },
   "outputs": [],
   "source": [
    "os.rmdir(\"test1\")"
   ]
  },
  {
   "cell_type": "code",
   "execution_count": 49,
   "metadata": {
    "ExecuteTime": {
     "end_time": "2023-01-02T02:35:02.077380Z",
     "start_time": "2023-01-02T02:35:02.059382Z"
    }
   },
   "outputs": [
    {
     "name": "stdout",
     "output_type": "stream",
     "text": [
      "['a1 - 복사본.py',\n",
      " 'a1.py',\n",
      " 'a2.py',\n",
      " 'a3.py',\n",
      " 'dir1',\n",
      " 'dir2',\n",
      " 'dir3',\n",
      " 'img1.jpg',\n",
      " 'img2.jpg']\n"
     ]
    }
   ],
   "source": [
    "from pprint import pprint\n",
    "path = 'test'\n",
    "# test 디렉토리 아래 있는 과일들을 샂게\n",
    "# 1. test 디렉토리 아래 있는 과일/ 디렉토리 이름들을 조회\n",
    "sub_list = os.listdir(path)  #  path 디렉토리 하위에 있는 디렉토리, 파일 이름을 리스트로 변환\n",
    "pprint(sub_list)"
   ]
  },
  {
   "cell_type": "code",
   "execution_count": 51,
   "metadata": {
    "ExecuteTime": {
     "end_time": "2023-01-02T02:35:29.683656Z",
     "start_time": "2023-01-02T02:35:29.674654Z"
    }
   },
   "outputs": [
    {
     "name": "stdout",
     "output_type": "stream",
     "text": [
      "test/a1 - 복사본.py\n",
      "a1 - 복사본.py\n"
     ]
    }
   ],
   "source": [
    "# 경로를 합치기 (결합)\n",
    "print(path + '/' + sub_list[0])\n",
    "print(os.path.join(sub_list[0]))"
   ]
  },
  {
   "cell_type": "code",
   "execution_count": 52,
   "metadata": {
    "ExecuteTime": {
     "end_time": "2023-01-02T02:35:31.862742Z",
     "start_time": "2023-01-02T02:35:31.841782Z"
    }
   },
   "outputs": [
    {
     "name": "stdout",
     "output_type": "stream",
     "text": [
      "a\\b\\c\\d\\e\n"
     ]
    }
   ],
   "source": [
    "print(os.path.join(\"a\", \"b\", \"c\", \"d\", \"e\"))"
   ]
  },
  {
   "cell_type": "code",
   "execution_count": 53,
   "metadata": {
    "ExecuteTime": {
     "end_time": "2023-01-02T02:35:34.556517Z",
     "start_time": "2023-01-02T02:35:34.531509Z"
    }
   },
   "outputs": [],
   "source": [
    "for fname in sub_list:\n",
    "    # print(os.path.join(path, fname))\n",
    "    p = os.path.join(path, fname)\n",
    "    if os.path.isfile(p):\n",
    "        os.remove(p)"
   ]
  },
  {
   "cell_type": "code",
   "execution_count": 54,
   "metadata": {
    "ExecuteTime": {
     "end_time": "2023-01-02T02:35:35.728409Z",
     "start_time": "2023-01-02T02:35:35.712408Z"
    }
   },
   "outputs": [
    {
     "name": "stdout",
     "output_type": "stream",
     "text": [
      "['dir1', 'dir2', 'dir3']\n"
     ]
    }
   ],
   "source": [
    "sub_list = os.listdir(path)\n",
    "pprint(sub_list)"
   ]
  },
  {
   "cell_type": "markdown",
   "metadata": {},
   "source": [
    "- glob 모듈\n",
    "    - 디렉토리 안에 있는 파일/디렉토리들을 wild card 문자를 이용해서 다양하게 조회할 수 있다.\n",
    "    - wild card\n",
    "        - \\* : 0 글자 이상의 모든 문자열\n",
    "            - ex) \\*.jpg 확장자가 jpg인 모든 이름의 파일, a\\*.png: 이름이 a로 시작하고 확장자가 png인 모든 파일\n",
    "        - ? : 한글자\n",
    "            - ex) ab?de.jpg: 이름이 ab와 de 사이에 아무글자나 **한글자**가 들어오는 jpg파일\n",
    "        - \\*\\* : 모든 하위 디렉토리. 하위 디렉토리의 하위 디렉토리 포함\n",
    "![io](sample/2023-01-02.png)"
   ]
  },
  {
   "cell_type": "code",
   "execution_count": 40,
   "metadata": {
    "ExecuteTime": {
     "end_time": "2023-01-02T02:27:40.828372Z",
     "start_time": "2023-01-02T02:27:40.809371Z"
    }
   },
   "outputs": [
    {
     "name": "stdout",
     "output_type": "stream",
     "text": [
      "['test']\n",
      "['test/a1.py']\n"
     ]
    }
   ],
   "source": [
    "from glob import glob\n",
    "\n",
    "print(glob('test'))\n",
    "print(glob('test/a1.py'))"
   ]
  },
  {
   "cell_type": "code",
   "execution_count": 41,
   "metadata": {
    "ExecuteTime": {
     "end_time": "2023-01-02T02:27:41.113000Z",
     "start_time": "2023-01-02T02:27:41.094264Z"
    }
   },
   "outputs": [
    {
     "data": {
      "text/plain": [
       "['test\\\\a1 - 복사본.py',\n",
       " 'test\\\\a1.py',\n",
       " 'test\\\\a2.py',\n",
       " 'test\\\\a3.py',\n",
       " 'test\\\\img1.jpg',\n",
       " 'test\\\\img2.jpg']"
      ]
     },
     "execution_count": 41,
     "metadata": {},
     "output_type": "execute_result"
    }
   ],
   "source": [
    "glob('test/*.*')  # test 디렉토리 안에 있는 모든 파일"
   ]
  },
  {
   "cell_type": "code",
   "execution_count": 42,
   "metadata": {
    "ExecuteTime": {
     "end_time": "2023-01-02T02:27:41.477624Z",
     "start_time": "2023-01-02T02:27:41.459681Z"
    }
   },
   "outputs": [
    {
     "data": {
      "text/plain": [
       "['test\\\\a1 - 복사본.py', 'test\\\\a1.py', 'test\\\\a2.py', 'test\\\\a3.py']"
      ]
     },
     "execution_count": 42,
     "metadata": {},
     "output_type": "execute_result"
    }
   ],
   "source": [
    "glob('test/*.py')"
   ]
  },
  {
   "cell_type": "code",
   "execution_count": 43,
   "metadata": {
    "ExecuteTime": {
     "end_time": "2023-01-02T02:27:41.990528Z",
     "start_time": "2023-01-02T02:27:41.968479Z"
    }
   },
   "outputs": [
    {
     "data": {
      "text/plain": [
       "['test\\\\a1.py', 'test\\\\a2.py', 'test\\\\a3.py']"
      ]
     },
     "execution_count": 43,
     "metadata": {},
     "output_type": "execute_result"
    }
   ],
   "source": [
    "glob('test/a?.py')"
   ]
  },
  {
   "cell_type": "code",
   "execution_count": 44,
   "metadata": {
    "ExecuteTime": {
     "end_time": "2023-01-02T02:27:42.411743Z",
     "start_time": "2023-01-02T02:27:42.399201Z"
    }
   },
   "outputs": [
    {
     "data": {
      "text/plain": [
       "['test\\\\a1 - 복사본.py',\n",
       " 'test\\\\a1.py',\n",
       " 'test\\\\a2.py',\n",
       " 'test\\\\a3.py',\n",
       " 'test\\\\dir1',\n",
       " 'test\\\\dir2',\n",
       " 'test\\\\dir3',\n",
       " 'test\\\\img1.jpg',\n",
       " 'test\\\\img2.jpg']"
      ]
     },
     "execution_count": 44,
     "metadata": {},
     "output_type": "execute_result"
    }
   ],
   "source": [
    "glob('test/*')"
   ]
  },
  {
   "cell_type": "code",
   "execution_count": 45,
   "metadata": {
    "ExecuteTime": {
     "end_time": "2023-01-02T02:27:44.691761Z",
     "start_time": "2023-01-02T02:27:44.666798Z"
    }
   },
   "outputs": [
    {
     "data": {
      "text/plain": [
       "['test\\\\dir1\\\\a1.py',\n",
       " 'test\\\\dir1\\\\a2.py',\n",
       " 'test\\\\dir2\\\\a1.py',\n",
       " 'test\\\\dir2\\\\a2.py',\n",
       " 'test\\\\dir3\\\\a1.py',\n",
       " 'test\\\\dir3\\\\a2.py']"
      ]
     },
     "execution_count": 45,
     "metadata": {},
     "output_type": "execute_result"
    }
   ],
   "source": [
    "glob('test/**/*.py') # test/모든하위디렉토리/*.py"
   ]
  },
  {
   "cell_type": "code",
   "execution_count": 46,
   "metadata": {
    "ExecuteTime": {
     "end_time": "2023-01-02T02:28:36.739003Z",
     "start_time": "2023-01-02T02:28:36.717970Z"
    }
   },
   "outputs": [
    {
     "data": {
      "text/plain": [
       "['test\\\\a1 - 복사본.py',\n",
       " 'test\\\\a1.py',\n",
       " 'test\\\\a2.py',\n",
       " 'test\\\\a3.py',\n",
       " 'test\\\\dir1\\\\a1.py',\n",
       " 'test\\\\dir1\\\\a2.py',\n",
       " 'test\\\\dir2\\\\a1.py',\n",
       " 'test\\\\dir2\\\\a2.py',\n",
       " 'test\\\\dir3\\\\a1.py',\n",
       " 'test\\\\dir3\\\\a2.py']"
      ]
     },
     "execution_count": 46,
     "metadata": {},
     "output_type": "execute_result"
    }
   ],
   "source": [
    "glob('test/**/*.py', recursive=True)  # test directory, (그 하위, 그 하위 --> 모든 하위 디렉토리를 다 찾아준다.)"
   ]
  },
  {
   "cell_type": "code",
   "execution_count": 47,
   "metadata": {
    "ExecuteTime": {
     "end_time": "2023-01-02T02:34:14.827055Z",
     "start_time": "2023-01-02T02:34:14.817063Z"
    }
   },
   "outputs": [],
   "source": [
    "# os.mkdir(\"a/b/c/d\") # 상위 디렉토리가 있을 때 디렉토리를 만든다.\n",
    "\n",
    "os.makedirs('a/b/c/d/e', exist_ok=True) # 상위 디렉토리가 없으면 상위 디렉토리까지 만든다., exist_ok=True: 상위 디렉토리가 있어도 에러 발생 X"
   ]
  },
  {
   "cell_type": "markdown",
   "metadata": {},
   "source": [
    "### pathlib 모듈을 이용해 경로 처리"
   ]
  },
  {
   "cell_type": "code",
   "execution_count": 55,
   "metadata": {
    "ExecuteTime": {
     "end_time": "2023-01-02T02:39:06.669282Z",
     "start_time": "2023-01-02T02:39:06.656358Z"
    }
   },
   "outputs": [
    {
     "name": "stdout",
     "output_type": "stream",
     "text": [
      "test\n",
      "<class 'pathlib.WindowsPath'>\n"
     ]
    }
   ],
   "source": [
    "from pathlib import Path\n",
    "# Path: attribute로 파일/디렉토리 경로를 가지며 그 경로관련 처리를 하는 다양한 메소드를 제공\n",
    "\n",
    "path = Path(\"test\") # test 디렉토리를 다루는 경로 계체 생성\n",
    "print(path)\n",
    "print(type(path))"
   ]
  },
  {
   "cell_type": "code",
   "execution_count": 58,
   "metadata": {
    "ExecuteTime": {
     "end_time": "2023-01-02T02:43:47.899020Z",
     "start_time": "2023-01-02T02:43:47.881024Z"
    }
   },
   "outputs": [
    {
     "name": "stdout",
     "output_type": "stream",
     "text": [
      "test\\dir1\\dir2\\my_file.txt\n"
     ]
    },
    {
     "data": {
      "text/plain": [
       "(False, False, False)"
      ]
     },
     "execution_count": 58,
     "metadata": {},
     "output_type": "execute_result"
    }
   ],
   "source": [
    "# 경로 합치기 (os.path.join('경로1', '경로2', '경로3'))  '경로1/경로2/경로3'\n",
    "\n",
    "path1 = path / \"dir1\" / \"dir2\" / \"my_file.txt\"\n",
    "print(path1)\n",
    "path1.is_file(), path1.is_dir(), path1.exists()  # path1이 가진 경로가 있는지 여부"
   ]
  },
  {
   "cell_type": "code",
   "execution_count": 60,
   "metadata": {
    "ExecuteTime": {
     "end_time": "2023-01-02T02:46:28.070841Z",
     "start_time": "2023-01-02T02:46:28.050848Z"
    }
   },
   "outputs": [
    {
     "data": {
      "text/plain": [
       "('test', 'dir1', 'dir2', 'my_file.txt')"
      ]
     },
     "execution_count": 60,
     "metadata": {},
     "output_type": "execute_result"
    }
   ],
   "source": [
    "path1.parts # 각 경로 요소들을 나눠서 튜플로 반환"
   ]
  },
  {
   "cell_type": "code",
   "execution_count": 61,
   "metadata": {
    "ExecuteTime": {
     "end_time": "2023-01-02T02:47:07.217505Z",
     "start_time": "2023-01-02T02:47:07.207544Z"
    }
   },
   "outputs": [
    {
     "data": {
      "text/plain": [
       "('my_file.txt', 'my_file.txt')"
      ]
     },
     "execution_count": 61,
     "metadata": {},
     "output_type": "execute_result"
    }
   ],
   "source": [
    "path1.name, path1.parts[-1]# 마지막 경로(파일/디렉토리)의 이름 조회"
   ]
  },
  {
   "cell_type": "code",
   "execution_count": 62,
   "metadata": {
    "ExecuteTime": {
     "end_time": "2023-01-02T02:47:40.495002Z",
     "start_time": "2023-01-02T02:47:40.480009Z"
    }
   },
   "outputs": [
    {
     "data": {
      "text/plain": [
       "'.txt'"
      ]
     },
     "execution_count": 62,
     "metadata": {},
     "output_type": "execute_result"
    }
   ],
   "source": [
    "path1.suffix  # 마지막 경로가 파일일때 확장자를 반환. 확장자가 없을 경우 None 반환"
   ]
  },
  {
   "cell_type": "code",
   "execution_count": 63,
   "metadata": {
    "ExecuteTime": {
     "end_time": "2023-01-02T02:48:21.465512Z",
     "start_time": "2023-01-02T02:48:21.445477Z"
    }
   },
   "outputs": [
    {
     "data": {
      "text/plain": [
       "'my_file'"
      ]
     },
     "execution_count": 63,
     "metadata": {},
     "output_type": "execute_result"
    }
   ],
   "source": [
    "path1.stem # 확장자를 뺀 파일명 또는 디렉토리 반환"
   ]
  },
  {
   "cell_type": "code",
   "execution_count": 68,
   "metadata": {
    "ExecuteTime": {
     "end_time": "2023-01-02T02:51:59.794817Z",
     "start_time": "2023-01-02T02:51:59.778858Z"
    }
   },
   "outputs": [
    {
     "data": {
      "text/plain": [
       "[WindowsPath('test/a1.py'),\n",
       " WindowsPath('test/a2.py'),\n",
       " WindowsPath('test/a3 - 복사본.py'),\n",
       " WindowsPath('test/a3.py'),\n",
       " WindowsPath('test/dir1/a1.py'),\n",
       " WindowsPath('test/dir1/a2.py'),\n",
       " WindowsPath('test/dir2/a1.py'),\n",
       " WindowsPath('test/dir2/a2.py'),\n",
       " WindowsPath('test/dir3/a1.py'),\n",
       " WindowsPath('test/dir3/a2.py')]"
      ]
     },
     "execution_count": 68,
     "metadata": {},
     "output_type": "execute_result"
    }
   ],
   "source": [
    "lst = path.glob(\"**\\*.py\")\n",
    "list(lst)"
   ]
  },
  {
   "cell_type": "code",
   "execution_count": 69,
   "metadata": {
    "ExecuteTime": {
     "end_time": "2023-01-02T02:52:00.324526Z",
     "start_time": "2023-01-02T02:52:00.304494Z"
    }
   },
   "outputs": [
    {
     "data": {
      "text/plain": [
       "[WindowsPath('test/img1.jpg'), WindowsPath('test/img2.jpg')]"
      ]
     },
     "execution_count": 69,
     "metadata": {},
     "output_type": "execute_result"
    }
   ],
   "source": [
    "list(path.glob(\"*.jpg\"))"
   ]
  },
  {
   "cell_type": "code",
   "execution_count": 72,
   "metadata": {
    "ExecuteTime": {
     "end_time": "2023-01-02T03:11:42.750308Z",
     "start_time": "2023-01-02T03:11:42.730311Z"
    }
   },
   "outputs": [],
   "source": [
    "dir_path = Path(\"test3\")"
   ]
  },
  {
   "cell_type": "code",
   "execution_count": 74,
   "metadata": {
    "ExecuteTime": {
     "end_time": "2023-01-02T03:12:42.367469Z",
     "start_time": "2023-01-02T03:12:42.354506Z"
    }
   },
   "outputs": [],
   "source": [
    "dir_path.mkdir(exist_ok=True) # Path객체 경로의 디렉토리 생성.\n",
    "# exist_ok=True : 디렉토리가 있으면 안만들고 없으면 만든다.\n",
    "# exist_ok=False(기본) : 디렉토리가 없으면 만들고 있으면 Exception 발생"
   ]
  },
  {
   "cell_type": "code",
   "execution_count": 75,
   "metadata": {
    "ExecuteTime": {
     "end_time": "2023-01-02T03:13:53.175856Z",
     "start_time": "2023-01-02T03:13:53.155858Z"
    }
   },
   "outputs": [
    {
     "name": "stdout",
     "output_type": "stream",
     "text": [
      "new-test3\n"
     ]
    }
   ],
   "source": [
    "new_path = dir_path.rename(r\"new-test3\")  # 디렉토리/파일의 이름을 변경하고 새경로(Path)를 반환\n",
    "print(new_path)"
   ]
  },
  {
   "cell_type": "code",
   "execution_count": 76,
   "metadata": {
    "ExecuteTime": {
     "end_time": "2023-01-02T03:14:20.099121Z",
     "start_time": "2023-01-02T03:14:20.076084Z"
    }
   },
   "outputs": [
    {
     "data": {
      "text/plain": [
       "WindowsPath('new-test3')"
      ]
     },
     "execution_count": 76,
     "metadata": {},
     "output_type": "execute_result"
    }
   ],
   "source": [
    "new_path"
   ]
  },
  {
   "cell_type": "code",
   "execution_count": 77,
   "metadata": {
    "ExecuteTime": {
     "end_time": "2023-01-02T03:14:41.070434Z",
     "start_time": "2023-01-02T03:14:41.056432Z"
    }
   },
   "outputs": [],
   "source": [
    "# 디렉토리 삭제\n",
    "new_path.rmdir()"
   ]
  },
  {
   "cell_type": "code",
   "execution_count": 78,
   "metadata": {
    "ExecuteTime": {
     "end_time": "2023-01-02T03:15:38.175957Z",
     "start_time": "2023-01-02T03:15:38.164755Z"
    }
   },
   "outputs": [
    {
     "name": "stdout",
     "output_type": "stream",
     "text": [
      "True test\\a1.py\n"
     ]
    }
   ],
   "source": [
    "f_path = path / 'a1.py'\n",
    "print(f_path.is_file(), f_path)"
   ]
  },
  {
   "cell_type": "code",
   "execution_count": 84,
   "metadata": {
    "ExecuteTime": {
     "end_time": "2023-01-02T03:16:54.485656Z",
     "start_time": "2023-01-02T03:16:54.476688Z"
    }
   },
   "outputs": [
    {
     "name": "stdout",
     "output_type": "stream",
     "text": [
      "False test\\a1.py\n"
     ]
    }
   ],
   "source": [
    "# 파일 삭제\n",
    "f_path.unlink(missing_ok=True)\n",
    "print(f_path.is_file(), f_path)"
   ]
  },
  {
   "cell_type": "code",
   "execution_count": 85,
   "metadata": {
    "ExecuteTime": {
     "end_time": "2023-01-02T03:17:23.995717Z",
     "start_time": "2023-01-02T03:17:23.984723Z"
    }
   },
   "outputs": [],
   "source": [
    "for f in path.glob(\"*.py\"):  # 확장자가 .py인 파일 모두 삭제.\n",
    "    f.unlink()"
   ]
  },
  {
   "cell_type": "markdown",
   "metadata": {
    "slideshow": {
     "slide_type": "slide"
    }
   },
   "source": [
    "# 입출력 (IO)\n",
    "\n",
    "## 입출력이란\n",
    "- 프로그램이 사용하려는 외부 자원을 연결하여 데이터를 입력 받거나 출력하는 작업을 IO라고 한다.\n",
    "- 외부 자원\n",
    "    - 파일, 원격지 컴퓨터(외부로 연결되어 있는 컴퓨터), Database 등.\n",
    "- **Stream**\n",
    "    - 입출력 시 **데이터의 흐름을 stream** 이라고 한다.\n",
    "- InputStream \n",
    "    - Program이 외부로 부터 데이터를 읽어 들이는 흐름.\n",
    "- OutputStream \n",
    "    - Program이 외부로 데이터를 써주는 흐름.\n",
    "- InputStream과 OutputStream이 동시에 있는 것은 없다. (데이터는 한쪽으로만 흐른다.)\n",
    "\n",
    "![io](images/ch09_01.png)"
   ]
  },
  {
   "cell_type": "markdown",
   "metadata": {
    "slideshow": {
     "slide_type": "subslide"
    }
   },
   "source": [
    "## IO 코딩 순서\n",
    "![순서](images/ch09_02.png)"
   ]
  },
  {
   "cell_type": "markdown",
   "metadata": {
    "slideshow": {
     "slide_type": "subslide"
    }
   },
   "source": [
    "### 파일 열기(연결)\n",
    "- open() 함수 사용\n",
    "    - 연결된 파일과 입출력 메소드를 제공하는 객체(Stream)를 리턴\n",
    "- 구문\n",
    "    - `open(file, mode='r', encoding=None)`\n",
    "    - 함수 주요 매개변수\n",
    "        - file : 연결할 파일 경로\n",
    "        - mode : 열기 모드\n",
    "        - 모드는 목적, 데이터종류를 조합한다.\n",
    "        - encoding \n",
    "            - 텍스트 파일일 경우 인코딩 방식\n",
    "            - None 또는 생략하면  os 기본 encoding방식을 따른다.\n",
    "                - Windows: cp949/euckr/ANSI\n",
    "                - Linux, Unix: utf-8\n",
    "       -\n",
    "|mode타입|mode문자|설명|\n",
    "|:-|-|-|\n",
    "|목적|(Default) r|읽기-목적의 기본 모드|\n",
    "||w|새로 쓰기 모드(파일이 있어도 없어도 됨)|\n",
    "||a|이어 쓰기 모드|\n",
    "||x|새로 쓰기 모드-연결하려는 파일이 있으면 Exception발생|\n",
    "|데이터종류|b|binary 모드|\n",
    "||(Default) t| Text모드-text데이터 입출력시 사용|\n",
    "    "
   ]
  },
  {
   "cell_type": "markdown",
   "metadata": {
    "slideshow": {
     "slide_type": "subslide"
    }
   },
   "source": [
    "### 출력 메소드\n",
    "\n",
    "- write(출력할 Data)\n",
    "    - 연결된 파일에 `출력할 Data` 출력한다.\n",
    "- writelines(문자열을 가진 컬렉션)\n",
    "    - 리스트, 튜플, 집합이 원소로 가진 문자열들을 한번에 출력한다.\n",
    "    - text 출력일 경우에만 사용가능.\n",
    "    - 원소에 문자열 이외의 타입의 값이 있을 경우 TypeError 발생"
   ]
  },
  {
   "cell_type": "code",
   "execution_count": 88,
   "metadata": {
    "ExecuteTime": {
     "end_time": "2023-01-02T05:37:27.090077Z",
     "start_time": "2023-01-02T05:37:27.070038Z"
    }
   },
   "outputs": [
    {
     "data": {
      "text/plain": [
       "'c:\\\\temp'"
      ]
     },
     "execution_count": 88,
     "metadata": {},
     "output_type": "execute_result"
    }
   ],
   "source": [
    "os.getcwd()"
   ]
  },
  {
   "cell_type": "code",
   "execution_count": 90,
   "metadata": {
    "ExecuteTime": {
     "end_time": "2023-01-02T05:38:31.361756Z",
     "start_time": "2023-01-02T05:38:31.342758Z"
    }
   },
   "outputs": [
    {
     "data": {
      "text/plain": [
       "'C:\\\\Users\\\\jeonj\\\\Desktop\\\\Data_Analysis\\\\01_Python 기초'"
      ]
     },
     "execution_count": 90,
     "metadata": {},
     "output_type": "execute_result"
    }
   ],
   "source": [
    "os.chdir(r\"C:\\Users\\jeonj\\Desktop\\Data_Analysis\\01_Python 기초\")\n",
    "os.getcwd()"
   ]
  },
  {
   "cell_type": "code",
   "execution_count": 91,
   "metadata": {
    "ExecuteTime": {
     "end_time": "2023-01-02T05:38:33.464232Z",
     "start_time": "2023-01-02T05:38:33.449671Z"
    },
    "slideshow": {
     "slide_type": "fragment"
    }
   },
   "outputs": [
    {
     "name": "stdout",
     "output_type": "stream",
     "text": [
      "file_data\\test.txt\n"
     ]
    }
   ],
   "source": [
    "from pathlib import Path\n",
    "# file_data 폴더 아래 text/binary 파일을 쓰기.\n",
    "# 파일 저장할 디렉토리가 없으면 디렉토리를 만든다.\n",
    "dir_path = Path('file_data')\n",
    "dir_path.mkdir(exist_ok=True)\n",
    "write_path = dir_path / \"test.txt\"\n",
    "print(write_path)"
   ]
  },
  {
   "cell_type": "code",
   "execution_count": 99,
   "metadata": {
    "ExecuteTime": {
     "end_time": "2023-01-02T06:16:54.167317Z",
     "start_time": "2023-01-02T06:16:54.148324Z"
    },
    "slideshow": {
     "slide_type": "fragment"
    }
   },
   "outputs": [],
   "source": [
    "# 1. 연결\n",
    "#    1)연결할 파일의 경로: 문자열, Path 객체 - 절대/상대경로\n",
    "#    2) wt - w: 쓰기 모드, t: text(생략가능)\n",
    "fw = open(write_path, mode = \"wt\", encoding=\"utf-8\")\n",
    "# 2. 출력 (w모드)\n",
    "fw.write('abcde\\n')\n",
    "fw.write('가나다라\\n')\n",
    "fw.write('12345')\n",
    "# 연결닫기\n",
    "fw.close()  # 주피터 노트북은 명시해주지 않으면 안끝남"
   ]
  },
  {
   "cell_type": "code",
   "execution_count": 100,
   "metadata": {
    "ExecuteTime": {
     "end_time": "2023-01-02T06:16:54.717315Z",
     "start_time": "2023-01-02T06:16:54.709302Z"
    }
   },
   "outputs": [],
   "source": [
    "txt = \"\"\"안녕하세요.\n",
    "반갑습니다.\n",
    "또 만나요.\"\"\"\n",
    "write_path2 = dir_path / \"test2.txt\"\n",
    "fw = open(write_path2, mode = \"wt\", encoding=\"utf-8\")\n",
    "fw.write(txt)\n",
    "fw.close()"
   ]
  },
  {
   "cell_type": "code",
   "execution_count": 116,
   "metadata": {
    "ExecuteTime": {
     "end_time": "2023-01-02T06:20:50.785690Z",
     "start_time": "2023-01-02T06:20:50.767011Z"
    }
   },
   "outputs": [],
   "source": [
    "txt_list = [\"첫번째 줄\\n\", \"두번째 줄\\n\", \"세번째 줄\\n\"]\n",
    "write_path3 = dir_path / \"test3.txt\"\n",
    "# fw = open(write_path3, mode = \"wt\", encoding=\"utf-8\")\n",
    "fw = open(write_path3, mode = \"at\", encoding=\"utf-8\") # at: 이어쓰기\n",
    "# for txt in txt_list:\n",
    "#     fw.write(txt)\n",
    "fw.writelines(txt_list)\n",
    "fw.close()"
   ]
  },
  {
   "cell_type": "code",
   "execution_count": 123,
   "metadata": {
    "ExecuteTime": {
     "end_time": "2023-01-02T06:28:56.680769Z",
     "start_time": "2023-01-02T06:28:56.665779Z"
    }
   },
   "outputs": [
    {
     "name": "stdout",
     "output_type": "stream",
     "text": [
      "<class '_io.TextIOWrapper'>\n",
      "wt utf-8 file_data\\test3.txt\n",
      "False\n",
      "True\n"
     ]
    }
   ],
   "source": [
    "fw = open(write_path3, mode = \"wt\", encoding=\"utf-8\")\n",
    "print(type(fw))\n",
    "print(fw.mode, fw.encoding, fw.name)\n",
    "print(fw.closed)  # 연결 여부를 bool: 닫히면 True, 연결상태: False\n",
    "fw.close()\n",
    "print(fw.closed)  # 연결 여부를 bool\n",
    "# fw.write('abc')  # fw: 끊어진(닫힌) 연결"
   ]
  },
  {
   "cell_type": "markdown",
   "metadata": {
    "slideshow": {
     "slide_type": "slide"
    }
   },
   "source": [
    "### 입력 메소드\n",
    "- read() : 문자열(text mode), bytes(binary mode) \n",
    "    - 연결된 파일의 내용을 한번에 모두 읽어 들인다.\n",
    "- readline() : 문자열(text mode), bytes(binary mode)\n",
    "    - 한 줄만 읽는다. (한 줄 읽고 커서를 그곳에서 기다림 -> 다음번에 실행하면 다음 줄 읽음)\n",
    "    - text 입력일 경우만 사용가능\n",
    "    - 읽은 라인이 없으면 `빈문자열`을 리턴한다.\n",
    "- readlines() : 리스트\n",
    "    - 한번에 다 읽은 뒤 각각의 라인을 리스트에 원소로 담아 반환한다.\n",
    "- Input Stream (TextIOWrapper, BufferedReader)는 Iterable 타입\n",
    "    - for문을 이용한 라인단위 순차 조회할 수 있다."
   ]
  },
  {
   "cell_type": "code",
   "execution_count": 125,
   "metadata": {
    "ExecuteTime": {
     "end_time": "2023-01-02T06:39:16.058071Z",
     "start_time": "2023-01-02T06:39:16.035034Z"
    },
    "slideshow": {
     "slide_type": "fragment"
    }
   },
   "outputs": [
    {
     "name": "stdout",
     "output_type": "stream",
     "text": [
      "abcde\n",
      "가나다라\n",
      "12345\n"
     ]
    }
   ],
   "source": [
    "# read_path = dir_path / \"test.txt\" # pathlib은 나중에 추가된 것이여서 안먹을 때가 있음\n",
    "read_path = \"file_data/test.txt\"\n",
    "fr = open(read_path, mode='rt', encoding=\"utf-8\") # 모드: r - read, t - text파일, encoding: default는 OS 인코딩 방식(win: cp949, mac/리눅스: UTF-8)\n",
    "# 2. 읽기 - read() : 한번에 전체를 다 읽는다.\n",
    "r_txt = fr.read()\n",
    "print(r_txt)\n",
    "# 3. 연결 닫기\n",
    "fr.close()"
   ]
  },
  {
   "cell_type": "code",
   "execution_count": 130,
   "metadata": {
    "ExecuteTime": {
     "end_time": "2023-01-02T06:45:42.638925Z",
     "start_time": "2023-01-02T06:45:42.613930Z"
    }
   },
   "outputs": [
    {
     "name": "stdout",
     "output_type": "stream",
     "text": [
      "abcde\n",
      "가나다라\n",
      "\n",
      "12345\n",
      "\n"
     ]
    }
   ],
   "source": [
    "fr = open(read_path, mode='rt', encoding=\"utf-8\")\n",
    "print(fr.readline(), end='') # 첫번째 줄을 읽어들인다.\n",
    "print(fr.readline()) # 두번째 줄을 읽어들인다.\n",
    "print(fr.readline()) # 세번째 줄을 읽어들인다.\n",
    "print(fr.readline()) # 네번째 줄을 읽어들인다. - 없는 줄일 경우 == : 빈문자열 반환\n",
    "fr.close()"
   ]
  },
  {
   "cell_type": "code",
   "execution_count": null,
   "metadata": {},
   "outputs": [],
   "source": [
    "# for i in range(5): # 5줄만 읽고 싶을 때\n",
    "#     readline()"
   ]
  },
  {
   "cell_type": "code",
   "execution_count": 131,
   "metadata": {
    "ExecuteTime": {
     "end_time": "2023-01-02T06:47:36.152742Z",
     "start_time": "2023-01-02T06:47:36.133744Z"
    }
   },
   "outputs": [
    {
     "name": "stdout",
     "output_type": "stream",
     "text": [
      "1. abcde\n",
      "2. 가나다라\n",
      "3. 12345"
     ]
    }
   ],
   "source": [
    "fr = open(read_path, mode='rt', encoding=\"utf-8\")\n",
    "line_num = 0\n",
    "while True:\n",
    "    txt = fr.readline()\n",
    "    if not txt: # 빈문자열이라면 -> 다 읽었다.\n",
    "        break\n",
    "    line_num += 1\n",
    "    print(str(line_num)+\". \"+txt, end='')\n",
    "fr.close()"
   ]
  },
  {
   "cell_type": "code",
   "execution_count": 134,
   "metadata": {
    "ExecuteTime": {
     "end_time": "2023-01-02T06:51:28.736409Z",
     "start_time": "2023-01-02T06:51:28.725449Z"
    }
   },
   "outputs": [
    {
     "name": "stdout",
     "output_type": "stream",
     "text": [
      "['abcde\\n', '가나다라\\n', '12345']\n",
      "1. abcde\n",
      "2. 가나다라\n",
      "3. 12345"
     ]
    }
   ],
   "source": [
    "# readlines()\n",
    "fr = open(read_path, mode='rt', encoding=\"utf-8\")\n",
    "txt_list = fr.readlines()\n",
    "print(txt_list)\n",
    "for idx, txt in enumerate(txt_list, start=1):\n",
    "    print(f\"{idx}. {txt}\", end=\"\")\n",
    "fr.close()"
   ]
  },
  {
   "cell_type": "code",
   "execution_count": 138,
   "metadata": {
    "ExecuteTime": {
     "end_time": "2023-01-02T06:54:05.683891Z",
     "start_time": "2023-01-02T06:54:05.670960Z"
    }
   },
   "outputs": [
    {
     "name": "stdout",
     "output_type": "stream",
     "text": [
      "1. abcde\n",
      "2. 가나다라\n",
      "3. 12345"
     ]
    }
   ],
   "source": [
    "fr = open(read_path, mode='rt', encoding=\"utf-8\")\n",
    "# read 모드의 InputStream 객체는 Iterable 타입 -> for in 문에서 사용가능 -> 한번 반복시마다 한줄씩 반환.\n",
    "for idx, txt in enumerate(fr, start=1):\n",
    "    print(f\"{idx}. {txt}\", end=\"\")\n",
    "    \n",
    "fr.close()"
   ]
  },
  {
   "cell_type": "markdown",
   "metadata": {
    "slideshow": {
     "slide_type": "slide"
    }
   },
   "source": [
    "## with block\n",
    "\n",
    "파일과 입출력 작업이 다 끝나면 반드시 연결을 닫아야 한다. 매번 연결을 닫는 작업을 하는 것이 번거롭고 실수로 안 닫을 경우 문제가 생길 수 있다. **with block은 block을 벗어나면 자동으로 연결을 닫아 준다.** 그래서 연결을 닫는 코드를 생략할 수 있다.\n",
    "\n",
    "- 구문\n",
    "```python\n",
    "with open() as 변수: # `변수`는 open()이 반환하는 Stream객체를 참조한다.\n",
    "    입출력 작업      # 변수를 이용해 입출력 작업을 처리한다.\n",
    "# with block을 빠져 나오면 close()가 자동으로 실행된다.\n",
    "```"
   ]
  },
  {
   "cell_type": "markdown",
   "metadata": {
    "slideshow": {
     "slide_type": "fragment"
    }
   },
   "source": [
    "```python\n",
    "fw = open(대상파일, 모드)\n",
    "with open(대상파일, 모드) as fw:\n",
    "    변수를 이용해서 입출력\n",
    "    블록\n",
    "    블록\n",
    "with블록 빠져나오면 -> close() 자동으로 처리\n",
    "```"
   ]
  },
  {
   "cell_type": "code",
   "execution_count": 141,
   "metadata": {
    "ExecuteTime": {
     "end_time": "2023-01-02T07:26:30.863061Z",
     "start_time": "2023-01-02T07:26:30.850312Z"
    }
   },
   "outputs": [
    {
     "name": "stdout",
     "output_type": "stream",
     "text": [
      "종료-with block 밖\n",
      "True\n"
     ]
    }
   ],
   "source": [
    "write_path = \"file_data/my_text.txt\"\n",
    "with open(write_path, \"wt\", encoding='utf-8') as fw:\n",
    "    fw.write(\"A\")\n",
    "    fw.write(\"B\\n\")\n",
    "    fw.write(\"3\\n\")\n",
    "#     fw.close()\n",
    "print(\"종료-with block 밖\")\n",
    "print(fw.closed)"
   ]
  },
  {
   "cell_type": "code",
   "execution_count": 142,
   "metadata": {
    "ExecuteTime": {
     "end_time": "2023-01-02T07:27:56.198293Z",
     "start_time": "2023-01-02T07:27:56.174295Z"
    }
   },
   "outputs": [
    {
     "name": "stdout",
     "output_type": "stream",
     "text": [
      "AB\n",
      "3\n",
      "\n",
      "종료 True\n"
     ]
    }
   ],
   "source": [
    "with open(write_path, 'rt', encoding='utf-8') as fr:\n",
    "    print(fr.read())\n",
    "print(\"종료\", fr.closed)"
   ]
  },
  {
   "cell_type": "markdown",
   "metadata": {},
   "source": [
    "## binary data를 I/O"
   ]
  },
  {
   "cell_type": "code",
   "execution_count": 143,
   "metadata": {
    "ExecuteTime": {
     "end_time": "2023-01-02T07:42:15.481569Z",
     "start_time": "2023-01-02T07:42:15.460568Z"
    }
   },
   "outputs": [],
   "source": [
    "# binary data를 I/O\n",
    "# copy\n",
    "def copy_file(src:str, target:str):\n",
    "    \"\"\"\n",
    "    src경로의 파일을 target경로로 카피\n",
    "    \"\"\"\n",
    "    # InputStream-src, OutputStream-target\n",
    "    # 1. 연결\n",
    "    fr = open(src, mode='rb')\n",
    "    fw = open(target, mode='wb')\n",
    "    # 2. I/O\n",
    "    r_data = fr.read()  # 읽기\n",
    "    fw.write(r_data)    # 출력\n",
    "    print(type(fr), type(fw))\n",
    "    print(type(r_data))\n",
    "    # 3. close\n",
    "    fr.close()\n",
    "    fw.close()"
   ]
  },
  {
   "cell_type": "code",
   "execution_count": 145,
   "metadata": {
    "ExecuteTime": {
     "end_time": "2023-01-02T07:45:58.765014Z",
     "start_time": "2023-01-02T07:45:58.750016Z"
    }
   },
   "outputs": [
    {
     "name": "stdout",
     "output_type": "stream",
     "text": [
      "<class '_io.BufferedReader'> <class '_io.BufferedWriter'>\n",
      "<class 'bytes'>\n"
     ]
    }
   ],
   "source": [
    "import os\n",
    "src = os.path.join(\"file_data\", 'img.png')\n",
    "target = os.path.join(\"file_data\", \"img2.png\")\n",
    "# print(type(src))\n",
    "# print(src, target)\n",
    "copy_file(src, target)"
   ]
  },
  {
   "cell_type": "code",
   "execution_count": 147,
   "metadata": {
    "ExecuteTime": {
     "end_time": "2023-01-02T07:47:40.236253Z",
     "start_time": "2023-01-02T07:47:40.218215Z"
    }
   },
   "outputs": [
    {
     "name": "stdout",
     "output_type": "stream",
     "text": [
      "10\n"
     ]
    }
   ],
   "source": [
    "i = 10\n",
    "print(i) # 정수 i를 문자열(str)로 변환해서 출력"
   ]
  },
  {
   "cell_type": "code",
   "execution_count": 150,
   "metadata": {
    "ExecuteTime": {
     "end_time": "2023-01-02T07:49:56.936049Z",
     "start_time": "2023-01-02T07:49:56.920051Z"
    }
   },
   "outputs": [],
   "source": [
    "with open(\"a.txt\", 'wt') as fw:\n",
    "#     fw.write(i) # t모드 -> text를 출력 -> str\n",
    "    fw.write(str(i))"
   ]
  },
  {
   "cell_type": "code",
   "execution_count": 152,
   "metadata": {
    "ExecuteTime": {
     "end_time": "2023-01-02T07:52:03.305030Z",
     "start_time": "2023-01-02T07:52:03.285897Z"
    }
   },
   "outputs": [
    {
     "name": "stdout",
     "output_type": "stream",
     "text": [
      "30\n"
     ]
    }
   ],
   "source": [
    "with open(\"a.txt\", 'rt') as fr:\n",
    "    a = fr.read()\n",
    "    print(int(a) + 20) # a: str"
   ]
  },
  {
   "cell_type": "code",
   "execution_count": 153,
   "metadata": {
    "ExecuteTime": {
     "end_time": "2023-01-02T08:00:15.478001Z",
     "start_time": "2023-01-02T08:00:15.465994Z"
    }
   },
   "outputs": [],
   "source": [
    "i = 10\n",
    "# int i의 값(10)을 출력 -> binary 모드로 출력 -> bytes 타입으로 변환해서 출력\n",
    "i_bytes = i.to_bytes(1, byteorder='little', signed=True)\n",
    "# 1: 크기 - 1byte 크기로 변환, byteorder: little, big\n",
    "with open(\"file_data/int.dat\", 'wb') as fw:\n",
    "    fw.write(i_bytes)"
   ]
  },
  {
   "cell_type": "code",
   "execution_count": 160,
   "metadata": {
    "ExecuteTime": {
     "end_time": "2023-01-02T08:04:50.407005Z",
     "start_time": "2023-01-02T08:04:50.395007Z"
    }
   },
   "outputs": [
    {
     "name": "stdout",
     "output_type": "stream",
     "text": [
      "<class 'bytes'>\n",
      "110\n"
     ]
    }
   ],
   "source": [
    "with open(\"file_data/int.dat\", 'rb') as fr:\n",
    "    r_data = fr.read()\n",
    "    print(type(r_data))\n",
    "#     print(r_data)\n",
    "#     bytes로 읽은 것을 int로 변환\n",
    "    i2 = int.from_bytes(r_data, byteorder='little', signed=True)\n",
    "    print(i2 + 100)"
   ]
  },
  {
   "cell_type": "markdown",
   "metadata": {
    "slideshow": {
     "slide_type": "slide"
    }
   },
   "source": [
    "# pickle 모듈을 이용한 객체 직렬화\n",
    "\n",
    "## 객체 직렬화(Object Serialization)\n",
    "- 객체의 속성값들을 bytes로 변환해 출력하는 것을 객체 직렬화(Object Serialization) 이라고 한다.\n",
    "- bytes로 출력된 데이터를 읽어 객체화 하는 것을 객체 역직렬화(Object Deserialization) 이라고 한다."
   ]
  },
  {
   "cell_type": "markdown",
   "metadata": {
    "slideshow": {
     "slide_type": "fragment"
    }
   },
   "source": [
    "### pickle\n",
    "- 객체 파일 입출력을 위한 파이썬 모듈\n",
    "- open() 시 **binary mode**로 설정한다.\n",
    "- 저장시 파일 확장자는 보통 `pkl` 이나 `pickle` 로 한다.\n",
    "- ex)\n",
    "```python\n",
    "fw = open(\"data.pkl\", \"wb\") # 객체를 pickle에 저장하기 위한 output stream 생성\n",
    "fr = open(\"data.pkl\", \"rb\") # 파일에 저장된 객체를 읽어오기 위한 input stream 생성\n",
    "```\n",
    "- **메소드**\n",
    "    - dump(저장할 객체, fw) : 출력\n",
    "    - load(fr): 입력 - 읽은 객체를 반환한다."
   ]
  },
  {
   "cell_type": "code",
   "execution_count": null,
   "metadata": {
    "slideshow": {
     "slide_type": "fragment"
    }
   },
   "outputs": [],
   "source": []
  },
  {
   "cell_type": "markdown",
   "metadata": {
    "slideshow": {
     "slide_type": "skip"
    }
   },
   "source": [
    "# TODO"
   ]
  },
  {
   "cell_type": "markdown",
   "metadata": {
    "slideshow": {
     "slide_type": "skip"
    }
   },
   "source": [
    "- 간단한 터미널 기반 메모장\n",
    "    1. 사용자로부터 파일명을 입력받는다.\n",
    "    2. 사용자로부터 파일에 저장할 문장을 입력받아서 파일에 저장한다.\n",
    "        - 한줄씩 입력받는다.\n",
    "        - 사용자가 !q 를 입력하면 저장후 종료한다.\n",
    "    3. 사용자가 저장한 파일을 읽어서 출력한다.\n"
   ]
  },
  {
   "cell_type": "code",
   "execution_count": 203,
   "metadata": {
    "ExecuteTime": {
     "end_time": "2023-01-02T08:50:04.132528Z",
     "start_time": "2023-01-02T08:50:04.112470Z"
    },
    "slideshow": {
     "slide_type": "skip"
    }
   },
   "outputs": [],
   "source": [
    "def simple_memo():\n",
    "    global file_name \n",
    "    file_name = input(\"저장할 파일명을 입력하세요\\n파일명: \")\n",
    "    print(f\"====================\\n{file_name}에 저장합니다.\\n내용을 입력하세요.\\n====================\")\n",
    "    with open(file_name, 'wt', encoding=\"utf-8\") as fw:\n",
    "        while 1:\n",
    "            text = input()\n",
    "            if text == \"!q\":\n",
    "                print(\"종료\")\n",
    "                break\n",
    "            fw.write(f\"{text}\\n\")\n",
    "def read():\n",
    "    with open(file_name, 'rt', encoding=\"utf-8\") as fr:\n",
    "        read_text = fr.read()\n",
    "        print(f\"\\n-----------파일 내용-----------\\n{read_text}\")"
   ]
  },
  {
   "cell_type": "code",
   "execution_count": 204,
   "metadata": {
    "ExecuteTime": {
     "end_time": "2023-01-02T08:50:27.014892Z",
     "start_time": "2023-01-02T08:50:05.130181Z"
    }
   },
   "outputs": [
    {
     "name": "stdout",
     "output_type": "stream",
     "text": [
      "저장할 파일명을 입력하세요\n",
      "파일명: my_memo.txt\n",
      "====================\n",
      "my_memo.txt에 저장합니다.\n",
      "내용을 입력하세요.\n",
      "====================\n",
      "안녕하세요\n",
      "전종민입니다\n",
      "만나서 반갑습니다\n",
      "2023-01-02\n",
      "!q\n",
      "종료\n"
     ]
    }
   ],
   "source": [
    "simple_memo()"
   ]
  },
  {
   "cell_type": "code",
   "execution_count": 205,
   "metadata": {
    "ExecuteTime": {
     "end_time": "2023-01-02T08:50:28.315420Z",
     "start_time": "2023-01-02T08:50:28.305423Z"
    }
   },
   "outputs": [
    {
     "name": "stdout",
     "output_type": "stream",
     "text": [
      "\n",
      "-----------파일 내용-----------\n",
      "안녕하세요\n",
      "전종민입니다\n",
      "만나서 반갑습니다\n",
      "2023-01-02\n",
      "\n"
     ]
    }
   ],
   "source": [
    "read()"
   ]
  },
  {
   "cell_type": "markdown",
   "metadata": {},
   "source": [
    "---------------------------"
   ]
  },
  {
   "cell_type": "code",
   "execution_count": 6,
   "metadata": {
    "ExecuteTime": {
     "end_time": "2023-01-03T00:54:32.440895Z",
     "start_time": "2023-01-03T00:54:08.838280Z"
    }
   },
   "outputs": [
    {
     "name": "stdout",
     "output_type": "stream",
     "text": [
      "저장할 파일명을 입력하세요.\n",
      "파일명: abc.txt\n",
      "abc.txt에 저장합니다.\n",
      "====================================\n",
      "저장할 내용을 입력하세요.\n",
      "==============================\n",
      ">eifowjfuqp1\n",
      ">210938412\n",
      ">diofjew\n",
      ">120disoe\n",
      ">ㄷ저ㅐㄹㅇㄴ\n",
      ">3209ㅓㅇ내ㅑ\n",
      ">1ㅑ재ㅓㅇㄴ\n",
      ">!q\n",
      "종료\n"
     ]
    }
   ],
   "source": [
    "# 정답 예시\n",
    "print(\"저장할 파일명을 입력하세요.\")\n",
    "file_name = input(\"파일명: \")\n",
    "print(f\"{file_name}에 저장합니다.\")\n",
    "print(\"====================================\")\n",
    "with open(file_name, 'wt', encoding='utf-8') as fw:\n",
    "    print(\"저장할 내용을 입력하세요.\")\n",
    "    print('='*30)\n",
    "    while True:\n",
    "        line_text = input('>')\n",
    "        if line_text == \"!q\":\n",
    "            break\n",
    "        fw.write(line_text+'\\n')\n",
    "print(\"종료\")"
   ]
  },
  {
   "cell_type": "code",
   "execution_count": 7,
   "metadata": {
    "ExecuteTime": {
     "end_time": "2023-01-03T00:57:03.211498Z",
     "start_time": "2023-01-03T00:57:03.192459Z"
    }
   },
   "outputs": [
    {
     "name": "stdout",
     "output_type": "stream",
     "text": [
      "Writing my_memo.py\n"
     ]
    }
   ],
   "source": [
    "%%writefile my_memo.py\n",
    "# 주피터 노트북 명령어 (매직 커맨드)\n",
    "# %%(셀 전체 명령어)\n",
    "# %%writefile 파일명 -> 실행하면 cell의 내용을 파일에 출력\n",
    "def memo():\n",
    "    print(\"저장할 파일명을 입력하세요.\")\n",
    "    file_name = input(\"파일명: \")\n",
    "    print(f\"{file_name}에 저장합니다.\")\n",
    "    print(\"====================================\")\n",
    "    with open(file_name, 'wt', encoding='utf-8') as fw:\n",
    "        print(\"저장할 내용을 입력하세요.\")\n",
    "        print('='*30)\n",
    "        while True:\n",
    "            line_text = input('>')\n",
    "            if line_text == \"!q\":\n",
    "                break\n",
    "            fw.write(line_text+'\\n')\n",
    "    print(\"종료\")"
   ]
  },
  {
   "cell_type": "code",
   "execution_count": null,
   "metadata": {
    "ExecuteTime": {
     "end_time": "2023-01-03T01:00:40.256776Z",
     "start_time": "2023-01-03T01:00:40.241236Z"
    }
   },
   "outputs": [],
   "source": [
    "# %load my_memo.py -> my_memo.py의 내용을 cell에 불러온다.\n",
    "# 주피터 노트북 명령어 (매직 커맨드)\n",
    "# %%(셀 전체 명령어)\n",
    "# %%writefile 파일명 -> 실행하면 cell의 내용을 파일에 출력\n",
    "def memo():\n",
    "    print(\"저장할 파일명을 입력하세요.\")\n",
    "    file_name = input(\"파일명: \")\n",
    "    print(f\"{file_name}에 저장합니다.\")\n",
    "    print(\"====================================\")\n",
    "    with open(file_name, 'wt', encoding='utf-8') as fw:\n",
    "        print(\"저장할 내용을 입력하세요.\")\n",
    "        print('='*30)\n",
    "        while True:\n",
    "            line_text = input('>')\n",
    "            if line_text == \"!q\":\n",
    "                break\n",
    "            fw.write(line_text+'\\n')\n",
    "    print(\"종료\")\n"
   ]
  },
  {
   "cell_type": "code",
   "execution_count": 10,
   "metadata": {
    "ExecuteTime": {
     "end_time": "2023-01-03T01:02:38.389905Z",
     "start_time": "2023-01-03T01:02:20.356807Z"
    }
   },
   "outputs": [
    {
     "name": "stdout",
     "output_type": "stream",
     "text": [
      "저장할 파일명을 입력하세요.\n",
      "파일명: abc.txt\n",
      "abc.txt에 저장합니다.\n",
      "====================================\n",
      "저장할 내용을 입력하세요.\n",
      "==============================\n",
      ">djiofoiej\n",
      ">129210jois\n",
      ">oijoiomds\n",
      ">1290ejois\n",
      ">wqoijodq1\n",
      ">!q\n",
      "종료\n"
     ]
    }
   ],
   "source": [
    "from my_memo import memo\n",
    "memo()"
   ]
  },
  {
   "cell_type": "markdown",
   "metadata": {
    "slideshow": {
     "slide_type": "skip"
    }
   },
   "source": [
    "- member.csv 파일을 읽어서 각 열의 값을 배열에 담는다.    \n",
    "이름,나이,주소  형태의 csv를 읽어    \n",
    "```python\n",
    "names = []\n",
    "ages =[]\n",
    "address =[]    \n",
    "```\n",
    "배열에 넣는다. \n",
    "    - 단 첫줄은 head이므로 읽지 않는다.\n",
    "    - 참고 함수: 문자열 split(), for문 관련 enumerate()\n",
    "\n"
   ]
  },
  {
   "cell_type": "markdown",
   "metadata": {
    "slideshow": {
     "slide_type": "skip"
    }
   },
   "source": [
    "> **CSV (Comma Separated Value)** 파일\n",
    "> - 데이터들을 정형화(표)된 형태로 텍스트파일에 저장하는 방식\n",
    "> - 하나의 데이터는 한줄에 표시. (데이터 구분자는 엔터)\n",
    "> - 하나의 데이터를 구성하는 값들(속성)들은 , 로 구분\n",
    ">     - tab으로 구분하는 경우 TSV (Tab Separated Value)\n",
    ">     - 각 속성값들은 \" \" 로 감싸기도 한다.\n",
    "> - 텍스트기반\n",
    "> - 파일 확장자는 `.csv`, `.tsv` 로 준다."
   ]
  },
  {
   "cell_type": "code",
   "execution_count": 24,
   "metadata": {
    "ExecuteTime": {
     "end_time": "2023-01-03T01:50:26.699550Z",
     "start_time": "2023-01-03T01:50:26.679548Z"
    }
   },
   "outputs": [
    {
     "name": "stdout",
     "output_type": "stream",
     "text": [
      "['홍길동', '김영수', '박영희', '이순신', '유관순'] ['20', '30', '23', '17', '27'] ['서울', '인천', '부산', '서울', '광주']\n"
     ]
    }
   ],
   "source": [
    "file_name = \"member.csv\"\n",
    "with open(file_name, \"rt\", encoding=\"utf-8\") as fr:\n",
    "    ln1, ln2, ln3 = fr.readline().split(',')\n",
    "    names = []\n",
    "    ages = []\n",
    "    address = []\n",
    "    list_elements = fr.readlines()\n",
    "    for i in list_elements:\n",
    "        le1, le2, le3 = i.split(',')\n",
    "        names.append(le1)\n",
    "        ages.append(le2)\n",
    "        address.append(le3.rstrip())\n",
    "    print(names, ages, address)"
   ]
  },
  {
   "cell_type": "code",
   "execution_count": null,
   "metadata": {},
   "outputs": [],
   "source": [
    "\n"
   ]
  }
 ],
 "metadata": {
  "kernelspec": {
   "display_name": "Python 3 (ipykernel)",
   "language": "python",
   "name": "python3"
  },
  "language_info": {
   "codemirror_mode": {
    "name": "ipython",
    "version": 3
   },
   "file_extension": ".py",
   "mimetype": "text/x-python",
   "name": "python",
   "nbconvert_exporter": "python",
   "pygments_lexer": "ipython3",
   "version": "3.9.13"
  },
  "toc": {
   "base_numbering": 1,
   "nav_menu": {},
   "number_sections": true,
   "sideBar": true,
   "skip_h1_title": false,
   "title_cell": "Table of Contents",
   "title_sidebar": "Contents",
   "toc_cell": false,
   "toc_position": {},
   "toc_section_display": true,
   "toc_window_display": false
  },
  "varInspector": {
   "cols": {
    "lenName": 16,
    "lenType": 16,
    "lenVar": 40
   },
   "kernels_config": {
    "python": {
     "delete_cmd_postfix": "",
     "delete_cmd_prefix": "del ",
     "library": "var_list.py",
     "varRefreshCmd": "print(var_dic_list())"
    },
    "r": {
     "delete_cmd_postfix": ") ",
     "delete_cmd_prefix": "rm(",
     "library": "var_list.r",
     "varRefreshCmd": "cat(var_dic_list()) "
    }
   },
   "types_to_exclude": [
    "module",
    "function",
    "builtin_function_or_method",
    "instance",
    "_Feature"
   ],
   "window_display": false
  }
 },
 "nbformat": 4,
 "nbformat_minor": 4
}
