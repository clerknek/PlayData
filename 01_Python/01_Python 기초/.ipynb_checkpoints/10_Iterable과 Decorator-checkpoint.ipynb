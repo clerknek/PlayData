{
 "cells": [
  {
   "cell_type": "markdown",
   "id": "562c702d",
   "metadata": {
    "slideshow": {
     "slide_type": "slide"
    }
   },
   "source": [
    "# Iterator\n",
    "\n",
    "- **Iterable**\n",
    "    - 여러개의 데이터를 하나씩 또는 한 단위씩 제공하는 객체.\n",
    "    - Iterator객체를 반환하는 `__iter__()` 특수 메소드를 정의해야 한다.\n",
    "        - `__iter__()`는 `iter(Iterable)` 내장함수에 의해 호출된다. \n",
    "- **Iterator**\n",
    "    - 자신을 생성한 Iterable의 값들을 하나씩 또는 한 단위씩 제공하는 객체\n",
    "    - Iterable의 값을 제공하는 `__next__()` 특수 메소드를 정의한다.\n",
    "        - `__next__()` 는 `next(Iterator)` 내정함수에 의해 호출된다.\n",
    "        - 더 이상 제공할 값이 없을 경우 **StopIteration** Exception을 발생시켜야 한다."
   ]
  },
  {
   "cell_type": "code",
   "execution_count": null,
   "id": "fa567855",
   "metadata": {},
   "outputs": [],
   "source": [
    "# list -> literable 타입\n",
    "# list_iterator -> list의 iterable"
   ]
  },
  {
   "cell_type": "code",
   "execution_count": 4,
   "id": "728afb9b",
   "metadata": {
    "ExecuteTime": {
     "end_time": "2023-01-03T03:30:01.255304Z",
     "start_time": "2023-01-03T03:30:01.241347Z"
    }
   },
   "outputs": [
    {
     "name": "stdout",
     "output_type": "stream",
     "text": [
      "<class 'list_iterator'>\n"
     ]
    }
   ],
   "source": [
    "l = [1,2,3] # iterable\n",
    "l_iterator = iter(l) # iterator를 조회 -> 리스트가 가진 값들을 하나씩 제공해부는 역할.\n",
    "print(type(l_iterator))"
   ]
  },
  {
   "cell_type": "code",
   "execution_count": 5,
   "id": "3df57767",
   "metadata": {
    "ExecuteTime": {
     "end_time": "2023-01-03T03:31:03.588350Z",
     "start_time": "2023-01-03T03:31:03.566445Z"
    }
   },
   "outputs": [
    {
     "name": "stdout",
     "output_type": "stream",
     "text": [
      "1\n"
     ]
    }
   ],
   "source": [
    "# 리스트 원소들을 list iterator를 이용해서 하나씩 조합\n",
    "print(next(l_iterator)) # l_iterator.__next__()"
   ]
  },
  {
   "cell_type": "code",
   "execution_count": 6,
   "id": "b5ee9cd3",
   "metadata": {
    "ExecuteTime": {
     "end_time": "2023-01-03T03:31:11.090257Z",
     "start_time": "2023-01-03T03:31:11.060051Z"
    }
   },
   "outputs": [
    {
     "name": "stdout",
     "output_type": "stream",
     "text": [
      "2\n"
     ]
    }
   ],
   "source": [
    "print(next(l_iterator))"
   ]
  },
  {
   "cell_type": "code",
   "execution_count": 7,
   "id": "511fb71f",
   "metadata": {
    "ExecuteTime": {
     "end_time": "2023-01-03T03:31:16.617177Z",
     "start_time": "2023-01-03T03:31:16.603177Z"
    }
   },
   "outputs": [
    {
     "name": "stdout",
     "output_type": "stream",
     "text": [
      "3\n"
     ]
    }
   ],
   "source": [
    "print(next(l_iterator))"
   ]
  },
  {
   "cell_type": "code",
   "execution_count": 8,
   "id": "b03cd71c",
   "metadata": {
    "ExecuteTime": {
     "end_time": "2023-01-03T03:31:21.304474Z",
     "start_time": "2023-01-03T03:31:21.278510Z"
    }
   },
   "outputs": [
    {
     "ename": "StopIteration",
     "evalue": "",
     "output_type": "error",
     "traceback": [
      "\u001b[1;31m---------------------------------------------------------------------------\u001b[0m",
      "\u001b[1;31mStopIteration\u001b[0m                             Traceback (most recent call last)",
      "\u001b[1;32m~\\AppData\\Local\\Temp\\ipykernel_6864\\2903310822.py\u001b[0m in \u001b[0;36m<module>\u001b[1;34m\u001b[0m\n\u001b[1;32m----> 1\u001b[1;33m \u001b[0mprint\u001b[0m\u001b[1;33m(\u001b[0m\u001b[0mnext\u001b[0m\u001b[1;33m(\u001b[0m\u001b[0ml_iterator\u001b[0m\u001b[1;33m)\u001b[0m\u001b[1;33m)\u001b[0m\u001b[1;33m\u001b[0m\u001b[1;33m\u001b[0m\u001b[0m\n\u001b[0m",
      "\u001b[1;31mStopIteration\u001b[0m: "
     ]
    }
   ],
   "source": [
    "print(next(l_iterator))"
   ]
  },
  {
   "cell_type": "markdown",
   "id": "ad311a49",
   "metadata": {
    "slideshow": {
     "slide_type": "subslide"
    }
   },
   "source": [
    "## for in 문 Iterable의 값을 순환반복하는 과정\n",
    "\n",
    "1. 반복 조회할 iterable객체의 __iter__() 를 호출 하여 Iterator를 구한다.\n",
    "1. 매 반복마다 Iterator의 __next__() 를 호출하여 다음 원소를 조회한다.\n",
    "1. 모든 원소들이 다 제공해 StopIteration Exception이 발생하면 반복문을 멈추고 빠져나온다."
   ]
  },
  {
   "cell_type": "code",
   "execution_count": 13,
   "id": "788248ac",
   "metadata": {
    "ExecuteTime": {
     "end_time": "2023-01-03T03:36:53.487661Z",
     "start_time": "2023-01-03T03:36:53.470665Z"
    }
   },
   "outputs": [],
   "source": [
    "# for in 문을 구현\n",
    "def for_in(iterable):\n",
    "    \"\"\"\n",
    "    iterable의 값을 모두 출력하는 함수 -> for in 문을 구현\n",
    "    \"\"\"\n",
    "    iterator = iter(iterable)\n",
    "    while True:\n",
    "        try:\n",
    "            v = next(iterator)\n",
    "            print(v)\n",
    "        except: # StopIteration 예외가 발생하려면 break하고 반복문을 중단\n",
    "            break"
   ]
  },
  {
   "cell_type": "code",
   "execution_count": 14,
   "id": "e2847c64",
   "metadata": {
    "ExecuteTime": {
     "end_time": "2023-01-03T03:36:53.865183Z",
     "start_time": "2023-01-03T03:36:53.847140Z"
    }
   },
   "outputs": [
    {
     "name": "stdout",
     "output_type": "stream",
     "text": [
      "1\n",
      "2\n",
      "3\n"
     ]
    }
   ],
   "source": [
    "for v in l:\n",
    "    print(v)"
   ]
  },
  {
   "cell_type": "code",
   "execution_count": 15,
   "id": "62b3993a",
   "metadata": {
    "ExecuteTime": {
     "end_time": "2023-01-03T03:36:54.439789Z",
     "start_time": "2023-01-03T03:36:54.421778Z"
    },
    "scrolled": true
   },
   "outputs": [
    {
     "name": "stdout",
     "output_type": "stream",
     "text": [
      "1\n",
      "2\n",
      "3\n"
     ]
    }
   ],
   "source": [
    "for_in(l)"
   ]
  },
  {
   "cell_type": "code",
   "execution_count": 18,
   "id": "28ebbe30",
   "metadata": {
    "ExecuteTime": {
     "end_time": "2023-01-03T05:21:40.672088Z",
     "start_time": "2023-01-03T05:21:40.655089Z"
    }
   },
   "outputs": [],
   "source": [
    "# Iterable과 Iterator를 구현\n",
    "# Iterable과 Iterator를 다른 클래스로 구현\n",
    "# Iterable\n",
    "class MyIterable:\n",
    "    def __init__(self, *args): \n",
    "        \"\"\"*args: 제공해줄 원소들을 가변인자로 받는다.\"\"\"\n",
    "        self.values = args # 튜플\n",
    "        \n",
    "    def __str__(self):\n",
    "        \"\"\"제공할 원소들을 튜플을 문자열로 반환.\"\"\"\n",
    "        return str(self.values)\n",
    "    \n",
    "    def __iter__(self):\n",
    "        \"\"\"iterable은 __iter__()를 반드시 재정의 해야한다.\n",
    "        Iterator 객체를 생성해서 반환하도록 처리\"\"\"\n",
    "        return MyIterator(self.values) # MyIterator가 MyIterable의 values값을 사용할 수 있도록 전달."
   ]
  },
  {
   "cell_type": "code",
   "execution_count": 19,
   "id": "59b2b7b6",
   "metadata": {
    "ExecuteTime": {
     "end_time": "2023-01-03T05:31:31.550869Z",
     "start_time": "2023-01-03T05:31:31.537020Z"
    }
   },
   "outputs": [],
   "source": [
    "class MyIterator:\n",
    "    def __init__(self, values):\n",
    "        \"\"\"Iterator의 initializer()에서는 Iterable의 원소들을 받아야 한다. (Iterable 객체 또는 그 원소들을 받도록 처리한다.)\"\"\"\n",
    "        self.values = values\n",
    "        self.index = 0 # 몇번째 원소까지 제공했는지 상태를 저장할 attribute\n",
    "    \n",
    "    def __next__(self):\n",
    "        \"\"\"next(iterator) 했을 때 호출된 메소드. 다음 원소를 제공. 제공할 다음 원소가 없으면 StopIteration Exception을 발생시킨다.\"\"\"\n",
    "        # self.values의 값을 하나씩 조회해서 return\n",
    "        if len(self.values) == self.index:\n",
    "            raise StopIteration()\n",
    "        ret_value = self.values[self.index]\n",
    "        self.index += 1\n",
    "        return ret_value"
   ]
  },
  {
   "cell_type": "code",
   "execution_count": 23,
   "id": "96220dac",
   "metadata": {
    "ExecuteTime": {
     "end_time": "2023-01-03T05:33:52.753367Z",
     "start_time": "2023-01-03T05:33:52.739377Z"
    }
   },
   "outputs": [
    {
     "name": "stdout",
     "output_type": "stream",
     "text": [
      "(1, 2, 3, 4)\n",
      "<class '__main__.MyIterator'>\n"
     ]
    }
   ],
   "source": [
    "mi = MyIterable(1, 2, 3, 4)\n",
    "print(mi)\n",
    "# Iterable로 부터 Iterator를 생성\n",
    "m_iter = iter(mi)\n",
    "print(type(m_iter))"
   ]
  },
  {
   "cell_type": "code",
   "execution_count": 24,
   "id": "682aa89c",
   "metadata": {
    "ExecuteTime": {
     "end_time": "2023-01-03T05:34:16.296346Z",
     "start_time": "2023-01-03T05:34:16.256130Z"
    }
   },
   "outputs": [
    {
     "data": {
      "text/plain": [
       "1"
      ]
     },
     "execution_count": 24,
     "metadata": {},
     "output_type": "execute_result"
    }
   ],
   "source": [
    "next(m_iter)"
   ]
  },
  {
   "cell_type": "code",
   "execution_count": 25,
   "id": "aed42a49",
   "metadata": {
    "ExecuteTime": {
     "end_time": "2023-01-03T05:34:33.457137Z",
     "start_time": "2023-01-03T05:34:33.435269Z"
    }
   },
   "outputs": [
    {
     "data": {
      "text/plain": [
       "2"
      ]
     },
     "execution_count": 25,
     "metadata": {},
     "output_type": "execute_result"
    }
   ],
   "source": [
    "m_iter.__next__()"
   ]
  },
  {
   "cell_type": "code",
   "execution_count": 26,
   "id": "5c8c40ec",
   "metadata": {
    "ExecuteTime": {
     "end_time": "2023-01-03T05:34:43.881472Z",
     "start_time": "2023-01-03T05:34:43.863474Z"
    }
   },
   "outputs": [
    {
     "data": {
      "text/plain": [
       "3"
      ]
     },
     "execution_count": 26,
     "metadata": {},
     "output_type": "execute_result"
    }
   ],
   "source": [
    "next(m_iter)"
   ]
  },
  {
   "cell_type": "code",
   "execution_count": 27,
   "id": "dc898305",
   "metadata": {
    "ExecuteTime": {
     "end_time": "2023-01-03T05:34:49.108752Z",
     "start_time": "2023-01-03T05:34:49.086749Z"
    }
   },
   "outputs": [
    {
     "data": {
      "text/plain": [
       "4"
      ]
     },
     "execution_count": 27,
     "metadata": {},
     "output_type": "execute_result"
    }
   ],
   "source": [
    "next(m_iter)"
   ]
  },
  {
   "cell_type": "code",
   "execution_count": 28,
   "id": "a344d527",
   "metadata": {
    "ExecuteTime": {
     "end_time": "2023-01-03T05:34:55.720439Z",
     "start_time": "2023-01-03T05:34:55.698450Z"
    }
   },
   "outputs": [
    {
     "ename": "StopIteration",
     "evalue": "",
     "output_type": "error",
     "traceback": [
      "\u001b[1;31m---------------------------------------------------------------------------\u001b[0m",
      "\u001b[1;31mStopIteration\u001b[0m                             Traceback (most recent call last)",
      "\u001b[1;32m~\\AppData\\Local\\Temp\\ipykernel_6864\\3727571760.py\u001b[0m in \u001b[0;36m<module>\u001b[1;34m\u001b[0m\n\u001b[1;32m----> 1\u001b[1;33m \u001b[0mnext\u001b[0m\u001b[1;33m(\u001b[0m\u001b[0mm_iter\u001b[0m\u001b[1;33m)\u001b[0m\u001b[1;33m\u001b[0m\u001b[1;33m\u001b[0m\u001b[0m\n\u001b[0m",
      "\u001b[1;32m~\\AppData\\Local\\Temp\\ipykernel_6864\\2971749062.py\u001b[0m in \u001b[0;36m__next__\u001b[1;34m(self)\u001b[0m\n\u001b[0;32m      9\u001b[0m         \u001b[1;31m# self.values의 값을 하나씩 조회해서 return\u001b[0m\u001b[1;33m\u001b[0m\u001b[1;33m\u001b[0m\u001b[0m\n\u001b[0;32m     10\u001b[0m         \u001b[1;32mif\u001b[0m \u001b[0mlen\u001b[0m\u001b[1;33m(\u001b[0m\u001b[0mself\u001b[0m\u001b[1;33m.\u001b[0m\u001b[0mvalues\u001b[0m\u001b[1;33m)\u001b[0m \u001b[1;33m==\u001b[0m \u001b[0mself\u001b[0m\u001b[1;33m.\u001b[0m\u001b[0mindex\u001b[0m\u001b[1;33m:\u001b[0m\u001b[1;33m\u001b[0m\u001b[1;33m\u001b[0m\u001b[0m\n\u001b[1;32m---> 11\u001b[1;33m             \u001b[1;32mraise\u001b[0m \u001b[0mStopIteration\u001b[0m\u001b[1;33m(\u001b[0m\u001b[1;33m)\u001b[0m\u001b[1;33m\u001b[0m\u001b[1;33m\u001b[0m\u001b[0m\n\u001b[0m\u001b[0;32m     12\u001b[0m         \u001b[0mret_value\u001b[0m \u001b[1;33m=\u001b[0m \u001b[0mself\u001b[0m\u001b[1;33m.\u001b[0m\u001b[0mvalues\u001b[0m\u001b[1;33m[\u001b[0m\u001b[0mself\u001b[0m\u001b[1;33m.\u001b[0m\u001b[0mindex\u001b[0m\u001b[1;33m]\u001b[0m\u001b[1;33m\u001b[0m\u001b[1;33m\u001b[0m\u001b[0m\n\u001b[0;32m     13\u001b[0m         \u001b[0mself\u001b[0m\u001b[1;33m.\u001b[0m\u001b[0mindex\u001b[0m \u001b[1;33m+=\u001b[0m \u001b[1;36m1\u001b[0m\u001b[1;33m\u001b[0m\u001b[1;33m\u001b[0m\u001b[0m\n",
      "\u001b[1;31mStopIteration\u001b[0m: "
     ]
    }
   ],
   "source": [
    "next(m_iter)"
   ]
  },
  {
   "cell_type": "code",
   "execution_count": 29,
   "id": "414591c5",
   "metadata": {
    "ExecuteTime": {
     "end_time": "2023-01-03T05:35:57.648181Z",
     "start_time": "2023-01-03T05:35:57.633188Z"
    }
   },
   "outputs": [
    {
     "name": "stdout",
     "output_type": "stream",
     "text": [
      "A\n",
      "B\n",
      "C\n"
     ]
    }
   ],
   "source": [
    "for v in MyIterable('A', 'B', 'C'):\n",
    "    print(v)"
   ]
  },
  {
   "cell_type": "code",
   "execution_count": 37,
   "id": "53add76e",
   "metadata": {
    "ExecuteTime": {
     "end_time": "2023-01-03T05:47:39.570505Z",
     "start_time": "2023-01-03T05:47:39.546679Z"
    }
   },
   "outputs": [],
   "source": [
    "# Iterable과 Iterator를 한 클래스에 구현\n",
    "class MyIterable2:\n",
    "    def __init__(self, *args): \n",
    "        \"\"\"*args: 제공해줄 원소들을 가변인자로 받는다.\"\"\"\n",
    "        self.values = args # 튜플\n",
    "        self.index = 0\n",
    "        \n",
    "    def __str__(self):\n",
    "        \"\"\"제공할 원소들을 튜플을 문자열로 반환.\"\"\"\n",
    "        return str(self.values)\n",
    "    \n",
    "    def __iter__(self):\n",
    "        \"\"\"iterable은 __iter__()를 반드시 재정의 해야한다.\n",
    "        Iterator 객체를 생성해서 반환하도록 처리\"\"\"\n",
    "        return self # MyIterator가 MyIterable의 values값을 사용할 수 있도록 전달.\n",
    "    \n",
    "    def __next__(self):\n",
    "        \"\"\"next(iterator) 했을 때 호출된 메소드. 다음 원소를 제공. 제공할 다음 원소가 없으면 StopIteration Exception을 발생시킨다.\"\"\"\n",
    "        # self.values의 값을 하나씩 조회해서 return\n",
    "        if len(self.values) == self.index:\n",
    "            raise StopIteration()\n",
    "        ret_value = self.values[self.index]\n",
    "        self.index += 1\n",
    "        return ret_value\n",
    "    \n",
    "    def __getitem__(self, index):\n",
    "        # 객체[index] : self = 객체, index = index\n",
    "        return self.values[index]"
   ]
  },
  {
   "cell_type": "code",
   "execution_count": 34,
   "id": "bb884f13",
   "metadata": {
    "ExecuteTime": {
     "end_time": "2023-01-03T05:43:29.504811Z",
     "start_time": "2023-01-03T05:43:29.491808Z"
    }
   },
   "outputs": [
    {
     "name": "stdout",
     "output_type": "stream",
     "text": [
      "1\t2\t3\t4\t5\t6\t7\t8\t9\t20\t"
     ]
    }
   ],
   "source": [
    "for v in MyIterable2(1,2,3,4,5,6,7,8,9,20):\n",
    "    print(v, end='\\t')"
   ]
  },
  {
   "cell_type": "code",
   "execution_count": 39,
   "id": "fcc64521",
   "metadata": {
    "ExecuteTime": {
     "end_time": "2023-01-03T05:47:55.573081Z",
     "start_time": "2023-01-03T05:47:55.562108Z"
    }
   },
   "outputs": [
    {
     "name": "stdout",
     "output_type": "stream",
     "text": [
      "<class '__main__.MyIterable2'>\n",
      "<class '__main__.MyIterable2'>\n"
     ]
    }
   ],
   "source": [
    "mi2 = MyIterable2(1,2,3,4,5)\n",
    "print(type(mi2))\n",
    "m_iter2 = iter(mi2)\n",
    "print(type(m_iter2))"
   ]
  },
  {
   "cell_type": "code",
   "execution_count": 40,
   "id": "fcdcf9cb",
   "metadata": {
    "ExecuteTime": {
     "end_time": "2023-01-03T05:47:56.333315Z",
     "start_time": "2023-01-03T05:47:56.313283Z"
    }
   },
   "outputs": [
    {
     "data": {
      "text/plain": [
       "1"
      ]
     },
     "execution_count": 40,
     "metadata": {},
     "output_type": "execute_result"
    }
   ],
   "source": [
    "mi2[0] # indexer 연산자 ==> __getitem__() 재정의 (Iterable에 재정의)"
   ]
  },
  {
   "cell_type": "code",
   "execution_count": 41,
   "id": "87c36ccd",
   "metadata": {
    "ExecuteTime": {
     "end_time": "2023-01-03T05:48:08.758026Z",
     "start_time": "2023-01-03T05:48:08.739025Z"
    }
   },
   "outputs": [
    {
     "data": {
      "text/plain": [
       "4"
      ]
     },
     "execution_count": 41,
     "metadata": {},
     "output_type": "execute_result"
    }
   ],
   "source": [
    "mi2[3]"
   ]
  },
  {
   "cell_type": "code",
   "execution_count": 42,
   "id": "13d398d0",
   "metadata": {
    "ExecuteTime": {
     "end_time": "2023-01-03T05:48:13.772364Z",
     "start_time": "2023-01-03T05:48:13.737392Z"
    }
   },
   "outputs": [
    {
     "ename": "IndexError",
     "evalue": "tuple index out of range",
     "output_type": "error",
     "traceback": [
      "\u001b[1;31m---------------------------------------------------------------------------\u001b[0m",
      "\u001b[1;31mIndexError\u001b[0m                                Traceback (most recent call last)",
      "\u001b[1;32m~\\AppData\\Local\\Temp\\ipykernel_6864\\1420578181.py\u001b[0m in \u001b[0;36m<module>\u001b[1;34m\u001b[0m\n\u001b[1;32m----> 1\u001b[1;33m \u001b[0mmi2\u001b[0m\u001b[1;33m[\u001b[0m\u001b[1;36m100\u001b[0m\u001b[1;33m]\u001b[0m\u001b[1;33m\u001b[0m\u001b[1;33m\u001b[0m\u001b[0m\n\u001b[0m",
      "\u001b[1;32m~\\AppData\\Local\\Temp\\ipykernel_6864\\3296911223.py\u001b[0m in \u001b[0;36m__getitem__\u001b[1;34m(self, index)\u001b[0m\n\u001b[0;32m     26\u001b[0m     \u001b[1;32mdef\u001b[0m \u001b[0m__getitem__\u001b[0m\u001b[1;33m(\u001b[0m\u001b[0mself\u001b[0m\u001b[1;33m,\u001b[0m \u001b[0mindex\u001b[0m\u001b[1;33m)\u001b[0m\u001b[1;33m:\u001b[0m\u001b[1;33m\u001b[0m\u001b[1;33m\u001b[0m\u001b[0m\n\u001b[0;32m     27\u001b[0m         \u001b[1;31m# 객체[index] : self = 객체, index = index\u001b[0m\u001b[1;33m\u001b[0m\u001b[1;33m\u001b[0m\u001b[0m\n\u001b[1;32m---> 28\u001b[1;33m         \u001b[1;32mreturn\u001b[0m \u001b[0mself\u001b[0m\u001b[1;33m.\u001b[0m\u001b[0mvalues\u001b[0m\u001b[1;33m[\u001b[0m\u001b[0mindex\u001b[0m\u001b[1;33m]\u001b[0m\u001b[1;33m\u001b[0m\u001b[1;33m\u001b[0m\u001b[0m\n\u001b[0m",
      "\u001b[1;31mIndexError\u001b[0m: tuple index out of range"
     ]
    }
   ],
   "source": [
    "mi2[100]"
   ]
  },
  {
   "cell_type": "markdown",
   "id": "5323e175",
   "metadata": {
    "slideshow": {
     "slide_type": "subslide"
    }
   },
   "source": [
    "## Generator\n",
    "- Iterable과 Iterator를 합친 기능을 함수 형태로 구현(정의)한 것을 generator라고 한다.\n",
    "    - 제공할 값들을 미리 메모리에 올리지 않고 로직을 통해 값들을 호출자가 필요할 때 마다 제공할 때 유용하다.\n",
    "- 제너레이터 함수에서 값을 반환\n",
    "    - **yield 반환값**\n",
    "        - 반환값을 가지고 호출한 곳으로 돌아간다. 현재 상태(돌아가기 직전 상태)를 기억하면서 돌아간다. \n",
    "            - 값을 반환하고 일시정지 상태라고 생각하면 된다.\n",
    "        - 다음 실행시점에 yield 구문 다음 부터 실행된다.\n",
    "    - **return \\[value\\]**\n",
    "        - generator 함수 종료\n",
    "        - StopIteration 발생시킨다.\n",
    "- Generator 의 원소 조회\n",
    "    - next(Generator객체)"
   ]
  },
  {
   "cell_type": "code",
   "execution_count": 43,
   "id": "4df6590b",
   "metadata": {
    "ExecuteTime": {
     "end_time": "2023-01-03T06:22:19.336341Z",
     "start_time": "2023-01-03T06:22:19.319342Z"
    },
    "slideshow": {
     "slide_type": "fragment"
    }
   },
   "outputs": [],
   "source": [
    "def test_gen(num=0):\n",
    "    print(\"1.\", num)\n",
    "    num += 10\n",
    "    return num\n",
    "    print(\"2.\", num) # 여기서 부터 쓸모 없는 코드가 됨\n",
    "    num += 20\n",
    "    return num"
   ]
  },
  {
   "cell_type": "code",
   "execution_count": 44,
   "id": "286c6d5b",
   "metadata": {
    "ExecuteTime": {
     "end_time": "2023-01-03T06:22:20.250183Z",
     "start_time": "2023-01-03T06:22:20.235136Z"
    }
   },
   "outputs": [
    {
     "name": "stdout",
     "output_type": "stream",
     "text": [
      "1. 20\n"
     ]
    },
    {
     "data": {
      "text/plain": [
       "30"
      ]
     },
     "execution_count": 44,
     "metadata": {},
     "output_type": "execute_result"
    }
   ],
   "source": [
    "test_gen(20)"
   ]
  },
  {
   "cell_type": "code",
   "execution_count": 45,
   "id": "5fcb7c14",
   "metadata": {
    "ExecuteTime": {
     "end_time": "2023-01-03T06:22:23.138299Z",
     "start_time": "2023-01-03T06:22:23.125275Z"
    }
   },
   "outputs": [],
   "source": [
    "def test_gen(num=0):\n",
    "    print(\"1.\", num)\n",
    "    num += 10\n",
    "    yield num\n",
    "    print(\"2.\", num)\n",
    "    num += 20\n",
    "    yield num\n",
    "   # return None 생략"
   ]
  },
  {
   "cell_type": "code",
   "execution_count": 47,
   "id": "d75324e9",
   "metadata": {
    "ExecuteTime": {
     "end_time": "2023-01-03T06:24:05.026569Z",
     "start_time": "2023-01-03T06:24:05.012568Z"
    }
   },
   "outputs": [],
   "source": [
    "gen = test_gen(20)   # generator를 호출 ==> generator객체를 생성"
   ]
  },
  {
   "cell_type": "code",
   "execution_count": 48,
   "id": "ef3b915a",
   "metadata": {
    "ExecuteTime": {
     "end_time": "2023-01-03T06:24:32.327881Z",
     "start_time": "2023-01-03T06:24:32.315879Z"
    }
   },
   "outputs": [
    {
     "name": "stdout",
     "output_type": "stream",
     "text": [
      "1. 20\n"
     ]
    },
    {
     "data": {
      "text/plain": [
       "30"
      ]
     },
     "execution_count": 48,
     "metadata": {},
     "output_type": "execute_result"
    }
   ],
   "source": [
    "# generator를 호출 => next()를 이용\n",
    "next(gen)  # 첫번째 yield까지 일한다"
   ]
  },
  {
   "cell_type": "code",
   "execution_count": 49,
   "id": "134a684d",
   "metadata": {
    "ExecuteTime": {
     "end_time": "2023-01-03T06:25:02.292422Z",
     "start_time": "2023-01-03T06:25:02.279379Z"
    }
   },
   "outputs": [
    {
     "name": "stdout",
     "output_type": "stream",
     "text": [
      "2. 30\n"
     ]
    },
    {
     "data": {
      "text/plain": [
       "50"
      ]
     },
     "execution_count": 49,
     "metadata": {},
     "output_type": "execute_result"
    }
   ],
   "source": [
    "next(gen)  # 이전 yield부터 다음 yield까지 일한다"
   ]
  },
  {
   "cell_type": "code",
   "execution_count": 50,
   "id": "83ca079d",
   "metadata": {
    "ExecuteTime": {
     "end_time": "2023-01-03T06:26:50.138235Z",
     "start_time": "2023-01-03T06:26:50.119194Z"
    }
   },
   "outputs": [
    {
     "ename": "StopIteration",
     "evalue": "",
     "output_type": "error",
     "traceback": [
      "\u001b[1;31m---------------------------------------------------------------------------\u001b[0m",
      "\u001b[1;31mStopIteration\u001b[0m                             Traceback (most recent call last)",
      "\u001b[1;32m~\\AppData\\Local\\Temp\\ipykernel_6864\\227852362.py\u001b[0m in \u001b[0;36m<module>\u001b[1;34m\u001b[0m\n\u001b[1;32m----> 1\u001b[1;33m \u001b[0mnext\u001b[0m\u001b[1;33m(\u001b[0m\u001b[0mgen\u001b[0m\u001b[1;33m)\u001b[0m  \u001b[1;31m# 첫번째 yield까지 일한다\u001b[0m\u001b[1;33m\u001b[0m\u001b[1;33m\u001b[0m\u001b[0m\n\u001b[0m",
      "\u001b[1;31mStopIteration\u001b[0m: "
     ]
    }
   ],
   "source": [
    "next(gen)  # 더이상 실행할 코드가 없으면(return) StopIteration Exception이 발생"
   ]
  },
  {
   "cell_type": "code",
   "execution_count": 51,
   "id": "692039c2",
   "metadata": {
    "ExecuteTime": {
     "end_time": "2023-01-03T06:29:15.679087Z",
     "start_time": "2023-01-03T06:29:15.659086Z"
    }
   },
   "outputs": [
    {
     "name": "stdout",
     "output_type": "stream",
     "text": [
      "1. 100\n",
      "110\n",
      "2. 110\n",
      "130\n"
     ]
    }
   ],
   "source": [
    "for v in test_gen(100):\n",
    "    print(v)"
   ]
  },
  {
   "cell_type": "code",
   "execution_count": 60,
   "id": "1f60ff9e",
   "metadata": {
    "ExecuteTime": {
     "end_time": "2023-01-03T06:35:43.385509Z",
     "start_time": "2023-01-03T06:35:43.365477Z"
    }
   },
   "outputs": [],
   "source": [
    "# range()를 generator로 구현\n",
    "def my_range(start, end=None, step=1):\n",
    "    if end == None: #not end\n",
    "        end = start\n",
    "        start = 0\n",
    "    while True:\n",
    "        if start >= end:\n",
    "            break\n",
    "        yield start\n",
    "        start += step"
   ]
  },
  {
   "cell_type": "code",
   "execution_count": 61,
   "id": "37194146",
   "metadata": {
    "ExecuteTime": {
     "end_time": "2023-01-03T06:35:43.701294Z",
     "start_time": "2023-01-03T06:35:43.685693Z"
    }
   },
   "outputs": [
    {
     "name": "stdout",
     "output_type": "stream",
     "text": [
      "<class 'generator'>\n"
     ]
    }
   ],
   "source": [
    "print(type(my_range(5, 8)))"
   ]
  },
  {
   "cell_type": "code",
   "execution_count": 62,
   "id": "78165c26",
   "metadata": {
    "ExecuteTime": {
     "end_time": "2023-01-03T06:35:44.102764Z",
     "start_time": "2023-01-03T06:35:44.087190Z"
    }
   },
   "outputs": [],
   "source": [
    "gen = my_range(5, 8)"
   ]
  },
  {
   "cell_type": "code",
   "execution_count": 63,
   "id": "75cc513b",
   "metadata": {
    "ExecuteTime": {
     "end_time": "2023-01-03T06:35:44.533876Z",
     "start_time": "2023-01-03T06:35:44.518229Z"
    }
   },
   "outputs": [
    {
     "name": "stdout",
     "output_type": "stream",
     "text": [
      "5\n"
     ]
    }
   ],
   "source": [
    "print(next(gen))"
   ]
  },
  {
   "cell_type": "code",
   "execution_count": 64,
   "id": "5f6843dd",
   "metadata": {
    "ExecuteTime": {
     "end_time": "2023-01-03T06:35:45.081758Z",
     "start_time": "2023-01-03T06:35:45.071801Z"
    }
   },
   "outputs": [
    {
     "name": "stdout",
     "output_type": "stream",
     "text": [
      "6\n",
      "7\n"
     ]
    }
   ],
   "source": [
    "print(next(gen))\n",
    "print(next(gen))"
   ]
  },
  {
   "cell_type": "code",
   "execution_count": 65,
   "id": "4f28714d",
   "metadata": {
    "ExecuteTime": {
     "end_time": "2023-01-03T06:36:11.779888Z",
     "start_time": "2023-01-03T06:36:11.762850Z"
    }
   },
   "outputs": [
    {
     "ename": "StopIteration",
     "evalue": "",
     "output_type": "error",
     "traceback": [
      "\u001b[1;31m---------------------------------------------------------------------------\u001b[0m",
      "\u001b[1;31mStopIteration\u001b[0m                             Traceback (most recent call last)",
      "\u001b[1;32m~\\AppData\\Local\\Temp\\ipykernel_6864\\2955553870.py\u001b[0m in \u001b[0;36m<module>\u001b[1;34m\u001b[0m\n\u001b[1;32m----> 1\u001b[1;33m \u001b[0mprint\u001b[0m\u001b[1;33m(\u001b[0m\u001b[0mnext\u001b[0m\u001b[1;33m(\u001b[0m\u001b[0mgen\u001b[0m\u001b[1;33m)\u001b[0m\u001b[1;33m)\u001b[0m\u001b[1;33m\u001b[0m\u001b[1;33m\u001b[0m\u001b[0m\n\u001b[0m",
      "\u001b[1;31mStopIteration\u001b[0m: "
     ]
    }
   ],
   "source": [
    "print(next(gen)) # 더이상 실행할 코드가 없으면(return) StopIteration Exception이 발생"
   ]
  },
  {
   "cell_type": "code",
   "execution_count": 67,
   "id": "3dd8bdd7",
   "metadata": {
    "ExecuteTime": {
     "end_time": "2023-01-03T06:37:15.833462Z",
     "start_time": "2023-01-03T06:37:15.818423Z"
    }
   },
   "outputs": [
    {
     "name": "stdout",
     "output_type": "stream",
     "text": [
      "1, 11, 21, 31, 41, 51, 61, 71, 81, 91, "
     ]
    }
   ],
   "source": [
    "for i in my_range(1, 100, 10):\n",
    "    print(i, end=', ')"
   ]
  },
  {
   "cell_type": "code",
   "execution_count": 68,
   "id": "7a37d02b",
   "metadata": {
    "ExecuteTime": {
     "end_time": "2023-01-03T06:37:35.800254Z",
     "start_time": "2023-01-03T06:37:35.781258Z"
    }
   },
   "outputs": [
    {
     "name": "stdout",
     "output_type": "stream",
     "text": [
      "0, 1, 2, 3, 4, "
     ]
    }
   ],
   "source": [
    "for i in my_range(5):\n",
    "    print(i, end=', ')"
   ]
  },
  {
   "cell_type": "code",
   "execution_count": 69,
   "id": "5c0e133b",
   "metadata": {
    "ExecuteTime": {
     "end_time": "2023-01-03T06:37:57.363509Z",
     "start_time": "2023-01-03T06:37:57.344496Z"
    }
   },
   "outputs": [
    {
     "name": "stdout",
     "output_type": "stream",
     "text": [
      "<class 'range'>\n"
     ]
    }
   ],
   "source": [
    "print(type(range(10)))"
   ]
  },
  {
   "cell_type": "markdown",
   "id": "ae6dec96",
   "metadata": {
    "slideshow": {
     "slide_type": "subslide"
    }
   },
   "source": [
    "### Generator 표현식 (Generator Comprehension)\n",
    "- 컴프리헨션구문을 **( )** 로 묶어 표현한다.\n",
    "- 컴프리헨션 구문안의 Iterable의 원소들을 처리해서 제공하는 generator 표현식\n",
    "- Generator Comprehension 은 반복 가능한 객체만 만들고 실제 원소에 대한 요청이 왔을 때 값을 생성한다.\n",
    "    - 메모리 효율이 다른 Comprehension들 보다 좋다."
   ]
  },
  {
   "cell_type": "code",
   "execution_count": 76,
   "id": "9d5f5acc",
   "metadata": {
    "ExecuteTime": {
     "end_time": "2023-01-03T06:47:21.855925Z",
     "start_time": "2023-01-03T06:47:21.832880Z"
    },
    "slideshow": {
     "slide_type": "fragment"
    }
   },
   "outputs": [
    {
     "name": "stdout",
     "output_type": "stream",
     "text": [
      "<class 'generator'>\n"
     ]
    }
   ],
   "source": [
    "gen = (i * 20 for i in range(10) if i % 2 == 0)\n",
    "print(type(gen))"
   ]
  },
  {
   "cell_type": "code",
   "execution_count": 77,
   "id": "a761268b",
   "metadata": {
    "ExecuteTime": {
     "end_time": "2023-01-03T06:47:22.589875Z",
     "start_time": "2023-01-03T06:47:22.579906Z"
    }
   },
   "outputs": [],
   "source": [
    "def my_gen(num):\n",
    "    for i in range(num):\n",
    "        yield i"
   ]
  },
  {
   "cell_type": "code",
   "execution_count": 78,
   "id": "5f87d893",
   "metadata": {
    "ExecuteTime": {
     "end_time": "2023-01-03T06:47:23.122384Z",
     "start_time": "2023-01-03T06:47:23.103342Z"
    }
   },
   "outputs": [
    {
     "data": {
      "text/plain": [
       "0"
      ]
     },
     "execution_count": 78,
     "metadata": {},
     "output_type": "execute_result"
    }
   ],
   "source": [
    "next(gen)"
   ]
  },
  {
   "cell_type": "code",
   "execution_count": 79,
   "id": "b91e901d",
   "metadata": {
    "ExecuteTime": {
     "end_time": "2023-01-03T06:47:24.165793Z",
     "start_time": "2023-01-03T06:47:24.158827Z"
    }
   },
   "outputs": [
    {
     "name": "stdout",
     "output_type": "stream",
     "text": [
      "40, 80, 120, 160, "
     ]
    }
   ],
   "source": [
    "for i in gen:\n",
    "    print(i, end=', ')"
   ]
  },
  {
   "cell_type": "code",
   "execution_count": 80,
   "id": "00e60901",
   "metadata": {
    "ExecuteTime": {
     "end_time": "2023-01-03T06:49:48.624246Z",
     "start_time": "2023-01-03T06:49:48.608220Z"
    }
   },
   "outputs": [
    {
     "name": "stdout",
     "output_type": "stream",
     "text": [
      "<class 'filter'>\n",
      "0, 2, 4, 6, 8, 10, 12, 14, 16, 18, 20, 22, 24, 26, 28, 30, 32, 34, 36, 38, 40, 42, 44, 46, 48, 50, 52, 54, 56, 58, 60, 62, 64, 66, 68, 70, 72, 74, 76, 78, 80, 82, 84, 86, 88, 90, 92, 94, 96, 98, 100, 102, 104, 106, 108, 110, 112, 114, 116, 118, 120, 122, 124, 126, 128, 130, 132, 134, 136, 138, 140, 142, 144, 146, 148, 150, 152, 154, 156, 158, 160, 162, 164, 166, 168, 170, 172, 174, 176, 178, 180, 182, 184, 186, 188, 190, 192, 194, 196, 198, 200, 202, 204, 206, 208, 210, 212, 214, 216, 218, 220, 222, 224, 226, 228, 230, 232, 234, 236, 238, 240, 242, 244, 246, 248, 250, 252, 254, 256, 258, 260, 262, 264, 266, 268, 270, 272, 274, 276, 278, 280, 282, 284, 286, 288, 290, 292, 294, 296, 298, 300, 302, 304, 306, 308, 310, 312, 314, 316, 318, 320, 322, 324, 326, 328, 330, 332, 334, 336, 338, 340, 342, 344, 346, 348, 350, 352, 354, 356, 358, 360, 362, 364, 366, 368, 370, 372, 374, 376, 378, 380, 382, 384, 386, 388, 390, 392, 394, 396, 398, 400, 402, 404, 406, 408, 410, 412, 414, 416, 418, 420, 422, 424, 426, 428, 430, 432, 434, 436, 438, 440, 442, 444, 446, 448, 450, 452, 454, 456, 458, 460, 462, 464, 466, 468, 470, 472, 474, 476, 478, 480, 482, 484, 486, 488, 490, 492, 494, 496, 498, 500, 502, 504, 506, 508, 510, 512, 514, 516, 518, 520, 522, 524, 526, 528, 530, 532, 534, 536, 538, 540, 542, 544, 546, 548, 550, 552, 554, 556, 558, 560, 562, 564, 566, 568, 570, 572, 574, 576, 578, 580, 582, 584, 586, 588, 590, 592, 594, 596, 598, 600, 602, 604, 606, 608, 610, 612, 614, 616, 618, 620, 622, 624, 626, 628, 630, 632, 634, 636, 638, 640, 642, 644, 646, 648, 650, 652, 654, 656, 658, 660, 662, 664, 666, 668, 670, 672, 674, 676, 678, 680, 682, 684, 686, 688, 690, 692, 694, 696, 698, 700, 702, 704, 706, 708, 710, 712, 714, 716, 718, 720, 722, 724, 726, 728, 730, 732, 734, 736, 738, 740, 742, 744, 746, 748, 750, 752, 754, 756, 758, 760, 762, 764, 766, 768, 770, 772, 774, 776, 778, 780, 782, 784, 786, 788, 790, 792, 794, 796, 798, 800, 802, 804, 806, 808, 810, 812, 814, 816, 818, 820, 822, 824, 826, 828, 830, 832, 834, 836, 838, 840, 842, 844, 846, 848, 850, 852, 854, 856, 858, 860, 862, 864, 866, 868, 870, 872, 874, 876, 878, 880, 882, 884, 886, 888, 890, 892, 894, 896, 898, 900, 902, 904, 906, 908, 910, 912, 914, 916, 918, 920, 922, 924, 926, 928, 930, 932, 934, 936, 938, 940, 942, 944, 946, 948, 950, 952, 954, 956, 958, 960, 962, 964, 966, 968, 970, 972, 974, 976, 978, 980, 982, 984, 986, 988, 990, 992, 994, 996, 998, "
     ]
    }
   ],
   "source": [
    "l = list(range(1000))\n",
    "f = filter(lambda x : x % 2 == 0, l)\n",
    "print(type(f))\n",
    "for i in f:\n",
    "    print(i, end=\", \")"
   ]
  },
  {
   "cell_type": "markdown",
   "id": "929f0230",
   "metadata": {
    "slideshow": {
     "slide_type": "slide"
    }
   },
   "source": [
    "# Decorator (장식자)\n",
    "\n",
    "## 파이썬에서 함수는 일급 시민(first class citizen) 이다.\n",
    "- 일급 시민 (first class citizen) 이란\n",
    "    1. 변수에 대입 할 수 있다.\n",
    "    2. Argument로 사용할 수 있다.\n",
    "    3. 함수나 메소드의 반환값으로 사용 할 수 있다.\n",
    "    "
   ]
  },
  {
   "cell_type": "markdown",
   "id": "b46580f2",
   "metadata": {
    "slideshow": {
     "slide_type": "subslide"
    }
   },
   "source": [
    "## 지역함수(Local Function) 란\n",
    "- 함수 안에 정의 한 함수를 말한다.\n",
    "    - 중첩 함수(Nested function) 이라고도 한다.\n",
    "- 지역함수가 선언된 함수를 **outer function** 지역함수는 **inner function** 이라고 한다. \n",
    "- inner function은 outer function의 지역변수를 자유롭게 사용할 수 있다.\n",
    "- 기본적으로 inner function은 outer function 안에서만 호출 할 수있다.\n",
    "- 단 outer function이 정의된 inner function을 return value로 반환하면 밖에서도 호출 할 수 있다."
   ]
  },
  {
   "cell_type": "markdown",
   "id": "766a1432",
   "metadata": {
    "slideshow": {
     "slide_type": "fragment"
    }
   },
   "source": [
    "## Closure (클로저)\n",
    "- 지역함수(Inner function)를 정의한 Outer function이 종료되어도 지역함수가 종료될 때까지 outer function의 지역변수들은 메모리에 계속 유지 되어 inner function에서 사용할 수 있다. \n",
    "- 파이썬 실행환경은 inner function이 종료될때 까지 outer function의 지역변수들(parameter포함)을 사용할 수 있도록 저장하는 공간이 **closure**이다."
   ]
  },
  {
   "cell_type": "code",
   "execution_count": null,
   "id": "0001effe",
   "metadata": {
    "slideshow": {
     "slide_type": "fragment"
    }
   },
   "outputs": [],
   "source": []
  },
  {
   "cell_type": "markdown",
   "id": "b58a1e1d",
   "metadata": {
    "slideshow": {
     "slide_type": "slide"
    }
   },
   "source": [
    "## Decorator (장식자)\n",
    "- 기존의 함수를 수정하지 않고 그 함수 전/후에 실행되는 구문을 추가할 수 있도록 하는 함수를 말한다.\n",
    "- 기존 함수코드를 수정하지 않고 새로운 기능의 추가를 쉽게 해준다.\n",
    "- 함수의 전/후처리 하는 구문을 **필요하면 붙이고 필요 없으면 쉽게 제거할 수 있다**\n",
    "\n",
    "![개요](images/ch10_01.png)"
   ]
  },
  {
   "cell_type": "code",
   "execution_count": null,
   "id": "5c7f5353",
   "metadata": {
    "slideshow": {
     "slide_type": "fragment"
    }
   },
   "outputs": [],
   "source": []
  },
  {
   "cell_type": "markdown",
   "id": "aaf6447c",
   "metadata": {
    "slideshow": {
     "slide_type": "subslide"
    }
   },
   "source": [
    "### Decorator 구현 및 사용\n",
    "\n",
    "- 구현\n",
    "    1. 전/후처리 기능을 추가할 함수를 parameter로 받는다.\n",
    "    2. 그 함수 호출 전후로 추가할 기능을 작성한 **지역함수**를 정의한다.\n",
    "    3. `2`번의 함수를 반환한다.\n",
    "```python\n",
    "def decorator(func):\n",
    "    def wrapper([parameter]): # decorator 적용할 함수에 파라미터를 전달할 경우 parameter 변수들을 선언\n",
    "        # 전처리\n",
    "        func()\n",
    "        # 후처리\n",
    "    return wrapper \n",
    "```\n",
    "\n",
    "- 호출\n",
    "    - `@decorator이름`를 적용하고자하는 함수 선언전에 기술한다.\n",
    "```python\n",
    "@decorator\n",
    "def caller([parameter]):\n",
    "    ...\n",
    "```"
   ]
  },
  {
   "cell_type": "code",
   "execution_count": null,
   "id": "82f0e859",
   "metadata": {
    "slideshow": {
     "slide_type": "fragment"
    }
   },
   "outputs": [],
   "source": []
  },
  {
   "cell_type": "markdown",
   "id": "6121017a",
   "metadata": {
    "slideshow": {
     "slide_type": "skip"
    }
   },
   "source": [
    "# TODO\n",
    "함수가 실행된 실행시간(초)을 재는 decorator"
   ]
  },
  {
   "cell_type": "code",
   "execution_count": null,
   "id": "22f52d36",
   "metadata": {
    "slideshow": {
     "slide_type": "skip"
    }
   },
   "outputs": [],
   "source": []
  }
 ],
 "metadata": {
  "kernelspec": {
   "display_name": "Python 3 (ipykernel)",
   "language": "python",
   "name": "python3"
  },
  "language_info": {
   "codemirror_mode": {
    "name": "ipython",
    "version": 3
   },
   "file_extension": ".py",
   "mimetype": "text/x-python",
   "name": "python",
   "nbconvert_exporter": "python",
   "pygments_lexer": "ipython3",
   "version": "3.9.13"
  },
  "toc": {
   "base_numbering": 1,
   "nav_menu": {},
   "number_sections": true,
   "sideBar": true,
   "skip_h1_title": false,
   "title_cell": "Table of Contents",
   "title_sidebar": "Contents",
   "toc_cell": false,
   "toc_position": {},
   "toc_section_display": true,
   "toc_window_display": false
  },
  "varInspector": {
   "cols": {
    "lenName": 16,
    "lenType": 16,
    "lenVar": 40
   },
   "kernels_config": {
    "python": {
     "delete_cmd_postfix": "",
     "delete_cmd_prefix": "del ",
     "library": "var_list.py",
     "varRefreshCmd": "print(var_dic_list())"
    },
    "r": {
     "delete_cmd_postfix": ") ",
     "delete_cmd_prefix": "rm(",
     "library": "var_list.r",
     "varRefreshCmd": "cat(var_dic_list()) "
    }
   },
   "types_to_exclude": [
    "module",
    "function",
    "builtin_function_or_method",
    "instance",
    "_Feature"
   ],
   "window_display": false
  }
 },
 "nbformat": 4,
 "nbformat_minor": 5
}
