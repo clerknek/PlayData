{
 "cells": [
  {
   "cell_type": "markdown",
   "id": "e79a94c6",
   "metadata": {},
   "source": [
    "# MoveNet을 이용한 Pose 추정\n",
    "\n",
    "- Google Research에서 공개한 pose 추정 모델.\n",
    "- 데스크탑, 노트북, 휴대폰 등의 일반적인 환경에서도 좋은 속도와 성능을 내는 것을 특징으로 한다.\n",
    "- 다음 두가지 버전의 모델을 제공\n",
    "    - Thunder: 높은 정확도를 필요로하는 application을 위한 모델\n",
    "    - Lightning: 처리시간(빠른 처리)이 중요한 application을 위한 모델\n",
    "- 또한 single pose 모델과 multi pose 모델을 제공한다.\n",
    "    - multipose 모델은 최대 6명까지 검출한다.\n",
    "    \n",
    "- 모든 모델은 Tensorflow hub를 통해 제공한다.\n",
    "    - Tensorflow 버전, TFLite 버전, Tensorflow.js 버전을 제공한다.\n",
    "- [Tutorial](https://www.tensorflow.org/hub/tutorials/movenet)\n",
    "- [라이브데모](https://storage.googleapis.com/tfjs-models/demos/pose-detection/index.html?model=movenet)\n",
    "    \n",
    "> ## Tensorflow hub\n",
    "> \n",
    "> Tensorflow hub는 각 분야의 미리학습된 모델들의 저장소이다. \n",
    "> 서비스를 위한 완성된 모델이나 transfer learning을 위한 모델에 tensorflow hub에서 제공하는 모델을 간단한 코드 몇줄로 쉽게 적용할 수 있다.\n",
    "> \n",
    "> - https://www.tensorflow.org/hub/tutorials?hl=ko\n",
    "> - 모델 검색: https://tfhub.dev/"
   ]
  },
  {
   "cell_type": "markdown",
   "id": "e7fddcc8",
   "metadata": {},
   "source": [
    "## MoveNet 출력 Keypoints\n",
    "\n",
    "- 추론결과: 17개의 keypoint를 출력한다. 각 keypoint는 (**Y**좌표, **X**좌표, confidence score) 3개의 값으로 구성된다.\n",
    "    - singlepose의 경우 (17, 3) 으로 구성된다. \n",
    "\n",
    "<center><span style=\"font-size:large;font-weight:bold\">17개 keypoints index</span></center>\n",
    "\n",
    "<b>\n",
    "    \n",
    "|<span style=\"font-size:medium;\">index</span>|<span style=\"font-size:medium;\">위치</span>\n",
    "|-|-\n",
    "|0|nose\n",
    "|1|left eye\n",
    "|2|right eye\n",
    "|3|left ear\n",
    "|4|right ear\n",
    "|5|left shoulder\n",
    "|6|right shoulder\n",
    "|7|left elbow\n",
    "|8|right elbow\n",
    "|9|left wrist\n",
    "|10|right wrist\n",
    "|11|left hip\n",
    "|12|right hip\n",
    "|13|left knee\n",
    "|14|right knee\n",
    "|15|left ankle\n",
    "|16|right ankle\n",
    "    \n",
    "</b>\n",
    "    \n"
   ]
  },
  {
   "cell_type": "markdown",
   "id": "7c8fc991",
   "metadata": {},
   "source": [
    "# 구현"
   ]
  },
  {
   "cell_type": "code",
   "execution_count": null,
   "id": "750d8e46",
   "metadata": {},
   "outputs": [],
   "source": []
  },
  {
   "cell_type": "markdown",
   "id": "4249439a",
   "metadata": {},
   "source": [
    "## 모델 로딩"
   ]
  },
  {
   "cell_type": "code",
   "execution_count": null,
   "id": "980dbfc8",
   "metadata": {},
   "outputs": [],
   "source": []
  },
  {
   "cell_type": "markdown",
   "id": "3c5ee45e",
   "metadata": {},
   "source": [
    "## 추론할 이미지 로딩및 전처리\n",
    "- 이미지를 모델에 맞게 resize한다.\n",
    "    - thunder: 256, 256\n",
    "    - lightning: 192, 192\n",
    "- 타입: int32"
   ]
  },
  {
   "cell_type": "code",
   "execution_count": null,
   "id": "f66cabe7",
   "metadata": {},
   "outputs": [],
   "source": []
  },
  {
   "cell_type": "code",
   "execution_count": null,
   "id": "cbd08f52",
   "metadata": {},
   "outputs": [],
   "source": []
  },
  {
   "cell_type": "markdown",
   "id": "0038e106",
   "metadata": {},
   "source": [
    "## 추론 및 결과 조회"
   ]
  },
  {
   "cell_type": "code",
   "execution_count": null,
   "id": "55f4478d",
   "metadata": {},
   "outputs": [],
   "source": []
  },
  {
   "cell_type": "code",
   "execution_count": null,
   "id": "1386ece4",
   "metadata": {},
   "outputs": [],
   "source": []
  },
  {
   "cell_type": "markdown",
   "id": "83d2a670",
   "metadata": {},
   "source": [
    "## 추론한 keypoint 원본 영상에 표시\n",
    "- keypoints: 찾은 관절표시\n",
    "- edge: 관절 연결"
   ]
  },
  {
   "cell_type": "code",
   "execution_count": 124,
   "id": "649903e9",
   "metadata": {
    "ExecuteTime": {
     "end_time": "2022-10-16T13:53:01.462062Z",
     "start_time": "2022-10-16T13:53:01.446419Z"
    }
   },
   "outputs": [],
   "source": [
    "EDGE_LINK = [\n",
    "    (0, 1),\n",
    "    (0, 2),\n",
    "    (1, 3),\n",
    "    (2, 4),\n",
    "    (0, 5),\n",
    "    (0, 6),\n",
    "    (5, 7),\n",
    "    (7, 9),\n",
    "    (6, 8),\n",
    "    (8, 10),\n",
    "    (5, 6),\n",
    "    (5, 11),\n",
    "    (6, 12),\n",
    "    (11, 12),\n",
    "    (11, 13),\n",
    "    (13, 15),\n",
    "    (12, 14),\n",
    "    (14, 16)\n",
    "]"
   ]
  },
  {
   "cell_type": "code",
   "execution_count": null,
   "id": "4f3cac2f",
   "metadata": {},
   "outputs": [],
   "source": []
  },
  {
   "cell_type": "code",
   "execution_count": null,
   "id": "77bfd434",
   "metadata": {},
   "outputs": [],
   "source": []
  }
 ],
 "metadata": {
  "kernelspec": {
   "display_name": "Python 3 (ipykernel)",
   "language": "python",
   "name": "python3"
  },
  "language_info": {
   "codemirror_mode": {
    "name": "ipython",
    "version": 3
   },
   "file_extension": ".py",
   "mimetype": "text/x-python",
   "name": "python",
   "nbconvert_exporter": "python",
   "pygments_lexer": "ipython3",
   "version": "3.9.16"
  },
  "toc": {
   "base_numbering": 1,
   "nav_menu": {},
   "number_sections": true,
   "sideBar": true,
   "skip_h1_title": false,
   "title_cell": "Table of Contents",
   "title_sidebar": "Contents",
   "toc_cell": false,
   "toc_position": {},
   "toc_section_display": true,
   "toc_window_display": false
  },
  "varInspector": {
   "cols": {
    "lenName": 16,
    "lenType": 16,
    "lenVar": 40
   },
   "kernels_config": {
    "python": {
     "delete_cmd_postfix": "",
     "delete_cmd_prefix": "del ",
     "library": "var_list.py",
     "varRefreshCmd": "print(var_dic_list())"
    },
    "r": {
     "delete_cmd_postfix": ") ",
     "delete_cmd_prefix": "rm(",
     "library": "var_list.r",
     "varRefreshCmd": "cat(var_dic_list()) "
    }
   },
   "types_to_exclude": [
    "module",
    "function",
    "builtin_function_or_method",
    "instance",
    "_Feature"
   ],
   "window_display": false
  }
 },
 "nbformat": 4,
 "nbformat_minor": 5
}
