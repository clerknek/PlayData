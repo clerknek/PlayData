{
 "cells": [
  {
   "cell_type": "markdown",
   "metadata": {
    "slideshow": {
     "slide_type": "slide"
    }
   },
   "source": [
    "# tf.data 모듈\n",
    "- 데이터 입력 파이프라인을 위한 모듈\n",
    "    - 모델 학습/평가를 위한 데이터셋을 제공(feeding)하기 위한 모듈\n",
    "   - raw dataset 에서 입력을 위한 **전처리**, **배치 크키**, **shuffling**등을 한번에 처리할 수 있게 한다.\n",
    "- tf.data.Dataset 추상클래스에서 상속된 여러가지 클래스들을 제공\n",
    "    - 입력 소스의 제공 형태, 어떤 처리를 하는지에 따라 다양한 하위클래스들이 제공된다."
   ]
  },
  {
   "cell_type": "markdown",
   "metadata": {
    "slideshow": {
     "slide_type": "fragment"
    }
   },
   "source": [
    "## Dataset API 사용\n",
    "1. **Dataset 생성**\n",
    "    - raw dataset을 지정 (Loading)\n",
    "    - from_tensor_slices(), from_generator() 클래스 메소드, tf.data.TFRecordDataset 클래스등를 사용해 메모리나 파일에 있는 데이터를 Dataset으로 만든다.\n",
    "    - **from_tensor_slices()**: 메모리의 리스트, 넘파이배열, 텐서플로 자료형에서 데이터를 생성한다."
   ]
  },
  {
   "cell_type": "markdown",
   "metadata": {
    "slideshow": {
     "slide_type": "fragment"
    }
   },
   "source": [
    "2. **제공 데이터 전처리**\n",
    "    - **map(함수)**: Dataset이 제공하는 원소를 처리해서 변환된 원소를 제공하도록 한다.\n",
    "        - 함수: 원소를 어떻게 변환할 지 정의한 함수를 매개변수로 전달한다.\n",
    "            - 매개변수: Dataset이 제공하는 원소를 받을 변수. \n",
    "            - 반환값: Dataset이 제공한 원소를 변경처리한 값.\n",
    "    - **filter(함수)**: Dataset이 제공하는 원소중 특정 조건을 만족하는(True)인 원소들만 제공한다.\n",
    "        - 함수: 원소가 특정조건을 만족하는지 여부를 확인하는 로직을 정의한 함수를 매개변수로 전달한다.\n",
    "            - 매개변수: Dataset이 제공하는 원소를 받을 변수.\n",
    "            - 반환값: Dataset이 제공한 원소가 특정조건을 만족하는지 여부(bool)"
   ]
  },
  {
   "cell_type": "markdown",
   "metadata": {
    "slideshow": {
     "slide_type": "fragment"
    }
   },
   "source": [
    "3. **데이터 제공 설정 관련**\n",
    "    - **batch(size)**: 학습/평가시 한번에 제공할 batch size 지정\n",
    "        - size: int. batch size 지정\n",
    "        - drop_remainder: bool. True일 경우 마지막 제공시 남은 데이터수가 batch size보다 작으면 제공하지 않는다.\n",
    "    - **shuffle(buffer 크기)**: dataset의 원소들의 순서를 섞는다. \n",
    "        - buffer 크기: int. buffer 크기는 섞는 공간의 크기로  **데이터보다 크거나 같으면** 완전셔플, **적으면 일부만 가져와서 섞어** 완전셔플이 안된다.\n",
    "        - 데이터 사이즈가 너무 커서 메모리가 부족할 경우 버퍼크기를 적게 준다.\n",
    "        - 메모리가 충분하다면 데이터의 개수와 동일하게 주면된다.\n",
    "    - **repeat(count)**: 전체 데이터를 한번 다 제공한 뒤 다시 데이터를 제공한다.\n",
    "        - count: 몇번 제공할지 반복 횟수\n",
    "        - shuffle이 적용된 Dataset의 경우 다음 반복 제공마다 shuffle을 진행한다. (에폭단위)\n",
    "        "
   ]
  },
  {
   "cell_type": "markdown",
   "metadata": {
    "slideshow": {
     "slide_type": "fragment"
    }
   },
   "source": [
    "- 각 tf.data 함수들은 각 기능에 맞게 데이터를 처리하는 Dataset 객체를 반환한다."
   ]
  },
  {
   "cell_type": "markdown",
   "metadata": {
    "slideshow": {
     "slide_type": "fragment"
    }
   },
   "source": [
    "### Dataset 메소드\n",
    "- take(개수): 지정한 개수만큼의 데이터만 제공한다."
   ]
  },
  {
   "cell_type": "code",
   "execution_count": 1,
   "metadata": {
    "ExecuteTime": {
     "end_time": "2023-02-21T00:23:36.528304Z",
     "start_time": "2023-02-21T00:23:21.584928Z"
    }
   },
   "outputs": [],
   "source": [
    "import tensorflow as tf\n",
    "import numpy as np"
   ]
  },
  {
   "cell_type": "markdown",
   "metadata": {
    "slideshow": {
     "slide_type": "fragment"
    }
   },
   "source": [
    "##### Tensor Type\n",
    ">- TensorFlow의 기본 data 자료구조.\n",
    ">- numpy가 ndarray를 이용해 데이터를 관리하듯이 tensorflow를 Tensor를 이용해 데이터를 관리한다.\n",
    ">    - Tesorflow의 모델이 학습, 평가할때 사용하는 데이터셋(train dataset, validation dataset, test dataset)은 tf.Tensor 타입이어야 한다.\n",
    ">        - 학습/평가(model.fit(), model.evaluate()) 할때 ndarray를 입력 데이터셋으로 넣어주면 내부적으로 tf.Tensor로 변형해서 처리.\n",
    ">        - tf.Tensor는 데이터셋을 ndarray로 가지고 있다."
   ]
  },
  {
   "cell_type": "code",
   "execution_count": 2,
   "metadata": {
    "ExecuteTime": {
     "end_time": "2023-02-21T00:23:36.668390Z",
     "start_time": "2023-02-21T00:23:36.535134Z"
    }
   },
   "outputs": [
    {
     "data": {
      "text/plain": [
       "<tf.Tensor: shape=(3,), dtype=float32, numpy=array([1., 2., 3.], dtype=float32)>"
      ]
     },
     "execution_count": 2,
     "metadata": {},
     "output_type": "execute_result"
    }
   ],
   "source": [
    "t = tf.constant([1, 2, 3], dtype='float32')\n",
    "t"
   ]
  },
  {
   "cell_type": "code",
   "execution_count": 3,
   "metadata": {
    "ExecuteTime": {
     "end_time": "2023-02-21T00:23:36.700408Z",
     "start_time": "2023-02-21T00:23:36.675393Z"
    }
   },
   "outputs": [
    {
     "data": {
      "text/plain": [
       "(TensorShape([3]), tf.float32)"
      ]
     },
     "execution_count": 3,
     "metadata": {},
     "output_type": "execute_result"
    }
   ],
   "source": [
    "t.shape, t.dtype"
   ]
  },
  {
   "cell_type": "code",
   "execution_count": 4,
   "metadata": {
    "ExecuteTime": {
     "end_time": "2023-02-21T00:23:36.732400Z",
     "start_time": "2023-02-21T00:23:36.710394Z"
    }
   },
   "outputs": [
    {
     "data": {
      "text/plain": [
       "array([1., 2., 3.], dtype=float32)"
      ]
     },
     "execution_count": 4,
     "metadata": {},
     "output_type": "execute_result"
    }
   ],
   "source": [
    "# Tensor -> ndarray로 변환\n",
    "a = t.numpy()\n",
    "a"
   ]
  },
  {
   "cell_type": "code",
   "execution_count": 5,
   "metadata": {
    "ExecuteTime": {
     "end_time": "2023-02-21T00:23:36.764434Z",
     "start_time": "2023-02-21T00:23:36.738403Z"
    }
   },
   "outputs": [
    {
     "data": {
      "text/plain": [
       "<tf.Tensor: shape=(10,), dtype=int32, numpy=array([0, 1, 2, 3, 4, 5, 6, 7, 8, 9])>"
      ]
     },
     "execution_count": 5,
     "metadata": {},
     "output_type": "execute_result"
    }
   ],
   "source": [
    "# ndarray/list => Tensor\n",
    "tf.constant(np.arange(10))"
   ]
  },
  {
   "cell_type": "code",
   "execution_count": 6,
   "metadata": {
    "ExecuteTime": {
     "end_time": "2023-02-21T00:23:36.796391Z",
     "start_time": "2023-02-21T00:23:36.769405Z"
    }
   },
   "outputs": [
    {
     "data": {
      "text/plain": [
       "<tf.Tensor: shape=(3,), dtype=float32, numpy=array([1., 2., 3.], dtype=float32)>"
      ]
     },
     "execution_count": 6,
     "metadata": {},
     "output_type": "execute_result"
    }
   ],
   "source": [
    "tf.convert_to_tensor(a)"
   ]
  },
  {
   "cell_type": "markdown",
   "metadata": {
    "slideshow": {
     "slide_type": "slide"
    }
   },
   "source": [
    "## Dataset 예제"
   ]
  },
  {
   "cell_type": "code",
   "execution_count": 7,
   "metadata": {
    "ExecuteTime": {
     "end_time": "2023-02-21T00:23:36.828402Z",
     "start_time": "2023-02-21T00:23:36.802443Z"
    }
   },
   "outputs": [
    {
     "data": {
      "text/plain": [
       "array([0, 1, 2, 3, 4, 5, 6, 7, 8, 9])"
      ]
     },
     "execution_count": 7,
     "metadata": {},
     "output_type": "execute_result"
    }
   ],
   "source": [
    "# 0 ~ 9 정수 -> input data\n",
    "raw_data1 = np.arange(10)\n",
    "raw_data1"
   ]
  },
  {
   "cell_type": "code",
   "execution_count": 8,
   "metadata": {
    "ExecuteTime": {
     "end_time": "2023-02-21T00:23:36.860430Z",
     "start_time": "2023-02-21T00:23:36.834403Z"
    }
   },
   "outputs": [
    {
     "name": "stdout",
     "output_type": "stream",
     "text": [
      "<class 'tensorflow.python.data.ops.from_tensor_slices_op.TensorSliceDataset'>\n"
     ]
    }
   ],
   "source": [
    "# DataSet을 생성 -> 대상 raw dataset 메모리에 있는 ndarray일때,\n",
    "dataset = tf.data.Dataset.from_tensor_slices(raw_data1) # ndarray 데이터셋을 Dataset 파이프라인으로 읽어오는 역할\n",
    "print(type(dataset))"
   ]
  },
  {
   "cell_type": "code",
   "execution_count": 9,
   "metadata": {
    "ExecuteTime": {
     "end_time": "2023-02-21T00:23:36.988395Z",
     "start_time": "2023-02-21T00:23:36.865436Z"
    }
   },
   "outputs": [
    {
     "name": "stdout",
     "output_type": "stream",
     "text": [
      "tf.Tensor(0, shape=(), dtype=int32)\n",
      "tf.Tensor(1, shape=(), dtype=int32)\n",
      "tf.Tensor(2, shape=(), dtype=int32)\n",
      "tf.Tensor(3, shape=(), dtype=int32)\n",
      "tf.Tensor(4, shape=(), dtype=int32)\n",
      "tf.Tensor(5, shape=(), dtype=int32)\n",
      "tf.Tensor(6, shape=(), dtype=int32)\n",
      "tf.Tensor(7, shape=(), dtype=int32)\n",
      "tf.Tensor(8, shape=(), dtype=int32)\n",
      "tf.Tensor(9, shape=(), dtype=int32)\n"
     ]
    }
   ],
   "source": [
    "# Dataset -> Iterable 타입 => for in\n",
    "for data in dataset:\n",
    "    print(data)"
   ]
  },
  {
   "cell_type": "code",
   "execution_count": 10,
   "metadata": {
    "ExecuteTime": {
     "end_time": "2023-02-21T00:23:37.036397Z",
     "start_time": "2023-02-21T00:23:36.998413Z"
    }
   },
   "outputs": [
    {
     "name": "stdout",
     "output_type": "stream",
     "text": [
      "tf.Tensor(0, shape=(), dtype=int32)\n",
      "tf.Tensor(1, shape=(), dtype=int32)\n",
      "tf.Tensor(2, shape=(), dtype=int32)\n"
     ]
    }
   ],
   "source": [
    "for data in dataset.take(3): # dataset에서 3개만 조회\n",
    "    print(data)"
   ]
  },
  {
   "cell_type": "code",
   "execution_count": 11,
   "metadata": {
    "ExecuteTime": {
     "end_time": "2023-02-21T00:23:37.068394Z",
     "start_time": "2023-02-21T00:23:37.042412Z"
    }
   },
   "outputs": [
    {
     "name": "stdout",
     "output_type": "stream",
     "text": [
      "[0 1 2 3 4 5 6 7 8 9] 10\n",
      "[10 11 12 13 14 15 16 17 18 19] 10\n"
     ]
    }
   ],
   "source": [
    "raw_data2 = np.arange(10, 20)\n",
    "print(raw_data1, len(raw_data1))\n",
    "print(raw_data2, len(raw_data2))"
   ]
  },
  {
   "cell_type": "markdown",
   "metadata": {
    "slideshow": {
     "slide_type": "slide"
    }
   },
   "source": [
    "##### x, y 묶어서 제공\n",
    "- 두개 이상의 데이터셋을 묶어서 제공할 경우 Tuple로 묶어준다.\n",
    "    - Dataset이 feeding 할 때는 같은 index의 값들을 tuple로 묶어서 제공 (zip()과 동일)"
   ]
  },
  {
   "cell_type": "code",
   "execution_count": 12,
   "metadata": {
    "ExecuteTime": {
     "end_time": "2023-02-21T00:23:37.116433Z",
     "start_time": "2023-02-21T00:23:37.074397Z"
    }
   },
   "outputs": [
    {
     "name": "stdout",
     "output_type": "stream",
     "text": [
      "(<tf.Tensor: shape=(), dtype=int32, numpy=0>, <tf.Tensor: shape=(), dtype=int32, numpy=10>)\n"
     ]
    }
   ],
   "source": [
    "dataset2 =  tf.data.Dataset.from_tensor_slices((raw_data1, raw_data2))\n",
    "for data in dataset2.take(1): # 두 dataset(raw_data1, raw_data2)의 같은 index의 값들을 묶어서 튜플로 반환\n",
    "    print(data)"
   ]
  },
  {
   "cell_type": "code",
   "execution_count": 13,
   "metadata": {
    "ExecuteTime": {
     "end_time": "2023-02-21T00:23:37.163393Z",
     "start_time": "2023-02-21T00:23:37.121393Z"
    }
   },
   "outputs": [
    {
     "name": "stdout",
     "output_type": "stream",
     "text": [
      "tf.Tensor(0, shape=(), dtype=int32)=============tf.Tensor(10, shape=(), dtype=int32)\n",
      "tf.Tensor(1, shape=(), dtype=int32)=============tf.Tensor(11, shape=(), dtype=int32)\n",
      "tf.Tensor(2, shape=(), dtype=int32)=============tf.Tensor(12, shape=(), dtype=int32)\n",
      "tf.Tensor(3, shape=(), dtype=int32)=============tf.Tensor(13, shape=(), dtype=int32)\n",
      "tf.Tensor(4, shape=(), dtype=int32)=============tf.Tensor(14, shape=(), dtype=int32)\n",
      "tf.Tensor(5, shape=(), dtype=int32)=============tf.Tensor(15, shape=(), dtype=int32)\n",
      "tf.Tensor(6, shape=(), dtype=int32)=============tf.Tensor(16, shape=(), dtype=int32)\n",
      "tf.Tensor(7, shape=(), dtype=int32)=============tf.Tensor(17, shape=(), dtype=int32)\n",
      "tf.Tensor(8, shape=(), dtype=int32)=============tf.Tensor(18, shape=(), dtype=int32)\n",
      "tf.Tensor(9, shape=(), dtype=int32)=============tf.Tensor(19, shape=(), dtype=int32)\n"
     ]
    }
   ],
   "source": [
    "for x, y in dataset2:\n",
    "    print(x, y, sep=\"=============\")"
   ]
  },
  {
   "cell_type": "markdown",
   "metadata": {
    "slideshow": {
     "slide_type": "slide"
    }
   },
   "source": [
    "##### shuffle\n",
    "- 데이터셋을 섞는다."
   ]
  },
  {
   "cell_type": "code",
   "execution_count": 14,
   "metadata": {
    "ExecuteTime": {
     "end_time": "2023-02-21T00:23:37.195394Z",
     "start_time": "2023-02-21T00:23:37.168392Z"
    }
   },
   "outputs": [
    {
     "name": "stdout",
     "output_type": "stream",
     "text": [
      "tf.Tensor(0, shape=(), dtype=int32)\n",
      "tf.Tensor(1, shape=(), dtype=int32)\n",
      "tf.Tensor(2, shape=(), dtype=int32)\n",
      "tf.Tensor(3, shape=(), dtype=int32)\n",
      "tf.Tensor(4, shape=(), dtype=int32)\n",
      "tf.Tensor(5, shape=(), dtype=int32)\n",
      "tf.Tensor(6, shape=(), dtype=int32)\n",
      "tf.Tensor(7, shape=(), dtype=int32)\n",
      "tf.Tensor(8, shape=(), dtype=int32)\n",
      "tf.Tensor(9, shape=(), dtype=int32)\n"
     ]
    }
   ],
   "source": [
    "for data in dataset:\n",
    "    print(data)"
   ]
  },
  {
   "cell_type": "code",
   "execution_count": 15,
   "metadata": {
    "ExecuteTime": {
     "end_time": "2023-02-21T00:23:37.227392Z",
     "start_time": "2023-02-21T00:23:37.201393Z"
    }
   },
   "outputs": [
    {
     "name": "stdout",
     "output_type": "stream",
     "text": [
      "<class 'tensorflow.python.data.ops.dataset_ops.ShuffleDataset'>\n"
     ]
    }
   ],
   "source": [
    "raw_data1 = np.arange(10)\n",
    "dataset = tf.data.Dataset.from_tensor_slices(raw_data1)\n",
    "dataset3 = dataset.shuffle(10) # 데이터를 섞어준다. 데이터셋을 처음 읽을 때 한번 섞는다.\n",
    "print(type(dataset3))"
   ]
  },
  {
   "cell_type": "code",
   "execution_count": 16,
   "metadata": {
    "ExecuteTime": {
     "end_time": "2023-02-21T00:23:37.275394Z",
     "start_time": "2023-02-21T00:23:37.231394Z"
    }
   },
   "outputs": [
    {
     "name": "stdout",
     "output_type": "stream",
     "text": [
      "tf.Tensor(8, shape=(), dtype=int32)\n",
      "tf.Tensor(7, shape=(), dtype=int32)\n",
      "tf.Tensor(6, shape=(), dtype=int32)\n",
      "tf.Tensor(1, shape=(), dtype=int32)\n",
      "tf.Tensor(9, shape=(), dtype=int32)\n",
      "tf.Tensor(3, shape=(), dtype=int32)\n",
      "tf.Tensor(4, shape=(), dtype=int32)\n",
      "tf.Tensor(2, shape=(), dtype=int32)\n",
      "tf.Tensor(0, shape=(), dtype=int32)\n",
      "tf.Tensor(5, shape=(), dtype=int32)\n"
     ]
    }
   ],
   "source": [
    "for data in dataset3:\n",
    "    print(data)"
   ]
  },
  {
   "cell_type": "markdown",
   "metadata": {
    "slideshow": {
     "slide_type": "slide"
    }
   },
   "source": [
    "##### batch\n",
    "- drop_remainder: boolean(기본-False)\n",
    "    - batch로 제공할 데이터의 개수가 설정한 batch_size 보다 적으면 제공하지 않는다.\n",
    "    - Train dataset을 만들때 True로 설정하여 항상 일정한 batch size로 학습할 수 있도록 한다. drop 되는 데이터는 다른 epoch을 반복할 때 사용된다."
   ]
  },
  {
   "cell_type": "code",
   "execution_count": 17,
   "metadata": {
    "ExecuteTime": {
     "end_time": "2023-02-21T00:23:37.323392Z",
     "start_time": "2023-02-21T00:23:37.279394Z"
    }
   },
   "outputs": [
    {
     "name": "stdout",
     "output_type": "stream",
     "text": [
      "<class 'tensorflow.python.data.ops.dataset_ops.BatchDataset'>\n",
      "tf.Tensor([0 1 2 3 4], shape=(5,), dtype=int32)\n",
      "tf.Tensor([5 6 7 8 9], shape=(5,), dtype=int32)\n"
     ]
    }
   ],
   "source": [
    "dataset4 = dataset.batch(5)  # batch size 설정 -> 한번에 지정한 개수만큼 제공\n",
    "print(type(dataset4))\n",
    "for data in dataset4:\n",
    "    print(data)"
   ]
  },
  {
   "cell_type": "code",
   "execution_count": 18,
   "metadata": {
    "ExecuteTime": {
     "end_time": "2023-02-21T00:23:37.386394Z",
     "start_time": "2023-02-21T00:23:37.337392Z"
    }
   },
   "outputs": [
    {
     "name": "stdout",
     "output_type": "stream",
     "text": [
      "tf.Tensor([0 1 2], shape=(3,), dtype=int32)\n",
      "tf.Tensor([3 4 5], shape=(3,), dtype=int32)\n",
      "tf.Tensor([6 7 8], shape=(3,), dtype=int32)\n",
      "tf.Tensor([9], shape=(1,), dtype=int32)\n"
     ]
    }
   ],
   "source": [
    "dataset5 = dataset.batch(3) # 읽어올 데이터의 개수가 batch_size보다 적으면 제공하지 않는다. => train dataset 생성할때 설정.\n",
    "for data in dataset5:\n",
    "    print(data)"
   ]
  },
  {
   "cell_type": "code",
   "execution_count": 19,
   "metadata": {
    "ExecuteTime": {
     "end_time": "2023-02-21T00:23:37.434400Z",
     "start_time": "2023-02-21T00:23:37.391395Z"
    }
   },
   "outputs": [
    {
     "name": "stdout",
     "output_type": "stream",
     "text": [
      "tf.Tensor([0 1 2], shape=(3,), dtype=int32)\n",
      "tf.Tensor([3 4 5], shape=(3,), dtype=int32)\n",
      "tf.Tensor([6 7 8], shape=(3,), dtype=int32)\n"
     ]
    }
   ],
   "source": [
    "dataset5 = dataset.batch(3, drop_remainder=True) # drop_remainder를 통해 마지막꺼는 없애기 ->현재 epoch에서만 안쓰는 것 -> 다음 epoch에서는 shuffle을 진행하기 때문\n",
    "for data in dataset5:\n",
    "    print(data)"
   ]
  },
  {
   "cell_type": "markdown",
   "metadata": {
    "slideshow": {
     "slide_type": "slide"
    }
   },
   "source": [
    "##### repeat"
   ]
  },
  {
   "cell_type": "code",
   "execution_count": 20,
   "metadata": {
    "ExecuteTime": {
     "end_time": "2023-02-21T00:23:37.481432Z",
     "start_time": "2023-02-21T00:23:37.439392Z"
    },
    "scrolled": true
   },
   "outputs": [
    {
     "name": "stdout",
     "output_type": "stream",
     "text": [
      "<class 'tensorflow.python.data.ops.dataset_ops.RepeatDataset'>\n",
      "tf.Tensor(0, shape=(), dtype=int32)\n",
      "tf.Tensor(1, shape=(), dtype=int32)\n",
      "tf.Tensor(2, shape=(), dtype=int32)\n",
      "tf.Tensor(3, shape=(), dtype=int32)\n",
      "tf.Tensor(4, shape=(), dtype=int32)\n",
      "tf.Tensor(5, shape=(), dtype=int32)\n",
      "tf.Tensor(6, shape=(), dtype=int32)\n",
      "tf.Tensor(7, shape=(), dtype=int32)\n",
      "tf.Tensor(8, shape=(), dtype=int32)\n",
      "tf.Tensor(9, shape=(), dtype=int32)\n",
      "tf.Tensor(0, shape=(), dtype=int32)\n",
      "tf.Tensor(1, shape=(), dtype=int32)\n",
      "tf.Tensor(2, shape=(), dtype=int32)\n",
      "tf.Tensor(3, shape=(), dtype=int32)\n",
      "tf.Tensor(4, shape=(), dtype=int32)\n",
      "tf.Tensor(5, shape=(), dtype=int32)\n",
      "tf.Tensor(6, shape=(), dtype=int32)\n",
      "tf.Tensor(7, shape=(), dtype=int32)\n",
      "tf.Tensor(8, shape=(), dtype=int32)\n",
      "tf.Tensor(9, shape=(), dtype=int32)\n"
     ]
    }
   ],
   "source": [
    "dataset6 = dataset.repeat(2) # 지정한 횟수만큼 데이터를 반복해서 제공한다. (default: 1 -한번)\n",
    "print(type(dataset6))\n",
    "for data in dataset6:\n",
    "    print(data)"
   ]
  },
  {
   "cell_type": "code",
   "execution_count": 21,
   "metadata": {
    "ExecuteTime": {
     "end_time": "2023-02-21T00:23:37.527430Z",
     "start_time": "2023-02-21T00:23:37.486394Z"
    }
   },
   "outputs": [
    {
     "name": "stdout",
     "output_type": "stream",
     "text": [
      "tf.Tensor([9 6 1], shape=(3,), dtype=int32)\n",
      "tf.Tensor([5 4 0], shape=(3,), dtype=int32)\n",
      "tf.Tensor([7 8 2], shape=(3,), dtype=int32)\n",
      "tf.Tensor([3], shape=(1,), dtype=int32)\n",
      "tf.Tensor([1 3 0], shape=(3,), dtype=int32)\n",
      "tf.Tensor([2 7 4], shape=(3,), dtype=int32)\n",
      "tf.Tensor([5 8 6], shape=(3,), dtype=int32)\n",
      "tf.Tensor([9], shape=(1,), dtype=int32)\n",
      "tf.Tensor([5 9 0], shape=(3,), dtype=int32)\n",
      "tf.Tensor([7 1 8], shape=(3,), dtype=int32)\n",
      "tf.Tensor([4 6 3], shape=(3,), dtype=int32)\n",
      "tf.Tensor([2], shape=(1,), dtype=int32)\n"
     ]
    }
   ],
   "source": [
    "# 데이터셋을 반복할때 마다 shuffle\n",
    "dataset7 = tf.data.Dataset.from_tensor_slices(raw_data1).shuffle(10).batch(3).repeat(3)\n",
    "for data in dataset7:\n",
    "    print(data)"
   ]
  },
  {
   "cell_type": "markdown",
   "metadata": {
    "slideshow": {
     "slide_type": "slide"
    }
   },
   "source": [
    "##### map"
   ]
  },
  {
   "cell_type": "code",
   "execution_count": 22,
   "metadata": {
    "ExecuteTime": {
     "end_time": "2023-02-21T00:23:37.655407Z",
     "start_time": "2023-02-21T00:23:37.531396Z"
    }
   },
   "outputs": [
    {
     "name": "stdout",
     "output_type": "stream",
     "text": [
      "WARNING:tensorflow:From C:\\Users\\jeonj\\anaconda3\\envs\\tf\\lib\\site-packages\\tensorflow\\python\\autograph\\pyct\\static_analysis\\liveness.py:83: Analyzer.lamba_check (from tensorflow.python.autograph.pyct.static_analysis.liveness) is deprecated and will be removed after 2023-09-23.\n",
      "Instructions for updating:\n",
      "Lambda fuctions will be no more assumed to be used in the statement where they are used, or at least in the same block. https://github.com/tensorflow/tensorflow/issues/56089\n",
      "<class 'tensorflow.python.data.ops.dataset_ops.MapDataset'>\n",
      "tf.Tensor(0, shape=(), dtype=int32)\n",
      "tf.Tensor(2, shape=(), dtype=int32)\n",
      "tf.Tensor(4, shape=(), dtype=int32)\n",
      "tf.Tensor(6, shape=(), dtype=int32)\n",
      "tf.Tensor(8, shape=(), dtype=int32)\n",
      "tf.Tensor(10, shape=(), dtype=int32)\n",
      "tf.Tensor(12, shape=(), dtype=int32)\n",
      "tf.Tensor(14, shape=(), dtype=int32)\n",
      "tf.Tensor(16, shape=(), dtype=int32)\n",
      "tf.Tensor(18, shape=(), dtype=int32)\n"
     ]
    }
   ],
   "source": [
    "dataset8 = dataset.map(lambda x: x * 2) # map(함수)\n",
    "print(type(dataset8))\n",
    "for data in dataset8:\n",
    "    print(data)"
   ]
  },
  {
   "cell_type": "code",
   "execution_count": 23,
   "metadata": {
    "ExecuteTime": {
     "end_time": "2023-02-21T00:23:37.687392Z",
     "start_time": "2023-02-21T00:23:37.662392Z"
    }
   },
   "outputs": [
    {
     "name": "stdout",
     "output_type": "stream",
     "text": [
      "tf.Tensor(0, shape=(), dtype=int32) tf.Tensor(10, shape=(), dtype=int32)\n",
      "tf.Tensor(1, shape=(), dtype=int32) tf.Tensor(11, shape=(), dtype=int32)\n",
      "tf.Tensor(2, shape=(), dtype=int32) tf.Tensor(12, shape=(), dtype=int32)\n",
      "tf.Tensor(3, shape=(), dtype=int32) tf.Tensor(13, shape=(), dtype=int32)\n",
      "tf.Tensor(4, shape=(), dtype=int32) tf.Tensor(14, shape=(), dtype=int32)\n",
      "tf.Tensor(5, shape=(), dtype=int32) tf.Tensor(15, shape=(), dtype=int32)\n",
      "tf.Tensor(6, shape=(), dtype=int32) tf.Tensor(16, shape=(), dtype=int32)\n",
      "tf.Tensor(7, shape=(), dtype=int32) tf.Tensor(17, shape=(), dtype=int32)\n",
      "tf.Tensor(8, shape=(), dtype=int32) tf.Tensor(18, shape=(), dtype=int32)\n",
      "tf.Tensor(9, shape=(), dtype=int32) tf.Tensor(19, shape=(), dtype=int32)\n"
     ]
    }
   ],
   "source": [
    "for x, y in dataset2:\n",
    "    print(x, y)"
   ]
  },
  {
   "cell_type": "code",
   "execution_count": 24,
   "metadata": {
    "ExecuteTime": {
     "end_time": "2023-02-21T00:23:37.829405Z",
     "start_time": "2023-02-21T00:23:37.692399Z"
    }
   },
   "outputs": [
    {
     "name": "stdout",
     "output_type": "stream",
     "text": [
      "tf.Tensor(0, shape=(), dtype=int32) tf.Tensor(20, shape=(), dtype=int32)\n",
      "tf.Tensor(1, shape=(), dtype=int32) tf.Tensor(21, shape=(), dtype=int32)\n",
      "tf.Tensor(4, shape=(), dtype=int32) tf.Tensor(22, shape=(), dtype=int32)\n",
      "tf.Tensor(9, shape=(), dtype=int32) tf.Tensor(23, shape=(), dtype=int32)\n",
      "tf.Tensor(16, shape=(), dtype=int32) tf.Tensor(24, shape=(), dtype=int32)\n",
      "tf.Tensor(25, shape=(), dtype=int32) tf.Tensor(25, shape=(), dtype=int32)\n",
      "tf.Tensor(36, shape=(), dtype=int32) tf.Tensor(26, shape=(), dtype=int32)\n",
      "tf.Tensor(49, shape=(), dtype=int32) tf.Tensor(27, shape=(), dtype=int32)\n",
      "tf.Tensor(64, shape=(), dtype=int32) tf.Tensor(28, shape=(), dtype=int32)\n",
      "tf.Tensor(81, shape=(), dtype=int32) tf.Tensor(29, shape=(), dtype=int32)\n"
     ]
    }
   ],
   "source": [
    "# 두개의 dataset(x, y)를 묶은 Dataset 객체\n",
    "def map_func(x, y):\n",
    "    return x**2, y+10 # X는 제곱, y는 그대로 반환\n",
    "\n",
    "dataset9 = dataset2.map(map_func)\n",
    "for x, y in dataset9:\n",
    "    print(x, y)"
   ]
  },
  {
   "cell_type": "markdown",
   "metadata": {
    "slideshow": {
     "slide_type": "slide"
    }
   },
   "source": [
    "##### filter"
   ]
  },
  {
   "cell_type": "code",
   "execution_count": 25,
   "metadata": {
    "ExecuteTime": {
     "end_time": "2023-02-21T00:23:37.956393Z",
     "start_time": "2023-02-21T00:23:37.835396Z"
    }
   },
   "outputs": [
    {
     "name": "stdout",
     "output_type": "stream",
     "text": [
      "<class 'tensorflow.python.data.ops.filter_op.FilterDataset'>\n",
      "tf.Tensor(0, shape=(), dtype=int32)\n",
      "tf.Tensor(2, shape=(), dtype=int32)\n",
      "tf.Tensor(4, shape=(), dtype=int32)\n",
      "tf.Tensor(6, shape=(), dtype=int32)\n",
      "tf.Tensor(8, shape=(), dtype=int32)\n"
     ]
    }
   ],
   "source": [
    "def filter_func(x):\n",
    "    return x % 2 == 0 \n",
    "\n",
    "dataset11 = dataset.filter(filter_func)\n",
    "print(type(dataset11))\n",
    "for data in dataset11:\n",
    "    print(data)"
   ]
  },
  {
   "cell_type": "markdown",
   "metadata": {
    "slideshow": {
     "slide_type": "slide"
    }
   },
   "source": [
    "# 문제 유형별 MLP 네트워크\n",
    "- MLP(Multi Layer Perceptron), ANN(Artificial Neural Network), DNN (Deep Neural Network)\n",
    "    - Fully Connected Layer로 구성된 네트워크"
   ]
  },
  {
   "cell_type": "code",
   "execution_count": 26,
   "metadata": {
    "ExecuteTime": {
     "end_time": "2023-02-21T00:23:43.529466Z",
     "start_time": "2023-02-21T00:23:37.962394Z"
    }
   },
   "outputs": [
    {
     "name": "stdout",
     "output_type": "stream",
     "text": [
      "Requirement already satisfied: scikit-learn in c:\\users\\jeonj\\anaconda3\\envs\\tf\\lib\\site-packages (1.2.1)\n",
      "Requirement already satisfied: numpy>=1.17.3 in c:\\users\\jeonj\\anaconda3\\envs\\tf\\lib\\site-packages (from scikit-learn) (1.24.2)\n",
      "Requirement already satisfied: joblib>=1.1.1 in c:\\users\\jeonj\\anaconda3\\envs\\tf\\lib\\site-packages (from scikit-learn) (1.2.0)\n",
      "Requirement already satisfied: scipy>=1.3.2 in c:\\users\\jeonj\\anaconda3\\envs\\tf\\lib\\site-packages (from scikit-learn) (1.10.1)\n",
      "Requirement already satisfied: threadpoolctl>=2.0.0 in c:\\users\\jeonj\\anaconda3\\envs\\tf\\lib\\site-packages (from scikit-learn) (3.1.0)\n"
     ]
    }
   ],
   "source": [
    "!pip install scikit-learn --upgrade"
   ]
  },
  {
   "cell_type": "markdown",
   "metadata": {
    "slideshow": {
     "slide_type": "fragment"
    }
   },
   "source": [
    "# Regression(회귀)\n",
    "\n",
    "## Boston Housing Dataset\n",
    "보스턴 주택가격 dataset은 다음과 같은 속성을 바탕으로 해당 타운 주택 가격의 중앙값을 예측하는 문제.\n",
    "- CRIM: 범죄율\n",
    "- ZN: 25,000 평방피트당 주거지역 비율\n",
    "- INDUS: 비소매 상업지구 비율\n",
    "- CHAS: 찰스강에 인접해 있는지 여부(인접:1, 아니면:0)\n",
    "- NOX: 일산화질소 농도(단위: 0.1ppm)\n",
    "- RM: 주택당 방의 수\n",
    "- AGE: 1940년 이전에 건설된 주택의 비율\n",
    "- DIS: 5개의 보스턴 직업고용센터와의 거리(가중 평균)\n",
    "- RAD: 고속도로 접근성\n",
    "- TAX: 재산세율\n",
    "- PTRATIO: 학생/교사 비율\n",
    "- B: 흑인 비율\n",
    "- LSTAT: 하위 계층 비율\n",
    "<br><br>\n",
    "- **Target**\n",
    "    - MEDV: 타운의 주택가격 중앙값(단위: 1,000달러)"
   ]
  },
  {
   "cell_type": "code",
   "execution_count": 27,
   "metadata": {
    "ExecuteTime": {
     "end_time": "2023-02-21T00:23:47.007549Z",
     "start_time": "2023-02-21T00:23:43.534429Z"
    }
   },
   "outputs": [],
   "source": [
    "import tensorflow as tf\n",
    "from tensorflow import keras\n",
    "from tensorflow.keras import layers\n",
    "\n",
    "import numpy as np\n",
    "import matplotlib.pyplot as plt\n",
    "\n",
    "from sklearn.preprocessing import StandardScaler\n",
    "import random"
   ]
  },
  {
   "cell_type": "code",
   "execution_count": 28,
   "metadata": {
    "ExecuteTime": {
     "end_time": "2023-02-21T00:23:47.038542Z",
     "start_time": "2023-02-21T00:23:47.026542Z"
    }
   },
   "outputs": [],
   "source": [
    "# random seed 값 설정\n",
    "tf.random.set_seed(0)\n",
    "np.random.seed(0)\n",
    "random.seed(0)"
   ]
  },
  {
   "cell_type": "markdown",
   "metadata": {
    "slideshow": {
     "slide_type": "slide"
    }
   },
   "source": [
    "##### 데이터 로딩"
   ]
  },
  {
   "cell_type": "code",
   "execution_count": 29,
   "metadata": {
    "ExecuteTime": {
     "end_time": "2023-02-21T00:23:47.102543Z",
     "start_time": "2023-02-21T00:23:47.046541Z"
    }
   },
   "outputs": [
    {
     "name": "stdout",
     "output_type": "stream",
     "text": [
      "(404, 13) (404,)\n",
      "(102, 13) (102,)\n"
     ]
    }
   ],
   "source": [
    "(train_X, y_train), (test_X, y_test) = keras.datasets.boston_housing.load_data()\n",
    "print(train_X.shape, y_train.shape)\n",
    "print(test_X.shape, y_test.shape)"
   ]
  },
  {
   "cell_type": "code",
   "execution_count": 30,
   "metadata": {
    "ExecuteTime": {
     "end_time": "2023-02-21T00:23:47.134540Z",
     "start_time": "2023-02-21T00:23:47.109540Z"
    }
   },
   "outputs": [
    {
     "name": "stdout",
     "output_type": "stream",
     "text": [
      "[  1.23247   0.        8.14      0.        0.538     6.142    91.7\n",
      "   3.9769    4.      307.       21.      396.9      18.72   ]\n",
      "15.2\n"
     ]
    }
   ],
   "source": [
    "print(train_X[0])\n",
    "print(y_train[0])"
   ]
  },
  {
   "cell_type": "markdown",
   "metadata": {
    "slideshow": {
     "slide_type": "slide"
    }
   },
   "source": [
    "##### 하이퍼파라미터, 변수 정의"
   ]
  },
  {
   "cell_type": "code",
   "execution_count": 31,
   "metadata": {
    "ExecuteTime": {
     "end_time": "2023-02-21T00:23:47.165545Z",
     "start_time": "2023-02-21T00:23:47.142540Z"
    }
   },
   "outputs": [],
   "source": [
    "# 하이퍼파리미터 변수\n",
    "\n",
    "LEARNING_RATE = 0.001 # 학습율 => 경사하강법에서 구한 gradient(경사-미분계수)에 곱해주는 값으로 0 ~ 1 사이 실수를 지정한다.\n",
    "N_EPOCH = 200 # 에폭수\n",
    "N_BATCH = 400 # Train 배치사이즈\n",
    "N_BATCH_VAL = 50 # Validation/ evaluation 배치 사이즈 => 교차검증 폴더 데이터 수"
   ]
  },
  {
   "cell_type": "markdown",
   "metadata": {
    "slideshow": {
     "slide_type": "fragment"
    }
   },
   "source": [
    "##### X, y 전처리\n",
    "- MLP는 선형모델을 기반으로 하므로 Feature scaling을 해준다."
   ]
  },
  {
   "cell_type": "code",
   "execution_count": 32,
   "metadata": {
    "ExecuteTime": {
     "end_time": "2023-02-21T00:23:47.196540Z",
     "start_time": "2023-02-21T00:23:47.170539Z"
    }
   },
   "outputs": [],
   "source": [
    "scaler = StandardScaler()\n",
    "X_train = scaler.fit_transform(train_X)\n",
    "X_test = scaler.transform(test_X)"
   ]
  },
  {
   "cell_type": "code",
   "execution_count": 33,
   "metadata": {
    "ExecuteTime": {
     "end_time": "2023-02-21T00:23:47.228544Z",
     "start_time": "2023-02-21T00:23:47.205540Z"
    }
   },
   "outputs": [
    {
     "data": {
      "text/plain": [
       "(2.6016254395785847e-15, 0.9999999999999993)"
      ]
     },
     "execution_count": 33,
     "metadata": {},
     "output_type": "execute_result"
    }
   ],
   "source": [
    "X_train.mean(), X_train.std()"
   ]
  },
  {
   "cell_type": "markdown",
   "metadata": {
    "slideshow": {
     "slide_type": "slide"
    }
   },
   "source": [
    "##### Dataset 생성\n",
    "\n",
    "- validation/test set의 pipe line은 동일하게 구성한다.\n",
    "- train dataset은 shuffle을 추가하고 batch에 drop_remainder=True를 설정한다.\n",
    "- map, filter 를 pipe line에 추가할 경우 train/validation/test set에 모두 동일하게 적용한다."
   ]
  },
  {
   "cell_type": "code",
   "execution_count": 34,
   "metadata": {
    "ExecuteTime": {
     "end_time": "2023-02-21T00:23:47.260536Z",
     "start_time": "2023-02-21T00:23:47.233547Z"
    }
   },
   "outputs": [
    {
     "data": {
      "text/plain": [
       "((404, 13), (102, 13))"
      ]
     },
     "execution_count": 34,
     "metadata": {},
     "output_type": "execute_result"
    }
   ],
   "source": [
    "X_train.shape, X_test.shape"
   ]
  },
  {
   "cell_type": "code",
   "execution_count": 35,
   "metadata": {
    "ExecuteTime": {
     "end_time": "2023-02-21T00:23:47.324541Z",
     "start_time": "2023-02-21T00:23:47.266538Z"
    }
   },
   "outputs": [],
   "source": [
    "train_dataset = tf.data.Dataset.from_tensor_slices((X_train, y_train))\\\n",
    "                               .shuffle(X_train.shape[0])\\\n",
    "                               .batch(N_BATCH, drop_remainder=True)\n",
    "\n",
    "test_dataset = tf.data.Dataset.from_tensor_slices((X_test, y_test)).batch(N_BATCH_VAL)\n",
    "# test/validation set은 1. shuffle 안한다. (평균결과로 평가하기 때문에) \n",
    "#                       2. batch->drop_remainder=False(기본)으로 설정."
   ]
  },
  {
   "cell_type": "code",
   "execution_count": 36,
   "metadata": {
    "ExecuteTime": {
     "end_time": "2023-02-21T00:23:47.355537Z",
     "start_time": "2023-02-21T00:23:47.330540Z"
    }
   },
   "outputs": [
    {
     "name": "stdout",
     "output_type": "stream",
     "text": [
      "epoch당 step수: 1\n",
      "epoch당 step수: 3\n"
     ]
    }
   ],
   "source": [
    "print('epoch당 step수:', len(train_dataset))\n",
    "print('epoch당 step수:', len(test_dataset))"
   ]
  },
  {
   "cell_type": "markdown",
   "metadata": {},
   "source": [
    "> - X_train 404개 -> 400개(N_BATCH)   --> 1 step\n",
    "> - X_test 102개 -> 50개 (N_BATCH_VAL) --> 3 step (drop remainder를 안했기 때문)"
   ]
  },
  {
   "cell_type": "markdown",
   "metadata": {
    "slideshow": {
     "slide_type": "slide"
    }
   },
   "source": [
    "##### 모델 구현\n",
    "\n",
    "1. 모델 객체 생성 - Sequential\n",
    "2. 모델에 Layer들 추가\n",
    "    - Input Layer 추가\n",
    "        - 입력 데이터의 shape을 지정한다.\n",
    "        1. InputLayer 객체를 생성해서 추가한다.\n",
    "        2. 첫번째 Hidden Layer에 input_shape 매개변수에 shape을 지정하여 추가한다.\n",
    "    - Hidden Layer들 추가\n",
    "        - Layer의 개수와 Layer의 Unit의 개수는 튜닝대상으로 성능에 영향을 준다.\n",
    "        - 활성함수는 ReLU 를 사용한다.\n",
    "        - Layer의 개수와 Unit 개수가 많을 수록 복잡한 모델, 적을 수록 단순한 모델이 된다.\n",
    "    - Output Layer 추가\n",
    "        - 풀려는 문제에 따라 unit개수와 활성함수를 지정한다."
   ]
  },
  {
   "cell_type": "code",
   "execution_count": 37,
   "metadata": {
    "ExecuteTime": {
     "end_time": "2023-02-21T00:23:47.387540Z",
     "start_time": "2023-02-21T00:23:47.360541Z"
    }
   },
   "outputs": [],
   "source": [
    "def get_model_boston(lr=0.01):\n",
    "    model = keras.Sequential()\n",
    "    # 첫번째 hidden layer에 input shape을 지정하고 inputlayer 추가를 생략\n",
    "    # activation 함수 Layer(layer.ReLU())는 Dense Layer 생성시 activation 속성에 추가 가능.\n",
    "    model.add(layers.Dense(units=32, activation='relu', input_shape=(13, )))\n",
    "    model.add(layers.Dense(units=16, activation='relu'))\n",
    "    model.add(layers.Dense(units=8, activation='relu'))\n",
    "    \n",
    "    # 회귀 output layer: unit 개수-예측하려는 값의 개수.\n",
    "    #                    확성함수 - 보통: None, 값의 범위를 맞추기 위해 logistic함수(sigmoid 0~1)나 tanh(-1~1)을 사용할 수 있다.\n",
    "    # y: 1개(집값의 중위수)\n",
    "    model.add(layers.Dense(units=1)) # activation: None\n",
    "    \n",
    "    # 컴파일\n",
    "    model.compile(optimizer=keras.optimizers.Adam(learning_rate=lr), # default 값으로 생성된 것을 사용할 경우 문자열로 지정\n",
    "                 loss = 'mse')\n",
    "    return model"
   ]
  },
  {
   "cell_type": "code",
   "execution_count": 38,
   "metadata": {
    "ExecuteTime": {
     "end_time": "2023-02-21T00:23:47.594541Z",
     "start_time": "2023-02-21T00:23:47.391540Z"
    }
   },
   "outputs": [
    {
     "name": "stdout",
     "output_type": "stream",
     "text": [
      "Model: \"sequential\"\n",
      "_________________________________________________________________\n",
      " Layer (type)                Output Shape              Param #   \n",
      "=================================================================\n",
      " dense (Dense)               (None, 32)                448       \n",
      "                                                                 \n",
      " dense_1 (Dense)             (None, 16)                528       \n",
      "                                                                 \n",
      " dense_2 (Dense)             (None, 8)                 136       \n",
      "                                                                 \n",
      " dense_3 (Dense)             (None, 1)                 9         \n",
      "                                                                 \n",
      "=================================================================\n",
      "Total params: 1,121\n",
      "Trainable params: 1,121\n",
      "Non-trainable params: 0\n",
      "_________________________________________________________________\n"
     ]
    }
   ],
   "source": [
    "model_boston = get_model_boston(0.05)\n",
    "# 딥러닝 모델의 구조 확인\n",
    "model_boston.summary()"
   ]
  },
  {
   "cell_type": "code",
   "execution_count": 39,
   "metadata": {
    "ExecuteTime": {
     "end_time": "2023-02-21T00:23:47.626551Z",
     "start_time": "2023-02-21T00:23:47.604539Z"
    }
   },
   "outputs": [
    {
     "data": {
      "text/plain": [
       "448"
      ]
     },
     "execution_count": 39,
     "metadata": {},
     "output_type": "execute_result"
    }
   ],
   "source": [
    "# 유닛당 파라미터(weight, bias) 개수\n",
    "# 입력 feature개수(weight 수) + 1(bias)\n",
    "\n",
    "# 첫번째 layer의 파라미터 수\n",
    "# 입력 feature: 13 (input_shape), units: 32\n",
    "(13 + 1)*32"
   ]
  },
  {
   "cell_type": "code",
   "execution_count": 40,
   "metadata": {
    "ExecuteTime": {
     "end_time": "2023-02-21T00:23:49.111074Z",
     "start_time": "2023-02-21T00:23:47.632553Z"
    }
   },
   "outputs": [
    {
     "data": {
      "image/png": "[encoded data removed]",
      "text/plain": [
       "<IPython.core.display.Image object>"
      ]
     },
     "execution_count": 40,
     "metadata": {},
     "output_type": "execute_result"
    }
   ],
   "source": [
    "keras.utils.plot_model(model_boston, show_shapes= True)"
   ]
  },
  {
   "cell_type": "markdown",
   "metadata": {
    "slideshow": {
     "slide_type": "slide"
    }
   },
   "source": [
    "##### 학습(Train)"
   ]
  },
  {
   "cell_type": "code",
   "execution_count": 41,
   "metadata": {
    "ExecuteTime": {
     "end_time": "2023-02-21T00:24:04.684220Z",
     "start_time": "2023-02-21T00:23:49.118076Z"
    }
   },
   "outputs": [
    {
     "name": "stdout",
     "output_type": "stream",
     "text": [
      "Epoch 1/200\n",
      "1/1 [==============================] - 2s 2s/step - loss: 592.7670 - val_loss: 580.1001\n",
      "Epoch 2/200\n",
      "1/1 [==============================] - 0s 50ms/step - loss: 550.8569 - val_loss: 508.6761\n",
      "Epoch 3/200\n",
      "1/1 [==============================] - 0s 48ms/step - loss: 483.9639 - val_loss: 387.6573\n",
      "Epoch 4/200\n",
      "1/1 [==============================] - 0s 48ms/step - loss: 365.3210 - val_loss: 233.4769\n",
      "Epoch 5/200\n",
      "1/1 [==============================] - 0s 44ms/step - loss: 219.1901 - val_loss: 143.1757\n",
      "Epoch 6/200\n",
      "1/1 [==============================] - 0s 49ms/step - loss: 146.6472 - val_loss: 199.8324\n",
      "Epoch 7/200\n",
      "1/1 [==============================] - 0s 44ms/step - loss: 207.8450 - val_loss: 148.0499\n",
      "Epoch 8/200\n",
      "1/1 [==============================] - 0s 49ms/step - loss: 149.4390 - val_loss: 83.5837\n",
      "Epoch 9/200\n",
      "1/1 [==============================] - 0s 47ms/step - loss: 81.3311 - val_loss: 66.5223\n",
      "Epoch 10/200\n",
      "1/1 [==============================] - 0s 50ms/step - loss: 57.9749 - val_loss: 74.0028\n",
      "Epoch 11/200\n",
      "1/1 [==============================] - 0s 45ms/step - loss: 67.0854 - val_loss: 78.7237\n",
      "Epoch 12/200\n",
      "1/1 [==============================] - 0s 70ms/step - loss: 70.4066 - val_loss: 72.5013\n",
      "Epoch 13/200\n",
      "1/1 [==============================] - 0s 75ms/step - loss: 58.8337 - val_loss: 60.3105\n",
      "Epoch 14/200\n",
      "1/1 [==============================] - 0s 52ms/step - loss: 47.5027 - val_loss: 53.0009\n",
      "Epoch 15/200\n",
      "1/1 [==============================] - 0s 52ms/step - loss: 39.3642 - val_loss: 57.4915\n",
      "Epoch 16/200\n",
      "1/1 [==============================] - 0s 43ms/step - loss: 44.2379 - val_loss: 63.0309\n",
      "Epoch 17/200\n",
      "1/1 [==============================] - 0s 46ms/step - loss: 53.4425 - val_loss: 55.1492\n",
      "Epoch 18/200\n",
      "1/1 [==============================] - 0s 47ms/step - loss: 50.3026 - val_loss: 40.7600\n",
      "Epoch 19/200\n",
      "1/1 [==============================] - 0s 43ms/step - loss: 37.8520 - val_loss: 32.6990\n",
      "Epoch 20/200\n",
      "1/1 [==============================] - 0s 42ms/step - loss: 29.6067 - val_loss: 32.8919\n",
      "Epoch 21/200\n",
      "1/1 [==============================] - 0s 47ms/step - loss: 28.5511 - val_loss: 35.7916\n",
      "Epoch 22/200\n",
      "1/1 [==============================] - 0s 46ms/step - loss: 30.0134 - val_loss: 36.3144\n",
      "Epoch 23/200\n",
      "1/1 [==============================] - 0s 48ms/step - loss: 30.0459 - val_loss: 33.0810\n",
      "Epoch 24/200\n",
      "1/1 [==============================] - 0s 49ms/step - loss: 26.7503 - val_loss: 28.4220\n",
      "Epoch 25/200\n",
      "1/1 [==============================] - 0s 45ms/step - loss: 23.2173 - val_loss: 25.9804\n",
      "Epoch 26/200\n",
      "1/1 [==============================] - 0s 49ms/step - loss: 21.4603 - val_loss: 27.1425\n",
      "Epoch 27/200\n",
      "1/1 [==============================] - 0s 52ms/step - loss: 22.5323 - val_loss: 29.4254\n",
      "Epoch 28/200\n",
      "1/1 [==============================] - 0s 57ms/step - loss: 23.4896 - val_loss: 29.9103\n",
      "Epoch 29/200\n",
      "1/1 [==============================] - 0s 56ms/step - loss: 21.7481 - val_loss: 29.1365\n",
      "Epoch 30/200\n",
      "1/1 [==============================] - 0s 51ms/step - loss: 18.3900 - val_loss: 29.6341\n",
      "Epoch 31/200\n",
      "1/1 [==============================] - 0s 55ms/step - loss: 16.4729 - val_loss: 31.6180\n",
      "Epoch 32/200\n",
      "1/1 [==============================] - 0s 46ms/step - loss: 16.6131 - val_loss: 33.9797\n",
      "Epoch 33/200\n",
      "1/1 [==============================] - 0s 45ms/step - loss: 18.0219 - val_loss: 35.3051\n",
      "Epoch 34/200\n",
      "1/1 [==============================] - 0s 45ms/step - loss: 17.8551 - val_loss: 35.5420\n",
      "Epoch 35/200\n",
      "1/1 [==============================] - 0s 43ms/step - loss: 16.3514 - val_loss: 35.4903\n",
      "Epoch 36/200\n",
      "1/1 [==============================] - 0s 46ms/step - loss: 14.8789 - val_loss: 35.6827\n",
      "Epoch 37/200\n",
      "1/1 [==============================] - 0s 44ms/step - loss: 14.7005 - val_loss: 34.9482\n",
      "Epoch 38/200\n",
      "1/1 [==============================] - 0s 40ms/step - loss: 14.8113 - val_loss: 32.2406\n",
      "Epoch 39/200\n",
      "1/1 [==============================] - 0s 51ms/step - loss: 14.3246 - val_loss: 28.2394\n",
      "Epoch 40/200\n",
      "1/1 [==============================] - 0s 44ms/step - loss: 13.1764 - val_loss: 24.8004\n",
      "Epoch 41/200\n",
      "1/1 [==============================] - 0s 46ms/step - loss: 12.2501 - val_loss: 22.9275\n",
      "Epoch 42/200\n",
      "1/1 [==============================] - 0s 43ms/step - loss: 12.0368 - val_loss: 22.2580\n",
      "Epoch 43/200\n",
      "1/1 [==============================] - 0s 47ms/step - loss: 12.2361 - val_loss: 21.9650\n",
      "Epoch 44/200\n",
      "1/1 [==============================] - 0s 43ms/step - loss: 12.2782 - val_loss: 21.6451\n",
      "Epoch 45/200\n",
      "1/1 [==============================] - 0s 52ms/step - loss: 12.0367 - val_loss: 21.3682\n",
      "Epoch 46/200\n",
      "1/1 [==============================] - 0s 43ms/step - loss: 11.8081 - val_loss: 21.1867\n",
      "Epoch 47/200\n",
      "1/1 [==============================] - 0s 44ms/step - loss: 11.6444 - val_loss: 20.9675\n",
      "Epoch 48/200\n",
      "1/1 [==============================] - 0s 45ms/step - loss: 11.1723 - val_loss: 20.7375\n",
      "Epoch 49/200\n",
      "1/1 [==============================] - 0s 38ms/step - loss: 10.9713 - val_loss: 20.7455\n",
      "Epoch 50/200\n",
      "1/1 [==============================] - 0s 43ms/step - loss: 10.6751 - val_loss: 21.2171\n",
      "Epoch 51/200\n",
      "1/1 [==============================] - 0s 41ms/step - loss: 10.4054 - val_loss: 22.1622\n",
      "Epoch 52/200\n",
      "1/1 [==============================] - 0s 41ms/step - loss: 10.3080 - val_loss: 23.4522\n",
      "Epoch 53/200\n",
      "1/1 [==============================] - 0s 39ms/step - loss: 10.0929 - val_loss: 24.9217\n",
      "Epoch 54/200\n",
      "1/1 [==============================] - 0s 42ms/step - loss: 10.0267 - val_loss: 26.3548\n",
      "Epoch 55/200\n",
      "1/1 [==============================] - 0s 40ms/step - loss: 9.8269 - val_loss: 27.3810\n",
      "Epoch 56/200\n",
      "1/1 [==============================] - 0s 44ms/step - loss: 9.8514 - val_loss: 27.7270\n",
      "Epoch 57/200\n",
      "1/1 [==============================] - 0s 70ms/step - loss: 9.7231 - val_loss: 27.2486\n",
      "Epoch 58/200\n",
      "1/1 [==============================] - 0s 43ms/step - loss: 9.6495 - val_loss: 26.2577\n",
      "Epoch 59/200\n",
      "1/1 [==============================] - 0s 42ms/step - loss: 9.4635 - val_loss: 25.1909\n",
      "Epoch 60/200\n",
      "1/1 [==============================] - 0s 43ms/step - loss: 9.3564 - val_loss: 24.4034\n",
      "Epoch 61/200\n",
      "1/1 [==============================] - 0s 41ms/step - loss: 9.3016 - val_loss: 23.9196\n",
      "Epoch 62/200\n",
      "1/1 [==============================] - 0s 42ms/step - loss: 9.1283 - val_loss: 23.7349\n",
      "Epoch 63/200\n",
      "1/1 [==============================] - 0s 45ms/step - loss: 7.9214 - val_loss: 23.5644\n",
      "Epoch 64/200\n",
      "1/1 [==============================] - 0s 44ms/step - loss: 8.8648 - val_loss: 23.4972\n",
      "Epoch 65/200\n",
      "1/1 [==============================] - 0s 41ms/step - loss: 8.8122 - val_loss: 23.4313\n",
      "Epoch 66/200\n",
      "1/1 [==============================] - 0s 56ms/step - loss: 8.8101 - val_loss: 23.2700\n",
      "Epoch 67/200\n",
      "1/1 [==============================] - 0s 42ms/step - loss: 8.6536 - val_loss: 23.0215\n",
      "Epoch 68/200\n",
      "1/1 [==============================] - 0s 84ms/step - loss: 8.5960 - val_loss: 22.7938\n",
      "Epoch 69/200\n",
      "1/1 [==============================] - 0s 61ms/step - loss: 8.5366 - val_loss: 22.6952\n",
      "Epoch 70/200\n",
      "1/1 [==============================] - 0s 63ms/step - loss: 8.4054 - val_loss: 22.7299\n",
      "Epoch 71/200\n",
      "1/1 [==============================] - 0s 46ms/step - loss: 8.4362 - val_loss: 22.9063\n",
      "Epoch 72/200\n",
      "1/1 [==============================] - 0s 57ms/step - loss: 8.3905 - val_loss: 23.1866\n",
      "Epoch 73/200\n",
      "1/1 [==============================] - 0s 57ms/step - loss: 8.2570 - val_loss: 23.4300\n",
      "Epoch 74/200\n",
      "1/1 [==============================] - 0s 60ms/step - loss: 8.2342 - val_loss: 23.5379\n",
      "Epoch 75/200\n",
      "1/1 [==============================] - 0s 47ms/step - loss: 8.1988 - val_loss: 23.4270\n",
      "Epoch 76/200\n",
      "1/1 [==============================] - 0s 48ms/step - loss: 8.0654 - val_loss: 23.1250\n",
      "Epoch 77/200\n",
      "1/1 [==============================] - 0s 44ms/step - loss: 8.0305 - val_loss: 22.7371\n",
      "Epoch 78/200\n",
      "1/1 [==============================] - 0s 46ms/step - loss: 8.0099 - val_loss: 22.3734\n",
      "Epoch 79/200\n",
      "1/1 [==============================] - 0s 42ms/step - loss: 7.7991 - val_loss: 22.1062\n",
      "Epoch 80/200\n",
      "1/1 [==============================] - 0s 46ms/step - loss: 7.8746 - val_loss: 21.9168\n",
      "Epoch 81/200\n",
      "1/1 [==============================] - 0s 39ms/step - loss: 7.8463 - val_loss: 21.7237\n",
      "Epoch 82/200\n"
     ]
    },
    {
     "name": "stdout",
     "output_type": "stream",
     "text": [
      "1/1 [==============================] - 0s 38ms/step - loss: 7.8004 - val_loss: 21.4785\n",
      "Epoch 83/200\n",
      "1/1 [==============================] - 0s 39ms/step - loss: 7.6829 - val_loss: 21.1536\n",
      "Epoch 84/200\n",
      "1/1 [==============================] - 0s 39ms/step - loss: 7.6942 - val_loss: 20.8359\n",
      "Epoch 85/200\n",
      "1/1 [==============================] - 0s 40ms/step - loss: 7.6696 - val_loss: 20.5646\n",
      "Epoch 86/200\n",
      "1/1 [==============================] - 0s 43ms/step - loss: 7.5914 - val_loss: 20.3230\n",
      "Epoch 87/200\n",
      "1/1 [==============================] - 0s 53ms/step - loss: 7.5314 - val_loss: 20.1107\n",
      "Epoch 88/200\n",
      "1/1 [==============================] - 0s 47ms/step - loss: 7.5308 - val_loss: 19.9379\n",
      "Epoch 89/200\n",
      "1/1 [==============================] - 0s 45ms/step - loss: 7.4825 - val_loss: 19.7671\n",
      "Epoch 90/200\n",
      "1/1 [==============================] - 0s 46ms/step - loss: 7.3693 - val_loss: 19.5718\n",
      "Epoch 91/200\n",
      "1/1 [==============================] - 0s 47ms/step - loss: 7.2936 - val_loss: 19.4154\n",
      "Epoch 92/200\n",
      "1/1 [==============================] - 0s 43ms/step - loss: 7.3641 - val_loss: 19.2493\n",
      "Epoch 93/200\n",
      "1/1 [==============================] - 0s 45ms/step - loss: 7.3227 - val_loss: 19.0341\n",
      "Epoch 94/200\n",
      "1/1 [==============================] - 0s 48ms/step - loss: 7.2746 - val_loss: 18.8296\n",
      "Epoch 95/200\n",
      "1/1 [==============================] - 0s 49ms/step - loss: 7.1426 - val_loss: 18.6256\n",
      "Epoch 96/200\n",
      "1/1 [==============================] - 0s 48ms/step - loss: 7.1265 - val_loss: 18.4769\n",
      "Epoch 97/200\n",
      "1/1 [==============================] - 0s 50ms/step - loss: 6.9653 - val_loss: 18.5289\n",
      "Epoch 98/200\n",
      "1/1 [==============================] - 0s 49ms/step - loss: 7.0898 - val_loss: 18.5181\n",
      "Epoch 99/200\n",
      "1/1 [==============================] - 0s 44ms/step - loss: 7.0787 - val_loss: 18.3646\n",
      "Epoch 100/200\n",
      "1/1 [==============================] - 0s 46ms/step - loss: 7.0122 - val_loss: 18.1447\n",
      "Epoch 101/200\n",
      "1/1 [==============================] - 0s 42ms/step - loss: 6.9873 - val_loss: 17.9542\n",
      "Epoch 102/200\n",
      "1/1 [==============================] - 0s 39ms/step - loss: 6.9303 - val_loss: 17.8441\n",
      "Epoch 103/200\n",
      "1/1 [==============================] - 0s 43ms/step - loss: 6.8973 - val_loss: 17.7608\n",
      "Epoch 104/200\n",
      "1/1 [==============================] - 0s 55ms/step - loss: 6.5688 - val_loss: 17.5142\n",
      "Epoch 105/200\n",
      "1/1 [==============================] - 0s 45ms/step - loss: 6.7931 - val_loss: 17.3858\n",
      "Epoch 106/200\n",
      "1/1 [==============================] - 0s 54ms/step - loss: 6.7750 - val_loss: 17.3706\n",
      "Epoch 107/200\n",
      "1/1 [==============================] - 0s 54ms/step - loss: 6.7057 - val_loss: 17.4368\n",
      "Epoch 108/200\n",
      "1/1 [==============================] - 0s 52ms/step - loss: 6.6392 - val_loss: 17.4232\n",
      "Epoch 109/200\n",
      "1/1 [==============================] - 0s 49ms/step - loss: 6.5894 - val_loss: 17.3396\n",
      "Epoch 110/200\n",
      "1/1 [==============================] - 0s 50ms/step - loss: 6.4586 - val_loss: 17.2785\n",
      "Epoch 111/200\n",
      "1/1 [==============================] - 0s 53ms/step - loss: 6.5451 - val_loss: 17.3044\n",
      "Epoch 112/200\n",
      "1/1 [==============================] - 0s 48ms/step - loss: 6.4208 - val_loss: 17.3702\n",
      "Epoch 113/200\n",
      "1/1 [==============================] - 0s 52ms/step - loss: 6.3640 - val_loss: 17.4101\n",
      "Epoch 114/200\n",
      "1/1 [==============================] - 0s 48ms/step - loss: 6.3501 - val_loss: 17.3473\n",
      "Epoch 115/200\n",
      "1/1 [==============================] - 0s 39ms/step - loss: 6.3291 - val_loss: 17.1897\n",
      "Epoch 116/200\n",
      "1/1 [==============================] - 0s 39ms/step - loss: 6.2843 - val_loss: 17.0236\n",
      "Epoch 117/200\n",
      "1/1 [==============================] - 0s 49ms/step - loss: 5.9671 - val_loss: 16.7063\n",
      "Epoch 118/200\n",
      "1/1 [==============================] - 0s 41ms/step - loss: 6.1504 - val_loss: 16.5209\n",
      "Epoch 119/200\n",
      "1/1 [==============================] - 0s 66ms/step - loss: 6.1151 - val_loss: 16.4849\n",
      "Epoch 120/200\n",
      "1/1 [==============================] - 0s 55ms/step - loss: 6.0989 - val_loss: 16.5253\n",
      "Epoch 121/200\n",
      "1/1 [==============================] - 0s 62ms/step - loss: 5.9914 - val_loss: 16.4485\n",
      "Epoch 122/200\n",
      "1/1 [==============================] - 0s 52ms/step - loss: 5.9528 - val_loss: 16.3237\n",
      "Epoch 123/200\n",
      "1/1 [==============================] - 0s 57ms/step - loss: 5.9407 - val_loss: 16.2796\n",
      "Epoch 124/200\n",
      "1/1 [==============================] - 0s 48ms/step - loss: 5.8794 - val_loss: 16.3407\n",
      "Epoch 125/200\n",
      "1/1 [==============================] - 0s 50ms/step - loss: 5.7639 - val_loss: 16.4640\n",
      "Epoch 126/200\n",
      "1/1 [==============================] - 0s 50ms/step - loss: 5.7939 - val_loss: 16.4555\n",
      "Epoch 127/200\n",
      "1/1 [==============================] - 0s 51ms/step - loss: 5.7457 - val_loss: 16.1693\n",
      "Epoch 128/200\n",
      "1/1 [==============================] - 0s 47ms/step - loss: 5.6544 - val_loss: 15.8713\n",
      "Epoch 129/200\n",
      "1/1 [==============================] - 0s 54ms/step - loss: 5.4011 - val_loss: 15.7857\n",
      "Epoch 130/200\n",
      "1/1 [==============================] - 0s 45ms/step - loss: 5.5671 - val_loss: 15.8304\n",
      "Epoch 131/200\n",
      "1/1 [==============================] - 0s 43ms/step - loss: 5.5232 - val_loss: 15.6229\n",
      "Epoch 132/200\n",
      "1/1 [==============================] - 0s 45ms/step - loss: 5.4722 - val_loss: 15.3596\n",
      "Epoch 133/200\n",
      "1/1 [==============================] - 0s 39ms/step - loss: 5.3934 - val_loss: 15.3082\n",
      "Epoch 134/200\n",
      "1/1 [==============================] - 0s 45ms/step - loss: 5.2414 - val_loss: 15.4345\n",
      "Epoch 135/200\n",
      "1/1 [==============================] - 0s 46ms/step - loss: 5.2285 - val_loss: 15.3613\n",
      "Epoch 136/200\n",
      "1/1 [==============================] - 0s 48ms/step - loss: 5.2909 - val_loss: 14.9963\n",
      "Epoch 137/200\n",
      "1/1 [==============================] - 0s 58ms/step - loss: 5.2049 - val_loss: 14.8750\n",
      "Epoch 138/200\n",
      "1/1 [==============================] - 0s 50ms/step - loss: 5.1963 - val_loss: 14.8260\n",
      "Epoch 139/200\n",
      "1/1 [==============================] - 0s 55ms/step - loss: 5.1600 - val_loss: 14.6120\n",
      "Epoch 140/200\n",
      "1/1 [==============================] - 0s 54ms/step - loss: 5.1159 - val_loss: 14.4647\n",
      "Epoch 141/200\n",
      "1/1 [==============================] - 0s 74ms/step - loss: 5.0292 - val_loss: 14.5324\n",
      "Epoch 142/200\n",
      "1/1 [==============================] - 0s 65ms/step - loss: 5.0094 - val_loss: 14.8434\n",
      "Epoch 143/200\n",
      "1/1 [==============================] - 0s 67ms/step - loss: 4.8952 - val_loss: 14.7668\n",
      "Epoch 144/200\n",
      "1/1 [==============================] - 0s 60ms/step - loss: 4.8018 - val_loss: 14.3111\n",
      "Epoch 145/200\n",
      "1/1 [==============================] - 0s 60ms/step - loss: 4.9859 - val_loss: 14.2311\n",
      "Epoch 146/200\n",
      "1/1 [==============================] - 0s 59ms/step - loss: 4.9235 - val_loss: 14.3826\n",
      "Epoch 147/200\n",
      "1/1 [==============================] - 0s 66ms/step - loss: 4.9082 - val_loss: 14.3321\n",
      "Epoch 148/200\n",
      "1/1 [==============================] - 0s 62ms/step - loss: 4.8431 - val_loss: 14.1049\n",
      "Epoch 149/200\n",
      "1/1 [==============================] - 0s 53ms/step - loss: 4.8101 - val_loss: 14.1173\n",
      "Epoch 150/200\n",
      "1/1 [==============================] - 0s 101ms/step - loss: 4.8074 - val_loss: 14.2196\n",
      "Epoch 151/200\n",
      "1/1 [==============================] - 0s 89ms/step - loss: 4.8091 - val_loss: 13.9226\n",
      "Epoch 152/200\n",
      "1/1 [==============================] - 0s 69ms/step - loss: 4.7572 - val_loss: 13.6971\n",
      "Epoch 153/200\n",
      "1/1 [==============================] - 0s 75ms/step - loss: 4.6816 - val_loss: 13.7281\n",
      "Epoch 154/200\n",
      "1/1 [==============================] - 0s 69ms/step - loss: 4.5196 - val_loss: 13.8982\n",
      "Epoch 155/200\n",
      "1/1 [==============================] - 0s 71ms/step - loss: 4.7013 - val_loss: 13.8723\n",
      "Epoch 156/200\n",
      "1/1 [==============================] - 0s 71ms/step - loss: 4.6434 - val_loss: 13.7292\n",
      "Epoch 157/200\n",
      "1/1 [==============================] - 0s 71ms/step - loss: 4.6646 - val_loss: 13.7417\n",
      "Epoch 158/200\n",
      "1/1 [==============================] - 0s 64ms/step - loss: 4.6079 - val_loss: 13.7537\n",
      "Epoch 159/200\n",
      "1/1 [==============================] - 0s 65ms/step - loss: 4.5978 - val_loss: 13.5489\n",
      "Epoch 160/200\n",
      "1/1 [==============================] - 0s 66ms/step - loss: 4.6054 - val_loss: 13.3698\n",
      "Epoch 161/200\n",
      "1/1 [==============================] - 0s 55ms/step - loss: 4.5324 - val_loss: 13.4529\n",
      "Epoch 162/200\n",
      "1/1 [==============================] - 0s 46ms/step - loss: 4.5600 - val_loss: 13.6558\n",
      "Epoch 163/200\n"
     ]
    },
    {
     "name": "stdout",
     "output_type": "stream",
     "text": [
      "1/1 [==============================] - 0s 52ms/step - loss: 4.5437 - val_loss: 13.6443\n",
      "Epoch 164/200\n",
      "1/1 [==============================] - 0s 53ms/step - loss: 4.4994 - val_loss: 13.4445\n",
      "Epoch 165/200\n",
      "1/1 [==============================] - 0s 44ms/step - loss: 4.5070 - val_loss: 13.3231\n",
      "Epoch 166/200\n",
      "1/1 [==============================] - 0s 41ms/step - loss: 4.4396 - val_loss: 13.3310\n",
      "Epoch 167/200\n",
      "1/1 [==============================] - 0s 49ms/step - loss: 4.4646 - val_loss: 13.3344\n",
      "Epoch 168/200\n",
      "1/1 [==============================] - 0s 48ms/step - loss: 4.4478 - val_loss: 13.2811\n",
      "Epoch 169/200\n",
      "1/1 [==============================] - 0s 41ms/step - loss: 4.4364 - val_loss: 13.2616\n",
      "Epoch 170/200\n",
      "1/1 [==============================] - 0s 42ms/step - loss: 4.4128 - val_loss: 13.1946\n",
      "Epoch 171/200\n",
      "1/1 [==============================] - 0s 38ms/step - loss: 4.3758 - val_loss: 13.1244\n",
      "Epoch 172/200\n",
      "1/1 [==============================] - 0s 42ms/step - loss: 4.3769 - val_loss: 13.1255\n",
      "Epoch 173/200\n",
      "1/1 [==============================] - 0s 46ms/step - loss: 4.3304 - val_loss: 13.1687\n",
      "Epoch 174/200\n",
      "1/1 [==============================] - 0s 40ms/step - loss: 4.3249 - val_loss: 13.1530\n",
      "Epoch 175/200\n",
      "1/1 [==============================] - 0s 38ms/step - loss: 4.3136 - val_loss: 13.0373\n",
      "Epoch 176/200\n",
      "1/1 [==============================] - 0s 48ms/step - loss: 4.2746 - val_loss: 13.1240\n",
      "Epoch 177/200\n",
      "1/1 [==============================] - 0s 50ms/step - loss: 4.3077 - val_loss: 13.3553\n",
      "Epoch 178/200\n",
      "1/1 [==============================] - 0s 51ms/step - loss: 4.2863 - val_loss: 13.3131\n",
      "Epoch 179/200\n",
      "1/1 [==============================] - 0s 56ms/step - loss: 4.2241 - val_loss: 13.1873\n",
      "Epoch 180/200\n",
      "1/1 [==============================] - 0s 50ms/step - loss: 4.2520 - val_loss: 13.1572\n",
      "Epoch 181/200\n",
      "1/1 [==============================] - 0s 44ms/step - loss: 4.2189 - val_loss: 13.1865\n",
      "Epoch 182/200\n",
      "1/1 [==============================] - 0s 46ms/step - loss: 4.2237 - val_loss: 13.1004\n",
      "Epoch 183/200\n",
      "1/1 [==============================] - 0s 62ms/step - loss: 4.2109 - val_loss: 13.0761\n",
      "Epoch 184/200\n",
      "1/1 [==============================] - 0s 57ms/step - loss: 4.1476 - val_loss: 13.2297\n",
      "Epoch 185/200\n",
      "1/1 [==============================] - 0s 64ms/step - loss: 4.1478 - val_loss: 13.3102\n",
      "Epoch 186/200\n",
      "1/1 [==============================] - 0s 48ms/step - loss: 4.1578 - val_loss: 13.1120\n",
      "Epoch 187/200\n",
      "1/1 [==============================] - 0s 44ms/step - loss: 4.1490 - val_loss: 13.1429\n",
      "Epoch 188/200\n",
      "1/1 [==============================] - 0s 54ms/step - loss: 4.1267 - val_loss: 13.2852\n",
      "Epoch 189/200\n",
      "1/1 [==============================] - 0s 65ms/step - loss: 4.0280 - val_loss: 13.0512\n",
      "Epoch 190/200\n",
      "1/1 [==============================] - 0s 65ms/step - loss: 4.1169 - val_loss: 13.0640\n",
      "Epoch 191/200\n",
      "1/1 [==============================] - 0s 67ms/step - loss: 4.0315 - val_loss: 13.3032\n",
      "Epoch 192/200\n",
      "1/1 [==============================] - 0s 46ms/step - loss: 4.0699 - val_loss: 13.4243\n",
      "Epoch 193/200\n",
      "1/1 [==============================] - 0s 51ms/step - loss: 4.0240 - val_loss: 13.1886\n",
      "Epoch 194/200\n",
      "1/1 [==============================] - 0s 51ms/step - loss: 4.0378 - val_loss: 13.0754\n",
      "Epoch 195/200\n",
      "1/1 [==============================] - 0s 49ms/step - loss: 4.0404 - val_loss: 13.1918\n",
      "Epoch 196/200\n",
      "1/1 [==============================] - 0s 49ms/step - loss: 3.9902 - val_loss: 13.3062\n",
      "Epoch 197/200\n",
      "1/1 [==============================] - 0s 58ms/step - loss: 3.9930 - val_loss: 13.2117\n",
      "Epoch 198/200\n",
      "1/1 [==============================] - 0s 58ms/step - loss: 3.9785 - val_loss: 13.2673\n",
      "Epoch 199/200\n",
      "1/1 [==============================] - 0s 126ms/step - loss: 3.9835 - val_loss: 13.4464\n",
      "Epoch 200/200\n",
      "1/1 [==============================] - 0s 165ms/step - loss: 3.9770 - val_loss: 13.5015\n"
     ]
    }
   ],
   "source": [
    "# train_dataset 생성 -> X, y를 제공\n",
    "hist = model_boston.fit(train_dataset, # (X_train, y_train) + shuffle + batch_size\n",
    "                        epochs=N_EPOCH,\n",
    "                        validation_data=test_dataset  # Dataset을 이용할 경우 validation_split(비율)을 사용할 수 없다.\n",
    "                       )"
   ]
  },
  {
   "cell_type": "markdown",
   "metadata": {
    "slideshow": {
     "slide_type": "slide"
    }
   },
   "source": [
    "##### 결과 시각화\n",
    "- 학습 시 epoch별 검증 결과를 시각화한다."
   ]
  },
  {
   "cell_type": "code",
   "execution_count": 42,
   "metadata": {
    "ExecuteTime": {
     "end_time": "2023-02-21T00:24:04.744222Z",
     "start_time": "2023-02-21T00:24:04.701217Z"
    }
   },
   "outputs": [
    {
     "data": {
      "text/plain": [
       "dict_keys(['loss', 'val_loss'])"
      ]
     },
     "execution_count": 42,
     "metadata": {},
     "output_type": "execute_result"
    }
   ],
   "source": [
    "hist.history.keys()"
   ]
  },
  {
   "attachments": {
    "image-2.png": {
     "image/png": "[encoded data removed]"
    },
    "image.png": {
     "image/png": "[encoded data removed]"
    }
   },
   "cell_type": "markdown",
   "metadata": {},
   "source": [
    "- learning rate 0.001, epoch 200 으로 했을 때\n",
    "![image.png](attachment:image.png)\n",
    "![image-2.png](attachment:image-2.png)"
   ]
  },
  {
   "attachments": {
    "image-2.png": {
     "image/png": "[encoded data removed]"
    }
   },
   "cell_type": "markdown",
   "metadata": {},
   "source": [
    "- learning rate 0.01, epoch 200 으로 했을 때\n",
    "![image-2.png](attachment:image-2.png)"
   ]
  },
  {
   "attachments": {
    "image.png": {
     "image/png": "[encoded data removed]"
    }
   },
   "cell_type": "markdown",
   "metadata": {},
   "source": [
    "- learning rate 0.05, epoch 200\n",
    "\n",
    "![image.png](attachment:image.png)"
   ]
  },
  {
   "attachments": {
    "image.png": {
     "image/png": "[encoded data removed]"
    }
   },
   "cell_type": "markdown",
   "metadata": {},
   "source": [
    "- learning rate 0.1, epoch 200\n",
    "![image.png](attachment:image.png)"
   ]
  },
  {
   "cell_type": "code",
   "execution_count": 43,
   "metadata": {
    "ExecuteTime": {
     "end_time": "2023-02-21T00:24:05.917217Z",
     "start_time": "2023-02-21T00:24:04.754223Z"
    }
   },
   "outputs": [
    {
     "data": {
      "image/png": "[encoded data removed]",
      "text/plain": [
       "<Figure size 640x480 with 1 Axes>"
      ]
     },
     "metadata": {},
     "output_type": "display_data"
    }
   ],
   "source": [
    "# hist.history : epoch별 검증 결과\n",
    "# hist.epoch : epoch 리스트\n",
    "plt.plot(hist.epoch, hist.history['loss'], label = 'Train set')\n",
    "plt.plot(hist.epoch, hist.history['val_loss'], label = 'Validation set')\n",
    "\n",
    "plt.title('epoch별 MSE loss')\n",
    "plt.legend()\n",
    "plt.show()"
   ]
  },
  {
   "cell_type": "markdown",
   "metadata": {
    "slideshow": {
     "slide_type": "slide"
    }
   },
   "source": [
    "##### 최종 테스트"
   ]
  },
  {
   "cell_type": "code",
   "execution_count": 44,
   "metadata": {
    "ExecuteTime": {
     "end_time": "2023-02-21T00:24:05.996227Z",
     "start_time": "2023-02-21T00:24:05.924220Z"
    }
   },
   "outputs": [
    {
     "name": "stdout",
     "output_type": "stream",
     "text": [
      "3/3 [==============================] - 0s 7ms/step - loss: 13.5015\n"
     ]
    }
   ],
   "source": [
    "loss = model_boston.evaluate(test_dataset)"
   ]
  },
  {
   "cell_type": "markdown",
   "metadata": {
    "slideshow": {
     "slide_type": "slide"
    }
   },
   "source": [
    "##### 모델 네트워크 저장"
   ]
  },
  {
   "cell_type": "code",
   "execution_count": 82,
   "metadata": {
    "ExecuteTime": {
     "end_time": "2023-02-20T07:49:53.899785Z",
     "start_time": "2023-02-20T07:49:53.878746Z"
    }
   },
   "outputs": [],
   "source": [
    "import os\n",
    "path = 'saved_model'\n",
    "os.makedirs(path, exist_ok=True)"
   ]
  },
  {
   "cell_type": "code",
   "execution_count": 84,
   "metadata": {
    "ExecuteTime": {
     "end_time": "2023-02-20T07:50:46.935111Z",
     "start_time": "2023-02-20T07:50:45.142372Z"
    }
   },
   "outputs": [
    {
     "name": "stdout",
     "output_type": "stream",
     "text": [
      "saved_model\\boston_model\n"
     ]
    },
    {
     "name": "stderr",
     "output_type": "stream",
     "text": [
      "WARNING:absl:Found untraced functions such as _update_step_xla while saving (showing 1 of 1). These functions will not be directly callable after loading.\n"
     ]
    },
    {
     "name": "stdout",
     "output_type": "stream",
     "text": [
      "INFO:tensorflow:Assets written to: saved_model\\boston_model\\assets\n"
     ]
    },
    {
     "name": "stderr",
     "output_type": "stream",
     "text": [
      "INFO:tensorflow:Assets written to: saved_model\\boston_model\\assets\n"
     ]
    }
   ],
   "source": [
    "saved_dir = os.path.join(path, 'boston_model')\n",
    "print(saved_dir)\n",
    "model_boston.save(saved_dir)"
   ]
  },
  {
   "cell_type": "markdown",
   "metadata": {
    "slideshow": {
     "slide_type": "slide"
    }
   },
   "source": [
    "##### 새로운 데이터 추론"
   ]
  },
  {
   "cell_type": "code",
   "execution_count": 86,
   "metadata": {
    "ExecuteTime": {
     "end_time": "2023-02-20T07:53:06.612682Z",
     "start_time": "2023-02-20T07:53:05.837312Z"
    }
   },
   "outputs": [
    {
     "name": "stdout",
     "output_type": "stream",
     "text": [
      "3/3 [==============================] - 0s 4ms/step - loss: 20.6145\n"
     ]
    },
    {
     "data": {
      "text/plain": [
       "20.614477157592773"
      ]
     },
     "execution_count": 86,
     "metadata": {},
     "output_type": "execute_result"
    }
   ],
   "source": [
    "# 저장된 모델을 불러와서 추론\n",
    "saved_model = keras.models.load_model(saved_dir)\n",
    "saved_model.evaluate(test_dataset)"
   ]
  },
  {
   "cell_type": "code",
   "execution_count": 87,
   "metadata": {
    "ExecuteTime": {
     "end_time": "2023-02-20T07:53:43.903835Z",
     "start_time": "2023-02-20T07:53:43.604862Z"
    }
   },
   "outputs": [
    {
     "name": "stdout",
     "output_type": "stream",
     "text": [
      "1/1 [==============================] - 0s 188ms/step\n",
      "[[ 8.407684]\n",
      " [17.412659]\n",
      " [22.013771]\n",
      " [31.677612]\n",
      " [26.27795 ]]\n"
     ]
    }
   ],
   "source": [
    "X_new = X_test[:5]\n",
    "pred = saved_model.predict(X_new)\n",
    "print(pred)"
   ]
  },
  {
   "cell_type": "code",
   "execution_count": 88,
   "metadata": {
    "ExecuteTime": {
     "end_time": "2023-02-20T07:54:08.267352Z",
     "start_time": "2023-02-20T07:54:08.243339Z"
    }
   },
   "outputs": [
    {
     "data": {
      "text/plain": [
       "array([ 7.2, 18.8, 19. , 27. , 22.2])"
      ]
     },
     "execution_count": 88,
     "metadata": {},
     "output_type": "execute_result"
    }
   ],
   "source": [
    "y_test[:5]"
   ]
  },
  {
   "cell_type": "markdown",
   "metadata": {
    "slideshow": {
     "slide_type": "slide"
    }
   },
   "source": [
    "# 분류 (Classification)\n",
    "\n",
    "## Fashion MNIST Dataset - 다중분류(Multi-Class Classification) 문제"
   ]
  },
  {
   "cell_type": "markdown",
   "metadata": {
    "slideshow": {
     "slide_type": "fragment"
    }
   },
   "source": [
    "10개의 범주(category)와 70,000개의 흑백 이미지로 구성된 [패션 MNIST](https://github.com/zalandoresearch/fashion-mnist) 데이터셋. \n",
    "이미지는 해상도(28x28 픽셀)가 낮고 다음처럼 개별 의류 품목을 나타낸다:\n",
    "\n",
    "<table>\n",
    "  <tr><td>\n",
    "    <img src=\"https://tensorflow.org/images/fashion-mnist-sprite.png\"\n",
    "         alt=\"Fashion MNIST sprite\"  width=\"600\">\n",
    "  </td></tr>\n",
    "  <tr><td align=\"center\">\n",
    "    <b>그림</b> <a href=\"https://github.com/zalandoresearch/fashion-mnist\">패션-MNIST 샘플</a> (Zalando, MIT License).<br/>&nbsp;\n",
    "  </td></tr>\n",
    "</table>"
   ]
  },
  {
   "cell_type": "markdown",
   "metadata": {
    "slideshow": {
     "slide_type": "fragment"
    }
   },
   "source": [
    "이미지는 28x28 크기이며 Gray scale이다. *레이블*(label)은 0에서 9까지의 정수 배열이다. 아래 표는 이미지에 있는 의류의 **클래스**(class)들이다.\n",
    "\n",
    "<table>\n",
    "  <tr>\n",
    "    <th>레이블</th>\n",
    "    <th>클래스</th>\n",
    "  </tr>\n",
    "  <tr>\n",
    "    <td>0</td>\n",
    "    <td>T-shirt/top</td>\n",
    "  </tr>\n",
    "  <tr>\n",
    "    <td>1</td>\n",
    "    <td>Trousers</td>\n",
    "  </tr>\n",
    "    <tr>\n",
    "    <td>2</td>\n",
    "    <td>Pullover</td>\n",
    "  </tr>\n",
    "    <tr>\n",
    "    <td>3</td>\n",
    "    <td>Dress</td>\n",
    "  </tr>\n",
    "    <tr>\n",
    "    <td>4</td>\n",
    "    <td>Coat</td>\n",
    "  </tr>\n",
    "    <tr>\n",
    "    <td>5</td>\n",
    "    <td>Sandal</td>\n",
    "  </tr>\n",
    "    <tr>\n",
    "    <td>6</td>\n",
    "    <td>Shirt</td>\n",
    "  </tr>\n",
    "    <tr>\n",
    "    <td>7</td>\n",
    "    <td>Sneaker</td>\n",
    "  </tr>\n",
    "    <tr>\n",
    "    <td>8</td>\n",
    "    <td>Bag</td>\n",
    "  </tr>\n",
    "    <tr>\n",
    "    <td>9</td>\n",
    "    <td>Ankle boot</td>\n",
    "  </tr>\n",
    "</table>\n",
    "\n",
    "각 이미지는 하나의 레이블에 매핑되어 있다. 데이터셋에 클래스 이름이 들어있지 않기 때문에 나중에 이미지를 출력할 때 사용하기 위해 별도의 변수를 만들어 저장한다."
   ]
  },
  {
   "cell_type": "code",
   "execution_count": 53,
   "metadata": {
    "ExecuteTime": {
     "end_time": "2023-02-21T01:13:29.816344Z",
     "start_time": "2023-02-21T01:13:29.796314Z"
    }
   },
   "outputs": [],
   "source": [
    "import tensorflow as tf\n",
    "from tensorflow import keras\n",
    "from tensorflow.keras import layers, modelzerss, optimi\n",
    "\n",
    "import numpy as np\n",
    "import matplotlib.pyplot as plt\n",
    "\n",
    "import os\n",
    "import random\n",
    "\n",
    "# seed 값 설정\n",
    "random.seed(0)\n",
    "np.random.seed(0)\n",
    "tf.random.set_seed(0)\n"
   ]
  },
  {
   "cell_type": "code",
   "execution_count": 54,
   "metadata": {
    "ExecuteTime": {
     "end_time": "2023-02-21T01:13:30.397797Z",
     "start_time": "2023-02-21T01:13:30.384798Z"
    },
    "slideshow": {
     "slide_type": "fragment"
    }
   },
   "outputs": [],
   "source": [
    "class_names = np.array(['T-shirt/top', 'Trousers', 'Pullover', 'Dress', 'Coat', 'Sandal', 'Shirt', 'Sneaker', 'Bag', 'Ankle boot'])"
   ]
  },
  {
   "cell_type": "markdown",
   "metadata": {
    "slideshow": {
     "slide_type": "slide"
    }
   },
   "source": [
    "##### Data 로딩"
   ]
  },
  {
   "cell_type": "code",
   "execution_count": 55,
   "metadata": {
    "ExecuteTime": {
     "end_time": "2023-02-21T01:13:32.519877Z",
     "start_time": "2023-02-21T01:13:31.785012Z"
    }
   },
   "outputs": [
    {
     "data": {
      "text/plain": [
       "((60000, 28, 28), (60000,), (10000, 28, 28), (10000,))"
      ]
     },
     "execution_count": 55,
     "metadata": {},
     "output_type": "execute_result"
    }
   ],
   "source": [
    "(train_image, y_train), (test_image, y_test) = keras.datasets.fashion_mnist.load_data()\n",
    "train_image.shape, y_train.shape, test_image.shape, y_test.shape"
   ]
  },
  {
   "cell_type": "code",
   "execution_count": 56,
   "metadata": {
    "ExecuteTime": {
     "end_time": "2023-02-21T01:13:33.115987Z",
     "start_time": "2023-02-21T01:13:33.097990Z"
    }
   },
   "outputs": [
    {
     "data": {
      "text/plain": [
       "(array([0, 1, 2, 3, 4, 5, 6, 7, 8, 9], dtype=uint8),\n",
       " array([6000, 6000, 6000, 6000, 6000, 6000, 6000, 6000, 6000, 6000],\n",
       "       dtype=int64))"
      ]
     },
     "execution_count": 56,
     "metadata": {},
     "output_type": "execute_result"
    }
   ],
   "source": [
    "np.unique(y_train, return_counts=True)"
   ]
  },
  {
   "cell_type": "markdown",
   "metadata": {
    "slideshow": {
     "slide_type": "fragment"
    }
   },
   "source": [
    "##### validatation dataset set  분리\n",
    "- Train set을 Train/validation set으로 분리"
   ]
  },
  {
   "cell_type": "code",
   "execution_count": 57,
   "metadata": {
    "ExecuteTime": {
     "end_time": "2023-02-21T01:13:34.657632Z",
     "start_time": "2023-02-21T01:13:34.568363Z"
    }
   },
   "outputs": [],
   "source": [
    "from sklearn.model_selection import train_test_split\n",
    "train_image, val_image, y_train, y_val = train_test_split(train_image, y_train, test_size=0.2, stratify=y_train, random_state=0)"
   ]
  },
  {
   "cell_type": "markdown",
   "metadata": {
    "slideshow": {
     "slide_type": "slide"
    }
   },
   "source": [
    "##### 이미지 확인"
   ]
  },
  {
   "cell_type": "code",
   "execution_count": 59,
   "metadata": {
    "ExecuteTime": {
     "end_time": "2023-02-21T01:15:29.939274Z",
     "start_time": "2023-02-21T01:15:23.151157Z"
    }
   },
   "outputs": [
    {
     "data": {
      "image/png": "[encoded data removed]",
      "text/plain": [
       "<Figure size 1500x1500 with 25 Axes>"
      ]
     },
     "metadata": {},
     "output_type": "display_data"
    }
   ],
   "source": [
    "cnt = 25  # 확인할 이미지개수 (5배수)\n",
    "plt.figure(figsize=(15, 15))\n",
    "for i in range(cnt):\n",
    "    plt.subplot(5, int(cnt/5), i+1)\n",
    "    plt.imshow(train_image[i], cmap='Greys') # gray: 0-black, 255: white / Greys: 0-white 255 black\n",
    "    label = class_names[y_train[i]]\n",
    "    plt.title(label)\n",
    "    \n",
    "plt.tight_layout()\n",
    "plt.show()"
   ]
  },
  {
   "cell_type": "markdown",
   "metadata": {
    "slideshow": {
     "slide_type": "slide"
    }
   },
   "source": [
    "#### 하이퍼파라미터, 변수 설정"
   ]
  },
  {
   "cell_type": "code",
   "execution_count": 60,
   "metadata": {
    "ExecuteTime": {
     "end_time": "2023-02-21T01:29:06.384056Z",
     "start_time": "2023-02-21T01:29:06.370026Z"
    }
   },
   "outputs": [],
   "source": [
    "LEARNING_RATE = 0.001     # 학습률\n",
    "N_EPOCH = 100             # 에폭수\n",
    "N_BATCH = 1000            # 배치 사이즈"
   ]
  },
  {
   "cell_type": "markdown",
   "metadata": {
    "slideshow": {
     "slide_type": "fragment"
    }
   },
   "source": [
    "#### X, y  전처리\n",
    "- y값 처리\n",
    "    1. 다중 분류에서 label encoding 형식의 label을 one hot encoding 처리 ==> loss: categorical_crossentropy)\n",
    "    2. label encoding 형식의 label을 그대로 모델에 전달 -> loss = sparse_categorical_crossentropy\n",
    "        - one hot encoding 처리를 loss가 대신한다."
   ]
  },
  {
   "cell_type": "code",
   "execution_count": null,
   "metadata": {},
   "outputs": [],
   "source": [
    "# 2번 방식을 사용. (y를 그대로 유지)"
   ]
  },
  {
   "cell_type": "markdown",
   "metadata": {
    "slideshow": {
     "slide_type": "fragment"
    }
   },
   "source": [
    "- x값(이미지) 처리\n",
    "    - dtype을 uint8에서 float32로 변환한다.\n",
    "    - 0 ~ 1 정규화. X/255.0으로 나눈다."
   ]
  },
  {
   "cell_type": "code",
   "execution_count": 62,
   "metadata": {
    "ExecuteTime": {
     "end_time": "2023-02-21T01:36:33.436133Z",
     "start_time": "2023-02-21T01:36:33.122018Z"
    }
   },
   "outputs": [],
   "source": [
    "X_train = train_image.astype('float32')/255.0\n",
    "X_val = val_image.astype('float32')/255.0\n",
    "X_test = test_image.astype('float32')/255.0"
   ]
  },
  {
   "cell_type": "code",
   "execution_count": 63,
   "metadata": {
    "ExecuteTime": {
     "end_time": "2023-02-21T01:36:35.644817Z",
     "start_time": "2023-02-21T01:36:35.585819Z"
    }
   },
   "outputs": [
    {
     "name": "stdout",
     "output_type": "stream",
     "text": [
      "0 255\n",
      "0.0 1.0\n"
     ]
    }
   ],
   "source": [
    "print(train_image.min(), train_image.max())\n",
    "print(X_train.min(), X_train.max())"
   ]
  },
  {
   "cell_type": "markdown",
   "metadata": {
    "slideshow": {
     "slide_type": "slide"
    }
   },
   "source": [
    "##### Dataset 생성"
   ]
  },
  {
   "cell_type": "code",
   "execution_count": 70,
   "metadata": {
    "ExecuteTime": {
     "end_time": "2023-02-21T01:44:14.692128Z",
     "start_time": "2023-02-21T01:44:14.669130Z"
    }
   },
   "outputs": [],
   "source": [
    "train_dataset = tf.data.Dataset.from_tensor_slices((X_train, y_train)).shuffle(X_train.shape[0]).batch(N_BATCH, drop_remainder=True)\n",
    "\n",
    "val_dataset = tf.data.Dataset.from_tensor_slices((X_val, y_val)).batch(N_BATCH)\n",
    "test_dataset =  tf.data.Dataset.from_tensor_slices((X_test, y_test)).batch(N_BATCH)"
   ]
  },
  {
   "cell_type": "code",
   "execution_count": 71,
   "metadata": {
    "ExecuteTime": {
     "end_time": "2023-02-21T01:44:15.117899Z",
     "start_time": "2023-02-21T01:44:15.102894Z"
    }
   },
   "outputs": [
    {
     "data": {
      "text/plain": [
       "(48, 12, 10)"
      ]
     },
     "execution_count": 71,
     "metadata": {},
     "output_type": "execute_result"
    }
   ],
   "source": [
    "# epoch 당 step 수 계산\n",
    "len(train_dataset), len(val_dataset), len(test_dataset)"
   ]
  },
  {
   "cell_type": "markdown",
   "metadata": {
    "slideshow": {
     "slide_type": "slide"
    }
   },
   "source": [
    "##### 모델 생성 및 컴파일"
   ]
  },
  {
   "cell_type": "code",
   "execution_count": 73,
   "metadata": {
    "ExecuteTime": {
     "end_time": "2023-02-21T01:49:31.220734Z",
     "start_time": "2023-02-21T01:49:31.202732Z"
    }
   },
   "outputs": [
    {
     "data": {
      "text/plain": [
       "(48000, 784)"
      ]
     },
     "execution_count": 73,
     "metadata": {},
     "output_type": "execute_result"
    }
   ],
   "source": [
    "X_train.reshape(-1, 784).shape # flatten"
   ]
  },
  {
   "cell_type": "code",
   "execution_count": 74,
   "metadata": {
    "ExecuteTime": {
     "end_time": "2023-02-21T01:59:39.264696Z",
     "start_time": "2023-02-21T01:59:39.247699Z"
    }
   },
   "outputs": [],
   "source": [
    "def get_model_fashion(lr=0.01):\n",
    "    model = keras.Sequential()\n",
    "    # Hidden layer (첫번째 hidden layer에 input shape를 지정)\n",
    "    model.add(layers.Flatten(input_shape=(28, 28))) # 28 x 28 2차원배열 => 784, 1차원 배열로 flatten\n",
    "    \n",
    "    # Dense Layer의 Unit 개수는 점점 줄여나가는 패턴을 사용\n",
    "    model.add(layers.Dense(256, activation='relu'))\n",
    "    model.add(layers.Dense(128, activation='relu'))\n",
    "    model.add(layers.Dense(64, activation='relu'))\n",
    "    model.add(layers.Dense(32, activation='relu'))\n",
    "    \n",
    "    # output layer\n",
    "    # 다중분류 : unit수 - y의 class개수, activation: softmax -> 각 출력값이 class별 확률이 되도록 처리\n",
    "    model.add(layers.Dense(10, activation='softmax', name=\"output\"))\n",
    "    \n",
    "    # 컴파일\n",
    "    # 다중분류 loss 함수: \n",
    "#                         y가 one hot encoding이 안된 경우: sparse_categorical_crossentropy\n",
    "#                         y를 one hot encoding 한 경우 categorical_crossentropy\n",
    "    model.compile(optimizer=optimizers.Adam(learning_rate=lr),\n",
    "                 loss='sparse_categorical_crossentropy',\n",
    "                 metrics='accuracy' \n",
    "                 )\n",
    "    return model"
   ]
  },
  {
   "cell_type": "code",
   "execution_count": 75,
   "metadata": {
    "ExecuteTime": {
     "end_time": "2023-02-21T02:00:14.526557Z",
     "start_time": "2023-02-21T02:00:14.274586Z"
    }
   },
   "outputs": [
    {
     "name": "stdout",
     "output_type": "stream",
     "text": [
      "Model: \"sequential_1\"\n",
      "_________________________________________________________________\n",
      " Layer (type)                Output Shape              Param #   \n",
      "=================================================================\n",
      " flatten (Flatten)           (None, 784)               0         \n",
      "                                                                 \n",
      " dense_4 (Dense)             (None, 256)               200960    \n",
      "                                                                 \n",
      " dense_5 (Dense)             (None, 128)               32896     \n",
      "                                                                 \n",
      " dense_6 (Dense)             (None, 64)                8256      \n",
      "                                                                 \n",
      " dense_7 (Dense)             (None, 32)                2080      \n",
      "                                                                 \n",
      " output (Dense)              (None, 10)                330       \n",
      "                                                                 \n",
      "=================================================================\n",
      "Total params: 244,522\n",
      "Trainable params: 244,522\n",
      "Non-trainable params: 0\n",
      "_________________________________________________________________\n"
     ]
    }
   ],
   "source": [
    "model_fashion = get_model_fashion(LEARNING_RATE)\n",
    "model_fashion.summary()"
   ]
  },
  {
   "cell_type": "code",
   "execution_count": 76,
   "metadata": {
    "ExecuteTime": {
     "end_time": "2023-02-21T02:01:05.080679Z",
     "start_time": "2023-02-21T02:01:03.971728Z"
    }
   },
   "outputs": [
    {
     "data": {
      "image/png": "[encoded data removed]",
      "text/plain": [
       "<IPython.core.display.Image object>"
      ]
     },
     "execution_count": 76,
     "metadata": {},
     "output_type": "execute_result"
    }
   ],
   "source": [
    "keras.utils.plot_model(model_fashion, show_shapes=True)"
   ]
  },
  {
   "cell_type": "markdown",
   "metadata": {
    "slideshow": {
     "slide_type": "slide"
    }
   },
   "source": [
    "##### Train(학습)"
   ]
  },
  {
   "cell_type": "code",
   "execution_count": 77,
   "metadata": {
    "ExecuteTime": {
     "end_time": "2023-02-21T02:05:29.629378Z",
     "start_time": "2023-02-21T02:03:30.811957Z"
    }
   },
   "outputs": [
    {
     "name": "stdout",
     "output_type": "stream",
     "text": [
      "Epoch 1/100\n",
      "48/48 [==============================] - 3s 26ms/step - loss: 1.0089 - accuracy: 0.6733 - val_loss: 0.6062 - val_accuracy: 0.7993\n",
      "Epoch 2/100\n",
      "48/48 [==============================] - 1s 22ms/step - loss: 0.5186 - accuracy: 0.8238 - val_loss: 0.4650 - val_accuracy: 0.8356\n",
      "Epoch 3/100\n",
      "48/48 [==============================] - 1s 22ms/step - loss: 0.4411 - accuracy: 0.8450 - val_loss: 0.4527 - val_accuracy: 0.8355\n",
      "Epoch 4/100\n",
      "48/48 [==============================] - 1s 22ms/step - loss: 0.4049 - accuracy: 0.8576 - val_loss: 0.4026 - val_accuracy: 0.8545\n",
      "Epoch 5/100\n",
      "48/48 [==============================] - 1s 28ms/step - loss: 0.3791 - accuracy: 0.8660 - val_loss: 0.3774 - val_accuracy: 0.8655\n",
      "Epoch 6/100\n",
      "48/48 [==============================] - 1s 24ms/step - loss: 0.3558 - accuracy: 0.8744 - val_loss: 0.3814 - val_accuracy: 0.8602\n",
      "Epoch 7/100\n",
      "48/48 [==============================] - 1s 22ms/step - loss: 0.3449 - accuracy: 0.8764 - val_loss: 0.3534 - val_accuracy: 0.8714\n",
      "Epoch 8/100\n",
      "48/48 [==============================] - 1s 21ms/step - loss: 0.3325 - accuracy: 0.8818 - val_loss: 0.3869 - val_accuracy: 0.8610\n",
      "Epoch 9/100\n",
      "48/48 [==============================] - 1s 21ms/step - loss: 0.3153 - accuracy: 0.8875 - val_loss: 0.3359 - val_accuracy: 0.8770\n",
      "Epoch 10/100\n",
      "48/48 [==============================] - 1s 23ms/step - loss: 0.3063 - accuracy: 0.8902 - val_loss: 0.3240 - val_accuracy: 0.8804\n",
      "Epoch 11/100\n",
      "48/48 [==============================] - 1s 24ms/step - loss: 0.2957 - accuracy: 0.8933 - val_loss: 0.3287 - val_accuracy: 0.8805\n",
      "Epoch 12/100\n",
      "48/48 [==============================] - 1s 26ms/step - loss: 0.2835 - accuracy: 0.8982 - val_loss: 0.3322 - val_accuracy: 0.8775\n",
      "Epoch 13/100\n",
      "48/48 [==============================] - 1s 23ms/step - loss: 0.2733 - accuracy: 0.9018 - val_loss: 0.3251 - val_accuracy: 0.8822\n",
      "Epoch 14/100\n",
      "48/48 [==============================] - 1s 23ms/step - loss: 0.2671 - accuracy: 0.9018 - val_loss: 0.3162 - val_accuracy: 0.8835\n",
      "Epoch 15/100\n",
      "48/48 [==============================] - 1s 21ms/step - loss: 0.2592 - accuracy: 0.9050 - val_loss: 0.3195 - val_accuracy: 0.8848\n",
      "Epoch 16/100\n",
      "48/48 [==============================] - 1s 22ms/step - loss: 0.2509 - accuracy: 0.9085 - val_loss: 0.3176 - val_accuracy: 0.8848\n",
      "Epoch 17/100\n",
      "48/48 [==============================] - 1s 22ms/step - loss: 0.2527 - accuracy: 0.9070 - val_loss: 0.3051 - val_accuracy: 0.8890\n",
      "Epoch 18/100\n",
      "48/48 [==============================] - 1s 22ms/step - loss: 0.2450 - accuracy: 0.9093 - val_loss: 0.3226 - val_accuracy: 0.8841\n",
      "Epoch 19/100\n",
      "48/48 [==============================] - 1s 20ms/step - loss: 0.2302 - accuracy: 0.9171 - val_loss: 0.3365 - val_accuracy: 0.8798\n",
      "Epoch 20/100\n",
      "48/48 [==============================] - 1s 20ms/step - loss: 0.2263 - accuracy: 0.9164 - val_loss: 0.3023 - val_accuracy: 0.8935\n",
      "Epoch 21/100\n",
      "48/48 [==============================] - 1s 21ms/step - loss: 0.2183 - accuracy: 0.9193 - val_loss: 0.3025 - val_accuracy: 0.8934\n",
      "Epoch 22/100\n",
      "48/48 [==============================] - 1s 21ms/step - loss: 0.2166 - accuracy: 0.9207 - val_loss: 0.3238 - val_accuracy: 0.8888\n",
      "Epoch 23/100\n",
      "48/48 [==============================] - 1s 25ms/step - loss: 0.2158 - accuracy: 0.9206 - val_loss: 0.3251 - val_accuracy: 0.8867\n",
      "Epoch 24/100\n",
      "48/48 [==============================] - 1s 22ms/step - loss: 0.2118 - accuracy: 0.9215 - val_loss: 0.3217 - val_accuracy: 0.8898\n",
      "Epoch 25/100\n",
      "48/48 [==============================] - 1s 22ms/step - loss: 0.2046 - accuracy: 0.9254 - val_loss: 0.3105 - val_accuracy: 0.8923\n",
      "Epoch 26/100\n",
      "48/48 [==============================] - 1s 21ms/step - loss: 0.2005 - accuracy: 0.9261 - val_loss: 0.2998 - val_accuracy: 0.8940\n",
      "Epoch 27/100\n",
      "48/48 [==============================] - 1s 24ms/step - loss: 0.1936 - accuracy: 0.9292 - val_loss: 0.3033 - val_accuracy: 0.8967\n",
      "Epoch 28/100\n",
      "48/48 [==============================] - 1s 20ms/step - loss: 0.1924 - accuracy: 0.9305 - val_loss: 0.3192 - val_accuracy: 0.8878\n",
      "Epoch 29/100\n",
      "48/48 [==============================] - 1s 20ms/step - loss: 0.1862 - accuracy: 0.9324 - val_loss: 0.3177 - val_accuracy: 0.8872\n",
      "Epoch 30/100\n",
      "48/48 [==============================] - 1s 21ms/step - loss: 0.1803 - accuracy: 0.9346 - val_loss: 0.3186 - val_accuracy: 0.8906\n",
      "Epoch 31/100\n",
      "48/48 [==============================] - 1s 20ms/step - loss: 0.1768 - accuracy: 0.9361 - val_loss: 0.3066 - val_accuracy: 0.8953\n",
      "Epoch 32/100\n",
      "48/48 [==============================] - 1s 21ms/step - loss: 0.1670 - accuracy: 0.9397 - val_loss: 0.3167 - val_accuracy: 0.8949\n",
      "Epoch 33/100\n",
      "48/48 [==============================] - 1s 20ms/step - loss: 0.1652 - accuracy: 0.9400 - val_loss: 0.3338 - val_accuracy: 0.8907\n",
      "Epoch 34/100\n",
      "48/48 [==============================] - 1s 20ms/step - loss: 0.1597 - accuracy: 0.9422 - val_loss: 0.3270 - val_accuracy: 0.8947\n",
      "Epoch 35/100\n",
      "48/48 [==============================] - 1s 21ms/step - loss: 0.1599 - accuracy: 0.9413 - val_loss: 0.3239 - val_accuracy: 0.8944\n",
      "Epoch 36/100\n",
      "48/48 [==============================] - 1s 22ms/step - loss: 0.1528 - accuracy: 0.9439 - val_loss: 0.3417 - val_accuracy: 0.8898\n",
      "Epoch 37/100\n",
      "48/48 [==============================] - 1s 22ms/step - loss: 0.1543 - accuracy: 0.9435 - val_loss: 0.3271 - val_accuracy: 0.8957\n",
      "Epoch 38/100\n",
      "48/48 [==============================] - 1s 20ms/step - loss: 0.1434 - accuracy: 0.9473 - val_loss: 0.3367 - val_accuracy: 0.8945\n",
      "Epoch 39/100\n",
      "48/48 [==============================] - 1s 21ms/step - loss: 0.1510 - accuracy: 0.9442 - val_loss: 0.3382 - val_accuracy: 0.8888\n",
      "Epoch 40/100\n",
      "48/48 [==============================] - 1s 22ms/step - loss: 0.1442 - accuracy: 0.9476 - val_loss: 0.3390 - val_accuracy: 0.8938\n",
      "Epoch 41/100\n",
      "48/48 [==============================] - 1s 21ms/step - loss: 0.1358 - accuracy: 0.9510 - val_loss: 0.3587 - val_accuracy: 0.8892\n",
      "Epoch 42/100\n",
      "48/48 [==============================] - 1s 21ms/step - loss: 0.1358 - accuracy: 0.9505 - val_loss: 0.3427 - val_accuracy: 0.8951\n",
      "Epoch 43/100\n",
      "48/48 [==============================] - 1s 23ms/step - loss: 0.1283 - accuracy: 0.9537 - val_loss: 0.3505 - val_accuracy: 0.8940\n",
      "Epoch 44/100\n",
      "48/48 [==============================] - 1s 22ms/step - loss: 0.1289 - accuracy: 0.9532 - val_loss: 0.3500 - val_accuracy: 0.8926\n",
      "Epoch 45/100\n",
      "48/48 [==============================] - 1s 20ms/step - loss: 0.1248 - accuracy: 0.9542 - val_loss: 0.3569 - val_accuracy: 0.8916\n",
      "Epoch 46/100\n",
      "48/48 [==============================] - 1s 20ms/step - loss: 0.1282 - accuracy: 0.9534 - val_loss: 0.3624 - val_accuracy: 0.8923\n",
      "Epoch 47/100\n",
      "48/48 [==============================] - 1s 21ms/step - loss: 0.1216 - accuracy: 0.9553 - val_loss: 0.3592 - val_accuracy: 0.8958\n",
      "Epoch 48/100\n",
      "48/48 [==============================] - 1s 20ms/step - loss: 0.1155 - accuracy: 0.9586 - val_loss: 0.3958 - val_accuracy: 0.8877\n",
      "Epoch 49/100\n",
      "48/48 [==============================] - 1s 22ms/step - loss: 0.1223 - accuracy: 0.9557 - val_loss: 0.3720 - val_accuracy: 0.8939\n",
      "Epoch 50/100\n",
      "48/48 [==============================] - 1s 20ms/step - loss: 0.1096 - accuracy: 0.9606 - val_loss: 0.3783 - val_accuracy: 0.8930\n",
      "Epoch 51/100\n",
      "48/48 [==============================] - 1s 23ms/step - loss: 0.1123 - accuracy: 0.9594 - val_loss: 0.3881 - val_accuracy: 0.8932\n",
      "Epoch 52/100\n",
      "48/48 [==============================] - 1s 21ms/step - loss: 0.1115 - accuracy: 0.9601 - val_loss: 0.3919 - val_accuracy: 0.8928\n",
      "Epoch 53/100\n",
      "48/48 [==============================] - 1s 20ms/step - loss: 0.1111 - accuracy: 0.9590 - val_loss: 0.3826 - val_accuracy: 0.8917\n",
      "Epoch 54/100\n",
      "48/48 [==============================] - 1s 21ms/step - loss: 0.1098 - accuracy: 0.9598 - val_loss: 0.3939 - val_accuracy: 0.8936\n",
      "Epoch 55/100\n",
      "48/48 [==============================] - 1s 21ms/step - loss: 0.0973 - accuracy: 0.9644 - val_loss: 0.4206 - val_accuracy: 0.8934\n",
      "Epoch 56/100\n",
      "48/48 [==============================] - 1s 21ms/step - loss: 0.0992 - accuracy: 0.9644 - val_loss: 0.3989 - val_accuracy: 0.8930\n",
      "Epoch 57/100\n",
      "48/48 [==============================] - 1s 20ms/step - loss: 0.0918 - accuracy: 0.9668 - val_loss: 0.4185 - val_accuracy: 0.8881\n",
      "Epoch 58/100\n"
     ]
    },
    {
     "name": "stdout",
     "output_type": "stream",
     "text": [
      "48/48 [==============================] - 1s 21ms/step - loss: 0.0887 - accuracy: 0.9681 - val_loss: 0.4390 - val_accuracy: 0.8928\n",
      "Epoch 59/100\n",
      "48/48 [==============================] - 1s 20ms/step - loss: 0.0926 - accuracy: 0.9663 - val_loss: 0.4132 - val_accuracy: 0.8940\n",
      "Epoch 60/100\n",
      "48/48 [==============================] - 1s 20ms/step - loss: 0.0915 - accuracy: 0.9660 - val_loss: 0.4314 - val_accuracy: 0.8929\n",
      "Epoch 61/100\n",
      "48/48 [==============================] - 1s 20ms/step - loss: 0.0866 - accuracy: 0.9689 - val_loss: 0.4384 - val_accuracy: 0.8873\n",
      "Epoch 62/100\n",
      "48/48 [==============================] - 1s 21ms/step - loss: 0.0793 - accuracy: 0.9718 - val_loss: 0.4380 - val_accuracy: 0.8929\n",
      "Epoch 63/100\n",
      "48/48 [==============================] - 1s 21ms/step - loss: 0.0846 - accuracy: 0.9691 - val_loss: 0.4319 - val_accuracy: 0.8942\n",
      "Epoch 64/100\n",
      "48/48 [==============================] - 1s 22ms/step - loss: 0.0821 - accuracy: 0.9704 - val_loss: 0.4483 - val_accuracy: 0.8955\n",
      "Epoch 65/100\n",
      "48/48 [==============================] - 1s 20ms/step - loss: 0.0736 - accuracy: 0.9735 - val_loss: 0.4492 - val_accuracy: 0.8946\n",
      "Epoch 66/100\n",
      "48/48 [==============================] - 1s 20ms/step - loss: 0.0713 - accuracy: 0.9743 - val_loss: 0.4604 - val_accuracy: 0.8917\n",
      "Epoch 67/100\n",
      "48/48 [==============================] - 1s 21ms/step - loss: 0.0735 - accuracy: 0.9730 - val_loss: 0.4740 - val_accuracy: 0.8938\n",
      "Epoch 68/100\n",
      "48/48 [==============================] - 1s 21ms/step - loss: 0.0671 - accuracy: 0.9763 - val_loss: 0.4728 - val_accuracy: 0.8903\n",
      "Epoch 69/100\n",
      "48/48 [==============================] - 1s 22ms/step - loss: 0.0626 - accuracy: 0.9778 - val_loss: 0.4981 - val_accuracy: 0.8917\n",
      "Epoch 70/100\n",
      "48/48 [==============================] - 1s 21ms/step - loss: 0.0705 - accuracy: 0.9747 - val_loss: 0.4833 - val_accuracy: 0.8921\n",
      "Epoch 71/100\n",
      "48/48 [==============================] - 1s 20ms/step - loss: 0.0736 - accuracy: 0.9732 - val_loss: 0.5275 - val_accuracy: 0.8875\n",
      "Epoch 72/100\n",
      "48/48 [==============================] - 1s 22ms/step - loss: 0.0675 - accuracy: 0.9754 - val_loss: 0.4854 - val_accuracy: 0.8900\n",
      "Epoch 73/100\n",
      "48/48 [==============================] - 1s 20ms/step - loss: 0.0617 - accuracy: 0.9781 - val_loss: 0.4903 - val_accuracy: 0.8913\n",
      "Epoch 74/100\n",
      "48/48 [==============================] - 1s 20ms/step - loss: 0.0553 - accuracy: 0.9802 - val_loss: 0.5174 - val_accuracy: 0.8876\n",
      "Epoch 75/100\n",
      "48/48 [==============================] - 1s 20ms/step - loss: 0.0577 - accuracy: 0.9797 - val_loss: 0.5079 - val_accuracy: 0.8905\n",
      "Epoch 76/100\n",
      "48/48 [==============================] - 1s 22ms/step - loss: 0.0549 - accuracy: 0.9801 - val_loss: 0.5388 - val_accuracy: 0.8892\n",
      "Epoch 77/100\n",
      "48/48 [==============================] - 1s 20ms/step - loss: 0.0577 - accuracy: 0.9790 - val_loss: 0.5213 - val_accuracy: 0.8917\n",
      "Epoch 78/100\n",
      "48/48 [==============================] - 1s 21ms/step - loss: 0.0509 - accuracy: 0.9822 - val_loss: 0.5382 - val_accuracy: 0.8920\n",
      "Epoch 79/100\n",
      "48/48 [==============================] - 1s 20ms/step - loss: 0.0724 - accuracy: 0.9730 - val_loss: 0.5387 - val_accuracy: 0.8883\n",
      "Epoch 80/100\n",
      "48/48 [==============================] - 1s 21ms/step - loss: 0.0611 - accuracy: 0.9776 - val_loss: 0.5639 - val_accuracy: 0.8866\n",
      "Epoch 81/100\n",
      "48/48 [==============================] - 1s 20ms/step - loss: 0.0689 - accuracy: 0.9745 - val_loss: 0.5145 - val_accuracy: 0.8938\n",
      "Epoch 82/100\n",
      "48/48 [==============================] - 1s 20ms/step - loss: 0.0532 - accuracy: 0.9811 - val_loss: 0.5282 - val_accuracy: 0.8933\n",
      "Epoch 83/100\n",
      "48/48 [==============================] - 1s 20ms/step - loss: 0.0472 - accuracy: 0.9836 - val_loss: 0.5700 - val_accuracy: 0.8917\n",
      "Epoch 84/100\n",
      "48/48 [==============================] - 1s 20ms/step - loss: 0.0480 - accuracy: 0.9827 - val_loss: 0.5683 - val_accuracy: 0.8869\n",
      "Epoch 85/100\n",
      "48/48 [==============================] - 1s 20ms/step - loss: 0.0581 - accuracy: 0.9789 - val_loss: 0.5868 - val_accuracy: 0.8848\n",
      "Epoch 86/100\n",
      "48/48 [==============================] - 1s 20ms/step - loss: 0.0518 - accuracy: 0.9810 - val_loss: 0.5485 - val_accuracy: 0.8917\n",
      "Epoch 87/100\n",
      "48/48 [==============================] - 1s 20ms/step - loss: 0.0399 - accuracy: 0.9856 - val_loss: 0.5823 - val_accuracy: 0.8892\n",
      "Epoch 88/100\n",
      "48/48 [==============================] - 1s 20ms/step - loss: 0.0556 - accuracy: 0.9785 - val_loss: 0.5555 - val_accuracy: 0.8886\n",
      "Epoch 89/100\n",
      "48/48 [==============================] - 1s 25ms/step - loss: 0.0539 - accuracy: 0.9807 - val_loss: 0.5891 - val_accuracy: 0.8882\n",
      "Epoch 90/100\n",
      "48/48 [==============================] - 1s 26ms/step - loss: 0.0451 - accuracy: 0.9840 - val_loss: 0.5859 - val_accuracy: 0.8917\n",
      "Epoch 91/100\n",
      "48/48 [==============================] - 1s 26ms/step - loss: 0.0424 - accuracy: 0.9848 - val_loss: 0.5967 - val_accuracy: 0.8896\n",
      "Epoch 92/100\n",
      "48/48 [==============================] - 1s 25ms/step - loss: 0.0428 - accuracy: 0.9849 - val_loss: 0.6146 - val_accuracy: 0.8882\n",
      "Epoch 93/100\n",
      "48/48 [==============================] - 1s 24ms/step - loss: 0.0428 - accuracy: 0.9843 - val_loss: 0.6834 - val_accuracy: 0.8788\n",
      "Epoch 94/100\n",
      "48/48 [==============================] - 1s 23ms/step - loss: 0.0438 - accuracy: 0.9842 - val_loss: 0.6310 - val_accuracy: 0.8883\n",
      "Epoch 95/100\n",
      "48/48 [==============================] - 1s 24ms/step - loss: 0.0350 - accuracy: 0.9877 - val_loss: 0.6082 - val_accuracy: 0.8924\n",
      "Epoch 96/100\n",
      "48/48 [==============================] - 1s 22ms/step - loss: 0.0376 - accuracy: 0.9863 - val_loss: 0.6137 - val_accuracy: 0.8896\n",
      "Epoch 97/100\n",
      "48/48 [==============================] - 1s 23ms/step - loss: 0.0293 - accuracy: 0.9896 - val_loss: 0.6432 - val_accuracy: 0.8899\n",
      "Epoch 98/100\n",
      "48/48 [==============================] - 1s 22ms/step - loss: 0.0377 - accuracy: 0.9864 - val_loss: 0.6590 - val_accuracy: 0.8862\n",
      "Epoch 99/100\n",
      "48/48 [==============================] - 1s 22ms/step - loss: 0.0501 - accuracy: 0.9818 - val_loss: 0.6424 - val_accuracy: 0.8907\n",
      "Epoch 100/100\n",
      "48/48 [==============================] - 1s 23ms/step - loss: 0.0378 - accuracy: 0.9864 - val_loss: 0.6901 - val_accuracy: 0.8863\n"
     ]
    }
   ],
   "source": [
    "hist = model_fashion.fit(train_dataset, epochs=N_EPOCH, validation_data=val_dataset)"
   ]
  },
  {
   "cell_type": "markdown",
   "metadata": {
    "slideshow": {
     "slide_type": "fragment"
    }
   },
   "source": [
    "##### 결과 시각화\n",
    "- 학습 시 epoch별 검증 결과를 시각화한다."
   ]
  },
  {
   "cell_type": "code",
   "execution_count": 79,
   "metadata": {
    "ExecuteTime": {
     "end_time": "2023-02-21T02:30:37.010334Z",
     "start_time": "2023-02-21T02:30:36.984348Z"
    }
   },
   "outputs": [
    {
     "data": {
      "text/plain": [
       "dict_keys(['loss', 'accuracy', 'val_loss', 'val_accuracy'])"
      ]
     },
     "execution_count": 79,
     "metadata": {},
     "output_type": "execute_result"
    }
   ],
   "source": [
    "hist.history.keys()"
   ]
  },
  {
   "cell_type": "code",
   "execution_count": 82,
   "metadata": {
    "ExecuteTime": {
     "end_time": "2023-02-21T02:35:07.367214Z",
     "start_time": "2023-02-21T02:35:06.606451Z"
    }
   },
   "outputs": [
    {
     "data": {
      "image/png": "[encoded data removed]",
      "text/plain": [
       "<Figure size 1000x500 with 2 Axes>"
      ]
     },
     "metadata": {},
     "output_type": "display_data"
    }
   ],
   "source": [
    "plt.figure(figsize=(10, 5))\n",
    "plt.subplot(1, 2, 1)\n",
    "plt.plot(hist.epoch, hist.history['loss'], label='train')\n",
    "plt.plot(hist.epoch, hist.history['val_loss'], label = 'validation')\n",
    "plt.title('loss')\n",
    "plt.xlabel('epoch 수')\n",
    "plt.ylabel('loss')\n",
    "plt.legend()\n",
    "\n",
    "plt.subplot(1, 2, 2)\n",
    "plt.plot(hist.epoch, hist.history['accuracy'], label='train')\n",
    "plt.plot(hist.epoch, hist.history['val_accuracy'], label='validation')\n",
    "plt.title('Accuracy')\n",
    "plt.xlabel('epoch 수')\n",
    "plt.ylabel('accuracy')\n",
    "plt.legend()\n",
    "\n",
    "plt.tight_layout()\n",
    "plt.show()"
   ]
  },
  {
   "cell_type": "markdown",
   "metadata": {},
   "source": [
    "- 괜찮은 결과 값 자세히 확인하기"
   ]
  },
  {
   "cell_type": "code",
   "execution_count": 83,
   "metadata": {
    "ExecuteTime": {
     "end_time": "2023-02-21T02:44:51.331052Z",
     "start_time": "2023-02-21T02:44:26.729161Z"
    },
    "scrolled": true
   },
   "outputs": [
    {
     "name": "stdout",
     "output_type": "stream",
     "text": [
      "Epoch 1/20\n",
      "48/48 [==============================] - 3s 25ms/step - loss: 0.9032 - accuracy: 0.6927 - val_loss: 0.5605 - val_accuracy: 0.7962\n",
      "Epoch 2/20\n",
      "48/48 [==============================] - 1s 21ms/step - loss: 0.4964 - accuracy: 0.8268 - val_loss: 0.4524 - val_accuracy: 0.8360\n",
      "Epoch 3/20\n",
      "48/48 [==============================] - 1s 20ms/step - loss: 0.4324 - accuracy: 0.8502 - val_loss: 0.4277 - val_accuracy: 0.8447\n",
      "Epoch 4/20\n",
      "48/48 [==============================] - 1s 21ms/step - loss: 0.3993 - accuracy: 0.8602 - val_loss: 0.3924 - val_accuracy: 0.8583\n",
      "Epoch 5/20\n",
      "48/48 [==============================] - 1s 21ms/step - loss: 0.3678 - accuracy: 0.8702 - val_loss: 0.3767 - val_accuracy: 0.8645\n",
      "Epoch 6/20\n",
      "48/48 [==============================] - 1s 21ms/step - loss: 0.3516 - accuracy: 0.8744 - val_loss: 0.3579 - val_accuracy: 0.8688\n",
      "Epoch 7/20\n",
      "48/48 [==============================] - 1s 20ms/step - loss: 0.3338 - accuracy: 0.8807 - val_loss: 0.3445 - val_accuracy: 0.8759\n",
      "Epoch 8/20\n",
      "48/48 [==============================] - 1s 21ms/step - loss: 0.3139 - accuracy: 0.8877 - val_loss: 0.3738 - val_accuracy: 0.8630\n",
      "Epoch 9/20\n",
      "48/48 [==============================] - 1s 20ms/step - loss: 0.3070 - accuracy: 0.8879 - val_loss: 0.3330 - val_accuracy: 0.8767\n",
      "Epoch 10/20\n",
      "48/48 [==============================] - 1s 21ms/step - loss: 0.2944 - accuracy: 0.8918 - val_loss: 0.3386 - val_accuracy: 0.8763\n",
      "Epoch 11/20\n",
      "48/48 [==============================] - 1s 21ms/step - loss: 0.2815 - accuracy: 0.8962 - val_loss: 0.3242 - val_accuracy: 0.8829\n",
      "Epoch 12/20\n",
      "48/48 [==============================] - 1s 21ms/step - loss: 0.2747 - accuracy: 0.9004 - val_loss: 0.3280 - val_accuracy: 0.8789\n",
      "Epoch 13/20\n",
      "48/48 [==============================] - 1s 23ms/step - loss: 0.2687 - accuracy: 0.9010 - val_loss: 0.3138 - val_accuracy: 0.8876\n",
      "Epoch 14/20\n",
      "48/48 [==============================] - 1s 21ms/step - loss: 0.2589 - accuracy: 0.9045 - val_loss: 0.3158 - val_accuracy: 0.8839\n",
      "Epoch 15/20\n",
      "48/48 [==============================] - 1s 21ms/step - loss: 0.2518 - accuracy: 0.9076 - val_loss: 0.3173 - val_accuracy: 0.8859\n",
      "Epoch 16/20\n",
      "48/48 [==============================] - 1s 21ms/step - loss: 0.2484 - accuracy: 0.9086 - val_loss: 0.3318 - val_accuracy: 0.8785\n",
      "Epoch 17/20\n",
      "48/48 [==============================] - 1s 21ms/step - loss: 0.2422 - accuracy: 0.9104 - val_loss: 0.3070 - val_accuracy: 0.8892\n",
      "Epoch 18/20\n",
      "48/48 [==============================] - 1s 21ms/step - loss: 0.2299 - accuracy: 0.9149 - val_loss: 0.3153 - val_accuracy: 0.8865\n",
      "Epoch 19/20\n",
      "48/48 [==============================] - 1s 21ms/step - loss: 0.2245 - accuracy: 0.9175 - val_loss: 0.3192 - val_accuracy: 0.8863\n",
      "Epoch 20/20\n",
      "48/48 [==============================] - 1s 22ms/step - loss: 0.2285 - accuracy: 0.9156 - val_loss: 0.3369 - val_accuracy: 0.8777\n"
     ]
    }
   ],
   "source": [
    "model_fashion2 = get_model_fashion(LEARNING_RATE)\n",
    "\n",
    "hist = model_fashion2.fit(train_dataset, epochs=20, validation_data=val_dataset)"
   ]
  },
  {
   "cell_type": "code",
   "execution_count": 84,
   "metadata": {
    "ExecuteTime": {
     "end_time": "2023-02-21T02:45:08.116064Z",
     "start_time": "2023-02-21T02:45:07.302068Z"
    }
   },
   "outputs": [
    {
     "data": {
      "image/png": "[encoded data removed]",
      "text/plain": [
       "<Figure size 1000x500 with 2 Axes>"
      ]
     },
     "metadata": {},
     "output_type": "display_data"
    }
   ],
   "source": [
    "plt.figure(figsize=(10, 5))\n",
    "plt.subplot(1, 2, 1)\n",
    "plt.plot(hist.epoch, hist.history['loss'], label='train')\n",
    "plt.plot(hist.epoch, hist.history['val_loss'], label = 'validation')\n",
    "plt.title('loss')\n",
    "plt.xlabel('epoch 수')\n",
    "plt.ylabel('loss')\n",
    "plt.legend()\n",
    "\n",
    "plt.subplot(1, 2, 2)\n",
    "plt.plot(hist.epoch, hist.history['accuracy'], label='train')\n",
    "plt.plot(hist.epoch, hist.history['val_accuracy'], label='validation')\n",
    "plt.title('Accuracy')\n",
    "plt.xlabel('epoch 수')\n",
    "plt.ylabel('accuracy')\n",
    "plt.legend()\n",
    "\n",
    "plt.tight_layout()\n",
    "plt.show()"
   ]
  },
  {
   "cell_type": "markdown",
   "metadata": {
    "slideshow": {
     "slide_type": "slide"
    }
   },
   "source": [
    "#### 최종평가"
   ]
  },
  {
   "cell_type": "code",
   "execution_count": 85,
   "metadata": {
    "ExecuteTime": {
     "end_time": "2023-02-21T02:47:19.635939Z",
     "start_time": "2023-02-21T02:47:19.438591Z"
    }
   },
   "outputs": [
    {
     "name": "stdout",
     "output_type": "stream",
     "text": [
      "10/10 [==============================] - 0s 11ms/step - loss: 0.3709 - accuracy: 0.8690\n"
     ]
    }
   ],
   "source": [
    "# test set\n",
    "loss, acc = model_fashion2.evaluate(test_dataset)"
   ]
  },
  {
   "cell_type": "code",
   "execution_count": 86,
   "metadata": {
    "ExecuteTime": {
     "end_time": "2023-02-21T02:47:30.102995Z",
     "start_time": "2023-02-21T02:47:30.094996Z"
    }
   },
   "outputs": [
    {
     "name": "stdout",
     "output_type": "stream",
     "text": [
      "0.3709110617637634 , 0.8690000176429749\n"
     ]
    }
   ],
   "source": [
    "print(loss, acc, sep=' , ')"
   ]
  },
  {
   "cell_type": "markdown",
   "metadata": {
    "slideshow": {
     "slide_type": "fragment"
    }
   },
   "source": [
    "#### 모델저장"
   ]
  },
  {
   "cell_type": "code",
   "execution_count": 87,
   "metadata": {
    "ExecuteTime": {
     "end_time": "2023-02-21T02:48:38.741393Z",
     "start_time": "2023-02-21T02:48:38.719352Z"
    }
   },
   "outputs": [],
   "source": [
    "save_dir_fashion = 'saved_model/fashion_mnist_model'"
   ]
  },
  {
   "cell_type": "code",
   "execution_count": 88,
   "metadata": {
    "ExecuteTime": {
     "end_time": "2023-02-21T02:48:54.130855Z",
     "start_time": "2023-02-21T02:48:52.086404Z"
    }
   },
   "outputs": [
    {
     "name": "stderr",
     "output_type": "stream",
     "text": [
      "WARNING:absl:Found untraced functions such as _update_step_xla while saving (showing 1 of 1). These functions will not be directly callable after loading.\n"
     ]
    },
    {
     "name": "stdout",
     "output_type": "stream",
     "text": [
      "INFO:tensorflow:Assets written to: saved_model/fashion_mnist_model\\assets\n"
     ]
    },
    {
     "name": "stderr",
     "output_type": "stream",
     "text": [
      "INFO:tensorflow:Assets written to: saved_model/fashion_mnist_model\\assets\n"
     ]
    }
   ],
   "source": [
    "model_fashion2.save(save_dir_fashion)"
   ]
  },
  {
   "cell_type": "markdown",
   "metadata": {
    "slideshow": {
     "slide_type": "slide"
    }
   },
   "source": [
    "#### 새로운 데이터 추론"
   ]
  },
  {
   "cell_type": "code",
   "execution_count": 90,
   "metadata": {
    "ExecuteTime": {
     "end_time": "2023-02-21T02:51:05.165516Z",
     "start_time": "2023-02-21T02:51:04.167543Z"
    }
   },
   "outputs": [
    {
     "name": "stdout",
     "output_type": "stream",
     "text": [
      "10/10 [==============================] - 0s 11ms/step - loss: 0.3709 - accuracy: 0.8690\n"
     ]
    },
    {
     "data": {
      "text/plain": [
       "[0.3709110617637634, 0.8690000176429749]"
      ]
     },
     "execution_count": 90,
     "metadata": {},
     "output_type": "execute_result"
    }
   ],
   "source": [
    "# 저장된 모델을 loading해서 추론\n",
    "saved_model_fashion = models.load_model(save_dir_fashion)\n",
    "saved_model_fashion.evaluate(test_dataset)"
   ]
  },
  {
   "cell_type": "code",
   "execution_count": 93,
   "metadata": {
    "ExecuteTime": {
     "end_time": "2023-02-21T02:52:09.731003Z",
     "start_time": "2023-02-21T02:52:09.717955Z"
    }
   },
   "outputs": [
    {
     "data": {
      "text/plain": [
       "(10, 28, 28)"
      ]
     },
     "execution_count": 93,
     "metadata": {},
     "output_type": "execute_result"
    }
   ],
   "source": [
    "new_X = X_test[1000:1010]\n",
    "new_X.shape"
   ]
  },
  {
   "cell_type": "code",
   "execution_count": 94,
   "metadata": {
    "ExecuteTime": {
     "end_time": "2023-02-21T02:52:34.635421Z",
     "start_time": "2023-02-21T02:52:34.335195Z"
    }
   },
   "outputs": [
    {
     "name": "stdout",
     "output_type": "stream",
     "text": [
      "1/1 [==============================] - 0s 192ms/step\n"
     ]
    },
    {
     "data": {
      "text/plain": [
       "(10, 10)"
      ]
     },
     "execution_count": 94,
     "metadata": {},
     "output_type": "execute_result"
    }
   ],
   "source": [
    "pred = saved_model_fashion.predict(new_X)\n",
    "pred.shape"
   ]
  },
  {
   "cell_type": "code",
   "execution_count": 102,
   "metadata": {
    "ExecuteTime": {
     "end_time": "2023-02-21T02:56:53.432033Z",
     "start_time": "2023-02-21T02:56:53.408021Z"
    }
   },
   "outputs": [
    {
     "data": {
      "text/plain": [
       "(array([6, 3, 5, 5, 6, 4, 5, 9, 6, 3], dtype=int64),\n",
       " array(['Shirt', 'Dress', 'Sandal', 'Sandal', 'Shirt', 'Coat', 'Sandal',\n",
       "        'Ankle boot', 'Shirt', 'Dress'], dtype='<U11'),\n",
       " array([ 85.329285,  99.985016,  99.95529 , 100.      ,  48.546947,\n",
       "         37.452072,  99.99987 ,  99.706665,  61.39487 ,  99.48266 ],\n",
       "       dtype=float32))"
      ]
     },
     "execution_count": 102,
     "metadata": {},
     "output_type": "execute_result"
    }
   ],
   "source": [
    "# 모델 추론결과에 대한 후처리\n",
    "label = np.argmax(pred, axis=-1) # label 값을 조회\n",
    "label_name = class_names[label]\n",
    "proba = np.max(pred, axis=-1)   # 얼마의 확률로 label을 추론했는지 확률값 조회\n",
    "label, label_name, proba*100"
   ]
  },
  {
   "cell_type": "code",
   "execution_count": 105,
   "metadata": {
    "ExecuteTime": {
     "end_time": "2023-02-21T02:58:56.334758Z",
     "start_time": "2023-02-21T02:58:56.320761Z"
    }
   },
   "outputs": [
    {
     "name": "stdout",
     "output_type": "stream",
     "text": [
      "1 Shirt - 85%\n",
      "2 Dress - 99%\n",
      "3 Sandal - 99%\n",
      "4 Sandal - 100%\n",
      "5 Shirt - 48%\n",
      "6 Coat - 37%\n",
      "7 Sandal - 99%\n",
      "8 Ankle boot - 99%\n",
      "9 Shirt - 61%\n",
      "10 Dress - 99%\n"
     ]
    }
   ],
   "source": [
    "for idx, (n, p) in enumerate(zip(label_name, proba), start=1):\n",
    "    print(f'{idx} {n} - {int(p*100)}%')"
   ]
  },
  {
   "cell_type": "code",
   "execution_count": 106,
   "metadata": {
    "ExecuteTime": {
     "end_time": "2023-02-21T02:59:41.469694Z",
     "start_time": "2023-02-21T02:59:41.447658Z"
    }
   },
   "outputs": [
    {
     "data": {
      "text/plain": [
       "array(['T-shirt/top', 'Dress', 'Sandal', 'Sandal', 'Shirt', 'T-shirt/top',\n",
       "       'Sandal', 'Ankle boot', 'Shirt', 'Dress'], dtype='<U11')"
      ]
     },
     "execution_count": 106,
     "metadata": {},
     "output_type": "execute_result"
    }
   ],
   "source": [
    "class_names[y_test[1000:1010]]"
   ]
  },
  {
   "cell_type": "markdown",
   "metadata": {
    "slideshow": {
     "slide_type": "slide"
    }
   },
   "source": [
    "## 위스콘신 유방암 데이터셋 - 이진분류(Binary Classification) 문제\n",
    "\n",
    "- **이진 분류 문제 처리 모델의 두가지 방법**\n",
    "    1. positive(1)일 확률을 출력하도록 구현\n",
    "        - output layer: units=1, activation='sigmoid'\n",
    "        - loss: binary_crossentropy\n",
    "    2. negative(0)일 확률과 positive(1)일 확률을 출력하도록 구현 => 다중분류 처리 방식으로 해결\n",
    "        - output layer: units=2, activation='softmax', y(정답)은 one hot encoding 처리\n",
    "        - loss: categorical_crossentropy\n",
    "        \n",
    "- 위스콘신 대학교에서 제공한 종양의 악성/양성여부 분류를 위한 데이터셋\n",
    "- Feature\n",
    "    - 종양에 대한 다양한 측정값들\n",
    "- Target의 class\n",
    "    - 0 - malignant(악성종양)\n",
    "    - 1 - benign(양성종양)"
   ]
  },
  {
   "cell_type": "code",
   "execution_count": 107,
   "metadata": {
    "ExecuteTime": {
     "end_time": "2023-02-21T03:28:55.282231Z",
     "start_time": "2023-02-21T03:28:54.964450Z"
    }
   },
   "outputs": [],
   "source": [
    "import tensorflow as tf\n",
    "from tensorflow import keras\n",
    "from tensorflow.keras import layers, models, optimizers\n",
    "\n",
    "from sklearn.datasets import load_breast_cancer\n",
    "from sklearn.model_selection import train_test_split\n",
    "from sklearn.preprocessing import StandardScaler\n",
    "\n",
    "import random\n",
    "import numpy as np\n",
    "import matplotlib.pyplot as plt\n",
    "\n",
    "random.seed(0)\n",
    "np.random.seed(0)\n",
    "tf.random.set_seed(0)"
   ]
  },
  {
   "cell_type": "markdown",
   "metadata": {
    "slideshow": {
     "slide_type": "slide"
    }
   },
   "source": [
    "##### 데이터 로딩, train/validation/test set 나누기"
   ]
  },
  {
   "cell_type": "code",
   "execution_count": 108,
   "metadata": {
    "ExecuteTime": {
     "end_time": "2023-02-21T03:29:08.591809Z",
     "start_time": "2023-02-21T03:29:08.550766Z"
    }
   },
   "outputs": [
    {
     "data": {
      "text/plain": [
       "((569, 30), (569,))"
      ]
     },
     "execution_count": 108,
     "metadata": {},
     "output_type": "execute_result"
    }
   ],
   "source": [
    "X, y = load_breast_cancer(return_X_y=True)\n",
    "X.shape, y.shape"
   ]
  },
  {
   "cell_type": "code",
   "execution_count": 109,
   "metadata": {
    "ExecuteTime": {
     "end_time": "2023-02-21T03:29:17.590417Z",
     "start_time": "2023-02-21T03:29:17.578428Z"
    }
   },
   "outputs": [
    {
     "data": {
      "text/plain": [
       "array([0, 1])"
      ]
     },
     "execution_count": 109,
     "metadata": {},
     "output_type": "execute_result"
    }
   ],
   "source": [
    "np.unique(y)"
   ]
  },
  {
   "cell_type": "code",
   "execution_count": 111,
   "metadata": {
    "ExecuteTime": {
     "end_time": "2023-02-21T03:32:03.018110Z",
     "start_time": "2023-02-21T03:32:02.999146Z"
    }
   },
   "outputs": [],
   "source": [
    "# Test set 분리\n",
    "X_train, X_test, y_train, y_test = train_test_split(X, y, test_size=0.2, stratify=y, random_state=0)\n",
    "# Train / Validation 분리\n",
    "X_train, X_val, y_train, y_val = train_test_split(X_train, y_train, test_size=0.2, stratify=y_train, random_state=0)"
   ]
  },
  {
   "cell_type": "code",
   "execution_count": 112,
   "metadata": {
    "ExecuteTime": {
     "end_time": "2023-02-21T03:32:03.347134Z",
     "start_time": "2023-02-21T03:32:03.328093Z"
    }
   },
   "outputs": [
    {
     "data": {
      "text/plain": [
       "((364, 30), (91, 30), (114, 30))"
      ]
     },
     "execution_count": 112,
     "metadata": {},
     "output_type": "execute_result"
    }
   ],
   "source": [
    "X_train.shape, X_val.shape, X_test.shape"
   ]
  },
  {
   "cell_type": "markdown",
   "metadata": {
    "slideshow": {
     "slide_type": "slide"
    }
   },
   "source": [
    "#### 하이퍼파라미터, 변수 정의"
   ]
  },
  {
   "cell_type": "code",
   "execution_count": 113,
   "metadata": {
    "ExecuteTime": {
     "end_time": "2023-02-21T03:32:35.271167Z",
     "start_time": "2023-02-21T03:32:35.260165Z"
    }
   },
   "outputs": [],
   "source": [
    "LEARNING_RATE = 0.001\n",
    "N_EPOCH = 200\n",
    "N_BATCH = 100\n",
    "N_BATCH_VAL_TEST = 50"
   ]
  },
  {
   "cell_type": "markdown",
   "metadata": {
    "slideshow": {
     "slide_type": "fragment"
    }
   },
   "source": [
    "#### 데이터 전처리\n",
    "- y (label) 처리\n",
    "    - 이진 분류\n",
    "        - 양성의 확률을 출력하도록 모델을 구성하는 경우 그대로 사용.\n",
    "        - 양성일 확률, 음성일 확률을 출력하도록 모델을 구성하는 경우(다중분류 방식으로 처리) one hot encoding 처리한다.\n",
    "- X (feature) 처리\n",
    "    - 문자열(범주형): one hot encoding\n",
    "    - 연속형(수치형): feature scaling"
   ]
  },
  {
   "cell_type": "code",
   "execution_count": 114,
   "metadata": {
    "ExecuteTime": {
     "end_time": "2023-02-21T03:35:10.451830Z",
     "start_time": "2023-02-21T03:35:10.440801Z"
    }
   },
   "outputs": [],
   "source": [
    "# Feature scaling\n",
    "scaler = StandardScaler()\n",
    "X_train_scaled = scaler.fit_transform(X_train)\n",
    "X_val_scaled = scaler.transform(X_val)\n",
    "X_test_scaled = scaler.transform(X_test)"
   ]
  },
  {
   "cell_type": "markdown",
   "metadata": {
    "slideshow": {
     "slide_type": "slide"
    }
   },
   "source": [
    "#### Dataset 생성\n"
   ]
  },
  {
   "cell_type": "code",
   "execution_count": 116,
   "metadata": {
    "ExecuteTime": {
     "end_time": "2023-02-21T05:10:34.954850Z",
     "start_time": "2023-02-21T05:10:34.902807Z"
    }
   },
   "outputs": [],
   "source": [
    "train_size = X_train_scaled.shape[0]\n",
    "train_dataset = tf.data.Dataset.from_tensor_slices((X_train_scaled, y_train)).shuffle(train_size).batch(N_BATCH, drop_remainder=True)\n",
    "\n",
    "val_dataset = tf.data.Dataset.from_tensor_slices((X_val_scaled, y_val)).batch(N_BATCH_VAL_TEST)\n",
    "\n",
    "test_dataset = tf.data.Dataset.from_tensor_slices((X_test_scaled, y_test)).batch(N_BATCH_VAL_TEST)"
   ]
  },
  {
   "cell_type": "markdown",
   "metadata": {
    "slideshow": {
     "slide_type": "slide"
    }
   },
   "source": [
    "#### model 생성, 컴파일"
   ]
  },
  {
   "cell_type": "code",
   "execution_count": 119,
   "metadata": {
    "ExecuteTime": {
     "end_time": "2023-02-21T05:13:57.689049Z",
     "start_time": "2023-02-21T05:13:57.672049Z"
    }
   },
   "outputs": [
    {
     "data": {
      "text/plain": [
       "(364, 30)"
      ]
     },
     "execution_count": 119,
     "metadata": {},
     "output_type": "execute_result"
    }
   ],
   "source": [
    "X_train_scaled.shape"
   ]
  },
  {
   "cell_type": "code",
   "execution_count": 121,
   "metadata": {
    "ExecuteTime": {
     "end_time": "2023-02-21T05:21:12.225455Z",
     "start_time": "2023-02-21T05:21:12.202419Z"
    }
   },
   "outputs": [],
   "source": [
    "from tensorflow.keras.metrics import Recall, Precision\n",
    "def get_model_cancer(lr=0.01):\n",
    "    model = keras.Sequential()\n",
    "    # Hidden layer\n",
    "    model.add(layers.Dense(32, activation='relu', input_shape=(30, )))\n",
    "    model.add(layers.Dense(16, activation='relu'))\n",
    "    \n",
    "    # Output layer\n",
    "    # 이진분류(양성인가?): unit 개수- 1개(positive-양성 - 확률), activation: 'sigmoid'\n",
    "    model.add(layers.Dense(1, activation='sigmoid', name='output_layer')) # layer이름 규칙: 변수명 규칙과 통일\n",
    "    \n",
    "    # 컴파일 - 이진분류의 loss함수: binary_crossentropy\n",
    "    model.compile(optimizer = optimizers.Adam(learning_rate=lr), loss='binary_crossentropy', metrics=['accuracy', Recall()])\n",
    "    \n",
    "    return model"
   ]
  },
  {
   "cell_type": "code",
   "execution_count": 122,
   "metadata": {
    "ExecuteTime": {
     "end_time": "2023-02-21T05:21:36.611733Z",
     "start_time": "2023-02-21T05:21:36.447731Z"
    }
   },
   "outputs": [
    {
     "name": "stdout",
     "output_type": "stream",
     "text": [
      "Model: \"sequential_3\"\n",
      "_________________________________________________________________\n",
      " Layer (type)                Output Shape              Param #   \n",
      "=================================================================\n",
      " dense_12 (Dense)            (None, 32)                992       \n",
      "                                                                 \n",
      " dense_13 (Dense)            (None, 16)                528       \n",
      "                                                                 \n",
      " output_layer (Dense)        (None, 1)                 17        \n",
      "                                                                 \n",
      "=================================================================\n",
      "Total params: 1,537\n",
      "Trainable params: 1,537\n",
      "Non-trainable params: 0\n",
      "_________________________________________________________________\n"
     ]
    }
   ],
   "source": [
    "model_cancer = get_model_cancer(LEARNING_RATE)\n",
    "model_cancer.summary()"
   ]
  },
  {
   "cell_type": "code",
   "execution_count": 123,
   "metadata": {
    "ExecuteTime": {
     "end_time": "2023-02-21T05:23:35.745977Z",
     "start_time": "2023-02-21T05:23:34.905981Z"
    }
   },
   "outputs": [
    {
     "data": {
      "image/png": "[encoded data removed]",
      "text/plain": [
       "<IPython.core.display.Image object>"
      ]
     },
     "execution_count": 123,
     "metadata": {},
     "output_type": "execute_result"
    }
   ],
   "source": [
    "keras.utils.plot_model(model_cancer, show_shapes=True, to_file='model_cancer.png')"
   ]
  },
  {
   "cell_type": "markdown",
   "metadata": {
    "slideshow": {
     "slide_type": "slide"
    }
   },
   "source": [
    "#### Train(학습)"
   ]
  },
  {
   "cell_type": "code",
   "execution_count": 124,
   "metadata": {
    "ExecuteTime": {
     "end_time": "2023-02-21T05:24:23.346931Z",
     "start_time": "2023-02-21T05:24:07.385090Z"
    }
   },
   "outputs": [
    {
     "name": "stdout",
     "output_type": "stream",
     "text": [
      "Epoch 1/200\n",
      "3/3 [==============================] - 2s 202ms/step - loss: 0.5983 - accuracy: 0.7333 - recall: 0.8783 - val_loss: 0.5505 - val_accuracy: 0.7692 - val_recall: 0.8596\n",
      "Epoch 2/200\n",
      "3/3 [==============================] - 0s 26ms/step - loss: 0.5256 - accuracy: 0.8033 - recall: 0.9000 - val_loss: 0.5011 - val_accuracy: 0.8242 - val_recall: 0.8947\n",
      "Epoch 3/200\n",
      "3/3 [==============================] - 0s 25ms/step - loss: 0.4835 - accuracy: 0.8200 - recall: 0.9180 - val_loss: 0.4584 - val_accuracy: 0.8681 - val_recall: 0.9298\n",
      "Epoch 4/200\n",
      "3/3 [==============================] - 0s 30ms/step - loss: 0.4224 - accuracy: 0.8733 - recall: 0.9430 - val_loss: 0.4215 - val_accuracy: 0.8681 - val_recall: 0.9298\n",
      "Epoch 5/200\n",
      "3/3 [==============================] - 0s 26ms/step - loss: 0.3915 - accuracy: 0.8833 - recall: 0.9471 - val_loss: 0.3881 - val_accuracy: 0.8571 - val_recall: 0.9123\n",
      "Epoch 6/200\n",
      "3/3 [==============================] - 0s 24ms/step - loss: 0.3635 - accuracy: 0.8900 - recall: 0.9405 - val_loss: 0.3578 - val_accuracy: 0.8791 - val_recall: 0.9474\n",
      "Epoch 7/200\n",
      "3/3 [==============================] - 0s 24ms/step - loss: 0.3243 - accuracy: 0.9233 - recall: 0.9683 - val_loss: 0.3303 - val_accuracy: 0.9011 - val_recall: 0.9474\n",
      "Epoch 8/200\n",
      "3/3 [==============================] - 0s 23ms/step - loss: 0.3055 - accuracy: 0.9233 - recall: 0.9679 - val_loss: 0.3055 - val_accuracy: 0.9011 - val_recall: 0.9474\n",
      "Epoch 9/200\n",
      "3/3 [==============================] - 0s 21ms/step - loss: 0.2814 - accuracy: 0.9300 - recall: 0.9738 - val_loss: 0.2824 - val_accuracy: 0.9121 - val_recall: 0.9474\n",
      "Epoch 10/200\n",
      "3/3 [==============================] - 0s 24ms/step - loss: 0.2662 - accuracy: 0.9333 - recall: 0.9639 - val_loss: 0.2608 - val_accuracy: 0.9231 - val_recall: 0.9474\n",
      "Epoch 11/200\n",
      "3/3 [==============================] - 0s 22ms/step - loss: 0.2471 - accuracy: 0.9433 - recall: 0.9740 - val_loss: 0.2407 - val_accuracy: 0.9341 - val_recall: 0.9649\n",
      "Epoch 12/200\n",
      "3/3 [==============================] - 0s 24ms/step - loss: 0.2435 - accuracy: 0.9433 - recall: 0.9740 - val_loss: 0.2218 - val_accuracy: 0.9451 - val_recall: 0.9649\n",
      "Epoch 13/200\n",
      "3/3 [==============================] - 0s 22ms/step - loss: 0.2190 - accuracy: 0.9500 - recall: 0.9785 - val_loss: 0.2047 - val_accuracy: 0.9451 - val_recall: 0.9649\n",
      "Epoch 14/200\n",
      "3/3 [==============================] - 0s 23ms/step - loss: 0.1980 - accuracy: 0.9600 - recall: 0.9842 - val_loss: 0.1888 - val_accuracy: 0.9560 - val_recall: 0.9825\n",
      "Epoch 15/200\n",
      "3/3 [==============================] - 0s 23ms/step - loss: 0.1896 - accuracy: 0.9633 - recall: 0.9835 - val_loss: 0.1745 - val_accuracy: 0.9560 - val_recall: 0.9825\n",
      "Epoch 16/200\n",
      "3/3 [==============================] - 0s 30ms/step - loss: 0.1757 - accuracy: 0.9700 - recall: 0.9844 - val_loss: 0.1616 - val_accuracy: 0.9670 - val_recall: 1.0000\n",
      "Epoch 17/200\n",
      "3/3 [==============================] - 0s 30ms/step - loss: 0.1783 - accuracy: 0.9667 - recall: 0.9836 - val_loss: 0.1498 - val_accuracy: 0.9670 - val_recall: 1.0000\n",
      "Epoch 18/200\n",
      "3/3 [==============================] - 0s 26ms/step - loss: 0.1722 - accuracy: 0.9667 - recall: 0.9841 - val_loss: 0.1390 - val_accuracy: 0.9780 - val_recall: 1.0000\n",
      "Epoch 19/200\n",
      "3/3 [==============================] - 0s 28ms/step - loss: 0.1564 - accuracy: 0.9667 - recall: 0.9840 - val_loss: 0.1293 - val_accuracy: 0.9890 - val_recall: 1.0000\n",
      "Epoch 20/200\n",
      "3/3 [==============================] - 0s 23ms/step - loss: 0.1505 - accuracy: 0.9667 - recall: 0.9840 - val_loss: 0.1205 - val_accuracy: 0.9890 - val_recall: 1.0000\n",
      "Epoch 21/200\n",
      "3/3 [==============================] - 0s 36ms/step - loss: 0.1432 - accuracy: 0.9667 - recall: 0.9780 - val_loss: 0.1124 - val_accuracy: 0.9890 - val_recall: 1.0000\n",
      "Epoch 22/200\n",
      "3/3 [==============================] - 0s 22ms/step - loss: 0.1353 - accuracy: 0.9700 - recall: 0.9842 - val_loss: 0.1050 - val_accuracy: 0.9890 - val_recall: 1.0000\n",
      "Epoch 23/200\n",
      "3/3 [==============================] - 0s 23ms/step - loss: 0.1338 - accuracy: 0.9700 - recall: 0.9786 - val_loss: 0.0983 - val_accuracy: 0.9890 - val_recall: 1.0000\n",
      "Epoch 24/200\n",
      "3/3 [==============================] - 0s 23ms/step - loss: 0.1079 - accuracy: 0.9800 - recall: 0.9792 - val_loss: 0.0921 - val_accuracy: 0.9890 - val_recall: 1.0000\n",
      "Epoch 25/200\n",
      "3/3 [==============================] - 0s 24ms/step - loss: 0.1005 - accuracy: 0.9767 - recall: 0.9789 - val_loss: 0.0861 - val_accuracy: 0.9890 - val_recall: 1.0000\n",
      "Epoch 26/200\n",
      "3/3 [==============================] - 0s 21ms/step - loss: 0.0984 - accuracy: 0.9833 - recall: 0.9834 - val_loss: 0.0803 - val_accuracy: 0.9890 - val_recall: 1.0000\n",
      "Epoch 27/200\n",
      "3/3 [==============================] - 0s 22ms/step - loss: 0.1047 - accuracy: 0.9800 - recall: 0.9845 - val_loss: 0.0751 - val_accuracy: 0.9890 - val_recall: 1.0000\n",
      "Epoch 28/200\n",
      "3/3 [==============================] - 0s 26ms/step - loss: 0.0935 - accuracy: 0.9833 - recall: 0.9892 - val_loss: 0.0704 - val_accuracy: 1.0000 - val_recall: 1.0000\n",
      "Epoch 29/200\n",
      "3/3 [==============================] - 0s 21ms/step - loss: 0.0860 - accuracy: 0.9867 - recall: 0.9945 - val_loss: 0.0661 - val_accuracy: 1.0000 - val_recall: 1.0000\n",
      "Epoch 30/200\n",
      "3/3 [==============================] - 0s 25ms/step - loss: 0.0933 - accuracy: 0.9800 - recall: 0.9894 - val_loss: 0.0624 - val_accuracy: 1.0000 - val_recall: 1.0000\n",
      "Epoch 31/200\n",
      "3/3 [==============================] - 0s 23ms/step - loss: 0.0889 - accuracy: 0.9833 - recall: 0.9947 - val_loss: 0.0589 - val_accuracy: 1.0000 - val_recall: 1.0000\n",
      "Epoch 32/200\n",
      "3/3 [==============================] - 0s 23ms/step - loss: 0.0806 - accuracy: 0.9833 - recall: 0.9894 - val_loss: 0.0556 - val_accuracy: 1.0000 - val_recall: 1.0000\n",
      "Epoch 33/200\n",
      "3/3 [==============================] - 0s 27ms/step - loss: 0.0808 - accuracy: 0.9867 - recall: 0.9894 - val_loss: 0.0526 - val_accuracy: 1.0000 - val_recall: 1.0000\n",
      "Epoch 34/200\n",
      "3/3 [==============================] - 0s 24ms/step - loss: 0.0778 - accuracy: 0.9900 - recall: 1.0000 - val_loss: 0.0501 - val_accuracy: 1.0000 - val_recall: 1.0000\n",
      "Epoch 35/200\n",
      "3/3 [==============================] - 0s 25ms/step - loss: 0.0799 - accuracy: 0.9800 - recall: 0.9889 - val_loss: 0.0479 - val_accuracy: 1.0000 - val_recall: 1.0000\n",
      "Epoch 36/200\n",
      "3/3 [==============================] - 0s 26ms/step - loss: 0.0715 - accuracy: 0.9833 - recall: 0.9895 - val_loss: 0.0458 - val_accuracy: 1.0000 - val_recall: 1.0000\n",
      "Epoch 37/200\n",
      "3/3 [==============================] - 0s 24ms/step - loss: 0.0736 - accuracy: 0.9833 - recall: 0.9895 - val_loss: 0.0439 - val_accuracy: 1.0000 - val_recall: 1.0000\n",
      "Epoch 38/200\n",
      "3/3 [==============================] - 0s 25ms/step - loss: 0.0748 - accuracy: 0.9833 - recall: 0.9895 - val_loss: 0.0420 - val_accuracy: 1.0000 - val_recall: 1.0000\n",
      "Epoch 39/200\n",
      "3/3 [==============================] - 0s 24ms/step - loss: 0.0716 - accuracy: 0.9833 - recall: 0.9896 - val_loss: 0.0403 - val_accuracy: 1.0000 - val_recall: 1.0000\n",
      "Epoch 40/200\n",
      "3/3 [==============================] - 0s 22ms/step - loss: 0.0578 - accuracy: 0.9867 - recall: 0.9891 - val_loss: 0.0388 - val_accuracy: 1.0000 - val_recall: 1.0000\n",
      "Epoch 41/200\n",
      "3/3 [==============================] - 0s 23ms/step - loss: 0.0530 - accuracy: 0.9900 - recall: 0.9946 - val_loss: 0.0373 - val_accuracy: 1.0000 - val_recall: 1.0000\n",
      "Epoch 42/200\n",
      "3/3 [==============================] - 0s 23ms/step - loss: 0.0652 - accuracy: 0.9867 - recall: 0.9947 - val_loss: 0.0359 - val_accuracy: 1.0000 - val_recall: 1.0000\n",
      "Epoch 43/200\n",
      "3/3 [==============================] - 0s 26ms/step - loss: 0.0621 - accuracy: 0.9867 - recall: 0.9948 - val_loss: 0.0348 - val_accuracy: 1.0000 - val_recall: 1.0000\n",
      "Epoch 44/200\n",
      "3/3 [==============================] - 0s 23ms/step - loss: 0.0583 - accuracy: 0.9900 - recall: 0.9947 - val_loss: 0.0337 - val_accuracy: 1.0000 - val_recall: 1.0000\n",
      "Epoch 45/200\n",
      "3/3 [==============================] - 0s 25ms/step - loss: 0.0593 - accuracy: 0.9867 - recall: 0.9893 - val_loss: 0.0327 - val_accuracy: 1.0000 - val_recall: 1.0000\n",
      "Epoch 46/200\n",
      "3/3 [==============================] - 0s 23ms/step - loss: 0.0587 - accuracy: 0.9867 - recall: 0.9894 - val_loss: 0.0317 - val_accuracy: 1.0000 - val_recall: 1.0000\n"
     ]
    },
    {
     "name": "stdout",
     "output_type": "stream",
     "text": [
      "Epoch 47/200\n",
      "3/3 [==============================] - 0s 30ms/step - loss: 0.0651 - accuracy: 0.9833 - recall: 0.9895 - val_loss: 0.0307 - val_accuracy: 1.0000 - val_recall: 1.0000\n",
      "Epoch 48/200\n",
      "3/3 [==============================] - 0s 25ms/step - loss: 0.0608 - accuracy: 0.9833 - recall: 0.9897 - val_loss: 0.0298 - val_accuracy: 1.0000 - val_recall: 1.0000\n",
      "Epoch 49/200\n",
      "3/3 [==============================] - 0s 21ms/step - loss: 0.0547 - accuracy: 0.9900 - recall: 0.9949 - val_loss: 0.0290 - val_accuracy: 1.0000 - val_recall: 1.0000\n",
      "Epoch 50/200\n",
      "3/3 [==============================] - 0s 22ms/step - loss: 0.0549 - accuracy: 0.9833 - recall: 0.9898 - val_loss: 0.0282 - val_accuracy: 1.0000 - val_recall: 1.0000\n",
      "Epoch 51/200\n",
      "3/3 [==============================] - 0s 24ms/step - loss: 0.0515 - accuracy: 0.9867 - recall: 0.9946 - val_loss: 0.0276 - val_accuracy: 1.0000 - val_recall: 1.0000\n",
      "Epoch 52/200\n",
      "3/3 [==============================] - 0s 24ms/step - loss: 0.0513 - accuracy: 0.9833 - recall: 0.9895 - val_loss: 0.0271 - val_accuracy: 1.0000 - val_recall: 1.0000\n",
      "Epoch 53/200\n",
      "3/3 [==============================] - 0s 25ms/step - loss: 0.0427 - accuracy: 0.9900 - recall: 0.9947 - val_loss: 0.0265 - val_accuracy: 1.0000 - val_recall: 1.0000\n",
      "Epoch 54/200\n",
      "3/3 [==============================] - 0s 24ms/step - loss: 0.0423 - accuracy: 0.9867 - recall: 0.9894 - val_loss: 0.0259 - val_accuracy: 1.0000 - val_recall: 1.0000\n",
      "Epoch 55/200\n",
      "3/3 [==============================] - 0s 23ms/step - loss: 0.0503 - accuracy: 0.9867 - recall: 0.9895 - val_loss: 0.0253 - val_accuracy: 1.0000 - val_recall: 1.0000\n",
      "Epoch 56/200\n",
      "3/3 [==============================] - 0s 26ms/step - loss: 0.0499 - accuracy: 0.9900 - recall: 0.9947 - val_loss: 0.0247 - val_accuracy: 1.0000 - val_recall: 1.0000\n",
      "Epoch 57/200\n",
      "3/3 [==============================] - 0s 25ms/step - loss: 0.0543 - accuracy: 0.9867 - recall: 0.9946 - val_loss: 0.0241 - val_accuracy: 1.0000 - val_recall: 1.0000\n",
      "Epoch 58/200\n",
      "3/3 [==============================] - 0s 24ms/step - loss: 0.0471 - accuracy: 0.9900 - recall: 0.9948 - val_loss: 0.0236 - val_accuracy: 1.0000 - val_recall: 1.0000\n",
      "Epoch 59/200\n",
      "3/3 [==============================] - 0s 22ms/step - loss: 0.0508 - accuracy: 0.9867 - recall: 0.9945 - val_loss: 0.0231 - val_accuracy: 1.0000 - val_recall: 1.0000\n",
      "Epoch 60/200\n",
      "3/3 [==============================] - 0s 25ms/step - loss: 0.0479 - accuracy: 0.9900 - recall: 0.9947 - val_loss: 0.0228 - val_accuracy: 1.0000 - val_recall: 1.0000\n",
      "Epoch 61/200\n",
      "3/3 [==============================] - 0s 27ms/step - loss: 0.0430 - accuracy: 0.9900 - recall: 0.9947 - val_loss: 0.0224 - val_accuracy: 1.0000 - val_recall: 1.0000\n",
      "Epoch 62/200\n",
      "3/3 [==============================] - 0s 24ms/step - loss: 0.0414 - accuracy: 0.9900 - recall: 0.9948 - val_loss: 0.0220 - val_accuracy: 1.0000 - val_recall: 1.0000\n",
      "Epoch 63/200\n",
      "3/3 [==============================] - 0s 25ms/step - loss: 0.0468 - accuracy: 0.9900 - recall: 0.9947 - val_loss: 0.0217 - val_accuracy: 1.0000 - val_recall: 1.0000\n",
      "Epoch 64/200\n",
      "3/3 [==============================] - 0s 23ms/step - loss: 0.0466 - accuracy: 0.9900 - recall: 1.0000 - val_loss: 0.0213 - val_accuracy: 1.0000 - val_recall: 1.0000\n",
      "Epoch 65/200\n",
      "3/3 [==============================] - 0s 22ms/step - loss: 0.0466 - accuracy: 0.9900 - recall: 1.0000 - val_loss: 0.0211 - val_accuracy: 1.0000 - val_recall: 1.0000\n",
      "Epoch 66/200\n",
      "3/3 [==============================] - 0s 23ms/step - loss: 0.0442 - accuracy: 0.9900 - recall: 1.0000 - val_loss: 0.0208 - val_accuracy: 1.0000 - val_recall: 1.0000\n",
      "Epoch 67/200\n",
      "3/3 [==============================] - 0s 24ms/step - loss: 0.0351 - accuracy: 0.9933 - recall: 1.0000 - val_loss: 0.0205 - val_accuracy: 1.0000 - val_recall: 1.0000\n",
      "Epoch 68/200\n",
      "3/3 [==============================] - 0s 23ms/step - loss: 0.0332 - accuracy: 0.9933 - recall: 1.0000 - val_loss: 0.0201 - val_accuracy: 1.0000 - val_recall: 1.0000\n",
      "Epoch 69/200\n",
      "3/3 [==============================] - 0s 24ms/step - loss: 0.0390 - accuracy: 0.9900 - recall: 1.0000 - val_loss: 0.0198 - val_accuracy: 1.0000 - val_recall: 1.0000\n",
      "Epoch 70/200\n",
      "3/3 [==============================] - 0s 23ms/step - loss: 0.0314 - accuracy: 0.9933 - recall: 1.0000 - val_loss: 0.0195 - val_accuracy: 1.0000 - val_recall: 1.0000\n",
      "Epoch 71/200\n",
      "3/3 [==============================] - 0s 23ms/step - loss: 0.0433 - accuracy: 0.9933 - recall: 1.0000 - val_loss: 0.0192 - val_accuracy: 1.0000 - val_recall: 1.0000\n",
      "Epoch 72/200\n",
      "3/3 [==============================] - 0s 25ms/step - loss: 0.0418 - accuracy: 0.9933 - recall: 1.0000 - val_loss: 0.0190 - val_accuracy: 1.0000 - val_recall: 1.0000\n",
      "Epoch 73/200\n",
      "3/3 [==============================] - 0s 24ms/step - loss: 0.0405 - accuracy: 0.9933 - recall: 1.0000 - val_loss: 0.0188 - val_accuracy: 1.0000 - val_recall: 1.0000\n",
      "Epoch 74/200\n",
      "3/3 [==============================] - 0s 24ms/step - loss: 0.0284 - accuracy: 0.9967 - recall: 1.0000 - val_loss: 0.0185 - val_accuracy: 1.0000 - val_recall: 1.0000\n",
      "Epoch 75/200\n",
      "3/3 [==============================] - 0s 24ms/step - loss: 0.0384 - accuracy: 0.9933 - recall: 1.0000 - val_loss: 0.0182 - val_accuracy: 1.0000 - val_recall: 1.0000\n",
      "Epoch 76/200\n",
      "3/3 [==============================] - 0s 32ms/step - loss: 0.0311 - accuracy: 0.9967 - recall: 1.0000 - val_loss: 0.0180 - val_accuracy: 1.0000 - val_recall: 1.0000\n",
      "Epoch 77/200\n",
      "3/3 [==============================] - 0s 25ms/step - loss: 0.0373 - accuracy: 0.9933 - recall: 1.0000 - val_loss: 0.0178 - val_accuracy: 1.0000 - val_recall: 1.0000\n",
      "Epoch 78/200\n",
      "3/3 [==============================] - 0s 21ms/step - loss: 0.0317 - accuracy: 0.9967 - recall: 1.0000 - val_loss: 0.0176 - val_accuracy: 1.0000 - val_recall: 1.0000\n",
      "Epoch 79/200\n",
      "3/3 [==============================] - 0s 22ms/step - loss: 0.0372 - accuracy: 0.9933 - recall: 1.0000 - val_loss: 0.0174 - val_accuracy: 1.0000 - val_recall: 1.0000\n",
      "Epoch 80/200\n",
      "3/3 [==============================] - 0s 24ms/step - loss: 0.0334 - accuracy: 0.9933 - recall: 1.0000 - val_loss: 0.0173 - val_accuracy: 1.0000 - val_recall: 1.0000\n",
      "Epoch 81/200\n",
      "3/3 [==============================] - 0s 24ms/step - loss: 0.0356 - accuracy: 0.9933 - recall: 1.0000 - val_loss: 0.0172 - val_accuracy: 1.0000 - val_recall: 1.0000\n",
      "Epoch 82/200\n",
      "3/3 [==============================] - 0s 25ms/step - loss: 0.0377 - accuracy: 0.9933 - recall: 1.0000 - val_loss: 0.0171 - val_accuracy: 1.0000 - val_recall: 1.0000\n",
      "Epoch 83/200\n",
      "3/3 [==============================] - 0s 25ms/step - loss: 0.0369 - accuracy: 0.9933 - recall: 1.0000 - val_loss: 0.0171 - val_accuracy: 1.0000 - val_recall: 1.0000\n",
      "Epoch 84/200\n",
      "3/3 [==============================] - 0s 23ms/step - loss: 0.0359 - accuracy: 0.9933 - recall: 1.0000 - val_loss: 0.0170 - val_accuracy: 1.0000 - val_recall: 1.0000\n",
      "Epoch 85/200\n",
      "3/3 [==============================] - 0s 24ms/step - loss: 0.0345 - accuracy: 0.9933 - recall: 1.0000 - val_loss: 0.0169 - val_accuracy: 1.0000 - val_recall: 1.0000\n",
      "Epoch 86/200\n",
      "3/3 [==============================] - 0s 39ms/step - loss: 0.0346 - accuracy: 0.9933 - recall: 1.0000 - val_loss: 0.0168 - val_accuracy: 1.0000 - val_recall: 1.0000\n",
      "Epoch 87/200\n",
      "3/3 [==============================] - 0s 22ms/step - loss: 0.0260 - accuracy: 0.9967 - recall: 1.0000 - val_loss: 0.0166 - val_accuracy: 1.0000 - val_recall: 1.0000\n",
      "Epoch 88/200\n",
      "3/3 [==============================] - 0s 25ms/step - loss: 0.0355 - accuracy: 0.9933 - recall: 1.0000 - val_loss: 0.0165 - val_accuracy: 1.0000 - val_recall: 1.0000\n",
      "Epoch 89/200\n",
      "3/3 [==============================] - 0s 25ms/step - loss: 0.0342 - accuracy: 0.9933 - recall: 1.0000 - val_loss: 0.0165 - val_accuracy: 1.0000 - val_recall: 1.0000\n",
      "Epoch 90/200\n",
      "3/3 [==============================] - 0s 27ms/step - loss: 0.0238 - accuracy: 0.9967 - recall: 1.0000 - val_loss: 0.0163 - val_accuracy: 1.0000 - val_recall: 1.0000\n",
      "Epoch 91/200\n",
      "3/3 [==============================] - 0s 23ms/step - loss: 0.0297 - accuracy: 0.9933 - recall: 1.0000 - val_loss: 0.0162 - val_accuracy: 1.0000 - val_recall: 1.0000\n",
      "Epoch 92/200\n",
      "3/3 [==============================] - 0s 22ms/step - loss: 0.0334 - accuracy: 0.9933 - recall: 1.0000 - val_loss: 0.0160 - val_accuracy: 1.0000 - val_recall: 1.0000\n"
     ]
    },
    {
     "name": "stdout",
     "output_type": "stream",
     "text": [
      "Epoch 93/200\n",
      "3/3 [==============================] - 0s 25ms/step - loss: 0.0320 - accuracy: 0.9933 - recall: 1.0000 - val_loss: 0.0159 - val_accuracy: 1.0000 - val_recall: 1.0000\n",
      "Epoch 94/200\n",
      "3/3 [==============================] - 0s 23ms/step - loss: 0.0313 - accuracy: 0.9933 - recall: 1.0000 - val_loss: 0.0158 - val_accuracy: 1.0000 - val_recall: 1.0000\n",
      "Epoch 95/200\n",
      "3/3 [==============================] - 0s 24ms/step - loss: 0.0310 - accuracy: 0.9933 - recall: 1.0000 - val_loss: 0.0158 - val_accuracy: 1.0000 - val_recall: 1.0000\n",
      "Epoch 96/200\n",
      "3/3 [==============================] - 0s 22ms/step - loss: 0.0282 - accuracy: 0.9933 - recall: 1.0000 - val_loss: 0.0157 - val_accuracy: 1.0000 - val_recall: 1.0000\n",
      "Epoch 97/200\n",
      "3/3 [==============================] - 0s 22ms/step - loss: 0.0303 - accuracy: 0.9933 - recall: 1.0000 - val_loss: 0.0156 - val_accuracy: 1.0000 - val_recall: 1.0000\n",
      "Epoch 98/200\n",
      "3/3 [==============================] - 0s 22ms/step - loss: 0.0296 - accuracy: 0.9933 - recall: 1.0000 - val_loss: 0.0156 - val_accuracy: 1.0000 - val_recall: 1.0000\n",
      "Epoch 99/200\n",
      "3/3 [==============================] - 0s 23ms/step - loss: 0.0285 - accuracy: 0.9933 - recall: 1.0000 - val_loss: 0.0155 - val_accuracy: 1.0000 - val_recall: 1.0000\n",
      "Epoch 100/200\n",
      "3/3 [==============================] - 0s 22ms/step - loss: 0.0280 - accuracy: 0.9933 - recall: 1.0000 - val_loss: 0.0155 - val_accuracy: 1.0000 - val_recall: 1.0000\n",
      "Epoch 101/200\n",
      "3/3 [==============================] - 0s 22ms/step - loss: 0.0267 - accuracy: 0.9933 - recall: 1.0000 - val_loss: 0.0154 - val_accuracy: 1.0000 - val_recall: 1.0000\n",
      "Epoch 102/200\n",
      "3/3 [==============================] - 0s 22ms/step - loss: 0.0259 - accuracy: 0.9933 - recall: 1.0000 - val_loss: 0.0154 - val_accuracy: 1.0000 - val_recall: 1.0000\n",
      "Epoch 103/200\n",
      "3/3 [==============================] - 0s 23ms/step - loss: 0.0241 - accuracy: 0.9933 - recall: 1.0000 - val_loss: 0.0154 - val_accuracy: 1.0000 - val_recall: 1.0000\n",
      "Epoch 104/200\n",
      "3/3 [==============================] - 0s 26ms/step - loss: 0.0222 - accuracy: 0.9967 - recall: 1.0000 - val_loss: 0.0154 - val_accuracy: 1.0000 - val_recall: 1.0000\n",
      "Epoch 105/200\n",
      "3/3 [==============================] - 0s 26ms/step - loss: 0.0249 - accuracy: 0.9933 - recall: 1.0000 - val_loss: 0.0154 - val_accuracy: 1.0000 - val_recall: 1.0000\n",
      "Epoch 106/200\n",
      "3/3 [==============================] - 0s 25ms/step - loss: 0.0258 - accuracy: 0.9933 - recall: 1.0000 - val_loss: 0.0155 - val_accuracy: 1.0000 - val_recall: 1.0000\n",
      "Epoch 107/200\n",
      "3/3 [==============================] - 0s 23ms/step - loss: 0.0171 - accuracy: 0.9967 - recall: 1.0000 - val_loss: 0.0155 - val_accuracy: 1.0000 - val_recall: 1.0000\n",
      "Epoch 108/200\n",
      "3/3 [==============================] - 0s 21ms/step - loss: 0.0207 - accuracy: 0.9967 - recall: 1.0000 - val_loss: 0.0155 - val_accuracy: 1.0000 - val_recall: 1.0000\n",
      "Epoch 109/200\n",
      "3/3 [==============================] - 0s 22ms/step - loss: 0.0222 - accuracy: 0.9933 - recall: 1.0000 - val_loss: 0.0155 - val_accuracy: 1.0000 - val_recall: 1.0000\n",
      "Epoch 110/200\n",
      "3/3 [==============================] - 0s 22ms/step - loss: 0.0231 - accuracy: 0.9933 - recall: 1.0000 - val_loss: 0.0153 - val_accuracy: 1.0000 - val_recall: 1.0000\n",
      "Epoch 111/200\n",
      "3/3 [==============================] - 0s 24ms/step - loss: 0.0139 - accuracy: 1.0000 - recall: 1.0000 - val_loss: 0.0152 - val_accuracy: 1.0000 - val_recall: 1.0000\n",
      "Epoch 112/200\n",
      "3/3 [==============================] - 0s 22ms/step - loss: 0.0179 - accuracy: 0.9967 - recall: 1.0000 - val_loss: 0.0151 - val_accuracy: 1.0000 - val_recall: 1.0000\n",
      "Epoch 113/200\n",
      "3/3 [==============================] - 0s 22ms/step - loss: 0.0225 - accuracy: 0.9933 - recall: 1.0000 - val_loss: 0.0152 - val_accuracy: 1.0000 - val_recall: 1.0000\n",
      "Epoch 114/200\n",
      "3/3 [==============================] - 0s 23ms/step - loss: 0.0217 - accuracy: 0.9933 - recall: 1.0000 - val_loss: 0.0152 - val_accuracy: 1.0000 - val_recall: 1.0000\n",
      "Epoch 115/200\n",
      "3/3 [==============================] - 0s 23ms/step - loss: 0.0232 - accuracy: 0.9933 - recall: 1.0000 - val_loss: 0.0152 - val_accuracy: 1.0000 - val_recall: 1.0000\n",
      "Epoch 116/200\n",
      "3/3 [==============================] - 0s 22ms/step - loss: 0.0145 - accuracy: 0.9967 - recall: 1.0000 - val_loss: 0.0150 - val_accuracy: 1.0000 - val_recall: 1.0000\n",
      "Epoch 117/200\n",
      "3/3 [==============================] - 0s 22ms/step - loss: 0.0207 - accuracy: 0.9933 - recall: 1.0000 - val_loss: 0.0148 - val_accuracy: 1.0000 - val_recall: 1.0000\n",
      "Epoch 118/200\n",
      "3/3 [==============================] - 0s 23ms/step - loss: 0.0217 - accuracy: 0.9933 - recall: 1.0000 - val_loss: 0.0146 - val_accuracy: 1.0000 - val_recall: 1.0000\n",
      "Epoch 119/200\n",
      "3/3 [==============================] - 0s 22ms/step - loss: 0.0203 - accuracy: 0.9933 - recall: 1.0000 - val_loss: 0.0144 - val_accuracy: 1.0000 - val_recall: 1.0000\n",
      "Epoch 120/200\n",
      "3/3 [==============================] - 0s 22ms/step - loss: 0.0205 - accuracy: 0.9933 - recall: 1.0000 - val_loss: 0.0142 - val_accuracy: 1.0000 - val_recall: 1.0000\n",
      "Epoch 121/200\n",
      "3/3 [==============================] - 0s 23ms/step - loss: 0.0199 - accuracy: 0.9933 - recall: 1.0000 - val_loss: 0.0142 - val_accuracy: 1.0000 - val_recall: 1.0000\n",
      "Epoch 122/200\n",
      "3/3 [==============================] - 0s 22ms/step - loss: 0.0163 - accuracy: 0.9967 - recall: 1.0000 - val_loss: 0.0141 - val_accuracy: 1.0000 - val_recall: 1.0000\n",
      "Epoch 123/200\n",
      "3/3 [==============================] - 0s 23ms/step - loss: 0.0196 - accuracy: 0.9933 - recall: 1.0000 - val_loss: 0.0140 - val_accuracy: 1.0000 - val_recall: 1.0000\n",
      "Epoch 124/200\n",
      "3/3 [==============================] - 0s 25ms/step - loss: 0.0149 - accuracy: 0.9967 - recall: 1.0000 - val_loss: 0.0141 - val_accuracy: 1.0000 - val_recall: 1.0000\n",
      "Epoch 125/200\n",
      "3/3 [==============================] - 0s 24ms/step - loss: 0.0196 - accuracy: 0.9933 - recall: 1.0000 - val_loss: 0.0140 - val_accuracy: 1.0000 - val_recall: 1.0000\n",
      "Epoch 126/200\n",
      "3/3 [==============================] - 0s 21ms/step - loss: 0.0162 - accuracy: 0.9967 - recall: 1.0000 - val_loss: 0.0140 - val_accuracy: 1.0000 - val_recall: 1.0000\n",
      "Epoch 127/200\n",
      "3/3 [==============================] - 0s 22ms/step - loss: 0.0193 - accuracy: 0.9933 - recall: 1.0000 - val_loss: 0.0141 - val_accuracy: 0.9890 - val_recall: 1.0000\n",
      "Epoch 128/200\n",
      "3/3 [==============================] - 0s 23ms/step - loss: 0.0146 - accuracy: 0.9967 - recall: 1.0000 - val_loss: 0.0141 - val_accuracy: 0.9890 - val_recall: 1.0000\n",
      "Epoch 129/200\n",
      "3/3 [==============================] - 0s 21ms/step - loss: 0.0195 - accuracy: 0.9933 - recall: 1.0000 - val_loss: 0.0142 - val_accuracy: 0.9890 - val_recall: 1.0000\n",
      "Epoch 130/200\n",
      "3/3 [==============================] - 0s 23ms/step - loss: 0.0179 - accuracy: 0.9933 - recall: 1.0000 - val_loss: 0.0142 - val_accuracy: 0.9890 - val_recall: 1.0000\n",
      "Epoch 131/200\n",
      "3/3 [==============================] - 0s 22ms/step - loss: 0.0177 - accuracy: 0.9933 - recall: 1.0000 - val_loss: 0.0141 - val_accuracy: 0.9890 - val_recall: 1.0000\n",
      "Epoch 132/200\n",
      "3/3 [==============================] - 0s 24ms/step - loss: 0.0186 - accuracy: 0.9933 - recall: 1.0000 - val_loss: 0.0141 - val_accuracy: 0.9890 - val_recall: 1.0000\n",
      "Epoch 133/200\n",
      "3/3 [==============================] - 0s 26ms/step - loss: 0.0159 - accuracy: 0.9933 - recall: 1.0000 - val_loss: 0.0139 - val_accuracy: 0.9890 - val_recall: 1.0000\n",
      "Epoch 134/200\n",
      "3/3 [==============================] - 0s 21ms/step - loss: 0.0187 - accuracy: 0.9933 - recall: 1.0000 - val_loss: 0.0139 - val_accuracy: 0.9890 - val_recall: 1.0000\n",
      "Epoch 135/200\n",
      "3/3 [==============================] - 0s 23ms/step - loss: 0.0165 - accuracy: 0.9933 - recall: 1.0000 - val_loss: 0.0138 - val_accuracy: 0.9890 - val_recall: 1.0000\n",
      "Epoch 136/200\n",
      "3/3 [==============================] - 0s 23ms/step - loss: 0.0165 - accuracy: 0.9933 - recall: 1.0000 - val_loss: 0.0137 - val_accuracy: 0.9890 - val_recall: 1.0000\n",
      "Epoch 137/200\n",
      "3/3 [==============================] - 0s 26ms/step - loss: 0.0173 - accuracy: 0.9933 - recall: 1.0000 - val_loss: 0.0135 - val_accuracy: 0.9890 - val_recall: 1.0000\n",
      "Epoch 138/200\n"
     ]
    },
    {
     "name": "stdout",
     "output_type": "stream",
     "text": [
      "3/3 [==============================] - 0s 24ms/step - loss: 0.0174 - accuracy: 0.9933 - recall: 1.0000 - val_loss: 0.0135 - val_accuracy: 0.9890 - val_recall: 1.0000\n",
      "Epoch 139/200\n",
      "3/3 [==============================] - 0s 22ms/step - loss: 0.0121 - accuracy: 0.9967 - recall: 1.0000 - val_loss: 0.0135 - val_accuracy: 0.9890 - val_recall: 1.0000\n",
      "Epoch 140/200\n",
      "3/3 [==============================] - 0s 21ms/step - loss: 0.0159 - accuracy: 0.9933 - recall: 1.0000 - val_loss: 0.0134 - val_accuracy: 0.9890 - val_recall: 1.0000\n",
      "Epoch 141/200\n",
      "3/3 [==============================] - 0s 22ms/step - loss: 0.0142 - accuracy: 0.9933 - recall: 1.0000 - val_loss: 0.0134 - val_accuracy: 0.9890 - val_recall: 1.0000\n",
      "Epoch 142/200\n",
      "3/3 [==============================] - 0s 22ms/step - loss: 0.0163 - accuracy: 0.9933 - recall: 1.0000 - val_loss: 0.0134 - val_accuracy: 0.9890 - val_recall: 1.0000\n",
      "Epoch 143/200\n",
      "3/3 [==============================] - 0s 22ms/step - loss: 0.0148 - accuracy: 0.9933 - recall: 1.0000 - val_loss: 0.0134 - val_accuracy: 0.9890 - val_recall: 1.0000\n",
      "Epoch 144/200\n",
      "3/3 [==============================] - 0s 22ms/step - loss: 0.0149 - accuracy: 0.9933 - recall: 1.0000 - val_loss: 0.0134 - val_accuracy: 0.9890 - val_recall: 1.0000\n",
      "Epoch 145/200\n",
      "3/3 [==============================] - 0s 22ms/step - loss: 0.0151 - accuracy: 0.9933 - recall: 1.0000 - val_loss: 0.0134 - val_accuracy: 0.9890 - val_recall: 1.0000\n",
      "Epoch 146/200\n",
      "3/3 [==============================] - 0s 22ms/step - loss: 0.0155 - accuracy: 0.9933 - recall: 1.0000 - val_loss: 0.0134 - val_accuracy: 0.9890 - val_recall: 1.0000\n",
      "Epoch 147/200\n",
      "3/3 [==============================] - 0s 22ms/step - loss: 0.0145 - accuracy: 0.9933 - recall: 1.0000 - val_loss: 0.0133 - val_accuracy: 0.9890 - val_recall: 1.0000\n",
      "Epoch 148/200\n",
      "3/3 [==============================] - 0s 23ms/step - loss: 0.0146 - accuracy: 0.9933 - recall: 1.0000 - val_loss: 0.0133 - val_accuracy: 0.9890 - val_recall: 1.0000\n",
      "Epoch 149/200\n",
      "3/3 [==============================] - 0s 22ms/step - loss: 0.0140 - accuracy: 0.9933 - recall: 1.0000 - val_loss: 0.0133 - val_accuracy: 0.9890 - val_recall: 1.0000\n",
      "Epoch 150/200\n",
      "3/3 [==============================] - 0s 23ms/step - loss: 0.0145 - accuracy: 0.9933 - recall: 1.0000 - val_loss: 0.0133 - val_accuracy: 0.9890 - val_recall: 1.0000\n",
      "Epoch 151/200\n",
      "3/3 [==============================] - 0s 24ms/step - loss: 0.0121 - accuracy: 0.9967 - recall: 1.0000 - val_loss: 0.0133 - val_accuracy: 0.9890 - val_recall: 1.0000\n",
      "Epoch 152/200\n",
      "3/3 [==============================] - 0s 26ms/step - loss: 0.0133 - accuracy: 0.9933 - recall: 1.0000 - val_loss: 0.0133 - val_accuracy: 0.9890 - val_recall: 1.0000\n",
      "Epoch 153/200\n",
      "3/3 [==============================] - 0s 21ms/step - loss: 0.0119 - accuracy: 0.9967 - recall: 1.0000 - val_loss: 0.0133 - val_accuracy: 0.9890 - val_recall: 1.0000\n",
      "Epoch 154/200\n",
      "3/3 [==============================] - 0s 23ms/step - loss: 0.0098 - accuracy: 0.9967 - recall: 1.0000 - val_loss: 0.0134 - val_accuracy: 0.9890 - val_recall: 1.0000\n",
      "Epoch 155/200\n",
      "3/3 [==============================] - 0s 23ms/step - loss: 0.0134 - accuracy: 0.9933 - recall: 1.0000 - val_loss: 0.0134 - val_accuracy: 0.9890 - val_recall: 1.0000\n",
      "Epoch 156/200\n",
      "3/3 [==============================] - 0s 22ms/step - loss: 0.0138 - accuracy: 0.9933 - recall: 1.0000 - val_loss: 0.0134 - val_accuracy: 0.9890 - val_recall: 1.0000\n",
      "Epoch 157/200\n",
      "3/3 [==============================] - 0s 22ms/step - loss: 0.0123 - accuracy: 0.9933 - recall: 1.0000 - val_loss: 0.0133 - val_accuracy: 0.9890 - val_recall: 1.0000\n",
      "Epoch 158/200\n",
      "3/3 [==============================] - 0s 21ms/step - loss: 0.0067 - accuracy: 1.0000 - recall: 1.0000 - val_loss: 0.0134 - val_accuracy: 0.9890 - val_recall: 1.0000\n",
      "Epoch 159/200\n",
      "3/3 [==============================] - 0s 21ms/step - loss: 0.0128 - accuracy: 0.9933 - recall: 1.0000 - val_loss: 0.0134 - val_accuracy: 0.9890 - val_recall: 1.0000\n",
      "Epoch 160/200\n",
      "3/3 [==============================] - 0s 23ms/step - loss: 0.0123 - accuracy: 0.9933 - recall: 1.0000 - val_loss: 0.0135 - val_accuracy: 0.9890 - val_recall: 1.0000\n",
      "Epoch 161/200\n",
      "3/3 [==============================] - 0s 21ms/step - loss: 0.0124 - accuracy: 0.9933 - recall: 1.0000 - val_loss: 0.0136 - val_accuracy: 0.9890 - val_recall: 1.0000\n",
      "Epoch 162/200\n",
      "3/3 [==============================] - 0s 23ms/step - loss: 0.0122 - accuracy: 0.9933 - recall: 1.0000 - val_loss: 0.0136 - val_accuracy: 0.9890 - val_recall: 1.0000\n",
      "Epoch 163/200\n",
      "3/3 [==============================] - 0s 23ms/step - loss: 0.0120 - accuracy: 0.9933 - recall: 1.0000 - val_loss: 0.0136 - val_accuracy: 0.9890 - val_recall: 1.0000\n",
      "Epoch 164/200\n",
      "3/3 [==============================] - 0s 22ms/step - loss: 0.0116 - accuracy: 0.9933 - recall: 1.0000 - val_loss: 0.0137 - val_accuracy: 0.9890 - val_recall: 1.0000\n",
      "Epoch 165/200\n",
      "3/3 [==============================] - 0s 22ms/step - loss: 0.0126 - accuracy: 0.9933 - recall: 1.0000 - val_loss: 0.0138 - val_accuracy: 0.9890 - val_recall: 1.0000\n",
      "Epoch 166/200\n",
      "3/3 [==============================] - 0s 22ms/step - loss: 0.0123 - accuracy: 0.9933 - recall: 1.0000 - val_loss: 0.0139 - val_accuracy: 0.9890 - val_recall: 1.0000\n",
      "Epoch 167/200\n",
      "3/3 [==============================] - 0s 24ms/step - loss: 0.0101 - accuracy: 0.9967 - recall: 1.0000 - val_loss: 0.0140 - val_accuracy: 0.9890 - val_recall: 1.0000\n",
      "Epoch 168/200\n",
      "3/3 [==============================] - 0s 22ms/step - loss: 0.0112 - accuracy: 0.9933 - recall: 1.0000 - val_loss: 0.0140 - val_accuracy: 0.9890 - val_recall: 1.0000\n",
      "Epoch 169/200\n",
      "3/3 [==============================] - 0s 26ms/step - loss: 0.0089 - accuracy: 0.9967 - recall: 1.0000 - val_loss: 0.0140 - val_accuracy: 0.9890 - val_recall: 1.0000\n",
      "Epoch 170/200\n",
      "3/3 [==============================] - 0s 22ms/step - loss: 0.0117 - accuracy: 0.9933 - recall: 1.0000 - val_loss: 0.0140 - val_accuracy: 0.9890 - val_recall: 1.0000\n",
      "Epoch 171/200\n",
      "3/3 [==============================] - 0s 20ms/step - loss: 0.0080 - accuracy: 1.0000 - recall: 1.0000 - val_loss: 0.0140 - val_accuracy: 0.9890 - val_recall: 1.0000\n",
      "Epoch 172/200\n",
      "3/3 [==============================] - 0s 22ms/step - loss: 0.0091 - accuracy: 0.9967 - recall: 1.0000 - val_loss: 0.0140 - val_accuracy: 0.9890 - val_recall: 1.0000\n",
      "Epoch 173/200\n",
      "3/3 [==============================] - 0s 24ms/step - loss: 0.0089 - accuracy: 0.9967 - recall: 1.0000 - val_loss: 0.0141 - val_accuracy: 0.9890 - val_recall: 1.0000\n",
      "Epoch 174/200\n",
      "3/3 [==============================] - 0s 23ms/step - loss: 0.0103 - accuracy: 0.9967 - recall: 1.0000 - val_loss: 0.0141 - val_accuracy: 0.9890 - val_recall: 1.0000\n",
      "Epoch 175/200\n",
      "3/3 [==============================] - 0s 21ms/step - loss: 0.0109 - accuracy: 0.9967 - recall: 1.0000 - val_loss: 0.0141 - val_accuracy: 0.9890 - val_recall: 1.0000\n",
      "Epoch 176/200\n",
      "3/3 [==============================] - 0s 22ms/step - loss: 0.0110 - accuracy: 0.9967 - recall: 1.0000 - val_loss: 0.0141 - val_accuracy: 0.9890 - val_recall: 1.0000\n",
      "Epoch 177/200\n",
      "3/3 [==============================] - 0s 21ms/step - loss: 0.0072 - accuracy: 1.0000 - recall: 1.0000 - val_loss: 0.0141 - val_accuracy: 0.9890 - val_recall: 1.0000\n",
      "Epoch 178/200\n",
      "3/3 [==============================] - 0s 22ms/step - loss: 0.0072 - accuracy: 1.0000 - recall: 1.0000 - val_loss: 0.0141 - val_accuracy: 0.9890 - val_recall: 1.0000\n",
      "Epoch 179/200\n",
      "3/3 [==============================] - 0s 24ms/step - loss: 0.0107 - accuracy: 0.9967 - recall: 1.0000 - val_loss: 0.0141 - val_accuracy: 0.9890 - val_recall: 1.0000\n",
      "Epoch 180/200\n",
      "3/3 [==============================] - 0s 23ms/step - loss: 0.0095 - accuracy: 0.9967 - recall: 1.0000 - val_loss: 0.0141 - val_accuracy: 0.9890 - val_recall: 1.0000\n",
      "Epoch 181/200\n",
      "3/3 [==============================] - 0s 23ms/step - loss: 0.0106 - accuracy: 0.9967 - recall: 1.0000 - val_loss: 0.0141 - val_accuracy: 0.9890 - val_recall: 1.0000\n",
      "Epoch 182/200\n",
      "3/3 [==============================] - 0s 21ms/step - loss: 0.0080 - accuracy: 0.9967 - recall: 1.0000 - val_loss: 0.0142 - val_accuracy: 0.9890 - val_recall: 1.0000\n",
      "Epoch 183/200\n"
     ]
    },
    {
     "name": "stdout",
     "output_type": "stream",
     "text": [
      "3/3 [==============================] - 0s 23ms/step - loss: 0.0093 - accuracy: 0.9967 - recall: 1.0000 - val_loss: 0.0142 - val_accuracy: 0.9890 - val_recall: 1.0000\n",
      "Epoch 184/200\n",
      "3/3 [==============================] - 0s 25ms/step - loss: 0.0074 - accuracy: 0.9967 - recall: 1.0000 - val_loss: 0.0142 - val_accuracy: 0.9890 - val_recall: 1.0000\n",
      "Epoch 185/200\n",
      "3/3 [==============================] - 0s 23ms/step - loss: 0.0099 - accuracy: 0.9967 - recall: 1.0000 - val_loss: 0.0143 - val_accuracy: 0.9890 - val_recall: 1.0000\n",
      "Epoch 186/200\n",
      "3/3 [==============================] - 0s 23ms/step - loss: 0.0093 - accuracy: 0.9967 - recall: 1.0000 - val_loss: 0.0142 - val_accuracy: 0.9890 - val_recall: 1.0000\n",
      "Epoch 187/200\n",
      "3/3 [==============================] - 0s 23ms/step - loss: 0.0061 - accuracy: 1.0000 - recall: 1.0000 - val_loss: 0.0142 - val_accuracy: 0.9890 - val_recall: 1.0000\n",
      "Epoch 188/200\n",
      "3/3 [==============================] - 0s 23ms/step - loss: 0.0089 - accuracy: 0.9967 - recall: 1.0000 - val_loss: 0.0142 - val_accuracy: 0.9890 - val_recall: 1.0000\n",
      "Epoch 189/200\n",
      "3/3 [==============================] - 0s 23ms/step - loss: 0.0092 - accuracy: 0.9967 - recall: 1.0000 - val_loss: 0.0142 - val_accuracy: 0.9890 - val_recall: 1.0000\n",
      "Epoch 190/200\n",
      "3/3 [==============================] - 0s 22ms/step - loss: 0.0088 - accuracy: 0.9967 - recall: 1.0000 - val_loss: 0.0141 - val_accuracy: 0.9890 - val_recall: 1.0000\n",
      "Epoch 191/200\n",
      "3/3 [==============================] - 0s 23ms/step - loss: 0.0090 - accuracy: 0.9967 - recall: 1.0000 - val_loss: 0.0141 - val_accuracy: 0.9890 - val_recall: 1.0000\n",
      "Epoch 192/200\n",
      "3/3 [==============================] - 0s 22ms/step - loss: 0.0086 - accuracy: 0.9967 - recall: 1.0000 - val_loss: 0.0140 - val_accuracy: 0.9890 - val_recall: 1.0000\n",
      "Epoch 193/200\n",
      "3/3 [==============================] - 0s 23ms/step - loss: 0.0060 - accuracy: 1.0000 - recall: 1.0000 - val_loss: 0.0140 - val_accuracy: 0.9890 - val_recall: 1.0000\n",
      "Epoch 194/200\n",
      "3/3 [==============================] - 0s 23ms/step - loss: 0.0085 - accuracy: 0.9967 - recall: 1.0000 - val_loss: 0.0140 - val_accuracy: 0.9890 - val_recall: 1.0000\n",
      "Epoch 195/200\n",
      "3/3 [==============================] - 0s 24ms/step - loss: 0.0056 - accuracy: 1.0000 - recall: 1.0000 - val_loss: 0.0140 - val_accuracy: 0.9890 - val_recall: 1.0000\n",
      "Epoch 196/200\n",
      "3/3 [==============================] - 0s 25ms/step - loss: 0.0051 - accuracy: 1.0000 - recall: 1.0000 - val_loss: 0.0140 - val_accuracy: 0.9890 - val_recall: 1.0000\n",
      "Epoch 197/200\n",
      "3/3 [==============================] - 0s 27ms/step - loss: 0.0031 - accuracy: 1.0000 - recall: 1.0000 - val_loss: 0.0141 - val_accuracy: 0.9890 - val_recall: 1.0000\n",
      "Epoch 198/200\n",
      "3/3 [==============================] - 0s 25ms/step - loss: 0.0082 - accuracy: 0.9967 - recall: 1.0000 - val_loss: 0.0143 - val_accuracy: 0.9890 - val_recall: 1.0000\n",
      "Epoch 199/200\n",
      "3/3 [==============================] - 0s 22ms/step - loss: 0.0087 - accuracy: 0.9967 - recall: 1.0000 - val_loss: 0.0144 - val_accuracy: 0.9890 - val_recall: 1.0000\n",
      "Epoch 200/200\n",
      "3/3 [==============================] - 0s 28ms/step - loss: 0.0030 - accuracy: 1.0000 - recall: 1.0000 - val_loss: 0.0145 - val_accuracy: 0.9890 - val_recall: 1.0000\n"
     ]
    }
   ],
   "source": [
    "hist = model_cancer.fit(train_dataset, epochs=N_EPOCH, validation_data=val_dataset)"
   ]
  },
  {
   "cell_type": "markdown",
   "metadata": {
    "slideshow": {
     "slide_type": "fragment"
    }
   },
   "source": [
    "#### 결과 시각화"
   ]
  },
  {
   "cell_type": "code",
   "execution_count": 128,
   "metadata": {
    "ExecuteTime": {
     "end_time": "2023-02-21T05:27:51.200852Z",
     "start_time": "2023-02-21T05:27:50.383860Z"
    }
   },
   "outputs": [
    {
     "data": {
      "image/png": "[encoded data removed]",
      "text/plain": [
       "<Figure size 1000x500 with 2 Axes>"
      ]
     },
     "metadata": {},
     "output_type": "display_data"
    }
   ],
   "source": [
    "plt.figure(figsize=(10, 5))\n",
    "plt.subplot(1, 2, 1)\n",
    "plt.plot(hist.epoch, hist.history['loss'], label='train')\n",
    "plt.plot(hist.epoch, hist.history['val_loss'], label = 'validation')\n",
    "plt.title('loss')\n",
    "plt.ylim(0, 0.1)\n",
    "plt.xlabel('epoch 수')\n",
    "plt.ylabel('loss')\n",
    "plt.legend()\n",
    "\n",
    "plt.subplot(1, 2, 2)\n",
    "plt.plot(hist.epoch, hist.history['accuracy'], label='train')\n",
    "plt.plot(hist.epoch, hist.history['val_accuracy'], label='validation')\n",
    "plt.title('Accuracy')\n",
    "plt.xlabel('epoch 수')\n",
    "plt.ylabel('accuracy')\n",
    "plt.legend()\n",
    "\n",
    "plt.tight_layout()\n",
    "plt.show()"
   ]
  },
  {
   "cell_type": "markdown",
   "metadata": {
    "slideshow": {
     "slide_type": "slide"
    }
   },
   "source": [
    "#### 최종평가"
   ]
  },
  {
   "cell_type": "code",
   "execution_count": 129,
   "metadata": {
    "ExecuteTime": {
     "end_time": "2023-02-21T05:30:45.295880Z",
     "start_time": "2023-02-21T05:30:45.232897Z"
    }
   },
   "outputs": [
    {
     "name": "stdout",
     "output_type": "stream",
     "text": [
      "3/3 [==============================] - 0s 6ms/step - loss: 0.1495 - accuracy: 0.9649 - recall: 0.9861\n",
      "0.14952515065670013 0.9649122953414917 0.9861111044883728\n"
     ]
    }
   ],
   "source": [
    "loss, acc, recall = model_cancer.evaluate(test_dataset)\n",
    "print(loss, acc, recall)"
   ]
  },
  {
   "cell_type": "markdown",
   "metadata": {
    "slideshow": {
     "slide_type": "fragment"
    }
   },
   "source": [
    "#### 모델저장"
   ]
  },
  {
   "cell_type": "code",
   "execution_count": 130,
   "metadata": {
    "ExecuteTime": {
     "end_time": "2023-02-21T05:32:10.304302Z",
     "start_time": "2023-02-21T05:32:10.289262Z"
    }
   },
   "outputs": [],
   "source": [
    "save_dir_path = 'saved_model/cancer_model'"
   ]
  },
  {
   "cell_type": "code",
   "execution_count": 131,
   "metadata": {
    "ExecuteTime": {
     "end_time": "2023-02-21T05:32:26.791227Z",
     "start_time": "2023-02-21T05:32:25.686709Z"
    }
   },
   "outputs": [
    {
     "name": "stderr",
     "output_type": "stream",
     "text": [
      "WARNING:absl:Found untraced functions such as _update_step_xla while saving (showing 1 of 1). These functions will not be directly callable after loading.\n"
     ]
    },
    {
     "name": "stdout",
     "output_type": "stream",
     "text": [
      "INFO:tensorflow:Assets written to: saved_model/cancer_model\\assets\n"
     ]
    },
    {
     "name": "stderr",
     "output_type": "stream",
     "text": [
      "INFO:tensorflow:Assets written to: saved_model/cancer_model\\assets\n"
     ]
    }
   ],
   "source": [
    "model_cancer.save(save_dir_path)"
   ]
  },
  {
   "cell_type": "markdown",
   "metadata": {
    "slideshow": {
     "slide_type": "slide"
    }
   },
   "source": [
    "#### 새로운 데이터 추론"
   ]
  },
  {
   "cell_type": "code",
   "execution_count": 132,
   "metadata": {
    "ExecuteTime": {
     "end_time": "2023-02-21T05:34:01.196037Z",
     "start_time": "2023-02-21T05:34:00.618148Z"
    }
   },
   "outputs": [
    {
     "name": "stdout",
     "output_type": "stream",
     "text": [
      "3/3 [==============================] - 0s 6ms/step - loss: 0.6476 - accuracy: 0.6316 - recall_1: 1.0000\n"
     ]
    },
    {
     "data": {
      "text/plain": [
       "[0.647607684135437, 0.6315789222717285, 1.0]"
      ]
     },
     "execution_count": 132,
     "metadata": {},
     "output_type": "execute_result"
    }
   ],
   "source": [
    "saved_model = get_model_cancer(LEARNING_RATE)\n",
    "saved_model.evaluate(test_dataset)"
   ]
  },
  {
   "cell_type": "code",
   "execution_count": 133,
   "metadata": {
    "ExecuteTime": {
     "end_time": "2023-02-21T05:34:20.917089Z",
     "start_time": "2023-02-21T05:34:20.905092Z"
    }
   },
   "outputs": [
    {
     "data": {
      "text/plain": [
       "array([0.36842105, 0.63157895])"
      ]
     },
     "execution_count": 133,
     "metadata": {},
     "output_type": "execute_result"
    }
   ],
   "source": [
    "np.unique(y_test, return_counts=True)[1]/y_test.size"
   ]
  },
  {
   "cell_type": "code",
   "execution_count": 134,
   "metadata": {
    "ExecuteTime": {
     "end_time": "2023-02-21T05:36:16.769683Z",
     "start_time": "2023-02-21T05:36:15.968719Z"
    }
   },
   "outputs": [
    {
     "name": "stdout",
     "output_type": "stream",
     "text": [
      "3/3 [==============================] - 0s 6ms/step - loss: 0.1495 - accuracy: 0.9649 - recall: 0.9861\n"
     ]
    },
    {
     "data": {
      "text/plain": [
       "[0.14952515065670013, 0.9649122953414917, 0.9861111044883728]"
      ]
     },
     "execution_count": 134,
     "metadata": {},
     "output_type": "execute_result"
    }
   ],
   "source": [
    "saved_model = models.load_model(save_dir_path)\n",
    "saved_model.evaluate(test_dataset)"
   ]
  },
  {
   "cell_type": "code",
   "execution_count": 135,
   "metadata": {
    "ExecuteTime": {
     "end_time": "2023-02-21T05:37:22.188300Z",
     "start_time": "2023-02-21T05:37:21.977156Z"
    }
   },
   "outputs": [
    {
     "name": "stdout",
     "output_type": "stream",
     "text": [
      "1/1 [==============================] - 0s 99ms/step\n"
     ]
    },
    {
     "data": {
      "text/plain": [
       "(10, 1)"
      ]
     },
     "execution_count": 135,
     "metadata": {},
     "output_type": "execute_result"
    }
   ],
   "source": [
    "new_X = X_test_scaled[:10]\n",
    "pred = saved_model.predict(new_X)\n",
    "pred.shape"
   ]
  },
  {
   "cell_type": "code",
   "execution_count": 138,
   "metadata": {
    "ExecuteTime": {
     "end_time": "2023-02-21T05:38:04.400064Z",
     "start_time": "2023-02-21T05:38:04.386024Z"
    }
   },
   "outputs": [
    {
     "name": "stdout",
     "output_type": "stream",
     "text": [
      "[[2.7873192e-04]\n",
      " [2.7264950e-16]\n",
      " [2.8394345e-07]\n",
      " [9.9997908e-01]\n",
      " [2.0943771e-05]\n",
      " [9.9809438e-01]\n",
      " [6.7332861e-05]\n",
      " [9.9990022e-01]\n",
      " [9.9999464e-01]\n",
      " [1.4204730e-12]]\n",
      "[[0.   ]\n",
      " [0.   ]\n",
      " [0.   ]\n",
      " [1.   ]\n",
      " [0.   ]\n",
      " [0.998]\n",
      " [0.   ]\n",
      " [1.   ]\n",
      " [1.   ]\n",
      " [0.   ]]\n"
     ]
    }
   ],
   "source": [
    "print(pred)\n",
    "print(np.round(pred, 3))"
   ]
  },
  {
   "cell_type": "markdown",
   "metadata": {},
   "source": [
    "##### 모델출력결과 후처리"
   ]
  },
  {
   "cell_type": "code",
   "execution_count": 140,
   "metadata": {
    "ExecuteTime": {
     "end_time": "2023-02-21T05:40:28.149376Z",
     "start_time": "2023-02-21T05:40:28.129335Z"
    }
   },
   "outputs": [
    {
     "data": {
      "text/plain": [
       "array([['악성종양 - 0'],\n",
       "       ['악성종양 - 0'],\n",
       "       ['악성종양 - 0'],\n",
       "       ['양성종양 - 1'],\n",
       "       ['악성종양 - 0'],\n",
       "       ['양성종양 - 1'],\n",
       "       ['악성종양 - 0'],\n",
       "       ['양성종양 - 1'],\n",
       "       ['양성종양 - 1'],\n",
       "       ['악성종양 - 0']], dtype='<U8')"
      ]
     },
     "execution_count": 140,
     "metadata": {},
     "output_type": "execute_result"
    }
   ],
   "source": [
    "np.where(pred >= 0.5, '양성종양 - 1', '악성종양 - 0')"
   ]
  },
  {
   "cell_type": "code",
   "execution_count": 141,
   "metadata": {
    "ExecuteTime": {
     "end_time": "2023-02-21T05:40:45.563950Z",
     "start_time": "2023-02-21T05:40:45.537958Z"
    }
   },
   "outputs": [
    {
     "data": {
      "text/plain": [
       "array([0, 0, 0, 1, 0, 1, 0, 1, 1, 0])"
      ]
     },
     "execution_count": 141,
     "metadata": {},
     "output_type": "execute_result"
    }
   ],
   "source": [
    "y_test[:10]"
   ]
  }
 ],
 "metadata": {
  "kernelspec": {
   "display_name": "Python 3 (ipykernel)",
   "language": "python",
   "name": "python3"
  },
  "language_info": {
   "codemirror_mode": {
    "name": "ipython",
    "version": 3
   },
   "file_extension": ".py",
   "mimetype": "text/x-python",
   "name": "python",
   "nbconvert_exporter": "python",
   "pygments_lexer": "ipython3",
   "version": "3.9.16"
  },
  "toc": {
   "base_numbering": 1,
   "nav_menu": {},
   "number_sections": false,
   "sideBar": true,
   "skip_h1_title": false,
   "title_cell": "Table of Contents",
   "title_sidebar": "Contents",
   "toc_cell": false,
   "toc_position": {},
   "toc_section_display": true,
   "toc_window_display": false
  },
  "varInspector": {
   "cols": {
    "lenName": 16,
    "lenType": 16,
    "lenVar": 40
   },
   "kernels_config": {
    "python": {
     "delete_cmd_postfix": "",
     "delete_cmd_prefix": "del ",
     "library": "var_list.py",
     "varRefreshCmd": "print(var_dic_list())"
    },
    "r": {
     "delete_cmd_postfix": ") ",
     "delete_cmd_prefix": "rm(",
     "library": "var_list.r",
     "varRefreshCmd": "cat(var_dic_list()) "
    }
   },
   "types_to_exclude": [
    "module",
    "function",
    "builtin_function_or_method",
    "instance",
    "_Feature"
   ],
   "window_display": false
  }
 },
 "nbformat": 4,
 "nbformat_minor": 2
}
