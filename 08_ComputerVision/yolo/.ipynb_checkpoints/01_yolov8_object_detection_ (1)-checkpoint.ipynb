{
 "cells": [
  {
   "cell_type": "markdown",
   "id": "c408c92e",
   "metadata": {},
   "source": [
    "# [YOLOv8](https://docs.ultralytics.com/)\n",
    "\n",
    "## 설치\n",
    "\n",
    "- `pip install ultralytics`\n",
    "- 주피터노트북에서 실행할 경우 프로그래스바를 실행하기 위해서 다음을 설치한다. (필수는 아님)\n",
    "    - `conda install -y -c conda-forge ipywidgets`"
   ]
  },
  {
   "cell_type": "markdown",
   "id": "01f3d95a",
   "metadata": {},
   "source": [
    "## 사용\n",
    "- CLI (command line interface)에서 터미널 명령어로 추론/평가/학습을 진행할 수 있다.\n",
    "- Python lib 를 이용해 코드상에 원하는 추론/평가/학습을 진행할 수 있다."
   ]
  },
  {
   "cell_type": "markdown",
   "id": "5bbfe070",
   "metadata": {},
   "source": [
    "# CLI 기본 명령어 구조\n",
    "\n",
    "- 구문\n",
    "    - <span style='font-size:1.3em'>**yolo**  **task**=detect|classify|segment  **mode**=train|val|predict  **model**=yolov8n.yaml|yolov8n.pt|..  **args**</span>\n",
    "    - <b style='font-size:1.2em'>task:</b> \\[detect, classify, segment\\] 중 하나를 지정한다. \\[optional\\]로 생략하면 모델을 보고 추측해서 task를 정한다.\n",
    "        - **detect:** Object detection\n",
    "        - **classify:** Image classification\n",
    "        - **segment:** Instance segmentation\n",
    "    - <b style='font-size:1.2em'>mode:</b> \\[train, val, predict, export\\] 중 하나를 지정한다. \\[필수\\]로 입력해야 한다.\n",
    "        - **train:** custom dataset을 train 시킨다.\n",
    "        - **val:** 모델 성능을 평가한다.\n",
    "        - **predict:** 입력 이미지에 대한 추론을 한다.\n",
    "        - **export:** 모델을 다른 형식으로 변환한다.\n",
    "    - <b style='font-size:1.2em'>model:</b> **pretrained 모델**이나 **모델 설정 yaml 파일**의 경로를 설정한다. \\[필수\\]로 입력해야 한다.\n",
    "        - pretrained 모델 파일경로\n",
    "            - task에 맞는 pretrained 모델파일의 저장 경로를 지정한다.\n",
    "            - transfer learnging을 하거나 fine tuning 시 방법\n",
    "        - 모델 구조 설정 yaml 파일 경로\n",
    "            - task에 맞는 pretrained 모델 설정파일(yaml파일)의 경로를 지정한다.\n",
    "            - train mode에서 지정하며 모델을 새로 생성해서 처음부터 학습 시킬 경우 지정한다.\n",
    "        - Ultralytics에서 제공하는 Pretrained 모델\n",
    "            - 모델 크기에 따라 5개의 모델을 제공하며 큰 모델은 작은 모델에 비해 추론 성능이 좋은대신 속도는 느리다.\n",
    "            - 모델은 처음 추론또는 학습할때 local 컴퓨터에 없으면 download 받는다.\n",
    "            - https://github.com/ultralytics/ultralytics#models\n",
    "            - ### 제공 모델\n",
    "            \n",
    "            | **task\\모델크기**           | **nano** | **small_** | **medium** | **large** | **xlarge** |\n",
    "            |:--------------------|----------|-------------|------------|-----------|----------|\n",
    "            | **detection**      | yolov8n  | yolov8s     | yolov8m    | yolov8l   | yolov8x    |\n",
    "            | **segmentation**   | yolov8n-seg  | yolov8s-seg     | yolov8m-seg    | yolov8l-seg   | yolov8x-seg    |\n",
    "            | **classification** | yolov8n-cls  | yolov8s-cls     | yolov8m-cls    | yolov8l-cls   | yolov8x-cls    |            \n",
    "            \n",
    "            - 확장자가 `pt`이면 pretrained 된 모델을, `yaml`이면 모델 구조 설정파일을 download하여 실행한다.\n",
    "                - pretrained model은 fine tuning이나 추론할 때, yaml설정파일은 처음부터 학습할 경우 설정하여 받는다.\n",
    "    - <b style='font-size:1.2em'>args:</b> task와 mode과 관련한 추가 설정값들을 지정한다.\n",
    "        - https://docs.ultralytics.com/cfg/"
   ]
  },
  {
   "cell_type": "markdown",
   "id": "fb7e10cd",
   "metadata": {},
   "source": [
    "# [Object Detection](https://docs.ultralytics.com/tasks/detection/)"
   ]
  },
  {
   "cell_type": "markdown",
   "id": "7ca360a0",
   "metadata": {},
   "source": [
    "##  Predict (추론)\n",
    "\n",
    "### 모델로딩\n",
    "- Ultralytics에서 제공하는 Pretrained Model이나 직접 학습시킨 모델을 이용해 추론한다.\n",
    "- Ultralytics는 Object Detection을 위한 [Pretrained 모델](#제공-모델)을 제공한다.\n",
    "    - Object Detection 모델은 COCO dataset으로 학습되었다.\n",
    "    - 모델 명을 지정하면 자동으로 다운로드를 받는다."
   ]
  },
  {
   "cell_type": "markdown",
   "id": "8235d4bc",
   "metadata": {},
   "source": [
    "### CLI\n",
    "`yolo task=detect mode=predict model=model_path source=추론할_image_path`\n",
    "- 추가 설정 (configuration)\n",
    "    - https://docs.ultralytics.com/cfg\n",
    "    "
   ]
  },
  {
   "cell_type": "code",
   "execution_count": 3,
   "id": "5d91578f",
   "metadata": {
    "ExecuteTime": {
     "end_time": "2023-03-09T07:29:55.783401Z",
     "start_time": "2023-03-09T07:29:46.404535Z"
    }
   },
   "outputs": [
    {
     "name": "stderr",
     "output_type": "stream",
     "text": [
      "Ultralytics YOLOv8.0.51  Python-3.9.0 torch-1.13.1+cpu CPU\n",
      "YOLOv8s summary (fused): 168 layers, 11156544 parameters, 0 gradients, 28.6 GFLOPs\n",
      "\n",
      "image 1/1 C:\\Classes\\07_vision\\yolo\\test_image\\3.jpg: 448x640 1 car, 1 cup, 1 chair, 1 tv, 1 mouse, 1 keyboard, 3 cell phones, 910.1ms\n",
      "Speed: 2.2ms preprocess, 910.1ms inference, 3.1ms postprocess per image at shape (1, 3, 640, 640)\n",
      "Results saved to \u001b[1mruns\\detect\\predict2\u001b[0m\n",
      "1 label saved to runs\\detect\\predict2\\labels\n"
     ]
    }
   ],
   "source": [
    "!yolo  task=detect  mode=predict   model=models/yolov8s.pt   source=test_image/3.jpg  save=True  save_txt=True  line_thickness=1"
   ]
  },
  {
   "cell_type": "code",
   "execution_count": null,
   "id": "15cd9649",
   "metadata": {},
   "outputs": [],
   "source": [
    "# source=정수  => 웹캠연결. 정수: 웹캠 ID"
   ]
  },
  {
   "cell_type": "code",
   "execution_count": 1,
   "id": "3fd7ee97",
   "metadata": {
    "ExecuteTime": {
     "end_time": "2023-03-10T00:33:27.203232Z",
     "start_time": "2023-03-10T00:32:38.879739Z"
    }
   },
   "outputs": [
    {
     "name": "stdout",
     "output_type": "stream",
     "text": [
      "^C\n"
     ]
    }
   ],
   "source": [
    "!yolo  task=detect  mode=predict   model=models/yolov8s.pt  source=0"
   ]
  },
  {
   "cell_type": "markdown",
   "id": "7b0f28a7",
   "metadata": {},
   "source": [
    "### Python"
   ]
  },
  {
   "cell_type": "code",
   "execution_count": 4,
   "id": "64f37008",
   "metadata": {
    "ExecuteTime": {
     "end_time": "2023-03-09T07:38:46.694238Z",
     "start_time": "2023-03-09T07:38:42.088027Z"
    }
   },
   "outputs": [],
   "source": [
    "from ultralytics import YOLO"
   ]
  },
  {
   "cell_type": "code",
   "execution_count": 5,
   "id": "522e29bd",
   "metadata": {
    "ExecuteTime": {
     "end_time": "2023-03-09T07:40:51.237815Z",
     "start_time": "2023-03-09T07:40:25.206490Z"
    }
   },
   "outputs": [
    {
     "name": "stderr",
     "output_type": "stream",
     "text": [
      "Downloading https://github.com/ultralytics/assets/releases/download/v0.0.0/yolov8m.pt to models\\yolov8m.pt...\n"
     ]
    },
    {
     "data": {
      "application/vnd.jupyter.widget-view+json": {
       "model_id": "bdf1423bab1c449685c98f99563938a2",
       "version_major": 2,
       "version_minor": 0
      },
      "text/plain": [
       "  0%|          | 0.00/49.7M [00:00<?, ?B/s]"
      ]
     },
     "metadata": {},
     "output_type": "display_data"
    }
   ],
   "source": [
    "model = YOLO(\"models/yolov8m.pt\")  # YOLO 클래스 객체 생성하면서 사용할 pretrained model의 경로를 지정."
   ]
  },
  {
   "cell_type": "code",
   "execution_count": 12,
   "id": "2881ee4a",
   "metadata": {
    "ExecuteTime": {
     "end_time": "2023-03-09T07:48:11.948615Z",
     "start_time": "2023-03-09T07:48:09.261815Z"
    }
   },
   "outputs": [
    {
     "name": "stderr",
     "output_type": "stream",
     "text": [
      "\n",
      "image 1/1 C:\\Classes\\07_vision\\yolo\\test_image\\2.jpg: 448x640 12 persons, 5 cars, 1 motorcycle, 5 buss, 1 train, 1 truck, 6 traffic lights, 1 umbrella, 1175.3ms\n",
      "Speed: 7.5ms preprocess, 1175.3ms inference, 22.9ms postprocess per image at shape (1, 3, 640, 640)\n",
      "Results saved to \u001b[1mruns\\detect\\predict5\u001b[0m\n",
      "1 label saved to runs\\detect\\predict5\\labels\n"
     ]
    }
   ],
   "source": [
    "# model = YOLO(\"models/yolov8m.pt\")\n",
    "image_path = 'test_image/2.jpg'\n",
    "result_list = model(image_path, save=True, save_txt=True, line_thickness=1)#, conf=0.7)     #YOLO객체(이미지, args,....)"
   ]
  },
  {
   "cell_type": "code",
   "execution_count": 14,
   "id": "6e271a9f",
   "metadata": {
    "ExecuteTime": {
     "end_time": "2023-03-09T08:08:59.743991Z",
     "start_time": "2023-03-09T08:08:59.729442Z"
    }
   },
   "outputs": [
    {
     "data": {
      "text/plain": [
       "(list, 1)"
      ]
     },
     "execution_count": 14,
     "metadata": {},
     "output_type": "execute_result"
    }
   ],
   "source": [
    "type(result_list), len(result_list)\n",
    "# 리스트에 추론한 결과를 추론한 이미지별로 저장해서 반환."
   ]
  },
  {
   "cell_type": "code",
   "execution_count": 15,
   "id": "bb48e01f",
   "metadata": {
    "ExecuteTime": {
     "end_time": "2023-03-09T08:10:01.164886Z",
     "start_time": "2023-03-09T08:10:01.155305Z"
    }
   },
   "outputs": [
    {
     "data": {
      "text/plain": [
       "ultralytics.yolo.engine.results.Results"
      ]
     },
     "execution_count": 15,
     "metadata": {},
     "output_type": "execute_result"
    }
   ],
   "source": [
    "type(result_list[0])"
   ]
  },
  {
   "cell_type": "markdown",
   "id": "f33daef5",
   "metadata": {},
   "source": [
    "### 한번에 여러장 추론\n",
    "- 추론할 파일경로를 리스트로 묶어서 추론한다.\n",
    "    - 이 경우 추론성능이 좋지 않은 경우가 생긴다."
   ]
  },
  {
   "cell_type": "code",
   "execution_count": 17,
   "id": "17a4ca18",
   "metadata": {
    "ExecuteTime": {
     "end_time": "2023-03-09T08:12:43.479144Z",
     "start_time": "2023-03-09T08:12:43.459754Z"
    }
   },
   "outputs": [
    {
     "data": {
      "text/plain": [
       "['test_image\\\\1.jpg',\n",
       " 'test_image\\\\2.jpg',\n",
       " 'test_image\\\\3.jpg',\n",
       " 'test_image\\\\4.jpg',\n",
       " 'test_image\\\\5.jpg',\n",
       " 'test_image\\\\6.jpg']"
      ]
     },
     "execution_count": 17,
     "metadata": {},
     "output_type": "execute_result"
    }
   ],
   "source": [
    "from glob import glob\n",
    "file_path = glob('test_image/*.jpg')\n",
    "file_path"
   ]
  },
  {
   "cell_type": "code",
   "execution_count": 18,
   "id": "9373630b",
   "metadata": {
    "ExecuteTime": {
     "end_time": "2023-03-09T08:14:18.181503Z",
     "start_time": "2023-03-09T08:14:09.443734Z"
    }
   },
   "outputs": [
    {
     "name": "stderr",
     "output_type": "stream",
     "text": [
      "\n",
      "0: 640x640 7 persons, 3 bicycles, 5 cars, 1 motorcycle, 1 bus, 3 traffic lights, 1 dog, 1 backpack, 2 handbags, 1: 640x640 13 persons, 5 cars, 1 motorcycle, 5 buss, 1 truck, 6 traffic lights, 1 umbrella, 2: 640x640 1 car, 2 chairs, 1 tv, 1 mouse, 1 keyboard, 2 cell phones, 1 vase, 3: 640x640 3 elephants, 1 zebra, 4: 640x640 9 persons, 1 tie, 1 bottle, 16 wine glasss, 4 cups, 3 forks, 1 knife, 1 bowl, 1 potted plant, 2 dining tables, 5: 640x640 4 persons, 2 cups, 1 fork, 1 knife, 3 pizzas, 3 dining tables, 7406.5ms\n",
      "Speed: 1.7ms preprocess, 1234.4ms inference, 3.9ms postprocess per image at shape (1, 3, 640, 640)\n",
      "Results saved to \u001b[1mruns\\detect\\predict6\u001b[0m\n",
      "6 labels saved to runs\\detect\\predict6\\labels\n"
     ]
    }
   ],
   "source": [
    "model = YOLO('models/yolov8m.pt')\n",
    "# 추론할 이미지들의 경로를 리스트로 묶어서 전달.\n",
    "result_list = model(file_path, save=True, save_txt=True, line_thickness=1)"
   ]
  },
  {
   "cell_type": "code",
   "execution_count": 20,
   "id": "cc230083",
   "metadata": {
    "ExecuteTime": {
     "end_time": "2023-03-09T08:18:20.217158Z",
     "start_time": "2023-03-09T08:18:10.676205Z"
    },
    "scrolled": true
   },
   "outputs": [
    {
     "name": "stderr",
     "output_type": "stream",
     "text": [
      "\n",
      "image 1/1 C:\\Classes\\07_vision\\yolo\\test_image\\1.jpg: 480x640 8 persons, 2 bicycles, 5 cars, 1 motorcycle, 2 buss, 3 traffic lights, 1 dog, 1 backpack, 2 handbags, 1138.7ms\n",
      "Speed: 1.7ms preprocess, 1138.7ms inference, 2.5ms postprocess per image at shape (1, 3, 640, 640)\n",
      "Results saved to \u001b[1mruns\\detect\\predict7\u001b[0m\n",
      "1 label saved to runs\\detect\\predict7\\labels\n",
      "\n",
      "image 1/1 C:\\Classes\\07_vision\\yolo\\test_image\\2.jpg: 448x640 12 persons, 5 cars, 1 motorcycle, 5 buss, 1 train, 1 truck, 6 traffic lights, 1 umbrella, 1227.6ms\n",
      "Speed: 5.8ms preprocess, 1227.6ms inference, 3.5ms postprocess per image at shape (1, 3, 640, 640)\n",
      "Results saved to \u001b[1mruns\\detect\\predict7\u001b[0m\n",
      "2 labels saved to runs\\detect\\predict7\\labels\n",
      "\n",
      "image 1/1 C:\\Classes\\07_vision\\yolo\\test_image\\3.jpg: 448x640 1 car, 2 chairs, 1 tv, 1 mouse, 1 keyboard, 2 cell phones, 1 vase, 1917.3ms\n",
      "Speed: 10.5ms preprocess, 1917.3ms inference, 5.3ms postprocess per image at shape (1, 3, 640, 640)\n",
      "Results saved to \u001b[1mruns\\detect\\predict7\u001b[0m\n",
      "3 labels saved to runs\\detect\\predict7\\labels\n",
      "\n",
      "image 1/1 C:\\Classes\\07_vision\\yolo\\test_image\\4.jpg: 480x640 3 elephants, 1 zebra, 1439.7ms\n",
      "Speed: 46.8ms preprocess, 1439.7ms inference, 2.1ms postprocess per image at shape (1, 3, 640, 640)\n",
      "Results saved to \u001b[1mruns\\detect\\predict7\u001b[0m\n",
      "4 labels saved to runs\\detect\\predict7\\labels\n",
      "\n",
      "image 1/1 C:\\Classes\\07_vision\\yolo\\test_image\\5.jpg: 384x640 10 persons, 1 tie, 1 bottle, 15 wine glasss, 4 cups, 3 forks, 1 knife, 1 bowl, 1 potted plant, 2 dining tables, 1080.7ms\n",
      "Speed: 2.2ms preprocess, 1080.7ms inference, 6.3ms postprocess per image at shape (1, 3, 640, 640)\n",
      "Results saved to \u001b[1mruns\\detect\\predict7\u001b[0m\n",
      "5 labels saved to runs\\detect\\predict7\\labels\n",
      "\n",
      "image 1/1 C:\\Classes\\07_vision\\yolo\\test_image\\6.jpg: 480x640 3 persons, 2 cups, 3 forks, 1 knife, 3 pizzas, 3 dining tables, 1189.9ms\n",
      "Speed: 16.0ms preprocess, 1189.9ms inference, 2.6ms postprocess per image at shape (1, 3, 640, 640)\n",
      "Results saved to \u001b[1mruns\\detect\\predict7\u001b[0m\n",
      "6 labels saved to runs\\detect\\predict7\\labels\n"
     ]
    }
   ],
   "source": [
    "# 한번에 여러장 묶어서 추론시 성능이 안나올  경우 반복문을 이용해서 한장씩 처리\n",
    "model = YOLO('models/yolov8m.pt')\n",
    "result_list2 = []\n",
    "for path in file_path:\n",
    "    result = model(path, save=True, save_txt=True)\n",
    "    result_list2.append(result[0])"
   ]
  },
  {
   "cell_type": "code",
   "execution_count": 22,
   "id": "ca45b257",
   "metadata": {
    "ExecuteTime": {
     "end_time": "2023-03-09T08:19:58.998534Z",
     "start_time": "2023-03-09T08:19:58.979069Z"
    }
   },
   "outputs": [
    {
     "data": {
      "text/plain": [
       "(6, ultralytics.yolo.engine.results.Results)"
      ]
     },
     "execution_count": 22,
     "metadata": {},
     "output_type": "execute_result"
    }
   ],
   "source": [
    "len(result_list), type(result_list[0])"
   ]
  },
  {
   "cell_type": "code",
   "execution_count": null,
   "id": "047380ba",
   "metadata": {},
   "outputs": [],
   "source": []
  },
  {
   "cell_type": "code",
   "execution_count": 23,
   "id": "a6c7a79d",
   "metadata": {
    "ExecuteTime": {
     "end_time": "2023-03-09T08:22:05.173435Z",
     "start_time": "2023-03-09T08:22:02.111740Z"
    }
   },
   "outputs": [
    {
     "name": "stderr",
     "output_type": "stream",
     "text": [
      "\n",
      "Downloading https://ultralytics.com/images/bus.jpg to bus.jpg...\n"
     ]
    },
    {
     "data": {
      "application/vnd.jupyter.widget-view+json": {
       "model_id": "53897f3401864cdab681c6c6334b422c",
       "version_major": 2,
       "version_minor": 0
      },
      "text/plain": [
       "  0%|          | 0.00/476k [00:00<?, ?B/s]"
      ]
     },
     "metadata": {},
     "output_type": "display_data"
    },
    {
     "name": "stderr",
     "output_type": "stream",
     "text": [
      "image 1/1 C:\\Classes\\07_vision\\yolo\\bus.jpg: 640x480 4 persons, 1 bus, 2089.5ms\n",
      "Speed: 4.3ms preprocess, 2089.5ms inference, 3.0ms postprocess per image at shape (1, 3, 640, 640)\n",
      "Results saved to \u001b[1mruns\\detect\\predict7\u001b[0m\n",
      "7 labels saved to runs\\detect\\predict7\\labels\n"
     ]
    }
   ],
   "source": [
    "result_list = model(\"https://ultralytics.com/images/bus.jpg\", save=True)"
   ]
  },
  {
   "cell_type": "code",
   "execution_count": 25,
   "id": "c4fe0fb2",
   "metadata": {
    "ExecuteTime": {
     "end_time": "2023-03-09T08:24:59.228076Z",
     "start_time": "2023-03-09T08:24:57.908118Z"
    }
   },
   "outputs": [
    {
     "name": "stderr",
     "output_type": "stream",
     "text": [
      "\n",
      "Downloading https://cdn.eyesmag.com/content/uploads/posts/2022/08/08/main-ad65ae47-5a50-456d-a41f-528b63071b7b.jpg to main-ad65ae47-5a50-456d-a41f-528b63071b7b.jpg...\n"
     ]
    },
    {
     "data": {
      "application/vnd.jupyter.widget-view+json": {
       "model_id": "c2db4f1956774686bda9af86f2c90e2c",
       "version_major": 2,
       "version_minor": 0
      },
      "text/plain": [
       "  0%|          | 0.00/420k [00:00<?, ?B/s]"
      ]
     },
     "metadata": {},
     "output_type": "display_data"
    },
    {
     "name": "stderr",
     "output_type": "stream",
     "text": [
      "image 1/1 C:\\Classes\\07_vision\\yolo\\main-ad65ae47-5a50-456d-a41f-528b63071b7b.jpg: 416x640 1 cat, 1 couch, 1090.6ms\n",
      "Speed: 1.0ms preprocess, 1090.6ms inference, 25.4ms postprocess per image at shape (1, 3, 640, 640)\n",
      "Results saved to \u001b[1mruns\\detect\\predict7\u001b[0m\n",
      "8 labels saved to runs\\detect\\predict7\\labels\n"
     ]
    }
   ],
   "source": [
    "result_list = model('https://cdn.eyesmag.com/content/uploads/posts/2022/08/08/main-ad65ae47-5a50-456d-a41f-528b63071b7b.jpg', save=True)"
   ]
  },
  {
   "cell_type": "markdown",
   "id": "fcd00d48",
   "metadata": {},
   "source": [
    "## 추론결과"
   ]
  },
  {
   "cell_type": "markdown",
   "id": "49ea25ad",
   "metadata": {},
   "source": [
    "### ultralytics.yolo.engine.results.Results\n",
    "- 모델의 추론 결과는 list에 이미지별 예측결과를 Results에 담아 반환한다.\n",
    "- **Results** : 한개 이미지에 대한 추론결과를 담는 객체\n",
    "- 추론 종류에 따라 다음 속성을 이용해 결과를 조회한다.\n",
    "    - Detection: `result.boxes` - Boxes type\n",
    "    - Segmentation: `result.masks` - Masks type\n",
    "    - Classification: `result.probs` - torch.Tensor type\n",
    "- 추가 정보\n",
    "    - Results.orig_img: 추론한 원본 이미지\n",
    "    - Results.orig_shape: 추론한 원본 이미지의 크기 (height, width)\n",
    "    - Results.path: 추론한 원본이미지의 경로"
   ]
  },
  {
   "cell_type": "code",
   "execution_count": 57,
   "id": "1163e3a5",
   "metadata": {
    "ExecuteTime": {
     "end_time": "2023-03-10T02:37:27.849021Z",
     "start_time": "2023-03-10T02:37:25.757658Z"
    }
   },
   "outputs": [
    {
     "name": "stderr",
     "output_type": "stream",
     "text": [
      "\n",
      "image 1/1 C:\\Classes\\07_vision\\yolo\\bus.jpg: 640x480 4 persons, 1 bus, 1101.0ms\n",
      "Speed: 1.3ms preprocess, 1101.0ms inference, 2.5ms postprocess per image at shape (1, 3, 640, 640)\n",
      "Results saved to \u001b[1mruns\\detect\\predict10\u001b[0m\n"
     ]
    }
   ],
   "source": [
    "from ultralytics import YOLO\n",
    "\n",
    "model = YOLO('models/yolov8m.pt')\n",
    "result_list = model('bus.jpg', save=True)"
   ]
  },
  {
   "cell_type": "code",
   "execution_count": 5,
   "id": "decff4f0",
   "metadata": {
    "ExecuteTime": {
     "end_time": "2023-03-10T00:47:22.201958Z",
     "start_time": "2023-03-10T00:47:22.181626Z"
    }
   },
   "outputs": [
    {
     "data": {
      "text/plain": [
       "(list, 1, ultralytics.yolo.engine.results.Results)"
      ]
     },
     "execution_count": 5,
     "metadata": {},
     "output_type": "execute_result"
    }
   ],
   "source": [
    "type(result_list), len(result_list), type(result_list[0])"
   ]
  },
  {
   "cell_type": "code",
   "execution_count": 11,
   "id": "18ae20f7",
   "metadata": {
    "ExecuteTime": {
     "end_time": "2023-03-10T01:18:30.976636Z",
     "start_time": "2023-03-10T01:18:30.946843Z"
    }
   },
   "outputs": [
    {
     "name": "stdout",
     "output_type": "stream",
     "text": [
      "원본 이미지 경로: C:\\Classes\\07_vision\\yolo\\bus.jpg\n",
      "원본 이미지 크기: (1080, 810)\n",
      "원보 이미지: (1080, 810, 3)\n"
     ]
    }
   ],
   "source": [
    "# 추론한 이미지에 대한 정보\n",
    "result = result_list[0]\n",
    "print('원본 이미지 경로:', result.path)\n",
    "print('원본 이미지 크기:', result.orig_shape)  # (height, width)\n",
    "print('원본 이미지:', result.orig_img.shape)"
   ]
  },
  {
   "cell_type": "markdown",
   "id": "2825ee77",
   "metadata": {},
   "source": [
    "### Object Detection 결과값 조회\n",
    "\n",
    "- ultralytics.yolo.engine.results.**Boxes**에 추론 결과를 담아 반환\n",
    "    - Results.boxes로 조회\n",
    "- 주요 속성\n",
    "    - shape: 결과 shape. (찾은 물체개수, 6)\n",
    "    - boxes\n",
    "        - 6: 좌상단 x, 좌상단 y, 우하단 x, 우하단 y, confidence score, label\n",
    "    - xyxy\n",
    "        - bounding box의 `좌상단 x, 좌상단 y, 우하단 x, 우하단 y` 좌표 반환\n",
    "    - xyxyn\n",
    "        - xyxy를 이미지 대비 비율로 반환\n",
    "    - xywh\n",
    "        - bounding box의 `center x, center y, 너비, 높이` 를 반환\n",
    "    - xywhn\n",
    "        - xywh를 이미지 대비 비율로 반환\n",
    "    - cls: 찾은 물체의 label\n",
    "    - conf: cls에 대한 confidence score (그 물체일 확률)\n",
    "    - boxes\n",
    "        - `x, y, x, y, conf, cls` tensor를 반환"
   ]
  },
  {
   "cell_type": "code",
   "execution_count": 12,
   "id": "6487f920",
   "metadata": {
    "ExecuteTime": {
     "end_time": "2023-03-10T01:27:01.037555Z",
     "start_time": "2023-03-10T01:27:01.020187Z"
    }
   },
   "outputs": [
    {
     "name": "stdout",
     "output_type": "stream",
     "text": [
      "<class 'ultralytics.yolo.engine.results.Boxes'>\n"
     ]
    }
   ],
   "source": [
    "boxes = result.boxes  # detection한 결과를 조회 (Boxes 객체)\n",
    "print(type(boxes))"
   ]
  },
  {
   "cell_type": "code",
   "execution_count": 13,
   "id": "2f364174",
   "metadata": {
    "ExecuteTime": {
     "end_time": "2023-03-10T01:27:30.413278Z",
     "start_time": "2023-03-10T01:27:30.389162Z"
    }
   },
   "outputs": [
    {
     "data": {
      "text/plain": [
       "torch.Size([5, 6])"
      ]
     },
     "execution_count": 13,
     "metadata": {},
     "output_type": "execute_result"
    }
   ],
   "source": [
    "boxes.shape\n",
    "# [5, 6] : 5-찾은 bbox 개수, 6-x y x y label conf"
   ]
  },
  {
   "cell_type": "code",
   "execution_count": 15,
   "id": "66c40a74",
   "metadata": {
    "ExecuteTime": {
     "end_time": "2023-03-10T01:31:12.123370Z",
     "start_time": "2023-03-10T01:31:12.101794Z"
    }
   },
   "outputs": [
    {
     "name": "stdout",
     "output_type": "stream",
     "text": [
      "tensor([5., 0., 0., 0., 0.])\n",
      "tensor([0.95954, 0.92756, 0.92264, 0.90175, 0.79271])\n"
     ]
    }
   ],
   "source": [
    "# 찾은 bbox들에 대한 classification 정보\n",
    "# label\n",
    "print(boxes.cls)  # 찾은 5개 bbox에 대한 label들을 반환.\n",
    "print(boxes.conf) # 찾은 5개 bbox에대한 confidence score(확률) 들을 반환"
   ]
  },
  {
   "cell_type": "code",
   "execution_count": 17,
   "id": "647c242e",
   "metadata": {
    "ExecuteTime": {
     "end_time": "2023-03-10T01:37:16.938027Z",
     "start_time": "2023-03-10T01:37:16.918682Z"
    }
   },
   "outputs": [
    {
     "name": "stdout",
     "output_type": "stream",
     "text": [
      "tensor([[  3., 229., 804., 741.],\n",
      "        [ 50., 400., 247., 905.],\n",
      "        [668., 395., 810., 881.],\n",
      "        [222., 411., 344., 861.],\n",
      "        [  0., 550.,  78., 872.]])\n",
      "tensor([[0.00370, 0.21204, 0.99259, 0.68611],\n",
      "        [0.06173, 0.37037, 0.30494, 0.83796],\n",
      "        [0.82469, 0.36574, 1.00000, 0.81574],\n",
      "        [0.27407, 0.38056, 0.42469, 0.79722],\n",
      "        [0.00000, 0.50926, 0.09630, 0.80741]])\n"
     ]
    }
   ],
   "source": [
    "# bbox의 위치정보\n",
    "print(boxes.xyxy)  # 좌상단 우하단 x/y좌표\n",
    "print(boxes.xyxyn) #이미지 대비 비율"
   ]
  },
  {
   "cell_type": "code",
   "execution_count": 19,
   "id": "0bd37164",
   "metadata": {
    "ExecuteTime": {
     "end_time": "2023-03-10T01:38:38.165810Z",
     "start_time": "2023-03-10T01:38:38.146348Z"
    }
   },
   "outputs": [
    {
     "name": "stdout",
     "output_type": "stream",
     "text": [
      "tensor([[403.50000, 485.00000, 801.00000, 512.00000],\n",
      "        [148.50000, 652.50000, 197.00000, 505.00000],\n",
      "        [739.00000, 638.00000, 142.00000, 486.00000],\n",
      "        [283.00000, 636.00000, 122.00000, 450.00000],\n",
      "        [ 39.00000, 711.00000,  78.00000, 322.00000]])\n",
      "tensor([[0.49815, 0.44907, 0.98889, 0.47407],\n",
      "        [0.18333, 0.60417, 0.24321, 0.46759],\n",
      "        [0.91235, 0.59074, 0.17531, 0.45000],\n",
      "        [0.34938, 0.58889, 0.15062, 0.41667],\n",
      "        [0.04815, 0.65833, 0.09630, 0.29815]])\n"
     ]
    }
   ],
   "source": [
    "print(boxes.xywh)  # center x, y좌표, bbox width, height\n",
    "print(boxes.xywhn)  # center x, y좌표, bbox width, height 이미지 대비 비율"
   ]
  },
  {
   "cell_type": "code",
   "execution_count": 23,
   "id": "c782961a",
   "metadata": {
    "ExecuteTime": {
     "end_time": "2023-03-10T01:45:00.968554Z",
     "start_time": "2023-03-10T01:45:00.949314Z"
    }
   },
   "outputs": [
    {
     "name": "stdout",
     "output_type": "stream",
     "text": [
      "(205, 92, 92)\n",
      "person\n",
      "goldfish, Carassius auratus\n"
     ]
    }
   ],
   "source": [
    "import util\n",
    "\n",
    "print(util.get_color(0))\n",
    "print(util.get_coco80_classname(0))\n",
    "print(util.get_imagenet_classname(1))"
   ]
  },
  {
   "cell_type": "code",
   "execution_count": 32,
   "id": "753dfe79",
   "metadata": {
    "ExecuteTime": {
     "end_time": "2023-03-10T01:49:19.595145Z",
     "start_time": "2023-03-10T01:49:19.585693Z"
    },
    "collapsed": true
   },
   "outputs": [
    {
     "data": {
      "text/plain": [
       "'bus'"
      ]
     },
     "execution_count": 32,
     "metadata": {},
     "output_type": "execute_result"
    }
   ],
   "source": [
    "idx = boxes.cls[0]\n",
    "\n",
    "# 한개의 값을 가지는 Tensor에서 값을 추출\n",
    "# idx.item()\n",
    "util.get_coco80_classname(int(idx.item()))  # 0차원 torch.Tensor -> 상수"
   ]
  },
  {
   "cell_type": "code",
   "execution_count": 36,
   "id": "217b3857",
   "metadata": {
    "ExecuteTime": {
     "end_time": "2023-03-10T01:55:40.885455Z",
     "start_time": "2023-03-10T01:55:40.869939Z"
    },
    "collapsed": true
   },
   "outputs": [
    {
     "data": {
      "text/plain": [
       "tensor([[  3., 229., 804., 741.],\n",
       "        [ 50., 400., 247., 905.],\n",
       "        [668., 395., 810., 881.],\n",
       "        [222., 411., 344., 861.],\n",
       "        [  0., 550.,  78., 872.]])"
      ]
     },
     "execution_count": 36,
     "metadata": {},
     "output_type": "execute_result"
    }
   ],
   "source": [
    "arr"
   ]
  },
  {
   "cell_type": "code",
   "execution_count": 34,
   "id": "0a295633",
   "metadata": {
    "ExecuteTime": {
     "end_time": "2023-03-10T01:52:21.102331Z",
     "start_time": "2023-03-10T01:52:21.086061Z"
    },
    "collapsed": true
   },
   "outputs": [
    {
     "data": {
      "text/plain": [
       "array([[          3,         229,         804,         741],\n",
       "       [         50,         400,         247,         905],\n",
       "       [        668,         395,         810,         881],\n",
       "       [        222,         411,         344,         861],\n",
       "       [          0,         550,          78,         872]], dtype=float32)"
      ]
     },
     "execution_count": 34,
     "metadata": {},
     "output_type": "execute_result"
    }
   ],
   "source": [
    "arr = boxes.xyxy  # 2차원 torch.Tensor -> numpy.ndarry \n",
    "arr.numpy()"
   ]
  },
  {
   "cell_type": "code",
   "execution_count": 35,
   "id": "c27e256d",
   "metadata": {
    "ExecuteTime": {
     "end_time": "2023-03-10T01:53:08.095698Z",
     "start_time": "2023-03-10T01:53:08.078306Z"
    },
    "collapsed": true
   },
   "outputs": [
    {
     "data": {
      "text/plain": [
       "array([[          3,         229,         804,         741],\n",
       "       [         50,         400,         247,         905],\n",
       "       [        668,         395,         810,         881],\n",
       "       [        222,         411,         344,         861],\n",
       "       [          0,         550,          78,         872]], dtype=float32)"
      ]
     },
     "execution_count": 35,
     "metadata": {},
     "output_type": "execute_result"
    }
   ],
   "source": [
    "arr.to('cpu').numpy()  # gpu에 있는 torch.Tensor를 ndarry로 변환하려면 일단 메인메모리(RAM)으로 옮겨야 한다."
   ]
  },
  {
   "cell_type": "code",
   "execution_count": 60,
   "id": "55a13893",
   "metadata": {
    "ExecuteTime": {
     "end_time": "2023-03-10T02:39:36.686733Z",
     "start_time": "2023-03-10T02:39:34.470549Z"
    }
   },
   "outputs": [
    {
     "name": "stderr",
     "output_type": "stream",
     "text": [
      "\n",
      "image 1/1 C:\\Classes\\07_vision\\yolo\\test_image\\1.jpg: 480x640 8 persons, 2 bicycles, 5 cars, 1 motorcycle, 2 buss, 3 traffic lights, 1 dog, 1 backpack, 2 handbags, 1224.5ms\n",
      "Speed: 13.3ms preprocess, 1224.5ms inference, 2.2ms postprocess per image at shape (1, 3, 640, 640)\n",
      "Results saved to \u001b[1mruns\\detect\\predict12\u001b[0m\n"
     ]
    }
   ],
   "source": [
    "# 원본 이미지에 추론 결과를 출력\n",
    "import cv2\n",
    "from ultralytics import YOLO\n",
    "\n",
    "model = YOLO('models/yolov8m.pt')\n",
    "path = 'bus.jpg'\n",
    "path = 'test_image/1.jpg'\n",
    "result_list = model(path, save=True)\n",
    "result = result_list[0]\n",
    "\n",
    "org_img = result.orig_img  #BGR\n",
    "img = org_img.copy()\n",
    "\n",
    "boxes = result.boxes\n",
    "xyxy_list = boxes.xyxy  #좌상단/우하단 좌표\n",
    "cls_list = boxes.cls    #label\n",
    "conf_list = boxes.conf  #label  확률.\n",
    "for xyxy, cls, conf in zip(xyxy_list, cls_list, conf_list):\n",
    "#     print(xyxy, conf, cls)\n",
    "    xyxy_arr = xyxy.to('cpu').numpy().astype('int32')\n",
    "    pt1 = xyxy_arr[:2]\n",
    "    pt2 = xyxy_arr[2:]\n",
    "    \n",
    "    label_name = util.get_coco80_classname(int(cls.item()))\n",
    "    txt = f\"{label_name}-{conf.item()*100:.2f}\"\n",
    "    \n",
    "    color = util.get_color(int(cls.item()) % 10)\n",
    "    # bbox\n",
    "    cv2.rectangle(img, pt1=pt1, pt2=pt2, color=color, thickness=2)\n",
    "    # label\n",
    "    cv2.putText(img, text=txt, org=pt1, fontFace=cv2.FONT_HERSHEY_SIMPLEX, fontScale=1, \n",
    "                color=color, thickness=2, lineType=cv2.LINE_AA)\n"
   ]
  },
  {
   "cell_type": "code",
   "execution_count": 63,
   "id": "f4d39f28",
   "metadata": {
    "ExecuteTime": {
     "end_time": "2023-03-10T02:47:26.274458Z",
     "start_time": "2023-03-10T02:47:08.973212Z"
    }
   },
   "outputs": [],
   "source": [
    "cv2.imshow('frame', img)\n",
    "cv2.waitKey(0)\n",
    "cv2.destroyAllWindows()"
   ]
  },
  {
   "cell_type": "markdown",
   "id": "59ff3703",
   "metadata": {},
   "source": [
    "## TODO \n",
    "- 웹캠 입력 디텍션"
   ]
  },
  {
   "cell_type": "code",
   "execution_count": 77,
   "id": "88d0397a",
   "metadata": {
    "ExecuteTime": {
     "end_time": "2023-03-10T05:27:33.119152Z",
     "start_time": "2023-03-10T05:27:05.214673Z"
    }
   },
   "outputs": [
    {
     "name": "stderr",
     "output_type": "stream",
     "text": [
      "\n",
      "0: 480x640 1 person, 903.0ms\n",
      "Speed: 3.1ms preprocess, 903.0ms inference, 2.3ms postprocess per image at shape (1, 3, 640, 640)\n",
      "\n",
      "0: 480x640 1 person, 1078.8ms\n",
      "Speed: 11.2ms preprocess, 1078.8ms inference, 2.2ms postprocess per image at shape (1, 3, 640, 640)\n",
      "\n",
      "0: 480x640 1 person, 923.5ms\n",
      "Speed: 1.5ms preprocess, 923.5ms inference, 2.0ms postprocess per image at shape (1, 3, 640, 640)\n",
      "\n",
      "0: 480x640 1 person, 940.5ms\n",
      "Speed: 4.0ms preprocess, 940.5ms inference, 2.6ms postprocess per image at shape (1, 3, 640, 640)\n",
      "\n",
      "0: 480x640 1 person, 942.9ms\n",
      "Speed: 3.5ms preprocess, 942.9ms inference, 2.1ms postprocess per image at shape (1, 3, 640, 640)\n",
      "\n",
      "0: 480x640 1 person, 939.1ms\n",
      "Speed: 2.8ms preprocess, 939.1ms inference, 3.8ms postprocess per image at shape (1, 3, 640, 640)\n",
      "\n",
      "0: 480x640 1 person, 889.6ms\n",
      "Speed: 2.0ms preprocess, 889.6ms inference, 2.0ms postprocess per image at shape (1, 3, 640, 640)\n",
      "\n",
      "0: 480x640 1 person, 959.3ms\n",
      "Speed: 2.7ms preprocess, 959.3ms inference, 3.3ms postprocess per image at shape (1, 3, 640, 640)\n",
      "\n",
      "0: 480x640 2 persons, 938.4ms\n",
      "Speed: 2.5ms preprocess, 938.4ms inference, 2.0ms postprocess per image at shape (1, 3, 640, 640)\n",
      "\n",
      "0: 480x640 2 persons, 2 tvs, 926.6ms\n",
      "Speed: 2.4ms preprocess, 926.6ms inference, 2.2ms postprocess per image at shape (1, 3, 640, 640)\n",
      "\n",
      "0: 480x640 2 persons, 1100.3ms\n",
      "Speed: 2.2ms preprocess, 1100.3ms inference, 3.0ms postprocess per image at shape (1, 3, 640, 640)\n",
      "\n",
      "0: 480x640 1 person, 972.7ms\n",
      "Speed: 4.0ms preprocess, 972.7ms inference, 3.0ms postprocess per image at shape (1, 3, 640, 640)\n",
      "\n",
      "0: 480x640 1 person, 1 tv, 941.7ms\n",
      "Speed: 6.9ms preprocess, 941.7ms inference, 1.5ms postprocess per image at shape (1, 3, 640, 640)\n",
      "\n",
      "0: 480x640 1 person, 1 tv, 920.9ms\n",
      "Speed: 3.7ms preprocess, 920.9ms inference, 2.0ms postprocess per image at shape (1, 3, 640, 640)\n",
      "\n",
      "0: 480x640 2 persons, 1 tv, 917.2ms\n",
      "Speed: 10.3ms preprocess, 917.2ms inference, 2.0ms postprocess per image at shape (1, 3, 640, 640)\n",
      "\n",
      "0: 480x640 2 persons, 1 tv, 964.7ms\n",
      "Speed: 3.0ms preprocess, 964.7ms inference, 3.0ms postprocess per image at shape (1, 3, 640, 640)\n",
      "\n",
      "0: 480x640 2 persons, 1401.4ms\n",
      "Speed: 2.5ms preprocess, 1401.4ms inference, 1.5ms postprocess per image at shape (1, 3, 640, 640)\n",
      "\n",
      "0: 480x640 2 persons, 1206.0ms\n",
      "Speed: 7.4ms preprocess, 1206.0ms inference, 11.0ms postprocess per image at shape (1, 3, 640, 640)\n",
      "\n",
      "0: 480x640 1 person, 1253.9ms\n",
      "Speed: 4.9ms preprocess, 1253.9ms inference, 1.5ms postprocess per image at shape (1, 3, 640, 640)\n",
      "\n",
      "0: 480x640 1 person, 1221.4ms\n",
      "Speed: 11.4ms preprocess, 1221.4ms inference, 3.6ms postprocess per image at shape (1, 3, 640, 640)\n",
      "\n",
      "0: 480x640 1 person, 1374.4ms\n",
      "Speed: 5.6ms preprocess, 1374.4ms inference, 2.7ms postprocess per image at shape (1, 3, 640, 640)\n",
      "\n",
      "0: 480x640 1 person, 1111.6ms\n",
      "Speed: 11.8ms preprocess, 1111.6ms inference, 10.0ms postprocess per image at shape (1, 3, 640, 640)\n",
      "\n",
      "0: 480x640 1 person, 1193.7ms\n",
      "Speed: 6.3ms preprocess, 1193.7ms inference, 4.4ms postprocess per image at shape (1, 3, 640, 640)\n"
     ]
    }
   ],
   "source": [
    "import cv2\n",
    "import util\n",
    "from ultralytics import YOLO\n",
    "\n",
    "# 웹캠 연동\n",
    "cap = cv2.VideoCapture(1)\n",
    "# 모델 생성\n",
    "model = YOLO('models/yolov8m.pt')\n",
    "while True:\n",
    "    # 한 Frame 읽기\n",
    "    success, frame = cap.read()\n",
    "    if not success:\n",
    "        print('프레임을 읽지 못함')\n",
    "        break\n",
    "        \n",
    "    frame = cv2.cvtColor(cv2.flip(frame, 1), cv2.COLOR_BGR2RGB)\n",
    "    \n",
    "    result = model(frame)[0]\n",
    "    xyxy_list = result.boxes.xyxy.to('cpu').numpy().astype('int32')\n",
    "    cls_list = result.boxes.cls.to('cpu').numpy().astype('int32')\n",
    "    conf_list = result.boxes.conf.to('cpu').numpy()\n",
    "    \n",
    "    for xyxy, cls, conf in zip(xyxy_list, cls_list, conf_list):\n",
    "        pt1, pt2 = xyxy[:2], xyxy[2:]\n",
    "        txt = f\"{util.get_coco80_classname(cls)}-{conf*100:.2f}%\"\n",
    "        color = util.get_color(cls % 10)\n",
    "        cv2.rectangle(frame, pt1, pt2, color=color)\n",
    "        cv2.putText(frame, txt, org=pt1, fontFace=cv2.FONT_HERSHEY_SIMPLEX, fontScale=1,\n",
    "                    color=color, thickness=2, lineType=cv2.LINE_AA)\n",
    "        \n",
    "    # 화면에 출력\n",
    "    cv2.imshow('frame', cv2.cvtColor(frame, cv2.COLOR_BGR2RGB))\n",
    "    if cv2.waitKey(1) == 27: # esc \n",
    "        break\n",
    "        \n",
    "cv2.destroyAllWindows()\n",
    "cap.release()"
   ]
  },
  {
   "cell_type": "code",
   "execution_count": null,
   "id": "92e79e3b",
   "metadata": {},
   "outputs": [],
   "source": []
  },
  {
   "cell_type": "code",
   "execution_count": 67,
   "id": "68f8ca22",
   "metadata": {
    "ExecuteTime": {
     "end_time": "2023-03-10T03:26:11.030912Z",
     "start_time": "2023-03-10T03:26:11.012624Z"
    }
   },
   "outputs": [],
   "source": []
  },
  {
   "cell_type": "code",
   "execution_count": null,
   "id": "1b3d56bc",
   "metadata": {},
   "outputs": [],
   "source": []
  },
  {
   "cell_type": "code",
   "execution_count": null,
   "id": "2e4aee02",
   "metadata": {},
   "outputs": [],
   "source": []
  },
  {
   "cell_type": "code",
   "execution_count": null,
   "id": "487857e9",
   "metadata": {},
   "outputs": [],
   "source": []
  },
  {
   "cell_type": "code",
   "execution_count": null,
   "id": "96daae1e",
   "metadata": {},
   "outputs": [],
   "source": []
  },
  {
   "cell_type": "code",
   "execution_count": null,
   "id": "aecc8384",
   "metadata": {},
   "outputs": [],
   "source": []
  },
  {
   "cell_type": "markdown",
   "id": "17320e83",
   "metadata": {},
   "source": [
    "# 동영상\n",
    "- source에 동영상 파일 경로를 지정한다.\n",
    "    - frame 단위로 추론한다."
   ]
  },
  {
   "cell_type": "code",
   "execution_count": 26,
   "id": "b71e8669",
   "metadata": {
    "ExecuteTime": {
     "end_time": "2023-03-09T08:34:43.616386Z",
     "start_time": "2023-03-09T08:27:33.234916Z"
    },
    "scrolled": false
   },
   "outputs": [
    {
     "name": "stderr",
     "output_type": "stream",
     "text": [
      "\n",
      "video 1/1 (1/1501) C:\\Classes\\07_vision\\yolo\\test_image\\hiway.mp4: 384x640 11 cars, 156.5ms\n",
      "video 1/1 (2/1501) C:\\Classes\\07_vision\\yolo\\test_image\\hiway.mp4: 384x640 10 cars, 236.7ms\n",
      "video 1/1 (3/1501) C:\\Classes\\07_vision\\yolo\\test_image\\hiway.mp4: 384x640 11 cars, 277.8ms\n",
      "video 1/1 (4/1501) C:\\Classes\\07_vision\\yolo\\test_image\\hiway.mp4: 384x640 11 cars, 279.6ms\n",
      "video 1/1 (5/1501) C:\\Classes\\07_vision\\yolo\\test_image\\hiway.mp4: 384x640 11 cars, 237.1ms\n",
      "video 1/1 (6/1501) C:\\Classes\\07_vision\\yolo\\test_image\\hiway.mp4: 384x640 10 cars, 252.4ms\n",
      "video 1/1 (7/1501) C:\\Classes\\07_vision\\yolo\\test_image\\hiway.mp4: 384x640 10 cars, 273.7ms\n",
      "video 1/1 (8/1501) C:\\Classes\\07_vision\\yolo\\test_image\\hiway.mp4: 384x640 11 cars, 592.2ms\n",
      "video 1/1 (9/1501) C:\\Classes\\07_vision\\yolo\\test_image\\hiway.mp4: 384x640 14 cars, 531.3ms\n",
      "video 1/1 (10/1501) C:\\Classes\\07_vision\\yolo\\test_image\\hiway.mp4: 384x640 10 cars, 378.3ms\n",
      "video 1/1 (11/1501) C:\\Classes\\07_vision\\yolo\\test_image\\hiway.mp4: 384x640 12 cars, 373.9ms\n",
      "video 1/1 (12/1501) C:\\Classes\\07_vision\\yolo\\test_image\\hiway.mp4: 384x640 10 cars, 394.9ms\n",
      "video 1/1 (13/1501) C:\\Classes\\07_vision\\yolo\\test_image\\hiway.mp4: 384x640 13 cars, 506.5ms\n",
      "video 1/1 (14/1501) C:\\Classes\\07_vision\\yolo\\test_image\\hiway.mp4: 384x640 12 cars, 282.7ms\n",
      "video 1/1 (15/1501) C:\\Classes\\07_vision\\yolo\\test_image\\hiway.mp4: 384x640 13 cars, 294.7ms\n",
      "video 1/1 (16/1501) C:\\Classes\\07_vision\\yolo\\test_image\\hiway.mp4: 384x640 12 cars, 490.7ms\n",
      "video 1/1 (17/1501) C:\\Classes\\07_vision\\yolo\\test_image\\hiway.mp4: 384x640 11 cars, 499.1ms\n",
      "video 1/1 (18/1501) C:\\Classes\\07_vision\\yolo\\test_image\\hiway.mp4: 384x640 12 cars, 333.1ms\n",
      "video 1/1 (19/1501) C:\\Classes\\07_vision\\yolo\\test_image\\hiway.mp4: 384x640 13 cars, 322.0ms\n",
      "video 1/1 (20/1501) C:\\Classes\\07_vision\\yolo\\test_image\\hiway.mp4: 384x640 11 cars, 408.0ms\n",
      "video 1/1 (21/1501) C:\\Classes\\07_vision\\yolo\\test_image\\hiway.mp4: 384x640 10 cars, 630.7ms\n",
      "video 1/1 (22/1501) C:\\Classes\\07_vision\\yolo\\test_image\\hiway.mp4: 384x640 11 cars, 270.6ms\n",
      "video 1/1 (23/1501) C:\\Classes\\07_vision\\yolo\\test_image\\hiway.mp4: 384x640 13 cars, 235.3ms\n",
      "video 1/1 (24/1501) C:\\Classes\\07_vision\\yolo\\test_image\\hiway.mp4: 384x640 11 cars, 228.4ms\n",
      "video 1/1 (25/1501) C:\\Classes\\07_vision\\yolo\\test_image\\hiway.mp4: 384x640 12 cars, 258.4ms\n",
      "video 1/1 (26/1501) C:\\Classes\\07_vision\\yolo\\test_image\\hiway.mp4: 384x640 12 cars, 265.8ms\n",
      "video 1/1 (27/1501) C:\\Classes\\07_vision\\yolo\\test_image\\hiway.mp4: 384x640 13 cars, 352.6ms\n",
      "video 1/1 (28/1501) C:\\Classes\\07_vision\\yolo\\test_image\\hiway.mp4: 384x640 14 cars, 290.1ms\n",
      "video 1/1 (29/1501) C:\\Classes\\07_vision\\yolo\\test_image\\hiway.mp4: 384x640 15 cars, 252.4ms\n",
      "video 1/1 (30/1501) C:\\Classes\\07_vision\\yolo\\test_image\\hiway.mp4: 384x640 12 cars, 219.0ms\n",
      "video 1/1 (31/1501) C:\\Classes\\07_vision\\yolo\\test_image\\hiway.mp4: 384x640 13 cars, 199.9ms\n",
      "video 1/1 (32/1501) C:\\Classes\\07_vision\\yolo\\test_image\\hiway.mp4: 384x640 11 cars, 206.4ms\n",
      "video 1/1 (33/1501) C:\\Classes\\07_vision\\yolo\\test_image\\hiway.mp4: 384x640 11 cars, 240.6ms\n",
      "video 1/1 (34/1501) C:\\Classes\\07_vision\\yolo\\test_image\\hiway.mp4: 384x640 12 cars, 1 bus, 252.3ms\n",
      "video 1/1 (35/1501) C:\\Classes\\07_vision\\yolo\\test_image\\hiway.mp4: 384x640 10 cars, 239.2ms\n",
      "video 1/1 (36/1501) C:\\Classes\\07_vision\\yolo\\test_image\\hiway.mp4: 384x640 8 cars, 242.1ms\n",
      "video 1/1 (37/1501) C:\\Classes\\07_vision\\yolo\\test_image\\hiway.mp4: 384x640 10 cars, 216.1ms\n",
      "video 1/1 (38/1501) C:\\Classes\\07_vision\\yolo\\test_image\\hiway.mp4: 384x640 9 cars, 213.3ms\n",
      "video 1/1 (39/1501) C:\\Classes\\07_vision\\yolo\\test_image\\hiway.mp4: 384x640 11 cars, 239.7ms\n",
      "video 1/1 (40/1501) C:\\Classes\\07_vision\\yolo\\test_image\\hiway.mp4: 384x640 11 cars, 217.6ms\n",
      "video 1/1 (41/1501) C:\\Classes\\07_vision\\yolo\\test_image\\hiway.mp4: 384x640 10 cars, 258.3ms\n",
      "video 1/1 (42/1501) C:\\Classes\\07_vision\\yolo\\test_image\\hiway.mp4: 384x640 8 cars, 233.9ms\n",
      "video 1/1 (43/1501) C:\\Classes\\07_vision\\yolo\\test_image\\hiway.mp4: 384x640 11 cars, 243.1ms\n",
      "video 1/1 (44/1501) C:\\Classes\\07_vision\\yolo\\test_image\\hiway.mp4: 384x640 10 cars, 227.6ms\n",
      "video 1/1 (45/1501) C:\\Classes\\07_vision\\yolo\\test_image\\hiway.mp4: 384x640 11 cars, 1 truck, 223.6ms\n",
      "video 1/1 (46/1501) C:\\Classes\\07_vision\\yolo\\test_image\\hiway.mp4: 384x640 10 cars, 220.3ms\n",
      "video 1/1 (47/1501) C:\\Classes\\07_vision\\yolo\\test_image\\hiway.mp4: 384x640 9 cars, 1 truck, 235.0ms\n",
      "video 1/1 (48/1501) C:\\Classes\\07_vision\\yolo\\test_image\\hiway.mp4: 384x640 9 cars, 1 truck, 251.0ms\n",
      "video 1/1 (49/1501) C:\\Classes\\07_vision\\yolo\\test_image\\hiway.mp4: 384x640 7 cars, 1 truck, 558.9ms\n",
      "video 1/1 (50/1501) C:\\Classes\\07_vision\\yolo\\test_image\\hiway.mp4: 384x640 9 cars, 1 truck, 316.6ms\n",
      "video 1/1 (51/1501) C:\\Classes\\07_vision\\yolo\\test_image\\hiway.mp4: 384x640 7 cars, 1 truck, 248.8ms\n",
      "video 1/1 (52/1501) C:\\Classes\\07_vision\\yolo\\test_image\\hiway.mp4: 384x640 8 cars, 1 truck, 231.6ms\n",
      "video 1/1 (53/1501) C:\\Classes\\07_vision\\yolo\\test_image\\hiway.mp4: 384x640 7 cars, 1 truck, 298.8ms\n",
      "video 1/1 (54/1501) C:\\Classes\\07_vision\\yolo\\test_image\\hiway.mp4: 384x640 8 cars, 239.8ms\n",
      "video 1/1 (55/1501) C:\\Classes\\07_vision\\yolo\\test_image\\hiway.mp4: 384x640 7 cars, 249.1ms\n",
      "video 1/1 (56/1501) C:\\Classes\\07_vision\\yolo\\test_image\\hiway.mp4: 384x640 8 cars, 267.5ms\n",
      "video 1/1 (57/1501) C:\\Classes\\07_vision\\yolo\\test_image\\hiway.mp4: 384x640 7 cars, 266.0ms\n",
      "video 1/1 (58/1501) C:\\Classes\\07_vision\\yolo\\test_image\\hiway.mp4: 384x640 7 cars, 225.7ms\n",
      "video 1/1 (59/1501) C:\\Classes\\07_vision\\yolo\\test_image\\hiway.mp4: 384x640 8 cars, 214.9ms\n",
      "video 1/1 (60/1501) C:\\Classes\\07_vision\\yolo\\test_image\\hiway.mp4: 384x640 8 cars, 213.9ms\n",
      "video 1/1 (61/1501) C:\\Classes\\07_vision\\yolo\\test_image\\hiway.mp4: 384x640 6 cars, 205.8ms\n",
      "video 1/1 (62/1501) C:\\Classes\\07_vision\\yolo\\test_image\\hiway.mp4: 384x640 7 cars, 253.6ms\n",
      "video 1/1 (63/1501) C:\\Classes\\07_vision\\yolo\\test_image\\hiway.mp4: 384x640 7 cars, 260.1ms\n",
      "video 1/1 (64/1501) C:\\Classes\\07_vision\\yolo\\test_image\\hiway.mp4: 384x640 9 cars, 280.9ms\n",
      "video 1/1 (65/1501) C:\\Classes\\07_vision\\yolo\\test_image\\hiway.mp4: 384x640 8 cars, 238.3ms\n",
      "video 1/1 (66/1501) C:\\Classes\\07_vision\\yolo\\test_image\\hiway.mp4: 384x640 8 cars, 240.0ms\n",
      "video 1/1 (67/1501) C:\\Classes\\07_vision\\yolo\\test_image\\hiway.mp4: 384x640 8 cars, 216.2ms\n",
      "video 1/1 (68/1501) C:\\Classes\\07_vision\\yolo\\test_image\\hiway.mp4: 384x640 9 cars, 235.2ms\n",
      "video 1/1 (69/1501) C:\\Classes\\07_vision\\yolo\\test_image\\hiway.mp4: 384x640 7 cars, 273.8ms\n",
      "video 1/1 (70/1501) C:\\Classes\\07_vision\\yolo\\test_image\\hiway.mp4: 384x640 8 cars, 305.0ms\n",
      "video 1/1 (71/1501) C:\\Classes\\07_vision\\yolo\\test_image\\hiway.mp4: 384x640 8 cars, 244.0ms\n",
      "video 1/1 (72/1501) C:\\Classes\\07_vision\\yolo\\test_image\\hiway.mp4: 384x640 9 cars, 381.6ms\n",
      "video 1/1 (73/1501) C:\\Classes\\07_vision\\yolo\\test_image\\hiway.mp4: 384x640 7 cars, 283.3ms\n",
      "video 1/1 (74/1501) C:\\Classes\\07_vision\\yolo\\test_image\\hiway.mp4: 384x640 9 cars, 426.5ms\n",
      "video 1/1 (75/1501) C:\\Classes\\07_vision\\yolo\\test_image\\hiway.mp4: 384x640 9 cars, 1 traffic light, 595.0ms\n",
      "video 1/1 (76/1501) C:\\Classes\\07_vision\\yolo\\test_image\\hiway.mp4: 384x640 7 cars, 263.1ms\n",
      "video 1/1 (77/1501) C:\\Classes\\07_vision\\yolo\\test_image\\hiway.mp4: 384x640 6 cars, 1 bus, 260.9ms\n",
      "video 1/1 (78/1501) C:\\Classes\\07_vision\\yolo\\test_image\\hiway.mp4: 384x640 8 cars, 234.1ms\n",
      "video 1/1 (79/1501) C:\\Classes\\07_vision\\yolo\\test_image\\hiway.mp4: 384x640 8 cars, 215.9ms\n",
      "video 1/1 (80/1501) C:\\Classes\\07_vision\\yolo\\test_image\\hiway.mp4: 384x640 8 cars, 215.2ms\n",
      "video 1/1 (81/1501) C:\\Classes\\07_vision\\yolo\\test_image\\hiway.mp4: 384x640 8 cars, 244.1ms\n",
      "video 1/1 (82/1501) C:\\Classes\\07_vision\\yolo\\test_image\\hiway.mp4: 384x640 8 cars, 216.0ms\n",
      "video 1/1 (83/1501) C:\\Classes\\07_vision\\yolo\\test_image\\hiway.mp4: 384x640 8 cars, 239.9ms\n",
      "video 1/1 (84/1501) C:\\Classes\\07_vision\\yolo\\test_image\\hiway.mp4: 384x640 8 cars, 265.3ms\n",
      "video 1/1 (85/1501) C:\\Classes\\07_vision\\yolo\\test_image\\hiway.mp4: 384x640 8 cars, 284.6ms\n",
      "video 1/1 (86/1501) C:\\Classes\\07_vision\\yolo\\test_image\\hiway.mp4: 384x640 7 cars, 214.6ms\n",
      "video 1/1 (87/1501) C:\\Classes\\07_vision\\yolo\\test_image\\hiway.mp4: 384x640 7 cars, 193.1ms\n",
      "video 1/1 (88/1501) C:\\Classes\\07_vision\\yolo\\test_image\\hiway.mp4: 384x640 8 cars, 265.8ms\n"
     ]
    },
    {
     "name": "stderr",
     "output_type": "stream",
     "text": [
      "video 1/1 (89/1501) C:\\Classes\\07_vision\\yolo\\test_image\\hiway.mp4: 384x640 7 cars, 1 truck, 240.8ms\n",
      "video 1/1 (90/1501) C:\\Classes\\07_vision\\yolo\\test_image\\hiway.mp4: 384x640 8 cars, 1 truck, 446.7ms\n",
      "video 1/1 (91/1501) C:\\Classes\\07_vision\\yolo\\test_image\\hiway.mp4: 384x640 7 cars, 1 bus, 1 truck, 236.5ms\n",
      "video 1/1 (92/1501) C:\\Classes\\07_vision\\yolo\\test_image\\hiway.mp4: 384x640 8 cars, 1 truck, 242.4ms\n",
      "video 1/1 (93/1501) C:\\Classes\\07_vision\\yolo\\test_image\\hiway.mp4: 384x640 9 cars, 477.9ms\n",
      "video 1/1 (94/1501) C:\\Classes\\07_vision\\yolo\\test_image\\hiway.mp4: 384x640 7 cars, 401.3ms\n",
      "video 1/1 (95/1501) C:\\Classes\\07_vision\\yolo\\test_image\\hiway.mp4: 384x640 7 cars, 377.6ms\n",
      "video 1/1 (96/1501) C:\\Classes\\07_vision\\yolo\\test_image\\hiway.mp4: 384x640 8 cars, 260.3ms\n",
      "video 1/1 (97/1501) C:\\Classes\\07_vision\\yolo\\test_image\\hiway.mp4: 384x640 7 cars, 493.7ms\n",
      "video 1/1 (98/1501) C:\\Classes\\07_vision\\yolo\\test_image\\hiway.mp4: 384x640 7 cars, 231.3ms\n",
      "video 1/1 (99/1501) C:\\Classes\\07_vision\\yolo\\test_image\\hiway.mp4: 384x640 6 cars, 301.6ms\n",
      "video 1/1 (100/1501) C:\\Classes\\07_vision\\yolo\\test_image\\hiway.mp4: 384x640 8 cars, 1 bus, 264.5ms\n",
      "video 1/1 (101/1501) C:\\Classes\\07_vision\\yolo\\test_image\\hiway.mp4: 384x640 6 cars, 1 truck, 163.9ms\n",
      "video 1/1 (102/1501) C:\\Classes\\07_vision\\yolo\\test_image\\hiway.mp4: 384x640 6 cars, 222.7ms\n",
      "video 1/1 (103/1501) C:\\Classes\\07_vision\\yolo\\test_image\\hiway.mp4: 384x640 6 cars, 1 truck, 283.5ms\n",
      "video 1/1 (104/1501) C:\\Classes\\07_vision\\yolo\\test_image\\hiway.mp4: 384x640 5 cars, 240.6ms\n",
      "video 1/1 (105/1501) C:\\Classes\\07_vision\\yolo\\test_image\\hiway.mp4: 384x640 5 cars, 295.3ms\n",
      "video 1/1 (106/1501) C:\\Classes\\07_vision\\yolo\\test_image\\hiway.mp4: 384x640 5 cars, 1 truck, 417.2ms\n",
      "video 1/1 (107/1501) C:\\Classes\\07_vision\\yolo\\test_image\\hiway.mp4: 384x640 4 cars, 291.0ms\n",
      "video 1/1 (108/1501) C:\\Classes\\07_vision\\yolo\\test_image\\hiway.mp4: 384x640 6 cars, 1 bus, 1 truck, 319.0ms\n",
      "video 1/1 (109/1501) C:\\Classes\\07_vision\\yolo\\test_image\\hiway.mp4: 384x640 7 cars, 1 bus, 288.9ms\n",
      "video 1/1 (110/1501) C:\\Classes\\07_vision\\yolo\\test_image\\hiway.mp4: 384x640 5 cars, 1 truck, 234.6ms\n",
      "video 1/1 (111/1501) C:\\Classes\\07_vision\\yolo\\test_image\\hiway.mp4: 384x640 6 cars, 2 trucks, 240.2ms\n",
      "video 1/1 (112/1501) C:\\Classes\\07_vision\\yolo\\test_image\\hiway.mp4: 384x640 8 cars, 1 bus, 1 truck, 223.4ms\n",
      "video 1/1 (113/1501) C:\\Classes\\07_vision\\yolo\\test_image\\hiway.mp4: 384x640 6 cars, 1 truck, 244.1ms\n",
      "video 1/1 (114/1501) C:\\Classes\\07_vision\\yolo\\test_image\\hiway.mp4: 384x640 8 cars, 2 trucks, 264.7ms\n",
      "video 1/1 (115/1501) C:\\Classes\\07_vision\\yolo\\test_image\\hiway.mp4: 384x640 5 cars, 2 trucks, 272.5ms\n",
      "video 1/1 (116/1501) C:\\Classes\\07_vision\\yolo\\test_image\\hiway.mp4: 384x640 7 cars, 1 truck, 268.1ms\n",
      "video 1/1 (117/1501) C:\\Classes\\07_vision\\yolo\\test_image\\hiway.mp4: 384x640 6 cars, 244.0ms\n",
      "video 1/1 (118/1501) C:\\Classes\\07_vision\\yolo\\test_image\\hiway.mp4: 384x640 4 cars, 1 truck, 217.0ms\n",
      "video 1/1 (119/1501) C:\\Classes\\07_vision\\yolo\\test_image\\hiway.mp4: 384x640 4 cars, 2 trucks, 233.6ms\n",
      "video 1/1 (120/1501) C:\\Classes\\07_vision\\yolo\\test_image\\hiway.mp4: 384x640 6 cars, 2 trucks, 234.0ms\n",
      "video 1/1 (121/1501) C:\\Classes\\07_vision\\yolo\\test_image\\hiway.mp4: 384x640 4 cars, 2 trucks, 224.4ms\n",
      "video 1/1 (122/1501) C:\\Classes\\07_vision\\yolo\\test_image\\hiway.mp4: 384x640 3 cars, 2 trucks, 260.5ms\n",
      "video 1/1 (123/1501) C:\\Classes\\07_vision\\yolo\\test_image\\hiway.mp4: 384x640 4 cars, 2 trucks, 263.5ms\n",
      "video 1/1 (124/1501) C:\\Classes\\07_vision\\yolo\\test_image\\hiway.mp4: 384x640 4 cars, 2 trucks, 287.5ms\n",
      "video 1/1 (125/1501) C:\\Classes\\07_vision\\yolo\\test_image\\hiway.mp4: 384x640 3 cars, 2 trucks, 227.6ms\n",
      "video 1/1 (126/1501) C:\\Classes\\07_vision\\yolo\\test_image\\hiway.mp4: 384x640 3 cars, 2 trucks, 243.9ms\n",
      "video 1/1 (127/1501) C:\\Classes\\07_vision\\yolo\\test_image\\hiway.mp4: 384x640 3 cars, 2 trucks, 219.2ms\n",
      "video 1/1 (128/1501) C:\\Classes\\07_vision\\yolo\\test_image\\hiway.mp4: 384x640 5 cars, 1 truck, 265.1ms\n",
      "video 1/1 (129/1501) C:\\Classes\\07_vision\\yolo\\test_image\\hiway.mp4: 384x640 4 cars, 2 trucks, 304.9ms\n",
      "video 1/1 (130/1501) C:\\Classes\\07_vision\\yolo\\test_image\\hiway.mp4: 384x640 5 cars, 1 truck, 296.9ms\n",
      "video 1/1 (131/1501) C:\\Classes\\07_vision\\yolo\\test_image\\hiway.mp4: 384x640 4 cars, 1 truck, 240.0ms\n",
      "video 1/1 (132/1501) C:\\Classes\\07_vision\\yolo\\test_image\\hiway.mp4: 384x640 5 cars, 2 trucks, 233.4ms\n",
      "video 1/1 (133/1501) C:\\Classes\\07_vision\\yolo\\test_image\\hiway.mp4: 384x640 4 cars, 1 truck, 251.4ms\n",
      "video 1/1 (134/1501) C:\\Classes\\07_vision\\yolo\\test_image\\hiway.mp4: 384x640 4 cars, 1 truck, 244.7ms\n",
      "video 1/1 (135/1501) C:\\Classes\\07_vision\\yolo\\test_image\\hiway.mp4: 384x640 4 cars, 1 truck, 227.2ms\n",
      "video 1/1 (136/1501) C:\\Classes\\07_vision\\yolo\\test_image\\hiway.mp4: 384x640 4 cars, 1 truck, 262.7ms\n",
      "video 1/1 (137/1501) C:\\Classes\\07_vision\\yolo\\test_image\\hiway.mp4: 384x640 4 cars, 2 trucks, 260.1ms\n",
      "video 1/1 (138/1501) C:\\Classes\\07_vision\\yolo\\test_image\\hiway.mp4: 384x640 5 cars, 1 truck, 281.9ms\n",
      "video 1/1 (139/1501) C:\\Classes\\07_vision\\yolo\\test_image\\hiway.mp4: 384x640 5 cars, 1 truck, 240.2ms\n",
      "video 1/1 (140/1501) C:\\Classes\\07_vision\\yolo\\test_image\\hiway.mp4: 384x640 6 cars, 1 truck, 202.4ms\n",
      "video 1/1 (141/1501) C:\\Classes\\07_vision\\yolo\\test_image\\hiway.mp4: 384x640 6 cars, 1 truck, 233.2ms\n",
      "video 1/1 (142/1501) C:\\Classes\\07_vision\\yolo\\test_image\\hiway.mp4: 384x640 7 cars, 206.8ms\n",
      "video 1/1 (143/1501) C:\\Classes\\07_vision\\yolo\\test_image\\hiway.mp4: 384x640 6 cars, 229.8ms\n",
      "video 1/1 (144/1501) C:\\Classes\\07_vision\\yolo\\test_image\\hiway.mp4: 384x640 7 cars, 1 truck, 234.5ms\n",
      "video 1/1 (145/1501) C:\\Classes\\07_vision\\yolo\\test_image\\hiway.mp4: 384x640 5 cars, 1 truck, 240.1ms\n",
      "video 1/1 (146/1501) C:\\Classes\\07_vision\\yolo\\test_image\\hiway.mp4: 384x640 7 cars, 1 truck, 284.5ms\n",
      "video 1/1 (147/1501) C:\\Classes\\07_vision\\yolo\\test_image\\hiway.mp4: 384x640 7 cars, 1 truck, 254.2ms\n",
      "video 1/1 (148/1501) C:\\Classes\\07_vision\\yolo\\test_image\\hiway.mp4: 384x640 8 cars, 1 truck, 208.2ms\n",
      "video 1/1 (149/1501) C:\\Classes\\07_vision\\yolo\\test_image\\hiway.mp4: 384x640 8 cars, 1 truck, 202.2ms\n",
      "video 1/1 (150/1501) C:\\Classes\\07_vision\\yolo\\test_image\\hiway.mp4: 384x640 5 cars, 1 truck, 201.1ms\n",
      "video 1/1 (151/1501) C:\\Classes\\07_vision\\yolo\\test_image\\hiway.mp4: 384x640 6 cars, 1 truck, 227.0ms\n",
      "video 1/1 (152/1501) C:\\Classes\\07_vision\\yolo\\test_image\\hiway.mp4: 384x640 8 cars, 308.8ms\n",
      "video 1/1 (153/1501) C:\\Classes\\07_vision\\yolo\\test_image\\hiway.mp4: 384x640 9 cars, 242.9ms\n",
      "video 1/1 (154/1501) C:\\Classes\\07_vision\\yolo\\test_image\\hiway.mp4: 384x640 8 cars, 340.6ms\n",
      "video 1/1 (155/1501) C:\\Classes\\07_vision\\yolo\\test_image\\hiway.mp4: 384x640 12 cars, 231.5ms\n",
      "video 1/1 (156/1501) C:\\Classes\\07_vision\\yolo\\test_image\\hiway.mp4: 384x640 8 cars, 1 truck, 203.8ms\n",
      "video 1/1 (157/1501) C:\\Classes\\07_vision\\yolo\\test_image\\hiway.mp4: 384x640 8 cars, 217.6ms\n",
      "video 1/1 (158/1501) C:\\Classes\\07_vision\\yolo\\test_image\\hiway.mp4: 384x640 11 cars, 231.6ms\n",
      "video 1/1 (159/1501) C:\\Classes\\07_vision\\yolo\\test_image\\hiway.mp4: 384x640 11 cars, 266.1ms\n",
      "video 1/1 (160/1501) C:\\Classes\\07_vision\\yolo\\test_image\\hiway.mp4: 384x640 10 cars, 1 truck, 281.3ms\n",
      "video 1/1 (161/1501) C:\\Classes\\07_vision\\yolo\\test_image\\hiway.mp4: 384x640 10 cars, 2 trucks, 274.7ms\n",
      "video 1/1 (162/1501) C:\\Classes\\07_vision\\yolo\\test_image\\hiway.mp4: 384x640 10 cars, 1 truck, 229.4ms\n",
      "video 1/1 (163/1501) C:\\Classes\\07_vision\\yolo\\test_image\\hiway.mp4: 384x640 12 cars, 222.1ms\n",
      "video 1/1 (164/1501) C:\\Classes\\07_vision\\yolo\\test_image\\hiway.mp4: 384x640 12 cars, 218.6ms\n",
      "video 1/1 (165/1501) C:\\Classes\\07_vision\\yolo\\test_image\\hiway.mp4: 384x640 13 cars, 1 truck, 211.9ms\n",
      "video 1/1 (166/1501) C:\\Classes\\07_vision\\yolo\\test_image\\hiway.mp4: 384x640 15 cars, 1 truck, 238.5ms\n",
      "video 1/1 (167/1501) C:\\Classes\\07_vision\\yolo\\test_image\\hiway.mp4: 384x640 14 cars, 255.6ms\n",
      "video 1/1 (168/1501) C:\\Classes\\07_vision\\yolo\\test_image\\hiway.mp4: 384x640 15 cars, 1 truck, 287.1ms\n",
      "video 1/1 (169/1501) C:\\Classes\\07_vision\\yolo\\test_image\\hiway.mp4: 384x640 13 cars, 250.7ms\n",
      "video 1/1 (170/1501) C:\\Classes\\07_vision\\yolo\\test_image\\hiway.mp4: 384x640 13 cars, 255.7ms\n",
      "video 1/1 (171/1501) C:\\Classes\\07_vision\\yolo\\test_image\\hiway.mp4: 384x640 11 cars, 194.7ms\n"
     ]
    },
    {
     "name": "stderr",
     "output_type": "stream",
     "text": [
      "video 1/1 (172/1501) C:\\Classes\\07_vision\\yolo\\test_image\\hiway.mp4: 384x640 11 cars, 255.8ms\n",
      "video 1/1 (173/1501) C:\\Classes\\07_vision\\yolo\\test_image\\hiway.mp4: 384x640 11 cars, 1 bus, 198.0ms\n",
      "video 1/1 (174/1501) C:\\Classes\\07_vision\\yolo\\test_image\\hiway.mp4: 384x640 11 cars, 283.5ms\n",
      "video 1/1 (175/1501) C:\\Classes\\07_vision\\yolo\\test_image\\hiway.mp4: 384x640 13 cars, 264.4ms\n",
      "video 1/1 (176/1501) C:\\Classes\\07_vision\\yolo\\test_image\\hiway.mp4: 384x640 10 cars, 272.2ms\n",
      "video 1/1 (177/1501) C:\\Classes\\07_vision\\yolo\\test_image\\hiway.mp4: 384x640 12 cars, 233.4ms\n",
      "video 1/1 (178/1501) C:\\Classes\\07_vision\\yolo\\test_image\\hiway.mp4: 384x640 12 cars, 223.9ms\n",
      "video 1/1 (179/1501) C:\\Classes\\07_vision\\yolo\\test_image\\hiway.mp4: 384x640 12 cars, 252.2ms\n",
      "video 1/1 (180/1501) C:\\Classes\\07_vision\\yolo\\test_image\\hiway.mp4: 384x640 12 cars, 212.6ms\n",
      "video 1/1 (181/1501) C:\\Classes\\07_vision\\yolo\\test_image\\hiway.mp4: 384x640 12 cars, 215.5ms\n",
      "video 1/1 (182/1501) C:\\Classes\\07_vision\\yolo\\test_image\\hiway.mp4: 384x640 11 cars, 1 truck, 251.4ms\n",
      "video 1/1 (183/1501) C:\\Classes\\07_vision\\yolo\\test_image\\hiway.mp4: 384x640 13 cars, 2 trucks, 239.3ms\n",
      "video 1/1 (184/1501) C:\\Classes\\07_vision\\yolo\\test_image\\hiway.mp4: 384x640 12 cars, 1 truck, 250.7ms\n",
      "video 1/1 (185/1501) C:\\Classes\\07_vision\\yolo\\test_image\\hiway.mp4: 384x640 15 cars, 257.3ms\n",
      "video 1/1 (186/1501) C:\\Classes\\07_vision\\yolo\\test_image\\hiway.mp4: 384x640 15 cars, 208.4ms\n",
      "video 1/1 (187/1501) C:\\Classes\\07_vision\\yolo\\test_image\\hiway.mp4: 384x640 17 cars, 208.7ms\n",
      "video 1/1 (188/1501) C:\\Classes\\07_vision\\yolo\\test_image\\hiway.mp4: 384x640 14 cars, 232.0ms\n",
      "video 1/1 (189/1501) C:\\Classes\\07_vision\\yolo\\test_image\\hiway.mp4: 384x640 14 cars, 1 bus, 230.9ms\n",
      "video 1/1 (190/1501) C:\\Classes\\07_vision\\yolo\\test_image\\hiway.mp4: 384x640 17 cars, 247.3ms\n",
      "video 1/1 (191/1501) C:\\Classes\\07_vision\\yolo\\test_image\\hiway.mp4: 384x640 17 cars, 1 truck, 239.4ms\n",
      "video 1/1 (192/1501) C:\\Classes\\07_vision\\yolo\\test_image\\hiway.mp4: 384x640 16 cars, 242.7ms\n",
      "video 1/1 (193/1501) C:\\Classes\\07_vision\\yolo\\test_image\\hiway.mp4: 384x640 14 cars, 195.5ms\n",
      "video 1/1 (194/1501) C:\\Classes\\07_vision\\yolo\\test_image\\hiway.mp4: 384x640 15 cars, 218.8ms\n",
      "video 1/1 (195/1501) C:\\Classes\\07_vision\\yolo\\test_image\\hiway.mp4: 384x640 13 cars, 185.1ms\n",
      "video 1/1 (196/1501) C:\\Classes\\07_vision\\yolo\\test_image\\hiway.mp4: 384x640 12 cars, 212.0ms\n",
      "video 1/1 (197/1501) C:\\Classes\\07_vision\\yolo\\test_image\\hiway.mp4: 384x640 13 cars, 247.6ms\n",
      "video 1/1 (198/1501) C:\\Classes\\07_vision\\yolo\\test_image\\hiway.mp4: 384x640 16 cars, 245.3ms\n",
      "video 1/1 (199/1501) C:\\Classes\\07_vision\\yolo\\test_image\\hiway.mp4: 384x640 15 cars, 219.8ms\n",
      "video 1/1 (200/1501) C:\\Classes\\07_vision\\yolo\\test_image\\hiway.mp4: 384x640 14 cars, 267.6ms\n",
      "video 1/1 (201/1501) C:\\Classes\\07_vision\\yolo\\test_image\\hiway.mp4: 384x640 12 cars, 211.1ms\n",
      "video 1/1 (202/1501) C:\\Classes\\07_vision\\yolo\\test_image\\hiway.mp4: 384x640 13 cars, 216.7ms\n",
      "video 1/1 (203/1501) C:\\Classes\\07_vision\\yolo\\test_image\\hiway.mp4: 384x640 15 cars, 190.6ms\n",
      "video 1/1 (204/1501) C:\\Classes\\07_vision\\yolo\\test_image\\hiway.mp4: 384x640 15 cars, 167.3ms\n",
      "video 1/1 (205/1501) C:\\Classes\\07_vision\\yolo\\test_image\\hiway.mp4: 384x640 15 cars, 267.8ms\n",
      "video 1/1 (206/1501) C:\\Classes\\07_vision\\yolo\\test_image\\hiway.mp4: 384x640 16 cars, 299.5ms\n",
      "video 1/1 (207/1501) C:\\Classes\\07_vision\\yolo\\test_image\\hiway.mp4: 384x640 15 cars, 189.6ms\n",
      "video 1/1 (208/1501) C:\\Classes\\07_vision\\yolo\\test_image\\hiway.mp4: 384x640 15 cars, 252.1ms\n",
      "video 1/1 (209/1501) C:\\Classes\\07_vision\\yolo\\test_image\\hiway.mp4: 384x640 16 cars, 198.1ms\n",
      "video 1/1 (210/1501) C:\\Classes\\07_vision\\yolo\\test_image\\hiway.mp4: 384x640 15 cars, 155.7ms\n",
      "video 1/1 (211/1501) C:\\Classes\\07_vision\\yolo\\test_image\\hiway.mp4: 384x640 15 cars, 166.0ms\n",
      "video 1/1 (212/1501) C:\\Classes\\07_vision\\yolo\\test_image\\hiway.mp4: 384x640 16 cars, 220.2ms\n",
      "video 1/1 (213/1501) C:\\Classes\\07_vision\\yolo\\test_image\\hiway.mp4: 384x640 16 cars, 220.3ms\n",
      "video 1/1 (214/1501) C:\\Classes\\07_vision\\yolo\\test_image\\hiway.mp4: 384x640 17 cars, 226.3ms\n",
      "video 1/1 (215/1501) C:\\Classes\\07_vision\\yolo\\test_image\\hiway.mp4: 384x640 17 cars, 253.8ms\n",
      "video 1/1 (216/1501) C:\\Classes\\07_vision\\yolo\\test_image\\hiway.mp4: 384x640 15 cars, 240.0ms\n",
      "video 1/1 (217/1501) C:\\Classes\\07_vision\\yolo\\test_image\\hiway.mp4: 384x640 15 cars, 273.9ms\n",
      "video 1/1 (218/1501) C:\\Classes\\07_vision\\yolo\\test_image\\hiway.mp4: 384x640 17 cars, 187.4ms\n",
      "video 1/1 (219/1501) C:\\Classes\\07_vision\\yolo\\test_image\\hiway.mp4: 384x640 14 cars, 185.0ms\n",
      "video 1/1 (220/1501) C:\\Classes\\07_vision\\yolo\\test_image\\hiway.mp4: 384x640 13 cars, 232.0ms\n",
      "video 1/1 (221/1501) C:\\Classes\\07_vision\\yolo\\test_image\\hiway.mp4: 384x640 14 cars, 249.6ms\n",
      "video 1/1 (222/1501) C:\\Classes\\07_vision\\yolo\\test_image\\hiway.mp4: 384x640 14 cars, 251.7ms\n",
      "video 1/1 (223/1501) C:\\Classes\\07_vision\\yolo\\test_image\\hiway.mp4: 384x640 13 cars, 235.9ms\n",
      "video 1/1 (224/1501) C:\\Classes\\07_vision\\yolo\\test_image\\hiway.mp4: 384x640 15 cars, 252.3ms\n",
      "video 1/1 (225/1501) C:\\Classes\\07_vision\\yolo\\test_image\\hiway.mp4: 384x640 15 cars, 232.9ms\n",
      "video 1/1 (226/1501) C:\\Classes\\07_vision\\yolo\\test_image\\hiway.mp4: 384x640 12 cars, 218.9ms\n",
      "video 1/1 (227/1501) C:\\Classes\\07_vision\\yolo\\test_image\\hiway.mp4: 384x640 12 cars, 186.4ms\n",
      "video 1/1 (228/1501) C:\\Classes\\07_vision\\yolo\\test_image\\hiway.mp4: 384x640 12 cars, 249.9ms\n",
      "video 1/1 (229/1501) C:\\Classes\\07_vision\\yolo\\test_image\\hiway.mp4: 384x640 10 cars, 188.5ms\n",
      "video 1/1 (230/1501) C:\\Classes\\07_vision\\yolo\\test_image\\hiway.mp4: 384x640 11 cars, 248.4ms\n",
      "video 1/1 (231/1501) C:\\Classes\\07_vision\\yolo\\test_image\\hiway.mp4: 384x640 10 cars, 239.2ms\n",
      "video 1/1 (232/1501) C:\\Classes\\07_vision\\yolo\\test_image\\hiway.mp4: 384x640 11 cars, 247.1ms\n",
      "video 1/1 (233/1501) C:\\Classes\\07_vision\\yolo\\test_image\\hiway.mp4: 384x640 10 cars, 220.5ms\n",
      "video 1/1 (234/1501) C:\\Classes\\07_vision\\yolo\\test_image\\hiway.mp4: 384x640 8 cars, 200.2ms\n",
      "video 1/1 (235/1501) C:\\Classes\\07_vision\\yolo\\test_image\\hiway.mp4: 384x640 10 cars, 203.8ms\n",
      "video 1/1 (236/1501) C:\\Classes\\07_vision\\yolo\\test_image\\hiway.mp4: 384x640 10 cars, 205.6ms\n",
      "video 1/1 (237/1501) C:\\Classes\\07_vision\\yolo\\test_image\\hiway.mp4: 384x640 11 cars, 200.5ms\n",
      "video 1/1 (238/1501) C:\\Classes\\07_vision\\yolo\\test_image\\hiway.mp4: 384x640 10 cars, 233.5ms\n",
      "video 1/1 (239/1501) C:\\Classes\\07_vision\\yolo\\test_image\\hiway.mp4: 384x640 10 cars, 280.3ms\n",
      "video 1/1 (240/1501) C:\\Classes\\07_vision\\yolo\\test_image\\hiway.mp4: 384x640 9 cars, 259.5ms\n",
      "video 1/1 (241/1501) C:\\Classes\\07_vision\\yolo\\test_image\\hiway.mp4: 384x640 9 cars, 199.5ms\n",
      "video 1/1 (242/1501) C:\\Classes\\07_vision\\yolo\\test_image\\hiway.mp4: 384x640 9 cars, 254.1ms\n",
      "video 1/1 (243/1501) C:\\Classes\\07_vision\\yolo\\test_image\\hiway.mp4: 384x640 10 cars, 231.9ms\n",
      "video 1/1 (244/1501) C:\\Classes\\07_vision\\yolo\\test_image\\hiway.mp4: 384x640 9 cars, 192.9ms\n",
      "video 1/1 (245/1501) C:\\Classes\\07_vision\\yolo\\test_image\\hiway.mp4: 384x640 11 cars, 222.5ms\n",
      "video 1/1 (246/1501) C:\\Classes\\07_vision\\yolo\\test_image\\hiway.mp4: 384x640 10 cars, 232.4ms\n",
      "video 1/1 (247/1501) C:\\Classes\\07_vision\\yolo\\test_image\\hiway.mp4: 384x640 11 cars, 246.4ms\n",
      "video 1/1 (248/1501) C:\\Classes\\07_vision\\yolo\\test_image\\hiway.mp4: 384x640 10 cars, 271.6ms\n",
      "video 1/1 (249/1501) C:\\Classes\\07_vision\\yolo\\test_image\\hiway.mp4: 384x640 8 cars, 223.9ms\n",
      "video 1/1 (250/1501) C:\\Classes\\07_vision\\yolo\\test_image\\hiway.mp4: 384x640 9 cars, 206.6ms\n",
      "video 1/1 (251/1501) C:\\Classes\\07_vision\\yolo\\test_image\\hiway.mp4: 384x640 9 cars, 210.3ms\n",
      "video 1/1 (252/1501) C:\\Classes\\07_vision\\yolo\\test_image\\hiway.mp4: 384x640 7 cars, 229.5ms\n",
      "video 1/1 (253/1501) C:\\Classes\\07_vision\\yolo\\test_image\\hiway.mp4: 384x640 8 cars, 265.4ms\n",
      "video 1/1 (254/1501) C:\\Classes\\07_vision\\yolo\\test_image\\hiway.mp4: 384x640 8 cars, 246.5ms\n",
      "video 1/1 (255/1501) C:\\Classes\\07_vision\\yolo\\test_image\\hiway.mp4: 384x640 8 cars, 283.1ms\n",
      "video 1/1 (256/1501) C:\\Classes\\07_vision\\yolo\\test_image\\hiway.mp4: 384x640 7 cars, 258.9ms\n",
      "video 1/1 (257/1501) C:\\Classes\\07_vision\\yolo\\test_image\\hiway.mp4: 384x640 7 cars, 207.0ms\n",
      "video 1/1 (258/1501) C:\\Classes\\07_vision\\yolo\\test_image\\hiway.mp4: 384x640 7 cars, 215.9ms\n"
     ]
    },
    {
     "name": "stderr",
     "output_type": "stream",
     "text": [
      "video 1/1 (259/1501) C:\\Classes\\07_vision\\yolo\\test_image\\hiway.mp4: 384x640 10 cars, 197.7ms\n",
      "video 1/1 (260/1501) C:\\Classes\\07_vision\\yolo\\test_image\\hiway.mp4: 384x640 9 cars, 207.1ms\n",
      "video 1/1 (261/1501) C:\\Classes\\07_vision\\yolo\\test_image\\hiway.mp4: 384x640 7 cars, 217.1ms\n",
      "video 1/1 (262/1501) C:\\Classes\\07_vision\\yolo\\test_image\\hiway.mp4: 384x640 4 cars, 205.5ms\n",
      "video 1/1 (263/1501) C:\\Classes\\07_vision\\yolo\\test_image\\hiway.mp4: 384x640 6 cars, 202.3ms\n",
      "video 1/1 (264/1501) C:\\Classes\\07_vision\\yolo\\test_image\\hiway.mp4: 384x640 4 cars, 257.5ms\n",
      "video 1/1 (265/1501) C:\\Classes\\07_vision\\yolo\\test_image\\hiway.mp4: 384x640 5 cars, 198.5ms\n",
      "video 1/1 (266/1501) C:\\Classes\\07_vision\\yolo\\test_image\\hiway.mp4: 384x640 6 cars, 166.3ms\n",
      "video 1/1 (267/1501) C:\\Classes\\07_vision\\yolo\\test_image\\hiway.mp4: 384x640 5 cars, 172.8ms\n",
      "video 1/1 (268/1501) C:\\Classes\\07_vision\\yolo\\test_image\\hiway.mp4: 384x640 4 cars, 217.0ms\n",
      "video 1/1 (269/1501) C:\\Classes\\07_vision\\yolo\\test_image\\hiway.mp4: 384x640 3 cars, 194.6ms\n",
      "video 1/1 (270/1501) C:\\Classes\\07_vision\\yolo\\test_image\\hiway.mp4: 384x640 2 cars, 214.9ms\n",
      "video 1/1 (271/1501) C:\\Classes\\07_vision\\yolo\\test_image\\hiway.mp4: 384x640 2 cars, 239.7ms\n",
      "video 1/1 (272/1501) C:\\Classes\\07_vision\\yolo\\test_image\\hiway.mp4: 384x640 2 cars, 237.4ms\n",
      "video 1/1 (273/1501) C:\\Classes\\07_vision\\yolo\\test_image\\hiway.mp4: 384x640 2 cars, 154.3ms\n",
      "video 1/1 (274/1501) C:\\Classes\\07_vision\\yolo\\test_image\\hiway.mp4: 384x640 2 cars, 164.4ms\n",
      "video 1/1 (275/1501) C:\\Classes\\07_vision\\yolo\\test_image\\hiway.mp4: 384x640 2 cars, 150.1ms\n",
      "video 1/1 (276/1501) C:\\Classes\\07_vision\\yolo\\test_image\\hiway.mp4: 384x640 2 cars, 228.6ms\n",
      "video 1/1 (277/1501) C:\\Classes\\07_vision\\yolo\\test_image\\hiway.mp4: 384x640 3 cars, 185.8ms\n",
      "video 1/1 (278/1501) C:\\Classes\\07_vision\\yolo\\test_image\\hiway.mp4: 384x640 2 cars, 179.0ms\n",
      "video 1/1 (279/1501) C:\\Classes\\07_vision\\yolo\\test_image\\hiway.mp4: 384x640 2 cars, 271.6ms\n",
      "video 1/1 (280/1501) C:\\Classes\\07_vision\\yolo\\test_image\\hiway.mp4: 384x640 1 car, 235.5ms\n",
      "video 1/1 (281/1501) C:\\Classes\\07_vision\\yolo\\test_image\\hiway.mp4: 384x640 2 cars, 213.0ms\n",
      "video 1/1 (282/1501) C:\\Classes\\07_vision\\yolo\\test_image\\hiway.mp4: 384x640 2 cars, 274.9ms\n",
      "video 1/1 (283/1501) C:\\Classes\\07_vision\\yolo\\test_image\\hiway.mp4: 384x640 2 cars, 180.4ms\n",
      "video 1/1 (284/1501) C:\\Classes\\07_vision\\yolo\\test_image\\hiway.mp4: 384x640 2 cars, 206.1ms\n",
      "video 1/1 (285/1501) C:\\Classes\\07_vision\\yolo\\test_image\\hiway.mp4: 384x640 2 cars, 200.6ms\n",
      "video 1/1 (286/1501) C:\\Classes\\07_vision\\yolo\\test_image\\hiway.mp4: 384x640 1 car, 189.2ms\n",
      "video 1/1 (287/1501) C:\\Classes\\07_vision\\yolo\\test_image\\hiway.mp4: 384x640 1 car, 258.7ms\n",
      "video 1/1 (288/1501) C:\\Classes\\07_vision\\yolo\\test_image\\hiway.mp4: 384x640 2 cars, 259.4ms\n",
      "video 1/1 (289/1501) C:\\Classes\\07_vision\\yolo\\test_image\\hiway.mp4: 384x640 2 cars, 184.6ms\n",
      "video 1/1 (290/1501) C:\\Classes\\07_vision\\yolo\\test_image\\hiway.mp4: 384x640 3 cars, 298.1ms\n",
      "video 1/1 (291/1501) C:\\Classes\\07_vision\\yolo\\test_image\\hiway.mp4: 384x640 4 cars, 205.2ms\n",
      "video 1/1 (292/1501) C:\\Classes\\07_vision\\yolo\\test_image\\hiway.mp4: 384x640 4 cars, 226.1ms\n",
      "video 1/1 (293/1501) C:\\Classes\\07_vision\\yolo\\test_image\\hiway.mp4: 384x640 3 cars, 200.1ms\n",
      "video 1/1 (294/1501) C:\\Classes\\07_vision\\yolo\\test_image\\hiway.mp4: 384x640 5 cars, 192.6ms\n",
      "video 1/1 (295/1501) C:\\Classes\\07_vision\\yolo\\test_image\\hiway.mp4: 384x640 4 cars, 262.2ms\n",
      "video 1/1 (296/1501) C:\\Classes\\07_vision\\yolo\\test_image\\hiway.mp4: 384x640 4 cars, 251.1ms\n",
      "video 1/1 (297/1501) C:\\Classes\\07_vision\\yolo\\test_image\\hiway.mp4: 384x640 4 cars, 312.0ms\n",
      "video 1/1 (298/1501) C:\\Classes\\07_vision\\yolo\\test_image\\hiway.mp4: 384x640 6 cars, 326.9ms\n",
      "video 1/1 (299/1501) C:\\Classes\\07_vision\\yolo\\test_image\\hiway.mp4: 384x640 5 cars, 304.7ms\n",
      "video 1/1 (300/1501) C:\\Classes\\07_vision\\yolo\\test_image\\hiway.mp4: 384x640 8 cars, 367.1ms\n",
      "video 1/1 (301/1501) C:\\Classes\\07_vision\\yolo\\test_image\\hiway.mp4: 384x640 6 cars, 235.8ms\n",
      "video 1/1 (302/1501) C:\\Classes\\07_vision\\yolo\\test_image\\hiway.mp4: 384x640 7 cars, 243.6ms\n",
      "video 1/1 (303/1501) C:\\Classes\\07_vision\\yolo\\test_image\\hiway.mp4: 384x640 5 cars, 356.5ms\n",
      "video 1/1 (304/1501) C:\\Classes\\07_vision\\yolo\\test_image\\hiway.mp4: 384x640 5 cars, 205.6ms\n",
      "video 1/1 (305/1501) C:\\Classes\\07_vision\\yolo\\test_image\\hiway.mp4: 384x640 5 cars, 343.6ms\n",
      "video 1/1 (306/1501) C:\\Classes\\07_vision\\yolo\\test_image\\hiway.mp4: 384x640 5 cars, 340.3ms\n",
      "video 1/1 (307/1501) C:\\Classes\\07_vision\\yolo\\test_image\\hiway.mp4: 384x640 6 cars, 339.7ms\n",
      "video 1/1 (308/1501) C:\\Classes\\07_vision\\yolo\\test_image\\hiway.mp4: 384x640 5 cars, 243.6ms\n",
      "video 1/1 (309/1501) C:\\Classes\\07_vision\\yolo\\test_image\\hiway.mp4: 384x640 5 cars, 315.2ms\n",
      "video 1/1 (310/1501) C:\\Classes\\07_vision\\yolo\\test_image\\hiway.mp4: 384x640 7 cars, 317.3ms\n",
      "video 1/1 (311/1501) C:\\Classes\\07_vision\\yolo\\test_image\\hiway.mp4: 384x640 7 cars, 284.5ms\n",
      "video 1/1 (312/1501) C:\\Classes\\07_vision\\yolo\\test_image\\hiway.mp4: 384x640 8 cars, 305.9ms\n",
      "video 1/1 (313/1501) C:\\Classes\\07_vision\\yolo\\test_image\\hiway.mp4: 384x640 7 cars, 234.5ms\n",
      "video 1/1 (314/1501) C:\\Classes\\07_vision\\yolo\\test_image\\hiway.mp4: 384x640 6 cars, 243.2ms\n",
      "video 1/1 (315/1501) C:\\Classes\\07_vision\\yolo\\test_image\\hiway.mp4: 384x640 6 cars, 288.2ms\n",
      "video 1/1 (316/1501) C:\\Classes\\07_vision\\yolo\\test_image\\hiway.mp4: 384x640 5 cars, 277.8ms\n",
      "video 1/1 (317/1501) C:\\Classes\\07_vision\\yolo\\test_image\\hiway.mp4: 384x640 6 cars, 364.5ms\n",
      "video 1/1 (318/1501) C:\\Classes\\07_vision\\yolo\\test_image\\hiway.mp4: 384x640 7 cars, 228.3ms\n",
      "video 1/1 (319/1501) C:\\Classes\\07_vision\\yolo\\test_image\\hiway.mp4: 384x640 8 cars, 214.0ms\n",
      "video 1/1 (320/1501) C:\\Classes\\07_vision\\yolo\\test_image\\hiway.mp4: 384x640 8 cars, 204.8ms\n",
      "video 1/1 (321/1501) C:\\Classes\\07_vision\\yolo\\test_image\\hiway.mp4: 384x640 7 cars, 266.4ms\n",
      "video 1/1 (322/1501) C:\\Classes\\07_vision\\yolo\\test_image\\hiway.mp4: 384x640 7 cars, 233.3ms\n",
      "video 1/1 (323/1501) C:\\Classes\\07_vision\\yolo\\test_image\\hiway.mp4: 384x640 7 cars, 293.1ms\n",
      "video 1/1 (324/1501) C:\\Classes\\07_vision\\yolo\\test_image\\hiway.mp4: 384x640 7 cars, 242.8ms\n",
      "video 1/1 (325/1501) C:\\Classes\\07_vision\\yolo\\test_image\\hiway.mp4: 384x640 7 cars, 238.0ms\n",
      "video 1/1 (326/1501) C:\\Classes\\07_vision\\yolo\\test_image\\hiway.mp4: 384x640 7 cars, 199.6ms\n",
      "video 1/1 (327/1501) C:\\Classes\\07_vision\\yolo\\test_image\\hiway.mp4: 384x640 7 cars, 205.9ms\n",
      "video 1/1 (328/1501) C:\\Classes\\07_vision\\yolo\\test_image\\hiway.mp4: 384x640 8 cars, 191.5ms\n",
      "video 1/1 (329/1501) C:\\Classes\\07_vision\\yolo\\test_image\\hiway.mp4: 384x640 8 cars, 217.7ms\n",
      "video 1/1 (330/1501) C:\\Classes\\07_vision\\yolo\\test_image\\hiway.mp4: 384x640 7 cars, 223.9ms\n",
      "video 1/1 (331/1501) C:\\Classes\\07_vision\\yolo\\test_image\\hiway.mp4: 384x640 8 cars, 354.3ms\n",
      "video 1/1 (332/1501) C:\\Classes\\07_vision\\yolo\\test_image\\hiway.mp4: 384x640 7 cars, 280.0ms\n",
      "video 1/1 (333/1501) C:\\Classes\\07_vision\\yolo\\test_image\\hiway.mp4: 384x640 8 cars, 212.5ms\n",
      "video 1/1 (334/1501) C:\\Classes\\07_vision\\yolo\\test_image\\hiway.mp4: 384x640 8 cars, 191.4ms\n",
      "video 1/1 (335/1501) C:\\Classes\\07_vision\\yolo\\test_image\\hiway.mp4: 384x640 8 cars, 199.8ms\n",
      "video 1/1 (336/1501) C:\\Classes\\07_vision\\yolo\\test_image\\hiway.mp4: 384x640 9 cars, 185.6ms\n",
      "video 1/1 (337/1501) C:\\Classes\\07_vision\\yolo\\test_image\\hiway.mp4: 384x640 9 cars, 204.0ms\n",
      "video 1/1 (338/1501) C:\\Classes\\07_vision\\yolo\\test_image\\hiway.mp4: 384x640 8 cars, 301.5ms\n",
      "video 1/1 (339/1501) C:\\Classes\\07_vision\\yolo\\test_image\\hiway.mp4: 384x640 8 cars, 163.7ms\n",
      "video 1/1 (340/1501) C:\\Classes\\07_vision\\yolo\\test_image\\hiway.mp4: 384x640 9 cars, 146.9ms\n",
      "video 1/1 (341/1501) C:\\Classes\\07_vision\\yolo\\test_image\\hiway.mp4: 384x640 8 cars, 163.9ms\n",
      "video 1/1 (342/1501) C:\\Classes\\07_vision\\yolo\\test_image\\hiway.mp4: 384x640 7 cars, 165.5ms\n",
      "video 1/1 (343/1501) C:\\Classes\\07_vision\\yolo\\test_image\\hiway.mp4: 384x640 7 cars, 431.7ms\n",
      "video 1/1 (344/1501) C:\\Classes\\07_vision\\yolo\\test_image\\hiway.mp4: 384x640 7 cars, 201.1ms\n",
      "video 1/1 (345/1501) C:\\Classes\\07_vision\\yolo\\test_image\\hiway.mp4: 384x640 8 cars, 301.6ms\n",
      "video 1/1 (346/1501) C:\\Classes\\07_vision\\yolo\\test_image\\hiway.mp4: 384x640 7 cars, 372.1ms\n",
      "video 1/1 (347/1501) C:\\Classes\\07_vision\\yolo\\test_image\\hiway.mp4: 384x640 9 cars, 224.1ms\n"
     ]
    },
    {
     "name": "stderr",
     "output_type": "stream",
     "text": [
      "video 1/1 (348/1501) C:\\Classes\\07_vision\\yolo\\test_image\\hiway.mp4: 384x640 9 cars, 239.3ms\n",
      "video 1/1 (349/1501) C:\\Classes\\07_vision\\yolo\\test_image\\hiway.mp4: 384x640 8 cars, 263.9ms\n",
      "video 1/1 (350/1501) C:\\Classes\\07_vision\\yolo\\test_image\\hiway.mp4: 384x640 10 cars, 228.2ms\n",
      "video 1/1 (351/1501) C:\\Classes\\07_vision\\yolo\\test_image\\hiway.mp4: 384x640 9 cars, 193.1ms\n",
      "video 1/1 (352/1501) C:\\Classes\\07_vision\\yolo\\test_image\\hiway.mp4: 384x640 10 cars, 193.0ms\n",
      "video 1/1 (353/1501) C:\\Classes\\07_vision\\yolo\\test_image\\hiway.mp4: 384x640 9 cars, 250.8ms\n",
      "video 1/1 (354/1501) C:\\Classes\\07_vision\\yolo\\test_image\\hiway.mp4: 384x640 9 cars, 231.7ms\n",
      "video 1/1 (355/1501) C:\\Classes\\07_vision\\yolo\\test_image\\hiway.mp4: 384x640 9 cars, 316.7ms\n",
      "video 1/1 (356/1501) C:\\Classes\\07_vision\\yolo\\test_image\\hiway.mp4: 384x640 9 cars, 243.2ms\n",
      "video 1/1 (357/1501) C:\\Classes\\07_vision\\yolo\\test_image\\hiway.mp4: 384x640 9 cars, 199.9ms\n",
      "video 1/1 (358/1501) C:\\Classes\\07_vision\\yolo\\test_image\\hiway.mp4: 384x640 9 cars, 177.0ms\n",
      "video 1/1 (359/1501) C:\\Classes\\07_vision\\yolo\\test_image\\hiway.mp4: 384x640 10 cars, 270.6ms\n",
      "video 1/1 (360/1501) C:\\Classes\\07_vision\\yolo\\test_image\\hiway.mp4: 384x640 8 cars, 216.9ms\n",
      "video 1/1 (361/1501) C:\\Classes\\07_vision\\yolo\\test_image\\hiway.mp4: 384x640 8 cars, 265.6ms\n",
      "video 1/1 (362/1501) C:\\Classes\\07_vision\\yolo\\test_image\\hiway.mp4: 384x640 12 cars, 241.9ms\n",
      "video 1/1 (363/1501) C:\\Classes\\07_vision\\yolo\\test_image\\hiway.mp4: 384x640 13 cars, 309.4ms\n",
      "video 1/1 (364/1501) C:\\Classes\\07_vision\\yolo\\test_image\\hiway.mp4: 384x640 10 cars, 264.3ms\n",
      "video 1/1 (365/1501) C:\\Classes\\07_vision\\yolo\\test_image\\hiway.mp4: 384x640 11 cars, 235.5ms\n",
      "video 1/1 (366/1501) C:\\Classes\\07_vision\\yolo\\test_image\\hiway.mp4: 384x640 11 cars, 273.6ms\n",
      "video 1/1 (367/1501) C:\\Classes\\07_vision\\yolo\\test_image\\hiway.mp4: 384x640 11 cars, 208.4ms\n",
      "video 1/1 (368/1501) C:\\Classes\\07_vision\\yolo\\test_image\\hiway.mp4: 384x640 10 cars, 264.3ms\n",
      "video 1/1 (369/1501) C:\\Classes\\07_vision\\yolo\\test_image\\hiway.mp4: 384x640 9 cars, 248.4ms\n",
      "video 1/1 (370/1501) C:\\Classes\\07_vision\\yolo\\test_image\\hiway.mp4: 384x640 11 cars, 271.4ms\n",
      "video 1/1 (371/1501) C:\\Classes\\07_vision\\yolo\\test_image\\hiway.mp4: 384x640 8 cars, 254.7ms\n",
      "video 1/1 (372/1501) C:\\Classes\\07_vision\\yolo\\test_image\\hiway.mp4: 384x640 9 cars, 213.2ms\n",
      "video 1/1 (373/1501) C:\\Classes\\07_vision\\yolo\\test_image\\hiway.mp4: 384x640 11 cars, 232.2ms\n",
      "video 1/1 (374/1501) C:\\Classes\\07_vision\\yolo\\test_image\\hiway.mp4: 384x640 9 cars, 210.6ms\n",
      "video 1/1 (375/1501) C:\\Classes\\07_vision\\yolo\\test_image\\hiway.mp4: 384x640 10 cars, 238.7ms\n",
      "video 1/1 (376/1501) C:\\Classes\\07_vision\\yolo\\test_image\\hiway.mp4: 384x640 8 cars, 283.5ms\n",
      "video 1/1 (377/1501) C:\\Classes\\07_vision\\yolo\\test_image\\hiway.mp4: 384x640 7 cars, 278.0ms\n",
      "video 1/1 (378/1501) C:\\Classes\\07_vision\\yolo\\test_image\\hiway.mp4: 384x640 7 cars, 255.2ms\n",
      "video 1/1 (379/1501) C:\\Classes\\07_vision\\yolo\\test_image\\hiway.mp4: 384x640 6 cars, 188.2ms\n",
      "video 1/1 (380/1501) C:\\Classes\\07_vision\\yolo\\test_image\\hiway.mp4: 384x640 6 cars, 302.6ms\n",
      "video 1/1 (381/1501) C:\\Classes\\07_vision\\yolo\\test_image\\hiway.mp4: 384x640 9 cars, 352.9ms\n",
      "video 1/1 (382/1501) C:\\Classes\\07_vision\\yolo\\test_image\\hiway.mp4: 384x640 9 cars, 317.8ms\n",
      "video 1/1 (383/1501) C:\\Classes\\07_vision\\yolo\\test_image\\hiway.mp4: 384x640 8 cars, 263.0ms\n",
      "video 1/1 (384/1501) C:\\Classes\\07_vision\\yolo\\test_image\\hiway.mp4: 384x640 9 cars, 205.6ms\n",
      "video 1/1 (385/1501) C:\\Classes\\07_vision\\yolo\\test_image\\hiway.mp4: 384x640 8 cars, 317.5ms\n",
      "video 1/1 (386/1501) C:\\Classes\\07_vision\\yolo\\test_image\\hiway.mp4: 384x640 8 cars, 179.0ms\n",
      "video 1/1 (387/1501) C:\\Classes\\07_vision\\yolo\\test_image\\hiway.mp4: 384x640 8 cars, 229.3ms\n",
      "video 1/1 (388/1501) C:\\Classes\\07_vision\\yolo\\test_image\\hiway.mp4: 384x640 7 cars, 233.6ms\n",
      "video 1/1 (389/1501) C:\\Classes\\07_vision\\yolo\\test_image\\hiway.mp4: 384x640 6 cars, 264.8ms\n",
      "video 1/1 (390/1501) C:\\Classes\\07_vision\\yolo\\test_image\\hiway.mp4: 384x640 7 cars, 221.5ms\n",
      "video 1/1 (391/1501) C:\\Classes\\07_vision\\yolo\\test_image\\hiway.mp4: 384x640 6 cars, 200.7ms\n",
      "video 1/1 (392/1501) C:\\Classes\\07_vision\\yolo\\test_image\\hiway.mp4: 384x640 6 cars, 282.3ms\n",
      "video 1/1 (393/1501) C:\\Classes\\07_vision\\yolo\\test_image\\hiway.mp4: 384x640 6 cars, 225.4ms\n",
      "video 1/1 (394/1501) C:\\Classes\\07_vision\\yolo\\test_image\\hiway.mp4: 384x640 7 cars, 214.7ms\n",
      "video 1/1 (395/1501) C:\\Classes\\07_vision\\yolo\\test_image\\hiway.mp4: 384x640 6 cars, 191.5ms\n",
      "video 1/1 (396/1501) C:\\Classes\\07_vision\\yolo\\test_image\\hiway.mp4: 384x640 6 cars, 264.2ms\n",
      "video 1/1 (397/1501) C:\\Classes\\07_vision\\yolo\\test_image\\hiway.mp4: 384x640 5 cars, 233.0ms\n",
      "video 1/1 (398/1501) C:\\Classes\\07_vision\\yolo\\test_image\\hiway.mp4: 384x640 5 cars, 292.9ms\n",
      "video 1/1 (399/1501) C:\\Classes\\07_vision\\yolo\\test_image\\hiway.mp4: 384x640 6 cars, 264.9ms\n",
      "video 1/1 (400/1501) C:\\Classes\\07_vision\\yolo\\test_image\\hiway.mp4: 384x640 7 cars, 257.0ms\n",
      "video 1/1 (401/1501) C:\\Classes\\07_vision\\yolo\\test_image\\hiway.mp4: 384x640 7 cars, 233.5ms\n",
      "video 1/1 (402/1501) C:\\Classes\\07_vision\\yolo\\test_image\\hiway.mp4: 384x640 7 cars, 210.2ms\n",
      "video 1/1 (403/1501) C:\\Classes\\07_vision\\yolo\\test_image\\hiway.mp4: 384x640 7 cars, 212.9ms\n",
      "video 1/1 (404/1501) C:\\Classes\\07_vision\\yolo\\test_image\\hiway.mp4: 384x640 7 cars, 225.4ms\n",
      "video 1/1 (405/1501) C:\\Classes\\07_vision\\yolo\\test_image\\hiway.mp4: 384x640 7 cars, 315.9ms\n",
      "video 1/1 (406/1501) C:\\Classes\\07_vision\\yolo\\test_image\\hiway.mp4: 384x640 8 cars, 238.1ms\n",
      "video 1/1 (407/1501) C:\\Classes\\07_vision\\yolo\\test_image\\hiway.mp4: 384x640 6 cars, 258.1ms\n",
      "video 1/1 (408/1501) C:\\Classes\\07_vision\\yolo\\test_image\\hiway.mp4: 384x640 7 cars, 267.8ms\n",
      "video 1/1 (409/1501) C:\\Classes\\07_vision\\yolo\\test_image\\hiway.mp4: 384x640 6 cars, 212.1ms\n",
      "video 1/1 (410/1501) C:\\Classes\\07_vision\\yolo\\test_image\\hiway.mp4: 384x640 5 cars, 195.9ms\n",
      "video 1/1 (411/1501) C:\\Classes\\07_vision\\yolo\\test_image\\hiway.mp4: 384x640 5 cars, 232.5ms\n",
      "video 1/1 (412/1501) C:\\Classes\\07_vision\\yolo\\test_image\\hiway.mp4: 384x640 5 cars, 1 truck, 232.6ms\n",
      "video 1/1 (413/1501) C:\\Classes\\07_vision\\yolo\\test_image\\hiway.mp4: 384x640 5 cars, 203.3ms\n",
      "video 1/1 (414/1501) C:\\Classes\\07_vision\\yolo\\test_image\\hiway.mp4: 384x640 5 cars, 215.0ms\n",
      "video 1/1 (415/1501) C:\\Classes\\07_vision\\yolo\\test_image\\hiway.mp4: 384x640 6 cars, 232.2ms\n",
      "video 1/1 (416/1501) C:\\Classes\\07_vision\\yolo\\test_image\\hiway.mp4: 384x640 5 cars, 277.2ms\n",
      "video 1/1 (417/1501) C:\\Classes\\07_vision\\yolo\\test_image\\hiway.mp4: 384x640 5 cars, 224.0ms\n",
      "video 1/1 (418/1501) C:\\Classes\\07_vision\\yolo\\test_image\\hiway.mp4: 384x640 6 cars, 257.4ms\n",
      "video 1/1 (419/1501) C:\\Classes\\07_vision\\yolo\\test_image\\hiway.mp4: 384x640 5 cars, 230.7ms\n",
      "video 1/1 (420/1501) C:\\Classes\\07_vision\\yolo\\test_image\\hiway.mp4: 384x640 5 cars, 288.2ms\n",
      "video 1/1 (421/1501) C:\\Classes\\07_vision\\yolo\\test_image\\hiway.mp4: 384x640 5 cars, 231.7ms\n",
      "video 1/1 (422/1501) C:\\Classes\\07_vision\\yolo\\test_image\\hiway.mp4: 384x640 5 cars, 336.8ms\n",
      "video 1/1 (423/1501) C:\\Classes\\07_vision\\yolo\\test_image\\hiway.mp4: 384x640 7 cars, 309.6ms\n",
      "video 1/1 (424/1501) C:\\Classes\\07_vision\\yolo\\test_image\\hiway.mp4: 384x640 8 cars, 201.2ms\n",
      "video 1/1 (425/1501) C:\\Classes\\07_vision\\yolo\\test_image\\hiway.mp4: 384x640 7 cars, 194.4ms\n",
      "video 1/1 (426/1501) C:\\Classes\\07_vision\\yolo\\test_image\\hiway.mp4: 384x640 6 cars, 206.5ms\n",
      "video 1/1 (427/1501) C:\\Classes\\07_vision\\yolo\\test_image\\hiway.mp4: 384x640 7 cars, 233.2ms\n",
      "video 1/1 (428/1501) C:\\Classes\\07_vision\\yolo\\test_image\\hiway.mp4: 384x640 6 cars, 242.5ms\n",
      "video 1/1 (429/1501) C:\\Classes\\07_vision\\yolo\\test_image\\hiway.mp4: 384x640 6 cars, 247.3ms\n",
      "video 1/1 (430/1501) C:\\Classes\\07_vision\\yolo\\test_image\\hiway.mp4: 384x640 7 cars, 211.7ms\n",
      "video 1/1 (431/1501) C:\\Classes\\07_vision\\yolo\\test_image\\hiway.mp4: 384x640 7 cars, 172.9ms\n",
      "video 1/1 (432/1501) C:\\Classes\\07_vision\\yolo\\test_image\\hiway.mp4: 384x640 5 cars, 137.9ms\n",
      "video 1/1 (433/1501) C:\\Classes\\07_vision\\yolo\\test_image\\hiway.mp4: 384x640 9 cars, 147.2ms\n",
      "video 1/1 (434/1501) C:\\Classes\\07_vision\\yolo\\test_image\\hiway.mp4: 384x640 8 cars, 223.6ms\n",
      "video 1/1 (435/1501) C:\\Classes\\07_vision\\yolo\\test_image\\hiway.mp4: 384x640 9 cars, 217.3ms\n"
     ]
    },
    {
     "name": "stderr",
     "output_type": "stream",
     "text": [
      "video 1/1 (436/1501) C:\\Classes\\07_vision\\yolo\\test_image\\hiway.mp4: 384x640 7 cars, 224.1ms\n",
      "video 1/1 (437/1501) C:\\Classes\\07_vision\\yolo\\test_image\\hiway.mp4: 384x640 7 cars, 205.0ms\n",
      "video 1/1 (438/1501) C:\\Classes\\07_vision\\yolo\\test_image\\hiway.mp4: 384x640 6 cars, 293.5ms\n",
      "video 1/1 (439/1501) C:\\Classes\\07_vision\\yolo\\test_image\\hiway.mp4: 384x640 6 cars, 222.8ms\n",
      "video 1/1 (440/1501) C:\\Classes\\07_vision\\yolo\\test_image\\hiway.mp4: 384x640 7 cars, 250.0ms\n",
      "video 1/1 (441/1501) C:\\Classes\\07_vision\\yolo\\test_image\\hiway.mp4: 384x640 7 cars, 225.6ms\n",
      "video 1/1 (442/1501) C:\\Classes\\07_vision\\yolo\\test_image\\hiway.mp4: 384x640 6 cars, 203.2ms\n",
      "video 1/1 (443/1501) C:\\Classes\\07_vision\\yolo\\test_image\\hiway.mp4: 384x640 5 cars, 243.6ms\n",
      "video 1/1 (444/1501) C:\\Classes\\07_vision\\yolo\\test_image\\hiway.mp4: 384x640 5 cars, 209.2ms\n",
      "video 1/1 (445/1501) C:\\Classes\\07_vision\\yolo\\test_image\\hiway.mp4: 384x640 5 cars, 265.5ms\n",
      "video 1/1 (446/1501) C:\\Classes\\07_vision\\yolo\\test_image\\hiway.mp4: 384x640 5 cars, 245.0ms\n",
      "video 1/1 (447/1501) C:\\Classes\\07_vision\\yolo\\test_image\\hiway.mp4: 384x640 5 cars, 249.1ms\n",
      "video 1/1 (448/1501) C:\\Classes\\07_vision\\yolo\\test_image\\hiway.mp4: 384x640 7 cars, 231.9ms\n",
      "video 1/1 (449/1501) C:\\Classes\\07_vision\\yolo\\test_image\\hiway.mp4: 384x640 6 cars, 159.8ms\n",
      "video 1/1 (450/1501) C:\\Classes\\07_vision\\yolo\\test_image\\hiway.mp4: 384x640 5 cars, 221.1ms\n",
      "video 1/1 (451/1501) C:\\Classes\\07_vision\\yolo\\test_image\\hiway.mp4: 384x640 5 cars, 187.2ms\n",
      "video 1/1 (452/1501) C:\\Classes\\07_vision\\yolo\\test_image\\hiway.mp4: 384x640 5 cars, 225.0ms\n",
      "video 1/1 (453/1501) C:\\Classes\\07_vision\\yolo\\test_image\\hiway.mp4: 384x640 5 cars, 207.2ms\n",
      "video 1/1 (454/1501) C:\\Classes\\07_vision\\yolo\\test_image\\hiway.mp4: 384x640 7 cars, 246.1ms\n",
      "video 1/1 (455/1501) C:\\Classes\\07_vision\\yolo\\test_image\\hiway.mp4: 384x640 6 cars, 1 bus, 245.5ms\n",
      "video 1/1 (456/1501) C:\\Classes\\07_vision\\yolo\\test_image\\hiway.mp4: 384x640 5 cars, 1 bus, 277.1ms\n",
      "video 1/1 (457/1501) C:\\Classes\\07_vision\\yolo\\test_image\\hiway.mp4: 384x640 6 cars, 1 bus, 244.9ms\n",
      "video 1/1 (458/1501) C:\\Classes\\07_vision\\yolo\\test_image\\hiway.mp4: 384x640 7 cars, 1 bus, 185.6ms\n",
      "video 1/1 (459/1501) C:\\Classes\\07_vision\\yolo\\test_image\\hiway.mp4: 384x640 8 cars, 1 bus, 215.0ms\n",
      "video 1/1 (460/1501) C:\\Classes\\07_vision\\yolo\\test_image\\hiway.mp4: 384x640 8 cars, 1 bus, 233.7ms\n",
      "video 1/1 (461/1501) C:\\Classes\\07_vision\\yolo\\test_image\\hiway.mp4: 384x640 9 cars, 260.7ms\n",
      "video 1/1 (462/1501) C:\\Classes\\07_vision\\yolo\\test_image\\hiway.mp4: 384x640 8 cars, 1 bus, 277.0ms\n",
      "video 1/1 (463/1501) C:\\Classes\\07_vision\\yolo\\test_image\\hiway.mp4: 384x640 8 cars, 1 bus, 273.0ms\n",
      "video 1/1 (464/1501) C:\\Classes\\07_vision\\yolo\\test_image\\hiway.mp4: 384x640 8 cars, 1 bus, 257.4ms\n",
      "video 1/1 (465/1501) C:\\Classes\\07_vision\\yolo\\test_image\\hiway.mp4: 384x640 8 cars, 209.1ms\n",
      "video 1/1 (466/1501) C:\\Classes\\07_vision\\yolo\\test_image\\hiway.mp4: 384x640 8 cars, 215.3ms\n",
      "video 1/1 (467/1501) C:\\Classes\\07_vision\\yolo\\test_image\\hiway.mp4: 384x640 9 cars, 198.3ms\n",
      "video 1/1 (468/1501) C:\\Classes\\07_vision\\yolo\\test_image\\hiway.mp4: 384x640 8 cars, 206.3ms\n",
      "video 1/1 (469/1501) C:\\Classes\\07_vision\\yolo\\test_image\\hiway.mp4: 384x640 8 cars, 207.7ms\n",
      "video 1/1 (470/1501) C:\\Classes\\07_vision\\yolo\\test_image\\hiway.mp4: 384x640 8 cars, 279.9ms\n",
      "video 1/1 (471/1501) C:\\Classes\\07_vision\\yolo\\test_image\\hiway.mp4: 384x640 10 cars, 227.3ms\n",
      "video 1/1 (472/1501) C:\\Classes\\07_vision\\yolo\\test_image\\hiway.mp4: 384x640 10 cars, 239.9ms\n",
      "video 1/1 (473/1501) C:\\Classes\\07_vision\\yolo\\test_image\\hiway.mp4: 384x640 8 cars, 215.0ms\n",
      "video 1/1 (474/1501) C:\\Classes\\07_vision\\yolo\\test_image\\hiway.mp4: 384x640 9 cars, 190.4ms\n",
      "video 1/1 (475/1501) C:\\Classes\\07_vision\\yolo\\test_image\\hiway.mp4: 384x640 9 cars, 267.2ms\n",
      "video 1/1 (476/1501) C:\\Classes\\07_vision\\yolo\\test_image\\hiway.mp4: 384x640 9 cars, 1 bus, 181.6ms\n",
      "video 1/1 (477/1501) C:\\Classes\\07_vision\\yolo\\test_image\\hiway.mp4: 384x640 10 cars, 1 bus, 286.9ms\n",
      "video 1/1 (478/1501) C:\\Classes\\07_vision\\yolo\\test_image\\hiway.mp4: 384x640 11 cars, 1 bus, 270.5ms\n",
      "video 1/1 (479/1501) C:\\Classes\\07_vision\\yolo\\test_image\\hiway.mp4: 384x640 9 cars, 1 bus, 273.0ms\n",
      "video 1/1 (480/1501) C:\\Classes\\07_vision\\yolo\\test_image\\hiway.mp4: 384x640 10 cars, 1 bus, 193.0ms\n",
      "video 1/1 (481/1501) C:\\Classes\\07_vision\\yolo\\test_image\\hiway.mp4: 384x640 9 cars, 1 bus, 209.0ms\n",
      "video 1/1 (482/1501) C:\\Classes\\07_vision\\yolo\\test_image\\hiway.mp4: 384x640 12 cars, 212.1ms\n",
      "video 1/1 (483/1501) C:\\Classes\\07_vision\\yolo\\test_image\\hiway.mp4: 384x640 10 cars, 245.1ms\n",
      "video 1/1 (484/1501) C:\\Classes\\07_vision\\yolo\\test_image\\hiway.mp4: 384x640 8 cars, 206.4ms\n",
      "video 1/1 (485/1501) C:\\Classes\\07_vision\\yolo\\test_image\\hiway.mp4: 384x640 9 cars, 268.6ms\n",
      "video 1/1 (486/1501) C:\\Classes\\07_vision\\yolo\\test_image\\hiway.mp4: 384x640 8 cars, 249.1ms\n",
      "video 1/1 (487/1501) C:\\Classes\\07_vision\\yolo\\test_image\\hiway.mp4: 384x640 9 cars, 281.4ms\n",
      "video 1/1 (488/1501) C:\\Classes\\07_vision\\yolo\\test_image\\hiway.mp4: 384x640 10 cars, 240.6ms\n",
      "video 1/1 (489/1501) C:\\Classes\\07_vision\\yolo\\test_image\\hiway.mp4: 384x640 9 cars, 378.2ms\n",
      "video 1/1 (490/1501) C:\\Classes\\07_vision\\yolo\\test_image\\hiway.mp4: 384x640 10 cars, 365.2ms\n",
      "video 1/1 (491/1501) C:\\Classes\\07_vision\\yolo\\test_image\\hiway.mp4: 384x640 12 cars, 1 bus, 420.7ms\n",
      "video 1/1 (492/1501) C:\\Classes\\07_vision\\yolo\\test_image\\hiway.mp4: 384x640 10 cars, 1 bus, 375.0ms\n",
      "video 1/1 (493/1501) C:\\Classes\\07_vision\\yolo\\test_image\\hiway.mp4: 384x640 11 cars, 1 bus, 239.9ms\n",
      "video 1/1 (494/1501) C:\\Classes\\07_vision\\yolo\\test_image\\hiway.mp4: 384x640 10 cars, 1 bus, 182.2ms\n",
      "video 1/1 (495/1501) C:\\Classes\\07_vision\\yolo\\test_image\\hiway.mp4: 384x640 11 cars, 1 bus, 220.9ms\n",
      "video 1/1 (496/1501) C:\\Classes\\07_vision\\yolo\\test_image\\hiway.mp4: 384x640 11 cars, 1 bus, 210.5ms\n",
      "video 1/1 (497/1501) C:\\Classes\\07_vision\\yolo\\test_image\\hiway.mp4: 384x640 10 cars, 1 bus, 1 truck, 215.2ms\n",
      "video 1/1 (498/1501) C:\\Classes\\07_vision\\yolo\\test_image\\hiway.mp4: 384x640 11 cars, 1 bus, 276.0ms\n",
      "video 1/1 (499/1501) C:\\Classes\\07_vision\\yolo\\test_image\\hiway.mp4: 384x640 9 cars, 1 bus, 1 truck, 230.7ms\n",
      "video 1/1 (500/1501) C:\\Classes\\07_vision\\yolo\\test_image\\hiway.mp4: 384x640 9 cars, 1 bus, 1 truck, 238.6ms\n",
      "video 1/1 (501/1501) C:\\Classes\\07_vision\\yolo\\test_image\\hiway.mp4: 384x640 12 cars, 1 bus, 1 truck, 223.4ms\n",
      "video 1/1 (502/1501) C:\\Classes\\07_vision\\yolo\\test_image\\hiway.mp4: 384x640 10 cars, 1 bus, 195.9ms\n",
      "video 1/1 (503/1501) C:\\Classes\\07_vision\\yolo\\test_image\\hiway.mp4: 384x640 10 cars, 1 bus, 1 truck, 198.0ms\n",
      "video 1/1 (504/1501) C:\\Classes\\07_vision\\yolo\\test_image\\hiway.mp4: 384x640 11 cars, 1 bus, 1 truck, 178.6ms\n",
      "video 1/1 (505/1501) C:\\Classes\\07_vision\\yolo\\test_image\\hiway.mp4: 384x640 10 cars, 1 bus, 214.6ms\n",
      "video 1/1 (506/1501) C:\\Classes\\07_vision\\yolo\\test_image\\hiway.mp4: 384x640 11 cars, 1 bus, 1 truck, 211.5ms\n",
      "video 1/1 (507/1501) C:\\Classes\\07_vision\\yolo\\test_image\\hiway.mp4: 384x640 12 cars, 1 bus, 1 truck, 233.1ms\n",
      "video 1/1 (508/1501) C:\\Classes\\07_vision\\yolo\\test_image\\hiway.mp4: 384x640 10 cars, 1 bus, 1 truck, 234.5ms\n",
      "video 1/1 (509/1501) C:\\Classes\\07_vision\\yolo\\test_image\\hiway.mp4: 384x640 12 cars, 1 bus, 1 truck, 270.7ms\n",
      "video 1/1 (510/1501) C:\\Classes\\07_vision\\yolo\\test_image\\hiway.mp4: 384x640 15 cars, 1 bus, 1 truck, 153.3ms\n",
      "video 1/1 (511/1501) C:\\Classes\\07_vision\\yolo\\test_image\\hiway.mp4: 384x640 11 cars, 1 bus, 1 truck, 162.1ms\n",
      "video 1/1 (512/1501) C:\\Classes\\07_vision\\yolo\\test_image\\hiway.mp4: 384x640 11 cars, 1 bus, 150.9ms\n",
      "video 1/1 (513/1501) C:\\Classes\\07_vision\\yolo\\test_image\\hiway.mp4: 384x640 12 cars, 1 bus, 139.2ms\n",
      "video 1/1 (514/1501) C:\\Classes\\07_vision\\yolo\\test_image\\hiway.mp4: 384x640 15 cars, 1 bus, 176.0ms\n",
      "video 1/1 (515/1501) C:\\Classes\\07_vision\\yolo\\test_image\\hiway.mp4: 384x640 14 cars, 1 bus, 1 truck, 221.2ms\n",
      "video 1/1 (516/1501) C:\\Classes\\07_vision\\yolo\\test_image\\hiway.mp4: 384x640 9 cars, 1 bus, 1 truck, 177.2ms\n",
      "video 1/1 (517/1501) C:\\Classes\\07_vision\\yolo\\test_image\\hiway.mp4: 384x640 11 cars, 1 bus, 182.1ms\n",
      "video 1/1 (518/1501) C:\\Classes\\07_vision\\yolo\\test_image\\hiway.mp4: 384x640 10 cars, 1 bus, 156.2ms\n",
      "video 1/1 (519/1501) C:\\Classes\\07_vision\\yolo\\test_image\\hiway.mp4: 384x640 9 cars, 1 bus, 159.8ms\n"
     ]
    },
    {
     "name": "stderr",
     "output_type": "stream",
     "text": [
      "video 1/1 (520/1501) C:\\Classes\\07_vision\\yolo\\test_image\\hiway.mp4: 384x640 9 cars, 1 bus, 326.9ms\n",
      "video 1/1 (521/1501) C:\\Classes\\07_vision\\yolo\\test_image\\hiway.mp4: 384x640 9 cars, 1 bus, 268.9ms\n",
      "video 1/1 (522/1501) C:\\Classes\\07_vision\\yolo\\test_image\\hiway.mp4: 384x640 8 cars, 1 bus, 209.3ms\n",
      "video 1/1 (523/1501) C:\\Classes\\07_vision\\yolo\\test_image\\hiway.mp4: 384x640 9 cars, 1 bus, 427.9ms\n",
      "video 1/1 (524/1501) C:\\Classes\\07_vision\\yolo\\test_image\\hiway.mp4: 384x640 8 cars, 1 bus, 268.1ms\n",
      "video 1/1 (525/1501) C:\\Classes\\07_vision\\yolo\\test_image\\hiway.mp4: 384x640 8 cars, 1 bus, 328.0ms\n",
      "video 1/1 (526/1501) C:\\Classes\\07_vision\\yolo\\test_image\\hiway.mp4: 384x640 9 cars, 1 bus, 222.0ms\n",
      "video 1/1 (527/1501) C:\\Classes\\07_vision\\yolo\\test_image\\hiway.mp4: 384x640 9 cars, 1 bus, 209.2ms\n",
      "video 1/1 (528/1501) C:\\Classes\\07_vision\\yolo\\test_image\\hiway.mp4: 384x640 10 cars, 1 bus, 222.1ms\n",
      "video 1/1 (529/1501) C:\\Classes\\07_vision\\yolo\\test_image\\hiway.mp4: 384x640 7 cars, 1 bus, 228.4ms\n",
      "video 1/1 (530/1501) C:\\Classes\\07_vision\\yolo\\test_image\\hiway.mp4: 384x640 8 cars, 1 bus, 262.4ms\n",
      "video 1/1 (531/1501) C:\\Classes\\07_vision\\yolo\\test_image\\hiway.mp4: 384x640 6 cars, 1 bus, 261.7ms\n",
      "video 1/1 (532/1501) C:\\Classes\\07_vision\\yolo\\test_image\\hiway.mp4: 384x640 7 cars, 1 bus, 302.3ms\n",
      "video 1/1 (533/1501) C:\\Classes\\07_vision\\yolo\\test_image\\hiway.mp4: 384x640 5 cars, 1 bus, 250.3ms\n",
      "video 1/1 (534/1501) C:\\Classes\\07_vision\\yolo\\test_image\\hiway.mp4: 384x640 5 cars, 1 bus, 218.4ms\n",
      "video 1/1 (535/1501) C:\\Classes\\07_vision\\yolo\\test_image\\hiway.mp4: 384x640 5 cars, 1 bus, 256.2ms\n",
      "video 1/1 (536/1501) C:\\Classes\\07_vision\\yolo\\test_image\\hiway.mp4: 384x640 5 cars, 1 bus, 225.0ms\n",
      "video 1/1 (537/1501) C:\\Classes\\07_vision\\yolo\\test_image\\hiway.mp4: 384x640 5 cars, 1 bus, 281.9ms\n",
      "video 1/1 (538/1501) C:\\Classes\\07_vision\\yolo\\test_image\\hiway.mp4: 384x640 4 cars, 1 bus, 296.0ms\n",
      "video 1/1 (539/1501) C:\\Classes\\07_vision\\yolo\\test_image\\hiway.mp4: 384x640 4 cars, 1 bus, 266.9ms\n",
      "video 1/1 (540/1501) C:\\Classes\\07_vision\\yolo\\test_image\\hiway.mp4: 384x640 6 cars, 1 bus, 352.3ms\n",
      "video 1/1 (541/1501) C:\\Classes\\07_vision\\yolo\\test_image\\hiway.mp4: 384x640 5 cars, 1 bus, 229.2ms\n",
      "video 1/1 (542/1501) C:\\Classes\\07_vision\\yolo\\test_image\\hiway.mp4: 384x640 5 cars, 1 bus, 246.8ms\n",
      "video 1/1 (543/1501) C:\\Classes\\07_vision\\yolo\\test_image\\hiway.mp4: 384x640 4 cars, 1 bus, 235.2ms\n",
      "video 1/1 (544/1501) C:\\Classes\\07_vision\\yolo\\test_image\\hiway.mp4: 384x640 4 cars, 1 bus, 336.2ms\n",
      "video 1/1 (545/1501) C:\\Classes\\07_vision\\yolo\\test_image\\hiway.mp4: 384x640 4 cars, 1 bus, 235.9ms\n",
      "video 1/1 (546/1501) C:\\Classes\\07_vision\\yolo\\test_image\\hiway.mp4: 384x640 5 cars, 1 bus, 279.0ms\n",
      "video 1/1 (547/1501) C:\\Classes\\07_vision\\yolo\\test_image\\hiway.mp4: 384x640 8 cars, 1 bus, 407.5ms\n",
      "video 1/1 (548/1501) C:\\Classes\\07_vision\\yolo\\test_image\\hiway.mp4: 384x640 7 cars, 1 bus, 240.5ms\n",
      "video 1/1 (549/1501) C:\\Classes\\07_vision\\yolo\\test_image\\hiway.mp4: 384x640 7 cars, 1 bus, 275.3ms\n",
      "video 1/1 (550/1501) C:\\Classes\\07_vision\\yolo\\test_image\\hiway.mp4: 384x640 6 cars, 1 bus, 252.0ms\n",
      "video 1/1 (551/1501) C:\\Classes\\07_vision\\yolo\\test_image\\hiway.mp4: 384x640 9 cars, 1 bus, 334.5ms\n",
      "video 1/1 (552/1501) C:\\Classes\\07_vision\\yolo\\test_image\\hiway.mp4: 384x640 7 cars, 1 bus, 261.3ms\n",
      "video 1/1 (553/1501) C:\\Classes\\07_vision\\yolo\\test_image\\hiway.mp4: 384x640 8 cars, 1 bus, 293.5ms\n",
      "video 1/1 (554/1501) C:\\Classes\\07_vision\\yolo\\test_image\\hiway.mp4: 384x640 8 cars, 1 bus, 221.7ms\n",
      "video 1/1 (555/1501) C:\\Classes\\07_vision\\yolo\\test_image\\hiway.mp4: 384x640 8 cars, 1 bus, 191.7ms\n",
      "video 1/1 (556/1501) C:\\Classes\\07_vision\\yolo\\test_image\\hiway.mp4: 384x640 8 cars, 2 buss, 282.4ms\n",
      "video 1/1 (557/1501) C:\\Classes\\07_vision\\yolo\\test_image\\hiway.mp4: 384x640 9 cars, 1 bus, 226.6ms\n",
      "video 1/1 (558/1501) C:\\Classes\\07_vision\\yolo\\test_image\\hiway.mp4: 384x640 8 cars, 1 bus, 413.8ms\n",
      "video 1/1 (559/1501) C:\\Classes\\07_vision\\yolo\\test_image\\hiway.mp4: 384x640 9 cars, 1 bus, 276.0ms\n",
      "video 1/1 (560/1501) C:\\Classes\\07_vision\\yolo\\test_image\\hiway.mp4: 384x640 8 cars, 1 bus, 316.2ms\n",
      "video 1/1 (561/1501) C:\\Classes\\07_vision\\yolo\\test_image\\hiway.mp4: 384x640 6 cars, 1 bus, 234.9ms\n",
      "video 1/1 (562/1501) C:\\Classes\\07_vision\\yolo\\test_image\\hiway.mp4: 384x640 7 cars, 1 bus, 247.4ms\n",
      "video 1/1 (563/1501) C:\\Classes\\07_vision\\yolo\\test_image\\hiway.mp4: 384x640 7 cars, 1 bus, 232.4ms\n",
      "video 1/1 (564/1501) C:\\Classes\\07_vision\\yolo\\test_image\\hiway.mp4: 384x640 8 cars, 1 bus, 430.7ms\n",
      "video 1/1 (565/1501) C:\\Classes\\07_vision\\yolo\\test_image\\hiway.mp4: 384x640 8 cars, 1 bus, 270.7ms\n",
      "video 1/1 (566/1501) C:\\Classes\\07_vision\\yolo\\test_image\\hiway.mp4: 384x640 9 cars, 1 bus, 379.8ms\n",
      "video 1/1 (567/1501) C:\\Classes\\07_vision\\yolo\\test_image\\hiway.mp4: 384x640 9 cars, 1 bus, 280.4ms\n",
      "video 1/1 (568/1501) C:\\Classes\\07_vision\\yolo\\test_image\\hiway.mp4: 384x640 8 cars, 2 buss, 243.0ms\n",
      "video 1/1 (569/1501) C:\\Classes\\07_vision\\yolo\\test_image\\hiway.mp4: 384x640 7 cars, 1 bus, 371.4ms\n",
      "video 1/1 (570/1501) C:\\Classes\\07_vision\\yolo\\test_image\\hiway.mp4: 384x640 8 cars, 1 bus, 325.4ms\n",
      "video 1/1 (571/1501) C:\\Classes\\07_vision\\yolo\\test_image\\hiway.mp4: 384x640 10 cars, 2 buss, 276.5ms\n",
      "video 1/1 (572/1501) C:\\Classes\\07_vision\\yolo\\test_image\\hiway.mp4: 384x640 10 cars, 2 buss, 289.5ms\n",
      "video 1/1 (573/1501) C:\\Classes\\07_vision\\yolo\\test_image\\hiway.mp4: 384x640 10 cars, 1 bus, 255.0ms\n",
      "video 1/1 (574/1501) C:\\Classes\\07_vision\\yolo\\test_image\\hiway.mp4: 384x640 8 cars, 1 bus, 189.8ms\n",
      "video 1/1 (575/1501) C:\\Classes\\07_vision\\yolo\\test_image\\hiway.mp4: 384x640 8 cars, 1 bus, 194.9ms\n",
      "video 1/1 (576/1501) C:\\Classes\\07_vision\\yolo\\test_image\\hiway.mp4: 384x640 9 cars, 1 bus, 233.6ms\n",
      "video 1/1 (577/1501) C:\\Classes\\07_vision\\yolo\\test_image\\hiway.mp4: 384x640 10 cars, 1 bus, 254.5ms\n",
      "video 1/1 (578/1501) C:\\Classes\\07_vision\\yolo\\test_image\\hiway.mp4: 384x640 11 cars, 1 bus, 253.4ms\n",
      "video 1/1 (579/1501) C:\\Classes\\07_vision\\yolo\\test_image\\hiway.mp4: 384x640 11 cars, 1 bus, 271.6ms\n",
      "video 1/1 (580/1501) C:\\Classes\\07_vision\\yolo\\test_image\\hiway.mp4: 384x640 8 cars, 1 bus, 235.6ms\n",
      "video 1/1 (581/1501) C:\\Classes\\07_vision\\yolo\\test_image\\hiway.mp4: 384x640 7 cars, 1 bus, 290.2ms\n",
      "video 1/1 (582/1501) C:\\Classes\\07_vision\\yolo\\test_image\\hiway.mp4: 384x640 9 cars, 1 bus, 1 truck, 187.2ms\n",
      "video 1/1 (583/1501) C:\\Classes\\07_vision\\yolo\\test_image\\hiway.mp4: 384x640 8 cars, 1 bus, 260.3ms\n",
      "video 1/1 (584/1501) C:\\Classes\\07_vision\\yolo\\test_image\\hiway.mp4: 384x640 9 cars, 1 bus, 1 truck, 249.1ms\n",
      "video 1/1 (585/1501) C:\\Classes\\07_vision\\yolo\\test_image\\hiway.mp4: 384x640 9 cars, 1 bus, 302.2ms\n",
      "video 1/1 (586/1501) C:\\Classes\\07_vision\\yolo\\test_image\\hiway.mp4: 384x640 7 cars, 1 bus, 263.2ms\n",
      "video 1/1 (587/1501) C:\\Classes\\07_vision\\yolo\\test_image\\hiway.mp4: 384x640 8 cars, 1 bus, 1 truck, 256.4ms\n",
      "video 1/1 (588/1501) C:\\Classes\\07_vision\\yolo\\test_image\\hiway.mp4: 384x640 7 cars, 1 bus, 209.3ms\n",
      "video 1/1 (589/1501) C:\\Classes\\07_vision\\yolo\\test_image\\hiway.mp4: 384x640 8 cars, 1 bus, 203.8ms\n",
      "video 1/1 (590/1501) C:\\Classes\\07_vision\\yolo\\test_image\\hiway.mp4: 384x640 8 cars, 1 bus, 278.7ms\n",
      "video 1/1 (591/1501) C:\\Classes\\07_vision\\yolo\\test_image\\hiway.mp4: 384x640 10 cars, 1 bus, 277.6ms\n",
      "video 1/1 (592/1501) C:\\Classes\\07_vision\\yolo\\test_image\\hiway.mp4: 384x640 9 cars, 1 truck, 263.5ms\n",
      "video 1/1 (593/1501) C:\\Classes\\07_vision\\yolo\\test_image\\hiway.mp4: 384x640 9 cars, 1 truck, 269.5ms\n",
      "video 1/1 (594/1501) C:\\Classes\\07_vision\\yolo\\test_image\\hiway.mp4: 384x640 7 cars, 1 truck, 286.4ms\n",
      "video 1/1 (595/1501) C:\\Classes\\07_vision\\yolo\\test_image\\hiway.mp4: 384x640 11 cars, 1 bus, 1 truck, 229.7ms\n",
      "video 1/1 (596/1501) C:\\Classes\\07_vision\\yolo\\test_image\\hiway.mp4: 384x640 9 cars, 1 bus, 1 truck, 222.9ms\n",
      "video 1/1 (597/1501) C:\\Classes\\07_vision\\yolo\\test_image\\hiway.mp4: 384x640 9 cars, 1 bus, 212.7ms\n",
      "video 1/1 (598/1501) C:\\Classes\\07_vision\\yolo\\test_image\\hiway.mp4: 384x640 12 cars, 1 bus, 215.9ms\n",
      "video 1/1 (599/1501) C:\\Classes\\07_vision\\yolo\\test_image\\hiway.mp4: 384x640 8 cars, 1 bus, 239.8ms\n",
      "video 1/1 (600/1501) C:\\Classes\\07_vision\\yolo\\test_image\\hiway.mp4: 384x640 11 cars, 1 truck, 233.0ms\n",
      "video 1/1 (601/1501) C:\\Classes\\07_vision\\yolo\\test_image\\hiway.mp4: 384x640 11 cars, 1 bus, 234.3ms\n"
     ]
    },
    {
     "name": "stderr",
     "output_type": "stream",
     "text": [
      "video 1/1 (602/1501) C:\\Classes\\07_vision\\yolo\\test_image\\hiway.mp4: 384x640 11 cars, 1 bus, 252.2ms\n",
      "video 1/1 (603/1501) C:\\Classes\\07_vision\\yolo\\test_image\\hiway.mp4: 384x640 12 cars, 1 bus, 275.7ms\n",
      "video 1/1 (604/1501) C:\\Classes\\07_vision\\yolo\\test_image\\hiway.mp4: 384x640 12 cars, 1 bus, 224.0ms\n",
      "video 1/1 (605/1501) C:\\Classes\\07_vision\\yolo\\test_image\\hiway.mp4: 384x640 11 cars, 1 bus, 206.1ms\n",
      "video 1/1 (606/1501) C:\\Classes\\07_vision\\yolo\\test_image\\hiway.mp4: 384x640 11 cars, 2 buss, 317.3ms\n",
      "video 1/1 (607/1501) C:\\Classes\\07_vision\\yolo\\test_image\\hiway.mp4: 384x640 10 cars, 2 buss, 217.2ms\n",
      "video 1/1 (608/1501) C:\\Classes\\07_vision\\yolo\\test_image\\hiway.mp4: 384x640 10 cars, 1 bus, 277.6ms\n",
      "video 1/1 (609/1501) C:\\Classes\\07_vision\\yolo\\test_image\\hiway.mp4: 384x640 9 cars, 1 bus, 312.5ms\n",
      "video 1/1 (610/1501) C:\\Classes\\07_vision\\yolo\\test_image\\hiway.mp4: 384x640 9 cars, 1 bus, 1 truck, 207.9ms\n",
      "video 1/1 (611/1501) C:\\Classes\\07_vision\\yolo\\test_image\\hiway.mp4: 384x640 9 cars, 1 bus, 243.4ms\n",
      "video 1/1 (612/1501) C:\\Classes\\07_vision\\yolo\\test_image\\hiway.mp4: 384x640 11 cars, 1 bus, 1 truck, 245.3ms\n",
      "video 1/1 (613/1501) C:\\Classes\\07_vision\\yolo\\test_image\\hiway.mp4: 384x640 13 cars, 1 truck, 515.7ms\n",
      "video 1/1 (614/1501) C:\\Classes\\07_vision\\yolo\\test_image\\hiway.mp4: 384x640 10 cars, 1 bus, 1 truck, 299.4ms\n",
      "video 1/1 (615/1501) C:\\Classes\\07_vision\\yolo\\test_image\\hiway.mp4: 384x640 11 cars, 1 truck, 255.6ms\n",
      "video 1/1 (616/1501) C:\\Classes\\07_vision\\yolo\\test_image\\hiway.mp4: 384x640 9 cars, 1 truck, 169.6ms\n",
      "video 1/1 (617/1501) C:\\Classes\\07_vision\\yolo\\test_image\\hiway.mp4: 384x640 10 cars, 1 truck, 229.4ms\n",
      "video 1/1 (618/1501) C:\\Classes\\07_vision\\yolo\\test_image\\hiway.mp4: 384x640 10 cars, 1 truck, 164.0ms\n",
      "video 1/1 (619/1501) C:\\Classes\\07_vision\\yolo\\test_image\\hiway.mp4: 384x640 9 cars, 1 truck, 162.6ms\n",
      "video 1/1 (620/1501) C:\\Classes\\07_vision\\yolo\\test_image\\hiway.mp4: 384x640 10 cars, 150.6ms\n",
      "video 1/1 (621/1501) C:\\Classes\\07_vision\\yolo\\test_image\\hiway.mp4: 384x640 10 cars, 1 bus, 1 truck, 189.1ms\n",
      "video 1/1 (622/1501) C:\\Classes\\07_vision\\yolo\\test_image\\hiway.mp4: 384x640 10 cars, 1 bus, 289.1ms\n",
      "video 1/1 (623/1501) C:\\Classes\\07_vision\\yolo\\test_image\\hiway.mp4: 384x640 8 cars, 1 bus, 288.7ms\n",
      "video 1/1 (624/1501) C:\\Classes\\07_vision\\yolo\\test_image\\hiway.mp4: 384x640 8 cars, 1 truck, 239.7ms\n",
      "video 1/1 (625/1501) C:\\Classes\\07_vision\\yolo\\test_image\\hiway.mp4: 384x640 8 cars, 1 truck, 234.6ms\n",
      "video 1/1 (626/1501) C:\\Classes\\07_vision\\yolo\\test_image\\hiway.mp4: 384x640 9 cars, 368.4ms\n",
      "video 1/1 (627/1501) C:\\Classes\\07_vision\\yolo\\test_image\\hiway.mp4: 384x640 6 cars, 1 truck, 190.7ms\n",
      "video 1/1 (628/1501) C:\\Classes\\07_vision\\yolo\\test_image\\hiway.mp4: 384x640 6 cars, 302.8ms\n",
      "video 1/1 (629/1501) C:\\Classes\\07_vision\\yolo\\test_image\\hiway.mp4: 384x640 7 cars, 357.0ms\n",
      "video 1/1 (630/1501) C:\\Classes\\07_vision\\yolo\\test_image\\hiway.mp4: 384x640 8 cars, 1 truck, 293.7ms\n",
      "video 1/1 (631/1501) C:\\Classes\\07_vision\\yolo\\test_image\\hiway.mp4: 384x640 8 cars, 1 truck, 251.0ms\n",
      "video 1/1 (632/1501) C:\\Classes\\07_vision\\yolo\\test_image\\hiway.mp4: 384x640 13 cars, 1 truck, 241.0ms\n",
      "video 1/1 (633/1501) C:\\Classes\\07_vision\\yolo\\test_image\\hiway.mp4: 384x640 12 cars, 1 truck, 246.6ms\n",
      "video 1/1 (634/1501) C:\\Classes\\07_vision\\yolo\\test_image\\hiway.mp4: 384x640 15 cars, 209.7ms\n",
      "video 1/1 (635/1501) C:\\Classes\\07_vision\\yolo\\test_image\\hiway.mp4: 384x640 10 cars, 268.3ms\n",
      "video 1/1 (636/1501) C:\\Classes\\07_vision\\yolo\\test_image\\hiway.mp4: 384x640 11 cars, 1 truck, 517.7ms\n",
      "video 1/1 (637/1501) C:\\Classes\\07_vision\\yolo\\test_image\\hiway.mp4: 384x640 12 cars, 1 truck, 210.2ms\n",
      "video 1/1 (638/1501) C:\\Classes\\07_vision\\yolo\\test_image\\hiway.mp4: 384x640 11 cars, 218.5ms\n",
      "video 1/1 (639/1501) C:\\Classes\\07_vision\\yolo\\test_image\\hiway.mp4: 384x640 13 cars, 213.8ms\n",
      "video 1/1 (640/1501) C:\\Classes\\07_vision\\yolo\\test_image\\hiway.mp4: 384x640 9 cars, 1 bus, 224.5ms\n",
      "video 1/1 (641/1501) C:\\Classes\\07_vision\\yolo\\test_image\\hiway.mp4: 384x640 11 cars, 288.6ms\n",
      "video 1/1 (642/1501) C:\\Classes\\07_vision\\yolo\\test_image\\hiway.mp4: 384x640 10 cars, 1 bus, 270.1ms\n",
      "video 1/1 (643/1501) C:\\Classes\\07_vision\\yolo\\test_image\\hiway.mp4: 384x640 9 cars, 299.9ms\n",
      "video 1/1 (644/1501) C:\\Classes\\07_vision\\yolo\\test_image\\hiway.mp4: 384x640 11 cars, 254.1ms\n",
      "video 1/1 (645/1501) C:\\Classes\\07_vision\\yolo\\test_image\\hiway.mp4: 384x640 10 cars, 209.7ms\n",
      "video 1/1 (646/1501) C:\\Classes\\07_vision\\yolo\\test_image\\hiway.mp4: 384x640 11 cars, 1 truck, 200.6ms\n",
      "video 1/1 (647/1501) C:\\Classes\\07_vision\\yolo\\test_image\\hiway.mp4: 384x640 11 cars, 195.4ms\n",
      "video 1/1 (648/1501) C:\\Classes\\07_vision\\yolo\\test_image\\hiway.mp4: 384x640 10 cars, 271.6ms\n",
      "video 1/1 (649/1501) C:\\Classes\\07_vision\\yolo\\test_image\\hiway.mp4: 384x640 11 cars, 340.0ms\n",
      "video 1/1 (650/1501) C:\\Classes\\07_vision\\yolo\\test_image\\hiway.mp4: 384x640 11 cars, 334.7ms\n",
      "video 1/1 (651/1501) C:\\Classes\\07_vision\\yolo\\test_image\\hiway.mp4: 384x640 10 cars, 262.0ms\n",
      "video 1/1 (652/1501) C:\\Classes\\07_vision\\yolo\\test_image\\hiway.mp4: 384x640 11 cars, 287.9ms\n",
      "video 1/1 (653/1501) C:\\Classes\\07_vision\\yolo\\test_image\\hiway.mp4: 384x640 9 cars, 302.1ms\n",
      "video 1/1 (654/1501) C:\\Classes\\07_vision\\yolo\\test_image\\hiway.mp4: 384x640 8 cars, 207.9ms\n",
      "video 1/1 (655/1501) C:\\Classes\\07_vision\\yolo\\test_image\\hiway.mp4: 384x640 10 cars, 216.5ms\n",
      "video 1/1 (656/1501) C:\\Classes\\07_vision\\yolo\\test_image\\hiway.mp4: 384x640 10 cars, 230.7ms\n",
      "video 1/1 (657/1501) C:\\Classes\\07_vision\\yolo\\test_image\\hiway.mp4: 384x640 11 cars, 285.7ms\n",
      "video 1/1 (658/1501) C:\\Classes\\07_vision\\yolo\\test_image\\hiway.mp4: 384x640 11 cars, 215.6ms\n",
      "video 1/1 (659/1501) C:\\Classes\\07_vision\\yolo\\test_image\\hiway.mp4: 384x640 10 cars, 210.0ms\n",
      "video 1/1 (660/1501) C:\\Classes\\07_vision\\yolo\\test_image\\hiway.mp4: 384x640 11 cars, 227.5ms\n",
      "video 1/1 (661/1501) C:\\Classes\\07_vision\\yolo\\test_image\\hiway.mp4: 384x640 10 cars, 230.3ms\n",
      "video 1/1 (662/1501) C:\\Classes\\07_vision\\yolo\\test_image\\hiway.mp4: 384x640 10 cars, 229.3ms\n",
      "video 1/1 (663/1501) C:\\Classes\\07_vision\\yolo\\test_image\\hiway.mp4: 384x640 10 cars, 378.9ms\n",
      "video 1/1 (664/1501) C:\\Classes\\07_vision\\yolo\\test_image\\hiway.mp4: 384x640 13 cars, 402.3ms\n",
      "video 1/1 (665/1501) C:\\Classes\\07_vision\\yolo\\test_image\\hiway.mp4: 384x640 10 cars, 270.8ms\n",
      "video 1/1 (666/1501) C:\\Classes\\07_vision\\yolo\\test_image\\hiway.mp4: 384x640 10 cars, 281.2ms\n",
      "video 1/1 (667/1501) C:\\Classes\\07_vision\\yolo\\test_image\\hiway.mp4: 384x640 11 cars, 235.5ms\n",
      "video 1/1 (668/1501) C:\\Classes\\07_vision\\yolo\\test_image\\hiway.mp4: 384x640 11 cars, 342.1ms\n",
      "video 1/1 (669/1501) C:\\Classes\\07_vision\\yolo\\test_image\\hiway.mp4: 384x640 11 cars, 357.6ms\n",
      "video 1/1 (670/1501) C:\\Classes\\07_vision\\yolo\\test_image\\hiway.mp4: 384x640 11 cars, 340.0ms\n",
      "video 1/1 (671/1501) C:\\Classes\\07_vision\\yolo\\test_image\\hiway.mp4: 384x640 10 cars, 223.8ms\n",
      "video 1/1 (672/1501) C:\\Classes\\07_vision\\yolo\\test_image\\hiway.mp4: 384x640 9 cars, 200.3ms\n",
      "video 1/1 (673/1501) C:\\Classes\\07_vision\\yolo\\test_image\\hiway.mp4: 384x640 11 cars, 188.6ms\n",
      "video 1/1 (674/1501) C:\\Classes\\07_vision\\yolo\\test_image\\hiway.mp4: 384x640 11 cars, 205.2ms\n",
      "video 1/1 (675/1501) C:\\Classes\\07_vision\\yolo\\test_image\\hiway.mp4: 384x640 10 cars, 233.1ms\n",
      "video 1/1 (676/1501) C:\\Classes\\07_vision\\yolo\\test_image\\hiway.mp4: 384x640 10 cars, 296.4ms\n",
      "video 1/1 (677/1501) C:\\Classes\\07_vision\\yolo\\test_image\\hiway.mp4: 384x640 10 cars, 348.0ms\n",
      "video 1/1 (678/1501) C:\\Classes\\07_vision\\yolo\\test_image\\hiway.mp4: 384x640 11 cars, 241.5ms\n",
      "video 1/1 (679/1501) C:\\Classes\\07_vision\\yolo\\test_image\\hiway.mp4: 384x640 11 cars, 214.5ms\n",
      "video 1/1 (680/1501) C:\\Classes\\07_vision\\yolo\\test_image\\hiway.mp4: 384x640 11 cars, 206.8ms\n",
      "video 1/1 (681/1501) C:\\Classes\\07_vision\\yolo\\test_image\\hiway.mp4: 384x640 10 cars, 236.8ms\n",
      "video 1/1 (682/1501) C:\\Classes\\07_vision\\yolo\\test_image\\hiway.mp4: 384x640 14 cars, 179.8ms\n",
      "video 1/1 (683/1501) C:\\Classes\\07_vision\\yolo\\test_image\\hiway.mp4: 384x640 11 cars, 211.8ms\n",
      "video 1/1 (684/1501) C:\\Classes\\07_vision\\yolo\\test_image\\hiway.mp4: 384x640 12 cars, 223.3ms\n",
      "video 1/1 (685/1501) C:\\Classes\\07_vision\\yolo\\test_image\\hiway.mp4: 384x640 13 cars, 229.2ms\n",
      "video 1/1 (686/1501) C:\\Classes\\07_vision\\yolo\\test_image\\hiway.mp4: 384x640 12 cars, 245.1ms\n"
     ]
    },
    {
     "name": "stderr",
     "output_type": "stream",
     "text": [
      "video 1/1 (687/1501) C:\\Classes\\07_vision\\yolo\\test_image\\hiway.mp4: 384x640 11 cars, 245.7ms\n",
      "video 1/1 (688/1501) C:\\Classes\\07_vision\\yolo\\test_image\\hiway.mp4: 384x640 12 cars, 238.4ms\n",
      "video 1/1 (689/1501) C:\\Classes\\07_vision\\yolo\\test_image\\hiway.mp4: 384x640 11 cars, 224.1ms\n",
      "video 1/1 (690/1501) C:\\Classes\\07_vision\\yolo\\test_image\\hiway.mp4: 384x640 11 cars, 399.0ms\n",
      "video 1/1 (691/1501) C:\\Classes\\07_vision\\yolo\\test_image\\hiway.mp4: 384x640 9 cars, 252.1ms\n",
      "video 1/1 (692/1501) C:\\Classes\\07_vision\\yolo\\test_image\\hiway.mp4: 384x640 10 cars, 252.5ms\n",
      "video 1/1 (693/1501) C:\\Classes\\07_vision\\yolo\\test_image\\hiway.mp4: 384x640 11 cars, 249.7ms\n",
      "video 1/1 (694/1501) C:\\Classes\\07_vision\\yolo\\test_image\\hiway.mp4: 384x640 11 cars, 212.4ms\n",
      "video 1/1 (695/1501) C:\\Classes\\07_vision\\yolo\\test_image\\hiway.mp4: 384x640 11 cars, 196.8ms\n",
      "video 1/1 (696/1501) C:\\Classes\\07_vision\\yolo\\test_image\\hiway.mp4: 384x640 10 cars, 204.2ms\n",
      "video 1/1 (697/1501) C:\\Classes\\07_vision\\yolo\\test_image\\hiway.mp4: 384x640 11 cars, 199.9ms\n",
      "video 1/1 (698/1501) C:\\Classes\\07_vision\\yolo\\test_image\\hiway.mp4: 384x640 11 cars, 266.2ms\n",
      "video 1/1 (699/1501) C:\\Classes\\07_vision\\yolo\\test_image\\hiway.mp4: 384x640 9 cars, 220.7ms\n",
      "video 1/1 (700/1501) C:\\Classes\\07_vision\\yolo\\test_image\\hiway.mp4: 384x640 8 cars, 287.7ms\n",
      "video 1/1 (701/1501) C:\\Classes\\07_vision\\yolo\\test_image\\hiway.mp4: 384x640 9 cars, 231.1ms\n",
      "video 1/1 (702/1501) C:\\Classes\\07_vision\\yolo\\test_image\\hiway.mp4: 384x640 13 cars, 225.7ms\n",
      "video 1/1 (703/1501) C:\\Classes\\07_vision\\yolo\\test_image\\hiway.mp4: 384x640 12 cars, 223.4ms\n",
      "video 1/1 (704/1501) C:\\Classes\\07_vision\\yolo\\test_image\\hiway.mp4: 384x640 12 cars, 267.8ms\n",
      "video 1/1 (705/1501) C:\\Classes\\07_vision\\yolo\\test_image\\hiway.mp4: 384x640 12 cars, 222.5ms\n",
      "video 1/1 (706/1501) C:\\Classes\\07_vision\\yolo\\test_image\\hiway.mp4: 384x640 12 cars, 1 truck, 282.1ms\n",
      "video 1/1 (707/1501) C:\\Classes\\07_vision\\yolo\\test_image\\hiway.mp4: 384x640 12 cars, 1 truck, 524.5ms\n",
      "video 1/1 (708/1501) C:\\Classes\\07_vision\\yolo\\test_image\\hiway.mp4: 384x640 11 cars, 1 truck, 252.7ms\n",
      "video 1/1 (709/1501) C:\\Classes\\07_vision\\yolo\\test_image\\hiway.mp4: 384x640 11 cars, 1 truck, 343.6ms\n",
      "video 1/1 (710/1501) C:\\Classes\\07_vision\\yolo\\test_image\\hiway.mp4: 384x640 10 cars, 1 truck, 297.5ms\n",
      "video 1/1 (711/1501) C:\\Classes\\07_vision\\yolo\\test_image\\hiway.mp4: 384x640 8 cars, 1 truck, 237.8ms\n",
      "video 1/1 (712/1501) C:\\Classes\\07_vision\\yolo\\test_image\\hiway.mp4: 384x640 8 cars, 1 truck, 307.2ms\n",
      "video 1/1 (713/1501) C:\\Classes\\07_vision\\yolo\\test_image\\hiway.mp4: 384x640 8 cars, 1 truck, 269.7ms\n",
      "video 1/1 (714/1501) C:\\Classes\\07_vision\\yolo\\test_image\\hiway.mp4: 384x640 11 cars, 1 truck, 296.4ms\n",
      "video 1/1 (715/1501) C:\\Classes\\07_vision\\yolo\\test_image\\hiway.mp4: 384x640 9 cars, 1 truck, 279.3ms\n",
      "video 1/1 (716/1501) C:\\Classes\\07_vision\\yolo\\test_image\\hiway.mp4: 384x640 10 cars, 1 truck, 242.8ms\n",
      "video 1/1 (717/1501) C:\\Classes\\07_vision\\yolo\\test_image\\hiway.mp4: 384x640 11 cars, 1 truck, 348.0ms\n",
      "video 1/1 (718/1501) C:\\Classes\\07_vision\\yolo\\test_image\\hiway.mp4: 384x640 12 cars, 1 truck, 305.9ms\n",
      "video 1/1 (719/1501) C:\\Classes\\07_vision\\yolo\\test_image\\hiway.mp4: 384x640 11 cars, 1 truck, 245.5ms\n",
      "video 1/1 (720/1501) C:\\Classes\\07_vision\\yolo\\test_image\\hiway.mp4: 384x640 12 cars, 1 truck, 211.9ms\n",
      "video 1/1 (721/1501) C:\\Classes\\07_vision\\yolo\\test_image\\hiway.mp4: 384x640 12 cars, 1 truck, 173.5ms\n",
      "video 1/1 (722/1501) C:\\Classes\\07_vision\\yolo\\test_image\\hiway.mp4: 384x640 13 cars, 1 truck, 158.4ms\n",
      "video 1/1 (723/1501) C:\\Classes\\07_vision\\yolo\\test_image\\hiway.mp4: 384x640 10 cars, 1 truck, 141.9ms\n",
      "video 1/1 (724/1501) C:\\Classes\\07_vision\\yolo\\test_image\\hiway.mp4: 384x640 13 cars, 1 truck, 154.2ms\n",
      "video 1/1 (725/1501) C:\\Classes\\07_vision\\yolo\\test_image\\hiway.mp4: 384x640 12 cars, 1 truck, 183.8ms\n",
      "video 1/1 (726/1501) C:\\Classes\\07_vision\\yolo\\test_image\\hiway.mp4: 384x640 10 cars, 1 truck, 295.3ms\n",
      "video 1/1 (727/1501) C:\\Classes\\07_vision\\yolo\\test_image\\hiway.mp4: 384x640 11 cars, 1 truck, 244.0ms\n",
      "video 1/1 (728/1501) C:\\Classes\\07_vision\\yolo\\test_image\\hiway.mp4: 384x640 10 cars, 1 truck, 260.3ms\n",
      "video 1/1 (729/1501) C:\\Classes\\07_vision\\yolo\\test_image\\hiway.mp4: 384x640 7 cars, 1 truck, 231.7ms\n",
      "video 1/1 (730/1501) C:\\Classes\\07_vision\\yolo\\test_image\\hiway.mp4: 384x640 10 cars, 1 truck, 206.0ms\n",
      "video 1/1 (731/1501) C:\\Classes\\07_vision\\yolo\\test_image\\hiway.mp4: 384x640 10 cars, 362.2ms\n",
      "video 1/1 (732/1501) C:\\Classes\\07_vision\\yolo\\test_image\\hiway.mp4: 384x640 10 cars, 1 truck, 231.6ms\n",
      "video 1/1 (733/1501) C:\\Classes\\07_vision\\yolo\\test_image\\hiway.mp4: 384x640 10 cars, 1 truck, 258.8ms\n",
      "video 1/1 (734/1501) C:\\Classes\\07_vision\\yolo\\test_image\\hiway.mp4: 384x640 12 cars, 1 truck, 254.7ms\n",
      "video 1/1 (735/1501) C:\\Classes\\07_vision\\yolo\\test_image\\hiway.mp4: 384x640 10 cars, 1 truck, 239.1ms\n",
      "video 1/1 (736/1501) C:\\Classes\\07_vision\\yolo\\test_image\\hiway.mp4: 384x640 11 cars, 1 truck, 286.6ms\n",
      "video 1/1 (737/1501) C:\\Classes\\07_vision\\yolo\\test_image\\hiway.mp4: 384x640 10 cars, 1 truck, 178.5ms\n",
      "video 1/1 (738/1501) C:\\Classes\\07_vision\\yolo\\test_image\\hiway.mp4: 384x640 12 cars, 227.2ms\n",
      "video 1/1 (739/1501) C:\\Classes\\07_vision\\yolo\\test_image\\hiway.mp4: 384x640 10 cars, 1 truck, 202.7ms\n",
      "video 1/1 (740/1501) C:\\Classes\\07_vision\\yolo\\test_image\\hiway.mp4: 384x640 12 cars, 221.9ms\n",
      "video 1/1 (741/1501) C:\\Classes\\07_vision\\yolo\\test_image\\hiway.mp4: 384x640 11 cars, 242.9ms\n",
      "video 1/1 (742/1501) C:\\Classes\\07_vision\\yolo\\test_image\\hiway.mp4: 384x640 12 cars, 235.2ms\n",
      "video 1/1 (743/1501) C:\\Classes\\07_vision\\yolo\\test_image\\hiway.mp4: 384x640 12 cars, 255.1ms\n",
      "video 1/1 (744/1501) C:\\Classes\\07_vision\\yolo\\test_image\\hiway.mp4: 384x640 13 cars, 290.1ms\n",
      "video 1/1 (745/1501) C:\\Classes\\07_vision\\yolo\\test_image\\hiway.mp4: 384x640 12 cars, 211.4ms\n",
      "video 1/1 (746/1501) C:\\Classes\\07_vision\\yolo\\test_image\\hiway.mp4: 384x640 12 cars, 229.4ms\n",
      "video 1/1 (747/1501) C:\\Classes\\07_vision\\yolo\\test_image\\hiway.mp4: 384x640 11 cars, 236.4ms\n",
      "video 1/1 (748/1501) C:\\Classes\\07_vision\\yolo\\test_image\\hiway.mp4: 384x640 12 cars, 1 truck, 331.5ms\n",
      "video 1/1 (749/1501) C:\\Classes\\07_vision\\yolo\\test_image\\hiway.mp4: 384x640 12 cars, 265.4ms\n",
      "video 1/1 (750/1501) C:\\Classes\\07_vision\\yolo\\test_image\\hiway.mp4: 384x640 12 cars, 1 truck, 298.5ms\n",
      "video 1/1 (751/1501) C:\\Classes\\07_vision\\yolo\\test_image\\hiway.mp4: 384x640 12 cars, 261.6ms\n",
      "video 1/1 (752/1501) C:\\Classes\\07_vision\\yolo\\test_image\\hiway.mp4: 384x640 12 cars, 254.8ms\n",
      "video 1/1 (753/1501) C:\\Classes\\07_vision\\yolo\\test_image\\hiway.mp4: 384x640 12 cars, 192.9ms\n",
      "video 1/1 (754/1501) C:\\Classes\\07_vision\\yolo\\test_image\\hiway.mp4: 384x640 13 cars, 252.3ms\n",
      "video 1/1 (755/1501) C:\\Classes\\07_vision\\yolo\\test_image\\hiway.mp4: 384x640 11 cars, 274.2ms\n",
      "video 1/1 (756/1501) C:\\Classes\\07_vision\\yolo\\test_image\\hiway.mp4: 384x640 12 cars, 278.7ms\n",
      "video 1/1 (757/1501) C:\\Classes\\07_vision\\yolo\\test_image\\hiway.mp4: 384x640 12 cars, 241.8ms\n",
      "video 1/1 (758/1501) C:\\Classes\\07_vision\\yolo\\test_image\\hiway.mp4: 384x640 11 cars, 233.0ms\n",
      "video 1/1 (759/1501) C:\\Classes\\07_vision\\yolo\\test_image\\hiway.mp4: 384x640 11 cars, 170.0ms\n",
      "video 1/1 (760/1501) C:\\Classes\\07_vision\\yolo\\test_image\\hiway.mp4: 384x640 11 cars, 207.8ms\n",
      "video 1/1 (761/1501) C:\\Classes\\07_vision\\yolo\\test_image\\hiway.mp4: 384x640 13 cars, 213.2ms\n",
      "video 1/1 (762/1501) C:\\Classes\\07_vision\\yolo\\test_image\\hiway.mp4: 384x640 12 cars, 209.1ms\n",
      "video 1/1 (763/1501) C:\\Classes\\07_vision\\yolo\\test_image\\hiway.mp4: 384x640 14 cars, 234.2ms\n",
      "video 1/1 (764/1501) C:\\Classes\\07_vision\\yolo\\test_image\\hiway.mp4: 384x640 12 cars, 216.0ms\n",
      "video 1/1 (765/1501) C:\\Classes\\07_vision\\yolo\\test_image\\hiway.mp4: 384x640 11 cars, 222.1ms\n",
      "video 1/1 (766/1501) C:\\Classes\\07_vision\\yolo\\test_image\\hiway.mp4: 384x640 12 cars, 227.6ms\n",
      "video 1/1 (767/1501) C:\\Classes\\07_vision\\yolo\\test_image\\hiway.mp4: 384x640 12 cars, 200.7ms\n",
      "video 1/1 (768/1501) C:\\Classes\\07_vision\\yolo\\test_image\\hiway.mp4: 384x640 12 cars, 180.5ms\n",
      "video 1/1 (769/1501) C:\\Classes\\07_vision\\yolo\\test_image\\hiway.mp4: 384x640 11 cars, 215.3ms\n",
      "video 1/1 (770/1501) C:\\Classes\\07_vision\\yolo\\test_image\\hiway.mp4: 384x640 12 cars, 200.6ms\n"
     ]
    },
    {
     "name": "stderr",
     "output_type": "stream",
     "text": [
      "video 1/1 (771/1501) C:\\Classes\\07_vision\\yolo\\test_image\\hiway.mp4: 384x640 13 cars, 221.0ms\n",
      "video 1/1 (772/1501) C:\\Classes\\07_vision\\yolo\\test_image\\hiway.mp4: 384x640 14 cars, 248.2ms\n",
      "video 1/1 (773/1501) C:\\Classes\\07_vision\\yolo\\test_image\\hiway.mp4: 384x640 15 cars, 278.9ms\n",
      "video 1/1 (774/1501) C:\\Classes\\07_vision\\yolo\\test_image\\hiway.mp4: 384x640 12 cars, 302.7ms\n",
      "video 1/1 (775/1501) C:\\Classes\\07_vision\\yolo\\test_image\\hiway.mp4: 384x640 12 cars, 226.1ms\n",
      "video 1/1 (776/1501) C:\\Classes\\07_vision\\yolo\\test_image\\hiway.mp4: 384x640 14 cars, 230.7ms\n",
      "video 1/1 (777/1501) C:\\Classes\\07_vision\\yolo\\test_image\\hiway.mp4: 384x640 13 cars, 230.5ms\n",
      "video 1/1 (778/1501) C:\\Classes\\07_vision\\yolo\\test_image\\hiway.mp4: 384x640 12 cars, 204.6ms\n",
      "video 1/1 (779/1501) C:\\Classes\\07_vision\\yolo\\test_image\\hiway.mp4: 384x640 11 cars, 262.9ms\n",
      "video 1/1 (780/1501) C:\\Classes\\07_vision\\yolo\\test_image\\hiway.mp4: 384x640 11 cars, 224.1ms\n",
      "video 1/1 (781/1501) C:\\Classes\\07_vision\\yolo\\test_image\\hiway.mp4: 384x640 10 cars, 246.3ms\n",
      "video 1/1 (782/1501) C:\\Classes\\07_vision\\yolo\\test_image\\hiway.mp4: 384x640 11 cars, 242.9ms\n",
      "video 1/1 (783/1501) C:\\Classes\\07_vision\\yolo\\test_image\\hiway.mp4: 384x640 12 cars, 218.4ms\n",
      "video 1/1 (784/1501) C:\\Classes\\07_vision\\yolo\\test_image\\hiway.mp4: 384x640 11 cars, 204.9ms\n",
      "video 1/1 (785/1501) C:\\Classes\\07_vision\\yolo\\test_image\\hiway.mp4: 384x640 11 cars, 218.1ms\n",
      "video 1/1 (786/1501) C:\\Classes\\07_vision\\yolo\\test_image\\hiway.mp4: 384x640 9 cars, 222.1ms\n",
      "video 1/1 (787/1501) C:\\Classes\\07_vision\\yolo\\test_image\\hiway.mp4: 384x640 10 cars, 237.7ms\n",
      "video 1/1 (788/1501) C:\\Classes\\07_vision\\yolo\\test_image\\hiway.mp4: 384x640 10 cars, 265.2ms\n",
      "video 1/1 (789/1501) C:\\Classes\\07_vision\\yolo\\test_image\\hiway.mp4: 384x640 10 cars, 295.2ms\n",
      "video 1/1 (790/1501) C:\\Classes\\07_vision\\yolo\\test_image\\hiway.mp4: 384x640 9 cars, 201.7ms\n",
      "video 1/1 (791/1501) C:\\Classes\\07_vision\\yolo\\test_image\\hiway.mp4: 384x640 10 cars, 217.6ms\n",
      "video 1/1 (792/1501) C:\\Classes\\07_vision\\yolo\\test_image\\hiway.mp4: 384x640 9 cars, 239.9ms\n",
      "video 1/1 (793/1501) C:\\Classes\\07_vision\\yolo\\test_image\\hiway.mp4: 384x640 10 cars, 195.7ms\n",
      "video 1/1 (794/1501) C:\\Classes\\07_vision\\yolo\\test_image\\hiway.mp4: 384x640 8 cars, 248.6ms\n",
      "video 1/1 (795/1501) C:\\Classes\\07_vision\\yolo\\test_image\\hiway.mp4: 384x640 8 cars, 254.6ms\n",
      "video 1/1 (796/1501) C:\\Classes\\07_vision\\yolo\\test_image\\hiway.mp4: 384x640 8 cars, 267.2ms\n",
      "video 1/1 (797/1501) C:\\Classes\\07_vision\\yolo\\test_image\\hiway.mp4: 384x640 9 cars, 234.4ms\n",
      "video 1/1 (798/1501) C:\\Classes\\07_vision\\yolo\\test_image\\hiway.mp4: 384x640 8 cars, 220.7ms\n",
      "video 1/1 (799/1501) C:\\Classes\\07_vision\\yolo\\test_image\\hiway.mp4: 384x640 8 cars, 197.0ms\n",
      "video 1/1 (800/1501) C:\\Classes\\07_vision\\yolo\\test_image\\hiway.mp4: 384x640 9 cars, 206.7ms\n",
      "video 1/1 (801/1501) C:\\Classes\\07_vision\\yolo\\test_image\\hiway.mp4: 384x640 8 cars, 231.3ms\n",
      "video 1/1 (802/1501) C:\\Classes\\07_vision\\yolo\\test_image\\hiway.mp4: 384x640 8 cars, 224.1ms\n",
      "video 1/1 (803/1501) C:\\Classes\\07_vision\\yolo\\test_image\\hiway.mp4: 384x640 8 cars, 232.8ms\n",
      "video 1/1 (804/1501) C:\\Classes\\07_vision\\yolo\\test_image\\hiway.mp4: 384x640 8 cars, 258.5ms\n",
      "video 1/1 (805/1501) C:\\Classes\\07_vision\\yolo\\test_image\\hiway.mp4: 384x640 8 cars, 260.4ms\n",
      "video 1/1 (806/1501) C:\\Classes\\07_vision\\yolo\\test_image\\hiway.mp4: 384x640 8 cars, 207.0ms\n",
      "video 1/1 (807/1501) C:\\Classes\\07_vision\\yolo\\test_image\\hiway.mp4: 384x640 8 cars, 214.0ms\n",
      "video 1/1 (808/1501) C:\\Classes\\07_vision\\yolo\\test_image\\hiway.mp4: 384x640 8 cars, 167.0ms\n",
      "video 1/1 (809/1501) C:\\Classes\\07_vision\\yolo\\test_image\\hiway.mp4: 384x640 8 cars, 244.0ms\n",
      "video 1/1 (810/1501) C:\\Classes\\07_vision\\yolo\\test_image\\hiway.mp4: 384x640 8 cars, 220.5ms\n",
      "video 1/1 (811/1501) C:\\Classes\\07_vision\\yolo\\test_image\\hiway.mp4: 384x640 7 cars, 235.0ms\n",
      "video 1/1 (812/1501) C:\\Classes\\07_vision\\yolo\\test_image\\hiway.mp4: 384x640 7 cars, 221.3ms\n",
      "video 1/1 (813/1501) C:\\Classes\\07_vision\\yolo\\test_image\\hiway.mp4: 384x640 7 cars, 267.2ms\n",
      "video 1/1 (814/1501) C:\\Classes\\07_vision\\yolo\\test_image\\hiway.mp4: 384x640 6 cars, 201.6ms\n",
      "video 1/1 (815/1501) C:\\Classes\\07_vision\\yolo\\test_image\\hiway.mp4: 384x640 7 cars, 226.7ms\n",
      "video 1/1 (816/1501) C:\\Classes\\07_vision\\yolo\\test_image\\hiway.mp4: 384x640 6 cars, 324.3ms\n",
      "video 1/1 (817/1501) C:\\Classes\\07_vision\\yolo\\test_image\\hiway.mp4: 384x640 9 cars, 213.9ms\n",
      "video 1/1 (818/1501) C:\\Classes\\07_vision\\yolo\\test_image\\hiway.mp4: 384x640 6 cars, 216.9ms\n",
      "video 1/1 (819/1501) C:\\Classes\\07_vision\\yolo\\test_image\\hiway.mp4: 384x640 7 cars, 1 bus, 251.6ms\n",
      "video 1/1 (820/1501) C:\\Classes\\07_vision\\yolo\\test_image\\hiway.mp4: 384x640 7 cars, 1 bus, 234.7ms\n",
      "video 1/1 (821/1501) C:\\Classes\\07_vision\\yolo\\test_image\\hiway.mp4: 384x640 7 cars, 1 bus, 270.2ms\n",
      "video 1/1 (822/1501) C:\\Classes\\07_vision\\yolo\\test_image\\hiway.mp4: 384x640 7 cars, 1 truck, 188.8ms\n",
      "video 1/1 (823/1501) C:\\Classes\\07_vision\\yolo\\test_image\\hiway.mp4: 384x640 7 cars, 1 truck, 193.1ms\n",
      "video 1/1 (824/1501) C:\\Classes\\07_vision\\yolo\\test_image\\hiway.mp4: 384x640 6 cars, 1 truck, 206.7ms\n",
      "video 1/1 (825/1501) C:\\Classes\\07_vision\\yolo\\test_image\\hiway.mp4: 384x640 7 cars, 1 truck, 242.7ms\n",
      "video 1/1 (826/1501) C:\\Classes\\07_vision\\yolo\\test_image\\hiway.mp4: 384x640 5 cars, 1 truck, 282.8ms\n",
      "video 1/1 (827/1501) C:\\Classes\\07_vision\\yolo\\test_image\\hiway.mp4: 384x640 4 cars, 1 truck, 339.3ms\n",
      "video 1/1 (828/1501) C:\\Classes\\07_vision\\yolo\\test_image\\hiway.mp4: 384x640 5 cars, 1 truck, 225.3ms\n",
      "video 1/1 (829/1501) C:\\Classes\\07_vision\\yolo\\test_image\\hiway.mp4: 384x640 4 cars, 1 truck, 245.0ms\n",
      "video 1/1 (830/1501) C:\\Classes\\07_vision\\yolo\\test_image\\hiway.mp4: 384x640 5 cars, 1 truck, 293.6ms\n",
      "video 1/1 (831/1501) C:\\Classes\\07_vision\\yolo\\test_image\\hiway.mp4: 384x640 5 cars, 1 bus, 1 truck, 168.2ms\n",
      "video 1/1 (832/1501) C:\\Classes\\07_vision\\yolo\\test_image\\hiway.mp4: 384x640 4 cars, 1 truck, 177.2ms\n",
      "video 1/1 (833/1501) C:\\Classes\\07_vision\\yolo\\test_image\\hiway.mp4: 384x640 4 cars, 1 bus, 1 truck, 168.1ms\n",
      "video 1/1 (834/1501) C:\\Classes\\07_vision\\yolo\\test_image\\hiway.mp4: 384x640 5 cars, 1 bus, 1 truck, 175.3ms\n",
      "video 1/1 (835/1501) C:\\Classes\\07_vision\\yolo\\test_image\\hiway.mp4: 384x640 5 cars, 1 bus, 1 truck, 170.9ms\n",
      "video 1/1 (836/1501) C:\\Classes\\07_vision\\yolo\\test_image\\hiway.mp4: 384x640 4 cars, 1 bus, 1 truck, 382.1ms\n",
      "video 1/1 (837/1501) C:\\Classes\\07_vision\\yolo\\test_image\\hiway.mp4: 384x640 4 cars, 1 bus, 1 truck, 244.3ms\n",
      "video 1/1 (838/1501) C:\\Classes\\07_vision\\yolo\\test_image\\hiway.mp4: 384x640 4 cars, 1 truck, 239.2ms\n",
      "video 1/1 (839/1501) C:\\Classes\\07_vision\\yolo\\test_image\\hiway.mp4: 384x640 4 cars, 1 truck, 189.2ms\n",
      "video 1/1 (840/1501) C:\\Classes\\07_vision\\yolo\\test_image\\hiway.mp4: 384x640 4 cars, 1 truck, 220.7ms\n",
      "video 1/1 (841/1501) C:\\Classes\\07_vision\\yolo\\test_image\\hiway.mp4: 384x640 4 cars, 1 truck, 203.6ms\n",
      "video 1/1 (842/1501) C:\\Classes\\07_vision\\yolo\\test_image\\hiway.mp4: 384x640 5 cars, 1 truck, 250.4ms\n",
      "video 1/1 (843/1501) C:\\Classes\\07_vision\\yolo\\test_image\\hiway.mp4: 384x640 4 cars, 1 truck, 252.6ms\n",
      "video 1/1 (844/1501) C:\\Classes\\07_vision\\yolo\\test_image\\hiway.mp4: 384x640 5 cars, 1 truck, 275.8ms\n",
      "video 1/1 (845/1501) C:\\Classes\\07_vision\\yolo\\test_image\\hiway.mp4: 384x640 5 cars, 1 truck, 220.4ms\n",
      "video 1/1 (846/1501) C:\\Classes\\07_vision\\yolo\\test_image\\hiway.mp4: 384x640 6 cars, 1 truck, 209.6ms\n",
      "video 1/1 (847/1501) C:\\Classes\\07_vision\\yolo\\test_image\\hiway.mp4: 384x640 5 cars, 1 truck, 203.9ms\n",
      "video 1/1 (848/1501) C:\\Classes\\07_vision\\yolo\\test_image\\hiway.mp4: 384x640 7 cars, 1 truck, 217.5ms\n",
      "video 1/1 (849/1501) C:\\Classes\\07_vision\\yolo\\test_image\\hiway.mp4: 384x640 7 cars, 1 truck, 233.3ms\n",
      "video 1/1 (850/1501) C:\\Classes\\07_vision\\yolo\\test_image\\hiway.mp4: 384x640 8 cars, 1 bus, 1 truck, 250.1ms\n",
      "video 1/1 (851/1501) C:\\Classes\\07_vision\\yolo\\test_image\\hiway.mp4: 384x640 7 cars, 1 truck, 264.4ms\n",
      "video 1/1 (852/1501) C:\\Classes\\07_vision\\yolo\\test_image\\hiway.mp4: 384x640 7 cars, 1 bus, 269.3ms\n",
      "video 1/1 (853/1501) C:\\Classes\\07_vision\\yolo\\test_image\\hiway.mp4: 384x640 6 cars, 1 bus, 240.0ms\n",
      "video 1/1 (854/1501) C:\\Classes\\07_vision\\yolo\\test_image\\hiway.mp4: 384x640 6 cars, 1 bus, 264.7ms\n"
     ]
    },
    {
     "name": "stderr",
     "output_type": "stream",
     "text": [
      "video 1/1 (855/1501) C:\\Classes\\07_vision\\yolo\\test_image\\hiway.mp4: 384x640 6 cars, 1 bus, 247.3ms\n",
      "video 1/1 (856/1501) C:\\Classes\\07_vision\\yolo\\test_image\\hiway.mp4: 384x640 6 cars, 1 bus, 224.2ms\n",
      "video 1/1 (857/1501) C:\\Classes\\07_vision\\yolo\\test_image\\hiway.mp4: 384x640 5 cars, 1 bus, 295.1ms\n",
      "video 1/1 (858/1501) C:\\Classes\\07_vision\\yolo\\test_image\\hiway.mp4: 384x640 6 cars, 1 bus, 1 truck, 283.7ms\n",
      "video 1/1 (859/1501) C:\\Classes\\07_vision\\yolo\\test_image\\hiway.mp4: 384x640 6 cars, 1 bus, 274.1ms\n",
      "video 1/1 (860/1501) C:\\Classes\\07_vision\\yolo\\test_image\\hiway.mp4: 384x640 7 cars, 1 bus, 267.9ms\n",
      "video 1/1 (861/1501) C:\\Classes\\07_vision\\yolo\\test_image\\hiway.mp4: 384x640 7 cars, 1 bus, 1 truck, 200.5ms\n",
      "video 1/1 (862/1501) C:\\Classes\\07_vision\\yolo\\test_image\\hiway.mp4: 384x640 7 cars, 1 bus, 1 truck, 205.0ms\n",
      "video 1/1 (863/1501) C:\\Classes\\07_vision\\yolo\\test_image\\hiway.mp4: 384x640 7 cars, 1 bus, 1 truck, 263.2ms\n",
      "video 1/1 (864/1501) C:\\Classes\\07_vision\\yolo\\test_image\\hiway.mp4: 384x640 7 cars, 1 bus, 238.9ms\n",
      "video 1/1 (865/1501) C:\\Classes\\07_vision\\yolo\\test_image\\hiway.mp4: 384x640 7 cars, 1 bus, 205.6ms\n",
      "video 1/1 (866/1501) C:\\Classes\\07_vision\\yolo\\test_image\\hiway.mp4: 384x640 7 cars, 1 bus, 283.3ms\n",
      "video 1/1 (867/1501) C:\\Classes\\07_vision\\yolo\\test_image\\hiway.mp4: 384x640 7 cars, 1 bus, 285.6ms\n",
      "video 1/1 (868/1501) C:\\Classes\\07_vision\\yolo\\test_image\\hiway.mp4: 384x640 7 cars, 1 bus, 230.9ms\n",
      "video 1/1 (869/1501) C:\\Classes\\07_vision\\yolo\\test_image\\hiway.mp4: 384x640 7 cars, 1 bus, 217.3ms\n",
      "video 1/1 (870/1501) C:\\Classes\\07_vision\\yolo\\test_image\\hiway.mp4: 384x640 7 cars, 1 bus, 186.3ms\n",
      "video 1/1 (871/1501) C:\\Classes\\07_vision\\yolo\\test_image\\hiway.mp4: 384x640 7 cars, 1 bus, 1 truck, 178.5ms\n",
      "video 1/1 (872/1501) C:\\Classes\\07_vision\\yolo\\test_image\\hiway.mp4: 384x640 7 cars, 1 bus, 241.2ms\n",
      "video 1/1 (873/1501) C:\\Classes\\07_vision\\yolo\\test_image\\hiway.mp4: 384x640 8 cars, 1 bus, 1 truck, 228.4ms\n",
      "video 1/1 (874/1501) C:\\Classes\\07_vision\\yolo\\test_image\\hiway.mp4: 384x640 8 cars, 1 bus, 1 truck, 229.0ms\n",
      "video 1/1 (875/1501) C:\\Classes\\07_vision\\yolo\\test_image\\hiway.mp4: 384x640 6 cars, 1 bus, 1 truck, 255.5ms\n",
      "video 1/1 (876/1501) C:\\Classes\\07_vision\\yolo\\test_image\\hiway.mp4: 384x640 6 cars, 1 bus, 1 truck, 247.3ms\n",
      "video 1/1 (877/1501) C:\\Classes\\07_vision\\yolo\\test_image\\hiway.mp4: 384x640 5 cars, 1 bus, 223.7ms\n",
      "video 1/1 (878/1501) C:\\Classes\\07_vision\\yolo\\test_image\\hiway.mp4: 384x640 5 cars, 2 buss, 1 truck, 254.4ms\n",
      "video 1/1 (879/1501) C:\\Classes\\07_vision\\yolo\\test_image\\hiway.mp4: 384x640 5 cars, 2 buss, 257.2ms\n",
      "video 1/1 (880/1501) C:\\Classes\\07_vision\\yolo\\test_image\\hiway.mp4: 384x640 5 cars, 2 buss, 269.0ms\n",
      "video 1/1 (881/1501) C:\\Classes\\07_vision\\yolo\\test_image\\hiway.mp4: 384x640 5 cars, 2 buss, 232.6ms\n",
      "video 1/1 (882/1501) C:\\Classes\\07_vision\\yolo\\test_image\\hiway.mp4: 384x640 5 cars, 2 buss, 337.4ms\n",
      "video 1/1 (883/1501) C:\\Classes\\07_vision\\yolo\\test_image\\hiway.mp4: 384x640 5 cars, 1 bus, 1 truck, 303.4ms\n",
      "video 1/1 (884/1501) C:\\Classes\\07_vision\\yolo\\test_image\\hiway.mp4: 384x640 7 cars, 1 bus, 312.1ms\n",
      "video 1/1 (885/1501) C:\\Classes\\07_vision\\yolo\\test_image\\hiway.mp4: 384x640 6 cars, 1 bus, 1 truck, 332.8ms\n",
      "video 1/1 (886/1501) C:\\Classes\\07_vision\\yolo\\test_image\\hiway.mp4: 384x640 7 cars, 1 truck, 405.0ms\n",
      "video 1/1 (887/1501) C:\\Classes\\07_vision\\yolo\\test_image\\hiway.mp4: 384x640 6 cars, 1 truck, 387.2ms\n",
      "video 1/1 (888/1501) C:\\Classes\\07_vision\\yolo\\test_image\\hiway.mp4: 384x640 7 cars, 1 truck, 253.3ms\n",
      "video 1/1 (889/1501) C:\\Classes\\07_vision\\yolo\\test_image\\hiway.mp4: 384x640 7 cars, 1 bus, 1 truck, 220.6ms\n",
      "video 1/1 (890/1501) C:\\Classes\\07_vision\\yolo\\test_image\\hiway.mp4: 384x640 8 cars, 1 bus, 1 truck, 212.6ms\n",
      "video 1/1 (891/1501) C:\\Classes\\07_vision\\yolo\\test_image\\hiway.mp4: 384x640 7 cars, 1 bus, 1 truck, 301.5ms\n",
      "video 1/1 (892/1501) C:\\Classes\\07_vision\\yolo\\test_image\\hiway.mp4: 384x640 8 cars, 1 bus, 1 truck, 228.0ms\n",
      "video 1/1 (893/1501) C:\\Classes\\07_vision\\yolo\\test_image\\hiway.mp4: 384x640 8 cars, 1 bus, 1 truck, 236.8ms\n",
      "video 1/1 (894/1501) C:\\Classes\\07_vision\\yolo\\test_image\\hiway.mp4: 384x640 8 cars, 1 bus, 1 truck, 255.4ms\n",
      "video 1/1 (895/1501) C:\\Classes\\07_vision\\yolo\\test_image\\hiway.mp4: 384x640 7 cars, 1 bus, 1 truck, 248.2ms\n",
      "video 1/1 (896/1501) C:\\Classes\\07_vision\\yolo\\test_image\\hiway.mp4: 384x640 7 cars, 1 bus, 1 truck, 263.3ms\n",
      "video 1/1 (897/1501) C:\\Classes\\07_vision\\yolo\\test_image\\hiway.mp4: 384x640 6 cars, 1 bus, 1 truck, 208.0ms\n",
      "video 1/1 (898/1501) C:\\Classes\\07_vision\\yolo\\test_image\\hiway.mp4: 384x640 7 cars, 1 bus, 1 truck, 235.6ms\n",
      "video 1/1 (899/1501) C:\\Classes\\07_vision\\yolo\\test_image\\hiway.mp4: 384x640 7 cars, 1 truck, 203.9ms\n",
      "video 1/1 (900/1501) C:\\Classes\\07_vision\\yolo\\test_image\\hiway.mp4: 384x640 8 cars, 1 truck, 210.8ms\n",
      "video 1/1 (901/1501) C:\\Classes\\07_vision\\yolo\\test_image\\hiway.mp4: 384x640 8 cars, 1 truck, 282.7ms\n",
      "video 1/1 (902/1501) C:\\Classes\\07_vision\\yolo\\test_image\\hiway.mp4: 384x640 8 cars, 1 bus, 1 truck, 252.2ms\n",
      "video 1/1 (903/1501) C:\\Classes\\07_vision\\yolo\\test_image\\hiway.mp4: 384x640 8 cars, 1 bus, 1 truck, 236.7ms\n",
      "video 1/1 (904/1501) C:\\Classes\\07_vision\\yolo\\test_image\\hiway.mp4: 384x640 4 cars, 1 truck, 225.7ms\n",
      "video 1/1 (905/1501) C:\\Classes\\07_vision\\yolo\\test_image\\hiway.mp4: 384x640 11 cars, 1 truck, 208.0ms\n",
      "video 1/1 (906/1501) C:\\Classes\\07_vision\\yolo\\test_image\\hiway.mp4: 384x640 9 cars, 1 truck, 178.4ms\n",
      "video 1/1 (907/1501) C:\\Classes\\07_vision\\yolo\\test_image\\hiway.mp4: 384x640 8 cars, 1 truck, 210.0ms\n",
      "video 1/1 (908/1501) C:\\Classes\\07_vision\\yolo\\test_image\\hiway.mp4: 384x640 7 cars, 1 bus, 1 truck, 216.0ms\n",
      "video 1/1 (909/1501) C:\\Classes\\07_vision\\yolo\\test_image\\hiway.mp4: 384x640 9 cars, 1 bus, 1 truck, 241.6ms\n",
      "video 1/1 (910/1501) C:\\Classes\\07_vision\\yolo\\test_image\\hiway.mp4: 384x640 7 cars, 1 bus, 1 truck, 234.0ms\n",
      "video 1/1 (911/1501) C:\\Classes\\07_vision\\yolo\\test_image\\hiway.mp4: 384x640 9 cars, 1 bus, 1 truck, 422.4ms\n",
      "video 1/1 (912/1501) C:\\Classes\\07_vision\\yolo\\test_image\\hiway.mp4: 384x640 6 cars, 1 bus, 1 truck, 217.2ms\n",
      "video 1/1 (913/1501) C:\\Classes\\07_vision\\yolo\\test_image\\hiway.mp4: 384x640 9 cars, 1 truck, 187.8ms\n",
      "video 1/1 (914/1501) C:\\Classes\\07_vision\\yolo\\test_image\\hiway.mp4: 384x640 8 cars, 1 bus, 1 truck, 195.8ms\n",
      "video 1/1 (915/1501) C:\\Classes\\07_vision\\yolo\\test_image\\hiway.mp4: 384x640 6 cars, 1 bus, 1 truck, 215.7ms\n",
      "video 1/1 (916/1501) C:\\Classes\\07_vision\\yolo\\test_image\\hiway.mp4: 384x640 6 cars, 1 truck, 215.0ms\n",
      "video 1/1 (917/1501) C:\\Classes\\07_vision\\yolo\\test_image\\hiway.mp4: 384x640 8 cars, 1 truck, 317.2ms\n",
      "video 1/1 (918/1501) C:\\Classes\\07_vision\\yolo\\test_image\\hiway.mp4: 384x640 9 cars, 249.9ms\n",
      "video 1/1 (919/1501) C:\\Classes\\07_vision\\yolo\\test_image\\hiway.mp4: 384x640 6 cars, 1 bus, 260.8ms\n",
      "video 1/1 (920/1501) C:\\Classes\\07_vision\\yolo\\test_image\\hiway.mp4: 384x640 8 cars, 1 bus, 232.6ms\n",
      "video 1/1 (921/1501) C:\\Classes\\07_vision\\yolo\\test_image\\hiway.mp4: 384x640 7 cars, 1 bus, 208.7ms\n",
      "video 1/1 (922/1501) C:\\Classes\\07_vision\\yolo\\test_image\\hiway.mp4: 384x640 9 cars, 257.8ms\n",
      "video 1/1 (923/1501) C:\\Classes\\07_vision\\yolo\\test_image\\hiway.mp4: 384x640 11 cars, 195.7ms\n",
      "video 1/1 (924/1501) C:\\Classes\\07_vision\\yolo\\test_image\\hiway.mp4: 384x640 9 cars, 1 truck, 247.6ms\n",
      "video 1/1 (925/1501) C:\\Classes\\07_vision\\yolo\\test_image\\hiway.mp4: 384x640 10 cars, 1 bus, 234.1ms\n",
      "video 1/1 (926/1501) C:\\Classes\\07_vision\\yolo\\test_image\\hiway.mp4: 384x640 10 cars, 1 truck, 261.1ms\n",
      "video 1/1 (927/1501) C:\\Classes\\07_vision\\yolo\\test_image\\hiway.mp4: 384x640 9 cars, 362.5ms\n",
      "video 1/1 (928/1501) C:\\Classes\\07_vision\\yolo\\test_image\\hiway.mp4: 384x640 8 cars, 175.2ms\n",
      "video 1/1 (929/1501) C:\\Classes\\07_vision\\yolo\\test_image\\hiway.mp4: 384x640 9 cars, 1 bus, 238.7ms\n",
      "video 1/1 (930/1501) C:\\Classes\\07_vision\\yolo\\test_image\\hiway.mp4: 384x640 9 cars, 235.5ms\n",
      "video 1/1 (931/1501) C:\\Classes\\07_vision\\yolo\\test_image\\hiway.mp4: 384x640 9 cars, 205.9ms\n",
      "video 1/1 (932/1501) C:\\Classes\\07_vision\\yolo\\test_image\\hiway.mp4: 384x640 9 cars, 277.8ms\n",
      "video 1/1 (933/1501) C:\\Classes\\07_vision\\yolo\\test_image\\hiway.mp4: 384x640 9 cars, 273.5ms\n",
      "video 1/1 (934/1501) C:\\Classes\\07_vision\\yolo\\test_image\\hiway.mp4: 384x640 9 cars, 271.6ms\n"
     ]
    },
    {
     "name": "stderr",
     "output_type": "stream",
     "text": [
      "video 1/1 (935/1501) C:\\Classes\\07_vision\\yolo\\test_image\\hiway.mp4: 384x640 9 cars, 230.4ms\n",
      "video 1/1 (936/1501) C:\\Classes\\07_vision\\yolo\\test_image\\hiway.mp4: 384x640 8 cars, 1 truck, 190.8ms\n",
      "video 1/1 (937/1501) C:\\Classes\\07_vision\\yolo\\test_image\\hiway.mp4: 384x640 7 cars, 1 bus, 150.9ms\n",
      "video 1/1 (938/1501) C:\\Classes\\07_vision\\yolo\\test_image\\hiway.mp4: 384x640 12 cars, 1 bus, 1 truck, 162.0ms\n",
      "video 1/1 (939/1501) C:\\Classes\\07_vision\\yolo\\test_image\\hiway.mp4: 384x640 14 cars, 1 truck, 139.1ms\n",
      "video 1/1 (940/1501) C:\\Classes\\07_vision\\yolo\\test_image\\hiway.mp4: 384x640 14 cars, 158.2ms\n",
      "video 1/1 (941/1501) C:\\Classes\\07_vision\\yolo\\test_image\\hiway.mp4: 384x640 11 cars, 149.8ms\n",
      "video 1/1 (942/1501) C:\\Classes\\07_vision\\yolo\\test_image\\hiway.mp4: 384x640 12 cars, 270.2ms\n",
      "video 1/1 (943/1501) C:\\Classes\\07_vision\\yolo\\test_image\\hiway.mp4: 384x640 12 cars, 399.3ms\n",
      "video 1/1 (944/1501) C:\\Classes\\07_vision\\yolo\\test_image\\hiway.mp4: 384x640 13 cars, 236.5ms\n",
      "video 1/1 (945/1501) C:\\Classes\\07_vision\\yolo\\test_image\\hiway.mp4: 384x640 12 cars, 330.9ms\n",
      "video 1/1 (946/1501) C:\\Classes\\07_vision\\yolo\\test_image\\hiway.mp4: 384x640 10 cars, 228.9ms\n",
      "video 1/1 (947/1501) C:\\Classes\\07_vision\\yolo\\test_image\\hiway.mp4: 384x640 10 cars, 239.9ms\n",
      "video 1/1 (948/1501) C:\\Classes\\07_vision\\yolo\\test_image\\hiway.mp4: 384x640 11 cars, 287.3ms\n",
      "video 1/1 (949/1501) C:\\Classes\\07_vision\\yolo\\test_image\\hiway.mp4: 384x640 11 cars, 274.8ms\n",
      "video 1/1 (950/1501) C:\\Classes\\07_vision\\yolo\\test_image\\hiway.mp4: 384x640 8 cars, 272.4ms\n",
      "video 1/1 (951/1501) C:\\Classes\\07_vision\\yolo\\test_image\\hiway.mp4: 384x640 11 cars, 191.1ms\n",
      "video 1/1 (952/1501) C:\\Classes\\07_vision\\yolo\\test_image\\hiway.mp4: 384x640 10 cars, 226.8ms\n",
      "video 1/1 (953/1501) C:\\Classes\\07_vision\\yolo\\test_image\\hiway.mp4: 384x640 11 cars, 231.2ms\n",
      "video 1/1 (954/1501) C:\\Classes\\07_vision\\yolo\\test_image\\hiway.mp4: 384x640 9 cars, 229.7ms\n",
      "video 1/1 (955/1501) C:\\Classes\\07_vision\\yolo\\test_image\\hiway.mp4: 384x640 8 cars, 259.3ms\n",
      "video 1/1 (956/1501) C:\\Classes\\07_vision\\yolo\\test_image\\hiway.mp4: 384x640 9 cars, 256.6ms\n",
      "video 1/1 (957/1501) C:\\Classes\\07_vision\\yolo\\test_image\\hiway.mp4: 384x640 9 cars, 270.6ms\n",
      "video 1/1 (958/1501) C:\\Classes\\07_vision\\yolo\\test_image\\hiway.mp4: 384x640 9 cars, 230.9ms\n",
      "video 1/1 (959/1501) C:\\Classes\\07_vision\\yolo\\test_image\\hiway.mp4: 384x640 10 cars, 205.6ms\n",
      "video 1/1 (960/1501) C:\\Classes\\07_vision\\yolo\\test_image\\hiway.mp4: 384x640 10 cars, 223.6ms\n",
      "video 1/1 (961/1501) C:\\Classes\\07_vision\\yolo\\test_image\\hiway.mp4: 384x640 10 cars, 221.8ms\n",
      "video 1/1 (962/1501) C:\\Classes\\07_vision\\yolo\\test_image\\hiway.mp4: 384x640 9 cars, 372.8ms\n",
      "video 1/1 (963/1501) C:\\Classes\\07_vision\\yolo\\test_image\\hiway.mp4: 384x640 10 cars, 235.1ms\n",
      "video 1/1 (964/1501) C:\\Classes\\07_vision\\yolo\\test_image\\hiway.mp4: 384x640 11 cars, 290.8ms\n",
      "video 1/1 (965/1501) C:\\Classes\\07_vision\\yolo\\test_image\\hiway.mp4: 384x640 12 cars, 242.5ms\n",
      "video 1/1 (966/1501) C:\\Classes\\07_vision\\yolo\\test_image\\hiway.mp4: 384x640 11 cars, 310.5ms\n",
      "video 1/1 (967/1501) C:\\Classes\\07_vision\\yolo\\test_image\\hiway.mp4: 384x640 11 cars, 193.7ms\n",
      "video 1/1 (968/1501) C:\\Classes\\07_vision\\yolo\\test_image\\hiway.mp4: 384x640 13 cars, 245.8ms\n",
      "video 1/1 (969/1501) C:\\Classes\\07_vision\\yolo\\test_image\\hiway.mp4: 384x640 11 cars, 253.8ms\n",
      "video 1/1 (970/1501) C:\\Classes\\07_vision\\yolo\\test_image\\hiway.mp4: 384x640 10 cars, 252.8ms\n",
      "video 1/1 (971/1501) C:\\Classes\\07_vision\\yolo\\test_image\\hiway.mp4: 384x640 11 cars, 261.7ms\n",
      "video 1/1 (972/1501) C:\\Classes\\07_vision\\yolo\\test_image\\hiway.mp4: 384x640 11 cars, 267.5ms\n",
      "video 1/1 (973/1501) C:\\Classes\\07_vision\\yolo\\test_image\\hiway.mp4: 384x640 13 cars, 227.7ms\n",
      "video 1/1 (974/1501) C:\\Classes\\07_vision\\yolo\\test_image\\hiway.mp4: 384x640 11 cars, 201.3ms\n",
      "video 1/1 (975/1501) C:\\Classes\\07_vision\\yolo\\test_image\\hiway.mp4: 384x640 10 cars, 195.8ms\n",
      "video 1/1 (976/1501) C:\\Classes\\07_vision\\yolo\\test_image\\hiway.mp4: 384x640 12 cars, 203.0ms\n",
      "video 1/1 (977/1501) C:\\Classes\\07_vision\\yolo\\test_image\\hiway.mp4: 384x640 10 cars, 254.6ms\n",
      "video 1/1 (978/1501) C:\\Classes\\07_vision\\yolo\\test_image\\hiway.mp4: 384x640 8 cars, 255.5ms\n",
      "video 1/1 (979/1501) C:\\Classes\\07_vision\\yolo\\test_image\\hiway.mp4: 384x640 9 cars, 255.6ms\n",
      "video 1/1 (980/1501) C:\\Classes\\07_vision\\yolo\\test_image\\hiway.mp4: 384x640 10 cars, 236.1ms\n",
      "video 1/1 (981/1501) C:\\Classes\\07_vision\\yolo\\test_image\\hiway.mp4: 384x640 10 cars, 206.7ms\n",
      "video 1/1 (982/1501) C:\\Classes\\07_vision\\yolo\\test_image\\hiway.mp4: 384x640 10 cars, 237.4ms\n",
      "video 1/1 (983/1501) C:\\Classes\\07_vision\\yolo\\test_image\\hiway.mp4: 384x640 10 cars, 209.3ms\n",
      "video 1/1 (984/1501) C:\\Classes\\07_vision\\yolo\\test_image\\hiway.mp4: 384x640 9 cars, 262.3ms\n",
      "video 1/1 (985/1501) C:\\Classes\\07_vision\\yolo\\test_image\\hiway.mp4: 384x640 10 cars, 284.6ms\n",
      "video 1/1 (986/1501) C:\\Classes\\07_vision\\yolo\\test_image\\hiway.mp4: 384x640 11 cars, 232.3ms\n",
      "video 1/1 (987/1501) C:\\Classes\\07_vision\\yolo\\test_image\\hiway.mp4: 384x640 9 cars, 404.3ms\n",
      "video 1/1 (988/1501) C:\\Classes\\07_vision\\yolo\\test_image\\hiway.mp4: 384x640 9 cars, 304.4ms\n",
      "video 1/1 (989/1501) C:\\Classes\\07_vision\\yolo\\test_image\\hiway.mp4: 384x640 9 cars, 356.1ms\n",
      "video 1/1 (990/1501) C:\\Classes\\07_vision\\yolo\\test_image\\hiway.mp4: 384x640 10 cars, 381.0ms\n",
      "video 1/1 (991/1501) C:\\Classes\\07_vision\\yolo\\test_image\\hiway.mp4: 384x640 11 cars, 367.1ms\n",
      "video 1/1 (992/1501) C:\\Classes\\07_vision\\yolo\\test_image\\hiway.mp4: 384x640 11 cars, 299.1ms\n",
      "video 1/1 (993/1501) C:\\Classes\\07_vision\\yolo\\test_image\\hiway.mp4: 384x640 10 cars, 251.3ms\n",
      "video 1/1 (994/1501) C:\\Classes\\07_vision\\yolo\\test_image\\hiway.mp4: 384x640 10 cars, 235.6ms\n",
      "video 1/1 (995/1501) C:\\Classes\\07_vision\\yolo\\test_image\\hiway.mp4: 384x640 10 cars, 204.3ms\n",
      "video 1/1 (996/1501) C:\\Classes\\07_vision\\yolo\\test_image\\hiway.mp4: 384x640 11 cars, 239.0ms\n",
      "video 1/1 (997/1501) C:\\Classes\\07_vision\\yolo\\test_image\\hiway.mp4: 384x640 10 cars, 230.3ms\n",
      "video 1/1 (998/1501) C:\\Classes\\07_vision\\yolo\\test_image\\hiway.mp4: 384x640 9 cars, 268.8ms\n",
      "video 1/1 (999/1501) C:\\Classes\\07_vision\\yolo\\test_image\\hiway.mp4: 384x640 9 cars, 257.3ms\n",
      "video 1/1 (1000/1501) C:\\Classes\\07_vision\\yolo\\test_image\\hiway.mp4: 384x640 11 cars, 264.9ms\n",
      "video 1/1 (1001/1501) C:\\Classes\\07_vision\\yolo\\test_image\\hiway.mp4: 384x640 12 cars, 245.5ms\n",
      "video 1/1 (1002/1501) C:\\Classes\\07_vision\\yolo\\test_image\\hiway.mp4: 384x640 11 cars, 231.9ms\n",
      "video 1/1 (1003/1501) C:\\Classes\\07_vision\\yolo\\test_image\\hiway.mp4: 384x640 11 cars, 225.5ms\n",
      "video 1/1 (1004/1501) C:\\Classes\\07_vision\\yolo\\test_image\\hiway.mp4: 384x640 12 cars, 192.9ms\n",
      "video 1/1 (1005/1501) C:\\Classes\\07_vision\\yolo\\test_image\\hiway.mp4: 384x640 11 cars, 314.5ms\n",
      "video 1/1 (1006/1501) C:\\Classes\\07_vision\\yolo\\test_image\\hiway.mp4: 384x640 11 cars, 213.8ms\n",
      "video 1/1 (1007/1501) C:\\Classes\\07_vision\\yolo\\test_image\\hiway.mp4: 384x640 10 cars, 271.3ms\n",
      "video 1/1 (1008/1501) C:\\Classes\\07_vision\\yolo\\test_image\\hiway.mp4: 384x640 8 cars, 254.0ms\n",
      "video 1/1 (1009/1501) C:\\Classes\\07_vision\\yolo\\test_image\\hiway.mp4: 384x640 13 cars, 210.2ms\n",
      "video 1/1 (1010/1501) C:\\Classes\\07_vision\\yolo\\test_image\\hiway.mp4: 384x640 12 cars, 220.5ms\n",
      "video 1/1 (1011/1501) C:\\Classes\\07_vision\\yolo\\test_image\\hiway.mp4: 384x640 10 cars, 199.3ms\n",
      "video 1/1 (1012/1501) C:\\Classes\\07_vision\\yolo\\test_image\\hiway.mp4: 384x640 10 cars, 230.8ms\n",
      "video 1/1 (1013/1501) C:\\Classes\\07_vision\\yolo\\test_image\\hiway.mp4: 384x640 9 cars, 253.3ms\n",
      "video 1/1 (1014/1501) C:\\Classes\\07_vision\\yolo\\test_image\\hiway.mp4: 384x640 8 cars, 279.4ms\n",
      "video 1/1 (1015/1501) C:\\Classes\\07_vision\\yolo\\test_image\\hiway.mp4: 384x640 10 cars, 248.8ms\n",
      "video 1/1 (1016/1501) C:\\Classes\\07_vision\\yolo\\test_image\\hiway.mp4: 384x640 11 cars, 242.6ms\n",
      "video 1/1 (1017/1501) C:\\Classes\\07_vision\\yolo\\test_image\\hiway.mp4: 384x640 10 cars, 211.0ms\n",
      "video 1/1 (1018/1501) C:\\Classes\\07_vision\\yolo\\test_image\\hiway.mp4: 384x640 12 cars, 191.4ms\n",
      "video 1/1 (1019/1501) C:\\Classes\\07_vision\\yolo\\test_image\\hiway.mp4: 384x640 10 cars, 198.6ms\n",
      "video 1/1 (1020/1501) C:\\Classes\\07_vision\\yolo\\test_image\\hiway.mp4: 384x640 11 cars, 256.3ms\n",
      "video 1/1 (1021/1501) C:\\Classes\\07_vision\\yolo\\test_image\\hiway.mp4: 384x640 9 cars, 218.5ms\n"
     ]
    },
    {
     "name": "stderr",
     "output_type": "stream",
     "text": [
      "video 1/1 (1022/1501) C:\\Classes\\07_vision\\yolo\\test_image\\hiway.mp4: 384x640 11 cars, 242.6ms\n",
      "video 1/1 (1023/1501) C:\\Classes\\07_vision\\yolo\\test_image\\hiway.mp4: 384x640 10 cars, 237.4ms\n",
      "video 1/1 (1024/1501) C:\\Classes\\07_vision\\yolo\\test_image\\hiway.mp4: 384x640 9 cars, 246.6ms\n",
      "video 1/1 (1025/1501) C:\\Classes\\07_vision\\yolo\\test_image\\hiway.mp4: 384x640 8 cars, 215.8ms\n",
      "video 1/1 (1026/1501) C:\\Classes\\07_vision\\yolo\\test_image\\hiway.mp4: 384x640 9 cars, 213.5ms\n",
      "video 1/1 (1027/1501) C:\\Classes\\07_vision\\yolo\\test_image\\hiway.mp4: 384x640 9 cars, 252.5ms\n",
      "video 1/1 (1028/1501) C:\\Classes\\07_vision\\yolo\\test_image\\hiway.mp4: 384x640 10 cars, 639.2ms\n",
      "video 1/1 (1029/1501) C:\\Classes\\07_vision\\yolo\\test_image\\hiway.mp4: 384x640 8 cars, 361.9ms\n",
      "video 1/1 (1030/1501) C:\\Classes\\07_vision\\yolo\\test_image\\hiway.mp4: 384x640 8 cars, 349.3ms\n",
      "video 1/1 (1031/1501) C:\\Classes\\07_vision\\yolo\\test_image\\hiway.mp4: 384x640 8 cars, 182.9ms\n",
      "video 1/1 (1032/1501) C:\\Classes\\07_vision\\yolo\\test_image\\hiway.mp4: 384x640 8 cars, 229.5ms\n",
      "video 1/1 (1033/1501) C:\\Classes\\07_vision\\yolo\\test_image\\hiway.mp4: 384x640 8 cars, 206.1ms\n",
      "video 1/1 (1034/1501) C:\\Classes\\07_vision\\yolo\\test_image\\hiway.mp4: 384x640 8 cars, 233.3ms\n",
      "video 1/1 (1035/1501) C:\\Classes\\07_vision\\yolo\\test_image\\hiway.mp4: 384x640 8 cars, 227.3ms\n",
      "video 1/1 (1036/1501) C:\\Classes\\07_vision\\yolo\\test_image\\hiway.mp4: 384x640 9 cars, 285.4ms\n",
      "video 1/1 (1037/1501) C:\\Classes\\07_vision\\yolo\\test_image\\hiway.mp4: 384x640 8 cars, 215.1ms\n",
      "video 1/1 (1038/1501) C:\\Classes\\07_vision\\yolo\\test_image\\hiway.mp4: 384x640 11 cars, 276.4ms\n",
      "video 1/1 (1039/1501) C:\\Classes\\07_vision\\yolo\\test_image\\hiway.mp4: 384x640 11 cars, 253.2ms\n",
      "video 1/1 (1040/1501) C:\\Classes\\07_vision\\yolo\\test_image\\hiway.mp4: 384x640 11 cars, 192.8ms\n",
      "video 1/1 (1041/1501) C:\\Classes\\07_vision\\yolo\\test_image\\hiway.mp4: 384x640 13 cars, 217.4ms\n",
      "video 1/1 (1042/1501) C:\\Classes\\07_vision\\yolo\\test_image\\hiway.mp4: 384x640 11 cars, 271.9ms\n",
      "video 1/1 (1043/1501) C:\\Classes\\07_vision\\yolo\\test_image\\hiway.mp4: 384x640 10 cars, 159.1ms\n",
      "video 1/1 (1044/1501) C:\\Classes\\07_vision\\yolo\\test_image\\hiway.mp4: 384x640 11 cars, 184.6ms\n",
      "video 1/1 (1045/1501) C:\\Classes\\07_vision\\yolo\\test_image\\hiway.mp4: 384x640 11 cars, 160.1ms\n",
      "video 1/1 (1046/1501) C:\\Classes\\07_vision\\yolo\\test_image\\hiway.mp4: 384x640 12 cars, 154.5ms\n",
      "video 1/1 (1047/1501) C:\\Classes\\07_vision\\yolo\\test_image\\hiway.mp4: 384x640 10 cars, 229.8ms\n",
      "video 1/1 (1048/1501) C:\\Classes\\07_vision\\yolo\\test_image\\hiway.mp4: 384x640 10 cars, 202.0ms\n",
      "video 1/1 (1049/1501) C:\\Classes\\07_vision\\yolo\\test_image\\hiway.mp4: 384x640 13 cars, 202.4ms\n",
      "video 1/1 (1050/1501) C:\\Classes\\07_vision\\yolo\\test_image\\hiway.mp4: 384x640 10 cars, 231.0ms\n",
      "video 1/1 (1051/1501) C:\\Classes\\07_vision\\yolo\\test_image\\hiway.mp4: 384x640 11 cars, 253.4ms\n",
      "video 1/1 (1052/1501) C:\\Classes\\07_vision\\yolo\\test_image\\hiway.mp4: 384x640 11 cars, 250.6ms\n",
      "video 1/1 (1053/1501) C:\\Classes\\07_vision\\yolo\\test_image\\hiway.mp4: 384x640 12 cars, 294.6ms\n",
      "video 1/1 (1054/1501) C:\\Classes\\07_vision\\yolo\\test_image\\hiway.mp4: 384x640 11 cars, 217.4ms\n",
      "video 1/1 (1055/1501) C:\\Classes\\07_vision\\yolo\\test_image\\hiway.mp4: 384x640 12 cars, 224.7ms\n",
      "video 1/1 (1056/1501) C:\\Classes\\07_vision\\yolo\\test_image\\hiway.mp4: 384x640 11 cars, 226.0ms\n",
      "video 1/1 (1057/1501) C:\\Classes\\07_vision\\yolo\\test_image\\hiway.mp4: 384x640 13 cars, 248.3ms\n",
      "video 1/1 (1058/1501) C:\\Classes\\07_vision\\yolo\\test_image\\hiway.mp4: 384x640 13 cars, 252.4ms\n",
      "video 1/1 (1059/1501) C:\\Classes\\07_vision\\yolo\\test_image\\hiway.mp4: 384x640 14 cars, 275.3ms\n",
      "video 1/1 (1060/1501) C:\\Classes\\07_vision\\yolo\\test_image\\hiway.mp4: 384x640 13 cars, 260.2ms\n",
      "video 1/1 (1061/1501) C:\\Classes\\07_vision\\yolo\\test_image\\hiway.mp4: 384x640 13 cars, 252.7ms\n",
      "video 1/1 (1062/1501) C:\\Classes\\07_vision\\yolo\\test_image\\hiway.mp4: 384x640 12 cars, 213.2ms\n",
      "video 1/1 (1063/1501) C:\\Classes\\07_vision\\yolo\\test_image\\hiway.mp4: 384x640 12 cars, 224.4ms\n",
      "video 1/1 (1064/1501) C:\\Classes\\07_vision\\yolo\\test_image\\hiway.mp4: 384x640 11 cars, 223.4ms\n",
      "video 1/1 (1065/1501) C:\\Classes\\07_vision\\yolo\\test_image\\hiway.mp4: 384x640 11 cars, 189.5ms\n",
      "video 1/1 (1066/1501) C:\\Classes\\07_vision\\yolo\\test_image\\hiway.mp4: 384x640 11 cars, 247.0ms\n",
      "video 1/1 (1067/1501) C:\\Classes\\07_vision\\yolo\\test_image\\hiway.mp4: 384x640 10 cars, 299.1ms\n",
      "video 1/1 (1068/1501) C:\\Classes\\07_vision\\yolo\\test_image\\hiway.mp4: 384x640 12 cars, 263.8ms\n",
      "video 1/1 (1069/1501) C:\\Classes\\07_vision\\yolo\\test_image\\hiway.mp4: 384x640 11 cars, 217.3ms\n",
      "video 1/1 (1070/1501) C:\\Classes\\07_vision\\yolo\\test_image\\hiway.mp4: 384x640 12 cars, 1 truck, 207.9ms\n",
      "video 1/1 (1071/1501) C:\\Classes\\07_vision\\yolo\\test_image\\hiway.mp4: 384x640 10 cars, 266.3ms\n",
      "video 1/1 (1072/1501) C:\\Classes\\07_vision\\yolo\\test_image\\hiway.mp4: 384x640 12 cars, 1 truck, 227.2ms\n",
      "video 1/1 (1073/1501) C:\\Classes\\07_vision\\yolo\\test_image\\hiway.mp4: 384x640 12 cars, 267.2ms\n",
      "video 1/1 (1074/1501) C:\\Classes\\07_vision\\yolo\\test_image\\hiway.mp4: 384x640 11 cars, 239.9ms\n",
      "video 1/1 (1075/1501) C:\\Classes\\07_vision\\yolo\\test_image\\hiway.mp4: 384x640 11 cars, 296.2ms\n",
      "video 1/1 (1076/1501) C:\\Classes\\07_vision\\yolo\\test_image\\hiway.mp4: 384x640 11 cars, 244.7ms\n",
      "video 1/1 (1077/1501) C:\\Classes\\07_vision\\yolo\\test_image\\hiway.mp4: 384x640 11 cars, 261.5ms\n",
      "video 1/1 (1078/1501) C:\\Classes\\07_vision\\yolo\\test_image\\hiway.mp4: 384x640 11 cars, 199.5ms\n",
      "video 1/1 (1079/1501) C:\\Classes\\07_vision\\yolo\\test_image\\hiway.mp4: 384x640 11 cars, 218.3ms\n",
      "video 1/1 (1080/1501) C:\\Classes\\07_vision\\yolo\\test_image\\hiway.mp4: 384x640 11 cars, 208.2ms\n",
      "video 1/1 (1081/1501) C:\\Classes\\07_vision\\yolo\\test_image\\hiway.mp4: 384x640 11 cars, 212.1ms\n",
      "video 1/1 (1082/1501) C:\\Classes\\07_vision\\yolo\\test_image\\hiway.mp4: 384x640 11 cars, 262.8ms\n",
      "video 1/1 (1083/1501) C:\\Classes\\07_vision\\yolo\\test_image\\hiway.mp4: 384x640 10 cars, 271.8ms\n",
      "video 1/1 (1084/1501) C:\\Classes\\07_vision\\yolo\\test_image\\hiway.mp4: 384x640 10 cars, 184.7ms\n",
      "video 1/1 (1085/1501) C:\\Classes\\07_vision\\yolo\\test_image\\hiway.mp4: 384x640 10 cars, 186.0ms\n",
      "video 1/1 (1086/1501) C:\\Classes\\07_vision\\yolo\\test_image\\hiway.mp4: 384x640 11 cars, 236.4ms\n",
      "video 1/1 (1087/1501) C:\\Classes\\07_vision\\yolo\\test_image\\hiway.mp4: 384x640 13 cars, 200.1ms\n",
      "video 1/1 (1088/1501) C:\\Classes\\07_vision\\yolo\\test_image\\hiway.mp4: 384x640 11 cars, 183.5ms\n",
      "video 1/1 (1089/1501) C:\\Classes\\07_vision\\yolo\\test_image\\hiway.mp4: 384x640 11 cars, 178.6ms\n",
      "video 1/1 (1090/1501) C:\\Classes\\07_vision\\yolo\\test_image\\hiway.mp4: 384x640 13 cars, 171.3ms\n",
      "video 1/1 (1091/1501) C:\\Classes\\07_vision\\yolo\\test_image\\hiway.mp4: 384x640 13 cars, 194.8ms\n",
      "video 1/1 (1092/1501) C:\\Classes\\07_vision\\yolo\\test_image\\hiway.mp4: 384x640 13 cars, 201.0ms\n",
      "video 1/1 (1093/1501) C:\\Classes\\07_vision\\yolo\\test_image\\hiway.mp4: 384x640 13 cars, 198.7ms\n",
      "video 1/1 (1094/1501) C:\\Classes\\07_vision\\yolo\\test_image\\hiway.mp4: 384x640 13 cars, 163.1ms\n",
      "video 1/1 (1095/1501) C:\\Classes\\07_vision\\yolo\\test_image\\hiway.mp4: 384x640 13 cars, 149.8ms\n",
      "video 1/1 (1096/1501) C:\\Classes\\07_vision\\yolo\\test_image\\hiway.mp4: 384x640 12 cars, 172.6ms\n",
      "video 1/1 (1097/1501) C:\\Classes\\07_vision\\yolo\\test_image\\hiway.mp4: 384x640 15 cars, 155.8ms\n",
      "video 1/1 (1098/1501) C:\\Classes\\07_vision\\yolo\\test_image\\hiway.mp4: 384x640 15 cars, 149.3ms\n",
      "video 1/1 (1099/1501) C:\\Classes\\07_vision\\yolo\\test_image\\hiway.mp4: 384x640 14 cars, 172.4ms\n",
      "video 1/1 (1100/1501) C:\\Classes\\07_vision\\yolo\\test_image\\hiway.mp4: 384x640 14 cars, 195.4ms\n",
      "video 1/1 (1101/1501) C:\\Classes\\07_vision\\yolo\\test_image\\hiway.mp4: 384x640 14 cars, 232.2ms\n",
      "video 1/1 (1102/1501) C:\\Classes\\07_vision\\yolo\\test_image\\hiway.mp4: 384x640 13 cars, 251.0ms\n",
      "video 1/1 (1103/1501) C:\\Classes\\07_vision\\yolo\\test_image\\hiway.mp4: 384x640 14 cars, 211.5ms\n",
      "video 1/1 (1104/1501) C:\\Classes\\07_vision\\yolo\\test_image\\hiway.mp4: 384x640 15 cars, 226.2ms\n",
      "video 1/1 (1105/1501) C:\\Classes\\07_vision\\yolo\\test_image\\hiway.mp4: 384x640 13 cars, 192.7ms\n",
      "video 1/1 (1106/1501) C:\\Classes\\07_vision\\yolo\\test_image\\hiway.mp4: 384x640 13 cars, 228.2ms\n",
      "video 1/1 (1107/1501) C:\\Classes\\07_vision\\yolo\\test_image\\hiway.mp4: 384x640 13 cars, 213.3ms\n",
      "video 1/1 (1108/1501) C:\\Classes\\07_vision\\yolo\\test_image\\hiway.mp4: 384x640 14 cars, 283.1ms\n"
     ]
    },
    {
     "name": "stderr",
     "output_type": "stream",
     "text": [
      "video 1/1 (1109/1501) C:\\Classes\\07_vision\\yolo\\test_image\\hiway.mp4: 384x640 15 cars, 319.5ms\n",
      "video 1/1 (1110/1501) C:\\Classes\\07_vision\\yolo\\test_image\\hiway.mp4: 384x640 13 cars, 277.6ms\n",
      "video 1/1 (1111/1501) C:\\Classes\\07_vision\\yolo\\test_image\\hiway.mp4: 384x640 14 cars, 239.0ms\n",
      "video 1/1 (1112/1501) C:\\Classes\\07_vision\\yolo\\test_image\\hiway.mp4: 384x640 14 cars, 236.5ms\n",
      "video 1/1 (1113/1501) C:\\Classes\\07_vision\\yolo\\test_image\\hiway.mp4: 384x640 12 cars, 184.0ms\n",
      "video 1/1 (1114/1501) C:\\Classes\\07_vision\\yolo\\test_image\\hiway.mp4: 384x640 13 cars, 241.8ms\n",
      "video 1/1 (1115/1501) C:\\Classes\\07_vision\\yolo\\test_image\\hiway.mp4: 384x640 12 cars, 267.7ms\n",
      "video 1/1 (1116/1501) C:\\Classes\\07_vision\\yolo\\test_image\\hiway.mp4: 384x640 12 cars, 269.4ms\n",
      "video 1/1 (1117/1501) C:\\Classes\\07_vision\\yolo\\test_image\\hiway.mp4: 384x640 12 cars, 256.7ms\n",
      "video 1/1 (1118/1501) C:\\Classes\\07_vision\\yolo\\test_image\\hiway.mp4: 384x640 11 cars, 294.7ms\n",
      "video 1/1 (1119/1501) C:\\Classes\\07_vision\\yolo\\test_image\\hiway.mp4: 384x640 11 cars, 383.0ms\n",
      "video 1/1 (1120/1501) C:\\Classes\\07_vision\\yolo\\test_image\\hiway.mp4: 384x640 12 cars, 437.7ms\n",
      "video 1/1 (1121/1501) C:\\Classes\\07_vision\\yolo\\test_image\\hiway.mp4: 384x640 11 cars, 268.6ms\n",
      "video 1/1 (1122/1501) C:\\Classes\\07_vision\\yolo\\test_image\\hiway.mp4: 384x640 11 cars, 309.5ms\n",
      "video 1/1 (1123/1501) C:\\Classes\\07_vision\\yolo\\test_image\\hiway.mp4: 384x640 11 cars, 283.3ms\n",
      "video 1/1 (1124/1501) C:\\Classes\\07_vision\\yolo\\test_image\\hiway.mp4: 384x640 12 cars, 228.7ms\n",
      "video 1/1 (1125/1501) C:\\Classes\\07_vision\\yolo\\test_image\\hiway.mp4: 384x640 11 cars, 211.0ms\n",
      "video 1/1 (1126/1501) C:\\Classes\\07_vision\\yolo\\test_image\\hiway.mp4: 384x640 11 cars, 230.2ms\n",
      "video 1/1 (1127/1501) C:\\Classes\\07_vision\\yolo\\test_image\\hiway.mp4: 384x640 10 cars, 187.5ms\n",
      "video 1/1 (1128/1501) C:\\Classes\\07_vision\\yolo\\test_image\\hiway.mp4: 384x640 11 cars, 310.3ms\n",
      "video 1/1 (1129/1501) C:\\Classes\\07_vision\\yolo\\test_image\\hiway.mp4: 384x640 11 cars, 268.5ms\n",
      "video 1/1 (1130/1501) C:\\Classes\\07_vision\\yolo\\test_image\\hiway.mp4: 384x640 11 cars, 252.4ms\n",
      "video 1/1 (1131/1501) C:\\Classes\\07_vision\\yolo\\test_image\\hiway.mp4: 384x640 10 cars, 218.2ms\n",
      "video 1/1 (1132/1501) C:\\Classes\\07_vision\\yolo\\test_image\\hiway.mp4: 384x640 9 cars, 246.5ms\n",
      "video 1/1 (1133/1501) C:\\Classes\\07_vision\\yolo\\test_image\\hiway.mp4: 384x640 9 cars, 202.2ms\n",
      "video 1/1 (1134/1501) C:\\Classes\\07_vision\\yolo\\test_image\\hiway.mp4: 384x640 9 cars, 249.3ms\n",
      "video 1/1 (1135/1501) C:\\Classes\\07_vision\\yolo\\test_image\\hiway.mp4: 384x640 12 cars, 190.0ms\n",
      "video 1/1 (1136/1501) C:\\Classes\\07_vision\\yolo\\test_image\\hiway.mp4: 384x640 11 cars, 232.4ms\n",
      "video 1/1 (1137/1501) C:\\Classes\\07_vision\\yolo\\test_image\\hiway.mp4: 384x640 11 cars, 223.4ms\n",
      "video 1/1 (1138/1501) C:\\Classes\\07_vision\\yolo\\test_image\\hiway.mp4: 384x640 10 cars, 247.9ms\n",
      "video 1/1 (1139/1501) C:\\Classes\\07_vision\\yolo\\test_image\\hiway.mp4: 384x640 10 cars, 213.0ms\n",
      "video 1/1 (1140/1501) C:\\Classes\\07_vision\\yolo\\test_image\\hiway.mp4: 384x640 10 cars, 220.0ms\n",
      "video 1/1 (1141/1501) C:\\Classes\\07_vision\\yolo\\test_image\\hiway.mp4: 384x640 10 cars, 200.6ms\n",
      "video 1/1 (1142/1501) C:\\Classes\\07_vision\\yolo\\test_image\\hiway.mp4: 384x640 11 cars, 205.8ms\n",
      "video 1/1 (1143/1501) C:\\Classes\\07_vision\\yolo\\test_image\\hiway.mp4: 384x640 10 cars, 208.3ms\n",
      "video 1/1 (1144/1501) C:\\Classes\\07_vision\\yolo\\test_image\\hiway.mp4: 384x640 12 cars, 267.1ms\n",
      "video 1/1 (1145/1501) C:\\Classes\\07_vision\\yolo\\test_image\\hiway.mp4: 384x640 9 cars, 238.4ms\n",
      "video 1/1 (1146/1501) C:\\Classes\\07_vision\\yolo\\test_image\\hiway.mp4: 384x640 10 cars, 226.6ms\n",
      "video 1/1 (1147/1501) C:\\Classes\\07_vision\\yolo\\test_image\\hiway.mp4: 384x640 10 cars, 235.8ms\n",
      "video 1/1 (1148/1501) C:\\Classes\\07_vision\\yolo\\test_image\\hiway.mp4: 384x640 11 cars, 250.9ms\n",
      "video 1/1 (1149/1501) C:\\Classes\\07_vision\\yolo\\test_image\\hiway.mp4: 384x640 12 cars, 221.9ms\n",
      "video 1/1 (1150/1501) C:\\Classes\\07_vision\\yolo\\test_image\\hiway.mp4: 384x640 12 cars, 195.3ms\n",
      "video 1/1 (1151/1501) C:\\Classes\\07_vision\\yolo\\test_image\\hiway.mp4: 384x640 12 cars, 267.7ms\n",
      "video 1/1 (1152/1501) C:\\Classes\\07_vision\\yolo\\test_image\\hiway.mp4: 384x640 9 cars, 215.7ms\n",
      "video 1/1 (1153/1501) C:\\Classes\\07_vision\\yolo\\test_image\\hiway.mp4: 384x640 12 cars, 248.8ms\n",
      "video 1/1 (1154/1501) C:\\Classes\\07_vision\\yolo\\test_image\\hiway.mp4: 384x640 11 cars, 257.7ms\n",
      "video 1/1 (1155/1501) C:\\Classes\\07_vision\\yolo\\test_image\\hiway.mp4: 384x640 12 cars, 228.4ms\n",
      "video 1/1 (1156/1501) C:\\Classes\\07_vision\\yolo\\test_image\\hiway.mp4: 384x640 10 cars, 212.5ms\n",
      "video 1/1 (1157/1501) C:\\Classes\\07_vision\\yolo\\test_image\\hiway.mp4: 384x640 10 cars, 192.5ms\n",
      "video 1/1 (1158/1501) C:\\Classes\\07_vision\\yolo\\test_image\\hiway.mp4: 384x640 13 cars, 198.1ms\n",
      "video 1/1 (1159/1501) C:\\Classes\\07_vision\\yolo\\test_image\\hiway.mp4: 384x640 10 cars, 276.2ms\n",
      "video 1/1 (1160/1501) C:\\Classes\\07_vision\\yolo\\test_image\\hiway.mp4: 384x640 11 cars, 262.0ms\n",
      "video 1/1 (1161/1501) C:\\Classes\\07_vision\\yolo\\test_image\\hiway.mp4: 384x640 10 cars, 225.7ms\n",
      "video 1/1 (1162/1501) C:\\Classes\\07_vision\\yolo\\test_image\\hiway.mp4: 384x640 11 cars, 263.5ms\n",
      "video 1/1 (1163/1501) C:\\Classes\\07_vision\\yolo\\test_image\\hiway.mp4: 384x640 10 cars, 170.0ms\n",
      "video 1/1 (1164/1501) C:\\Classes\\07_vision\\yolo\\test_image\\hiway.mp4: 384x640 10 cars, 174.0ms\n",
      "video 1/1 (1165/1501) C:\\Classes\\07_vision\\yolo\\test_image\\hiway.mp4: 384x640 10 cars, 153.2ms\n",
      "video 1/1 (1166/1501) C:\\Classes\\07_vision\\yolo\\test_image\\hiway.mp4: 384x640 11 cars, 147.5ms\n",
      "video 1/1 (1167/1501) C:\\Classes\\07_vision\\yolo\\test_image\\hiway.mp4: 384x640 10 cars, 218.9ms\n",
      "video 1/1 (1168/1501) C:\\Classes\\07_vision\\yolo\\test_image\\hiway.mp4: 384x640 12 cars, 255.3ms\n",
      "video 1/1 (1169/1501) C:\\Classes\\07_vision\\yolo\\test_image\\hiway.mp4: 384x640 13 cars, 244.7ms\n",
      "video 1/1 (1170/1501) C:\\Classes\\07_vision\\yolo\\test_image\\hiway.mp4: 384x640 12 cars, 245.7ms\n",
      "video 1/1 (1171/1501) C:\\Classes\\07_vision\\yolo\\test_image\\hiway.mp4: 384x640 13 cars, 259.5ms\n",
      "video 1/1 (1172/1501) C:\\Classes\\07_vision\\yolo\\test_image\\hiway.mp4: 384x640 12 cars, 228.6ms\n",
      "video 1/1 (1173/1501) C:\\Classes\\07_vision\\yolo\\test_image\\hiway.mp4: 384x640 11 cars, 226.5ms\n",
      "video 1/1 (1174/1501) C:\\Classes\\07_vision\\yolo\\test_image\\hiway.mp4: 384x640 9 cars, 239.4ms\n",
      "video 1/1 (1175/1501) C:\\Classes\\07_vision\\yolo\\test_image\\hiway.mp4: 384x640 11 cars, 182.7ms\n",
      "video 1/1 (1176/1501) C:\\Classes\\07_vision\\yolo\\test_image\\hiway.mp4: 384x640 13 cars, 223.8ms\n",
      "video 1/1 (1177/1501) C:\\Classes\\07_vision\\yolo\\test_image\\hiway.mp4: 384x640 11 cars, 289.6ms\n",
      "video 1/1 (1178/1501) C:\\Classes\\07_vision\\yolo\\test_image\\hiway.mp4: 384x640 11 cars, 260.8ms\n",
      "video 1/1 (1179/1501) C:\\Classes\\07_vision\\yolo\\test_image\\hiway.mp4: 384x640 8 cars, 256.8ms\n",
      "video 1/1 (1180/1501) C:\\Classes\\07_vision\\yolo\\test_image\\hiway.mp4: 384x640 9 cars, 248.3ms\n",
      "video 1/1 (1181/1501) C:\\Classes\\07_vision\\yolo\\test_image\\hiway.mp4: 384x640 8 cars, 289.1ms\n",
      "video 1/1 (1182/1501) C:\\Classes\\07_vision\\yolo\\test_image\\hiway.mp4: 384x640 7 cars, 287.0ms\n",
      "video 1/1 (1183/1501) C:\\Classes\\07_vision\\yolo\\test_image\\hiway.mp4: 384x640 6 cars, 332.7ms\n",
      "video 1/1 (1184/1501) C:\\Classes\\07_vision\\yolo\\test_image\\hiway.mp4: 384x640 6 cars, 480.1ms\n",
      "video 1/1 (1185/1501) C:\\Classes\\07_vision\\yolo\\test_image\\hiway.mp4: 384x640 5 cars, 331.4ms\n",
      "video 1/1 (1186/1501) C:\\Classes\\07_vision\\yolo\\test_image\\hiway.mp4: 384x640 7 cars, 333.2ms\n",
      "video 1/1 (1187/1501) C:\\Classes\\07_vision\\yolo\\test_image\\hiway.mp4: 384x640 5 cars, 352.5ms\n",
      "video 1/1 (1188/1501) C:\\Classes\\07_vision\\yolo\\test_image\\hiway.mp4: 384x640 7 cars, 447.0ms\n",
      "video 1/1 (1189/1501) C:\\Classes\\07_vision\\yolo\\test_image\\hiway.mp4: 384x640 9 cars, 391.4ms\n",
      "video 1/1 (1190/1501) C:\\Classes\\07_vision\\yolo\\test_image\\hiway.mp4: 384x640 9 cars, 265.9ms\n",
      "video 1/1 (1191/1501) C:\\Classes\\07_vision\\yolo\\test_image\\hiway.mp4: 384x640 8 cars, 235.3ms\n",
      "video 1/1 (1192/1501) C:\\Classes\\07_vision\\yolo\\test_image\\hiway.mp4: 384x640 9 cars, 211.8ms\n",
      "video 1/1 (1193/1501) C:\\Classes\\07_vision\\yolo\\test_image\\hiway.mp4: 384x640 9 cars, 222.7ms\n",
      "video 1/1 (1194/1501) C:\\Classes\\07_vision\\yolo\\test_image\\hiway.mp4: 384x640 8 cars, 272.2ms\n",
      "video 1/1 (1195/1501) C:\\Classes\\07_vision\\yolo\\test_image\\hiway.mp4: 384x640 7 cars, 241.0ms\n"
     ]
    },
    {
     "name": "stderr",
     "output_type": "stream",
     "text": [
      "video 1/1 (1196/1501) C:\\Classes\\07_vision\\yolo\\test_image\\hiway.mp4: 384x640 10 cars, 277.9ms\n",
      "video 1/1 (1197/1501) C:\\Classes\\07_vision\\yolo\\test_image\\hiway.mp4: 384x640 9 cars, 250.6ms\n",
      "video 1/1 (1198/1501) C:\\Classes\\07_vision\\yolo\\test_image\\hiway.mp4: 384x640 8 cars, 243.9ms\n",
      "video 1/1 (1199/1501) C:\\Classes\\07_vision\\yolo\\test_image\\hiway.mp4: 384x640 6 cars, 196.5ms\n",
      "video 1/1 (1200/1501) C:\\Classes\\07_vision\\yolo\\test_image\\hiway.mp4: 384x640 9 cars, 208.5ms\n",
      "video 1/1 (1201/1501) C:\\Classes\\07_vision\\yolo\\test_image\\hiway.mp4: 384x640 8 cars, 227.6ms\n",
      "video 1/1 (1202/1501) C:\\Classes\\07_vision\\yolo\\test_image\\hiway.mp4: 384x640 7 cars, 206.4ms\n",
      "video 1/1 (1203/1501) C:\\Classes\\07_vision\\yolo\\test_image\\hiway.mp4: 384x640 8 cars, 205.9ms\n",
      "video 1/1 (1204/1501) C:\\Classes\\07_vision\\yolo\\test_image\\hiway.mp4: 384x640 8 cars, 450.5ms\n",
      "video 1/1 (1205/1501) C:\\Classes\\07_vision\\yolo\\test_image\\hiway.mp4: 384x640 9 cars, 194.5ms\n",
      "video 1/1 (1206/1501) C:\\Classes\\07_vision\\yolo\\test_image\\hiway.mp4: 384x640 8 cars, 198.5ms\n",
      "video 1/1 (1207/1501) C:\\Classes\\07_vision\\yolo\\test_image\\hiway.mp4: 384x640 9 cars, 192.0ms\n",
      "video 1/1 (1208/1501) C:\\Classes\\07_vision\\yolo\\test_image\\hiway.mp4: 384x640 9 cars, 183.1ms\n",
      "video 1/1 (1209/1501) C:\\Classes\\07_vision\\yolo\\test_image\\hiway.mp4: 384x640 10 cars, 186.4ms\n",
      "video 1/1 (1210/1501) C:\\Classes\\07_vision\\yolo\\test_image\\hiway.mp4: 384x640 9 cars, 168.4ms\n",
      "video 1/1 (1211/1501) C:\\Classes\\07_vision\\yolo\\test_image\\hiway.mp4: 384x640 8 cars, 224.0ms\n",
      "video 1/1 (1212/1501) C:\\Classes\\07_vision\\yolo\\test_image\\hiway.mp4: 384x640 9 cars, 192.4ms\n",
      "video 1/1 (1213/1501) C:\\Classes\\07_vision\\yolo\\test_image\\hiway.mp4: 384x640 9 cars, 207.2ms\n",
      "video 1/1 (1214/1501) C:\\Classes\\07_vision\\yolo\\test_image\\hiway.mp4: 384x640 8 cars, 254.0ms\n",
      "video 1/1 (1215/1501) C:\\Classes\\07_vision\\yolo\\test_image\\hiway.mp4: 384x640 9 cars, 204.4ms\n",
      "video 1/1 (1216/1501) C:\\Classes\\07_vision\\yolo\\test_image\\hiway.mp4: 384x640 10 cars, 191.2ms\n",
      "video 1/1 (1217/1501) C:\\Classes\\07_vision\\yolo\\test_image\\hiway.mp4: 384x640 8 cars, 214.2ms\n",
      "video 1/1 (1218/1501) C:\\Classes\\07_vision\\yolo\\test_image\\hiway.mp4: 384x640 11 cars, 178.4ms\n",
      "video 1/1 (1219/1501) C:\\Classes\\07_vision\\yolo\\test_image\\hiway.mp4: 384x640 9 cars, 188.5ms\n",
      "video 1/1 (1220/1501) C:\\Classes\\07_vision\\yolo\\test_image\\hiway.mp4: 384x640 8 cars, 208.7ms\n",
      "video 1/1 (1221/1501) C:\\Classes\\07_vision\\yolo\\test_image\\hiway.mp4: 384x640 9 cars, 211.6ms\n",
      "video 1/1 (1222/1501) C:\\Classes\\07_vision\\yolo\\test_image\\hiway.mp4: 384x640 9 cars, 202.0ms\n",
      "video 1/1 (1223/1501) C:\\Classes\\07_vision\\yolo\\test_image\\hiway.mp4: 384x640 9 cars, 231.7ms\n",
      "video 1/1 (1224/1501) C:\\Classes\\07_vision\\yolo\\test_image\\hiway.mp4: 384x640 9 cars, 255.0ms\n",
      "video 1/1 (1225/1501) C:\\Classes\\07_vision\\yolo\\test_image\\hiway.mp4: 384x640 9 cars, 539.9ms\n",
      "video 1/1 (1226/1501) C:\\Classes\\07_vision\\yolo\\test_image\\hiway.mp4: 384x640 7 cars, 416.8ms\n",
      "video 1/1 (1227/1501) C:\\Classes\\07_vision\\yolo\\test_image\\hiway.mp4: 384x640 8 cars, 467.2ms\n",
      "video 1/1 (1228/1501) C:\\Classes\\07_vision\\yolo\\test_image\\hiway.mp4: 384x640 12 cars, 362.2ms\n",
      "video 1/1 (1229/1501) C:\\Classes\\07_vision\\yolo\\test_image\\hiway.mp4: 384x640 11 cars, 271.2ms\n",
      "video 1/1 (1230/1501) C:\\Classes\\07_vision\\yolo\\test_image\\hiway.mp4: 384x640 12 cars, 281.3ms\n",
      "video 1/1 (1231/1501) C:\\Classes\\07_vision\\yolo\\test_image\\hiway.mp4: 384x640 12 cars, 262.5ms\n",
      "video 1/1 (1232/1501) C:\\Classes\\07_vision\\yolo\\test_image\\hiway.mp4: 384x640 11 cars, 302.7ms\n",
      "video 1/1 (1233/1501) C:\\Classes\\07_vision\\yolo\\test_image\\hiway.mp4: 384x640 12 cars, 289.9ms\n",
      "video 1/1 (1234/1501) C:\\Classes\\07_vision\\yolo\\test_image\\hiway.mp4: 384x640 11 cars, 264.5ms\n",
      "video 1/1 (1235/1501) C:\\Classes\\07_vision\\yolo\\test_image\\hiway.mp4: 384x640 11 cars, 227.2ms\n",
      "video 1/1 (1236/1501) C:\\Classes\\07_vision\\yolo\\test_image\\hiway.mp4: 384x640 11 cars, 284.6ms\n",
      "video 1/1 (1237/1501) C:\\Classes\\07_vision\\yolo\\test_image\\hiway.mp4: 384x640 12 cars, 255.6ms\n",
      "video 1/1 (1238/1501) C:\\Classes\\07_vision\\yolo\\test_image\\hiway.mp4: 384x640 14 cars, 379.7ms\n",
      "video 1/1 (1239/1501) C:\\Classes\\07_vision\\yolo\\test_image\\hiway.mp4: 384x640 12 cars, 275.6ms\n",
      "video 1/1 (1240/1501) C:\\Classes\\07_vision\\yolo\\test_image\\hiway.mp4: 384x640 12 cars, 311.7ms\n",
      "video 1/1 (1241/1501) C:\\Classes\\07_vision\\yolo\\test_image\\hiway.mp4: 384x640 11 cars, 415.0ms\n",
      "video 1/1 (1242/1501) C:\\Classes\\07_vision\\yolo\\test_image\\hiway.mp4: 384x640 11 cars, 221.6ms\n",
      "video 1/1 (1243/1501) C:\\Classes\\07_vision\\yolo\\test_image\\hiway.mp4: 384x640 11 cars, 225.0ms\n",
      "video 1/1 (1244/1501) C:\\Classes\\07_vision\\yolo\\test_image\\hiway.mp4: 384x640 11 cars, 286.8ms\n",
      "video 1/1 (1245/1501) C:\\Classes\\07_vision\\yolo\\test_image\\hiway.mp4: 384x640 9 cars, 371.4ms\n",
      "video 1/1 (1246/1501) C:\\Classes\\07_vision\\yolo\\test_image\\hiway.mp4: 384x640 9 cars, 257.5ms\n",
      "video 1/1 (1247/1501) C:\\Classes\\07_vision\\yolo\\test_image\\hiway.mp4: 384x640 11 cars, 246.0ms\n",
      "video 1/1 (1248/1501) C:\\Classes\\07_vision\\yolo\\test_image\\hiway.mp4: 384x640 11 cars, 213.2ms\n",
      "video 1/1 (1249/1501) C:\\Classes\\07_vision\\yolo\\test_image\\hiway.mp4: 384x640 11 cars, 254.4ms\n",
      "video 1/1 (1250/1501) C:\\Classes\\07_vision\\yolo\\test_image\\hiway.mp4: 384x640 11 cars, 211.8ms\n",
      "video 1/1 (1251/1501) C:\\Classes\\07_vision\\yolo\\test_image\\hiway.mp4: 384x640 10 cars, 237.4ms\n",
      "video 1/1 (1252/1501) C:\\Classes\\07_vision\\yolo\\test_image\\hiway.mp4: 384x640 10 cars, 216.0ms\n",
      "video 1/1 (1253/1501) C:\\Classes\\07_vision\\yolo\\test_image\\hiway.mp4: 384x640 11 cars, 285.7ms\n",
      "video 1/1 (1254/1501) C:\\Classes\\07_vision\\yolo\\test_image\\hiway.mp4: 384x640 10 cars, 248.7ms\n",
      "video 1/1 (1255/1501) C:\\Classes\\07_vision\\yolo\\test_image\\hiway.mp4: 384x640 10 cars, 228.1ms\n",
      "video 1/1 (1256/1501) C:\\Classes\\07_vision\\yolo\\test_image\\hiway.mp4: 384x640 10 cars, 189.6ms\n",
      "video 1/1 (1257/1501) C:\\Classes\\07_vision\\yolo\\test_image\\hiway.mp4: 384x640 9 cars, 258.5ms\n",
      "video 1/1 (1258/1501) C:\\Classes\\07_vision\\yolo\\test_image\\hiway.mp4: 384x640 9 cars, 186.6ms\n",
      "video 1/1 (1259/1501) C:\\Classes\\07_vision\\yolo\\test_image\\hiway.mp4: 384x640 10 cars, 233.9ms\n",
      "video 1/1 (1260/1501) C:\\Classes\\07_vision\\yolo\\test_image\\hiway.mp4: 384x640 8 cars, 292.5ms\n",
      "video 1/1 (1261/1501) C:\\Classes\\07_vision\\yolo\\test_image\\hiway.mp4: 384x640 8 cars, 252.1ms\n",
      "video 1/1 (1262/1501) C:\\Classes\\07_vision\\yolo\\test_image\\hiway.mp4: 384x640 9 cars, 220.9ms\n",
      "video 1/1 (1263/1501) C:\\Classes\\07_vision\\yolo\\test_image\\hiway.mp4: 384x640 10 cars, 265.3ms\n",
      "video 1/1 (1264/1501) C:\\Classes\\07_vision\\yolo\\test_image\\hiway.mp4: 384x640 9 cars, 201.7ms\n",
      "video 1/1 (1265/1501) C:\\Classes\\07_vision\\yolo\\test_image\\hiway.mp4: 384x640 11 cars, 200.4ms\n",
      "video 1/1 (1266/1501) C:\\Classes\\07_vision\\yolo\\test_image\\hiway.mp4: 384x640 9 cars, 194.6ms\n",
      "video 1/1 (1267/1501) C:\\Classes\\07_vision\\yolo\\test_image\\hiway.mp4: 384x640 9 cars, 236.0ms\n",
      "video 1/1 (1268/1501) C:\\Classes\\07_vision\\yolo\\test_image\\hiway.mp4: 384x640 10 cars, 244.1ms\n",
      "video 1/1 (1269/1501) C:\\Classes\\07_vision\\yolo\\test_image\\hiway.mp4: 384x640 10 cars, 232.4ms\n",
      "video 1/1 (1270/1501) C:\\Classes\\07_vision\\yolo\\test_image\\hiway.mp4: 384x640 9 cars, 239.0ms\n",
      "video 1/1 (1271/1501) C:\\Classes\\07_vision\\yolo\\test_image\\hiway.mp4: 384x640 9 cars, 189.0ms\n",
      "video 1/1 (1272/1501) C:\\Classes\\07_vision\\yolo\\test_image\\hiway.mp4: 384x640 9 cars, 221.3ms\n",
      "video 1/1 (1273/1501) C:\\Classes\\07_vision\\yolo\\test_image\\hiway.mp4: 384x640 9 cars, 208.5ms\n",
      "video 1/1 (1274/1501) C:\\Classes\\07_vision\\yolo\\test_image\\hiway.mp4: 384x640 7 cars, 186.9ms\n",
      "video 1/1 (1275/1501) C:\\Classes\\07_vision\\yolo\\test_image\\hiway.mp4: 384x640 7 cars, 226.2ms\n",
      "video 1/1 (1276/1501) C:\\Classes\\07_vision\\yolo\\test_image\\hiway.mp4: 384x640 8 cars, 259.9ms\n",
      "video 1/1 (1277/1501) C:\\Classes\\07_vision\\yolo\\test_image\\hiway.mp4: 384x640 8 cars, 270.3ms\n",
      "video 1/1 (1278/1501) C:\\Classes\\07_vision\\yolo\\test_image\\hiway.mp4: 384x640 8 cars, 232.5ms\n",
      "video 1/1 (1279/1501) C:\\Classes\\07_vision\\yolo\\test_image\\hiway.mp4: 384x640 10 cars, 241.0ms\n",
      "video 1/1 (1280/1501) C:\\Classes\\07_vision\\yolo\\test_image\\hiway.mp4: 384x640 11 cars, 174.0ms\n",
      "video 1/1 (1281/1501) C:\\Classes\\07_vision\\yolo\\test_image\\hiway.mp4: 384x640 8 cars, 246.1ms\n",
      "video 1/1 (1282/1501) C:\\Classes\\07_vision\\yolo\\test_image\\hiway.mp4: 384x640 11 cars, 221.6ms\n"
     ]
    },
    {
     "name": "stderr",
     "output_type": "stream",
     "text": [
      "video 1/1 (1283/1501) C:\\Classes\\07_vision\\yolo\\test_image\\hiway.mp4: 384x640 10 cars, 216.4ms\n",
      "video 1/1 (1284/1501) C:\\Classes\\07_vision\\yolo\\test_image\\hiway.mp4: 384x640 8 cars, 219.8ms\n",
      "video 1/1 (1285/1501) C:\\Classes\\07_vision\\yolo\\test_image\\hiway.mp4: 384x640 9 cars, 1 truck, 287.1ms\n",
      "video 1/1 (1286/1501) C:\\Classes\\07_vision\\yolo\\test_image\\hiway.mp4: 384x640 11 cars, 235.6ms\n",
      "video 1/1 (1287/1501) C:\\Classes\\07_vision\\yolo\\test_image\\hiway.mp4: 384x640 10 cars, 1 truck, 278.1ms\n",
      "video 1/1 (1288/1501) C:\\Classes\\07_vision\\yolo\\test_image\\hiway.mp4: 384x640 8 cars, 1 truck, 219.3ms\n",
      "video 1/1 (1289/1501) C:\\Classes\\07_vision\\yolo\\test_image\\hiway.mp4: 384x640 8 cars, 1 truck, 183.5ms\n",
      "video 1/1 (1290/1501) C:\\Classes\\07_vision\\yolo\\test_image\\hiway.mp4: 384x640 9 cars, 1 truck, 207.9ms\n",
      "video 1/1 (1291/1501) C:\\Classes\\07_vision\\yolo\\test_image\\hiway.mp4: 384x640 9 cars, 1 truck, 279.7ms\n",
      "video 1/1 (1292/1501) C:\\Classes\\07_vision\\yolo\\test_image\\hiway.mp4: 384x640 9 cars, 1 truck, 177.3ms\n",
      "video 1/1 (1293/1501) C:\\Classes\\07_vision\\yolo\\test_image\\hiway.mp4: 384x640 11 cars, 183.3ms\n",
      "video 1/1 (1294/1501) C:\\Classes\\07_vision\\yolo\\test_image\\hiway.mp4: 384x640 10 cars, 155.6ms\n",
      "video 1/1 (1295/1501) C:\\Classes\\07_vision\\yolo\\test_image\\hiway.mp4: 384x640 10 cars, 164.9ms\n",
      "video 1/1 (1296/1501) C:\\Classes\\07_vision\\yolo\\test_image\\hiway.mp4: 384x640 11 cars, 165.2ms\n",
      "video 1/1 (1297/1501) C:\\Classes\\07_vision\\yolo\\test_image\\hiway.mp4: 384x640 12 cars, 289.0ms\n",
      "video 1/1 (1298/1501) C:\\Classes\\07_vision\\yolo\\test_image\\hiway.mp4: 384x640 11 cars, 391.0ms\n",
      "video 1/1 (1299/1501) C:\\Classes\\07_vision\\yolo\\test_image\\hiway.mp4: 384x640 13 cars, 309.5ms\n",
      "video 1/1 (1300/1501) C:\\Classes\\07_vision\\yolo\\test_image\\hiway.mp4: 384x640 11 cars, 321.5ms\n",
      "video 1/1 (1301/1501) C:\\Classes\\07_vision\\yolo\\test_image\\hiway.mp4: 384x640 10 cars, 272.8ms\n",
      "video 1/1 (1302/1501) C:\\Classes\\07_vision\\yolo\\test_image\\hiway.mp4: 384x640 10 cars, 403.9ms\n",
      "video 1/1 (1303/1501) C:\\Classes\\07_vision\\yolo\\test_image\\hiway.mp4: 384x640 10 cars, 239.1ms\n",
      "video 1/1 (1304/1501) C:\\Classes\\07_vision\\yolo\\test_image\\hiway.mp4: 384x640 11 cars, 277.5ms\n",
      "video 1/1 (1305/1501) C:\\Classes\\07_vision\\yolo\\test_image\\hiway.mp4: 384x640 12 cars, 312.7ms\n",
      "video 1/1 (1306/1501) C:\\Classes\\07_vision\\yolo\\test_image\\hiway.mp4: 384x640 11 cars, 268.0ms\n",
      "video 1/1 (1307/1501) C:\\Classes\\07_vision\\yolo\\test_image\\hiway.mp4: 384x640 10 cars, 277.7ms\n",
      "video 1/1 (1308/1501) C:\\Classes\\07_vision\\yolo\\test_image\\hiway.mp4: 384x640 11 cars, 243.3ms\n",
      "video 1/1 (1309/1501) C:\\Classes\\07_vision\\yolo\\test_image\\hiway.mp4: 384x640 10 cars, 343.3ms\n",
      "video 1/1 (1310/1501) C:\\Classes\\07_vision\\yolo\\test_image\\hiway.mp4: 384x640 11 cars, 270.0ms\n",
      "video 1/1 (1311/1501) C:\\Classes\\07_vision\\yolo\\test_image\\hiway.mp4: 384x640 12 cars, 265.9ms\n",
      "video 1/1 (1312/1501) C:\\Classes\\07_vision\\yolo\\test_image\\hiway.mp4: 384x640 12 cars, 306.9ms\n",
      "video 1/1 (1313/1501) C:\\Classes\\07_vision\\yolo\\test_image\\hiway.mp4: 384x640 11 cars, 260.2ms\n",
      "video 1/1 (1314/1501) C:\\Classes\\07_vision\\yolo\\test_image\\hiway.mp4: 384x640 11 cars, 301.8ms\n",
      "video 1/1 (1315/1501) C:\\Classes\\07_vision\\yolo\\test_image\\hiway.mp4: 384x640 10 cars, 267.5ms\n",
      "video 1/1 (1316/1501) C:\\Classes\\07_vision\\yolo\\test_image\\hiway.mp4: 384x640 11 cars, 237.2ms\n",
      "video 1/1 (1317/1501) C:\\Classes\\07_vision\\yolo\\test_image\\hiway.mp4: 384x640 9 cars, 270.1ms\n",
      "video 1/1 (1318/1501) C:\\Classes\\07_vision\\yolo\\test_image\\hiway.mp4: 384x640 9 cars, 213.6ms\n",
      "video 1/1 (1319/1501) C:\\Classes\\07_vision\\yolo\\test_image\\hiway.mp4: 384x640 8 cars, 1 bus, 265.9ms\n",
      "video 1/1 (1320/1501) C:\\Classes\\07_vision\\yolo\\test_image\\hiway.mp4: 384x640 9 cars, 1 bus, 253.6ms\n",
      "video 1/1 (1321/1501) C:\\Classes\\07_vision\\yolo\\test_image\\hiway.mp4: 384x640 10 cars, 1 bus, 244.7ms\n",
      "video 1/1 (1322/1501) C:\\Classes\\07_vision\\yolo\\test_image\\hiway.mp4: 384x640 10 cars, 1 bus, 225.4ms\n",
      "video 1/1 (1323/1501) C:\\Classes\\07_vision\\yolo\\test_image\\hiway.mp4: 384x640 9 cars, 1 bus, 253.8ms\n",
      "video 1/1 (1324/1501) C:\\Classes\\07_vision\\yolo\\test_image\\hiway.mp4: 384x640 10 cars, 1 bus, 224.7ms\n",
      "video 1/1 (1325/1501) C:\\Classes\\07_vision\\yolo\\test_image\\hiway.mp4: 384x640 10 cars, 1 bus, 242.2ms\n",
      "video 1/1 (1326/1501) C:\\Classes\\07_vision\\yolo\\test_image\\hiway.mp4: 384x640 10 cars, 1 bus, 403.7ms\n",
      "video 1/1 (1327/1501) C:\\Classes\\07_vision\\yolo\\test_image\\hiway.mp4: 384x640 9 cars, 1 bus, 265.2ms\n",
      "video 1/1 (1328/1501) C:\\Classes\\07_vision\\yolo\\test_image\\hiway.mp4: 384x640 10 cars, 1 bus, 267.3ms\n",
      "video 1/1 (1329/1501) C:\\Classes\\07_vision\\yolo\\test_image\\hiway.mp4: 384x640 10 cars, 1 bus, 255.4ms\n",
      "video 1/1 (1330/1501) C:\\Classes\\07_vision\\yolo\\test_image\\hiway.mp4: 384x640 11 cars, 215.1ms\n",
      "video 1/1 (1331/1501) C:\\Classes\\07_vision\\yolo\\test_image\\hiway.mp4: 384x640 11 cars, 262.2ms\n",
      "video 1/1 (1332/1501) C:\\Classes\\07_vision\\yolo\\test_image\\hiway.mp4: 384x640 11 cars, 233.2ms\n",
      "video 1/1 (1333/1501) C:\\Classes\\07_vision\\yolo\\test_image\\hiway.mp4: 384x640 10 cars, 242.8ms\n",
      "video 1/1 (1334/1501) C:\\Classes\\07_vision\\yolo\\test_image\\hiway.mp4: 384x640 10 cars, 254.5ms\n",
      "video 1/1 (1335/1501) C:\\Classes\\07_vision\\yolo\\test_image\\hiway.mp4: 384x640 10 cars, 223.6ms\n",
      "video 1/1 (1336/1501) C:\\Classes\\07_vision\\yolo\\test_image\\hiway.mp4: 384x640 10 cars, 222.0ms\n",
      "video 1/1 (1337/1501) C:\\Classes\\07_vision\\yolo\\test_image\\hiway.mp4: 384x640 11 cars, 221.0ms\n",
      "video 1/1 (1338/1501) C:\\Classes\\07_vision\\yolo\\test_image\\hiway.mp4: 384x640 13 cars, 370.5ms\n",
      "video 1/1 (1339/1501) C:\\Classes\\07_vision\\yolo\\test_image\\hiway.mp4: 384x640 10 cars, 256.6ms\n",
      "video 1/1 (1340/1501) C:\\Classes\\07_vision\\yolo\\test_image\\hiway.mp4: 384x640 11 cars, 387.8ms\n",
      "video 1/1 (1341/1501) C:\\Classes\\07_vision\\yolo\\test_image\\hiway.mp4: 384x640 10 cars, 384.2ms\n",
      "video 1/1 (1342/1501) C:\\Classes\\07_vision\\yolo\\test_image\\hiway.mp4: 384x640 9 cars, 331.0ms\n",
      "video 1/1 (1343/1501) C:\\Classes\\07_vision\\yolo\\test_image\\hiway.mp4: 384x640 10 cars, 1 bus, 314.0ms\n",
      "video 1/1 (1344/1501) C:\\Classes\\07_vision\\yolo\\test_image\\hiway.mp4: 384x640 10 cars, 1 bus, 343.0ms\n",
      "video 1/1 (1345/1501) C:\\Classes\\07_vision\\yolo\\test_image\\hiway.mp4: 384x640 10 cars, 274.1ms\n",
      "video 1/1 (1346/1501) C:\\Classes\\07_vision\\yolo\\test_image\\hiway.mp4: 384x640 11 cars, 305.2ms\n",
      "video 1/1 (1347/1501) C:\\Classes\\07_vision\\yolo\\test_image\\hiway.mp4: 384x640 10 cars, 244.4ms\n",
      "video 1/1 (1348/1501) C:\\Classes\\07_vision\\yolo\\test_image\\hiway.mp4: 384x640 10 cars, 263.9ms\n",
      "video 1/1 (1349/1501) C:\\Classes\\07_vision\\yolo\\test_image\\hiway.mp4: 384x640 9 cars, 220.3ms\n",
      "video 1/1 (1350/1501) C:\\Classes\\07_vision\\yolo\\test_image\\hiway.mp4: 384x640 9 cars, 293.6ms\n",
      "video 1/1 (1351/1501) C:\\Classes\\07_vision\\yolo\\test_image\\hiway.mp4: 384x640 10 cars, 1 bus, 472.8ms\n",
      "video 1/1 (1352/1501) C:\\Classes\\07_vision\\yolo\\test_image\\hiway.mp4: 384x640 9 cars, 1 bus, 500.4ms\n",
      "video 1/1 (1353/1501) C:\\Classes\\07_vision\\yolo\\test_image\\hiway.mp4: 384x640 9 cars, 1 bus, 618.3ms\n",
      "video 1/1 (1354/1501) C:\\Classes\\07_vision\\yolo\\test_image\\hiway.mp4: 384x640 7 cars, 1 bus, 542.1ms\n",
      "video 1/1 (1355/1501) C:\\Classes\\07_vision\\yolo\\test_image\\hiway.mp4: 384x640 10 cars, 355.0ms\n",
      "video 1/1 (1356/1501) C:\\Classes\\07_vision\\yolo\\test_image\\hiway.mp4: 384x640 10 cars, 1 bus, 373.8ms\n",
      "video 1/1 (1357/1501) C:\\Classes\\07_vision\\yolo\\test_image\\hiway.mp4: 384x640 8 cars, 1 bus, 333.8ms\n",
      "video 1/1 (1358/1501) C:\\Classes\\07_vision\\yolo\\test_image\\hiway.mp4: 384x640 7 cars, 1 bus, 275.9ms\n",
      "video 1/1 (1359/1501) C:\\Classes\\07_vision\\yolo\\test_image\\hiway.mp4: 384x640 7 cars, 1 bus, 293.9ms\n",
      "video 1/1 (1360/1501) C:\\Classes\\07_vision\\yolo\\test_image\\hiway.mp4: 384x640 8 cars, 1 bus, 304.4ms\n",
      "video 1/1 (1361/1501) C:\\Classes\\07_vision\\yolo\\test_image\\hiway.mp4: 384x640 8 cars, 1 bus, 281.3ms\n",
      "video 1/1 (1362/1501) C:\\Classes\\07_vision\\yolo\\test_image\\hiway.mp4: 384x640 8 cars, 1 bus, 363.3ms\n",
      "video 1/1 (1363/1501) C:\\Classes\\07_vision\\yolo\\test_image\\hiway.mp4: 384x640 8 cars, 1 bus, 334.7ms\n",
      "video 1/1 (1364/1501) C:\\Classes\\07_vision\\yolo\\test_image\\hiway.mp4: 384x640 9 cars, 1 bus, 270.1ms\n",
      "video 1/1 (1365/1501) C:\\Classes\\07_vision\\yolo\\test_image\\hiway.mp4: 384x640 8 cars, 1 bus, 269.8ms\n",
      "video 1/1 (1366/1501) C:\\Classes\\07_vision\\yolo\\test_image\\hiway.mp4: 384x640 9 cars, 1 bus, 280.0ms\n"
     ]
    },
    {
     "name": "stderr",
     "output_type": "stream",
     "text": [
      "video 1/1 (1367/1501) C:\\Classes\\07_vision\\yolo\\test_image\\hiway.mp4: 384x640 12 cars, 1 bus, 332.0ms\n",
      "video 1/1 (1368/1501) C:\\Classes\\07_vision\\yolo\\test_image\\hiway.mp4: 384x640 9 cars, 1 bus, 331.5ms\n",
      "video 1/1 (1369/1501) C:\\Classes\\07_vision\\yolo\\test_image\\hiway.mp4: 384x640 9 cars, 1 bus, 376.1ms\n",
      "video 1/1 (1370/1501) C:\\Classes\\07_vision\\yolo\\test_image\\hiway.mp4: 384x640 7 cars, 1 bus, 481.6ms\n",
      "video 1/1 (1371/1501) C:\\Classes\\07_vision\\yolo\\test_image\\hiway.mp4: 384x640 8 cars, 1 bus, 262.2ms\n",
      "video 1/1 (1372/1501) C:\\Classes\\07_vision\\yolo\\test_image\\hiway.mp4: 384x640 8 cars, 1 bus, 496.1ms\n",
      "video 1/1 (1373/1501) C:\\Classes\\07_vision\\yolo\\test_image\\hiway.mp4: 384x640 9 cars, 1 bus, 595.8ms\n",
      "video 1/1 (1374/1501) C:\\Classes\\07_vision\\yolo\\test_image\\hiway.mp4: 384x640 9 cars, 1 bus, 385.8ms\n",
      "video 1/1 (1375/1501) C:\\Classes\\07_vision\\yolo\\test_image\\hiway.mp4: 384x640 10 cars, 1 bus, 260.2ms\n",
      "video 1/1 (1376/1501) C:\\Classes\\07_vision\\yolo\\test_image\\hiway.mp4: 384x640 9 cars, 1 bus, 253.0ms\n",
      "video 1/1 (1377/1501) C:\\Classes\\07_vision\\yolo\\test_image\\hiway.mp4: 384x640 9 cars, 1 bus, 330.8ms\n",
      "video 1/1 (1378/1501) C:\\Classes\\07_vision\\yolo\\test_image\\hiway.mp4: 384x640 10 cars, 1 bus, 637.8ms\n",
      "video 1/1 (1379/1501) C:\\Classes\\07_vision\\yolo\\test_image\\hiway.mp4: 384x640 10 cars, 1 bus, 362.4ms\n",
      "video 1/1 (1380/1501) C:\\Classes\\07_vision\\yolo\\test_image\\hiway.mp4: 384x640 9 cars, 1 bus, 971.3ms\n",
      "video 1/1 (1381/1501) C:\\Classes\\07_vision\\yolo\\test_image\\hiway.mp4: 384x640 9 cars, 1 bus, 694.0ms\n",
      "video 1/1 (1382/1501) C:\\Classes\\07_vision\\yolo\\test_image\\hiway.mp4: 384x640 9 cars, 1 bus, 341.7ms\n",
      "video 1/1 (1383/1501) C:\\Classes\\07_vision\\yolo\\test_image\\hiway.mp4: 384x640 9 cars, 2 buss, 255.8ms\n",
      "video 1/1 (1384/1501) C:\\Classes\\07_vision\\yolo\\test_image\\hiway.mp4: 384x640 9 cars, 2 buss, 508.2ms\n",
      "video 1/1 (1385/1501) C:\\Classes\\07_vision\\yolo\\test_image\\hiway.mp4: 384x640 8 cars, 1 bus, 761.4ms\n",
      "video 1/1 (1386/1501) C:\\Classes\\07_vision\\yolo\\test_image\\hiway.mp4: 384x640 9 cars, 2 buss, 1414.8ms\n",
      "video 1/1 (1387/1501) C:\\Classes\\07_vision\\yolo\\test_image\\hiway.mp4: 384x640 9 cars, 1 bus, 337.9ms\n",
      "video 1/1 (1388/1501) C:\\Classes\\07_vision\\yolo\\test_image\\hiway.mp4: 384x640 8 cars, 2 buss, 339.8ms\n",
      "video 1/1 (1389/1501) C:\\Classes\\07_vision\\yolo\\test_image\\hiway.mp4: 384x640 8 cars, 2 buss, 296.8ms\n",
      "video 1/1 (1390/1501) C:\\Classes\\07_vision\\yolo\\test_image\\hiway.mp4: 384x640 9 cars, 1 bus, 1 truck, 243.7ms\n",
      "video 1/1 (1391/1501) C:\\Classes\\07_vision\\yolo\\test_image\\hiway.mp4: 384x640 9 cars, 1 bus, 296.2ms\n",
      "video 1/1 (1392/1501) C:\\Classes\\07_vision\\yolo\\test_image\\hiway.mp4: 384x640 8 cars, 1 bus, 1 truck, 491.9ms\n",
      "video 1/1 (1393/1501) C:\\Classes\\07_vision\\yolo\\test_image\\hiway.mp4: 384x640 9 cars, 1 bus, 1 truck, 355.9ms\n",
      "video 1/1 (1394/1501) C:\\Classes\\07_vision\\yolo\\test_image\\hiway.mp4: 384x640 9 cars, 1 bus, 1 truck, 328.1ms\n",
      "video 1/1 (1395/1501) C:\\Classes\\07_vision\\yolo\\test_image\\hiway.mp4: 384x640 9 cars, 1 bus, 287.8ms\n",
      "video 1/1 (1396/1501) C:\\Classes\\07_vision\\yolo\\test_image\\hiway.mp4: 384x640 11 cars, 1 bus, 300.5ms\n",
      "video 1/1 (1397/1501) C:\\Classes\\07_vision\\yolo\\test_image\\hiway.mp4: 384x640 10 cars, 1 bus, 386.1ms\n",
      "video 1/1 (1398/1501) C:\\Classes\\07_vision\\yolo\\test_image\\hiway.mp4: 384x640 10 cars, 1 bus, 628.3ms\n",
      "video 1/1 (1399/1501) C:\\Classes\\07_vision\\yolo\\test_image\\hiway.mp4: 384x640 10 cars, 1 bus, 853.8ms\n",
      "video 1/1 (1400/1501) C:\\Classes\\07_vision\\yolo\\test_image\\hiway.mp4: 384x640 10 cars, 1 bus, 677.7ms\n",
      "video 1/1 (1401/1501) C:\\Classes\\07_vision\\yolo\\test_image\\hiway.mp4: 384x640 10 cars, 1 bus, 413.1ms\n",
      "video 1/1 (1402/1501) C:\\Classes\\07_vision\\yolo\\test_image\\hiway.mp4: 384x640 10 cars, 1 bus, 363.1ms\n",
      "video 1/1 (1403/1501) C:\\Classes\\07_vision\\yolo\\test_image\\hiway.mp4: 384x640 10 cars, 1 bus, 388.4ms\n",
      "video 1/1 (1404/1501) C:\\Classes\\07_vision\\yolo\\test_image\\hiway.mp4: 384x640 10 cars, 1 bus, 709.0ms\n",
      "video 1/1 (1405/1501) C:\\Classes\\07_vision\\yolo\\test_image\\hiway.mp4: 384x640 8 cars, 1 bus, 211.2ms\n",
      "video 1/1 (1406/1501) C:\\Classes\\07_vision\\yolo\\test_image\\hiway.mp4: 384x640 8 cars, 1 bus, 278.9ms\n",
      "video 1/1 (1407/1501) C:\\Classes\\07_vision\\yolo\\test_image\\hiway.mp4: 384x640 8 cars, 1 bus, 248.6ms\n",
      "video 1/1 (1408/1501) C:\\Classes\\07_vision\\yolo\\test_image\\hiway.mp4: 384x640 9 cars, 1 bus, 232.3ms\n",
      "video 1/1 (1409/1501) C:\\Classes\\07_vision\\yolo\\test_image\\hiway.mp4: 384x640 9 cars, 1 bus, 257.9ms\n",
      "video 1/1 (1410/1501) C:\\Classes\\07_vision\\yolo\\test_image\\hiway.mp4: 384x640 10 cars, 1 bus, 293.3ms\n",
      "video 1/1 (1411/1501) C:\\Classes\\07_vision\\yolo\\test_image\\hiway.mp4: 384x640 10 cars, 1 bus, 306.2ms\n",
      "video 1/1 (1412/1501) C:\\Classes\\07_vision\\yolo\\test_image\\hiway.mp4: 384x640 8 cars, 1 bus, 240.1ms\n",
      "video 1/1 (1413/1501) C:\\Classes\\07_vision\\yolo\\test_image\\hiway.mp4: 384x640 6 cars, 1 bus, 246.8ms\n",
      "video 1/1 (1414/1501) C:\\Classes\\07_vision\\yolo\\test_image\\hiway.mp4: 384x640 7 cars, 1 bus, 265.9ms\n",
      "video 1/1 (1415/1501) C:\\Classes\\07_vision\\yolo\\test_image\\hiway.mp4: 384x640 9 cars, 1 bus, 235.1ms\n",
      "video 1/1 (1416/1501) C:\\Classes\\07_vision\\yolo\\test_image\\hiway.mp4: 384x640 8 cars, 1 bus, 908.1ms\n",
      "video 1/1 (1417/1501) C:\\Classes\\07_vision\\yolo\\test_image\\hiway.mp4: 384x640 11 cars, 1 bus, 394.1ms\n",
      "video 1/1 (1418/1501) C:\\Classes\\07_vision\\yolo\\test_image\\hiway.mp4: 384x640 6 cars, 1 bus, 524.9ms\n",
      "video 1/1 (1419/1501) C:\\Classes\\07_vision\\yolo\\test_image\\hiway.mp4: 384x640 10 cars, 1 bus, 1125.2ms\n",
      "video 1/1 (1420/1501) C:\\Classes\\07_vision\\yolo\\test_image\\hiway.mp4: 384x640 9 cars, 1 bus, 798.3ms\n",
      "video 1/1 (1421/1501) C:\\Classes\\07_vision\\yolo\\test_image\\hiway.mp4: 384x640 9 cars, 1 bus, 525.3ms\n",
      "video 1/1 (1422/1501) C:\\Classes\\07_vision\\yolo\\test_image\\hiway.mp4: 384x640 9 cars, 1 bus, 324.3ms\n",
      "video 1/1 (1423/1501) C:\\Classes\\07_vision\\yolo\\test_image\\hiway.mp4: 384x640 10 cars, 1 bus, 239.0ms\n",
      "video 1/1 (1424/1501) C:\\Classes\\07_vision\\yolo\\test_image\\hiway.mp4: 384x640 8 cars, 1 bus, 223.8ms\n",
      "video 1/1 (1425/1501) C:\\Classes\\07_vision\\yolo\\test_image\\hiway.mp4: 384x640 9 cars, 1 bus, 212.1ms\n",
      "video 1/1 (1426/1501) C:\\Classes\\07_vision\\yolo\\test_image\\hiway.mp4: 384x640 9 cars, 1 bus, 267.2ms\n",
      "video 1/1 (1427/1501) C:\\Classes\\07_vision\\yolo\\test_image\\hiway.mp4: 384x640 9 cars, 1 bus, 355.0ms\n",
      "video 1/1 (1428/1501) C:\\Classes\\07_vision\\yolo\\test_image\\hiway.mp4: 384x640 13 cars, 1 bus, 420.8ms\n",
      "video 1/1 (1429/1501) C:\\Classes\\07_vision\\yolo\\test_image\\hiway.mp4: 384x640 13 cars, 1 bus, 306.6ms\n",
      "video 1/1 (1430/1501) C:\\Classes\\07_vision\\yolo\\test_image\\hiway.mp4: 384x640 9 cars, 1 bus, 246.2ms\n",
      "video 1/1 (1431/1501) C:\\Classes\\07_vision\\yolo\\test_image\\hiway.mp4: 384x640 10 cars, 1 bus, 349.0ms\n",
      "video 1/1 (1432/1501) C:\\Classes\\07_vision\\yolo\\test_image\\hiway.mp4: 384x640 8 cars, 1 bus, 327.3ms\n",
      "video 1/1 (1433/1501) C:\\Classes\\07_vision\\yolo\\test_image\\hiway.mp4: 384x640 9 cars, 1 bus, 335.5ms\n",
      "video 1/1 (1434/1501) C:\\Classes\\07_vision\\yolo\\test_image\\hiway.mp4: 384x640 8 cars, 1 bus, 351.4ms\n",
      "video 1/1 (1435/1501) C:\\Classes\\07_vision\\yolo\\test_image\\hiway.mp4: 384x640 9 cars, 1 bus, 247.5ms\n",
      "video 1/1 (1436/1501) C:\\Classes\\07_vision\\yolo\\test_image\\hiway.mp4: 384x640 9 cars, 1 bus, 216.6ms\n",
      "video 1/1 (1437/1501) C:\\Classes\\07_vision\\yolo\\test_image\\hiway.mp4: 384x640 9 cars, 1 bus, 338.6ms\n",
      "video 1/1 (1438/1501) C:\\Classes\\07_vision\\yolo\\test_image\\hiway.mp4: 384x640 8 cars, 1 bus, 280.3ms\n",
      "video 1/1 (1439/1501) C:\\Classes\\07_vision\\yolo\\test_image\\hiway.mp4: 384x640 8 cars, 1 bus, 376.3ms\n",
      "video 1/1 (1440/1501) C:\\Classes\\07_vision\\yolo\\test_image\\hiway.mp4: 384x640 8 cars, 1 bus, 399.0ms\n",
      "video 1/1 (1441/1501) C:\\Classes\\07_vision\\yolo\\test_image\\hiway.mp4: 384x640 10 cars, 1 bus, 346.3ms\n",
      "video 1/1 (1442/1501) C:\\Classes\\07_vision\\yolo\\test_image\\hiway.mp4: 384x640 9 cars, 1 bus, 281.6ms\n",
      "video 1/1 (1443/1501) C:\\Classes\\07_vision\\yolo\\test_image\\hiway.mp4: 384x640 1 person, 8 cars, 1 bus, 286.1ms\n",
      "video 1/1 (1444/1501) C:\\Classes\\07_vision\\yolo\\test_image\\hiway.mp4: 384x640 9 cars, 1 bus, 369.6ms\n",
      "video 1/1 (1445/1501) C:\\Classes\\07_vision\\yolo\\test_image\\hiway.mp4: 384x640 8 cars, 1 bus, 411.3ms\n",
      "video 1/1 (1446/1501) C:\\Classes\\07_vision\\yolo\\test_image\\hiway.mp4: 384x640 7 cars, 1 bus, 343.3ms\n",
      "video 1/1 (1447/1501) C:\\Classes\\07_vision\\yolo\\test_image\\hiway.mp4: 384x640 8 cars, 1 bus, 339.8ms\n"
     ]
    },
    {
     "name": "stderr",
     "output_type": "stream",
     "text": [
      "video 1/1 (1448/1501) C:\\Classes\\07_vision\\yolo\\test_image\\hiway.mp4: 384x640 7 cars, 1 bus, 276.2ms\n",
      "video 1/1 (1449/1501) C:\\Classes\\07_vision\\yolo\\test_image\\hiway.mp4: 384x640 6 cars, 1 bus, 291.9ms\n",
      "video 1/1 (1450/1501) C:\\Classes\\07_vision\\yolo\\test_image\\hiway.mp4: 384x640 8 cars, 1 bus, 458.3ms\n",
      "video 1/1 (1451/1501) C:\\Classes\\07_vision\\yolo\\test_image\\hiway.mp4: 384x640 7 cars, 1 bus, 348.9ms\n",
      "video 1/1 (1452/1501) C:\\Classes\\07_vision\\yolo\\test_image\\hiway.mp4: 384x640 8 cars, 1 bus, 297.8ms\n",
      "video 1/1 (1453/1501) C:\\Classes\\07_vision\\yolo\\test_image\\hiway.mp4: 384x640 10 cars, 1 bus, 346.7ms\n",
      "video 1/1 (1454/1501) C:\\Classes\\07_vision\\yolo\\test_image\\hiway.mp4: 384x640 7 cars, 1 bus, 268.1ms\n",
      "video 1/1 (1455/1501) C:\\Classes\\07_vision\\yolo\\test_image\\hiway.mp4: 384x640 7 cars, 1 bus, 391.5ms\n",
      "video 1/1 (1456/1501) C:\\Classes\\07_vision\\yolo\\test_image\\hiway.mp4: 384x640 1 person, 7 cars, 1 bus, 287.8ms\n",
      "video 1/1 (1457/1501) C:\\Classes\\07_vision\\yolo\\test_image\\hiway.mp4: 384x640 7 cars, 1 bus, 313.1ms\n",
      "video 1/1 (1458/1501) C:\\Classes\\07_vision\\yolo\\test_image\\hiway.mp4: 384x640 7 cars, 1 bus, 291.5ms\n",
      "video 1/1 (1459/1501) C:\\Classes\\07_vision\\yolo\\test_image\\hiway.mp4: 384x640 7 cars, 1 bus, 303.9ms\n",
      "video 1/1 (1460/1501) C:\\Classes\\07_vision\\yolo\\test_image\\hiway.mp4: 384x640 10 cars, 1 bus, 485.8ms\n",
      "video 1/1 (1461/1501) C:\\Classes\\07_vision\\yolo\\test_image\\hiway.mp4: 384x640 8 cars, 536.8ms\n",
      "video 1/1 (1462/1501) C:\\Classes\\07_vision\\yolo\\test_image\\hiway.mp4: 384x640 1 person, 7 cars, 1 train, 424.0ms\n",
      "video 1/1 (1463/1501) C:\\Classes\\07_vision\\yolo\\test_image\\hiway.mp4: 384x640 2 persons, 7 cars, 335.7ms\n",
      "video 1/1 (1464/1501) C:\\Classes\\07_vision\\yolo\\test_image\\hiway.mp4: 384x640 1 person, 8 cars, 1 train, 344.5ms\n",
      "video 1/1 (1465/1501) C:\\Classes\\07_vision\\yolo\\test_image\\hiway.mp4: 384x640 6 cars, 342.3ms\n",
      "video 1/1 (1466/1501) C:\\Classes\\07_vision\\yolo\\test_image\\hiway.mp4: 384x640 1 person, 7 cars, 412.3ms\n",
      "video 1/1 (1467/1501) C:\\Classes\\07_vision\\yolo\\test_image\\hiway.mp4: 384x640 7 cars, 387.0ms\n",
      "video 1/1 (1468/1501) C:\\Classes\\07_vision\\yolo\\test_image\\hiway.mp4: 384x640 8 cars, 305.4ms\n",
      "video 1/1 (1469/1501) C:\\Classes\\07_vision\\yolo\\test_image\\hiway.mp4: 384x640 1 person, 7 cars, 491.9ms\n",
      "video 1/1 (1470/1501) C:\\Classes\\07_vision\\yolo\\test_image\\hiway.mp4: 384x640 8 cars, 387.9ms\n",
      "video 1/1 (1471/1501) C:\\Classes\\07_vision\\yolo\\test_image\\hiway.mp4: 384x640 7 cars, 273.1ms\n",
      "video 1/1 (1472/1501) C:\\Classes\\07_vision\\yolo\\test_image\\hiway.mp4: 384x640 8 cars, 261.4ms\n",
      "video 1/1 (1473/1501) C:\\Classes\\07_vision\\yolo\\test_image\\hiway.mp4: 384x640 7 cars, 289.3ms\n",
      "video 1/1 (1474/1501) C:\\Classes\\07_vision\\yolo\\test_image\\hiway.mp4: 384x640 7 cars, 317.2ms\n",
      "video 1/1 (1475/1501) C:\\Classes\\07_vision\\yolo\\test_image\\hiway.mp4: 384x640 7 cars, 763.4ms\n",
      "video 1/1 (1476/1501) C:\\Classes\\07_vision\\yolo\\test_image\\hiway.mp4: 384x640 8 cars, 328.1ms\n",
      "video 1/1 (1477/1501) C:\\Classes\\07_vision\\yolo\\test_image\\hiway.mp4: 384x640 9 cars, 206.0ms\n",
      "video 1/1 (1478/1501) C:\\Classes\\07_vision\\yolo\\test_image\\hiway.mp4: 384x640 7 cars, 229.0ms\n",
      "video 1/1 (1479/1501) C:\\Classes\\07_vision\\yolo\\test_image\\hiway.mp4: 384x640 8 cars, 348.0ms\n",
      "video 1/1 (1480/1501) C:\\Classes\\07_vision\\yolo\\test_image\\hiway.mp4: 384x640 9 cars, 1100.5ms\n",
      "video 1/1 (1481/1501) C:\\Classes\\07_vision\\yolo\\test_image\\hiway.mp4: 384x640 7 cars, 294.5ms\n",
      "video 1/1 (1482/1501) C:\\Classes\\07_vision\\yolo\\test_image\\hiway.mp4: 384x640 8 cars, 300.4ms\n",
      "video 1/1 (1483/1501) C:\\Classes\\07_vision\\yolo\\test_image\\hiway.mp4: 384x640 7 cars, 289.0ms\n",
      "video 1/1 (1484/1501) C:\\Classes\\07_vision\\yolo\\test_image\\hiway.mp4: 384x640 9 cars, 1 bus, 335.8ms\n",
      "video 1/1 (1485/1501) C:\\Classes\\07_vision\\yolo\\test_image\\hiway.mp4: 384x640 9 cars, 1 bus, 401.4ms\n",
      "video 1/1 (1486/1501) C:\\Classes\\07_vision\\yolo\\test_image\\hiway.mp4: 384x640 9 cars, 1 bus, 353.2ms\n",
      "video 1/1 (1487/1501) C:\\Classes\\07_vision\\yolo\\test_image\\hiway.mp4: 384x640 9 cars, 1 bus, 288.5ms\n",
      "video 1/1 (1488/1501) C:\\Classes\\07_vision\\yolo\\test_image\\hiway.mp4: 384x640 10 cars, 1 bus, 395.5ms\n",
      "video 1/1 (1489/1501) C:\\Classes\\07_vision\\yolo\\test_image\\hiway.mp4: 384x640 9 cars, 1 bus, 457.4ms\n",
      "video 1/1 (1490/1501) C:\\Classes\\07_vision\\yolo\\test_image\\hiway.mp4: 384x640 8 cars, 248.5ms\n",
      "video 1/1 (1491/1501) C:\\Classes\\07_vision\\yolo\\test_image\\hiway.mp4: 384x640 8 cars, 408.4ms\n",
      "video 1/1 (1492/1501) C:\\Classes\\07_vision\\yolo\\test_image\\hiway.mp4: 384x640 9 cars, 1 bus, 262.8ms\n",
      "video 1/1 (1493/1501) C:\\Classes\\07_vision\\yolo\\test_image\\hiway.mp4: 384x640 9 cars, 265.5ms\n",
      "video 1/1 (1494/1501) C:\\Classes\\07_vision\\yolo\\test_image\\hiway.mp4: 384x640 8 cars, 232.5ms\n",
      "video 1/1 (1495/1501) C:\\Classes\\07_vision\\yolo\\test_image\\hiway.mp4: 384x640 7 cars, 308.4ms\n",
      "video 1/1 (1496/1501) C:\\Classes\\07_vision\\yolo\\test_image\\hiway.mp4: 384x640 7 cars, 308.1ms\n",
      "video 1/1 (1497/1501) C:\\Classes\\07_vision\\yolo\\test_image\\hiway.mp4: 384x640 7 cars, 322.4ms\n",
      "video 1/1 (1498/1501) C:\\Classes\\07_vision\\yolo\\test_image\\hiway.mp4: 384x640 8 cars, 222.7ms\n",
      "video 1/1 (1499/1501) C:\\Classes\\07_vision\\yolo\\test_image\\hiway.mp4: 384x640 6 cars, 1 bus, 289.6ms\n",
      "video 1/1 (1500/1501) C:\\Classes\\07_vision\\yolo\\test_image\\hiway.mp4: 384x640 8 cars, 283.9ms\n",
      "video 1/1 (1501/1501) C:\\Classes\\07_vision\\yolo\\test_image\\hiway.mp4: 384x640 11 cars, 304.1ms\n",
      "Speed: 3.9ms preprocess, 262.4ms inference, 3.2ms postprocess per image at shape (1, 3, 640, 640)\n",
      "Results saved to \u001b[1mruns\\detect\\predict8\u001b[0m\n"
     ]
    }
   ],
   "source": [
    "model2 = YOLO('models/yolov8n.pt')\n",
    "result_list = model2('test_image/hiway.mp4', save=True)"
   ]
  },
  {
   "cell_type": "code",
   "execution_count": null,
   "id": "dd48973e",
   "metadata": {},
   "outputs": [],
   "source": []
  },
  {
   "cell_type": "code",
   "execution_count": null,
   "id": "4b1ed999",
   "metadata": {},
   "outputs": [],
   "source": []
  },
  {
   "cell_type": "code",
   "execution_count": null,
   "id": "eb23a53a",
   "metadata": {},
   "outputs": [],
   "source": []
  },
  {
   "cell_type": "code",
   "execution_count": null,
   "id": "6f8057fa",
   "metadata": {},
   "outputs": [],
   "source": []
  },
  {
   "cell_type": "code",
   "execution_count": null,
   "id": "4edc578f",
   "metadata": {},
   "outputs": [],
   "source": []
  },
  {
   "cell_type": "code",
   "execution_count": null,
   "id": "341d807a",
   "metadata": {},
   "outputs": [],
   "source": []
  },
  {
   "cell_type": "code",
   "execution_count": null,
   "id": "168875b0",
   "metadata": {},
   "outputs": [],
   "source": []
  }
 ],
 "metadata": {
  "kernelspec": {
   "display_name": "Python 3 (ipykernel)",
   "language": "python",
   "name": "python3"
  },
  "language_info": {
   "codemirror_mode": {
    "name": "ipython",
    "version": 3
   },
   "file_extension": ".py",
   "mimetype": "text/x-python",
   "name": "python",
   "nbconvert_exporter": "python",
   "pygments_lexer": "ipython3",
   "version": "3.9.16"
  },
  "toc": {
   "base_numbering": 1,
   "nav_menu": {},
   "number_sections": false,
   "sideBar": true,
   "skip_h1_title": false,
   "title_cell": "Table of Contents",
   "title_sidebar": "Contents",
   "toc_cell": false,
   "toc_position": {
    "height": "calc(100% - 180px)",
    "left": "10px",
    "top": "150px",
    "width": "307.2px"
   },
   "toc_section_display": true,
   "toc_window_display": false
  },
  "varInspector": {
   "cols": {
    "lenName": 16,
    "lenType": 16,
    "lenVar": 40
   },
   "kernels_config": {
    "python": {
     "delete_cmd_postfix": "",
     "delete_cmd_prefix": "del ",
     "library": "var_list.py",
     "varRefreshCmd": "print(var_dic_list())"
    },
    "r": {
     "delete_cmd_postfix": ") ",
     "delete_cmd_prefix": "rm(",
     "library": "var_list.r",
     "varRefreshCmd": "cat(var_dic_list()) "
    }
   },
   "types_to_exclude": [
    "module",
    "function",
    "builtin_function_or_method",
    "instance",
    "_Feature"
   ],
   "window_display": false
  },
  "vscode": {
   "interpreter": {
    "hash": "d6bb26803bcea62f49e4c67963aa289be587a14c784102c9499967ce94407a08"
   }
  }
 },
 "nbformat": 4,
 "nbformat_minor": 5
}
