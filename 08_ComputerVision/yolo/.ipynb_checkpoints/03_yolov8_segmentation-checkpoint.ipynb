{
 "cells": [
  {
   "cell_type": "markdown",
   "id": "dc51ebf5",
   "metadata": {},
   "source": [
    "# Segmentation\n",
    "\n",
    "- 모델명 : xxxxx-seg\n",
    "\n",
    "## 모델로딩"
   ]
  },
  {
   "cell_type": "code",
   "execution_count": null,
   "id": "76523574",
   "metadata": {},
   "outputs": [],
   "source": []
  },
  {
   "cell_type": "markdown",
   "id": "cd40cb77",
   "metadata": {},
   "source": [
    "## Segmentation 추론결과 조회\n",
    "- segmentation 추론 결과는 Masks를 이용해 분할된 mask 정보와 Boxes를 이용해 추론한 bounding box의 결과를 조회한다.\n",
    "- **ultralytics.yolo.engine.results.Masks**\n",
    "    - Segmentation 의 결과 type\n",
    "    - Results.masks 로 조회한다.\n",
    "    - 주요 속성, 메소드\n",
    "        - shape: [object 개수, height, width]\n",
    "            - height, width: mask image size\n",
    "        - data/masks: 결과 Tensor(3차원 배열) 반환. `0: 배경, 1: 물체` 를 원소로 가지는 결과 Tensor를 반환한다.\n",
    "            - 픽셀별로 물체 인지 아닌 지를 표현하는 tensor를 반환\n",
    "        - segments : mask의 bounding 좌표(경계선 좌표)를 물체별로 list에 담아서 반환한다.\n",
    "            - 물체의 외곽선을 그리는 좌표들을 반환\n",
    "- **ultralytics.yolo.engine.results.Boxes**\n",
    "     - Results.boxes로 조회\n",
    "    - 주요 속성\n",
    "        - shape: 결과 shape. (찾은 물체개수, 6)\n",
    "        - boxes\n",
    "            - 6: 좌상단 x, 좌상단 y, 우하단 x, 우하단 y, confidence score, label\n",
    "        - xyxy\n",
    "            - bounding box의 `좌상단 x, 좌상단 y, 우하단 x, 우하단 y` 좌표 반환\n",
    "        - xyxyn\n",
    "            - xyxy를 이미지 대비 비율로 반환\n",
    "        - xywh\n",
    "            - bounding box의 `center x, center y, 너비, 높이` 를 반환\n",
    "        - xywhn\n",
    "            - xywh를 이미지 대비 비율로 반환\n",
    "        - cls: 찾은 물체의 label\n",
    "        - conf: cls에 대한 confidence score (그 물체일 확률)\n",
    "        - boxes\n",
    "            - `x, y, x, y, conf, cls` tensor를 반환            "
   ]
  },
  {
   "cell_type": "code",
   "execution_count": null,
   "id": "70e3c7ee",
   "metadata": {},
   "outputs": [],
   "source": []
  },
  {
   "cell_type": "code",
   "execution_count": null,
   "id": "89d22f40",
   "metadata": {},
   "outputs": [],
   "source": []
  },
  {
   "cell_type": "markdown",
   "id": "020d0d38",
   "metadata": {},
   "source": [
    "# custom dataset training\n",
    "\n",
    "- custom dataset training은 object detection과 동일\n",
    "- custom dataset: https://universe.roboflow.com/angelo-maglasang-vuuq3/crack_flip_rotate/dataset/1"
   ]
  },
  {
   "cell_type": "code",
   "execution_count": null,
   "id": "e44ddfa8",
   "metadata": {},
   "outputs": [],
   "source": []
  }
 ],
 "metadata": {
  "kernelspec": {
   "display_name": "Python 3 (ipykernel)",
   "language": "python",
   "name": "python3"
  },
  "language_info": {
   "codemirror_mode": {
    "name": "ipython",
    "version": 3
   },
   "file_extension": ".py",
   "mimetype": "text/x-python",
   "name": "python",
   "nbconvert_exporter": "python",
   "pygments_lexer": "ipython3",
   "version": "3.9.16"
  },
  "toc": {
   "base_numbering": 1,
   "nav_menu": {},
   "number_sections": true,
   "sideBar": true,
   "skip_h1_title": false,
   "title_cell": "Table of Contents",
   "title_sidebar": "Contents",
   "toc_cell": false,
   "toc_position": {},
   "toc_section_display": true,
   "toc_window_display": false
  },
  "varInspector": {
   "cols": {
    "lenName": 16,
    "lenType": 16,
    "lenVar": 40
   },
   "kernels_config": {
    "python": {
     "delete_cmd_postfix": "",
     "delete_cmd_prefix": "del ",
     "library": "var_list.py",
     "varRefreshCmd": "print(var_dic_list())"
    },
    "r": {
     "delete_cmd_postfix": ") ",
     "delete_cmd_prefix": "rm(",
     "library": "var_list.r",
     "varRefreshCmd": "cat(var_dic_list()) "
    }
   },
   "types_to_exclude": [
    "module",
    "function",
    "builtin_function_or_method",
    "instance",
    "_Feature"
   ],
   "window_display": false
  },
  "vscode": {
   "interpreter": {
    "hash": "d6bb26803bcea62f49e4c67963aa289be587a14c784102c9499967ce94407a08"
   }
  }
 },
 "nbformat": 4,
 "nbformat_minor": 5
}
