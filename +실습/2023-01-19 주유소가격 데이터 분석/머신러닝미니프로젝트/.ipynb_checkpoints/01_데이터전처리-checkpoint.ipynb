{
 "cells": [
  {
   "cell_type": "code",
   "execution_count": 1,
   "metadata": {
    "ExecuteTime": {
     "end_time": "2023-02-13T00:13:43.142309Z",
     "start_time": "2023-02-13T00:13:37.066316Z"
    }
   },
   "outputs": [],
   "source": [
    "import pandas as pd\n",
    "import numpy as np\n",
    "import seaborn as sns\n",
    "import matplotlib.pyplot as plt\n",
    "\n",
    "np.random.seed(0)"
   ]
  },
  {
   "cell_type": "markdown",
   "metadata": {},
   "source": [
    "# 데이터셋 읽기"
   ]
  },
  {
   "cell_type": "code",
   "execution_count": 2,
   "metadata": {
    "ExecuteTime": {
     "end_time": "2023-02-13T00:13:43.696326Z",
     "start_time": "2023-02-13T00:13:43.149311Z"
    }
   },
   "outputs": [
    {
     "data": {
      "text/plain": [
       "(150000, 12)"
      ]
     },
     "execution_count": 2,
     "metadata": {},
     "output_type": "execute_result"
    }
   ],
   "source": [
    "# 데이터파일 읽기\n",
    "data = pd.read_csv('data/cs-training.csv')\n",
    "data.shape"
   ]
  },
  {
   "cell_type": "code",
   "execution_count": 3,
   "metadata": {
    "ExecuteTime": {
     "end_time": "2023-02-13T00:13:43.760358Z",
     "start_time": "2023-02-13T00:13:43.703314Z"
    },
    "scrolled": true
   },
   "outputs": [
    {
     "data": {
      "text/html": [
       "<div>\n",
       "<style scoped>\n",
       "    .dataframe tbody tr th:only-of-type {\n",
       "        vertical-align: middle;\n",
       "    }\n",
       "\n",
       "    .dataframe tbody tr th {\n",
       "        vertical-align: top;\n",
       "    }\n",
       "\n",
       "    .dataframe thead th {\n",
       "        text-align: right;\n",
       "    }\n",
       "</style>\n",
       "<table border=\"1\" class=\"dataframe\">\n",
       "  <thead>\n",
       "    <tr style=\"text-align: right;\">\n",
       "      <th></th>\n",
       "      <th>Unnamed: 0</th>\n",
       "      <th>SeriousDlqin2yrs</th>\n",
       "      <th>RevolvingUtilizationOfUnsecuredLines</th>\n",
       "      <th>age</th>\n",
       "      <th>NumberOfTime30-59DaysPastDueNotWorse</th>\n",
       "      <th>DebtRatio</th>\n",
       "      <th>MonthlyIncome</th>\n",
       "      <th>NumberOfOpenCreditLinesAndLoans</th>\n",
       "      <th>NumberOfTimes90DaysLate</th>\n",
       "      <th>NumberRealEstateLoansOrLines</th>\n",
       "      <th>NumberOfTime60-89DaysPastDueNotWorse</th>\n",
       "      <th>NumberOfDependents</th>\n",
       "    </tr>\n",
       "  </thead>\n",
       "  <tbody>\n",
       "    <tr>\n",
       "      <th>0</th>\n",
       "      <td>1</td>\n",
       "      <td>1</td>\n",
       "      <td>0.766127</td>\n",
       "      <td>45</td>\n",
       "      <td>2</td>\n",
       "      <td>0.802982</td>\n",
       "      <td>9120.0</td>\n",
       "      <td>13</td>\n",
       "      <td>0</td>\n",
       "      <td>6</td>\n",
       "      <td>0</td>\n",
       "      <td>2.0</td>\n",
       "    </tr>\n",
       "    <tr>\n",
       "      <th>1</th>\n",
       "      <td>2</td>\n",
       "      <td>0</td>\n",
       "      <td>0.957151</td>\n",
       "      <td>40</td>\n",
       "      <td>0</td>\n",
       "      <td>0.121876</td>\n",
       "      <td>2600.0</td>\n",
       "      <td>4</td>\n",
       "      <td>0</td>\n",
       "      <td>0</td>\n",
       "      <td>0</td>\n",
       "      <td>1.0</td>\n",
       "    </tr>\n",
       "    <tr>\n",
       "      <th>2</th>\n",
       "      <td>3</td>\n",
       "      <td>0</td>\n",
       "      <td>0.658180</td>\n",
       "      <td>38</td>\n",
       "      <td>1</td>\n",
       "      <td>0.085113</td>\n",
       "      <td>3042.0</td>\n",
       "      <td>2</td>\n",
       "      <td>1</td>\n",
       "      <td>0</td>\n",
       "      <td>0</td>\n",
       "      <td>0.0</td>\n",
       "    </tr>\n",
       "    <tr>\n",
       "      <th>3</th>\n",
       "      <td>4</td>\n",
       "      <td>0</td>\n",
       "      <td>0.233810</td>\n",
       "      <td>30</td>\n",
       "      <td>0</td>\n",
       "      <td>0.036050</td>\n",
       "      <td>3300.0</td>\n",
       "      <td>5</td>\n",
       "      <td>0</td>\n",
       "      <td>0</td>\n",
       "      <td>0</td>\n",
       "      <td>0.0</td>\n",
       "    </tr>\n",
       "    <tr>\n",
       "      <th>4</th>\n",
       "      <td>5</td>\n",
       "      <td>0</td>\n",
       "      <td>0.907239</td>\n",
       "      <td>49</td>\n",
       "      <td>1</td>\n",
       "      <td>0.024926</td>\n",
       "      <td>63588.0</td>\n",
       "      <td>7</td>\n",
       "      <td>0</td>\n",
       "      <td>1</td>\n",
       "      <td>0</td>\n",
       "      <td>0.0</td>\n",
       "    </tr>\n",
       "  </tbody>\n",
       "</table>\n",
       "</div>"
      ],
      "text/plain": [
       "   Unnamed: 0  SeriousDlqin2yrs  RevolvingUtilizationOfUnsecuredLines  age  \\\n",
       "0           1                 1                              0.766127   45   \n",
       "1           2                 0                              0.957151   40   \n",
       "2           3                 0                              0.658180   38   \n",
       "3           4                 0                              0.233810   30   \n",
       "4           5                 0                              0.907239   49   \n",
       "\n",
       "   NumberOfTime30-59DaysPastDueNotWorse  DebtRatio  MonthlyIncome  \\\n",
       "0                                     2   0.802982         9120.0   \n",
       "1                                     0   0.121876         2600.0   \n",
       "2                                     1   0.085113         3042.0   \n",
       "3                                     0   0.036050         3300.0   \n",
       "4                                     1   0.024926        63588.0   \n",
       "\n",
       "   NumberOfOpenCreditLinesAndLoans  NumberOfTimes90DaysLate  \\\n",
       "0                               13                        0   \n",
       "1                                4                        0   \n",
       "2                                2                        1   \n",
       "3                                5                        0   \n",
       "4                                7                        0   \n",
       "\n",
       "   NumberRealEstateLoansOrLines  NumberOfTime60-89DaysPastDueNotWorse  \\\n",
       "0                             6                                     0   \n",
       "1                             0                                     0   \n",
       "2                             0                                     0   \n",
       "3                             0                                     0   \n",
       "4                             1                                     0   \n",
       "\n",
       "   NumberOfDependents  \n",
       "0                 2.0  \n",
       "1                 1.0  \n",
       "2                 0.0  \n",
       "3                 0.0  \n",
       "4                 0.0  "
      ]
     },
     "execution_count": 3,
     "metadata": {},
     "output_type": "execute_result"
    }
   ],
   "source": [
    "data.head()"
   ]
  },
  {
   "cell_type": "code",
   "execution_count": 4,
   "metadata": {
    "ExecuteTime": {
     "end_time": "2023-02-13T00:13:43.792317Z",
     "start_time": "2023-02-13T00:13:43.769311Z"
    }
   },
   "outputs": [
    {
     "data": {
      "text/plain": [
       "'Unnamed: 0'"
      ]
     },
     "execution_count": 4,
     "metadata": {},
     "output_type": "execute_result"
    }
   ],
   "source": [
    "data.columns[0]"
   ]
  },
  {
   "cell_type": "code",
   "execution_count": 5,
   "metadata": {
    "ExecuteTime": {
     "end_time": "2023-02-13T00:13:43.824316Z",
     "start_time": "2023-02-13T00:13:43.800322Z"
    }
   },
   "outputs": [],
   "source": [
    "# 첫 컬럼의 index 항목 제거 (Unnamed: 0)\n",
    "data.drop(columns=data.columns[0], inplace=True) #inplace=True: 원본(data)를 변경"
   ]
  },
  {
   "cell_type": "code",
   "execution_count": 6,
   "metadata": {
    "ExecuteTime": {
     "end_time": "2023-02-13T00:13:43.872312Z",
     "start_time": "2023-02-13T00:13:43.833317Z"
    }
   },
   "outputs": [
    {
     "data": {
      "text/html": [
       "<div>\n",
       "<style scoped>\n",
       "    .dataframe tbody tr th:only-of-type {\n",
       "        vertical-align: middle;\n",
       "    }\n",
       "\n",
       "    .dataframe tbody tr th {\n",
       "        vertical-align: top;\n",
       "    }\n",
       "\n",
       "    .dataframe thead th {\n",
       "        text-align: right;\n",
       "    }\n",
       "</style>\n",
       "<table border=\"1\" class=\"dataframe\">\n",
       "  <thead>\n",
       "    <tr style=\"text-align: right;\">\n",
       "      <th></th>\n",
       "      <th>SeriousDlqin2yrs</th>\n",
       "      <th>RevolvingUtilizationOfUnsecuredLines</th>\n",
       "      <th>age</th>\n",
       "      <th>NumberOfTime30-59DaysPastDueNotWorse</th>\n",
       "      <th>DebtRatio</th>\n",
       "      <th>MonthlyIncome</th>\n",
       "      <th>NumberOfOpenCreditLinesAndLoans</th>\n",
       "      <th>NumberOfTimes90DaysLate</th>\n",
       "      <th>NumberRealEstateLoansOrLines</th>\n",
       "      <th>NumberOfTime60-89DaysPastDueNotWorse</th>\n",
       "      <th>NumberOfDependents</th>\n",
       "    </tr>\n",
       "  </thead>\n",
       "  <tbody>\n",
       "    <tr>\n",
       "      <th>0</th>\n",
       "      <td>1</td>\n",
       "      <td>0.766127</td>\n",
       "      <td>45</td>\n",
       "      <td>2</td>\n",
       "      <td>0.802982</td>\n",
       "      <td>9120.0</td>\n",
       "      <td>13</td>\n",
       "      <td>0</td>\n",
       "      <td>6</td>\n",
       "      <td>0</td>\n",
       "      <td>2.0</td>\n",
       "    </tr>\n",
       "    <tr>\n",
       "      <th>1</th>\n",
       "      <td>0</td>\n",
       "      <td>0.957151</td>\n",
       "      <td>40</td>\n",
       "      <td>0</td>\n",
       "      <td>0.121876</td>\n",
       "      <td>2600.0</td>\n",
       "      <td>4</td>\n",
       "      <td>0</td>\n",
       "      <td>0</td>\n",
       "      <td>0</td>\n",
       "      <td>1.0</td>\n",
       "    </tr>\n",
       "  </tbody>\n",
       "</table>\n",
       "</div>"
      ],
      "text/plain": [
       "   SeriousDlqin2yrs  RevolvingUtilizationOfUnsecuredLines  age  \\\n",
       "0                 1                              0.766127   45   \n",
       "1                 0                              0.957151   40   \n",
       "\n",
       "   NumberOfTime30-59DaysPastDueNotWorse  DebtRatio  MonthlyIncome  \\\n",
       "0                                     2   0.802982         9120.0   \n",
       "1                                     0   0.121876         2600.0   \n",
       "\n",
       "   NumberOfOpenCreditLinesAndLoans  NumberOfTimes90DaysLate  \\\n",
       "0                               13                        0   \n",
       "1                                4                        0   \n",
       "\n",
       "   NumberRealEstateLoansOrLines  NumberOfTime60-89DaysPastDueNotWorse  \\\n",
       "0                             6                                     0   \n",
       "1                             0                                     0   \n",
       "\n",
       "   NumberOfDependents  \n",
       "0                 2.0  \n",
       "1                 1.0  "
      ]
     },
     "execution_count": 6,
     "metadata": {},
     "output_type": "execute_result"
    }
   ],
   "source": [
    "data.head(2)"
   ]
  },
  {
   "cell_type": "markdown",
   "metadata": {},
   "source": [
    "- 제공되는 데이터셋의 컬럼명이 이해하기 어렵거나 사용하기 어렵다면 변경하도록 한다.\n",
    "    - 컬럼명을 소문자로 변경함.\n",
    "    - ex) 약어를 원래 의미의 단어들로 변경. 영문->한글 등등"
   ]
  },
  {
   "cell_type": "code",
   "execution_count": 7,
   "metadata": {
    "ExecuteTime": {
     "end_time": "2023-02-13T00:13:43.904315Z",
     "start_time": "2023-02-13T00:13:43.880324Z"
    }
   },
   "outputs": [
    {
     "data": {
      "text/plain": [
       "['seriousdlqin2yrs',\n",
       " 'revolvingutilizationofunsecuredlines',\n",
       " 'age',\n",
       " 'numberoftime30-59dayspastduenotworse',\n",
       " 'debtratio',\n",
       " 'monthlyincome',\n",
       " 'numberofopencreditlinesandloans',\n",
       " 'numberoftimes90dayslate',\n",
       " 'numberrealestateloansorlines',\n",
       " 'numberoftime60-89dayspastduenotworse',\n",
       " 'numberofdependents']"
      ]
     },
     "execution_count": 7,
     "metadata": {},
     "output_type": "execute_result"
    }
   ],
   "source": [
    " [col.lower() for col in data.columns]"
   ]
  },
  {
   "cell_type": "code",
   "execution_count": 8,
   "metadata": {
    "ExecuteTime": {
     "end_time": "2023-02-13T00:13:43.952309Z",
     "start_time": "2023-02-13T00:13:43.909314Z"
    }
   },
   "outputs": [
    {
     "data": {
      "text/html": [
       "<div>\n",
       "<style scoped>\n",
       "    .dataframe tbody tr th:only-of-type {\n",
       "        vertical-align: middle;\n",
       "    }\n",
       "\n",
       "    .dataframe tbody tr th {\n",
       "        vertical-align: top;\n",
       "    }\n",
       "\n",
       "    .dataframe thead th {\n",
       "        text-align: right;\n",
       "    }\n",
       "</style>\n",
       "<table border=\"1\" class=\"dataframe\">\n",
       "  <thead>\n",
       "    <tr style=\"text-align: right;\">\n",
       "      <th></th>\n",
       "      <th>seriousdlqin2yrs</th>\n",
       "      <th>revolvingutilizationofunsecuredlines</th>\n",
       "      <th>age</th>\n",
       "      <th>numberoftime30-59dayspastduenotworse</th>\n",
       "      <th>debtratio</th>\n",
       "      <th>monthlyincome</th>\n",
       "      <th>numberofopencreditlinesandloans</th>\n",
       "      <th>numberoftimes90dayslate</th>\n",
       "      <th>numberrealestateloansorlines</th>\n",
       "      <th>numberoftime60-89dayspastduenotworse</th>\n",
       "      <th>numberofdependents</th>\n",
       "    </tr>\n",
       "  </thead>\n",
       "  <tbody>\n",
       "    <tr>\n",
       "      <th>0</th>\n",
       "      <td>1</td>\n",
       "      <td>0.766127</td>\n",
       "      <td>45</td>\n",
       "      <td>2</td>\n",
       "      <td>0.802982</td>\n",
       "      <td>9120.0</td>\n",
       "      <td>13</td>\n",
       "      <td>0</td>\n",
       "      <td>6</td>\n",
       "      <td>0</td>\n",
       "      <td>2.0</td>\n",
       "    </tr>\n",
       "    <tr>\n",
       "      <th>1</th>\n",
       "      <td>0</td>\n",
       "      <td>0.957151</td>\n",
       "      <td>40</td>\n",
       "      <td>0</td>\n",
       "      <td>0.121876</td>\n",
       "      <td>2600.0</td>\n",
       "      <td>4</td>\n",
       "      <td>0</td>\n",
       "      <td>0</td>\n",
       "      <td>0</td>\n",
       "      <td>1.0</td>\n",
       "    </tr>\n",
       "  </tbody>\n",
       "</table>\n",
       "</div>"
      ],
      "text/plain": [
       "   seriousdlqin2yrs  revolvingutilizationofunsecuredlines  age  \\\n",
       "0                 1                              0.766127   45   \n",
       "1                 0                              0.957151   40   \n",
       "\n",
       "   numberoftime30-59dayspastduenotworse  debtratio  monthlyincome  \\\n",
       "0                                     2   0.802982         9120.0   \n",
       "1                                     0   0.121876         2600.0   \n",
       "\n",
       "   numberofopencreditlinesandloans  numberoftimes90dayslate  \\\n",
       "0                               13                        0   \n",
       "1                                4                        0   \n",
       "\n",
       "   numberrealestateloansorlines  numberoftime60-89dayspastduenotworse  \\\n",
       "0                             6                                     0   \n",
       "1                             0                                     0   \n",
       "\n",
       "   numberofdependents  \n",
       "0                 2.0  \n",
       "1                 1.0  "
      ]
     },
     "execution_count": 8,
     "metadata": {},
     "output_type": "execute_result"
    }
   ],
   "source": [
    "data.columns = [col.lower() for col in data.columns]  #data.columns = 컬럼리스트 : 전체컬럼명을 다 변경할 경우 사용.\n",
    "data.head(2)"
   ]
  },
  {
   "cell_type": "markdown",
   "metadata": {},
   "source": [
    "# EDA"
   ]
  },
  {
   "cell_type": "code",
   "execution_count": 9,
   "metadata": {
    "ExecuteTime": {
     "end_time": "2023-02-13T00:13:44.015309Z",
     "start_time": "2023-02-13T00:13:43.958311Z"
    }
   },
   "outputs": [
    {
     "name": "stdout",
     "output_type": "stream",
     "text": [
      "<class 'pandas.core.frame.DataFrame'>\n",
      "RangeIndex: 150000 entries, 0 to 149999\n",
      "Data columns (total 11 columns):\n",
      " #   Column                                Non-Null Count   Dtype  \n",
      "---  ------                                --------------   -----  \n",
      " 0   seriousdlqin2yrs                      150000 non-null  int64  \n",
      " 1   revolvingutilizationofunsecuredlines  150000 non-null  float64\n",
      " 2   age                                   150000 non-null  int64  \n",
      " 3   numberoftime30-59dayspastduenotworse  150000 non-null  int64  \n",
      " 4   debtratio                             150000 non-null  float64\n",
      " 5   monthlyincome                         120269 non-null  float64\n",
      " 6   numberofopencreditlinesandloans       150000 non-null  int64  \n",
      " 7   numberoftimes90dayslate               150000 non-null  int64  \n",
      " 8   numberrealestateloansorlines          150000 non-null  int64  \n",
      " 9   numberoftime60-89dayspastduenotworse  150000 non-null  int64  \n",
      " 10  numberofdependents                    146076 non-null  float64\n",
      "dtypes: float64(4), int64(7)\n",
      "memory usage: 12.6 MB\n"
     ]
    }
   ],
   "source": [
    "data.info()"
   ]
  },
  {
   "cell_type": "code",
   "execution_count": 10,
   "metadata": {
    "ExecuteTime": {
     "end_time": "2023-02-13T00:13:44.345312Z",
     "start_time": "2023-02-13T00:13:44.025313Z"
    }
   },
   "outputs": [
    {
     "data": {
      "text/html": [
       "<div>\n",
       "<style scoped>\n",
       "    .dataframe tbody tr th:only-of-type {\n",
       "        vertical-align: middle;\n",
       "    }\n",
       "\n",
       "    .dataframe tbody tr th {\n",
       "        vertical-align: top;\n",
       "    }\n",
       "\n",
       "    .dataframe thead th {\n",
       "        text-align: right;\n",
       "    }\n",
       "</style>\n",
       "<table border=\"1\" class=\"dataframe\">\n",
       "  <thead>\n",
       "    <tr style=\"text-align: right;\">\n",
       "      <th></th>\n",
       "      <th>count</th>\n",
       "      <th>mean</th>\n",
       "      <th>std</th>\n",
       "      <th>min</th>\n",
       "      <th>25%</th>\n",
       "      <th>50%</th>\n",
       "      <th>75%</th>\n",
       "      <th>max</th>\n",
       "    </tr>\n",
       "  </thead>\n",
       "  <tbody>\n",
       "    <tr>\n",
       "      <th>seriousdlqin2yrs</th>\n",
       "      <td>150000.0</td>\n",
       "      <td>0.066840</td>\n",
       "      <td>0.249746</td>\n",
       "      <td>0.0</td>\n",
       "      <td>0.000000</td>\n",
       "      <td>0.000000</td>\n",
       "      <td>0.000000</td>\n",
       "      <td>1.0</td>\n",
       "    </tr>\n",
       "    <tr>\n",
       "      <th>revolvingutilizationofunsecuredlines</th>\n",
       "      <td>150000.0</td>\n",
       "      <td>6.048438</td>\n",
       "      <td>249.755371</td>\n",
       "      <td>0.0</td>\n",
       "      <td>0.029867</td>\n",
       "      <td>0.154181</td>\n",
       "      <td>0.559046</td>\n",
       "      <td>50708.0</td>\n",
       "    </tr>\n",
       "    <tr>\n",
       "      <th>age</th>\n",
       "      <td>150000.0</td>\n",
       "      <td>52.295207</td>\n",
       "      <td>14.771866</td>\n",
       "      <td>0.0</td>\n",
       "      <td>41.000000</td>\n",
       "      <td>52.000000</td>\n",
       "      <td>63.000000</td>\n",
       "      <td>109.0</td>\n",
       "    </tr>\n",
       "    <tr>\n",
       "      <th>numberoftime30-59dayspastduenotworse</th>\n",
       "      <td>150000.0</td>\n",
       "      <td>0.421033</td>\n",
       "      <td>4.192781</td>\n",
       "      <td>0.0</td>\n",
       "      <td>0.000000</td>\n",
       "      <td>0.000000</td>\n",
       "      <td>0.000000</td>\n",
       "      <td>98.0</td>\n",
       "    </tr>\n",
       "    <tr>\n",
       "      <th>debtratio</th>\n",
       "      <td>150000.0</td>\n",
       "      <td>353.005076</td>\n",
       "      <td>2037.818523</td>\n",
       "      <td>0.0</td>\n",
       "      <td>0.175074</td>\n",
       "      <td>0.366508</td>\n",
       "      <td>0.868254</td>\n",
       "      <td>329664.0</td>\n",
       "    </tr>\n",
       "    <tr>\n",
       "      <th>monthlyincome</th>\n",
       "      <td>120269.0</td>\n",
       "      <td>6670.221237</td>\n",
       "      <td>14384.674215</td>\n",
       "      <td>0.0</td>\n",
       "      <td>3400.000000</td>\n",
       "      <td>5400.000000</td>\n",
       "      <td>8249.000000</td>\n",
       "      <td>3008750.0</td>\n",
       "    </tr>\n",
       "    <tr>\n",
       "      <th>numberofopencreditlinesandloans</th>\n",
       "      <td>150000.0</td>\n",
       "      <td>8.452760</td>\n",
       "      <td>5.145951</td>\n",
       "      <td>0.0</td>\n",
       "      <td>5.000000</td>\n",
       "      <td>8.000000</td>\n",
       "      <td>11.000000</td>\n",
       "      <td>58.0</td>\n",
       "    </tr>\n",
       "    <tr>\n",
       "      <th>numberoftimes90dayslate</th>\n",
       "      <td>150000.0</td>\n",
       "      <td>0.265973</td>\n",
       "      <td>4.169304</td>\n",
       "      <td>0.0</td>\n",
       "      <td>0.000000</td>\n",
       "      <td>0.000000</td>\n",
       "      <td>0.000000</td>\n",
       "      <td>98.0</td>\n",
       "    </tr>\n",
       "    <tr>\n",
       "      <th>numberrealestateloansorlines</th>\n",
       "      <td>150000.0</td>\n",
       "      <td>1.018240</td>\n",
       "      <td>1.129771</td>\n",
       "      <td>0.0</td>\n",
       "      <td>0.000000</td>\n",
       "      <td>1.000000</td>\n",
       "      <td>2.000000</td>\n",
       "      <td>54.0</td>\n",
       "    </tr>\n",
       "    <tr>\n",
       "      <th>numberoftime60-89dayspastduenotworse</th>\n",
       "      <td>150000.0</td>\n",
       "      <td>0.240387</td>\n",
       "      <td>4.155179</td>\n",
       "      <td>0.0</td>\n",
       "      <td>0.000000</td>\n",
       "      <td>0.000000</td>\n",
       "      <td>0.000000</td>\n",
       "      <td>98.0</td>\n",
       "    </tr>\n",
       "    <tr>\n",
       "      <th>numberofdependents</th>\n",
       "      <td>146076.0</td>\n",
       "      <td>0.757222</td>\n",
       "      <td>1.115086</td>\n",
       "      <td>0.0</td>\n",
       "      <td>0.000000</td>\n",
       "      <td>0.000000</td>\n",
       "      <td>1.000000</td>\n",
       "      <td>20.0</td>\n",
       "    </tr>\n",
       "  </tbody>\n",
       "</table>\n",
       "</div>"
      ],
      "text/plain": [
       "                                         count         mean           std  \\\n",
       "seriousdlqin2yrs                      150000.0     0.066840      0.249746   \n",
       "revolvingutilizationofunsecuredlines  150000.0     6.048438    249.755371   \n",
       "age                                   150000.0    52.295207     14.771866   \n",
       "numberoftime30-59dayspastduenotworse  150000.0     0.421033      4.192781   \n",
       "debtratio                             150000.0   353.005076   2037.818523   \n",
       "monthlyincome                         120269.0  6670.221237  14384.674215   \n",
       "numberofopencreditlinesandloans       150000.0     8.452760      5.145951   \n",
       "numberoftimes90dayslate               150000.0     0.265973      4.169304   \n",
       "numberrealestateloansorlines          150000.0     1.018240      1.129771   \n",
       "numberoftime60-89dayspastduenotworse  150000.0     0.240387      4.155179   \n",
       "numberofdependents                    146076.0     0.757222      1.115086   \n",
       "\n",
       "                                      min          25%          50%  \\\n",
       "seriousdlqin2yrs                      0.0     0.000000     0.000000   \n",
       "revolvingutilizationofunsecuredlines  0.0     0.029867     0.154181   \n",
       "age                                   0.0    41.000000    52.000000   \n",
       "numberoftime30-59dayspastduenotworse  0.0     0.000000     0.000000   \n",
       "debtratio                             0.0     0.175074     0.366508   \n",
       "monthlyincome                         0.0  3400.000000  5400.000000   \n",
       "numberofopencreditlinesandloans       0.0     5.000000     8.000000   \n",
       "numberoftimes90dayslate               0.0     0.000000     0.000000   \n",
       "numberrealestateloansorlines          0.0     0.000000     1.000000   \n",
       "numberoftime60-89dayspastduenotworse  0.0     0.000000     0.000000   \n",
       "numberofdependents                    0.0     0.000000     0.000000   \n",
       "\n",
       "                                              75%        max  \n",
       "seriousdlqin2yrs                         0.000000        1.0  \n",
       "revolvingutilizationofunsecuredlines     0.559046    50708.0  \n",
       "age                                     63.000000      109.0  \n",
       "numberoftime30-59dayspastduenotworse     0.000000       98.0  \n",
       "debtratio                                0.868254   329664.0  \n",
       "monthlyincome                         8249.000000  3008750.0  \n",
       "numberofopencreditlinesandloans         11.000000       58.0  \n",
       "numberoftimes90dayslate                  0.000000       98.0  \n",
       "numberrealestateloansorlines             2.000000       54.0  \n",
       "numberoftime60-89dayspastduenotworse     0.000000       98.0  \n",
       "numberofdependents                       1.000000       20.0  "
      ]
     },
     "execution_count": 10,
     "metadata": {},
     "output_type": "execute_result"
    }
   ],
   "source": [
    "data.describe().T  #dataframe/ndarray .T (Transpose-전처) : 컬럼<->행"
   ]
  },
  {
   "cell_type": "code",
   "execution_count": 11,
   "metadata": {
    "ExecuteTime": {
     "end_time": "2023-02-13T00:13:44.377311Z",
     "start_time": "2023-02-13T00:13:44.352312Z"
    }
   },
   "outputs": [
    {
     "data": {
      "text/plain": [
       "0    139974\n",
       "1     10026\n",
       "Name: seriousdlqin2yrs, dtype: int64"
      ]
     },
     "execution_count": 11,
     "metadata": {},
     "output_type": "execute_result"
    }
   ],
   "source": [
    "# 타겟(seriousdlqin2yrs) 분포 확인\n",
    "data['seriousdlqin2yrs'].value_counts()"
   ]
  },
  {
   "cell_type": "code",
   "execution_count": 12,
   "metadata": {
    "ExecuteTime": {
     "end_time": "2023-02-13T00:13:44.423320Z",
     "start_time": "2023-02-13T00:13:44.384313Z"
    }
   },
   "outputs": [
    {
     "data": {
      "text/plain": [
       "0    0.93316\n",
       "1    0.06684\n",
       "Name: seriousdlqin2yrs, dtype: float64"
      ]
     },
     "execution_count": 12,
     "metadata": {},
     "output_type": "execute_result"
    }
   ],
   "source": [
    "data['seriousdlqin2yrs'].value_counts(normalize=True)"
   ]
  },
  {
   "cell_type": "code",
   "execution_count": 13,
   "metadata": {
    "ExecuteTime": {
     "end_time": "2023-02-13T00:13:44.455317Z",
     "start_time": "2023-02-13T00:13:44.430315Z"
    }
   },
   "outputs": [
    {
     "data": {
      "text/plain": [
       "(150000, 150000, (150000,))"
      ]
     },
     "execution_count": 13,
     "metadata": {},
     "output_type": "execute_result"
    }
   ],
   "source": [
    "# 원소의 개수\n",
    "len(data['seriousdlqin2yrs']), data['seriousdlqin2yrs'].size, data['seriousdlqin2yrs'].shape"
   ]
  },
  {
   "cell_type": "code",
   "execution_count": 14,
   "metadata": {
    "ExecuteTime": {
     "end_time": "2023-02-13T00:13:44.487312Z",
     "start_time": "2023-02-13T00:13:44.460315Z"
    }
   },
   "outputs": [
    {
     "data": {
      "text/plain": [
       "0    0.93316\n",
       "1    0.06684\n",
       "Name: seriousdlqin2yrs, dtype: float64"
      ]
     },
     "execution_count": 14,
     "metadata": {},
     "output_type": "execute_result"
    }
   ],
   "source": [
    "# 비율로 보기\n",
    "data['seriousdlqin2yrs'].value_counts()/len(data['seriousdlqin2yrs'])\n",
    "# 불균형 데이터 - 평가지표: accuaracy(X). recall, precision, f1, roc auc"
   ]
  },
  {
   "cell_type": "code",
   "execution_count": 15,
   "metadata": {
    "ExecuteTime": {
     "end_time": "2023-02-13T00:13:45.049312Z",
     "start_time": "2023-02-13T00:13:44.493317Z"
    },
    "scrolled": false
   },
   "outputs": [
    {
     "data": {
      "image/png": "[encoded data removed]",
      "text/plain": [
       "<Figure size 700x600 with 1 Axes>"
      ]
     },
     "metadata": {},
     "output_type": "display_data"
    }
   ],
   "source": [
    "plt.figure(figsize=(7,6))\n",
    "sns.countplot(x='seriousdlqin2yrs', data=data)\n",
    "plt.show()"
   ]
  },
  {
   "cell_type": "markdown",
   "metadata": {},
   "source": [
    "# 결측치 처리\n",
    "\n",
    "## 결측치 확인"
   ]
  },
  {
   "cell_type": "code",
   "execution_count": 16,
   "metadata": {
    "ExecuteTime": {
     "end_time": "2023-02-13T00:13:45.081311Z",
     "start_time": "2023-02-13T00:13:45.055313Z"
    }
   },
   "outputs": [
    {
     "data": {
      "text/plain": [
       "seriousdlqin2yrs                            0\n",
       "revolvingutilizationofunsecuredlines        0\n",
       "age                                         0\n",
       "numberoftime30-59dayspastduenotworse        0\n",
       "debtratio                                   0\n",
       "monthlyincome                           29731\n",
       "numberofopencreditlinesandloans             0\n",
       "numberoftimes90dayslate                     0\n",
       "numberrealestateloansorlines                0\n",
       "numberoftime60-89dayspastduenotworse        0\n",
       "numberofdependents                       3924\n",
       "dtype: int64"
      ]
     },
     "execution_count": 16,
     "metadata": {},
     "output_type": "execute_result"
    }
   ],
   "source": [
    "# data.isnull()\n",
    "data.isna().sum() # True개수"
   ]
  },
  {
   "cell_type": "code",
   "execution_count": 17,
   "metadata": {
    "ExecuteTime": {
     "end_time": "2023-02-13T00:13:45.129318Z",
     "start_time": "2023-02-13T00:13:45.090315Z"
    }
   },
   "outputs": [
    {
     "data": {
      "text/plain": [
       "seriousdlqin2yrs                        0.000000\n",
       "revolvingutilizationofunsecuredlines    0.000000\n",
       "age                                     0.000000\n",
       "numberoftime30-59dayspastduenotworse    0.000000\n",
       "debtratio                               0.000000\n",
       "monthlyincome                           0.198207\n",
       "numberofopencreditlinesandloans         0.000000\n",
       "numberoftimes90dayslate                 0.000000\n",
       "numberrealestateloansorlines            0.000000\n",
       "numberoftime60-89dayspastduenotworse    0.000000\n",
       "numberofdependents                      0.026160\n",
       "dtype: float64"
      ]
     },
     "execution_count": 17,
     "metadata": {},
     "output_type": "execute_result"
    }
   ],
   "source": [
    "data.isna().mean() # True의 비율"
   ]
  },
  {
   "cell_type": "code",
   "execution_count": 18,
   "metadata": {
    "ExecuteTime": {
     "end_time": "2023-02-13T00:13:45.779319Z",
     "start_time": "2023-02-13T00:13:45.136320Z"
    }
   },
   "outputs": [
    {
     "data": {
      "image/png": "[encoded data removed]",
      "text/plain": [
       "<Figure size 800x500 with 1 Axes>"
      ]
     },
     "metadata": {},
     "output_type": "display_data"
    }
   ],
   "source": [
    "y = data.isna().mean()\n",
    "plt.figure(figsize=(8,5))\n",
    "plt.title('컬럼별 결측치 비율')\n",
    "sns.barplot(x=y, y=data.columns)\n",
    "plt.xticks(rotation=45)\n",
    "plt.show()"
   ]
  },
  {
   "cell_type": "code",
   "execution_count": 19,
   "metadata": {
    "ExecuteTime": {
     "end_time": "2023-02-13T00:13:45.922356Z",
     "start_time": "2023-02-13T00:13:45.786316Z"
    },
    "scrolled": false
   },
   "outputs": [
    {
     "data": {
      "text/html": [
       "<div>\n",
       "<style scoped>\n",
       "    .dataframe tbody tr th:only-of-type {\n",
       "        vertical-align: middle;\n",
       "    }\n",
       "\n",
       "    .dataframe tbody tr th {\n",
       "        vertical-align: top;\n",
       "    }\n",
       "\n",
       "    .dataframe thead th {\n",
       "        text-align: right;\n",
       "    }\n",
       "</style>\n",
       "<table border=\"1\" class=\"dataframe\">\n",
       "  <thead>\n",
       "    <tr style=\"text-align: right;\">\n",
       "      <th></th>\n",
       "      <th>median</th>\n",
       "      <th>mean</th>\n",
       "    </tr>\n",
       "  </thead>\n",
       "  <tbody>\n",
       "    <tr>\n",
       "      <th>monthlyincome</th>\n",
       "      <td>5400.0</td>\n",
       "      <td>6670.221237</td>\n",
       "    </tr>\n",
       "    <tr>\n",
       "      <th>numberofdependents</th>\n",
       "      <td>0.0</td>\n",
       "      <td>0.757222</td>\n",
       "    </tr>\n",
       "  </tbody>\n",
       "</table>\n",
       "</div>"
      ],
      "text/plain": [
       "                    median         mean\n",
       "monthlyincome       5400.0  6670.221237\n",
       "numberofdependents     0.0     0.757222"
      ]
     },
     "execution_count": 19,
     "metadata": {},
     "output_type": "execute_result"
    }
   ],
   "source": [
    "# 중앙값, 평균값 확인\n",
    "data.aggregate(['median', 'mean'])[['monthlyincome','numberofdependents']].T"
   ]
  },
  {
   "cell_type": "markdown",
   "metadata": {},
   "source": [
    "## 결측치 처리"
   ]
  },
  {
   "cell_type": "markdown",
   "metadata": {
    "ExecuteTime": {
     "end_time": "2021-11-25T05:47:47.328082Z",
     "start_time": "2021-11-25T05:47:47.300105Z"
    }
   },
   "source": [
    "### monthly income 확인"
   ]
  },
  {
   "cell_type": "code",
   "execution_count": 20,
   "metadata": {
    "ExecuteTime": {
     "end_time": "2023-02-13T00:13:45.985359Z",
     "start_time": "2023-02-13T00:13:45.928314Z"
    },
    "scrolled": true
   },
   "outputs": [
    {
     "data": {
      "text/plain": [
       "count     120269.00\n",
       "mean        6670.22\n",
       "std        14384.67\n",
       "min            0.00\n",
       "25%         3400.00\n",
       "50%         5400.00\n",
       "75%         8249.00\n",
       "max      3008750.00\n",
       "Name: monthlyincome, dtype: float64"
      ]
     },
     "execution_count": 20,
     "metadata": {},
     "output_type": "execute_result"
    }
   ],
   "source": [
    "np.round(data.monthlyincome.describe(), 2)  #np.round(값, 2) 소숫점 2자리 이하에서 반올림"
   ]
  },
  {
   "cell_type": "code",
   "execution_count": 21,
   "metadata": {
    "ExecuteTime": {
     "end_time": "2023-02-13T00:13:47.123311Z",
     "start_time": "2023-02-13T00:13:45.991314Z"
    }
   },
   "outputs": [
    {
     "data": {
      "image/png": "[encoded data removed]",
      "text/plain": [
       "<Figure size 640x480 with 1 Axes>"
      ]
     },
     "metadata": {},
     "output_type": "display_data"
    }
   ],
   "source": [
    "data.monthlyincome.hist(bins=300)\n",
    "plt.xlim(0, 50000)\n",
    "plt.show()"
   ]
  },
  {
   "cell_type": "code",
   "execution_count": 22,
   "metadata": {
    "ExecuteTime": {
     "end_time": "2023-02-13T00:13:47.171324Z",
     "start_time": "2023-02-13T00:13:47.130315Z"
    }
   },
   "outputs": [
    {
     "data": {
      "text/plain": [
       "5400.0"
      ]
     },
     "execution_count": 22,
     "metadata": {},
     "output_type": "execute_result"
    }
   ],
   "source": [
    "data.monthlyincome.median()"
   ]
  },
  {
   "cell_type": "code",
   "execution_count": 23,
   "metadata": {
    "ExecuteTime": {
     "end_time": "2023-02-13T00:13:47.203314Z",
     "start_time": "2023-02-13T00:13:47.178320Z"
    },
    "scrolled": true
   },
   "outputs": [],
   "source": [
    "# fillna(채울값) 결측치를 채울값으로 채운다.\n",
    "# monthly income 의 결측치 중앙값으로 대체\n",
    "data.monthlyincome.fillna(data.monthlyincome.median(), inplace=True)"
   ]
  },
  {
   "cell_type": "markdown",
   "metadata": {},
   "source": [
    "### numberofdependents"
   ]
  },
  {
   "cell_type": "code",
   "execution_count": 24,
   "metadata": {
    "ExecuteTime": {
     "end_time": "2023-02-13T00:13:47.251315Z",
     "start_time": "2023-02-13T00:13:47.212333Z"
    },
    "scrolled": false
   },
   "outputs": [
    {
     "data": {
      "text/plain": [
       "0.0     86902\n",
       "1.0     26316\n",
       "2.0     19522\n",
       "3.0      9483\n",
       "4.0      2862\n",
       "5.0       746\n",
       "6.0       158\n",
       "7.0        51\n",
       "8.0        24\n",
       "9.0         5\n",
       "10.0        5\n",
       "13.0        1\n",
       "20.0        1\n",
       "Name: numberofdependents, dtype: int64"
      ]
     },
     "execution_count": 24,
     "metadata": {},
     "output_type": "execute_result"
    }
   ],
   "source": [
    "data.numberofdependents.value_counts().sort_index() #sort_index() 행이름(index)으로 정렬"
   ]
  },
  {
   "cell_type": "code",
   "execution_count": 25,
   "metadata": {
    "ExecuteTime": {
     "end_time": "2023-02-13T00:13:47.283317Z",
     "start_time": "2023-02-13T00:13:47.256311Z"
    }
   },
   "outputs": [
    {
     "data": {
      "text/plain": [
       "0.0     0.579347\n",
       "1.0     0.175440\n",
       "2.0     0.130147\n",
       "3.0     0.063220\n",
       "4.0     0.019080\n",
       "5.0     0.004973\n",
       "6.0     0.001053\n",
       "7.0     0.000340\n",
       "8.0     0.000160\n",
       "10.0    0.000033\n",
       "9.0     0.000033\n",
       "20.0    0.000007\n",
       "13.0    0.000007\n",
       "Name: numberofdependents, dtype: float64"
      ]
     },
     "execution_count": 25,
     "metadata": {},
     "output_type": "execute_result"
    }
   ],
   "source": [
    "data.numberofdependents.value_counts()/len(data)"
   ]
  },
  {
   "cell_type": "code",
   "execution_count": 26,
   "metadata": {
    "ExecuteTime": {
     "end_time": "2023-02-13T00:13:47.299323Z",
     "start_time": "2023-02-13T00:13:47.288317Z"
    }
   },
   "outputs": [],
   "source": [
    "# 최빈값이 0인데 비율이 58% 정도 됨. 결측치 최빈값인 0 으로 대체\n",
    "data.numberofdependents.fillna(0, inplace=True)"
   ]
  },
  {
   "cell_type": "code",
   "execution_count": 27,
   "metadata": {
    "ExecuteTime": {
     "end_time": "2023-02-13T00:13:47.331310Z",
     "start_time": "2023-02-13T00:13:47.305313Z"
    }
   },
   "outputs": [
    {
     "data": {
      "text/plain": [
       "seriousdlqin2yrs                        0\n",
       "revolvingutilizationofunsecuredlines    0\n",
       "age                                     0\n",
       "numberoftime30-59dayspastduenotworse    0\n",
       "debtratio                               0\n",
       "monthlyincome                           0\n",
       "numberofopencreditlinesandloans         0\n",
       "numberoftimes90dayslate                 0\n",
       "numberrealestateloansorlines            0\n",
       "numberoftime60-89dayspastduenotworse    0\n",
       "numberofdependents                      0\n",
       "dtype: int64"
      ]
     },
     "execution_count": 27,
     "metadata": {},
     "output_type": "execute_result"
    }
   ],
   "source": [
    "data.isna().sum()"
   ]
  },
  {
   "cell_type": "code",
   "execution_count": 28,
   "metadata": {
    "ExecuteTime": {
     "end_time": "2023-02-13T00:13:47.395310Z",
     "start_time": "2023-02-13T00:13:47.350315Z"
    }
   },
   "outputs": [
    {
     "data": {
      "text/plain": [
       "count    150000.000000\n",
       "mean          0.737413\n",
       "std           1.107021\n",
       "min           0.000000\n",
       "25%           0.000000\n",
       "50%           0.000000\n",
       "75%           1.000000\n",
       "max          20.000000\n",
       "Name: numberofdependents, dtype: float64"
      ]
     },
     "execution_count": 28,
     "metadata": {},
     "output_type": "execute_result"
    }
   ],
   "source": [
    "data.numberofdependents.describe()"
   ]
  },
  {
   "cell_type": "markdown",
   "metadata": {},
   "source": [
    "## 이상치 확인 및 처리\n",
    "\n",
    "### IQR 기반 이상치 검출\n",
    "- IQR : 3분위수-1분위수\n",
    "- 이상치 기준 (rate는 일반적으로 1.5사용)\n",
    "    - 극단적으로 작은 값 범위\n",
    "         - 1분위수 - IQR*rate 보다 작은수\n",
    "    - 극단적으로 큰 값 범위\n",
    "        - 3분위 + IQR*rate 보다 큰수"
   ]
  },
  {
   "cell_type": "code",
   "execution_count": 29,
   "metadata": {
    "ExecuteTime": {
     "end_time": "2023-02-13T00:13:47.427312Z",
     "start_time": "2023-02-13T00:13:47.401325Z"
    }
   },
   "outputs": [],
   "source": [
    "def get_outlier(data, rate=1.5):\n",
    "    \"\"\"\n",
    "    IQR 기반으로 Outlier 값 조회 메소드\n",
    "    [Parameter]\n",
    "        data: array-like -Outlier 계산할 데이터\n",
    "        rate: IQR에 몇배를 극단치 계산에 사용할 지 비율. rate를 크게하면 outlier범위를 넓게 잡는다. 작게 주면 범위를 좁게 잡는다.\n",
    "    [Return]\n",
    "        bool type ndarray: 각 원소별 outlier 여부 (True: Outlier(이상치), False: 정상범위값)\n",
    "    \"\"\"\n",
    "    q1 = np.quantile(data, q=0.25)  #분위수 계산: np.quantile(값, q='분위')\n",
    "    q3 = np.quantile(data, q=0.75)\n",
    "    IQR = q3 - q1\n",
    "    return (data < q1 - IQR * rate) | (data > q3 + IQR * rate)"
   ]
  },
  {
   "cell_type": "code",
   "execution_count": 30,
   "metadata": {
    "ExecuteTime": {
     "end_time": "2023-02-13T00:13:47.458308Z",
     "start_time": "2023-02-13T00:13:47.435319Z"
    }
   },
   "outputs": [
    {
     "data": {
      "text/plain": [
       "array([False,  True, False, False, False,  True])"
      ]
     },
     "execution_count": 30,
     "metadata": {},
     "output_type": "execute_result"
    }
   ],
   "source": [
    "get_outlier(np.array([1, 100,10,2,3,-100]))"
   ]
  },
  {
   "cell_type": "markdown",
   "metadata": {},
   "source": [
    "## 각 컬럼별 이상치 처리\n",
    "\n",
    "### revolvingutilizationofunsecuredlines\n",
    "- 전체 운용가능한 돈 대비 현재 운용가능한 돈의 비율 (남은신용한도+통장잔고/ 총신용한도+통장잔고)\n",
    "- 1초과하는 값들을 1로 변경한다."
   ]
  },
  {
   "cell_type": "code",
   "execution_count": 31,
   "metadata": {
    "ExecuteTime": {
     "end_time": "2023-02-13T00:13:47.504310Z",
     "start_time": "2023-02-13T00:13:47.464312Z"
    }
   },
   "outputs": [
    {
     "name": "stdout",
     "output_type": "stream",
     "text": [
      "count    150000.000000\n",
      "mean          6.048438\n",
      "std         249.755371\n",
      "min           0.000000\n",
      "25%           0.029867\n",
      "50%           0.154181\n",
      "75%           0.559046\n",
      "max       50708.000000\n",
      "Name: revolvingutilizationofunsecuredlines, dtype: float64\n",
      "1 초과값 개수 3321\n"
     ]
    }
   ],
   "source": [
    "#확인\n",
    "print(data['revolvingutilizationofunsecuredlines'].describe())\n",
    "print('1 초과값 개수',(data['revolvingutilizationofunsecuredlines'] > 1).sum())"
   ]
  },
  {
   "cell_type": "code",
   "execution_count": 32,
   "metadata": {
    "ExecuteTime": {
     "end_time": "2023-02-13T00:13:47.535316Z",
     "start_time": "2023-02-13T00:13:47.510314Z"
    }
   },
   "outputs": [
    {
     "data": {
      "text/plain": [
       "162          1.046279\n",
       "191          1.095083\n",
       "226          1.953488\n",
       "251          1.048211\n",
       "293       2340.000000\n",
       "             ...     \n",
       "149939       1.049900\n",
       "149955       1.135552\n",
       "149962       1.005733\n",
       "149964       1.010934\n",
       "149973       1.026395\n",
       "Name: revolvingutilizationofunsecuredlines, Length: 3321, dtype: float64"
      ]
     },
     "execution_count": 32,
     "metadata": {},
     "output_type": "execute_result"
    }
   ],
   "source": [
    "data.loc[data['revolvingutilizationofunsecuredlines']>1, 'revolvingutilizationofunsecuredlines']"
   ]
  },
  {
   "cell_type": "code",
   "execution_count": 33,
   "metadata": {
    "ExecuteTime": {
     "end_time": "2023-02-13T00:13:47.567310Z",
     "start_time": "2023-02-13T00:13:47.541311Z"
    }
   },
   "outputs": [],
   "source": [
    "data.loc[data['revolvingutilizationofunsecuredlines']>1, 'revolvingutilizationofunsecuredlines'] = 1"
   ]
  },
  {
   "cell_type": "code",
   "execution_count": 34,
   "metadata": {
    "ExecuteTime": {
     "end_time": "2023-02-13T00:13:47.615310Z",
     "start_time": "2023-02-13T00:13:47.572310Z"
    }
   },
   "outputs": [
    {
     "name": "stdout",
     "output_type": "stream",
     "text": [
      "count    150000.000000\n",
      "mean          0.319196\n",
      "std           0.349481\n",
      "min           0.000000\n",
      "25%           0.029867\n",
      "50%           0.154181\n",
      "75%           0.559046\n",
      "max           1.000000\n",
      "Name: revolvingutilizationofunsecuredlines, dtype: float64\n",
      "1 초과값 총개수 0\n"
     ]
    }
   ],
   "source": [
    "#확인\n",
    "print(data['revolvingutilizationofunsecuredlines'].describe())\n",
    "print('1 초과값 총개수',(data['revolvingutilizationofunsecuredlines'] > 1).sum())"
   ]
  },
  {
   "cell_type": "markdown",
   "metadata": {},
   "source": [
    "### age\n",
    "- 대출자 나이\n",
    "- 최소값이 0, 최대값 109\n",
    "- 중위수로 변환 "
   ]
  },
  {
   "cell_type": "code",
   "execution_count": 35,
   "metadata": {
    "ExecuteTime": {
     "end_time": "2023-02-13T00:13:47.663317Z",
     "start_time": "2023-02-13T00:13:47.622323Z"
    }
   },
   "outputs": [
    {
     "data": {
      "text/plain": [
       "count    150000.000000\n",
       "mean         52.295207\n",
       "std          14.771866\n",
       "min           0.000000\n",
       "25%          41.000000\n",
       "50%          52.000000\n",
       "75%          63.000000\n",
       "max         109.000000\n",
       "Name: age, dtype: float64"
      ]
     },
     "execution_count": 35,
     "metadata": {},
     "output_type": "execute_result"
    }
   ],
   "source": [
    "data['age'].describe()"
   ]
  },
  {
   "cell_type": "code",
   "execution_count": 36,
   "metadata": {
    "ExecuteTime": {
     "end_time": "2023-02-13T00:13:47.695311Z",
     "start_time": "2023-02-13T00:13:47.669309Z"
    }
   },
   "outputs": [
    {
     "data": {
      "text/plain": [
       "0        1\n",
       "21     183\n",
       "22     434\n",
       "23     641\n",
       "24     816\n",
       "      ... \n",
       "102      3\n",
       "103      3\n",
       "105      1\n",
       "107      1\n",
       "109      2\n",
       "Name: age, Length: 86, dtype: int64"
      ]
     },
     "execution_count": 36,
     "metadata": {},
     "output_type": "execute_result"
    }
   ],
   "source": [
    "# 0이 한명, 그다음은 21부터 존재 한다. \n",
    "data['age'].value_counts().sort_index()"
   ]
  },
  {
   "cell_type": "code",
   "execution_count": 37,
   "metadata": {
    "ExecuteTime": {
     "end_time": "2023-02-13T00:13:47.743311Z",
     "start_time": "2023-02-13T00:13:47.701321Z"
    }
   },
   "outputs": [
    {
     "data": {
      "text/html": [
       "<div>\n",
       "<style scoped>\n",
       "    .dataframe tbody tr th:only-of-type {\n",
       "        vertical-align: middle;\n",
       "    }\n",
       "\n",
       "    .dataframe tbody tr th {\n",
       "        vertical-align: top;\n",
       "    }\n",
       "\n",
       "    .dataframe thead th {\n",
       "        text-align: right;\n",
       "    }\n",
       "</style>\n",
       "<table border=\"1\" class=\"dataframe\">\n",
       "  <thead>\n",
       "    <tr style=\"text-align: right;\">\n",
       "      <th></th>\n",
       "      <th>seriousdlqin2yrs</th>\n",
       "      <th>revolvingutilizationofunsecuredlines</th>\n",
       "      <th>age</th>\n",
       "      <th>numberoftime30-59dayspastduenotworse</th>\n",
       "      <th>debtratio</th>\n",
       "      <th>monthlyincome</th>\n",
       "      <th>numberofopencreditlinesandloans</th>\n",
       "      <th>numberoftimes90dayslate</th>\n",
       "      <th>numberrealestateloansorlines</th>\n",
       "      <th>numberoftime60-89dayspastduenotworse</th>\n",
       "      <th>numberofdependents</th>\n",
       "    </tr>\n",
       "  </thead>\n",
       "  <tbody>\n",
       "    <tr>\n",
       "      <th>65695</th>\n",
       "      <td>0</td>\n",
       "      <td>1.0</td>\n",
       "      <td>0</td>\n",
       "      <td>1</td>\n",
       "      <td>0.436927</td>\n",
       "      <td>6000.0</td>\n",
       "      <td>6</td>\n",
       "      <td>0</td>\n",
       "      <td>2</td>\n",
       "      <td>0</td>\n",
       "      <td>2.0</td>\n",
       "    </tr>\n",
       "  </tbody>\n",
       "</table>\n",
       "</div>"
      ],
      "text/plain": [
       "       seriousdlqin2yrs  revolvingutilizationofunsecuredlines  age  \\\n",
       "65695                 0                                   1.0    0   \n",
       "\n",
       "       numberoftime30-59dayspastduenotworse  debtratio  monthlyincome  \\\n",
       "65695                                     1   0.436927         6000.0   \n",
       "\n",
       "       numberofopencreditlinesandloans  numberoftimes90dayslate  \\\n",
       "65695                                6                        0   \n",
       "\n",
       "       numberrealestateloansorlines  numberoftime60-89dayspastduenotworse  \\\n",
       "65695                             2                                     0   \n",
       "\n",
       "       numberofdependents  \n",
       "65695                 2.0  "
      ]
     },
     "execution_count": 37,
     "metadata": {},
     "output_type": "execute_result"
    }
   ],
   "source": [
    "data.loc[data['age']==0]"
   ]
  },
  {
   "cell_type": "code",
   "execution_count": 38,
   "metadata": {
    "ExecuteTime": {
     "end_time": "2023-02-13T00:13:47.775311Z",
     "start_time": "2023-02-13T00:13:47.748313Z"
    }
   },
   "outputs": [],
   "source": [
    "data.loc[data['age']==0, 'age'] = data['age'].median()"
   ]
  },
  {
   "cell_type": "code",
   "execution_count": 39,
   "metadata": {
    "ExecuteTime": {
     "end_time": "2023-02-13T00:13:47.823312Z",
     "start_time": "2023-02-13T00:13:47.781321Z"
    }
   },
   "outputs": [
    {
     "data": {
      "text/plain": [
       "count    150000.000000\n",
       "mean         52.295553\n",
       "std          14.771249\n",
       "min          21.000000\n",
       "25%          41.000000\n",
       "50%          52.000000\n",
       "75%          63.000000\n",
       "max         109.000000\n",
       "Name: age, dtype: float64"
      ]
     },
     "execution_count": 39,
     "metadata": {},
     "output_type": "execute_result"
    }
   ],
   "source": [
    "data['age'].describe()"
   ]
  },
  {
   "cell_type": "markdown",
   "metadata": {},
   "source": [
    "### numberoftime30-59dayspastduenotworse, numberoftime60-89dayspastduenotworse, numberoftimes90dayslate\n",
    "\n",
    "- 30 ~ 59, 60 ~ 89, 90이상 연체한 횟수\n",
    "- 96, 98 두개의 값을 가지는 행이 있다.\n",
    "    - 96은 5개 98은 264개로 세 컬럼의 같은 행이 같이 두 값을 가지고 있다. \n",
    "    - 이런 경우 특정 의미를 표현하는 코드 값일 수 있다. 그래서 제거하지 않고 유지한다."
   ]
  },
  {
   "cell_type": "code",
   "execution_count": 40,
   "metadata": {
    "ExecuteTime": {
     "end_time": "2023-02-13T00:13:47.855312Z",
     "start_time": "2023-02-13T00:13:47.828312Z"
    }
   },
   "outputs": [
    {
     "data": {
      "text/plain": [
       "count    150000.000000\n",
       "mean          0.421033\n",
       "std           4.192781\n",
       "min           0.000000\n",
       "25%           0.000000\n",
       "50%           0.000000\n",
       "75%           0.000000\n",
       "max          98.000000\n",
       "Name: numberoftime30-59dayspastduenotworse, dtype: float64"
      ]
     },
     "execution_count": 40,
     "metadata": {},
     "output_type": "execute_result"
    }
   ],
   "source": [
    "data['numberoftime30-59dayspastduenotworse'].describe()"
   ]
  },
  {
   "cell_type": "code",
   "execution_count": 41,
   "metadata": {
    "ExecuteTime": {
     "end_time": "2023-02-13T00:13:47.887312Z",
     "start_time": "2023-02-13T00:13:47.861313Z"
    }
   },
   "outputs": [
    {
     "data": {
      "text/plain": [
       "0     126018\n",
       "1      16033\n",
       "2       4598\n",
       "3       1754\n",
       "4        747\n",
       "5        342\n",
       "6        140\n",
       "7         54\n",
       "8         25\n",
       "9         12\n",
       "10         4\n",
       "11         1\n",
       "12         2\n",
       "13         1\n",
       "96         5\n",
       "98       264\n",
       "Name: numberoftime30-59dayspastduenotworse, dtype: int64"
      ]
     },
     "execution_count": 41,
     "metadata": {},
     "output_type": "execute_result"
    }
   ],
   "source": [
    "data['numberoftime30-59dayspastduenotworse'].value_counts().sort_index()"
   ]
  },
  {
   "cell_type": "markdown",
   "metadata": {},
   "source": [
    "### numberoftime60-89dayspastduenotworse"
   ]
  },
  {
   "cell_type": "code",
   "execution_count": 42,
   "metadata": {
    "ExecuteTime": {
     "end_time": "2023-02-13T00:13:47.933319Z",
     "start_time": "2023-02-13T00:13:47.893309Z"
    }
   },
   "outputs": [
    {
     "data": {
      "text/plain": [
       "count    150000.000000\n",
       "mean          0.240387\n",
       "std           4.155179\n",
       "min           0.000000\n",
       "25%           0.000000\n",
       "50%           0.000000\n",
       "75%           0.000000\n",
       "max          98.000000\n",
       "Name: numberoftime60-89dayspastduenotworse, dtype: float64"
      ]
     },
     "execution_count": 42,
     "metadata": {},
     "output_type": "execute_result"
    }
   ],
   "source": [
    "data['numberoftime60-89dayspastduenotworse'].describe()"
   ]
  },
  {
   "cell_type": "code",
   "execution_count": 43,
   "metadata": {
    "ExecuteTime": {
     "end_time": "2023-02-13T00:13:47.965311Z",
     "start_time": "2023-02-13T00:13:47.939314Z"
    }
   },
   "outputs": [
    {
     "data": {
      "text/plain": [
       "0     142396\n",
       "1       5731\n",
       "2       1118\n",
       "3        318\n",
       "4        105\n",
       "5         34\n",
       "6         16\n",
       "7          9\n",
       "8          2\n",
       "9          1\n",
       "11         1\n",
       "96         5\n",
       "98       264\n",
       "Name: numberoftime60-89dayspastduenotworse, dtype: int64"
      ]
     },
     "execution_count": 43,
     "metadata": {},
     "output_type": "execute_result"
    }
   ],
   "source": [
    "data['numberoftime60-89dayspastduenotworse'].value_counts().sort_index()"
   ]
  },
  {
   "cell_type": "markdown",
   "metadata": {},
   "source": [
    "### numberoftimes90dayslate"
   ]
  },
  {
   "cell_type": "code",
   "execution_count": 44,
   "metadata": {
    "ExecuteTime": {
     "end_time": "2023-02-13T00:13:48.013307Z",
     "start_time": "2023-02-13T00:13:47.969320Z"
    }
   },
   "outputs": [
    {
     "data": {
      "text/plain": [
       "count    150000.000000\n",
       "mean          0.265973\n",
       "std           4.169304\n",
       "min           0.000000\n",
       "25%           0.000000\n",
       "50%           0.000000\n",
       "75%           0.000000\n",
       "max          98.000000\n",
       "Name: numberoftimes90dayslate, dtype: float64"
      ]
     },
     "execution_count": 44,
     "metadata": {},
     "output_type": "execute_result"
    }
   ],
   "source": [
    "data['numberoftimes90dayslate'].describe()"
   ]
  },
  {
   "cell_type": "code",
   "execution_count": 45,
   "metadata": {
    "ExecuteTime": {
     "end_time": "2023-02-13T00:13:48.045326Z",
     "start_time": "2023-02-13T00:13:48.018324Z"
    }
   },
   "outputs": [
    {
     "data": {
      "text/plain": [
       "0     141662\n",
       "1       5243\n",
       "2       1555\n",
       "3        667\n",
       "4        291\n",
       "5        131\n",
       "6         80\n",
       "7         38\n",
       "8         21\n",
       "9         19\n",
       "10         8\n",
       "11         5\n",
       "12         2\n",
       "13         4\n",
       "14         2\n",
       "15         2\n",
       "17         1\n",
       "96         5\n",
       "98       264\n",
       "Name: numberoftimes90dayslate, dtype: int64"
      ]
     },
     "execution_count": 45,
     "metadata": {},
     "output_type": "execute_result"
    }
   ],
   "source": [
    "data['numberoftimes90dayslate'].value_counts().sort_index()"
   ]
  },
  {
   "cell_type": "code",
   "execution_count": 46,
   "metadata": {
    "ExecuteTime": {
     "end_time": "2023-02-13T00:13:48.077316Z",
     "start_time": "2023-02-13T00:13:48.053317Z"
    }
   },
   "outputs": [
    {
     "data": {
      "text/plain": [
       "(269, 11)"
      ]
     },
     "execution_count": 46,
     "metadata": {},
     "output_type": "execute_result"
    }
   ],
   "source": [
    "data.loc[(data['numberoftime30-59dayspastduenotworse'] > 95) & \n",
    "         (data['numberoftime60-89dayspastduenotworse'] > 95) & \n",
    "         (data['numberoftimes90dayslate'] > 95)].shape\n",
    "\n",
    "# 위 세개 컬럼에서 96, 98 을 가지는 행이 동일하다.\n",
    "# 96, 98 은 은행에서 사용하는 코드값으로 추측할 수 있다. "
   ]
  },
  {
   "cell_type": "code",
   "execution_count": 47,
   "metadata": {
    "ExecuteTime": {
     "end_time": "2023-02-13T00:13:48.109312Z",
     "start_time": "2023-02-13T00:13:48.082324Z"
    }
   },
   "outputs": [
    {
     "data": {
      "text/html": [
       "<div>\n",
       "<style scoped>\n",
       "    .dataframe tbody tr th:only-of-type {\n",
       "        vertical-align: middle;\n",
       "    }\n",
       "\n",
       "    .dataframe tbody tr th {\n",
       "        vertical-align: top;\n",
       "    }\n",
       "\n",
       "    .dataframe thead th {\n",
       "        text-align: right;\n",
       "    }\n",
       "</style>\n",
       "<table border=\"1\" class=\"dataframe\">\n",
       "  <thead>\n",
       "    <tr style=\"text-align: right;\">\n",
       "      <th></th>\n",
       "      <th>numberoftime30-59dayspastduenotworse</th>\n",
       "      <th>numberoftime60-89dayspastduenotworse</th>\n",
       "      <th>numberoftimes90dayslate</th>\n",
       "    </tr>\n",
       "  </thead>\n",
       "  <tbody>\n",
       "    <tr>\n",
       "      <th>41944</th>\n",
       "      <td>96</td>\n",
       "      <td>96</td>\n",
       "      <td>96</td>\n",
       "    </tr>\n",
       "    <tr>\n",
       "      <th>69478</th>\n",
       "      <td>96</td>\n",
       "      <td>96</td>\n",
       "      <td>96</td>\n",
       "    </tr>\n",
       "    <tr>\n",
       "      <th>84167</th>\n",
       "      <td>96</td>\n",
       "      <td>96</td>\n",
       "      <td>96</td>\n",
       "    </tr>\n",
       "    <tr>\n",
       "      <th>94106</th>\n",
       "      <td>96</td>\n",
       "      <td>96</td>\n",
       "      <td>96</td>\n",
       "    </tr>\n",
       "    <tr>\n",
       "      <th>120049</th>\n",
       "      <td>96</td>\n",
       "      <td>96</td>\n",
       "      <td>96</td>\n",
       "    </tr>\n",
       "  </tbody>\n",
       "</table>\n",
       "</div>"
      ],
      "text/plain": [
       "        numberoftime30-59dayspastduenotworse  \\\n",
       "41944                                     96   \n",
       "69478                                     96   \n",
       "84167                                     96   \n",
       "94106                                     96   \n",
       "120049                                    96   \n",
       "\n",
       "        numberoftime60-89dayspastduenotworse  numberoftimes90dayslate  \n",
       "41944                                     96                       96  \n",
       "69478                                     96                       96  \n",
       "84167                                     96                       96  \n",
       "94106                                     96                       96  \n",
       "120049                                    96                       96  "
      ]
     },
     "execution_count": 47,
     "metadata": {},
     "output_type": "execute_result"
    }
   ],
   "source": [
    "data.loc[(data['numberoftime30-59dayspastduenotworse'] == 96) & \n",
    "         (data['numberoftime60-89dayspastduenotworse'] == 96) & \n",
    "         (data['numberoftimes90dayslate'] == 96), ['numberoftime30-59dayspastduenotworse','numberoftime60-89dayspastduenotworse','numberoftimes90dayslate']]"
   ]
  },
  {
   "cell_type": "markdown",
   "metadata": {},
   "source": [
    "### debtratio \n",
    "- 소득 대비 부채비율(대출상환금+생활비/소득)\n",
    "- 이상치가 아닌 값들 중 최대값으로 대체한다. "
   ]
  },
  {
   "cell_type": "code",
   "execution_count": 48,
   "metadata": {
    "ExecuteTime": {
     "end_time": "2023-02-13T00:13:48.157325Z",
     "start_time": "2023-02-13T00:13:48.114320Z"
    }
   },
   "outputs": [
    {
     "data": {
      "text/plain": [
       "count    150000.000000\n",
       "mean        353.005076\n",
       "std        2037.818523\n",
       "min           0.000000\n",
       "25%           0.175074\n",
       "50%           0.366508\n",
       "75%           0.868254\n",
       "max      329664.000000\n",
       "Name: debtratio, dtype: float64"
      ]
     },
     "execution_count": 48,
     "metadata": {},
     "output_type": "execute_result"
    }
   ],
   "source": [
    "data['debtratio'].describe()"
   ]
  },
  {
   "cell_type": "code",
   "execution_count": 49,
   "metadata": {
    "ExecuteTime": {
     "end_time": "2023-02-13T00:13:48.205327Z",
     "start_time": "2023-02-13T00:13:48.163327Z"
    }
   },
   "outputs": [
    {
     "data": {
      "text/plain": [
       "31311"
      ]
     },
     "execution_count": 49,
     "metadata": {},
     "output_type": "execute_result"
    }
   ],
   "source": [
    "get_outlier(data['debtratio']).sum() #이상치 개수"
   ]
  },
  {
   "cell_type": "code",
   "execution_count": 50,
   "metadata": {
    "ExecuteTime": {
     "end_time": "2023-02-13T00:13:48.237317Z",
     "start_time": "2023-02-13T00:13:48.213313Z"
    }
   },
   "outputs": [
    {
     "data": {
      "text/plain": [
       "0.20874"
      ]
     },
     "execution_count": 50,
     "metadata": {},
     "output_type": "execute_result"
    }
   ],
   "source": [
    "get_outlier(data['debtratio']).mean()"
   ]
  },
  {
   "cell_type": "code",
   "execution_count": 51,
   "metadata": {
    "ExecuteTime": {
     "end_time": "2023-02-13T00:13:48.269323Z",
     "start_time": "2023-02-13T00:13:48.244312Z"
    }
   },
   "outputs": [
    {
     "data": {
      "text/plain": [
       "1267.0"
      ]
     },
     "execution_count": 51,
     "metadata": {},
     "output_type": "execute_result"
    }
   ],
   "source": [
    "# 9분위수\n",
    "np.quantile(data['debtratio'], q=0.9)"
   ]
  },
  {
   "cell_type": "code",
   "execution_count": 52,
   "metadata": {
    "ExecuteTime": {
     "end_time": "2023-02-13T00:13:48.317311Z",
     "start_time": "2023-02-13T00:13:48.275316Z"
    }
   },
   "outputs": [],
   "source": [
    "# outlier 아닌 값들 중 최대값으로 대체\n",
    "# ~ : not\n",
    "max_value_debt = np.max(data.debtratio[~get_outlier(data['debtratio'])]) # 정상범위 값 중 최대값 조회\n",
    "data.loc[data['debtratio']>max_value_debt, 'debtratio'] = max_value_debt"
   ]
  },
  {
   "cell_type": "code",
   "execution_count": 53,
   "metadata": {
    "ExecuteTime": {
     "end_time": "2023-02-13T00:13:48.349311Z",
     "start_time": "2023-02-13T00:13:48.323315Z"
    }
   },
   "outputs": [
    {
     "data": {
      "text/plain": [
       "1.906764531"
      ]
     },
     "execution_count": 53,
     "metadata": {},
     "output_type": "execute_result"
    }
   ],
   "source": [
    "max_value_debt"
   ]
  },
  {
   "cell_type": "code",
   "execution_count": 54,
   "metadata": {
    "ExecuteTime": {
     "end_time": "2023-02-13T00:13:48.381313Z",
     "start_time": "2023-02-13T00:13:48.354314Z"
    }
   },
   "outputs": [
    {
     "data": {
      "text/plain": [
       "0"
      ]
     },
     "execution_count": 54,
     "metadata": {},
     "output_type": "execute_result"
    }
   ],
   "source": [
    "get_outlier(data['debtratio']).sum()"
   ]
  },
  {
   "cell_type": "code",
   "execution_count": 55,
   "metadata": {
    "ExecuteTime": {
     "end_time": "2023-02-13T00:13:48.428313Z",
     "start_time": "2023-02-13T00:13:48.386323Z"
    }
   },
   "outputs": [
    {
     "data": {
      "text/plain": [
       "count    150000.000000\n",
       "mean          0.662995\n",
       "std           0.687610\n",
       "min           0.000000\n",
       "25%           0.175074\n",
       "50%           0.366508\n",
       "75%           0.868254\n",
       "max           1.906765\n",
       "Name: debtratio, dtype: float64"
      ]
     },
     "execution_count": 55,
     "metadata": {},
     "output_type": "execute_result"
    }
   ],
   "source": [
    "data['debtratio'].describe()"
   ]
  },
  {
   "cell_type": "code",
   "execution_count": 56,
   "metadata": {
    "ExecuteTime": {
     "end_time": "2023-02-13T00:13:49.015355Z",
     "start_time": "2023-02-13T00:13:48.435328Z"
    }
   },
   "outputs": [
    {
     "data": {
      "text/plain": [
       "<AxesSubplot: >"
      ]
     },
     "execution_count": 56,
     "metadata": {},
     "output_type": "execute_result"
    },
    {
     "data": {
      "image/png": "[encoded data removed]",
      "text/plain": [
       "<Figure size 640x480 with 1 Axes>"
      ]
     },
     "metadata": {},
     "output_type": "display_data"
    }
   ],
   "source": [
    "data['debtratio'].hist(bins=30)"
   ]
  },
  {
   "cell_type": "markdown",
   "metadata": {},
   "source": [
    "## monthlyincome\n",
    "- 월간 소득\n",
    "- 이상치를 이상치 아닌 값들의 최대 값으로 대체한다."
   ]
  },
  {
   "cell_type": "code",
   "execution_count": 57,
   "metadata": {
    "ExecuteTime": {
     "end_time": "2023-02-13T00:13:49.061313Z",
     "start_time": "2023-02-13T00:13:49.021317Z"
    }
   },
   "outputs": [
    {
     "data": {
      "text/plain": [
       "9149"
      ]
     },
     "execution_count": 57,
     "metadata": {},
     "output_type": "execute_result"
    }
   ],
   "source": [
    "get_outlier(data['monthlyincome']).sum()"
   ]
  },
  {
   "cell_type": "code",
   "execution_count": 58,
   "metadata": {
    "ExecuteTime": {
     "end_time": "2023-02-13T00:13:49.108323Z",
     "start_time": "2023-02-13T00:13:49.068317Z"
    }
   },
   "outputs": [
    {
     "data": {
      "text/plain": [
       "0.06099333333333333"
      ]
     },
     "execution_count": 58,
     "metadata": {},
     "output_type": "execute_result"
    }
   ],
   "source": [
    "get_outlier(data['monthlyincome']).mean()"
   ]
  },
  {
   "cell_type": "code",
   "execution_count": 59,
   "metadata": {
    "ExecuteTime": {
     "end_time": "2023-02-13T00:13:49.171318Z",
     "start_time": "2023-02-13T00:13:49.114310Z"
    }
   },
   "outputs": [
    {
     "data": {
      "text/plain": [
       "count     150000.000\n",
       "mean        6418.455\n",
       "std        12890.396\n",
       "min            0.000\n",
       "25%         3903.000\n",
       "50%         5400.000\n",
       "75%         7400.000\n",
       "max      3008750.000\n",
       "Name: monthlyincome, dtype: float64"
      ]
     },
     "execution_count": 59,
     "metadata": {},
     "output_type": "execute_result"
    }
   ],
   "source": [
    "np.round(data.monthlyincome.describe(), 3)\n",
    "# max: 3,000,000 "
   ]
  },
  {
   "cell_type": "code",
   "execution_count": 60,
   "metadata": {
    "ExecuteTime": {
     "end_time": "2023-02-13T00:13:50.845308Z",
     "start_time": "2023-02-13T00:13:49.178331Z"
    }
   },
   "outputs": [
    {
     "data": {
      "image/png": "[encoded data removed]",
      "text/plain": [
       "<Figure size 640x480 with 1 Axes>"
      ]
     },
     "metadata": {},
     "output_type": "display_data"
    }
   ],
   "source": [
    "data.monthlyincome.hist(bins=500)\n",
    "plt.xlim(0,10000)\n",
    "plt.show()"
   ]
  },
  {
   "cell_type": "code",
   "execution_count": 61,
   "metadata": {
    "ExecuteTime": {
     "end_time": "2023-02-13T00:13:50.892313Z",
     "start_time": "2023-02-13T00:13:50.852315Z"
    }
   },
   "outputs": [],
   "source": [
    "max_value_income = np.max(data.monthlyincome[~get_outlier(data['monthlyincome'])])\n",
    "# 정상값의 최대값으로 변환\n",
    "data.loc[data['monthlyincome']>=max_value_income, 'monthlyincome'] = max_value_income"
   ]
  },
  {
   "cell_type": "code",
   "execution_count": 62,
   "metadata": {
    "ExecuteTime": {
     "end_time": "2023-02-13T00:13:50.924321Z",
     "start_time": "2023-02-13T00:13:50.899313Z"
    },
    "scrolled": true
   },
   "outputs": [
    {
     "data": {
      "text/plain": [
       "12645.0"
      ]
     },
     "execution_count": 62,
     "metadata": {},
     "output_type": "execute_result"
    }
   ],
   "source": [
    "max_value_income"
   ]
  },
  {
   "cell_type": "code",
   "execution_count": 63,
   "metadata": {
    "ExecuteTime": {
     "end_time": "2023-02-13T00:13:50.972308Z",
     "start_time": "2023-02-13T00:13:50.931318Z"
    }
   },
   "outputs": [
    {
     "data": {
      "text/plain": [
       "0"
      ]
     },
     "execution_count": 63,
     "metadata": {},
     "output_type": "execute_result"
    }
   ],
   "source": [
    "get_outlier(data['monthlyincome']).sum()"
   ]
  },
  {
   "cell_type": "code",
   "execution_count": 64,
   "metadata": {
    "ExecuteTime": {
     "end_time": "2023-02-13T00:13:51.555313Z",
     "start_time": "2023-02-13T00:13:50.976312Z"
    }
   },
   "outputs": [
    {
     "data": {
      "image/png": "[encoded data removed]",
      "text/plain": [
       "<Figure size 640x480 with 1 Axes>"
      ]
     },
     "metadata": {},
     "output_type": "display_data"
    }
   ],
   "source": [
    "data.monthlyincome.hist(bins=50)\n",
    "plt.show()"
   ]
  },
  {
   "cell_type": "markdown",
   "metadata": {
    "ExecuteTime": {
     "end_time": "2019-12-25T09:53:23.871833Z",
     "start_time": "2019-12-25T09:53:23.868839Z"
    }
   },
   "source": [
    "# 전처리한 data파일 저장"
   ]
  },
  {
   "cell_type": "code",
   "execution_count": 65,
   "metadata": {
    "ExecuteTime": {
     "end_time": "2023-02-13T00:13:53.183358Z",
     "start_time": "2023-02-13T00:13:51.562317Z"
    }
   },
   "outputs": [],
   "source": [
    "import os\n",
    "os.makedirs('saved_data', exist_ok=True)\n",
    "data.to_csv('data/data-v01.csv', index=False)"
   ]
  },
  {
   "cell_type": "markdown",
   "metadata": {},
   "source": [
    "### 상관관계 확인\n",
    "- 시각화 : heatmap"
   ]
  },
  {
   "cell_type": "code",
   "execution_count": 66,
   "metadata": {
    "ExecuteTime": {
     "end_time": "2023-02-13T00:13:53.372315Z",
     "start_time": "2023-02-13T00:13:53.189321Z"
    }
   },
   "outputs": [
    {
     "data": {
      "text/html": [
       "<div>\n",
       "<style scoped>\n",
       "    .dataframe tbody tr th:only-of-type {\n",
       "        vertical-align: middle;\n",
       "    }\n",
       "\n",
       "    .dataframe tbody tr th {\n",
       "        vertical-align: top;\n",
       "    }\n",
       "\n",
       "    .dataframe thead th {\n",
       "        text-align: right;\n",
       "    }\n",
       "</style>\n",
       "<table border=\"1\" class=\"dataframe\">\n",
       "  <thead>\n",
       "    <tr style=\"text-align: right;\">\n",
       "      <th></th>\n",
       "      <th>seriousdlqin2yrs</th>\n",
       "      <th>revolvingutilizationofunsecuredlines</th>\n",
       "      <th>age</th>\n",
       "      <th>numberoftime30-59dayspastduenotworse</th>\n",
       "      <th>debtratio</th>\n",
       "      <th>monthlyincome</th>\n",
       "      <th>numberofopencreditlinesandloans</th>\n",
       "      <th>numberoftimes90dayslate</th>\n",
       "      <th>numberrealestateloansorlines</th>\n",
       "      <th>numberoftime60-89dayspastduenotworse</th>\n",
       "      <th>numberofdependents</th>\n",
       "    </tr>\n",
       "  </thead>\n",
       "  <tbody>\n",
       "    <tr>\n",
       "      <th>seriousdlqin2yrs</th>\n",
       "      <td>1.000000</td>\n",
       "      <td>0.278096</td>\n",
       "      <td>-0.115397</td>\n",
       "      <td>0.125587</td>\n",
       "      <td>0.003841</td>\n",
       "      <td>-0.056445</td>\n",
       "      <td>-0.029669</td>\n",
       "      <td>0.117175</td>\n",
       "      <td>-0.007038</td>\n",
       "      <td>0.102261</td>\n",
       "      <td>0.046869</td>\n",
       "    </tr>\n",
       "    <tr>\n",
       "      <th>revolvingutilizationofunsecuredlines</th>\n",
       "      <td>0.278096</td>\n",
       "      <td>1.000000</td>\n",
       "      <td>-0.279149</td>\n",
       "      <td>0.121136</td>\n",
       "      <td>-0.019307</td>\n",
       "      <td>-0.095073</td>\n",
       "      <td>-0.160531</td>\n",
       "      <td>0.109773</td>\n",
       "      <td>-0.068918</td>\n",
       "      <td>0.097818</td>\n",
       "      <td>0.090457</td>\n",
       "    </tr>\n",
       "    <tr>\n",
       "      <th>age</th>\n",
       "      <td>-0.115397</td>\n",
       "      <td>-0.279149</td>\n",
       "      <td>1.000000</td>\n",
       "      <td>-0.062995</td>\n",
       "      <td>0.084327</td>\n",
       "      <td>0.095960</td>\n",
       "      <td>0.147700</td>\n",
       "      <td>-0.061009</td>\n",
       "      <td>0.033172</td>\n",
       "      <td>-0.057163</td>\n",
       "      <td>-0.215676</td>\n",
       "    </tr>\n",
       "    <tr>\n",
       "      <th>numberoftime30-59dayspastduenotworse</th>\n",
       "      <td>0.125587</td>\n",
       "      <td>0.121136</td>\n",
       "      <td>-0.062995</td>\n",
       "      <td>1.000000</td>\n",
       "      <td>-0.027654</td>\n",
       "      <td>-0.029099</td>\n",
       "      <td>-0.055312</td>\n",
       "      <td>0.983603</td>\n",
       "      <td>-0.030565</td>\n",
       "      <td>0.987005</td>\n",
       "      <td>-0.004590</td>\n",
       "    </tr>\n",
       "    <tr>\n",
       "      <th>debtratio</th>\n",
       "      <td>0.003841</td>\n",
       "      <td>-0.019307</td>\n",
       "      <td>0.084327</td>\n",
       "      <td>-0.027654</td>\n",
       "      <td>1.000000</td>\n",
       "      <td>-0.202811</td>\n",
       "      <td>0.036488</td>\n",
       "      <td>-0.028894</td>\n",
       "      <td>0.134794</td>\n",
       "      <td>-0.028056</td>\n",
       "      <td>-0.143769</td>\n",
       "    </tr>\n",
       "    <tr>\n",
       "      <th>monthlyincome</th>\n",
       "      <td>-0.056445</td>\n",
       "      <td>-0.095073</td>\n",
       "      <td>0.095960</td>\n",
       "      <td>-0.029099</td>\n",
       "      <td>-0.202811</td>\n",
       "      <td>1.000000</td>\n",
       "      <td>0.266341</td>\n",
       "      <td>-0.035821</td>\n",
       "      <td>0.336804</td>\n",
       "      <td>-0.031958</td>\n",
       "      <td>0.192489</td>\n",
       "    </tr>\n",
       "    <tr>\n",
       "      <th>numberofopencreditlinesandloans</th>\n",
       "      <td>-0.029669</td>\n",
       "      <td>-0.160531</td>\n",
       "      <td>0.147700</td>\n",
       "      <td>-0.055312</td>\n",
       "      <td>0.036488</td>\n",
       "      <td>0.266341</td>\n",
       "      <td>1.000000</td>\n",
       "      <td>-0.079984</td>\n",
       "      <td>0.433959</td>\n",
       "      <td>-0.071077</td>\n",
       "      <td>0.074026</td>\n",
       "    </tr>\n",
       "    <tr>\n",
       "      <th>numberoftimes90dayslate</th>\n",
       "      <td>0.117175</td>\n",
       "      <td>0.109773</td>\n",
       "      <td>-0.061009</td>\n",
       "      <td>0.983603</td>\n",
       "      <td>-0.028894</td>\n",
       "      <td>-0.035821</td>\n",
       "      <td>-0.079984</td>\n",
       "      <td>1.000000</td>\n",
       "      <td>-0.045205</td>\n",
       "      <td>0.992796</td>\n",
       "      <td>-0.011962</td>\n",
       "    </tr>\n",
       "    <tr>\n",
       "      <th>numberrealestateloansorlines</th>\n",
       "      <td>-0.007038</td>\n",
       "      <td>-0.068918</td>\n",
       "      <td>0.033172</td>\n",
       "      <td>-0.030565</td>\n",
       "      <td>0.134794</td>\n",
       "      <td>0.336804</td>\n",
       "      <td>0.433959</td>\n",
       "      <td>-0.045205</td>\n",
       "      <td>1.000000</td>\n",
       "      <td>-0.039722</td>\n",
       "      <td>0.129399</td>\n",
       "    </tr>\n",
       "    <tr>\n",
       "      <th>numberoftime60-89dayspastduenotworse</th>\n",
       "      <td>0.102261</td>\n",
       "      <td>0.097818</td>\n",
       "      <td>-0.057163</td>\n",
       "      <td>0.987005</td>\n",
       "      <td>-0.028056</td>\n",
       "      <td>-0.031958</td>\n",
       "      <td>-0.071077</td>\n",
       "      <td>0.992796</td>\n",
       "      <td>-0.039722</td>\n",
       "      <td>1.000000</td>\n",
       "      <td>-0.012678</td>\n",
       "    </tr>\n",
       "    <tr>\n",
       "      <th>numberofdependents</th>\n",
       "      <td>0.046869</td>\n",
       "      <td>0.090457</td>\n",
       "      <td>-0.215676</td>\n",
       "      <td>-0.004590</td>\n",
       "      <td>-0.143769</td>\n",
       "      <td>0.192489</td>\n",
       "      <td>0.074026</td>\n",
       "      <td>-0.011962</td>\n",
       "      <td>0.129399</td>\n",
       "      <td>-0.012678</td>\n",
       "      <td>1.000000</td>\n",
       "    </tr>\n",
       "  </tbody>\n",
       "</table>\n",
       "</div>"
      ],
      "text/plain": [
       "                                      seriousdlqin2yrs  \\\n",
       "seriousdlqin2yrs                              1.000000   \n",
       "revolvingutilizationofunsecuredlines          0.278096   \n",
       "age                                          -0.115397   \n",
       "numberoftime30-59dayspastduenotworse          0.125587   \n",
       "debtratio                                     0.003841   \n",
       "monthlyincome                                -0.056445   \n",
       "numberofopencreditlinesandloans              -0.029669   \n",
       "numberoftimes90dayslate                       0.117175   \n",
       "numberrealestateloansorlines                 -0.007038   \n",
       "numberoftime60-89dayspastduenotworse          0.102261   \n",
       "numberofdependents                            0.046869   \n",
       "\n",
       "                                      revolvingutilizationofunsecuredlines  \\\n",
       "seriousdlqin2yrs                                                  0.278096   \n",
       "revolvingutilizationofunsecuredlines                              1.000000   \n",
       "age                                                              -0.279149   \n",
       "numberoftime30-59dayspastduenotworse                              0.121136   \n",
       "debtratio                                                        -0.019307   \n",
       "monthlyincome                                                    -0.095073   \n",
       "numberofopencreditlinesandloans                                  -0.160531   \n",
       "numberoftimes90dayslate                                           0.109773   \n",
       "numberrealestateloansorlines                                     -0.068918   \n",
       "numberoftime60-89dayspastduenotworse                              0.097818   \n",
       "numberofdependents                                                0.090457   \n",
       "\n",
       "                                           age  \\\n",
       "seriousdlqin2yrs                     -0.115397   \n",
       "revolvingutilizationofunsecuredlines -0.279149   \n",
       "age                                   1.000000   \n",
       "numberoftime30-59dayspastduenotworse -0.062995   \n",
       "debtratio                             0.084327   \n",
       "monthlyincome                         0.095960   \n",
       "numberofopencreditlinesandloans       0.147700   \n",
       "numberoftimes90dayslate              -0.061009   \n",
       "numberrealestateloansorlines          0.033172   \n",
       "numberoftime60-89dayspastduenotworse -0.057163   \n",
       "numberofdependents                   -0.215676   \n",
       "\n",
       "                                      numberoftime30-59dayspastduenotworse  \\\n",
       "seriousdlqin2yrs                                                  0.125587   \n",
       "revolvingutilizationofunsecuredlines                              0.121136   \n",
       "age                                                              -0.062995   \n",
       "numberoftime30-59dayspastduenotworse                              1.000000   \n",
       "debtratio                                                        -0.027654   \n",
       "monthlyincome                                                    -0.029099   \n",
       "numberofopencreditlinesandloans                                  -0.055312   \n",
       "numberoftimes90dayslate                                           0.983603   \n",
       "numberrealestateloansorlines                                     -0.030565   \n",
       "numberoftime60-89dayspastduenotworse                              0.987005   \n",
       "numberofdependents                                               -0.004590   \n",
       "\n",
       "                                      debtratio  monthlyincome  \\\n",
       "seriousdlqin2yrs                       0.003841      -0.056445   \n",
       "revolvingutilizationofunsecuredlines  -0.019307      -0.095073   \n",
       "age                                    0.084327       0.095960   \n",
       "numberoftime30-59dayspastduenotworse  -0.027654      -0.029099   \n",
       "debtratio                              1.000000      -0.202811   \n",
       "monthlyincome                         -0.202811       1.000000   \n",
       "numberofopencreditlinesandloans        0.036488       0.266341   \n",
       "numberoftimes90dayslate               -0.028894      -0.035821   \n",
       "numberrealestateloansorlines           0.134794       0.336804   \n",
       "numberoftime60-89dayspastduenotworse  -0.028056      -0.031958   \n",
       "numberofdependents                    -0.143769       0.192489   \n",
       "\n",
       "                                      numberofopencreditlinesandloans  \\\n",
       "seriousdlqin2yrs                                            -0.029669   \n",
       "revolvingutilizationofunsecuredlines                        -0.160531   \n",
       "age                                                          0.147700   \n",
       "numberoftime30-59dayspastduenotworse                        -0.055312   \n",
       "debtratio                                                    0.036488   \n",
       "monthlyincome                                                0.266341   \n",
       "numberofopencreditlinesandloans                              1.000000   \n",
       "numberoftimes90dayslate                                     -0.079984   \n",
       "numberrealestateloansorlines                                 0.433959   \n",
       "numberoftime60-89dayspastduenotworse                        -0.071077   \n",
       "numberofdependents                                           0.074026   \n",
       "\n",
       "                                      numberoftimes90dayslate  \\\n",
       "seriousdlqin2yrs                                     0.117175   \n",
       "revolvingutilizationofunsecuredlines                 0.109773   \n",
       "age                                                 -0.061009   \n",
       "numberoftime30-59dayspastduenotworse                 0.983603   \n",
       "debtratio                                           -0.028894   \n",
       "monthlyincome                                       -0.035821   \n",
       "numberofopencreditlinesandloans                     -0.079984   \n",
       "numberoftimes90dayslate                              1.000000   \n",
       "numberrealestateloansorlines                        -0.045205   \n",
       "numberoftime60-89dayspastduenotworse                 0.992796   \n",
       "numberofdependents                                  -0.011962   \n",
       "\n",
       "                                      numberrealestateloansorlines  \\\n",
       "seriousdlqin2yrs                                         -0.007038   \n",
       "revolvingutilizationofunsecuredlines                     -0.068918   \n",
       "age                                                       0.033172   \n",
       "numberoftime30-59dayspastduenotworse                     -0.030565   \n",
       "debtratio                                                 0.134794   \n",
       "monthlyincome                                             0.336804   \n",
       "numberofopencreditlinesandloans                           0.433959   \n",
       "numberoftimes90dayslate                                  -0.045205   \n",
       "numberrealestateloansorlines                              1.000000   \n",
       "numberoftime60-89dayspastduenotworse                     -0.039722   \n",
       "numberofdependents                                        0.129399   \n",
       "\n",
       "                                      numberoftime60-89dayspastduenotworse  \\\n",
       "seriousdlqin2yrs                                                  0.102261   \n",
       "revolvingutilizationofunsecuredlines                              0.097818   \n",
       "age                                                              -0.057163   \n",
       "numberoftime30-59dayspastduenotworse                              0.987005   \n",
       "debtratio                                                        -0.028056   \n",
       "monthlyincome                                                    -0.031958   \n",
       "numberofopencreditlinesandloans                                  -0.071077   \n",
       "numberoftimes90dayslate                                           0.992796   \n",
       "numberrealestateloansorlines                                     -0.039722   \n",
       "numberoftime60-89dayspastduenotworse                              1.000000   \n",
       "numberofdependents                                               -0.012678   \n",
       "\n",
       "                                      numberofdependents  \n",
       "seriousdlqin2yrs                                0.046869  \n",
       "revolvingutilizationofunsecuredlines            0.090457  \n",
       "age                                            -0.215676  \n",
       "numberoftime30-59dayspastduenotworse           -0.004590  \n",
       "debtratio                                      -0.143769  \n",
       "monthlyincome                                   0.192489  \n",
       "numberofopencreditlinesandloans                 0.074026  \n",
       "numberoftimes90dayslate                        -0.011962  \n",
       "numberrealestateloansorlines                    0.129399  \n",
       "numberoftime60-89dayspastduenotworse           -0.012678  \n",
       "numberofdependents                              1.000000  "
      ]
     },
     "execution_count": 66,
     "metadata": {},
     "output_type": "execute_result"
    }
   ],
   "source": [
    "data.corr()"
   ]
  },
  {
   "cell_type": "code",
   "execution_count": 67,
   "metadata": {
    "ExecuteTime": {
     "end_time": "2023-02-13T00:13:55.012310Z",
     "start_time": "2023-02-13T00:13:53.381311Z"
    },
    "scrolled": false
   },
   "outputs": [
    {
     "data": {
      "image/png": "[encoded data removed]",
      "text/plain": [
       "<Figure size 1200x1000 with 2 Axes>"
      ]
     },
     "metadata": {},
     "output_type": "display_data"
    }
   ],
   "source": [
    "plt.figure(figsize=(12,10))\n",
    "sns.heatmap(data.corr(), #상관계수행렬\n",
    "            annot=True, # 색위에 값이 나오도록 처리\n",
    "            fmt='.2f', # 값의 format\n",
    "            cmap='Blues', # 색 팔레트, color map\n",
    "            linewidths=.5)\n",
    "plt.show()"
   ]
  },
  {
   "cell_type": "code",
   "execution_count": 68,
   "metadata": {
    "ExecuteTime": {
     "end_time": "2023-02-13T00:13:56.454317Z",
     "start_time": "2023-02-13T00:13:55.019317Z"
    },
    "scrolled": true
   },
   "outputs": [
    {
     "data": {
      "image/png": "[encoded data removed]",
      "text/plain": [
       "<Figure size 1200x1000 with 2 Axes>"
      ]
     },
     "metadata": {},
     "output_type": "display_data"
    }
   ],
   "source": [
    "plt.figure(figsize=(12,10))\n",
    "# 60-89, 90  이상 대출연체 횟수 컬럼을 제거->heatmap\n",
    "sns.heatmap(data.drop(labels=['numberoftime60-89dayspastduenotworse', 'numberoftimes90dayslate'], axis=1).corr(), annot=True, fmt='.2f', cmap='Blues', linewidths=.5)\n",
    "plt.show()"
   ]
  },
  {
   "cell_type": "code",
   "execution_count": 69,
   "metadata": {
    "ExecuteTime": {
     "end_time": "2023-02-13T00:13:58.132366Z",
     "start_time": "2023-02-13T00:13:56.461319Z"
    }
   },
   "outputs": [],
   "source": [
    "# 파일로 저장.\n",
    "data.drop(labels=['numberoftime60-89dayspastduenotworse', 'numberoftimes90dayslate'], axis=1).to_csv('data/data-v02.csv', index=False)"
   ]
  }
 ],
 "metadata": {
  "kernelspec": {
   "display_name": "Python 3 (ipykernel)",
   "language": "python",
   "name": "python3"
  },
  "language_info": {
   "codemirror_mode": {
    "name": "ipython",
    "version": 3
   },
   "file_extension": ".py",
   "mimetype": "text/x-python",
   "name": "python",
   "nbconvert_exporter": "python",
   "pygments_lexer": "ipython3",
   "version": "3.9.15"
  },
  "toc": {
   "base_numbering": 1,
   "nav_menu": {},
   "number_sections": false,
   "sideBar": true,
   "skip_h1_title": false,
   "title_cell": "Table of Contents",
   "title_sidebar": "Contents",
   "toc_cell": false,
   "toc_position": {},
   "toc_section_display": true,
   "toc_window_display": false
  },
  "varInspector": {
   "cols": {
    "lenName": 16,
    "lenType": 16,
    "lenVar": 40
   },
   "kernels_config": {
    "python": {
     "delete_cmd_postfix": "",
     "delete_cmd_prefix": "del ",
     "library": "var_list.py",
     "varRefreshCmd": "print(var_dic_list())"
    },
    "r": {
     "delete_cmd_postfix": ") ",
     "delete_cmd_prefix": "rm(",
     "library": "var_list.r",
     "varRefreshCmd": "cat(var_dic_list()) "
    }
   },
   "types_to_exclude": [
    "module",
    "function",
    "builtin_function_or_method",
    "instance",
    "_Feature"
   ],
   "window_display": false
  }
 },
 "nbformat": 4,
 "nbformat_minor": 2
}
