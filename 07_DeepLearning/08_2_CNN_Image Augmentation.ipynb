{
 "cells": [
  {
   "cell_type": "markdown",
   "metadata": {
    "id": "N7dzZc_rYrhN"
   },
   "source": [
    "# CNN   small datasets 학습\n"
   ]
  },
  {
   "cell_type": "markdown",
   "metadata": {
    "id": "IZSgQnWLYrhV"
   },
   "source": [
    "- 학습할 Data의 개수가 많지 않을 때 CNN을 통한 모형 학습이 어려울 수 있음\n",
    "  - 딥러닝은 많은 수의 데이터를 통해 feature engineering 과정 없이 원하는 문제를 해결할 수 있다. => **Point: 많은 데이터 수**\n",
    "- Data가 많지 않아 CNN 학습에 어려움이 있을 때 사용 가능한 방법\n",
    "    - Data augmentation 활용\n",
    "        - 원본 이미지의 색깔, 각도 등을 약간씩 변형한 이미지들을 추가로 만들어 data의 수를 늘림 \n",
    "    - Pre-trained network의 활용\n",
    "        - 매우 큰 데이터셋으로 미리 Training한 모델의 파라미터(가중치)를 가져와서 풀려는 문제에 맞게 모델을 재보정해서 사용한다.\n",
    "        - 성능이 좋은 학습된 모델을 사용하므로 적은 데이터에도 좋은 성능을 낼 수있다."
   ]
  },
  {
   "cell_type": "markdown",
   "metadata": {
    "id": "b8vvonb2YrhW"
   },
   "source": [
    "## Data for cats vs. dogs\n",
    "- 2013년 Kaggle의 computer vision competition data 활용 https://www.kaggle.com/c/dogs-vs-cats/data\n",
    "- 개와 고양이를 구분하기 위한 문제로 각 12,500개의 이미지를 포함\n",
    "- Medium-resolution color JPEGs\n",
    "- 25000장의 사진 중 4000장의 cats/dogs 사진(2000 cats, 2000 dogs) 만을 사용하여 학습하여 좋은 모형을 만들어 낼 수 있을까?\n",
    "    - 학습: 2000, 검증: 1000, 테스트: 1000\n",
    "    \n",
    "![cats_vs_dogs_samples](https://s3.amazonaws.com/book.keras.io/img/ch5/cats_vs_dogs_samples.jpg)"
   ]
  },
  {
   "cell_type": "markdown",
   "metadata": {
    "id": "Lz3IRzELYrhX"
   },
   "source": [
    "##### 이미지 다운로드\n",
    "- gdown 패키지 : 구글 드라이브의 공유파일 다운로드 패키지    \n",
    "- `pip install gdown`\n",
    "- 코랩에는 설치 되어 있음."
   ]
  },
  {
   "cell_type": "code",
   "execution_count": null,
   "metadata": {
    "colab": {
     "base_uri": "https://localhost:8080/"
    },
    "executionInfo": {
     "elapsed": 31951,
     "status": "ok",
     "timestamp": 1677483395469,
     "user": {
      "displayName": "전종민",
      "userId": "16424547423372155347"
     },
     "user_tz": -540
    },
    "id": "6DJXdpGhTRa7",
    "outputId": "e5f1cf7e-96d0-4946-b53c-d2453230e94d"
   },
   "outputs": [
    {
     "name": "stdout",
     "output_type": "stream",
     "text": [
      "Mounted at /content/colab\n"
     ]
    }
   ],
   "source": [
    "from google.colab import drive\n",
    "drive.mount('/content/colab')"
   ]
  },
  {
   "cell_type": "code",
   "execution_count": null,
   "metadata": {
    "colab": {
     "base_uri": "https://localhost:8080/"
    },
    "executionInfo": {
     "elapsed": 5947,
     "status": "ok",
     "timestamp": 1677483411774,
     "user": {
      "displayName": "전종민",
      "userId": "16424547423372155347"
     },
     "user_tz": -540
    },
    "id": "sl3ulHEv7wDB",
    "outputId": "48b286cf-4eb3-42c1-91d6-74eff5810b3a"
   },
   "outputs": [
    {
     "name": "stdout",
     "output_type": "stream",
     "text": [
      "Looking in indexes: https://pypi.org/simple, https://us-python.pkg.dev/colab-wheels/public/simple/\n",
      "Requirement already satisfied: gdown in /usr/local/lib/python3.8/dist-packages (4.4.0)\n",
      "Collecting gdown\n",
      "  Downloading gdown-4.6.4-py3-none-any.whl (14 kB)\n",
      "Requirement already satisfied: tqdm in /usr/local/lib/python3.8/dist-packages (from gdown) (4.64.1)\n",
      "Requirement already satisfied: filelock in /usr/local/lib/python3.8/dist-packages (from gdown) (3.9.0)\n",
      "Requirement already satisfied: beautifulsoup4 in /usr/local/lib/python3.8/dist-packages (from gdown) (4.6.3)\n",
      "Requirement already satisfied: requests[socks] in /usr/local/lib/python3.8/dist-packages (from gdown) (2.25.1)\n",
      "Requirement already satisfied: six in /usr/local/lib/python3.8/dist-packages (from gdown) (1.15.0)\n",
      "Requirement already satisfied: chardet<5,>=3.0.2 in /usr/local/lib/python3.8/dist-packages (from requests[socks]->gdown) (4.0.0)\n",
      "Requirement already satisfied: urllib3<1.27,>=1.21.1 in /usr/local/lib/python3.8/dist-packages (from requests[socks]->gdown) (1.24.3)\n",
      "Requirement already satisfied: certifi>=2017.4.17 in /usr/local/lib/python3.8/dist-packages (from requests[socks]->gdown) (2022.12.7)\n",
      "Requirement already satisfied: idna<3,>=2.5 in /usr/local/lib/python3.8/dist-packages (from requests[socks]->gdown) (2.10)\n",
      "Requirement already satisfied: PySocks!=1.5.7,>=1.5.6 in /usr/local/lib/python3.8/dist-packages (from requests[socks]->gdown) (1.7.1)\n",
      "Installing collected packages: gdown\n",
      "  Attempting uninstall: gdown\n",
      "    Found existing installation: gdown 4.4.0\n",
      "    Uninstalling gdown-4.4.0:\n",
      "      Successfully uninstalled gdown-4.4.0\n",
      "Successfully installed gdown-4.6.4\n"
     ]
    }
   ],
   "source": [
    "!pip install gdown --upgrade"
   ]
  },
  {
   "cell_type": "code",
   "execution_count": null,
   "metadata": {
    "id": "N29dLAOC8Xot"
   },
   "outputs": [],
   "source": [
    "import gdown\n",
    "from zipfile import ZipFile\n",
    "import os\n",
    "\n",
    "def down_extrack():\n",
    "  url = 'https://drive.google.com/uc?id=1nBE3N2cXQGwD8JaD0JZ2LmFD-n3D5hVU'\n",
    "  fname = 'cats_and_dogs_small.zip' # 다운받아서 저장할 파일 이름\n",
    "  # 다운로드\n",
    "  gdown.download(url, fname, quiet=False)\n",
    "  # 압축풀기\n",
    "  with ZipFile(fname) as zipFile: # 압축파일의 경로를 넣어서 ZipFile 객체 생성\n",
    "    zipFile.extractall('data/cats_and_dogs_small') # 압축 풀 디렉토리 넣어서 실행."
   ]
  },
  {
   "cell_type": "code",
   "execution_count": null,
   "metadata": {
    "colab": {
     "base_uri": "https://localhost:8080/"
    },
    "executionInfo": {
     "elapsed": 3855,
     "status": "ok",
     "timestamp": 1677483426248,
     "user": {
      "displayName": "전종민",
      "userId": "16424547423372155347"
     },
     "user_tz": -540
    },
    "id": "m6RBkdhn-GMq",
    "outputId": "da54d98f-4cde-41d1-af3c-229f154af0cc"
   },
   "outputs": [
    {
     "name": "stderr",
     "output_type": "stream",
     "text": [
      "Downloading...\n",
      "From: https://drive.google.com/uc?id=1nBE3N2cXQGwD8JaD0JZ2LmFD-n3D5hVU\n",
      "To: /content/cats_and_dogs_small.zip\n",
      "100%|██████████| 90.8M/90.8M [00:00<00:00, 210MB/s]\n"
     ]
    }
   ],
   "source": [
    "down_extrack()"
   ]
  },
  {
   "cell_type": "markdown",
   "metadata": {
    "id": "LwpGLGo1f9F-"
   },
   "source": [
    "# 하이퍼파라미터 정의"
   ]
  },
  {
   "cell_type": "code",
   "execution_count": null,
   "metadata": {
    "id": "G6z7EehR7wDD"
   },
   "outputs": [],
   "source": [
    "LEARNING_RATE = 0.001\n",
    "N_EPOCH = 200\n",
    "N_BATCH = 100"
   ]
  },
  {
   "cell_type": "markdown",
   "metadata": {
    "id": "2zBEjjWgYrha"
   },
   "source": [
    "## 모델 구현 및 학습\n",
    "\n",
    "- Input: $224 \\times 224$ 픽셀의 RGB layer \n",
    "- Output: cat or dog (binary classification)  \n",
    "- ImageDataGenerator를 이용해 파일시스템에 저장된 이미지 데이터셋을 학습시킨다."
   ]
  },
  {
   "cell_type": "code",
   "execution_count": null,
   "metadata": {
    "id": "v6VJwLjQ7wDE"
   },
   "outputs": [],
   "source": [
    "import tensorflow as tf\n",
    "from tensorflow import keras\n",
    "from tensorflow.keras import layers, models, optimizers\n",
    "from tensorflow.keras.preprocessing.image import ImageDataGenerator\n",
    "\n",
    "import numpy as np\n",
    "import random\n",
    "\n",
    "random.seed(0)\n",
    "np.random.seed(0)\n",
    "tf.random.set_seed(0)"
   ]
  },
  {
   "cell_type": "code",
   "execution_count": null,
   "metadata": {
    "id": "buy4Eqs3Ui1L"
   },
   "outputs": [],
   "source": [
    "from keras.api._v2.keras import activations\n",
    "# 모델 생성\n",
    "def get_model():\n",
    "  model = keras.Sequential()\n",
    "\n",
    "  model.add(layers.Conv2D(filters=64, kernel_size=3, padding='same', activation='relu', input_shape=(224, 224, 3)))\n",
    "  model.add(layers.MaxPooling2D(padding='same'))\n",
    "\n",
    "  model.add(layers.Conv2D(filters=64, kernel_size=3, padding='same', activation='relu'))\n",
    "  model.add(layers.MaxPooling2D(padding='same'))\n",
    "\n",
    "  model.add(layers.Conv2D(filters=128, kernel_size=3, padding='same', activation='relu'))\n",
    "  model.add(layers.MaxPooling2D(padding='same'))\n",
    "\n",
    "  model.add(layers.Conv2D(filters=128, kernel_size=3, padding='same', activation='relu'))\n",
    "  model.add(layers.MaxPooling2D(padding='same'))\n",
    "\n",
    "  model.add(layers.Conv2D(filters=256, kernel_size=3, padding='same', activation='relu'))\n",
    "  model.add(layers.MaxPooling2D(padding='same'))\n",
    "\n",
    "  model.add(layers.Conv2D(filters=256, kernel_size=3, padding='same', activation='relu'))\n",
    "  model.add(layers.MaxPooling2D(padding='same'))\n",
    "\n",
    "  model.add(layers.Flatten())\n",
    "  model.add(layers.Dropout(rate=0.5))\n",
    "  # model.add(layers.Dense(units=2, activation='softmax', name='multi_classification')) # 다중 분류 - loss=categorical_crossentropy\n",
    "  model.add(layers.Dense(units=1, activation='sigmoid', name='binary_classification_output')) # 이진 분류\n",
    "\n",
    "  model.compile(optimizer=optimizers.Adam(learning_rate=LEARNING_RATE),\n",
    "                loss='binary_crossentropy', metrics=['accuracy'])\n",
    "  \n",
    "  return model"
   ]
  },
  {
   "cell_type": "markdown",
   "metadata": {
    "id": "gRGa9ay4eAx6"
   },
   "source": [
    "# ImageDataGenerator 생성"
   ]
  },
  {
   "cell_type": "code",
   "execution_count": null,
   "metadata": {
    "id": "teapyw1MW_8k"
   },
   "outputs": [],
   "source": [
    "# 데이터셋 디렉토리 경로\n",
    "trainset_dir = 'data/cats_and_dogs_small/train/'\n",
    "valset_dir = 'data/cats_and_dogs_small/validation/'\n",
    "testset_dir = 'data/cats_and_dogs_small/test/'"
   ]
  },
  {
   "cell_type": "code",
   "execution_count": null,
   "metadata": {
    "colab": {
     "base_uri": "https://localhost:8080/"
    },
    "executionInfo": {
     "elapsed": 28,
     "status": "ok",
     "timestamp": 1677477842592,
     "user": {
      "displayName": "전종민",
      "userId": "16424547423372155347"
     },
     "user_tz": -540
    },
    "id": "sPoL6rGS7wDF",
    "outputId": "1e123620-96a4-460a-cc84-1cb01916c764"
   },
   "outputs": [
    {
     "name": "stdout",
     "output_type": "stream",
     "text": [
      "Found 2000 images belonging to 2 classes.\n",
      "Found 1000 images belonging to 2 classes.\n",
      "Found 1000 images belonging to 2 classes.\n"
     ]
    }
   ],
   "source": [
    "# image augmentation 미적용\n",
    "train_datagen = ImageDataGenerator(rescale=1./255)\n",
    "test_datagen = ImageDataGenerator(rescale=1./255)\n",
    "val_datagen = ImageDataGenerator(rescale=1./255)\n",
    "\n",
    "# iterator 생성 -> raw 파일과 역경\n",
    "train_iter = train_datagen.flow_from_directory(trainset_dir, # Image File 들이 저장된 경로\n",
    "                                         target_size=(224, 224), # 이미지를 읽어오면서 resize할 크기 (height, width)\n",
    "                                         class_mode='binary', # output(y) 처리 방식\n",
    "                                         batch_size=N_BATCH # 배치 size 지정\n",
    "                                         )\n",
    "\n",
    "val_iter = val_datagen.flow_from_directory(valset_dir, target_size=(224, 224), class_mode='binary', batch_size=N_BATCH)\n",
    "test_iter = test_datagen.flow_from_directory(testset_dir, target_size=(224, 224), class_mode='binary', batch_size=N_BATCH)"
   ]
  },
  {
   "cell_type": "code",
   "execution_count": null,
   "metadata": {
    "colab": {
     "base_uri": "https://localhost:8080/"
    },
    "executionInfo": {
     "elapsed": 26,
     "status": "ok",
     "timestamp": 1677477842592,
     "user": {
      "displayName": "전종민",
      "userId": "16424547423372155347"
     },
     "user_tz": -540
    },
    "id": "LzM5XDJZZzsh",
    "outputId": "8d9f6af7-1eae-45c0-e32d-4041d51f273f"
   },
   "outputs": [
    {
     "data": {
      "text/plain": [
       "{'cats': 0, 'dogs': 1}"
      ]
     },
     "execution_count": 10,
     "metadata": {},
     "output_type": "execute_result"
    }
   ],
   "source": [
    "train_iter.class_indices # Label 확인"
   ]
  },
  {
   "cell_type": "code",
   "execution_count": null,
   "metadata": {
    "colab": {
     "base_uri": "https://localhost:8080/"
    },
    "executionInfo": {
     "elapsed": 23,
     "status": "ok",
     "timestamp": 1677477842593,
     "user": {
      "displayName": "전종민",
      "userId": "16424547423372155347"
     },
     "user_tz": -540
    },
    "id": "6dDWp1-nZ9Fq",
    "outputId": "485b4fa2-c6f4-4912-a161-425d19b26d6d"
   },
   "outputs": [
    {
     "name": "stdout",
     "output_type": "stream",
     "text": [
      "에폭당 step 수\n",
      "20 10 10\n"
     ]
    }
   ],
   "source": [
    "print('에폭당 step 수')\n",
    "print(len(train_iter), len(val_iter), len(test_iter))"
   ]
  },
  {
   "cell_type": "code",
   "execution_count": null,
   "metadata": {
    "colab": {
     "base_uri": "https://localhost:8080/"
    },
    "executionInfo": {
     "elapsed": 20,
     "status": "ok",
     "timestamp": 1677477842594,
     "user": {
      "displayName": "전종민",
      "userId": "16424547423372155347"
     },
     "user_tz": -540
    },
    "id": "M-JjPz9UaWZ9",
    "outputId": "fef12be8-3610-420d-ae70-65dcb750feaf"
   },
   "outputs": [
    {
     "name": "stdout",
     "output_type": "stream",
     "text": [
      "<class 'tuple'>\n",
      "(100, 224, 224, 3)\n",
      "(100,)\n"
     ]
    }
   ],
   "source": [
    "v = next(train_iter)\n",
    "print(type(v)) # (image, label)\n",
    "print(v[0].shape) # X(image) - (100, 224, 224, 3) (batch수, (224, 224, 3) -> 이미지 한장의 크기기)\n",
    "print(v[1].shape) # y(label)"
   ]
  },
  {
   "cell_type": "code",
   "execution_count": null,
   "metadata": {
    "colab": {
     "base_uri": "https://localhost:8080/"
    },
    "executionInfo": {
     "elapsed": 17,
     "status": "ok",
     "timestamp": 1677477842594,
     "user": {
      "displayName": "전종민",
      "userId": "16424547423372155347"
     },
     "user_tz": -540
    },
    "id": "dfN8CNBBbG3P",
    "outputId": "a005d108-5ad8-426f-8a17-871f90bf0a60"
   },
   "outputs": [
    {
     "data": {
      "text/plain": [
       "array([0., 1., 1., 0., 1., 1., 1., 1., 1., 0.], dtype=float32)"
      ]
     },
     "execution_count": 13,
     "metadata": {},
     "output_type": "execute_result"
    }
   ],
   "source": [
    "v[1][:10]"
   ]
  },
  {
   "cell_type": "markdown",
   "metadata": {
    "id": "AIfzRaBOYrhj"
   },
   "source": [
    "\n",
    "##  Model Training(학습)"
   ]
  },
  {
   "cell_type": "code",
   "execution_count": null,
   "metadata": {
    "id": "W1IStWrm7wDG"
   },
   "outputs": [],
   "source": [
    "g_drive_path = '/content/colab/MyDrive/Colab Notebooks/PlayData/07. Deep Learning'\n",
    "save_dir_path = os.path.join(g_drive_path, 'saved_model', 'cat_dog_model_no_aug')\n",
    "os.makedirs(save_dir_path, exist_ok=True)\n",
    "\n",
    "save_weight_path = os.path.join(save_dir_path, 'ckpt')\n",
    "\n",
    "mc_callback = keras.callbacks.ModelCheckpoint(filepath=save_weight_path,\n",
    "                                              save_wieghts_only=True, # 파라미터만 저장\n",
    "                                              save_best_only=True, # 성능이 개선된 애폭것만 저장\n",
    "                                              monitor='val_loss', verbose=1)\n",
    "es_callback = keras.callbacks.EarlyStopping(monitor='val_loss', patience=10, verbose=1)"
   ]
  },
  {
   "cell_type": "code",
   "execution_count": null,
   "metadata": {
    "colab": {
     "base_uri": "https://localhost:8080/"
    },
    "executionInfo": {
     "elapsed": 330396,
     "status": "ok",
     "timestamp": 1677478178782,
     "user": {
      "displayName": "전종민",
      "userId": "16424547423372155347"
     },
     "user_tz": -540
    },
    "id": "TV-iwyFtc0CS",
    "outputId": "28802813-c5e4-4a23-854f-615599b2263d"
   },
   "outputs": [
    {
     "name": "stdout",
     "output_type": "stream",
     "text": [
      "Epoch 1/200\n",
      "20/20 [==============================] - ETA: 0s - loss: 0.6934 - accuracy: 0.5015\n",
      "Epoch 1: val_loss improved from inf to 0.69116, saving model to /content/colab/MyDrive/Colab Notebooks/PlayData/07. Deep Learning/saved_model/cat_dog_model_no_aug/ckpt\n"
     ]
    },
    {
     "name": "stderr",
     "output_type": "stream",
     "text": [
      "WARNING:absl:Found untraced functions such as _jit_compiled_convolution_op, _jit_compiled_convolution_op, _jit_compiled_convolution_op, _jit_compiled_convolution_op, _jit_compiled_convolution_op while saving (showing 5 of 6). These functions will not be directly callable after loading.\n"
     ]
    },
    {
     "name": "stdout",
     "output_type": "stream",
     "text": [
      "\b\b\b\b\b\b\b\b\b\b\b\b\b\b\b\b\b\b\b\b\b\b\b\b\b\b\b\b\b\b\b\b\b\b\b\b\b\b\b\b\b\b\b\b\b\b\b\b\b\b\b\b\b\b\b\b\b\b\b\b\b\b\b\b\b\b\b\b\b\b\b\b\b\b\b\b\b\b\b\b\b\b\r",
      "20/20 [==============================] - 30s 777ms/step - loss: 0.6934 - accuracy: 0.5015 - val_loss: 0.6912 - val_accuracy: 0.6120\n",
      "Epoch 2/200\n",
      "20/20 [==============================] - ETA: 0s - loss: 0.6855 - accuracy: 0.5495\n",
      "Epoch 2: val_loss improved from 0.69116 to 0.66229, saving model to /content/colab/MyDrive/Colab Notebooks/PlayData/07. Deep Learning/saved_model/cat_dog_model_no_aug/ckpt\n"
     ]
    },
    {
     "name": "stderr",
     "output_type": "stream",
     "text": [
      "WARNING:absl:Found untraced functions such as _jit_compiled_convolution_op, _jit_compiled_convolution_op, _jit_compiled_convolution_op, _jit_compiled_convolution_op, _jit_compiled_convolution_op while saving (showing 5 of 6). These functions will not be directly callable after loading.\n"
     ]
    },
    {
     "name": "stdout",
     "output_type": "stream",
     "text": [
      "\b\b\b\b\b\b\b\b\b\b\b\b\b\b\b\b\b\b\b\b\b\b\b\b\b\b\b\b\b\b\b\b\b\b\b\b\b\b\b\b\b\b\b\b\b\b\b\b\b\b\b\b\b\b\b\b\b\b\b\b\b\b\b\b\b\b\b\b\b\b\b\b\b\b\b\b\b\b\b\b\b\b\r",
      "20/20 [==============================] - 16s 800ms/step - loss: 0.6855 - accuracy: 0.5495 - val_loss: 0.6623 - val_accuracy: 0.5400\n",
      "Epoch 3/200\n",
      "20/20 [==============================] - ETA: 0s - loss: 0.6483 - accuracy: 0.6255\n",
      "Epoch 3: val_loss improved from 0.66229 to 0.65143, saving model to /content/colab/MyDrive/Colab Notebooks/PlayData/07. Deep Learning/saved_model/cat_dog_model_no_aug/ckpt\n"
     ]
    },
    {
     "name": "stderr",
     "output_type": "stream",
     "text": [
      "WARNING:absl:Found untraced functions such as _jit_compiled_convolution_op, _jit_compiled_convolution_op, _jit_compiled_convolution_op, _jit_compiled_convolution_op, _jit_compiled_convolution_op while saving (showing 5 of 6). These functions will not be directly callable after loading.\n"
     ]
    },
    {
     "name": "stdout",
     "output_type": "stream",
     "text": [
      "\b\b\b\b\b\b\b\b\b\b\b\b\b\b\b\b\b\b\b\b\b\b\b\b\b\b\b\b\b\b\b\b\b\b\b\b\b\b\b\b\b\b\b\b\b\b\b\b\b\b\b\b\b\b\b\b\b\b\b\b\b\b\b\b\b\b\b\b\b\b\b\b\b\b\b\b\b\b\b\b\b\b\r",
      "20/20 [==============================] - 15s 745ms/step - loss: 0.6483 - accuracy: 0.6255 - val_loss: 0.6514 - val_accuracy: 0.6260\n",
      "Epoch 4/200\n",
      "20/20 [==============================] - ETA: 0s - loss: 0.6207 - accuracy: 0.6525\n",
      "Epoch 4: val_loss improved from 0.65143 to 0.60361, saving model to /content/colab/MyDrive/Colab Notebooks/PlayData/07. Deep Learning/saved_model/cat_dog_model_no_aug/ckpt\n"
     ]
    },
    {
     "name": "stderr",
     "output_type": "stream",
     "text": [
      "WARNING:absl:Found untraced functions such as _jit_compiled_convolution_op, _jit_compiled_convolution_op, _jit_compiled_convolution_op, _jit_compiled_convolution_op, _jit_compiled_convolution_op while saving (showing 5 of 6). These functions will not be directly callable after loading.\n"
     ]
    },
    {
     "name": "stdout",
     "output_type": "stream",
     "text": [
      "\b\b\b\b\b\b\b\b\b\b\b\b\b\b\b\b\b\b\b\b\b\b\b\b\b\b\b\b\b\b\b\b\b\b\b\b\b\b\b\b\b\b\b\b\b\b\b\b\b\b\b\b\b\b\b\b\b\b\b\b\b\b\b\b\b\b\b\b\b\b\b\b\b\b\b\b\b\b\b\b\b\b\r",
      "20/20 [==============================] - 15s 746ms/step - loss: 0.6207 - accuracy: 0.6525 - val_loss: 0.6036 - val_accuracy: 0.6730\n",
      "Epoch 5/200\n",
      "20/20 [==============================] - ETA: 0s - loss: 0.6090 - accuracy: 0.6540\n",
      "Epoch 5: val_loss did not improve from 0.60361\n",
      "20/20 [==============================] - 13s 673ms/step - loss: 0.6090 - accuracy: 0.6540 - val_loss: 0.6453 - val_accuracy: 0.6120\n",
      "Epoch 6/200\n",
      "20/20 [==============================] - ETA: 0s - loss: 0.5791 - accuracy: 0.7020\n",
      "Epoch 6: val_loss improved from 0.60361 to 0.56308, saving model to /content/colab/MyDrive/Colab Notebooks/PlayData/07. Deep Learning/saved_model/cat_dog_model_no_aug/ckpt\n"
     ]
    },
    {
     "name": "stderr",
     "output_type": "stream",
     "text": [
      "WARNING:absl:Found untraced functions such as _jit_compiled_convolution_op, _jit_compiled_convolution_op, _jit_compiled_convolution_op, _jit_compiled_convolution_op, _jit_compiled_convolution_op while saving (showing 5 of 6). These functions will not be directly callable after loading.\n"
     ]
    },
    {
     "name": "stdout",
     "output_type": "stream",
     "text": [
      "\b\b\b\b\b\b\b\b\b\b\b\b\b\b\b\b\b\b\b\b\b\b\b\b\b\b\b\b\b\b\b\b\b\b\b\b\b\b\b\b\b\b\b\b\b\b\b\b\b\b\b\b\b\b\b\b\b\b\b\b\b\b\b\b\b\b\b\b\b\b\b\b\b\b\b\b\b\b\b\b\b\b\r",
      "20/20 [==============================] - 15s 762ms/step - loss: 0.5791 - accuracy: 0.7020 - val_loss: 0.5631 - val_accuracy: 0.7050\n",
      "Epoch 7/200\n",
      "20/20 [==============================] - ETA: 0s - loss: 0.5333 - accuracy: 0.7345\n",
      "Epoch 7: val_loss improved from 0.56308 to 0.56176, saving model to /content/colab/MyDrive/Colab Notebooks/PlayData/07. Deep Learning/saved_model/cat_dog_model_no_aug/ckpt\n"
     ]
    },
    {
     "name": "stderr",
     "output_type": "stream",
     "text": [
      "WARNING:absl:Found untraced functions such as _jit_compiled_convolution_op, _jit_compiled_convolution_op, _jit_compiled_convolution_op, _jit_compiled_convolution_op, _jit_compiled_convolution_op while saving (showing 5 of 6). These functions will not be directly callable after loading.\n"
     ]
    },
    {
     "name": "stdout",
     "output_type": "stream",
     "text": [
      "\b\b\b\b\b\b\b\b\b\b\b\b\b\b\b\b\b\b\b\b\b\b\b\b\b\b\b\b\b\b\b\b\b\b\b\b\b\b\b\b\b\b\b\b\b\b\b\b\b\b\b\b\b\b\b\b\b\b\b\b\b\b\b\b\b\b\b\b\b\b\b\b\b\b\b\b\b\b\b\b\b\b\r",
      "20/20 [==============================] - 15s 753ms/step - loss: 0.5333 - accuracy: 0.7345 - val_loss: 0.5618 - val_accuracy: 0.7080\n",
      "Epoch 8/200\n",
      "20/20 [==============================] - ETA: 0s - loss: 0.5177 - accuracy: 0.7455\n",
      "Epoch 8: val_loss improved from 0.56176 to 0.55459, saving model to /content/colab/MyDrive/Colab Notebooks/PlayData/07. Deep Learning/saved_model/cat_dog_model_no_aug/ckpt\n"
     ]
    },
    {
     "name": "stderr",
     "output_type": "stream",
     "text": [
      "WARNING:absl:Found untraced functions such as _jit_compiled_convolution_op, _jit_compiled_convolution_op, _jit_compiled_convolution_op, _jit_compiled_convolution_op, _jit_compiled_convolution_op while saving (showing 5 of 6). These functions will not be directly callable after loading.\n"
     ]
    },
    {
     "name": "stdout",
     "output_type": "stream",
     "text": [
      "\b\b\b\b\b\b\b\b\b\b\b\b\b\b\b\b\b\b\b\b\b\b\b\b\b\b\b\b\b\b\b\b\b\b\b\b\b\b\b\b\b\b\b\b\b\b\b\b\b\b\b\b\b\b\b\b\b\b\b\b\b\b\b\b\b\b\b\b\b\b\b\b\b\b\b\b\b\b\b\b\b\b\r",
      "20/20 [==============================] - 15s 751ms/step - loss: 0.5177 - accuracy: 0.7455 - val_loss: 0.5546 - val_accuracy: 0.7150\n",
      "Epoch 9/200\n",
      "20/20 [==============================] - ETA: 0s - loss: 0.4860 - accuracy: 0.7570\n",
      "Epoch 9: val_loss improved from 0.55459 to 0.54521, saving model to /content/colab/MyDrive/Colab Notebooks/PlayData/07. Deep Learning/saved_model/cat_dog_model_no_aug/ckpt\n"
     ]
    },
    {
     "name": "stderr",
     "output_type": "stream",
     "text": [
      "WARNING:absl:Found untraced functions such as _jit_compiled_convolution_op, _jit_compiled_convolution_op, _jit_compiled_convolution_op, _jit_compiled_convolution_op, _jit_compiled_convolution_op while saving (showing 5 of 6). These functions will not be directly callable after loading.\n"
     ]
    },
    {
     "name": "stdout",
     "output_type": "stream",
     "text": [
      "\b\b\b\b\b\b\b\b\b\b\b\b\b\b\b\b\b\b\b\b\b\b\b\b\b\b\b\b\b\b\b\b\b\b\b\b\b\b\b\b\b\b\b\b\b\b\b\b\b\b\b\b\b\b\b\b\b\b\b\b\b\b\b\b\b\b\b\b\b\b\b\b\b\b\b\b\b\b\b\b\b\b\r",
      "20/20 [==============================] - 15s 758ms/step - loss: 0.4860 - accuracy: 0.7570 - val_loss: 0.5452 - val_accuracy: 0.7310\n",
      "Epoch 10/200\n",
      "20/20 [==============================] - ETA: 0s - loss: 0.4568 - accuracy: 0.7840\n",
      "Epoch 10: val_loss improved from 0.54521 to 0.53198, saving model to /content/colab/MyDrive/Colab Notebooks/PlayData/07. Deep Learning/saved_model/cat_dog_model_no_aug/ckpt\n"
     ]
    },
    {
     "name": "stderr",
     "output_type": "stream",
     "text": [
      "WARNING:absl:Found untraced functions such as _jit_compiled_convolution_op, _jit_compiled_convolution_op, _jit_compiled_convolution_op, _jit_compiled_convolution_op, _jit_compiled_convolution_op while saving (showing 5 of 6). These functions will not be directly callable after loading.\n"
     ]
    },
    {
     "name": "stdout",
     "output_type": "stream",
     "text": [
      "\b\b\b\b\b\b\b\b\b\b\b\b\b\b\b\b\b\b\b\b\b\b\b\b\b\b\b\b\b\b\b\b\b\b\b\b\b\b\b\b\b\b\b\b\b\b\b\b\b\b\b\b\b\b\b\b\b\b\b\b\b\b\b\b\b\b\b\b\b\b\b\b\b\b\b\b\b\b\b\b\b\b\r",
      "20/20 [==============================] - 15s 742ms/step - loss: 0.4568 - accuracy: 0.7840 - val_loss: 0.5320 - val_accuracy: 0.7540\n",
      "Epoch 11/200\n",
      "20/20 [==============================] - ETA: 0s - loss: 0.4346 - accuracy: 0.8035\n",
      "Epoch 11: val_loss improved from 0.53198 to 0.50376, saving model to /content/colab/MyDrive/Colab Notebooks/PlayData/07. Deep Learning/saved_model/cat_dog_model_no_aug/ckpt\n"
     ]
    },
    {
     "name": "stderr",
     "output_type": "stream",
     "text": [
      "WARNING:absl:Found untraced functions such as _jit_compiled_convolution_op, _jit_compiled_convolution_op, _jit_compiled_convolution_op, _jit_compiled_convolution_op, _jit_compiled_convolution_op while saving (showing 5 of 6). These functions will not be directly callable after loading.\n"
     ]
    },
    {
     "name": "stdout",
     "output_type": "stream",
     "text": [
      "\b\b\b\b\b\b\b\b\b\b\b\b\b\b\b\b\b\b\b\b\b\b\b\b\b\b\b\b\b\b\b\b\b\b\b\b\b\b\b\b\b\b\b\b\b\b\b\b\b\b\b\b\b\b\b\b\b\b\b\b\b\b\b\b\b\b\b\b\b\b\b\b\b\b\b\b\b\b\b\b\b\b\r",
      "20/20 [==============================] - 16s 823ms/step - loss: 0.4346 - accuracy: 0.8035 - val_loss: 0.5038 - val_accuracy: 0.7640\n",
      "Epoch 12/200\n",
      "20/20 [==============================] - ETA: 0s - loss: 0.3771 - accuracy: 0.8345\n",
      "Epoch 12: val_loss did not improve from 0.50376\n",
      "20/20 [==============================] - 13s 675ms/step - loss: 0.3771 - accuracy: 0.8345 - val_loss: 0.5230 - val_accuracy: 0.7460\n",
      "Epoch 13/200\n",
      "20/20 [==============================] - ETA: 0s - loss: 0.3487 - accuracy: 0.8505\n",
      "Epoch 13: val_loss did not improve from 0.50376\n",
      "20/20 [==============================] - 13s 674ms/step - loss: 0.3487 - accuracy: 0.8505 - val_loss: 0.6320 - val_accuracy: 0.7440\n",
      "Epoch 14/200\n",
      "20/20 [==============================] - ETA: 0s - loss: 0.3516 - accuracy: 0.8380\n",
      "Epoch 14: val_loss did not improve from 0.50376\n",
      "20/20 [==============================] - 14s 685ms/step - loss: 0.3516 - accuracy: 0.8380 - val_loss: 0.5463 - val_accuracy: 0.7520\n",
      "Epoch 15/200\n",
      "20/20 [==============================] - ETA: 0s - loss: 0.2960 - accuracy: 0.8750\n",
      "Epoch 15: val_loss did not improve from 0.50376\n",
      "20/20 [==============================] - 14s 679ms/step - loss: 0.2960 - accuracy: 0.8750 - val_loss: 0.5786 - val_accuracy: 0.7800\n",
      "Epoch 16/200\n",
      "20/20 [==============================] - ETA: 0s - loss: 0.2778 - accuracy: 0.8785\n",
      "Epoch 16: val_loss did not improve from 0.50376\n",
      "20/20 [==============================] - 13s 674ms/step - loss: 0.2778 - accuracy: 0.8785 - val_loss: 0.5274 - val_accuracy: 0.7630\n",
      "Epoch 17/200\n",
      "20/20 [==============================] - ETA: 0s - loss: 0.2232 - accuracy: 0.9070\n",
      "Epoch 17: val_loss did not improve from 0.50376\n",
      "20/20 [==============================] - 13s 670ms/step - loss: 0.2232 - accuracy: 0.9070 - val_loss: 0.5719 - val_accuracy: 0.7860\n",
      "Epoch 18/200\n",
      "20/20 [==============================] - ETA: 0s - loss: 0.1965 - accuracy: 0.9180\n",
      "Epoch 18: val_loss did not improve from 0.50376\n",
      "20/20 [==============================] - 13s 670ms/step - loss: 0.1965 - accuracy: 0.9180 - val_loss: 0.5672 - val_accuracy: 0.7800\n",
      "Epoch 19/200\n",
      "20/20 [==============================] - ETA: 0s - loss: 0.1507 - accuracy: 0.9480\n",
      "Epoch 19: val_loss did not improve from 0.50376\n",
      "20/20 [==============================] - 13s 673ms/step - loss: 0.1507 - accuracy: 0.9480 - val_loss: 0.6116 - val_accuracy: 0.7820\n",
      "Epoch 20/200\n",
      "20/20 [==============================] - ETA: 0s - loss: 0.1690 - accuracy: 0.9315\n",
      "Epoch 20: val_loss did not improve from 0.50376\n",
      "20/20 [==============================] - 13s 667ms/step - loss: 0.1690 - accuracy: 0.9315 - val_loss: 0.7017 - val_accuracy: 0.7790\n",
      "Epoch 21/200\n",
      "20/20 [==============================] - ETA: 0s - loss: 0.1566 - accuracy: 0.9405\n",
      "Epoch 21: val_loss did not improve from 0.50376\n",
      "20/20 [==============================] - 13s 673ms/step - loss: 0.1566 - accuracy: 0.9405 - val_loss: 0.6749 - val_accuracy: 0.7670\n",
      "Epoch 21: early stopping\n"
     ]
    }
   ],
   "source": [
    "model = get_model()\n",
    "hist = model.fit(train_iter,\n",
    "                 epochs=N_EPOCH,\n",
    "                 steps_per_epoch = len(train_iter), # 1에폭당 step수\n",
    "                 validation_data=val_iter,\n",
    "                 validation_steps=len(val_iter), # 1에폭당 step수\n",
    "                 callbacks=[mc_callback, es_callback])"
   ]
  },
  {
   "cell_type": "code",
   "execution_count": null,
   "metadata": {
    "colab": {
     "base_uri": "https://localhost:8080/",
     "height": 374
    },
    "executionInfo": {
     "elapsed": 843,
     "status": "ok",
     "timestamp": 1677479104795,
     "user": {
      "displayName": "전종민",
      "userId": "16424547423372155347"
     },
     "user_tz": -540
    },
    "id": "LzflpCtCigtV",
    "outputId": "b5a7df2e-d3c1-43bd-8708-369bc44b0b91"
   },
   "outputs": [
    {
     "data": {
      "image/png": "[encoded data removed]",
      "text/plain": [
       "<Figure size 720x432 with 1 Axes>"
      ]
     },
     "metadata": {
      "needs_background": "light"
     },
     "output_type": "display_data"
    }
   ],
   "source": [
    "import matplotlib.pyplot as plt\n",
    "\n",
    "plt.figure(figsize=(10, 6))\n",
    "plt.plot(hist.epoch, hist.history['loss'], label='train')\n",
    "plt.plot(hist.epoch, hist.history['val_loss'], label='validation')\n",
    "plt.legend()\n",
    "plt.show()"
   ]
  },
  {
   "cell_type": "markdown",
   "metadata": {
    "executionInfo": {
     "elapsed": 308,
     "status": "ok",
     "timestamp": 1631154596465,
     "user": {
      "displayName": "김성환",
      "photoUrl": "",
      "userId": "17974227978557155744"
     },
     "user_tz": -540
    },
    "id": "W7zoPdxDYw_D"
   },
   "source": [
    "##### 저장된 모델 조회"
   ]
  },
  {
   "cell_type": "code",
   "execution_count": null,
   "metadata": {
    "colab": {
     "base_uri": "https://localhost:8080/"
    },
    "executionInfo": {
     "elapsed": 6302,
     "status": "ok",
     "timestamp": 1677479300438,
     "user": {
      "displayName": "전종민",
      "userId": "16424547423372155347"
     },
     "user_tz": -540
    },
    "id": "mi4giVsz7wDH",
    "outputId": "5eb603dc-506e-4c0f-e284-35149c48a1bc"
   },
   "outputs": [
    {
     "name": "stdout",
     "output_type": "stream",
     "text": [
      "10/10 [==============================] - 4s 370ms/step - loss: 0.6929 - accuracy: 0.5030\n"
     ]
    },
    {
     "data": {
      "text/plain": [
       "[0.6929490566253662, 0.503000020980835]"
      ]
     },
     "execution_count": 20,
     "metadata": {},
     "output_type": "execute_result"
    }
   ],
   "source": [
    "# 모델 생성\n",
    "saved_model1 = get_model()\n",
    "saved_model1.evaluate(test_iter)"
   ]
  },
  {
   "cell_type": "code",
   "execution_count": null,
   "metadata": {
    "colab": {
     "base_uri": "https://localhost:8080/"
    },
    "executionInfo": {
     "elapsed": 5209,
     "status": "ok",
     "timestamp": 1677479374373,
     "user": {
      "displayName": "전종민",
      "userId": "16424547423372155347"
     },
     "user_tz": -540
    },
    "id": "90BsP3hujuD2",
    "outputId": "2f268e51-2ac2-42ec-c02f-976cf135098f"
   },
   "outputs": [
    {
     "name": "stdout",
     "output_type": "stream",
     "text": [
      "10/10 [==============================] - 4s 367ms/step - loss: 0.5076 - accuracy: 0.7540\n"
     ]
    },
    {
     "data": {
      "text/plain": [
       "[0.5076375007629395, 0.7540000081062317]"
      ]
     },
     "execution_count": 21,
     "metadata": {},
     "output_type": "execute_result"
    }
   ],
   "source": [
    "# 생성된 모델에 저장된 파라미터 덮어씌우기\n",
    "saved_model1.load_weights(save_weight_path)\n",
    "saved_model1.evaluate(test_iter)"
   ]
  },
  {
   "cell_type": "code",
   "execution_count": null,
   "metadata": {
    "colab": {
     "base_uri": "https://localhost:8080/"
    },
    "executionInfo": {
     "elapsed": 5,
     "status": "ok",
     "timestamp": 1677479483084,
     "user": {
      "displayName": "전종민",
      "userId": "16424547423372155347"
     },
     "user_tz": -540
    },
    "id": "nMEuurshkNMZ",
    "outputId": "bc962207-9cfb-45e1-be1b-2022bebf8bcd"
   },
   "outputs": [
    {
     "data": {
      "text/plain": [
       "0.5108256237659907"
      ]
     },
     "execution_count": 27,
     "metadata": {},
     "output_type": "execute_result"
    }
   ],
   "source": [
    "-np.log(0.6) # 위의 모델을 보았을 때 성능이 그렇게 까지 좋지는 않다 -> 거의 10%의 확신 (loss와 비교)"
   ]
  },
  {
   "cell_type": "markdown",
   "metadata": {
    "id": "yPb0Ky5jZ9uU"
   },
   "source": [
    "# 새로운 데이터 추론"
   ]
  },
  {
   "cell_type": "code",
   "execution_count": null,
   "metadata": {
    "id": "6PU1lmCA7wDH"
   },
   "outputs": [],
   "source": [
    "from tensorflow.keras.preprocessing.image import load_img, img_to_array\n",
    "\n",
    "def load_preprocessing(image_path):\n",
    "  \"\"\"\n",
    "  경로의 이미지를 읽어서 전처리(scaling) 한 뒤 변환\n",
    "  \"\"\"\n",
    "  raw_img = load_img(image_path, target_size=(224, 224)) # Pillow image 객체로 읽어오기, target_size를 설정하면 resize해서 읽어오기기\n",
    "  img_array = img_to_array(raw_img)\n",
    "  img_array = img_array[np.newaxis, ...] # batch 축 늘리기 (224, 224, 3) -> (1, 224, 224, 3)\n",
    "  img_array = img_array.astype('float32')/255 # float 타입으로 변환 후 255로 나눠서 scaling\n",
    "  return img_array"
   ]
  },
  {
   "cell_type": "code",
   "execution_count": null,
   "metadata": {
    "colab": {
     "base_uri": "https://localhost:8080/"
    },
    "executionInfo": {
     "elapsed": 6,
     "status": "ok",
     "timestamp": 1677480354549,
     "user": {
      "displayName": "전종민",
      "userId": "16424547423372155347"
     },
     "user_tz": -540
    },
    "id": "X45uHdpumwl4",
    "outputId": "62e4642b-0168-4436-a211-ab80044fdf56"
   },
   "outputs": [
    {
     "name": "stdout",
     "output_type": "stream",
     "text": [
      "1/1 [==============================] - 0s 36ms/step\n",
      "[[0.9508956]]\n",
      "[['개']]\n"
     ]
    }
   ],
   "source": [
    "\n",
    "new_img_path = '/content/colab/MyDrive/Colab Notebooks/PlayData/07. Deep Learning/new_data/dog_01.jpg'\n",
    "new_X = load_preprocessing(new_img_path)\n",
    "\n",
    "pred = saved_model1.predict(new_X)\n",
    "print(pred)\n",
    "print(np.where(pred>=0.5, '개', '고양이'))"
   ]
  },
  {
   "cell_type": "markdown",
   "metadata": {
    "id": "9fAwTvdIYrhm"
   },
   "source": [
    "# Image data augmentation 사용\n",
    "\n",
    "- 학습 이미지의 수가 적어서 overfitting이 발생할 가능성을 줄이기 위해 기존 훈련 데이터로부터 그럴듯하게 이미지 변환을 통해서 이미지(데이터)를 늘리는 작업을 Image augmentation\n",
    "- train_set에만 적용, validation, test set에는 적용하지 않는다. (rescaling만 한다.)"
   ]
  },
  {
   "cell_type": "markdown",
   "metadata": {
    "id": "B8TZAUr8zlHR"
   },
   "source": [
    "##### 앞 코드에서 모델 생성 & load_preprocessing 함수 까지 실행"
   ]
  },
  {
   "cell_type": "markdown",
   "metadata": {
    "id": "LguMKB1w7wDI"
   },
   "source": [
    "##### ImageDataGenerator 생성"
   ]
  },
  {
   "cell_type": "code",
   "execution_count": null,
   "metadata": {
    "id": "qVuPQW1y7wDI"
   },
   "outputs": [],
   "source": [
    "# 데이터셋 디렉토리 경로\n",
    "trainset_dir = 'data/cats_and_dogs_small/train/'\n",
    "valset_dir = 'data/cats_and_dogs_small/validation/'\n",
    "testset_dir = 'data/cats_and_dogs_small/test/'"
   ]
  },
  {
   "cell_type": "code",
   "execution_count": null,
   "metadata": {
    "id": "Bp3gOtgRuAhH"
   },
   "outputs": [],
   "source": [
    "# train ImageDataGenerator 생성 => image Augmentation 설정 (train set 에만 설정)\n",
    "# 너무 많은 옵션을 선택하면 오히려 학습이 잘 안될 수 있다.\n",
    "train_datagen2 = ImageDataGenerator(rescale=1./255,\n",
    "                                    rotation_range=40,\n",
    "                                    width_shift_range=0.2,\n",
    "                                    height_shift_range=0.2,\n",
    "                                    #shear_range=0.2,\n",
    "                                    zoom_range=0.2,\n",
    "                                    horizontal_flip=True,\n",
    "                                    #vertical_flip=True,\n",
    "                                    #brightness_range=(0.5, 1.5),\n",
    "                                    fill_mode='constant')\n",
    "\n",
    "val_datagen2 = ImageDataGenerator(rescale=1./255)\n",
    "test_datagen2 = ImageDataGenerator(rescale=1./255)"
   ]
  },
  {
   "cell_type": "code",
   "execution_count": null,
   "metadata": {
    "colab": {
     "base_uri": "https://localhost:8080/"
    },
    "executionInfo": {
     "elapsed": 559,
     "status": "ok",
     "timestamp": 1677485473457,
     "user": {
      "displayName": "전종민",
      "userId": "16424547423372155347"
     },
     "user_tz": -540
    },
    "id": "mmaww7lCvHaV",
    "outputId": "4aa9e08d-f667-436a-bae4-4b3e2904a0e4"
   },
   "outputs": [
    {
     "name": "stdout",
     "output_type": "stream",
     "text": [
      "Found 2000 images belonging to 2 classes.\n",
      "Found 1000 images belonging to 2 classes.\n",
      "Found 1000 images belonging to 2 classes.\n"
     ]
    }
   ],
   "source": [
    "train_iter2 = train_datagen2.flow_from_directory(trainset_dir, target_size=(224, 224), class_mode='binary', batch_size=N_BATCH)\n",
    "\n",
    "val_iter2 = val_datagen2.flow_from_directory(valset_dir, target_size=(224, 224), class_mode='binary', batch_size=N_BATCH)\n",
    "\n",
    "test_iter2 = test_datagen2.flow_from_directory(testset_dir, target_size=(224, 224), class_mode='binary', batch_size=N_BATCH)"
   ]
  },
  {
   "cell_type": "markdown",
   "metadata": {
    "executionInfo": {
     "elapsed": 277,
     "status": "ok",
     "timestamp": 1631158426700,
     "user": {
      "displayName": "김성환",
      "photoUrl": "",
      "userId": "17974227978557155744"
     },
     "user_tz": -540
    },
    "id": "NI8tn-1cWqrR"
   },
   "source": [
    "##### 모델 생성, 컴파일, 학습"
   ]
  },
  {
   "cell_type": "code",
   "execution_count": null,
   "metadata": {
    "id": "Syja6TW67wDJ"
   },
   "outputs": [],
   "source": [
    "g_drive_path = '/content/colab/MyDrive/Colab Notebooks/PlayData/07. Deep Learning'\n",
    "save_dir_path = os.path.join(g_drive_path, 'saved_model', 'cat_dog_model_aug') # model 저장 경로 (model+파라미터)\n",
    "mc_callback2 = keras.callbacks.ModelCheckpoint(save_dir_path, save_best_only=True, monitor='val_loss', verbose=1)\n",
    "es_callback2 = keras.callbacks.EarlyStopping(monitor='val_loss', patience=10, verbose=1)\n",
    "\n",
    "model2 = get_model()\n",
    "hist2 = model2.fit(train_iter2, epochs=N_EPOCH,\n",
    "                   steps_per_epoch = len(train_iter2), # imageDataGenerator는 데이터를 무한제공하기 때문에 1 epoch가 언제 끝나는 지를 알수 없다 -> steps_per_epoch/ validation_steps에 1 epoch이 몇 step인지를 설정해서 직접 알려줘야 한다.\n",
    "                   validation_data = val_iter2,\n",
    "                   validation_steps = len(val_iter2),\n",
    "                   callbacks=[mc_callback2, es_callback2])"
   ]
  },
  {
   "cell_type": "markdown",
   "metadata": {
    "id": "jrdVz2BZ7wDJ"
   },
   "source": [
    "##### 저장된 모델 Loading 후 평가(사용)"
   ]
  },
  {
   "cell_type": "code",
   "execution_count": 4,
   "metadata": {
    "ExecuteTime": {
     "end_time": "2023-02-28T00:29:40.852491Z",
     "start_time": "2023-02-28T00:29:39.134479Z"
    },
    "id": "Dlv7oUnk7wDJ"
   },
   "outputs": [],
   "source": [
    "from tensorflow.keras import models\n",
    "from tensorflow.keras.preprocessing.image import load_img, img_to_array\n",
    "\n",
    "saved_model2 = models.load_model('saved_model/cat_dog_model_aug')"
   ]
  },
  {
   "cell_type": "markdown",
   "metadata": {
    "executionInfo": {
     "elapsed": 499,
     "status": "ok",
     "timestamp": 1631166141746,
     "user": {
      "displayName": "김성환",
      "photoUrl": "",
      "userId": "17974227978557155744"
     },
     "user_tz": -540
    },
    "id": "o4sSoGQXlJKX"
   },
   "source": [
    "##### 새로운데이터 추론"
   ]
  },
  {
   "cell_type": "code",
   "execution_count": 6,
   "metadata": {
    "ExecuteTime": {
     "end_time": "2023-02-28T00:33:52.933350Z",
     "start_time": "2023-02-28T00:33:52.911342Z"
    },
    "id": "wQ4zLMYI7wDK"
   },
   "outputs": [],
   "source": [
    "import numpy as np\n",
    "\n",
    "def load_preprocessing_image(path):\n",
    "    raw_img = load_img(path, target_size=(224, 224)) # 이미지 읽어오기\n",
    "    img_array = img_to_array(raw_img)\n",
    "    img_array = img_array[np.newaxis, ...]\n",
    "    img_array = img_array.astype('float32')/255\n",
    "    return img_array"
   ]
  },
  {
   "cell_type": "code",
   "execution_count": 17,
   "metadata": {
    "ExecuteTime": {
     "end_time": "2023-02-28T00:38:56.633367Z",
     "start_time": "2023-02-28T00:38:56.471329Z"
    }
   },
   "outputs": [
    {
     "name": "stdout",
     "output_type": "stream",
     "text": [
      "1/1 [==============================] - 0s 66ms/step\n",
      "[[0.65367043]] ['개']\n"
     ]
    }
   ],
   "source": [
    "img_path = 'new_data/dog_02.jpg'\n",
    "data = load_preprocessing_image(img_path)\n",
    "# data.shape\n",
    "pred = saved_model2.predict(data)\n",
    "pred_label = np.where(pred[0]>=0.5, '개', '고양이')\n",
    "print(pred, pred_label)"
   ]
  },
  {
   "cell_type": "code",
   "execution_count": 18,
   "metadata": {
    "ExecuteTime": {
     "end_time": "2023-02-28T00:42:18.820779Z",
     "start_time": "2023-02-28T00:42:18.719779Z"
    }
   },
   "outputs": [
    {
     "name": "stdout",
     "output_type": "stream",
     "text": [
      "Model: \"sequential_1\"\n",
      "_________________________________________________________________\n",
      " Layer (type)                Output Shape              Param #   \n",
      "=================================================================\n",
      " conv2d_6 (Conv2D)           (None, 224, 224, 64)      1792      \n",
      "                                                                 \n",
      " max_pooling2d_6 (MaxPooling  (None, 112, 112, 64)     0         \n",
      " 2D)                                                             \n",
      "                                                                 \n",
      " conv2d_7 (Conv2D)           (None, 112, 112, 64)      36928     \n",
      "                                                                 \n",
      " max_pooling2d_7 (MaxPooling  (None, 56, 56, 64)       0         \n",
      " 2D)                                                             \n",
      "                                                                 \n",
      " conv2d_8 (Conv2D)           (None, 56, 56, 128)       73856     \n",
      "                                                                 \n",
      " max_pooling2d_8 (MaxPooling  (None, 28, 28, 128)      0         \n",
      " 2D)                                                             \n",
      "                                                                 \n",
      " conv2d_9 (Conv2D)           (None, 28, 28, 128)       147584    \n",
      "                                                                 \n",
      " max_pooling2d_9 (MaxPooling  (None, 14, 14, 128)      0         \n",
      " 2D)                                                             \n",
      "                                                                 \n",
      " conv2d_10 (Conv2D)          (None, 14, 14, 256)       295168    \n",
      "                                                                 \n",
      " max_pooling2d_10 (MaxPoolin  (None, 7, 7, 256)        0         \n",
      " g2D)                                                            \n",
      "                                                                 \n",
      " conv2d_11 (Conv2D)          (None, 7, 7, 256)         590080    \n",
      "                                                                 \n",
      " max_pooling2d_11 (MaxPoolin  (None, 4, 4, 256)        0         \n",
      " g2D)                                                            \n",
      "                                                                 \n",
      " flatten_1 (Flatten)         (None, 4096)              0         \n",
      "                                                                 \n",
      " dropout_1 (Dropout)         (None, 4096)              0         \n",
      "                                                                 \n",
      " binary_classification_outpu  (None, 1)                4097      \n",
      " t (Dense)                                                       \n",
      "                                                                 \n",
      "=================================================================\n",
      "Total params: 1,149,505\n",
      "Trainable params: 1,149,505\n",
      "Non-trainable params: 0\n",
      "_________________________________________________________________\n"
     ]
    }
   ],
   "source": [
    "saved_model2.summary()"
   ]
  }
 ],
 "metadata": {
  "accelerator": "GPU",
  "colab": {
   "provenance": []
  },
  "gpuClass": "standard",
  "kernelspec": {
   "display_name": "Python 3 (ipykernel)",
   "language": "python",
   "name": "python3"
  },
  "language_info": {
   "codemirror_mode": {
    "name": "ipython",
    "version": 3
   },
   "file_extension": ".py",
   "mimetype": "text/x-python",
   "name": "python",
   "nbconvert_exporter": "python",
   "pygments_lexer": "ipython3",
   "version": "3.9.16"
  },
  "toc": {
   "base_numbering": 1,
   "nav_menu": {},
   "number_sections": false,
   "sideBar": true,
   "skip_h1_title": false,
   "title_cell": "Table of Contents",
   "title_sidebar": "Contents",
   "toc_cell": false,
   "toc_position": {},
   "toc_section_display": true,
   "toc_window_display": false
  },
  "varInspector": {
   "cols": {
    "lenName": 16,
    "lenType": 16,
    "lenVar": 40
   },
   "kernels_config": {
    "python": {
     "delete_cmd_postfix": "",
     "delete_cmd_prefix": "del ",
     "library": "var_list.py",
     "varRefreshCmd": "print(var_dic_list())"
    },
    "r": {
     "delete_cmd_postfix": ") ",
     "delete_cmd_prefix": "rm(",
     "library": "var_list.r",
     "varRefreshCmd": "cat(var_dic_list()) "
    }
   },
   "types_to_exclude": [
    "module",
    "function",
    "builtin_function_or_method",
    "instance",
    "_Feature"
   ],
   "window_display": false
  }
 },
 "nbformat": 4,
 "nbformat_minor": 1
}
