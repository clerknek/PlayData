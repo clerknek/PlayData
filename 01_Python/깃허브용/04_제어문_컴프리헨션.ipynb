{
 "cells": [
  {
   "cell_type": "markdown",
   "id": "8c49cd8e",
   "metadata": {
    "slideshow": {
     "slide_type": "slide"
    }
   },
   "source": [
    "# 제어문(Control flow statement)\n",
    "기본적으로 프로그램은 순차구조를 가진다. 즉 작성한 순서대로 실행이 된다.  \n",
    "이런 실행흐름을 다른 순서로 제어하기 위한 구문을 만드는 문법이 제어문이다.  \n",
    "제어문은 **조건문** 과 **반복문** 두가지 문법이 있다.\n",
    "- 조건문\n",
    "    - if 문\n",
    "- 반복문\n",
    "    - while 문\n",
    "    - for in 문"
   ]
  },
  {
   "cell_type": "markdown",
   "id": "92c502ce",
   "metadata": {
    "slideshow": {
     "slide_type": "slide"
    }
   },
   "source": [
    "# 조건문/분기문 (conditional statement)\n",
    "- 프로그램이 명령문들을 실행하는 도중 특정 순서에서 **조건에 따라 흐름의 나눠져야 하는 경우 사용한다**\n",
    "- 파이썬은 조건문으로 **if문**이 있다.\n",
    "\n",
    "![조건문](images/ch03_01.png)\n",
    "\n",
    "<center>입력 받은 a 의 값이 0인지 여부에 따라 두가지 흐름으로 분기된다.</center>\n"
   ]
  },
  {
   "cell_type": "markdown",
   "id": "2a3c1835",
   "metadata": {
    "slideshow": {
     "slide_type": "subslide"
    }
   },
   "source": [
    "## 구문\n",
    "\n",
    "- 조건이 True일 경우만 특정 구문들을 실행 하는 조건문.\n",
    "```python\n",
    "if 조건:    # 조건은 bool 표현식을 기술한다. 조건선언 다음에 : 으로 선언해서 코드블록을 구분한다.\n",
    "    명령문1  # 조건이 True이면 실행할 구문들을 코드블럭에 기술한다.\n",
    "    명령문2  # 코드 블록은 들여쓰기를 이용해 묶어준다. 보통 공백 4칸으로 들여쓰기를 한다.\n",
    "    ...\n",
    "```\n",
    "> <b style='font-size:1.2em'>파이썬의 코드블록(code block)</b>  \n",
    "> 코드블록이란 여러개의 실행명령문들을 묶어놓은 것을 말한다. \n",
    "> 파이썬에서는 코드블록을 작성할 때 들여쓰기를 이용해 묶어준다. 같은 칸만큼 들여쓰기를 한 명령문들이 같은 블록으로 묶인다.\n",
    "> 들여쓰기는 관례적으로 공백 4칸을 사용한다. "
   ]
  },
  {
   "cell_type": "code",
   "execution_count": 155,
   "id": "9aa311a5",
   "metadata": {
    "ExecuteTime": {
     "end_time": "2022-12-22T09:52:05.254783Z",
     "start_time": "2022-12-22T09:52:02.259694Z"
    },
    "slideshow": {
     "slide_type": "fragment"
    }
   },
   "outputs": [
    {
     "name": "stdout",
     "output_type": "stream",
     "text": [
      "정수10\n",
      "종료\n"
     ]
    }
   ],
   "source": [
    "# 1. 정수를 입력받는다.\n",
    "num = int(input(\"정수\"))\n",
    "# 2. 입력받은 정수가 0이면 \"영입니다.\"라고 출력을 한다.\n",
    "if num == 0:\n",
    "    print('영입니다.')\n",
    "# 3. \"종료\" 출력\n",
    "print('종료')"
   ]
  },
  {
   "cell_type": "markdown",
   "id": "09c79c35",
   "metadata": {
    "slideshow": {
     "slide_type": "subslide"
    }
   },
   "source": [
    "- 조건이 True일때 실행할 구문과 False일때 실행하는 조건문.\n",
    "```python\n",
    "if 조건:     \n",
    "    명령문1_1 # 조건이 True일 경우 실행할 구문들\n",
    "    명령문1_2\n",
    "    ...\n",
    "else:\n",
    "    명령문2_1 # 조건이 False일 경우 실행할 구문들\n",
    "    명령문2_2\n",
    "    ...\n",
    "```"
   ]
  },
  {
   "cell_type": "code",
   "execution_count": 156,
   "id": "87b51956",
   "metadata": {
    "ExecuteTime": {
     "end_time": "2022-12-22T09:52:19.546893Z",
     "start_time": "2022-12-22T09:52:17.965696Z"
    },
    "scrolled": true,
    "slideshow": {
     "slide_type": "fragment"
    }
   },
   "outputs": [
    {
     "name": "stdout",
     "output_type": "stream",
     "text": [
      "정수: 0\n",
      "영입니다.\n",
      "Zero\n",
      "종료\n"
     ]
    }
   ],
   "source": [
    "# 1. 정수를 입력받는다.\n",
    "num = int(input(\"정수: \"))\n",
    "# 2. \n",
    "# 2-1 만약에 정수가 0이면 \"영 입니다.\" 를 출력\n",
    "if num == 0:\n",
    "    print('영입니다.')\n",
    "    print('Zero')\n",
    "# 2-2 0이 아니면 \"영이 아닙니다.\"를 출력\n",
    "else:\n",
    "    print('영이 아닙니다.')\n",
    "    print('Not Zero')\n",
    "# 3. 종료\n",
    "print('종료')"
   ]
  },
  {
   "cell_type": "code",
   "execution_count": 157,
   "id": "04994f92",
   "metadata": {
    "ExecuteTime": {
     "end_time": "2022-12-22T09:52:46.676891Z",
     "start_time": "2022-12-22T09:52:44.930848Z"
    }
   },
   "outputs": [
    {
     "name": "stdout",
     "output_type": "stream",
     "text": [
      "정수: 0\n",
      "영입니다.\n",
      "Zero\n",
      "종료\n"
     ]
    }
   ],
   "source": [
    "# 1. 정수를 입력받는다.\n",
    "num = int(input(\"정수: \"))\n",
    "# 2. \n",
    "# 2-1 만약에 정수가 0이면 \"영 입니다.\" 를 출력\n",
    "if num!=0:\n",
    "    print('영이 아닙니다.')\n",
    "    print('Not Zero')\n",
    "# 2-2 0이 아니면 \"영이 아닙니다.\"를 출력\n",
    "else:\n",
    "    print('영입니다.')\n",
    "    print('Zero')\n",
    "# 3. 종료\n",
    "print('종료')"
   ]
  },
  {
   "cell_type": "code",
   "execution_count": 158,
   "id": "5515b9ff",
   "metadata": {
    "ExecuteTime": {
     "end_time": "2022-12-22T10:01:06.295705Z",
     "start_time": "2022-12-22T09:52:55.684638Z"
    }
   },
   "outputs": [
    {
     "name": "stdout",
     "output_type": "stream",
     "text": [
      "ID: ab\n",
      "ID는 5글자 입력하세요\n",
      "입력한 ID는 2글자 입니다.\n",
      "종료\n"
     ]
    }
   ],
   "source": [
    "# 1. id를 입력받는다.\n",
    "id = input(\"ID: \")\n",
    "# 2-1 id가 5글자 이상이면 \"사용할수 있는 ID입니다.\" 를 출력\n",
    "if len(id) >= 5:\n",
    "    print(f'{id}는 사용할 수 있는 ID입니다.')\n",
    "    print('가입처리 실행')\n",
    "# 2-2 id가 5글자 미만이면 \"ID는 5글자 이상 입력하세요\" 를 출력\n",
    "else:\n",
    "    print('ID는 5글자 입력하세요')\n",
    "    print(f\"입력한 ID는 {len(id)}글자 입니다.\")\n",
    "# 3. \"종료\" 를 출력\n",
    "print(\"종료\")"
   ]
  },
  {
   "cell_type": "code",
   "execution_count": 159,
   "id": "524bdfb9",
   "metadata": {
    "ExecuteTime": {
     "end_time": "2022-12-22T10:02:37.981471Z",
     "start_time": "2022-12-22T10:02:26.777229Z"
    }
   },
   "outputs": [
    {
     "name": "stdout",
     "output_type": "stream",
     "text": [
      "입력하세요: ㅁㅁㅁㅁ\n",
      "0글자 이상\n"
     ]
    }
   ],
   "source": [
    "# 입력받은 글자가 0글자 이상이면 \"글을 입력했습니다.\"\n",
    "s = input(\"입력하세요: \")\n",
    "# if len(s) > 0:\n",
    "if s:\n",
    "    print(\"0글자 이상\")\n",
    "else:\n",
    "    print('빈문자열')"
   ]
  },
  {
   "cell_type": "markdown",
   "id": "621eae9a",
   "metadata": {
    "slideshow": {
     "slide_type": "subslide"
    }
   },
   "source": [
    "- 조건이 여러개인 조건문.\n",
    "```python\n",
    "if 조건1:\n",
    "    명령문1_1  # 조건1이 True일 경우 실행할 코드블록. \n",
    "    명령문1_2\n",
    "    ...\n",
    "elif 조건2:    # 다음 조건으로 앞의 조건들이 모드 False일 경우 비교한다.\n",
    "    명령문2_1  # 조건2가 True일 경우 실행할 코드블록.\n",
    "    명령문2_2\n",
    "    ...\n",
    "elif 조건3 :\n",
    "    명령문3_1\n",
    "    명령문3_2\n",
    "    ...\n",
    "else:         # 위의 모든 조건이 False일 경우 실행하는 코드블록. 생략 가능하다.\n",
    "    명령문4\n",
    "```"
   ]
  },
  {
   "cell_type": "code",
   "execution_count": 160,
   "id": "4c6a532d",
   "metadata": {
    "ExecuteTime": {
     "end_time": "2022-12-22T11:29:35.675837Z",
     "start_time": "2022-12-22T11:29:34.111391Z"
    },
    "slideshow": {
     "slide_type": "fragment"
    }
   },
   "outputs": [
    {
     "name": "stdout",
     "output_type": "stream",
     "text": [
      "정수: 10\n",
      "양수입니다.\n",
      "종료\n"
     ]
    }
   ],
   "source": [
    "# 1. 정수를 입력받는다.\n",
    "num = int(input(\"정수: \"))\n",
    "# 2-1. 입력받은 정수가 0초과이면 \"양수입니다.\" 출력\n",
    "if num > 0:\n",
    "    print('양수입니다.')\n",
    "# 2-2. 입력받은 정수가 0이면 \"0입니다.\" 출력\n",
    "elif num==0:  #not num\n",
    "    print('0입니다.')\n",
    "# 2-3. 입력받은 정수가 0 미만이면 \"음수입니다.\"를 출력\n",
    "elif num < 0:  # else:\n",
    "    print('음수입니다.')\n",
    "# 3. 종료\n",
    "print('종료')"
   ]
  },
  {
   "cell_type": "code",
   "execution_count": 161,
   "id": "9bae6099",
   "metadata": {
    "ExecuteTime": {
     "end_time": "2022-12-22T11:29:53.683707Z",
     "start_time": "2022-12-22T11:29:44.865596Z"
    }
   },
   "outputs": [
    {
     "name": "stdout",
     "output_type": "stream",
     "text": [
      "정수: 100\n",
      "양수입니다.\n",
      "100 이상입니다.\n"
     ]
    }
   ],
   "source": [
    "# 정수를 입력아서 0이상이면 \"양수입니다.\" 출력. 100이상이면 추가로 \"100이상입니다.\"를 출력\n",
    "num = int(input(\"정수: \"))\n",
    "if num >= 0:\n",
    "    print('양수입니다.')\n",
    "if num >= 100:  # 양수중에 100 이상인지를 추가 비교\n",
    "    print('100 이상입니다.')"
   ]
  },
  {
   "cell_type": "code",
   "execution_count": 162,
   "id": "62f7cf05",
   "metadata": {
    "ExecuteTime": {
     "end_time": "2022-12-22T11:30:07.905130Z",
     "start_time": "2022-12-22T11:30:02.503507Z"
    }
   },
   "outputs": [
    {
     "name": "stdout",
     "output_type": "stream",
     "text": [
      "정수: 100\n",
      "양수\n",
      "100 이상\n",
      "종료\n"
     ]
    }
   ],
   "source": [
    "num = int(input(\"정수: \"))\n",
    "if num >= 0:\n",
    "    print('양수')\n",
    "    if num >= 100:\n",
    "        print('100 이상')\n",
    "        if num >= 1000:\n",
    "            print('1000 이상')\n",
    "print('종료')   "
   ]
  },
  {
   "cell_type": "markdown",
   "id": "2149b728",
   "metadata": {
    "slideshow": {
     "slide_type": "slide"
    }
   },
   "source": [
    "# 반복문 (Loop statement)\n",
    "\n",
    "특정 구문들을 반복해서 실행할 때 사용한다. 동일한 코드를 여러번 반복하거나 값이 일정하게 변하는 코드를 반복할 경우 사용한다.  \n",
    "단순 반복을 처리하는 **while문**과 iterable객체가 제공하는 값들을 반복 조회하는 **for in문** 두가지 문법이 있다.\n",
    "\n",
    "![반복문](images/ch03_02.png)\n",
    "<center>count의 값이 limit의 값보다 크거나 같을때 까지 count의 값을 1증가 후 출력하는 구문을 반복한다. </center>"
   ]
  },
  {
   "cell_type": "markdown",
   "id": "b4740a36",
   "metadata": {
    "slideshow": {
     "slide_type": "subslide"
    }
   },
   "source": [
    "## while문\n",
    "- 조건이 True인 동안 구문을 반복해서 실행한다.\n",
    "\n",
    "### 구문\n",
    "```python\n",
    "while 조건:       # 조건은 bool 표현식을 기술한다. 조건선언 다음에 : 으로 선언해서 코드블록을 구분한다\n",
    "    반복할 구문1  # 반복할 구문을 코드블록으로 작성한다.  \n",
    "    반복할 구문2\n",
    "    ...\n",
    "```"
   ]
  },
  {
   "cell_type": "code",
   "execution_count": 1,
   "id": "6b11bde6",
   "metadata": {
    "ExecuteTime": {
     "end_time": "2022-12-22T02:20:42.919095Z",
     "start_time": "2022-12-22T02:20:41.414532Z"
    },
    "slideshow": {
     "slide_type": "fragment"
    }
   },
   "outputs": [
    {
     "name": "stdout",
     "output_type": "stream",
     "text": [
      "반복횟수: 10\n",
      "1\n",
      "2\n",
      "3\n",
      "4\n",
      "5\n",
      "6\n",
      "7\n",
      "8\n",
      "9\n",
      "10\n"
     ]
    }
   ],
   "source": [
    "limit = int(input('반복횟수: '))\n",
    "count = 0 # 몇번째 반복인지를 저장하는 변수\n",
    "while count < limit:\n",
    "    count = count + 1  # count += 1 ==> 조건을 변경하는 구문이 있어야 멈춘다.\n",
    "    print(count)"
   ]
  },
  {
   "cell_type": "markdown",
   "id": "04f12e55",
   "metadata": {
    "slideshow": {
     "slide_type": "subslide"
    }
   },
   "source": [
    "## for  in 문\n",
    "- for in문은 Iterable 타입의 객체가 가지고 있는 값들을 각가 모두 조회하여 처리하는 구문을 작성할 때 사용한다.\n",
    "\n",
    "> - Iterable\n",
    ">    - 반복가능한 객체. 반복문(for in)을 이용해 일련의 값들을 반복적으로 각각 제공하는 객체를 말한다. \n",
    ">    - 대표적으로 List, Tuple, Dictionary, Set, 문자열 등이 있다.\n",
    "\n",
    "### 구문\n",
    "```python\n",
    "for 변수 in Iterable: # for in 선언후 : 으로 선언부와 구현부를 나눈다.\n",
    "    반복구문          # Iterable이 반복시 제공하는 값을 가지는 \"변수\"를 이용한 반복구문을 코드블록으로 작성한다.\n",
    "    반복구문\n",
    "```"
   ]
  },
  {
   "cell_type": "code",
   "execution_count": 10,
   "id": "da0ce0f6",
   "metadata": {
    "ExecuteTime": {
     "end_time": "2022-12-22T02:39:24.609810Z",
     "start_time": "2022-12-22T02:39:24.600151Z"
    },
    "slideshow": {
     "slide_type": "fragment"
    }
   },
   "outputs": [],
   "source": [
    "l = [10, 5, 8, 20, 8, 7]  # iterable\n",
    "l_iter = iter(l)          # iterator\n",
    "#next(l_iter)              # header에 있는 값을 가져온다 첫번째로 실행 하면 10, 두번째 실행하면 5 이런식으로 나옴"
   ]
  },
  {
   "cell_type": "code",
   "execution_count": 11,
   "id": "92424e8a",
   "metadata": {
    "ExecuteTime": {
     "end_time": "2022-12-22T02:39:25.262685Z",
     "start_time": "2022-12-22T02:39:25.238573Z"
    }
   },
   "outputs": [
    {
     "name": "stdout",
     "output_type": "stream",
     "text": [
      "10 200\n",
      "5 100\n",
      "8 160\n",
      "20 400\n",
      "8 160\n",
      "7 140\n"
     ]
    },
    {
     "ename": "StopIteration",
     "evalue": "",
     "output_type": "error",
     "traceback": [
      "\u001b[1;31m---------------------------------------------------------------------------\u001b[0m",
      "\u001b[1;31mStopIteration\u001b[0m                             Traceback (most recent call last)",
      "\u001b[1;32m~\\AppData\\Local\\Temp\\ipykernel_1052\\2322875740.py\u001b[0m in \u001b[0;36m<module>\u001b[1;34m\u001b[0m\n\u001b[0;32m      1\u001b[0m \u001b[1;32mwhile\u001b[0m \u001b[1;32mTrue\u001b[0m\u001b[1;33m:\u001b[0m\u001b[1;33m\u001b[0m\u001b[1;33m\u001b[0m\u001b[0m\n\u001b[1;32m----> 2\u001b[1;33m     \u001b[0mv\u001b[0m \u001b[1;33m=\u001b[0m \u001b[0mnext\u001b[0m\u001b[1;33m(\u001b[0m\u001b[0ml_iter\u001b[0m\u001b[1;33m)\u001b[0m\u001b[1;33m\u001b[0m\u001b[1;33m\u001b[0m\u001b[0m\n\u001b[0m\u001b[0;32m      3\u001b[0m     \u001b[0mv2\u001b[0m \u001b[1;33m=\u001b[0m \u001b[0mv\u001b[0m \u001b[1;33m*\u001b[0m \u001b[1;36m20\u001b[0m \u001b[1;31m# 일괄처리할 구문\u001b[0m\u001b[1;33m\u001b[0m\u001b[1;33m\u001b[0m\u001b[0m\n\u001b[0;32m      4\u001b[0m     \u001b[0mprint\u001b[0m\u001b[1;33m(\u001b[0m\u001b[0mv\u001b[0m\u001b[1;33m,\u001b[0m \u001b[0mv2\u001b[0m\u001b[1;33m)\u001b[0m\u001b[1;33m\u001b[0m\u001b[1;33m\u001b[0m\u001b[0m\n",
      "\u001b[1;31mStopIteration\u001b[0m: "
     ]
    }
   ],
   "source": [
    "while True:   # 리스트의 모든 값들을 다 처리할 때 까지 => StopIteration 이란 Exception이 발생할 때까지\n",
    "    v = next(l_iter)     # 리스트에서 값을 하나 조회해서 변수 v에 할당\n",
    "    v2 = v * 20 # v의 값을 처리\n",
    "    print(v, v2)"
   ]
  },
  {
   "cell_type": "code",
   "execution_count": 3,
   "id": "dbb9edb7",
   "metadata": {
    "ExecuteTime": {
     "end_time": "2022-12-22T02:37:40.731824Z",
     "start_time": "2022-12-22T02:37:40.718738Z"
    }
   },
   "outputs": [
    {
     "data": {
      "text/plain": [
       "5"
      ]
     },
     "execution_count": 3,
     "metadata": {},
     "output_type": "execute_result"
    }
   ],
   "source": [
    "for v in l:\n",
    "    v2 = v * 20\n",
    "    print(v, v2)"
   ]
  },
  {
   "cell_type": "code",
   "execution_count": 12,
   "id": "a33706ba",
   "metadata": {
    "ExecuteTime": {
     "end_time": "2022-12-22T02:44:41.202097Z",
     "start_time": "2022-12-22T02:44:41.187003Z"
    }
   },
   "outputs": [
    {
     "name": "stdout",
     "output_type": "stream",
     "text": [
      "1, 2, 3, 4, 5, "
     ]
    }
   ],
   "source": [
    "for v in (1,2,3,4,5):\n",
    "    print(v, end=', ')"
   ]
  },
  {
   "cell_type": "code",
   "execution_count": 13,
   "id": "72f8dea7",
   "metadata": {
    "ExecuteTime": {
     "end_time": "2022-12-22T02:45:59.910917Z",
     "start_time": "2022-12-22T02:45:59.896785Z"
    }
   },
   "outputs": [
    {
     "name": "stdout",
     "output_type": "stream",
     "text": [
      "10\t20\t30\t"
     ]
    }
   ],
   "source": [
    "for v in {10, 20, 30, 10, 10}:\n",
    "    print(v, end='\\t')"
   ]
  },
  {
   "cell_type": "code",
   "execution_count": 15,
   "id": "a4b794fb",
   "metadata": {
    "ExecuteTime": {
     "end_time": "2022-12-22T02:47:38.228423Z",
     "start_time": "2022-12-22T02:47:38.207070Z"
    }
   },
   "outputs": [
    {
     "name": "stdout",
     "output_type": "stream",
     "text": [
      "key1 1\n",
      "key2 2\n",
      "key3 3\n"
     ]
    }
   ],
   "source": [
    "d = {'key1':1, 'key2':2, 'key3':3}\n",
    "for v in d:  # dictionary는 key를 반환\n",
    "    print(v, d[v])"
   ]
  },
  {
   "cell_type": "code",
   "execution_count": 17,
   "id": "48d181ed",
   "metadata": {
    "ExecuteTime": {
     "end_time": "2022-12-22T02:48:27.260128Z",
     "start_time": "2022-12-22T02:48:27.244955Z"
    }
   },
   "outputs": [
    {
     "name": "stdout",
     "output_type": "stream",
     "text": [
      "a\n",
      "b\n",
      "c\n",
      "d\n",
      "e\n",
      "f\n",
      "g\n",
      "가\n",
      "나\n",
      "다\n"
     ]
    }
   ],
   "source": [
    "for v in \"abcdefg가나다\":\n",
    "    print(v)"
   ]
  },
  {
   "cell_type": "code",
   "execution_count": 18,
   "id": "adb4b9a2",
   "metadata": {
    "ExecuteTime": {
     "end_time": "2022-12-22T02:51:22.544371Z",
     "start_time": "2022-12-22T02:51:22.535011Z"
    }
   },
   "outputs": [
    {
     "name": "stdout",
     "output_type": "stream",
     "text": [
      "[1, 2, 3]\n",
      "[4, 5, 6]\n",
      "[7, 8, 9]\n"
     ]
    }
   ],
   "source": [
    "l = [\n",
    "    [1, 2, 3],\n",
    "    [4, 5, 6],\n",
    "    [7, 8, 9]\n",
    "]\n",
    "for v in l:\n",
    "    print(v)"
   ]
  },
  {
   "cell_type": "code",
   "execution_count": 21,
   "id": "b9c7a5ec",
   "metadata": {
    "ExecuteTime": {
     "end_time": "2022-12-22T02:54:17.848007Z",
     "start_time": "2022-12-22T02:54:17.839429Z"
    }
   },
   "outputs": [
    {
     "name": "stdout",
     "output_type": "stream",
     "text": [
      "1\n",
      "2\n",
      "3\n",
      "---------\n",
      "4\n",
      "5\n",
      "6\n",
      "---------\n",
      "7\n",
      "8\n",
      "9\n",
      "---------\n"
     ]
    }
   ],
   "source": [
    "for v in l:\n",
    "    for value in v:\n",
    "        print(value)\n",
    "    print('---------')"
   ]
  },
  {
   "cell_type": "markdown",
   "id": "1f30cd6f",
   "metadata": {
    "slideshow": {
     "slide_type": "subslide"
    }
   },
   "source": [
    "## continue와 break를 이용한 반복문 제어\n",
    "- **continue**\n",
    "    - 현재 반복을 중단하고 다음 반복을 진행한다.\n",
    "    - 특정 조건에서 처리를 멈추고 다음 처리를 반복할 때 사용한다.\n",
    "- **break**\n",
    "    - 반복을 중단한다.\n",
    "    - 특정 조건에서 반복문을 중간에 중지할때 사용한다.\n",
    "- continue와 break는 특정 조건에서 실행되야 하는 경우가 대부분이므로 if문 안에 작성한다.    "
   ]
  },
  {
   "cell_type": "code",
   "execution_count": 22,
   "id": "90c41e9f",
   "metadata": {
    "ExecuteTime": {
     "end_time": "2022-12-22T03:17:57.014161Z",
     "start_time": "2022-12-22T03:17:56.989506Z"
    },
    "slideshow": {
     "slide_type": "fragment"
    }
   },
   "outputs": [
    {
     "name": "stdout",
     "output_type": "stream",
     "text": [
      "3\n",
      "6\n",
      "9\n"
     ]
    }
   ],
   "source": [
    "l = [1, 2, 3, 4, 5, 6, 7, 8, 9, 10, 11]\n",
    "# 3의 배수들만 출력\n",
    "for v in l:\n",
    "    if v % 3 == 0:\n",
    "        print(v)"
   ]
  },
  {
   "cell_type": "code",
   "execution_count": 23,
   "id": "febab360",
   "metadata": {
    "ExecuteTime": {
     "end_time": "2022-12-22T03:18:50.281212Z",
     "start_time": "2022-12-22T03:18:50.261641Z"
    }
   },
   "outputs": [
    {
     "name": "stdout",
     "output_type": "stream",
     "text": [
      "3\n",
      "6\n",
      "9\n"
     ]
    }
   ],
   "source": [
    "for v in l:\n",
    "    if v % 3 != 0: # 3의 배수가 아니라면\n",
    "        continue # 다음 원소를 반복 조회하라\n",
    "    print(v)"
   ]
  },
  {
   "cell_type": "code",
   "execution_count": 24,
   "id": "4e6e8d05",
   "metadata": {
    "ExecuteTime": {
     "end_time": "2022-12-22T03:20:03.008488Z",
     "start_time": "2022-12-22T03:20:02.998930Z"
    }
   },
   "outputs": [
    {
     "name": "stdout",
     "output_type": "stream",
     "text": [
      "1\n",
      "2\n",
      "3\n",
      "4\n",
      "5\n",
      "6\n"
     ]
    }
   ],
   "source": [
    "# list의 값이 7이 있을 경우 더이상 출력하지 않는다.\n",
    "for v in l:\n",
    "    if v == 7:\n",
    "        break\n",
    "    print(v)"
   ]
  },
  {
   "cell_type": "code",
   "execution_count": 25,
   "id": "3fc8148a",
   "metadata": {
    "ExecuteTime": {
     "end_time": "2022-12-22T03:23:12.790385Z",
     "start_time": "2022-12-22T03:23:12.768520Z"
    }
   },
   "outputs": [
    {
     "name": "stdout",
     "output_type": "stream",
     "text": [
      "True\n"
     ]
    }
   ],
   "source": [
    "l2 = [10, 2, 30, 10, 20, 7, 10, 20, 7, 10, 2, 7]\n",
    "# l2에 7이 있는지를 확인\n",
    "result = False # 7이 있는지 여부를 bool 값을 저장할 변수\n",
    "for v in l2:\n",
    "    if v == 7:\n",
    "        result = True # 만약 7이 몇개인지를 확인하려면 전체를 다 검사해야하는데 7이 있는지 없는 지만 확인할 경우 첫번째것을 찾고 끝낸다.\n",
    "        break\n",
    "print(result)"
   ]
  },
  {
   "cell_type": "code",
   "execution_count": 26,
   "id": "dd78ab6f",
   "metadata": {
    "ExecuteTime": {
     "end_time": "2022-12-22T03:25:07.923449Z",
     "start_time": "2022-12-22T03:25:07.905356Z"
    }
   },
   "outputs": [
    {
     "name": "stdout",
     "output_type": "stream",
     "text": [
      "7 있음\n"
     ]
    }
   ],
   "source": [
    "if result:\n",
    "    print(\"7 있음\")\n",
    "else:\n",
    "    print(\"7 없음\")"
   ]
  },
  {
   "cell_type": "code",
   "execution_count": 27,
   "id": "71d1ccf7",
   "metadata": {
    "ExecuteTime": {
     "end_time": "2022-12-22T03:25:46.263431Z",
     "start_time": "2022-12-22T03:25:46.245781Z"
    }
   },
   "outputs": [
    {
     "name": "stdout",
     "output_type": "stream",
     "text": [
      "7 있음\n"
     ]
    }
   ],
   "source": [
    "str_result = \"7 있음\" if result else \"7 없음\"\n",
    "print(str_result)"
   ]
  },
  {
   "cell_type": "code",
   "execution_count": 33,
   "id": "8c8ec212",
   "metadata": {
    "ExecuteTime": {
     "end_time": "2022-12-22T03:32:24.246400Z",
     "start_time": "2022-12-22T03:32:13.716245Z"
    }
   },
   "outputs": [
    {
     "name": "stdout",
     "output_type": "stream",
     "text": [
      "text: aaa\n",
      ">>aaa\n",
      "text: bb\n",
      ">>bb\n",
      "text: 안녕\n",
      ">>안녕\n",
      "text: 123123\n",
      ">>123123\n",
      "text: !q\n"
     ]
    }
   ],
   "source": [
    "# 사용자로 \"!q\"를 입력할 때 까지 글을 입력받아서 출력한다.\n",
    "\n",
    "while True:\n",
    "    txt = input(\"text: \")\n",
    "    if txt == \"!q\":\n",
    "        break\n",
    "    print(f\">>{txt}\")"
   ]
  },
  {
   "cell_type": "code",
   "execution_count": 34,
   "id": "bb795058",
   "metadata": {
    "ExecuteTime": {
     "end_time": "2022-12-22T03:34:26.404037Z",
     "start_time": "2022-12-22T03:34:21.425243Z"
    }
   },
   "outputs": [
    {
     "name": "stdout",
     "output_type": "stream",
     "text": [
      "text: advd\n",
      ">> advd\n",
      "text: !q\n"
     ]
    }
   ],
   "source": [
    "txt = input('text: ')\n",
    "while txt != '!q':\n",
    "    print(f\">> {txt}\")\n",
    "    txt = input(\"text: \")"
   ]
  },
  {
   "cell_type": "code",
   "execution_count": 37,
   "id": "b77ac50c",
   "metadata": {
    "ExecuteTime": {
     "end_time": "2022-12-22T03:42:12.359238Z",
     "start_time": "2022-12-22T03:42:12.346723Z"
    }
   },
   "outputs": [
    {
     "name": "stdout",
     "output_type": "stream",
     "text": [
      "1, 2, 3, \n",
      "10, 20, "
     ]
    }
   ],
   "source": [
    "# 중첩 반복문의 안쪽 반복문에서 전체 반복문을 멈추게(break) 하기 위한 로직.\n",
    "l = [[1,2,3], [10,20,30], [100,200,300]]\n",
    "# 20이 있으면 전체 반복을 멈춘다.\n",
    "is_finish = False # 전체 반복을 멈출지 여부 (True: 멈춤, False: 안멈춤)\n",
    "for v in l:\n",
    "    for value in v:\n",
    "        print(value, end= ', ')\n",
    "        if value == 20:\n",
    "            is_finish = True\n",
    "            break\n",
    "    if is_finish:\n",
    "        break\n",
    "    print()"
   ]
  },
  {
   "cell_type": "markdown",
   "id": "dc6099c5",
   "metadata": {
    "slideshow": {
     "slide_type": "slide"
    }
   },
   "source": [
    "## for in 문 연관 내장 함수\n",
    "\n",
    "### range()\n",
    "- 일정한 간격의 연속된 정수를 제공하는 반복가능 객체 생성한다.\n",
    "- 구문\n",
    "    - `range([시작값], 멈춤값, [증감값])`\n",
    "        - 시작값, 멈춤값, 증감값 모두 정수만 가능하다.\n",
    "        - 시작값 > 멈춤값 이고 증감값이 음수이면 내림차순으로 값을 제공한다.\n",
    "        1. 전달값이 **1개: 멈춤값**. \n",
    "            - 0 ~ (멈춤값-1)까지 1씩 증가하는 정수를 제공\n",
    "        2. 전달값이 **2개: 시작값, 멈춤값**. \n",
    "            - 시작값 ~ (멈춤값-1) 까지 1씩 증가하는 정수 제공\n",
    "        3. 전달값이 **3개: 시작값, 멈춤값, 증감값(간격)**. \n",
    "            - 시작값 ~ (멈춤값-1)까지 증감값만큼 증가하는 정수를 제공.\n"
   ]
  },
  {
   "cell_type": "code",
   "execution_count": 41,
   "id": "352d937b",
   "metadata": {
    "ExecuteTime": {
     "end_time": "2022-12-22T05:19:35.267955Z",
     "start_time": "2022-12-22T05:19:35.244910Z"
    },
    "slideshow": {
     "slide_type": "fragment"
    }
   },
   "outputs": [
    {
     "name": "stdout",
     "output_type": "stream",
     "text": [
      "<class 'range'>\n",
      "range(10, 101, 10)\n"
     ]
    },
    {
     "data": {
      "text/plain": [
       "[10, 20, 30, 40, 50, 60, 70, 80, 90, 100]"
      ]
     },
     "execution_count": 41,
     "metadata": {},
     "output_type": "execute_result"
    }
   ],
   "source": [
    "r = range(10, 101, 10)\n",
    "print(type(r))\n",
    "print(r)\n",
    "list(r)"
   ]
  },
  {
   "cell_type": "code",
   "execution_count": 42,
   "id": "2d304236",
   "metadata": {
    "ExecuteTime": {
     "end_time": "2022-12-22T05:19:51.391525Z",
     "start_time": "2022-12-22T05:19:51.367576Z"
    }
   },
   "outputs": [
    {
     "name": "stdout",
     "output_type": "stream",
     "text": [
      "10, 20, 30, 40, 50, 60, 70, 80, 90, "
     ]
    }
   ],
   "source": [
    "for i in range(10, 100, 10):\n",
    "    print(i, end=', ')"
   ]
  },
  {
   "cell_type": "code",
   "execution_count": 44,
   "id": "9dad8f1e",
   "metadata": {
    "ExecuteTime": {
     "end_time": "2022-12-22T05:20:10.182150Z",
     "start_time": "2022-12-22T05:20:10.163452Z"
    }
   },
   "outputs": [
    {
     "name": "stdout",
     "output_type": "stream",
     "text": [
      "10, 11, 12, 13, 14, "
     ]
    }
   ],
   "source": [
    "for i in range(10, 15):\n",
    "    print(i, end=\", \")"
   ]
  },
  {
   "cell_type": "code",
   "execution_count": 46,
   "id": "6d2499b5",
   "metadata": {
    "ExecuteTime": {
     "end_time": "2022-12-22T05:22:23.199588Z",
     "start_time": "2022-12-22T05:22:23.180846Z"
    }
   },
   "outputs": [
    {
     "name": "stdout",
     "output_type": "stream",
     "text": [
      "0, 1, 2, 3, 4, 5, 6, 7, 8, 9, "
     ]
    }
   ],
   "source": [
    "for i in range(10):  # end값\n",
    "    print(i, end=\", \")"
   ]
  },
  {
   "cell_type": "code",
   "execution_count": 47,
   "id": "92445a77",
   "metadata": {
    "ExecuteTime": {
     "end_time": "2022-12-22T05:22:43.660527Z",
     "start_time": "2022-12-22T05:22:43.643736Z"
    }
   },
   "outputs": [
    {
     "name": "stdout",
     "output_type": "stream",
     "text": [
      "100, 90, 80, 70, 60, 50, 40, 30, 20, 10, 0, "
     ]
    }
   ],
   "source": [
    "for i in range(100, -1, -10):\n",
    "    print(i, end= ', ')"
   ]
  },
  {
   "cell_type": "code",
   "execution_count": 49,
   "id": "e30218dd",
   "metadata": {
    "ExecuteTime": {
     "end_time": "2022-12-22T05:24:02.583326Z",
     "start_time": "2022-12-22T05:24:02.571774Z"
    }
   },
   "outputs": [
    {
     "name": "stdout",
     "output_type": "stream",
     "text": [
      "1. 안녕하세요\n",
      "2. 안녕하세요\n",
      "3. 안녕하세요\n",
      "4. 안녕하세요\n",
      "5. 안녕하세요\n",
      "6. 안녕하세요\n",
      "7. 안녕하세요\n",
      "8. 안녕하세요\n",
      "9. 안녕하세요\n",
      "10. 안녕하세요\n"
     ]
    }
   ],
   "source": [
    "# \"안녕하세요\" 를 10번 출력\n",
    "for i in range(10):\n",
    "    print(f\"{i+1}. 안녕하세요\")"
   ]
  },
  {
   "cell_type": "code",
   "execution_count": 50,
   "id": "f61becf2",
   "metadata": {
    "ExecuteTime": {
     "end_time": "2022-12-22T05:24:55.025181Z",
     "start_time": "2022-12-22T05:24:55.011058Z"
    }
   },
   "outputs": [
    {
     "name": "stdout",
     "output_type": "stream",
     "text": [
      "안녕하세요\n",
      "안녕하세요\n",
      "안녕하세요\n",
      "안녕하세요\n",
      "안녕하세요\n",
      "안녕하세요\n",
      "안녕하세요\n",
      "안녕하세요\n",
      "안녕하세요\n",
      "안녕하세요\n"
     ]
    }
   ],
   "source": [
    "# 변수명을 '_'를 사용하는 관례: 이 변수는 사용하지 않는데 구문상 어쩔 수 없이 넣었다.\n",
    "for _ in range(10):\n",
    "    print(\"안녕하세요\")"
   ]
  },
  {
   "cell_type": "code",
   "execution_count": 51,
   "id": "6951e2eb",
   "metadata": {
    "ExecuteTime": {
     "end_time": "2022-12-22T05:26:59.156589Z",
     "start_time": "2022-12-22T05:26:59.148991Z"
    }
   },
   "outputs": [],
   "source": [
    "a, b, _ = (1, 2, 3) # a, b는 사용할 변수, _는 사용안할 변수."
   ]
  },
  {
   "cell_type": "markdown",
   "id": "5de9d74e",
   "metadata": {
    "slideshow": {
     "slide_type": "subslide"
    }
   },
   "source": [
    "## enumerate()\n",
    "\n",
    "- 구문\n",
    "    - `enumerate(Iterable,  [, start=정수])`\n",
    "        - 현재 몇번째 값을 제공하는 지(현재 몇번째 반복인지)를 나타내는 **index**와 제공하는 **원소**를 tuple로 묶어서 반환\n",
    "        - Iterable\n",
    "            - 값을 제공할 Iterable객체\n",
    "        - start: 정수\n",
    "            - index 시작 값. 생략하면 0부터 시작한다."
   ]
  },
  {
   "cell_type": "code",
   "execution_count": 52,
   "id": "33dd96c5",
   "metadata": {
    "ExecuteTime": {
     "end_time": "2022-12-22T05:34:31.608675Z",
     "start_time": "2022-12-22T05:34:31.580923Z"
    },
    "slideshow": {
     "slide_type": "fragment"
    }
   },
   "outputs": [
    {
     "name": "stdout",
     "output_type": "stream",
     "text": [
      "(0, 10)\n",
      "(1, 20)\n",
      "(2, 30)\n",
      "(3, 40)\n",
      "(4, 50)\n",
      "********************\n",
      "(100, 10)\n",
      "(101, 20)\n",
      "(102, 30)\n",
      "(103, 40)\n",
      "(104, 50)\n"
     ]
    }
   ],
   "source": [
    "nums = [10, 20, 30, 40, 50]\n",
    "for value in enumerate(nums):\n",
    "    print(value)\n",
    "print(\"*\"*20)\n",
    "for value in enumerate(nums, start = 100):\n",
    "    print(value)"
   ]
  },
  {
   "cell_type": "code",
   "execution_count": 54,
   "id": "1396f2ed",
   "metadata": {
    "ExecuteTime": {
     "end_time": "2022-12-22T05:38:22.462797Z",
     "start_time": "2022-12-22T05:38:22.448238Z"
    }
   },
   "outputs": [
    {
     "name": "stdout",
     "output_type": "stream",
     "text": [
      "index: 0, value: 10\n",
      "index: 1, value: 20\n",
      "index: 2, value: 30\n",
      "index: 3, value: 40\n",
      "index: 4, value: 50\n"
     ]
    }
   ],
   "source": [
    "for value in enumerate(nums):\n",
    "    print(f\"index: {value[0]}, value: {value[1]}\")"
   ]
  },
  {
   "cell_type": "code",
   "execution_count": 55,
   "id": "a149848a",
   "metadata": {
    "ExecuteTime": {
     "end_time": "2022-12-22T05:39:13.938757Z",
     "start_time": "2022-12-22T05:39:13.925673Z"
    }
   },
   "outputs": [
    {
     "name": "stdout",
     "output_type": "stream",
     "text": [
      "1. 10\n",
      "2. 20\n",
      "3. 30\n",
      "4. 40\n",
      "5. 50\n"
     ]
    }
   ],
   "source": [
    "for index, value in enumerate(nums, start=1): #tuple 대입을 통해 각각의 변수에 따로 대입처리.\n",
    "    print(f\"{index}. {value}\")"
   ]
  },
  {
   "cell_type": "code",
   "execution_count": 58,
   "id": "f870b897",
   "metadata": {
    "ExecuteTime": {
     "end_time": "2022-12-22T05:43:08.789235Z",
     "start_time": "2022-12-22T05:43:08.759140Z"
    }
   },
   "outputs": [
    {
     "name": "stdout",
     "output_type": "stream",
     "text": [
      "0. 기록 남기기\n",
      "1000. 기록 남기기\n",
      "2000. 기록 남기기\n",
      "3000. 기록 남기기\n",
      "4000. 기록 남기기\n",
      "5000. 기록 남기기\n",
      "6000. 기록 남기기\n",
      "7000. 기록 남기기\n",
      "8000. 기록 남기기\n",
      "9000. 기록 남기기\n"
     ]
    }
   ],
   "source": [
    "for index, data in enumerate(range(10000)):\n",
    "    # 처리\n",
    "    # 처리에 대한 기록(log)을 저장 => 1000번에 한번씩\n",
    "    if index % 1000 == 0:\n",
    "        print(f'{index}. 기록 남기기')"
   ]
  },
  {
   "cell_type": "markdown",
   "id": "f5a5540f",
   "metadata": {
    "slideshow": {
     "slide_type": "subslide"
    }
   },
   "source": [
    "## zip()\n",
    "- 여러 개의 Iterable 객체를 받아 반복시 같은 index의 값끼리 튜플로 묶어 반환한다.\n",
    "- 구문\n",
    "    - `zip(Iterable1, Iterable2, Iterable3 [, .......])`\n",
    "        - Iterable 2개이상.전달한다.\n",
    "- 각 자료구조 객체의 크기가 다를 경우 크기가 작은 것의 개수에 맞춰 반복한다."
   ]
  },
  {
   "cell_type": "code",
   "execution_count": 63,
   "id": "1b99057f",
   "metadata": {
    "ExecuteTime": {
     "end_time": "2022-12-22T05:51:38.079500Z",
     "start_time": "2022-12-22T05:51:38.069046Z"
    },
    "slideshow": {
     "slide_type": "fragment"
    }
   },
   "outputs": [],
   "source": [
    "# 세명의 정보를 이름, 나이, 주소별로 따로 저장.\n",
    "# 같은 index의 값들이 한사람의 정보.\n",
    "names = ['이순신', '유관순', '강감찬']\n",
    "ages = [30, 36, 42]\n",
    "addresses = ['서울', '인천', '광주', '수원', '서울'] # 짝이 없는 것은 무시한다"
   ]
  },
  {
   "cell_type": "code",
   "execution_count": 64,
   "id": "f8238320",
   "metadata": {
    "ExecuteTime": {
     "end_time": "2022-12-22T05:51:39.230620Z",
     "start_time": "2022-12-22T05:51:39.210821Z"
    }
   },
   "outputs": [
    {
     "name": "stdout",
     "output_type": "stream",
     "text": [
      "<class 'tuple'> ('이순신', 30, '서울')\n",
      "<class 'tuple'> ('유관순', 36, '인천')\n",
      "<class 'tuple'> ('강감찬', 42, '광주')\n"
     ]
    }
   ],
   "source": [
    "# 같은 index의 값들을 튜플로 묶어서 제공\n",
    "for value in zip(names, ages, addresses):\n",
    "    print(type(value), value)"
   ]
  },
  {
   "cell_type": "code",
   "execution_count": 65,
   "id": "a28aeda0",
   "metadata": {
    "ExecuteTime": {
     "end_time": "2022-12-22T05:51:39.896208Z",
     "start_time": "2022-12-22T05:51:39.873978Z"
    }
   },
   "outputs": [
    {
     "name": "stdout",
     "output_type": "stream",
     "text": [
      "이름: 이순신, 나이: 30, 주소: 서울\n",
      "이름: 유관순, 나이: 36, 주소: 인천\n",
      "이름: 강감찬, 나이: 42, 주소: 광주\n"
     ]
    }
   ],
   "source": [
    "for name, age, address in zip(names, ages, addresses):\n",
    "    print(f\"이름: {name}, 나이: {age}, 주소: {address}\")"
   ]
  },
  {
   "cell_type": "markdown",
   "id": "2df89dae",
   "metadata": {
    "slideshow": {
     "slide_type": "subslide"
    }
   },
   "source": [
    "# 컴프리헨션(Comprehension)\n",
    "\n",
    "- 기존 Iterable의 원소들을 이용해서 새로운 자료구조(List, Dictionary, Set)를 생성하는 구문.\n",
    "    - 기존 Iterable의 **원소들을 처리한 결과**나  **특정 조건이 True인 값들을** 새로운 자료구조에 넣을때 사용.\n",
    "    - 결과를 넣을 새로운 자료구조에 따라 다음 세가지 구문이 있다.\n",
    "        - 리스트 컴프리헨션\n",
    "        - 딕셔너리  컴프리헨션\n",
    "        - 셋  컴프리헨션\n",
    "- 튜플 컴프리헨션은 없다.\n",
    "- 딕셔너리 컴프리헨션과 셋 컴프리헨션은 파이썬 3 에 새로 추가되었다."
   ]
  },
  {
   "cell_type": "code",
   "execution_count": 68,
   "id": "e04827d9",
   "metadata": {
    "ExecuteTime": {
     "end_time": "2022-12-22T06:18:06.656997Z",
     "start_time": "2022-12-22T06:18:06.632345Z"
    },
    "slideshow": {
     "slide_type": "fragment"
    }
   },
   "outputs": [
    {
     "name": "stdout",
     "output_type": "stream",
     "text": [
      "결과:  [10, 20, 30, 40, 50, 60, 70, 10, 20, 30]\n"
     ]
    }
   ],
   "source": [
    "l1 = [1, 2, 3, 4, 5, 6, 7, 1, 2, 3]\n",
    "# l1의 원소들을 10배한 결과를 가지는 리스트\n",
    "\n",
    "#for in \n",
    "result_list = []\n",
    "for value in l1:\n",
    "    result_list.append(value * 10)\n",
    "\n",
    "print(\"결과: \", result_list)"
   ]
  },
  {
   "cell_type": "code",
   "execution_count": 69,
   "id": "70b774e1",
   "metadata": {
    "ExecuteTime": {
     "end_time": "2022-12-22T06:18:06.812289Z",
     "start_time": "2022-12-22T06:18:06.795296Z"
    }
   },
   "outputs": [
    {
     "data": {
      "text/plain": [
       "[10, 20, 30, 40, 50, 60, 70, 10, 20, 30]"
      ]
     },
     "execution_count": 69,
     "metadata": {},
     "output_type": "execute_result"
    }
   ],
   "source": [
    "# 리스트 컴프리헨션\n",
    "[value*10 for value in l1]"
   ]
  },
  {
   "cell_type": "code",
   "execution_count": 70,
   "id": "6eb75dbb",
   "metadata": {
    "ExecuteTime": {
     "end_time": "2022-12-22T06:18:30.836213Z",
     "start_time": "2022-12-22T06:18:30.823717Z"
    }
   },
   "outputs": [
    {
     "data": {
      "text/plain": [
       "{10, 20, 30, 40, 50, 60, 70}"
      ]
     },
     "execution_count": 70,
     "metadata": {},
     "output_type": "execute_result"
    }
   ],
   "source": [
    "# 셋 컴프리헨션\n",
    "{value * 10 for value in l1}"
   ]
  },
  {
   "cell_type": "code",
   "execution_count": 71,
   "id": "10ca64ce",
   "metadata": {
    "ExecuteTime": {
     "end_time": "2022-12-22T06:20:35.537136Z",
     "start_time": "2022-12-22T06:20:35.520990Z"
    }
   },
   "outputs": [
    {
     "data": {
      "text/plain": [
       "{'key-0': 10,\n",
       " 'key-1': 20,\n",
       " 'key-2': 30,\n",
       " 'key-3': 40,\n",
       " 'key-4': 50,\n",
       " 'key-5': 60,\n",
       " 'key-6': 70,\n",
       " 'key-7': 10,\n",
       " 'key-8': 20,\n",
       " 'key-9': 30}"
      ]
     },
     "execution_count": 71,
     "metadata": {},
     "output_type": "execute_result"
    }
   ],
   "source": [
    "result_dict = {}\n",
    "for index, value in enumerate(l1):\n",
    "    result_dict[f\"key-{index}\"] = value * 10\n",
    "result_dict"
   ]
  },
  {
   "cell_type": "code",
   "execution_count": 73,
   "id": "b4b69b58",
   "metadata": {
    "ExecuteTime": {
     "end_time": "2022-12-22T06:22:23.085321Z",
     "start_time": "2022-12-22T06:22:23.062147Z"
    }
   },
   "outputs": [
    {
     "data": {
      "text/plain": [
       "{'key-0': 10,\n",
       " 'key-1': 20,\n",
       " 'key-2': 30,\n",
       " 'key-3': 40,\n",
       " 'key-4': 50,\n",
       " 'key-5': 60,\n",
       " 'key-6': 70,\n",
       " 'key-7': 10,\n",
       " 'key-8': 20,\n",
       " 'key-9': 30}"
      ]
     },
     "execution_count": 73,
     "metadata": {},
     "output_type": "execute_result"
    }
   ],
   "source": [
    "# 딕셔너리 컴프리헨션\n",
    "{f\"key-{index}\":value*10 for index, value in enumerate(l1)}"
   ]
  },
  {
   "cell_type": "code",
   "execution_count": null,
   "id": "ce4436f2",
   "metadata": {},
   "outputs": [],
   "source": [
    "# 일괄처리 기법 => map(각 값들과 처리함수-연산을 연결해서 처리.)"
   ]
  },
  {
   "cell_type": "code",
   "execution_count": 74,
   "id": "f899cfff",
   "metadata": {
    "ExecuteTime": {
     "end_time": "2022-12-22T06:30:58.245640Z",
     "start_time": "2022-12-22T06:30:58.224516Z"
    }
   },
   "outputs": [
    {
     "data": {
      "text/plain": [
       "[2,\n",
       " 4,\n",
       " 6,\n",
       " 8,\n",
       " 10,\n",
       " 12,\n",
       " 14,\n",
       " 16,\n",
       " 18,\n",
       " 20,\n",
       " 22,\n",
       " 24,\n",
       " 26,\n",
       " 28,\n",
       " 30,\n",
       " 32,\n",
       " 34,\n",
       " 36,\n",
       " 38,\n",
       " 40,\n",
       " 42,\n",
       " 44,\n",
       " 46,\n",
       " 48,\n",
       " 50,\n",
       " 52,\n",
       " 54,\n",
       " 56,\n",
       " 58,\n",
       " 60,\n",
       " 62,\n",
       " 64,\n",
       " 66,\n",
       " 68,\n",
       " 70,\n",
       " 72,\n",
       " 74,\n",
       " 76,\n",
       " 78,\n",
       " 80,\n",
       " 82,\n",
       " 84,\n",
       " 86,\n",
       " 88,\n",
       " 90,\n",
       " 92,\n",
       " 94,\n",
       " 96,\n",
       " 98]"
      ]
     },
     "execution_count": 74,
     "metadata": {},
     "output_type": "execute_result"
    }
   ],
   "source": [
    "l2 = list(range(1, 100))\n",
    "# l2의 값들중에 짝수만 찾아서 리스트에 담는다. ==> 값들중에서 특정 조건이 True인 값들만 걸러내는 처리 ==> filter\n",
    "result_list2 = []\n",
    "for value in l2:\n",
    "    if value %2 == 0:\n",
    "        result_list2.append(value)\n",
    "result_list2"
   ]
  },
  {
   "cell_type": "code",
   "execution_count": 75,
   "id": "54fb889b",
   "metadata": {
    "ExecuteTime": {
     "end_time": "2022-12-22T06:33:04.028468Z",
     "start_time": "2022-12-22T06:33:04.001795Z"
    },
    "scrolled": true
   },
   "outputs": [
    {
     "data": {
      "text/plain": [
       "[2,\n",
       " 4,\n",
       " 6,\n",
       " 8,\n",
       " 10,\n",
       " 12,\n",
       " 14,\n",
       " 16,\n",
       " 18,\n",
       " 20,\n",
       " 22,\n",
       " 24,\n",
       " 26,\n",
       " 28,\n",
       " 30,\n",
       " 32,\n",
       " 34,\n",
       " 36,\n",
       " 38,\n",
       " 40,\n",
       " 42,\n",
       " 44,\n",
       " 46,\n",
       " 48,\n",
       " 50,\n",
       " 52,\n",
       " 54,\n",
       " 56,\n",
       " 58,\n",
       " 60,\n",
       " 62,\n",
       " 64,\n",
       " 66,\n",
       " 68,\n",
       " 70,\n",
       " 72,\n",
       " 74,\n",
       " 76,\n",
       " 78,\n",
       " 80,\n",
       " 82,\n",
       " 84,\n",
       " 86,\n",
       " 88,\n",
       " 90,\n",
       " 92,\n",
       " 94,\n",
       " 96,\n",
       " 98]"
      ]
     },
     "execution_count": 75,
     "metadata": {},
     "output_type": "execute_result"
    }
   ],
   "source": [
    "[value for value in l2 if value % 2 == 0]"
   ]
  },
  {
   "cell_type": "code",
   "execution_count": 76,
   "id": "a0d0c83a",
   "metadata": {
    "ExecuteTime": {
     "end_time": "2022-12-22T06:33:26.739509Z",
     "start_time": "2022-12-22T06:33:26.726432Z"
    },
    "scrolled": true
   },
   "outputs": [
    {
     "data": {
      "text/plain": [
       "{2,\n",
       " 4,\n",
       " 6,\n",
       " 8,\n",
       " 10,\n",
       " 12,\n",
       " 14,\n",
       " 16,\n",
       " 18,\n",
       " 20,\n",
       " 22,\n",
       " 24,\n",
       " 26,\n",
       " 28,\n",
       " 30,\n",
       " 32,\n",
       " 34,\n",
       " 36,\n",
       " 38,\n",
       " 40,\n",
       " 42,\n",
       " 44,\n",
       " 46,\n",
       " 48,\n",
       " 50,\n",
       " 52,\n",
       " 54,\n",
       " 56,\n",
       " 58,\n",
       " 60,\n",
       " 62,\n",
       " 64,\n",
       " 66,\n",
       " 68,\n",
       " 70,\n",
       " 72,\n",
       " 74,\n",
       " 76,\n",
       " 78,\n",
       " 80,\n",
       " 82,\n",
       " 84,\n",
       " 86,\n",
       " 88,\n",
       " 90,\n",
       " 92,\n",
       " 94,\n",
       " 96,\n",
       " 98}"
      ]
     },
     "execution_count": 76,
     "metadata": {},
     "output_type": "execute_result"
    }
   ],
   "source": [
    "{value for value in l2 if value % 2 == 0}"
   ]
  },
  {
   "cell_type": "code",
   "execution_count": 77,
   "id": "c434ce96",
   "metadata": {
    "ExecuteTime": {
     "end_time": "2022-12-22T06:33:47.751735Z",
     "start_time": "2022-12-22T06:33:47.725954Z"
    },
    "scrolled": true
   },
   "outputs": [
    {
     "data": {
      "text/plain": [
       "{2: 2,\n",
       " 4: 4,\n",
       " 6: 6,\n",
       " 8: 8,\n",
       " 10: 10,\n",
       " 12: 12,\n",
       " 14: 14,\n",
       " 16: 16,\n",
       " 18: 18,\n",
       " 20: 20,\n",
       " 22: 22,\n",
       " 24: 24,\n",
       " 26: 26,\n",
       " 28: 28,\n",
       " 30: 30,\n",
       " 32: 32,\n",
       " 34: 34,\n",
       " 36: 36,\n",
       " 38: 38,\n",
       " 40: 40,\n",
       " 42: 42,\n",
       " 44: 44,\n",
       " 46: 46,\n",
       " 48: 48,\n",
       " 50: 50,\n",
       " 52: 52,\n",
       " 54: 54,\n",
       " 56: 56,\n",
       " 58: 58,\n",
       " 60: 60,\n",
       " 62: 62,\n",
       " 64: 64,\n",
       " 66: 66,\n",
       " 68: 68,\n",
       " 70: 70,\n",
       " 72: 72,\n",
       " 74: 74,\n",
       " 76: 76,\n",
       " 78: 78,\n",
       " 80: 80,\n",
       " 82: 82,\n",
       " 84: 84,\n",
       " 86: 86,\n",
       " 88: 88,\n",
       " 90: 90,\n",
       " 92: 92,\n",
       " 94: 94,\n",
       " 96: 96,\n",
       " 98: 98}"
      ]
     },
     "execution_count": 77,
     "metadata": {},
     "output_type": "execute_result"
    }
   ],
   "source": [
    "{value:value for value in l2 if value % 2 == 0}"
   ]
  },
  {
   "cell_type": "code",
   "execution_count": 78,
   "id": "41a9deb9",
   "metadata": {
    "ExecuteTime": {
     "end_time": "2022-12-22T06:36:10.091037Z",
     "start_time": "2022-12-22T06:36:10.072006Z"
    },
    "scrolled": true
   },
   "outputs": [
    {
     "data": {
      "text/plain": [
       "[0.1, 0.2, 0.3, 0.4, 0.5, 0.6, 0.7, 0.8, 0.9]"
      ]
     },
     "execution_count": 78,
     "metadata": {},
     "output_type": "execute_result"
    }
   ],
   "source": [
    "# l2의 값들중에 10의 배수만 찾아서 100으로 나눈 값을 리스트에 담는다. -> filter/map\n",
    "[value/100 for value in l2 if not value % 10]"
   ]
  },
  {
   "cell_type": "code",
   "execution_count": 79,
   "id": "1dafb7f9",
   "metadata": {
    "ExecuteTime": {
     "end_time": "2022-12-22T06:38:10.923407Z",
     "start_time": "2022-12-22T06:38:10.905304Z"
    }
   },
   "outputs": [
    {
     "data": {
      "text/plain": [
       "['abc', 'abb', 'ddfddd', 'dadcef']"
      ]
     },
     "execution_count": 79,
     "metadata": {},
     "output_type": "execute_result"
    }
   ],
   "source": [
    "l3 = ('Abc', 'aBB', 'DDfddd', 'Dadcef')\n",
    "# l3의 모든 문자열을 소문자로 변환한 결과를 리스트에 담기\n",
    "[value.lower() for value in l3]"
   ]
  },
  {
   "cell_type": "code",
   "execution_count": 81,
   "id": "b6658a46",
   "metadata": {
    "ExecuteTime": {
     "end_time": "2022-12-22T06:41:57.067684Z",
     "start_time": "2022-12-22T06:41:57.050429Z"
    }
   },
   "outputs": [
    {
     "data": {
      "text/plain": [
       "{'Abc': 3, 'aBB': 3, 'DDfddd': 6, 'Dadcef': 6}"
      ]
     },
     "execution_count": 81,
     "metadata": {},
     "output_type": "execute_result"
    }
   ],
   "source": [
    "# l3의 문자열의 글자수를 문자열:글자수 형식의 딕셔너리로 저장\n",
    "{txt:len(txt) for txt in l3}"
   ]
  },
  {
   "cell_type": "code",
   "execution_count": 82,
   "id": "d29c8b53",
   "metadata": {
    "ExecuteTime": {
     "end_time": "2022-12-22T06:42:13.197787Z",
     "start_time": "2022-12-22T06:42:13.178851Z"
    }
   },
   "outputs": [
    {
     "data": {
      "text/plain": [
       "{'DDfddd': 6, 'Dadcef': 6}"
      ]
     },
     "execution_count": 82,
     "metadata": {},
     "output_type": "execute_result"
    }
   ],
   "source": [
    "{txt:len(txt) for txt in l3 if len(txt) > 5}"
   ]
  },
  {
   "cell_type": "code",
   "execution_count": 85,
   "id": "c714c42a",
   "metadata": {
    "ExecuteTime": {
     "end_time": "2022-12-22T06:47:35.109774Z",
     "start_time": "2022-12-22T06:47:35.095685Z"
    }
   },
   "outputs": [
    {
     "data": {
      "text/plain": [
       "[10, 20, 30, 40, 50, 60, 70, 80, 90, 100]"
      ]
     },
     "execution_count": 85,
     "metadata": {},
     "output_type": "execute_result"
    }
   ],
   "source": [
    "l4 = [[1, 2, 3, 4, 5], [6, 7, 8, 9, 10]]\n",
    "result_list3 = []\n",
    "for lst in l4:\n",
    "    for value in lst:\n",
    "        result_list3.append(value*10)\n",
    "result_list3"
   ]
  },
  {
   "cell_type": "code",
   "execution_count": 86,
   "id": "be13f3a7",
   "metadata": {
    "ExecuteTime": {
     "end_time": "2022-12-22T07:10:39.059352Z",
     "start_time": "2022-12-22T07:10:39.034679Z"
    }
   },
   "outputs": [
    {
     "data": {
      "text/plain": [
       "[50, 100]"
      ]
     },
     "execution_count": 86,
     "metadata": {},
     "output_type": "execute_result"
    }
   ],
   "source": [
    "[value* 10 for lst in l4 for value in lst if value % 5 == 0]"
   ]
  },
  {
   "cell_type": "markdown",
   "id": "092288d7",
   "metadata": {
    "slideshow": {
     "slide_type": "skip"
    }
   },
   "source": [
    "# TODO"
   ]
  },
  {
   "cell_type": "code",
   "execution_count": 130,
   "id": "dd1d62d6",
   "metadata": {
    "ExecuteTime": {
     "end_time": "2022-12-22T08:11:23.275478Z",
     "start_time": "2022-12-22T08:11:00.519727Z"
    },
    "slideshow": {
     "slide_type": "skip"
    }
   },
   "outputs": [
    {
     "name": "stdout",
     "output_type": "stream",
     "text": [
      "변환할 점수: 20\n",
      "F학점\n"
     ]
    }
   ],
   "source": [
    "#(1) 다음 점수 구간에 맞게 학점을 출력하세요.\n",
    "# 91 ~ 100 : A학점\n",
    "# 81 ~ 90 :  B학점\n",
    "# 71 ~ 80 :  C학점\n",
    "# 61 ~ 70 :  D학점\n",
    "# 60이하   :  F학점\n",
    "\n",
    "score = int(input(\"변환할 점수: \"))\n",
    "if score < 0 or score > 100:\n",
    "    print(f\"{score}는 변환할 수 없는 점수입니다. 0 ~ 100사이의 값을 넣으세요.\")\n",
    "elif 90 < score:\n",
    "    print(\"A학점\")\n",
    "elif 80 < score:\n",
    "    print(\"B학점\")\n",
    "elif 70 < score:\n",
    "    print(\"C학점\")\n",
    "elif 60 < score:\n",
    "    print(\"D학점\")\n",
    "else:\n",
    "    print(\"F학점\")"
   ]
  },
  {
   "cell_type": "code",
   "execution_count": 88,
   "id": "8a481ded",
   "metadata": {
    "ExecuteTime": {
     "end_time": "2022-12-22T07:18:41.861842Z",
     "start_time": "2022-12-22T07:18:41.850664Z"
    },
    "slideshow": {
     "slide_type": "skip"
    }
   },
   "outputs": [],
   "source": [
    "#(2) 사용자로 부터 ID를 입력 받은 뒤 입력받은 ID가 5글자 이상이면 \"사용할 수 있습니다.\"를 5글자 미만이면 \"사용할 수 없는 ID입니다.\"를 출력하세요.\n",
    "\n",
    "id_input = input(\"ID를 입력해주세요: \")\n",
    "if len(id_input) >= 5:\n",
    "    print(\"사용할 수 있습니다.\")\n",
    "else:\n",
    "    print(\"사용할 수 없는 ID입니다.\")"
   ]
  },
  {
   "cell_type": "code",
   "execution_count": 132,
   "id": "0e58761b",
   "metadata": {
    "ExecuteTime": {
     "end_time": "2022-12-22T08:18:04.998732Z",
     "start_time": "2022-12-22T08:18:01.944085Z"
    },
    "slideshow": {
     "slide_type": "skip"
    }
   },
   "outputs": [
    {
     "name": "stdout",
     "output_type": "stream",
     "text": [
      "도시명:     서울\n",
      "특별시\n"
     ]
    }
   ],
   "source": [
    "#(3) 사용자로부터 우리나라 도시명을 입력 받은 뒤 입력받은 도시명이 서울이면 \"특별시\"를 인천,부산,광주,대구,대전,울산 이면 \"광역시\"를 나머지는 \"특별시나 광역시가 아닙니다.\"를 출력하세요.\n",
    "\n",
    "city = input(\"도시명: \").strip() # -> 공백이 있더라도 인식할 수 있음\n",
    "if city == \"서울\":\n",
    "    print(\"특별시\")\n",
    "elif city in [\"인천\", \"부산\", \"광주\", \"대구\", \"대전\", \"울산\"]:\n",
    "    print(\"광역시\")\n",
    "else:\n",
    "    print(\"특별시나 광역시가 아닙니다\")"
   ]
  },
  {
   "cell_type": "code",
   "execution_count": 138,
   "id": "2b65082b",
   "metadata": {
    "ExecuteTime": {
     "end_time": "2022-12-22T08:27:49.673618Z",
     "start_time": "2022-12-22T08:27:49.654799Z"
    },
    "slideshow": {
     "slide_type": "skip"
    }
   },
   "outputs": [
    {
     "name": "stdout",
     "output_type": "stream",
     "text": [
      "89.0\n"
     ]
    }
   ],
   "source": [
    "#(4) 아래 리스트의 평균을 구하시오. \n",
    "jumsu = [100, 90, 100, 80, 70, 100, 80, 90, 95, 85]\n",
    "\n",
    "s = 0\n",
    "\n",
    "for i in jumsu:\n",
    "    s += i\n",
    "\n",
    "avg = s/len(jumsu)\n",
    "print(avg)"
   ]
  },
  {
   "cell_type": "code",
   "execution_count": 139,
   "id": "9c55c581",
   "metadata": {
    "ExecuteTime": {
     "end_time": "2022-12-22T08:27:50.141049Z",
     "start_time": "2022-12-22T08:27:50.119656Z"
    }
   },
   "outputs": [
    {
     "data": {
      "text/plain": [
       "890"
      ]
     },
     "execution_count": 139,
     "metadata": {},
     "output_type": "execute_result"
    }
   ],
   "source": [
    "sum(jumsu)"
   ]
  },
  {
   "cell_type": "code",
   "execution_count": 142,
   "id": "8a657f69",
   "metadata": {
    "ExecuteTime": {
     "end_time": "2022-12-22T08:28:16.693345Z",
     "start_time": "2022-12-22T08:28:16.669730Z"
    },
    "slideshow": {
     "slide_type": "skip"
    }
   },
   "outputs": [
    {
     "name": "stdout",
     "output_type": "stream",
     "text": [
      "0-pass\n",
      "1-pass\n",
      "2-pass\n",
      "3-fail\n",
      "4-fail\n",
      "5-pass\n",
      "6-fail\n",
      "7-pass\n",
      "8-pass\n",
      "9-fail\n"
     ]
    }
   ],
   "source": [
    "#(5) 위 jumsu리스트에서 평균점수이상은 pass, 미만은 fail을 index번호와 함께 출력하시오. (ex: 0-pass, 1-pass, 2-fail)\n",
    "\n",
    "for index, value in enumerate(jumsu):\n",
    "    if value >= avg:\n",
    "        print(f\"{index}-pass\")\n",
    "    else:\n",
    "        print(f\"{index}-fail\")"
   ]
  },
  {
   "cell_type": "code",
   "execution_count": 143,
   "id": "0b9f7950",
   "metadata": {
    "ExecuteTime": {
     "end_time": "2022-12-22T08:28:20.195418Z",
     "start_time": "2022-12-22T08:28:20.184911Z"
    }
   },
   "outputs": [
    {
     "name": "stdout",
     "output_type": "stream",
     "text": [
      "0 - Pass\n",
      "1 - Pass\n",
      "2 - Pass\n",
      "3 - Fail\n",
      "4 - Fail\n",
      "5 - Pass\n",
      "6 - Fail\n",
      "7 - Pass\n",
      "8 - Pass\n",
      "9 - Fail\n"
     ]
    }
   ],
   "source": [
    "for index, value in enumerate(jumsu):\n",
    "    print(f'{index} - {\"Pass\" if value >= avg else \"Fail\"}')"
   ]
  },
  {
   "cell_type": "code",
   "execution_count": 144,
   "id": "8b21e323",
   "metadata": {
    "ExecuteTime": {
     "end_time": "2022-12-22T08:30:15.762658Z",
     "start_time": "2022-12-22T08:30:15.739250Z"
    },
    "slideshow": {
     "slide_type": "skip"
    }
   },
   "outputs": [
    {
     "name": "stdout",
     "output_type": "stream",
     "text": [
      "최대값:  95\n"
     ]
    }
   ],
   "source": [
    "#(6) 아래 리스트 값들 중 최대값을 조회해 출력\n",
    "jumsu = [60, 90, 80, 80, 70, 55, 80, 90, 95, 85]\n",
    "\n",
    "maximum = 0  # 최대값을 저장할 변수, 각각의 원소들을 이 변수 값과 비교해서 큰 값으로 이 변수값을 변경\n",
    "for i in jumsu:\n",
    "    if maximum < i:\n",
    "        maximum = i\n",
    "print(\"최대값: \", maximum)"
   ]
  },
  {
   "cell_type": "code",
   "execution_count": 145,
   "id": "152a5ba2",
   "metadata": {
    "ExecuteTime": {
     "end_time": "2022-12-22T08:30:55.659959Z",
     "start_time": "2022-12-22T08:30:55.638271Z"
    }
   },
   "outputs": [
    {
     "data": {
      "text/plain": [
       "(55, 95)"
      ]
     },
     "execution_count": 145,
     "metadata": {},
     "output_type": "execute_result"
    }
   ],
   "source": [
    "min(jumsu), max(jumsu)  # 최소값, 최대값을 찾는 함수"
   ]
  },
  {
   "cell_type": "code",
   "execution_count": 146,
   "id": "8727e6d4",
   "metadata": {
    "ExecuteTime": {
     "end_time": "2022-12-22T08:32:55.568563Z",
     "start_time": "2022-12-22T08:32:55.550476Z"
    },
    "slideshow": {
     "slide_type": "skip"
    }
   },
   "outputs": [
    {
     "name": "stdout",
     "output_type": "stream",
     "text": [
      "소\n",
      "호랑이\n",
      "용\n",
      "뱀\n"
     ]
    }
   ],
   "source": [
    "#(7) 다음 리스트 중에서 \"쥐\"와 \"토끼\" 제외한 나머지를 출력하세요.\n",
    "str_list = [\"쥐\", \"소\", \"호랑이\", \"토끼\", \"용\", \"뱀\"]\n",
    "\n",
    "for value in str_list:\n",
    "    if value in ['쥐', '토끼']:\n",
    "        continue\n",
    "    print(value)"
   ]
  },
  {
   "cell_type": "code",
   "execution_count": 147,
   "id": "5b794142",
   "metadata": {
    "ExecuteTime": {
     "end_time": "2022-12-22T08:33:17.109399Z",
     "start_time": "2022-12-22T08:33:17.091782Z"
    }
   },
   "outputs": [
    {
     "name": "stdout",
     "output_type": "stream",
     "text": [
      "소\n",
      "호랑이\n",
      "용\n",
      "뱀\n"
     ]
    }
   ],
   "source": [
    "for value in str_list:\n",
    "    if value not in ['쥐', '토끼']:\n",
    "        print(value)"
   ]
  },
  {
   "cell_type": "code",
   "execution_count": 110,
   "id": "a0633dcc",
   "metadata": {
    "ExecuteTime": {
     "end_time": "2022-12-22T07:36:57.463650Z",
     "start_time": "2022-12-22T07:36:56.323434Z"
    },
    "slideshow": {
     "slide_type": "skip"
    }
   },
   "outputs": [
    {
     "name": "stdout",
     "output_type": "stream",
     "text": [
      "단을 입력하시오 : 2\n",
      "2 X 1 = 2\n",
      "2 X 2 = 4\n",
      "2 X 3 = 6\n",
      "2 X 4 = 8\n",
      "2 X 5 = 10\n",
      "2 X 6 = 12\n",
      "2 X 7 = 14\n",
      "2 X 8 = 16\n",
      "2 X 9 = 18\n"
     ]
    }
   ],
   "source": [
    "#(8) 사용자로부터 정수를 입력받아 그 단의 구구단을 출력하시오. \n",
    "# ex) 단을 입력하시오 : 2  \n",
    "# 2 x 1 = 2\n",
    "# 2 x 2 = 4\n",
    "#..\n",
    "# 2 x 9 = 18\n",
    "\n",
    "num = int(input(\"단을 입력하시오 : \"))\n",
    "for i in range(9):\n",
    "    print(f\"{num} X {i+1} = {num*(i+1)}\")"
   ]
  },
  {
   "cell_type": "code",
   "execution_count": 100,
   "id": "d275d83d",
   "metadata": {
    "ExecuteTime": {
     "end_time": "2022-12-22T07:27:54.175127Z",
     "start_time": "2022-12-22T07:27:54.162600Z"
    },
    "slideshow": {
     "slide_type": "skip"
    }
   },
   "outputs": [
    {
     "data": {
      "text/plain": [
       "[20, 60, 140, 10, 240, 1400, 2, 70]"
      ]
     },
     "execution_count": 100,
     "metadata": {},
     "output_type": "execute_result"
    }
   ],
   "source": [
    "#컴프리헨션\n",
    "\n",
    "#(9) 다음 리스트가 가진 값에 두배(* 2)를 가지는 새로운 리스트를 만드시오. (리스트 컴프리헨션 이용)\n",
    "lst = [10, 30, 70, 5, 120, 700, 1, 35]\n",
    "\n",
    "[value*2 for value in lst]"
   ]
  },
  {
   "cell_type": "code",
   "execution_count": 101,
   "id": "5707fa02",
   "metadata": {
    "ExecuteTime": {
     "end_time": "2022-12-22T07:28:26.101714Z",
     "start_time": "2022-12-22T07:28:26.089140Z"
    },
    "slideshow": {
     "slide_type": "skip"
    }
   },
   "outputs": [
    {
     "data": {
      "text/plain": [
       "[(10, 100),\n",
       " (30, 300),\n",
       " (70, 700),\n",
       " (5, 50),\n",
       " (5, 50),\n",
       " (120, 1200),\n",
       " (700, 7000),\n",
       " (1, 10),\n",
       " (35, 350),\n",
       " (35, 350)]"
      ]
     },
     "execution_count": 101,
     "metadata": {},
     "output_type": "execute_result"
    }
   ],
   "source": [
    "#(10) 다음 리스트가 가진 값에 10배의 값을 가지는 값을 (원래값, 10배값) 의 튜플 묶음으로 가지는 리스트를 만드시오 (리스트 컴프리헨션 이용)\n",
    "# Ex) [(10,100), (30,300), .., (35, 350)]\n",
    "lst = [10, 30, 70, 5, 5, 120, 700, 1, 35, 35]\n",
    "\n",
    "[(value, value*10) for value in lst]"
   ]
  },
  {
   "cell_type": "code",
   "execution_count": 102,
   "id": "822b6b54",
   "metadata": {
    "ExecuteTime": {
     "end_time": "2022-12-22T07:29:10.443885Z",
     "start_time": "2022-12-22T07:29:10.426834Z"
    },
    "slideshow": {
     "slide_type": "skip"
    }
   },
   "outputs": [
    {
     "data": {
      "text/plain": [
       "[3, 33, 21, 33, 60, 120]"
      ]
     },
     "execution_count": 102,
     "metadata": {},
     "output_type": "execute_result"
    }
   ],
   "source": [
    "#(11) 다음 리스트가 가진 값들 중 3의 배수만 가지는 리스트를 만드시오. (리스트 컴프리헨션 이용)\n",
    "lst2 = [ 3, 20, 33, 21, 33, 8, 11, 10, 7, 17, 60, 120, 2]\n",
    "\n",
    "[value for value in lst2 if value % 3 == 0]"
   ]
  },
  {
   "cell_type": "code",
   "execution_count": 148,
   "id": "5c65a4f9",
   "metadata": {
    "ExecuteTime": {
     "end_time": "2022-12-22T08:41:32.786041Z",
     "start_time": "2022-12-22T08:41:32.767402Z"
    },
    "slideshow": {
     "slide_type": "skip"
    }
   },
   "outputs": [
    {
     "data": {
      "text/plain": [
       "['a.exe', 'function.exe', 'b.exe', 'run.exe']"
      ]
     },
     "execution_count": 148,
     "metadata": {},
     "output_type": "execute_result"
    }
   ],
   "source": [
    "#(12) 다음 파일이름들을 담은 리스트에서 확장자가 exe인 파일만 골라서 새로운 리스트에 담으시오.(string의 endswith()함수 이용)\n",
    "file_name=[\"test.txt\", \"a.exe\", \"jupyter.bat\", \"function.exe\", \"b.exe\", \"cat.jpg\", \"dog.png\", \"run.exe\", \"i.dll\"]\n",
    "\n",
    "[file for file in file_name if file.endswith('.exe')]"
   ]
  },
  {
   "cell_type": "code",
   "execution_count": 149,
   "id": "b09bc5a5",
   "metadata": {
    "ExecuteTime": {
     "end_time": "2022-12-22T08:42:44.336742Z",
     "start_time": "2022-12-22T08:42:44.318931Z"
    },
    "slideshow": {
     "slide_type": "skip"
    }
   },
   "outputs": [
    {
     "data": {
      "text/plain": [
       "[('mystroy.txt', 11), ('jupyter.bat', 11), ('function.exe', 12)]"
      ]
     },
     "execution_count": 149,
     "metadata": {},
     "output_type": "execute_result"
    }
   ],
   "source": [
    "#(13) 다음 중 10글자 이상인 파일명(확장자포함)만 가지는 리스트를 만드시오.\n",
    "file_name=[\"mystroy.txt\", \"a.exe\", \"jupyter.bat\", \"function.exe\", \"b.exe\", \"cat.jpg\", \"dog.png\", \"run.exe\", \"i.dll\"]\n",
    "\n",
    "[(value, len(value)) for value in file_name if len(value) >= 10]"
   ]
  },
  {
   "cell_type": "code",
   "execution_count": 152,
   "id": "a9ddcda1",
   "metadata": {
    "ExecuteTime": {
     "end_time": "2022-12-22T08:45:00.584718Z",
     "start_time": "2022-12-22T08:45:00.569636Z"
    }
   },
   "outputs": [
    {
     "data": {
      "text/plain": [
       "['mystroy.txt', 'jupyter.bat', 'function.exe']"
      ]
     },
     "execution_count": 152,
     "metadata": {},
     "output_type": "execute_result"
    }
   ],
   "source": [
    "# 확장자를 뺀 파일 명이 5글자 이상인 파일들.\n",
    "[file for file in file_name if len(file.split('.')[0]) >= 5]"
   ]
  },
  {
   "cell_type": "code",
   "execution_count": 153,
   "id": "a0cc04fa",
   "metadata": {
    "ExecuteTime": {
     "end_time": "2022-12-22T08:47:15.021608Z",
     "start_time": "2022-12-22T08:47:14.994441Z"
    },
    "slideshow": {
     "slide_type": "skip"
    }
   },
   "outputs": [
    {
     "data": {
      "text/plain": [
       "['c', 'g', 'h', 'k']"
      ]
     },
     "execution_count": 153,
     "metadata": {},
     "output_type": "execute_result"
    }
   ],
   "source": [
    "#(14) 다음 리스트에서 소문자만 가지는 새로운 리스트를 만드시오.\n",
    "str_list = [\"A\", \"B\", \"c\", \"D\", \"E\", \"F\", \"g\", \"h\", \"I\", \"J\", \"k\"]\n",
    "\n",
    "[value for value in str_list if value.islower()]"
   ]
  },
  {
   "cell_type": "code",
   "execution_count": 154,
   "id": "18b1e7c1",
   "metadata": {
    "ExecuteTime": {
     "end_time": "2022-12-22T08:47:23.246781Z",
     "start_time": "2022-12-22T08:47:23.236228Z"
    }
   },
   "outputs": [
    {
     "data": {
      "text/plain": [
       "['A', 'B', 'D', 'E', 'F', 'I', 'J']"
      ]
     },
     "execution_count": 154,
     "metadata": {},
     "output_type": "execute_result"
    }
   ],
   "source": [
    "[value for value in str_list if value.isupper()]"
   ]
  }
 ],
 "metadata": {
  "celltoolbar": "Slideshow",
  "kernelspec": {
   "display_name": "Python 3 (ipykernel)",
   "language": "python",
   "name": "python3"
  },
  "language_info": {
   "codemirror_mode": {
    "name": "ipython",
    "version": 3
   },
   "file_extension": ".py",
   "mimetype": "text/x-python",
   "name": "python",
   "nbconvert_exporter": "python",
   "pygments_lexer": "ipython3",
   "version": "3.9.13"
  },
  "toc": {
   "base_numbering": 1,
   "nav_menu": {},
   "number_sections": true,
   "sideBar": true,
   "skip_h1_title": false,
   "title_cell": "Table of Contents",
   "title_sidebar": "Contents",
   "toc_cell": false,
   "toc_position": {},
   "toc_section_display": true,
   "toc_window_display": false
  },
  "varInspector": {
   "cols": {
    "lenName": 16,
    "lenType": 16,
    "lenVar": 40
   },
   "kernels_config": {
    "python": {
     "delete_cmd_postfix": "",
     "delete_cmd_prefix": "del ",
     "library": "var_list.py",
     "varRefreshCmd": "print(var_dic_list())"
    },
    "r": {
     "delete_cmd_postfix": ") ",
     "delete_cmd_prefix": "rm(",
     "library": "var_list.r",
     "varRefreshCmd": "cat(var_dic_list()) "
    }
   },
   "types_to_exclude": [
    "module",
    "function",
    "builtin_function_or_method",
    "instance",
    "_Feature"
   ],
   "window_display": false
  }
 },
 "nbformat": 4,
 "nbformat_minor": 5
}
