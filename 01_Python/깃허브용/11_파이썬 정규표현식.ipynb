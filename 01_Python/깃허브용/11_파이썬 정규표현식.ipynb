{
 "cells": [
  {
   "cell_type": "markdown",
   "metadata": {
    "slideshow": {
     "slide_type": "slide"
    }
   },
   "source": [
    "# <font size=50>정규 표현식 (Regular Expression)</font>"
   ]
  },
  {
   "cell_type": "markdown",
   "metadata": {
    "slideshow": {
     "slide_type": "fragment"
    }
   },
   "source": [
    "# 1. 정규 표현식(Regular Expression) 개요\n",
    "\n",
    "## 1.1. 정규 표현식이란\n",
    "- 텍스트에서 특정한 형태나 규칙을 가지는 문자열을 찾기 위해 그 형태나 규칙을 정의하는 것.\n",
    "- 파이썬 뿐만 아니라 문자열을 다루는 모든 곳에서 사용된다.\n",
    "- **정규식, Regexp**이라고도 한다."
   ]
  },
  {
   "cell_type": "markdown",
   "metadata": {
    "slideshow": {
     "slide_type": "fragment"
    }
   },
   "source": [
    "## 1.2. 기본개념\n",
    "- **패턴(pattern)** \n",
    "    - 정규 표현식이라고 한다.\n",
    "    - 문장내에서 찾기위한 문구의 형태에 대한 표현식.\n",
    "- **메타문자(metacharacter)**\n",
    "    - 패턴을 기술하기 위해 사용되는 특별한 의미를 가지는 문자\n",
    "    - 예) `a*` : a가 0회 이상 반복을 뜻한다. a, aa, aaaa  /  `\\d`:  숫자를 찾겠다.\n",
    "- **리터럴(literal)**\n",
    "    - 표현식이 값 자체를 의미하는 것\n",
    "    - 예) `a`는 `a` 자체를 의미한다.    "
   ]
  },
  {
   "cell_type": "markdown",
   "metadata": {
    "slideshow": {
     "slide_type": "slide"
    }
   },
   "source": [
    "# 2. 정규 표현식 메타 문자\n",
    "- 패턴을 기술하기 위한 문자"
   ]
  },
  {
   "cell_type": "markdown",
   "metadata": {
    "slideshow": {
     "slide_type": "fragment"
    }
   },
   "source": [
    "## 2.1 문자 클래스 :  [  ]\n",
    "- `[ ]` 사이의 문자들과 매칭\n",
    "    - `[abc]` : a, b, c 중 **하나의 문자**와 매치 (or 개념)\n",
    "- `-`를 이용해 범위로 설정할 수 있다.\n",
    "    - `[a-z]` : 알파벳소문자중 하나의 문자와 매치\n",
    "    - `[a-zA-Z0-9]` : 알파벳대소문자와 숫자 중 하나의 문자와 매치 (~ 개념)\n",
    "- `[^ 패턴]` : ^ 으로 시작하는 경우 반대의 의미\n",
    "    - `[^abc]` : a, b, c를 제외한 나머지 문자들 중 하나와 매치.\n",
    "    - `[^a-z]` : 알파벳 소문자를 제외한 나머지 문자들 중 하나와 매치"
   ]
  },
  {
   "cell_type": "markdown",
   "metadata": {
    "slideshow": {
     "slide_type": "subslide"
    }
   },
   "source": [
    "## 2.2 미리 정의된 문자 클래스\n",
    "- 자주 사용되는 문자클래스를 미리 정의된 별도 표기법으로 제공한다.\n",
    "- `\\d` : 숫자와 매치. [0-9]와 동일\n",
    "- `\\D` : `\\d`의 반대. 숫자가 아닌 문자와 매치.  [^0-9]와 동일\n",
    "- `\\w` : 문자와 숫자, _(underscore)와 매치. `[a-zA-Z가-힣0-9_]`와 동일\n",
    "- `\\W` : `\\w`의 반대. 문자와 숫자와 _ 가 아닌 문자와 매치.  `[^a-zA-Z0-9_]`와 동일\n",
    "- `\\s` : 공백문자와 매치. tab,줄바꿈,공백문자와 일치\n",
    "- `\\S` : `\\s`와 반대. 공백을 제외한 문자열과 매치.\n",
    "- `\\b` : 단어 경계(word boundary) 표시. 보통 단어 경계로 빈문자열\n",
    "    - 단어경계: 단어(글자- `\\w`)와 단어가 아닌 문자사이를 가리킨다.\n",
    "    - `\\b가족\\b` => 우리 가족 만세(O), 우리가족만세 (X)\n",
    "- `\\B` : `\\b`의 반대. 단어 경계로 구분된 단어가 아닌 경우\n",
    "    - `\\B가족\\B` => 우리 가족 만세(X), 우리가족만세 (O)"
   ]
  },
  {
   "cell_type": "markdown",
   "metadata": {
    "slideshow": {
     "slide_type": "subslide"
    }
   },
   "source": [
    "## 2.3. 글자수와 관련된 메타문자\n",
    "- `.` : 한개의 모든 문자(\\n-줄바꿈 제외) (`a.b`)\n",
    "- `*` : 앞의 문자(패턴)과 일치하는 문자가 0개 이상인 경우. (`a*b`)\n",
    "- `+` : 앞의 문자(패턴)과 일치하는 문자가 1개이상인 경우.  (`a+b`)\n",
    "- `?` :  앞의 문자(패턴)과 일치하는 문자가 한개 있거나 없는 경우. (`a?b`)\n",
    "- `{m}` : 앞의 문자(패턴)가 m개. (`a{3}b`)  == (`aaab`) \n",
    "- `{m,}` : 앞의 문자(패턴)이 m개 이상. (`a{3,}b`)\n",
    "    - , 뒤에 공백이 들어오지 않도록 한다.\n",
    "- `{m,n}` : 앞의 문자(패턴)이 m개이상 n개 이하. (`a{2,5}b`)    \n",
    "- `.`, `*`, `+`, `?` 를 리터럴로 표현할 경우 `\\`를 붙인다."
   ]
  },
  {
   "cell_type": "markdown",
   "metadata": {
    "ExecuteTime": {
     "end_time": "2019-05-15T10:08:16.413433Z",
     "start_time": "2019-05-15T10:08:16.407394Z"
    },
    "slideshow": {
     "slide_type": "subslide"
    }
   },
   "source": [
    "## 2.4. 문장의 시작과 끝 표현\n",
    "- `^` 문자열의 시작 (`^abc`)\n",
    "    - 문자 클래스([ ])의 ^와는 의미가 다르다.\n",
    "- `$` : 문자열의 끝 (`abc$`)"
   ]
  },
  {
   "cell_type": "markdown",
   "metadata": {
    "ExecuteTime": {
     "end_time": "2019-05-15T10:08:16.413433Z",
     "start_time": "2019-05-15T10:08:16.407394Z"
    },
    "slideshow": {
     "slide_type": "fragment"
    }
   },
   "source": [
    "## 2.5. 기타\n",
    "- `|` : 둘중 하나 (OR) (010|011|016|019)\n",
    "    - 010|016-111 : 010 또는 016-111 이 된다. \n",
    "- `(  )` : 패턴내 하위그룹을 만들때 사용"
   ]
  },
  {
   "cell_type": "markdown",
   "metadata": {
    "slideshow": {
     "slide_type": "slide"
    }
   },
   "source": [
    "# 3. re 모듈\n",
    "- 파이썬에서 정규 표현식을 지원하기 위한 모듈\n",
    "- 파이썬 기본 라이브러리"
   ]
  },
  {
   "cell_type": "markdown",
   "metadata": {
    "slideshow": {
     "slide_type": "subslide"
    }
   },
   "source": [
    "## 3.1 코딩패턴\n",
    "- 모듈 import\n",
    "    - import re\n",
    "1. 객체지향형\n",
    "    - 패턴 객체를 생성후 메소드를 호출해 원하는 처리를 한다.\n",
    "     ```python\n",
    "        p = re.compile(r'\\d+')\n",
    "        p.search('abc123def')\n",
    "    ```\n",
    "2. 함수형\n",
    "    - `re` 모듈의 원하는 작업을 하는 함수를 호출한다. Argument로 패턴과 처리할 값을 전달한다.\n",
    "    ```python\n",
    "        re.search(r'\\d+', 'abc123def')\n",
    "    ```\n",
    "    \n",
    "> ### raw string\n",
    "> - 패턴문자중 `\\`로 시작하는 것들을 사용할 경우 `escape` 문자와의 구분을 위해 `\\\\` 두개씩 작성해야한다.  그래서 패턴을 지정할 때는 raw string을 사용하는 것이 편리하다.\n",
    ">    - `re.compile('\\b가족\\b')` : `\\b`를 escape 문자 b(백스페이스)로 인식\n",
    ">    - `re.compile(r'\\b가족\\b')` : `\\b`가 일반문자가 되어 컴파일시 정규식 메타문자로 처리된다.\n"
   ]
  },
  {
   "cell_type": "markdown",
   "metadata": {
    "slideshow": {
     "slide_type": "slide"
    }
   },
   "source": [
    "## 3.2. 검색함수\n",
    "- match(), search() : 패턴과 일치하는 문장이 **있는지 여부**를 확인할 때 사용\n",
    "- findall() : 패턴과 일치하는 문장을 **찾을 때** 사용"
   ]
  },
  {
   "cell_type": "markdown",
   "metadata": {
    "slideshow": {
     "slide_type": "subslide"
    }
   },
   "source": [
    "### 3.2.1. Match 객체\n",
    "- **검색 결과를** 담아 반환되는 객체\n",
    "    - match(), search() 의 반환타입\n",
    "- 패턴과 일치한 문자열과 대상문자열 내에서의 위치를 가지고 있는 객체\n",
    "- 주요 메소드\n",
    "    - **group()** : 매치된 문자열들을 튜플로 반환\n",
    "    - **group(subgroup 번호)** : 패턴에 하위그룹이 지정된 경우 특정 그룹의 문자열 반환\n",
    "    - **start(), end()** : 대상 문자열내에서 시작, 끝 index 반환\n",
    "    - **span()** : 대상 문자열 내에서 시작, 끝 index를 tuple로 반환"
   ]
  },
  {
   "cell_type": "markdown",
   "metadata": {
    "slideshow": {
     "slide_type": "subslide"
    }
   },
   "source": [
    "### 3.2.2 match(대상문자열 [, pos=0])\n",
    "- 대상 문자열의 시작 부터 정규식과 일치하는 것이 있는지 조회\n",
    "- pos : 시작 index 지정\n",
    "- 반환값\n",
    "    - Match 객체: 일치하는 문자열이 있는 경우\n",
    "    - None: 일치하는 문자열이 없는 경우"
   ]
  },
  {
   "cell_type": "code",
   "execution_count": 5,
   "metadata": {
    "ExecuteTime": {
     "end_time": "2023-01-04T02:37:05.158674Z",
     "start_time": "2023-01-04T02:37:05.147662Z"
    }
   },
   "outputs": [
    {
     "name": "stdout",
     "output_type": "stream",
     "text": [
      "<re.Match object; span=(0, 2), match='안녕'>\n",
      "찾은 문자열: 안녕\n",
      "찾은 문자열의 시작/끝 위치, 전체위치: 0 2 (0, 2)\n"
     ]
    }
   ],
   "source": [
    "import re\n",
    "\n",
    "txt = \"안녕하세요. 제 나이는 20세 입니다.\"\n",
    "pattern = r\"안녕\" # literal로만 만든 패턴, 패턴 문자는 raw string으로 만드는 습관을 가지자\n",
    "# 함수\n",
    "m = re.match(pattern, txt)  # 패턴, 찾을 대상   / match: 문장의 시작이 pattern과 일치하는지.\n",
    "print(m)\n",
    "if m:\n",
    "    print(\"찾은 문자열:\", m.group())\n",
    "    print(\"찾은 문자열의 시작/끝 위치, 전체위치:\", m.start(), m.end(), m.span())\n",
    "else: # m == None\n",
    "    print(\"없음\")"
   ]
  },
  {
   "cell_type": "code",
   "execution_count": 6,
   "metadata": {
    "ExecuteTime": {
     "end_time": "2023-01-04T02:37:05.714087Z",
     "start_time": "2023-01-04T02:37:05.682871Z"
    }
   },
   "outputs": [
    {
     "name": "stdout",
     "output_type": "stream",
     "text": [
      "None\n",
      "없음\n"
     ]
    }
   ],
   "source": [
    "txt = \"반갑습니다. 안녕하세요. 제 나이는 20세 입니다\"\n",
    "pattern = r\"안녕\"\n",
    "m = re.match(pattern, txt)  # match: 문장의 시작이 pattern과 일치하는지.\n",
    "print(m)\n",
    "if m:\n",
    "    print(\"찾은 문자열:\", m.group())\n",
    "    print(\"찾은 문자열의 시작/끝 위치, 전체위치:\", m.start(), m.end(), m.span())\n",
    "else: # m == None\n",
    "    print(\"없음\")"
   ]
  },
  {
   "cell_type": "code",
   "execution_count": 9,
   "metadata": {
    "ExecuteTime": {
     "end_time": "2023-01-04T02:42:51.218427Z",
     "start_time": "2023-01-04T02:42:51.197396Z"
    }
   },
   "outputs": [
    {
     "name": "stdout",
     "output_type": "stream",
     "text": [
      "<class 're.Pattern'>\n",
      "안 (7, 8)\n"
     ]
    }
   ],
   "source": [
    "txt = \"반갑습니다. 안녕하세요. 제 나이는 20세 입니다\"\n",
    "pattern = r\"[가-힣]\"\n",
    "p = re.compile(pattern)\n",
    "print(type(p))\n",
    "m = p.match(txt, pos=7) # 시작을 index5 부터 찾기 시작\n",
    "if m:\n",
    "    print(m.group(), m.span())\n",
    "else:\n",
    "    print(\"없음\")"
   ]
  },
  {
   "cell_type": "code",
   "execution_count": 14,
   "metadata": {
    "ExecuteTime": {
     "end_time": "2023-01-04T02:47:01.788658Z",
     "start_time": "2023-01-04T02:47:01.772656Z"
    },
    "slideshow": {
     "slide_type": "fragment"
    }
   },
   "outputs": [
    {
     "name": "stdout",
     "output_type": "stream",
     "text": [
      "<class 're.Pattern'>\n",
      "없음\n"
     ]
    }
   ],
   "source": [
    "txt = \"반갑습니다. 안녕하세요. 제 나이는 20세 입니다\"\n",
    "# pattern = r\"[가-힣]+\" # +: 앞의 글자가 1개 이상\n",
    "pattern = r\"[가-힣]{7}\" # {7}: 앞의 글자가 7글자\n",
    "p = re.compile(pattern)\n",
    "print(type(p))\n",
    "m = p.match(txt, pos=7) # 시작을 index5 부터 찾기 시작\n",
    "if m:\n",
    "    print(m.group(), m.span())\n",
    "else:\n",
    "    print(\"없음\")"
   ]
  },
  {
   "cell_type": "markdown",
   "metadata": {
    "slideshow": {
     "slide_type": "subslide"
    }
   },
   "source": [
    "### 3.2.3 search(대상문자열 [, pos=0])\n",
    "- 대상문자열 전체 안에서 정규식과 일치하는 것이 있는지 조회\n",
    "- pos: 찾기 시작하는 index 지정\n",
    "- 반환값\n",
    "    - Match 객체: 일치하는 문자열이 있는 경우\n",
    "    - None: 일치하는 문자열이 없는 경우|"
   ]
  },
  {
   "cell_type": "code",
   "execution_count": 17,
   "metadata": {
    "ExecuteTime": {
     "end_time": "2023-01-04T02:52:20.171913Z",
     "start_time": "2023-01-04T02:52:20.152914Z"
    },
    "slideshow": {
     "slide_type": "fragment"
    }
   },
   "outputs": [
    {
     "name": "stdout",
     "output_type": "stream",
     "text": [
      "안녕하세 (29, 33)\n"
     ]
    }
   ],
   "source": [
    "txt = \"반갑습니다. 안녕하세요. 제 나이는 20세 입니다. 안녕하세요\"\n",
    "pattern = r'안녕하세'\n",
    "p = re.compile(pattern)\n",
    "m = p.search(txt, pos=9) #pos를 지정하면 그 index에서부터 찾는다.\n",
    "if m:\n",
    "    print(m.group(), m.span())\n",
    "else:\n",
    "    print(\"없음\")"
   ]
  },
  {
   "cell_type": "code",
   "execution_count": 23,
   "metadata": {
    "ExecuteTime": {
     "end_time": "2023-01-04T03:14:06.563280Z",
     "start_time": "2023-01-04T03:14:06.540629Z"
    }
   },
   "outputs": [
    {
     "name": "stdout",
     "output_type": "stream",
     "text": [
      "<re.Match object; span=(7, 11), match='4000'>\n",
      "<re.Match object; span=(19, 24), match='15000'>\n",
      "<re.Match object; span=(7, 11), match='4000'>\n"
     ]
    }
   ],
   "source": [
    "txt = \"가격은 각각 4000, 5000, 15000, 25000입니다.\" # 관련 문자가 아닌 '가격은 각각 '을 소비하고(버리고) '4000'을 찾음\n",
    "m = re.search(r\"\\d+\", txt) # 숫자 1개 이상이 연결\n",
    "print(m)\n",
    "m2 = re.search(r\"\\d{5}\", txt) # 숫자 5개 -> 만단위 숫자\n",
    "#m2 = re.search(r\"\\d{5,}\", txt) # 숫자 5개 이상 -> 만단위 숫자 이상\n",
    "print(m2)\n",
    "m3 = re.search(r\"\\d{4,7}\", txt) # 숫자가 4 ~ 7개 -> 천단위 ~ 백만 단위 숫자\n",
    "print(m3)"
   ]
  },
  {
   "cell_type": "markdown",
   "metadata": {
    "slideshow": {
     "slide_type": "subslide"
    }
   },
   "source": [
    "### 3.2.4. findall(대상문자열)\n",
    "- 대상문자열에서 정규식과 매칭되는 문자열들을 리스트로 반환\n",
    "- 반환값\n",
    "    - 리스트(List) : 일치하는 문자열들을 가진 리스트를 반환\n",
    "    - 일치하는 문자열이 없는 경우 빈 리스트 반환"
   ]
  },
  {
   "cell_type": "code",
   "execution_count": 24,
   "metadata": {
    "ExecuteTime": {
     "end_time": "2023-01-04T03:18:02.103266Z",
     "start_time": "2023-01-04T03:18:02.095258Z"
    },
    "slideshow": {
     "slide_type": "fragment"
    }
   },
   "outputs": [
    {
     "name": "stdout",
     "output_type": "stream",
     "text": [
      "['4', '0', '0', '0', '5', '0', '0', '0', '1', '5', '0', '0', '0', '2', '5', '0', '0', '0', '1', '0', '9', '2', '3', '6']\n"
     ]
    }
   ],
   "source": [
    "txt = \"가격은 각각 4000, 5000, 15000, 25000, 10, 9, 236입니다.\"\n",
    "pattern = r\"\\d\"  # 숫자 1개\n",
    "p = re.compile(pattern)\n",
    "m = p.findall(txt)\n",
    "print(m)"
   ]
  },
  {
   "cell_type": "code",
   "execution_count": 25,
   "metadata": {
    "ExecuteTime": {
     "end_time": "2023-01-04T03:19:11.192175Z",
     "start_time": "2023-01-04T03:19:11.177147Z"
    }
   },
   "outputs": [
    {
     "name": "stdout",
     "output_type": "stream",
     "text": [
      "['4000', '5000', '15000', '25000', '10', '9', '236']\n"
     ]
    }
   ],
   "source": [
    "txt = \"가격은 각각 4000, 5000, 15000, 25000, 10, 9, 236입니다.\"\n",
    "pattern = r\"\\d+\"  # 숫자 1개이상의 숫자들\n",
    "p = re.compile(pattern)\n",
    "m = p.findall(txt)\n",
    "print(m)"
   ]
  },
  {
   "cell_type": "code",
   "execution_count": 26,
   "metadata": {
    "ExecuteTime": {
     "end_time": "2023-01-04T03:20:28.788558Z",
     "start_time": "2023-01-04T03:20:28.781552Z"
    }
   },
   "outputs": [
    {
     "name": "stdout",
     "output_type": "stream",
     "text": [
      "['가격은', '각각', '입니다']\n"
     ]
    }
   ],
   "source": [
    "txt = \"가격은 각각 4000, 5000, 15000, 25000, 10, 9, 236입니다.\"\n",
    "pattern = r\"[가-힣]+\"  # 1글자 이상의 한글들\n",
    "p = re.compile(pattern)\n",
    "m = p.findall(txt)\n",
    "print(m)"
   ]
  },
  {
   "cell_type": "markdown",
   "metadata": {
    "slideshow": {
     "slide_type": "subslide"
    }
   },
   "source": [
    "# TODO\n",
    "- info 변수는 한줄에 한사람의 data가 있고 구성은 **`이름 이메일주소 주민번호`** 순서로 되어있다."
   ]
  },
  {
   "cell_type": "code",
   "execution_count": 2,
   "metadata": {
    "ExecuteTime": {
     "end_time": "2023-01-04T07:10:19.565670Z",
     "start_time": "2023-01-04T07:10:19.548668Z"
    },
    "slideshow": {
     "slide_type": "skip"
    }
   },
   "outputs": [],
   "source": [
    "info ='''김정수 kjs@gmail.com 801023-1010221\n",
    "박영수 pys.abc@gmail.com 700121-1120212\n",
    "이민영 lmy-abc@naver.com 820301-2020122\n",
    "김순희 ksh@daum.net 781223-2012212\n",
    "오주연 ojy@daum.net 900522-1023218\n",
    "'''"
   ]
  },
  {
   "cell_type": "code",
   "execution_count": 37,
   "metadata": {
    "ExecuteTime": {
     "end_time": "2023-01-04T03:32:01.669435Z",
     "start_time": "2023-01-04T03:32:01.651440Z"
    },
    "slideshow": {
     "slide_type": "skip"
    }
   },
   "outputs": [
    {
     "name": "stdout",
     "output_type": "stream",
     "text": [
      "['kjs@gmail.com', 'pys.abc@gmail.com', 'lmy-abc@naver.com', 'ksh@daum.net', 'ojy@daum.net']\n"
     ]
    }
   ],
   "source": [
    "# Email 주소만 추출 해서 출력\n",
    "import re\n",
    "\n",
    "pattern = r\"[a-z0-9!#$%&'*+/=?^_`{|}~-]+(?:\\.[a-z0-9!#$%&'*+/=?^_`{|}~-]+)*@(?:[a-z0-9](?:[a-z0-9-]*[a-z0-9])?\\.)+[a-z0-9](?:[a-z0-9-]*[a-z0-9])?\"\n",
    "p = re.compile(pattern)\n",
    "m = p.findall(info)\n",
    "print(m)"
   ]
  },
  {
   "cell_type": "code",
   "execution_count": 54,
   "metadata": {
    "ExecuteTime": {
     "end_time": "2023-01-04T04:43:44.473391Z",
     "start_time": "2023-01-04T04:43:44.454433Z"
    }
   },
   "outputs": [
    {
     "name": "stdout",
     "output_type": "stream",
     "text": [
      "['kjs@gmail.com', 'pys.abc@gmail.com', 'lmy-abc@naver.com', 'ksh@daum.net', 'ojy@daum.net']\n"
     ]
    }
   ],
   "source": [
    "pattern = r'[a-zA-z]+\\w+@\\w+.com|[a-zA-z]+.?\\w+@\\w+.com|[a-zA-z]+\\w+@\\w+.net'\n",
    "p = re.compile(pattern)\n",
    "m = p.findall(info)\n",
    "print(m)"
   ]
  },
  {
   "cell_type": "code",
   "execution_count": 49,
   "metadata": {
    "ExecuteTime": {
     "end_time": "2023-01-04T03:40:24.431895Z",
     "start_time": "2023-01-04T03:40:24.412929Z"
    },
    "slideshow": {
     "slide_type": "skip"
    }
   },
   "outputs": [
    {
     "name": "stdout",
     "output_type": "stream",
     "text": [
      "['801023-1010221', '700121-1120212', '820301-2020122', '781223-2012212', '900522-1023218']\n"
     ]
    }
   ],
   "source": [
    "# 주민번호들만 조회해서 출력\n",
    "import re\n",
    "\n",
    "pattern = r\"\\d{6}-[1-4]\\d{6}\"\n",
    "p = re.compile(pattern)\n",
    "m = p.findall(info)\n",
    "print(m)"
   ]
  },
  {
   "cell_type": "markdown",
   "metadata": {},
   "source": [
    "-----------------------------"
   ]
  },
  {
   "cell_type": "code",
   "execution_count": 69,
   "metadata": {
    "ExecuteTime": {
     "end_time": "2023-01-04T05:21:02.741869Z",
     "start_time": "2023-01-04T05:21:02.718907Z"
    }
   },
   "outputs": [
    {
     "name": "stdout",
     "output_type": "stream",
     "text": [
      "['kjs@gmail.com', 'pys.abc@gmail.com', 'lmy-abc@naver.com', 'ksh@daum.net', 'ojy@daum.net']\n"
     ]
    }
   ],
   "source": [
    "# 정답 예시\n",
    "# Email 주소만 추출해서 출력\n",
    "# [\\w\\-\\.]+ : \\w(일반문자, 숫자, _) 또는 - 또는 . 이 1글자 이상\n",
    "pattern = r'[\\w\\-\\.]+@[\\w\\-\\.]+[\\w-]{2,4}'\n",
    "p = re.compile(pattern)\n",
    "m = p.findall(info)\n",
    "print(m)"
   ]
  },
  {
   "cell_type": "code",
   "execution_count": 70,
   "metadata": {
    "ExecuteTime": {
     "end_time": "2023-01-04T05:22:39.145756Z",
     "start_time": "2023-01-04T05:22:39.135759Z"
    }
   },
   "outputs": [
    {
     "name": "stdout",
     "output_type": "stream",
     "text": [
      "['801023-1010221', '700121-1120212', '820301-2020122', '781223-2012212', '900522-1023218']\n"
     ]
    }
   ],
   "source": [
    "# 주민번호들만 조회해서 출력\n",
    "pattern = r'\\d{6}-[012349]\\d{6}'\n",
    "p = re.compile(pattern)\n",
    "m = p.findall(info)\n",
    "print(m)"
   ]
  },
  {
   "cell_type": "markdown",
   "metadata": {
    "slideshow": {
     "slide_type": "slide"
    }
   },
   "source": [
    "### finditer(대상문자열)\n",
    "- 패턴에 일치하는 모든 문자열을 찾아주는 Iterator => for문, list()\n",
    "- 찾은 문자열을 Match 객체로 반환."
   ]
  },
  {
   "cell_type": "code",
   "execution_count": 73,
   "metadata": {
    "ExecuteTime": {
     "end_time": "2023-01-04T05:25:10.344579Z",
     "start_time": "2023-01-04T05:25:10.332586Z"
    },
    "slideshow": {
     "slide_type": "fragment"
    }
   },
   "outputs": [
    {
     "name": "stdout",
     "output_type": "stream",
     "text": [
      "<class 'callable_iterator'>\n",
      "<callable_iterator object at 0x0000022001208280>\n",
      "<re.Match object; span=(18, 32), match='801023-1010221'>\n",
      "<re.Match object; span=(55, 69), match='700121-1120212'>\n",
      "<re.Match object; span=(92, 106), match='820301-2020122'>\n",
      "<re.Match object; span=(124, 138), match='781223-2012212'>\n",
      "<re.Match object; span=(156, 170), match='900522-1023218'>\n"
     ]
    }
   ],
   "source": [
    "\n",
    "pattern = r'\\d{6}-[012349]\\d{6}'\n",
    "p = re.compile(pattern)\n",
    "result = p.finditer(info)\n",
    "print(type(result))\n",
    "print(result)\n",
    "for m in result:\n",
    "    print(m)  # match로 반환하기 때문에 문자뿐만아니라 문자의 위치까지 확인 가능"
   ]
  },
  {
   "cell_type": "markdown",
   "metadata": {
    "slideshow": {
     "slide_type": "slide"
    }
   },
   "source": [
    "## 3.3. 문자열 변경\n",
    "- sub(): 변경된 문자열 반환\n",
    "- subn(): 변경된 문자열, 변경개수 반환"
   ]
  },
  {
   "cell_type": "markdown",
   "metadata": {
    "slideshow": {
     "slide_type": "subslide"
    }
   },
   "source": [
    "### 3.3.1 sub(바꿀문자열, 대상문자열 [, count=양수])\n",
    "- 대상문자열에서 패턴과 일치하는 것을 바꿀문자열로 변경한다.\n",
    "- count: 변경할 개수를 지정. 기본: 매칭되는 문자열은 다 변경\n",
    "- 반환값: 변경된 문자열\n",
    "\n",
    "### 3.3.2 subn(바꿀문자열, 대상문자열 [, count=양수])\n",
    "- sub()와 동일한 역할.\n",
    "- 반환값 : (변경된 문자열, 변경된문자열개수) 를 tuple로 반환"
   ]
  },
  {
   "cell_type": "code",
   "execution_count": 79,
   "metadata": {
    "ExecuteTime": {
     "end_time": "2023-01-04T05:37:30.207066Z",
     "start_time": "2023-01-04T05:37:30.187289Z"
    }
   },
   "outputs": [
    {
     "name": "stdout",
     "output_type": "stream",
     "text": [
      "오늘은 수요일 입니다.\n"
     ]
    }
   ],
   "source": [
    "txt = \"오늘은           수요일            입니다.\"\n",
    "\n",
    "# txt.strip() # 양쪽 공백만 없어짐\n",
    "# 공백들을 공백한개로 변경.\n",
    "pattern = r' +'  #공백들\n",
    "p = re.compile(pattern)\n",
    "result = p.sub(' ', txt)\n",
    "print(result)"
   ]
  },
  {
   "cell_type": "code",
   "execution_count": 78,
   "metadata": {
    "ExecuteTime": {
     "end_time": "2023-01-04T05:36:40.984815Z",
     "start_time": "2023-01-04T05:36:40.973246Z"
    },
    "slideshow": {
     "slide_type": "fragment"
    }
   },
   "outputs": [
    {
     "name": "stdout",
     "output_type": "stream",
     "text": [
      "오늘은 수요일 입니다. 내일은 목요일 입니다. 모레는 금 요일 입니다.\n"
     ]
    }
   ],
   "source": [
    "txt = '''오늘은           수요일       입니다.\n",
    "내일은          목요일         입니다.\n",
    "모레는         금\\t요일           입니다.'''\n",
    "\n",
    "# 공백들을 공백한개로 변경.\n",
    "pattern = r'\\s+' # \\s : 공백, tab, 엔터\n",
    "p = re.compile(pattern)\n",
    "result = p.sub(' ', txt)\n",
    "print(result)"
   ]
  },
  {
   "cell_type": "code",
   "execution_count": 80,
   "metadata": {
    "ExecuteTime": {
     "end_time": "2023-01-04T05:39:14.607529Z",
     "start_time": "2023-01-04T05:39:14.599309Z"
    }
   },
   "outputs": [
    {
     "name": "stdout",
     "output_type": "stream",
     "text": [
      "변경개수: 9\n",
      "오늘은 수요일 입니다. 내일은 목요일 입니다. 모레는 금 요일 입니다.\n"
     ]
    }
   ],
   "source": [
    "txt = '''오늘은           수요일       입니다.\n",
    "내일은          목요일         입니다.\n",
    "모레는         금\\t요일           입니다.'''\n",
    "# txt.strip() # 양쪽 공백만 없어짐\n",
    "# 공백들을 공백한개로 변경.\n",
    "pattern = r'\\s+' # \\s : 공백, tab, 엔터\n",
    "p = re.compile(pattern)\n",
    "result = p.sub(' ', txt)\n",
    "result, cnt = p.subn(\" \", txt)\n",
    "print(\"변경개수:\", cnt)\n",
    "print(result)"
   ]
  },
  {
   "cell_type": "code",
   "execution_count": 82,
   "metadata": {
    "ExecuteTime": {
     "end_time": "2023-01-04T05:41:50.415426Z",
     "start_time": "2023-01-04T05:41:50.392438Z"
    }
   },
   "outputs": [
    {
     "name": "stdout",
     "output_type": "stream",
     "text": [
      "123450\n"
     ]
    }
   ],
   "source": [
    "txt = 'test1, test2, test3, test4, test50'\n",
    "# 숫자이외에는 다 제거\n",
    "pattern = r'\\D'  # [^0-9]\n",
    "p = re.compile(pattern)\n",
    "result = p.sub('', txt)  # 지우기: '': 빈문자열(0글자)로 변경\n",
    "print(result)"
   ]
  },
  {
   "cell_type": "markdown",
   "metadata": {
    "slideshow": {
     "slide_type": "subslide"
    }
   },
   "source": [
    "## 3.4 나누기(토큰화)\n",
    "### 3.4.1 split(대상문자열)\n",
    "- pattern을 구분자로 문장을 나눈다.\n",
    "- 반환: 나눈 문자열을 원소로 하는 리스트"
   ]
  },
  {
   "cell_type": "code",
   "execution_count": 84,
   "metadata": {
    "ExecuteTime": {
     "end_time": "2023-01-04T06:14:26.568044Z",
     "start_time": "2023-01-04T06:14:26.540005Z"
    },
    "slideshow": {
     "slide_type": "fragment"
    }
   },
   "outputs": [
    {
     "data": {
      "text/plain": [
       "['사과', '복숭아', '배', '수박']"
      ]
     },
     "execution_count": 84,
     "metadata": {},
     "output_type": "execute_result"
    }
   ],
   "source": [
    "\"사과,복숭아,배,수박\".split(',')"
   ]
  },
  {
   "cell_type": "code",
   "execution_count": 86,
   "metadata": {
    "ExecuteTime": {
     "end_time": "2023-01-04T06:17:30.570250Z",
     "start_time": "2023-01-04T06:17:30.553253Z"
    }
   },
   "outputs": [
    {
     "data": {
      "text/plain": [
       "['사과', '복숭아', '배', '수박']"
      ]
     },
     "execution_count": 86,
     "metadata": {},
     "output_type": "execute_result"
    }
   ],
   "source": [
    "txt = \"사과,복숭아,배|수박\"\n",
    "p = re.compile(r'[,|]')  # 구분자 패턴\n",
    "p.split(txt)"
   ]
  },
  {
   "cell_type": "markdown",
   "metadata": {
    "slideshow": {
     "slide_type": "slide"
    }
   },
   "source": [
    "# 4. 그룹핑(Grouping)\n",
    "- 패턴 내에서 하위패턴을 만드는 것.\n",
    "    - 전체 패턴에서 일부 패턴을 묶어준다.\n",
    "- 구문: (패턴)"
   ]
  },
  {
   "cell_type": "markdown",
   "metadata": {
    "ExecuteTime": {
     "end_time": "2019-05-16T00:56:13.966065Z",
     "start_time": "2019-05-16T00:56:13.960644Z"
    },
    "slideshow": {
     "slide_type": "subslide"
    }
   },
   "source": [
    "## 4.1. 그룹핑 예\n",
    "\n",
    "### 4.1.1 전체 패턴 내에서 일부 패턴을 조회"
   ]
  },
  {
   "cell_type": "code",
   "execution_count": 90,
   "metadata": {
    "ExecuteTime": {
     "end_time": "2023-01-04T06:29:55.206871Z",
     "start_time": "2023-01-04T06:29:55.183827Z"
    },
    "slideshow": {
     "slide_type": "fragment"
    }
   },
   "outputs": [
    {
     "name": "stdout",
     "output_type": "stream",
     "text": [
      "<re.Match object; span=(4, 17), match='010-1111-2222'>\n",
      "010-1111-2222\n",
      "010\n",
      "1111\n",
      "2222\n"
     ]
    }
   ],
   "source": [
    "tel = \"TEL:010-1111-2222\"\n",
    "pattern = r'(\\d{2,3})-(\\d{3,4})-(\\d{4})'\n",
    "p = re.compile(pattern)\n",
    "m = p.search(tel)\n",
    "print(m)\n",
    "if m:\n",
    "    print(m.group()) # 패턴과 일치하는 전체 문장을 반환\n",
    "    print(m.group(1)) # 첫번째 ()로 묶인 하위그룹 패턴을 반환\n",
    "    print(m.group(2))\n",
    "    print(m.group(3)) "
   ]
  },
  {
   "cell_type": "code",
   "execution_count": 89,
   "metadata": {
    "ExecuteTime": {
     "end_time": "2023-01-04T06:28:08.589175Z",
     "start_time": "2023-01-04T06:28:08.577172Z"
    }
   },
   "outputs": [
    {
     "data": {
      "text/plain": [
       "'2222'"
      ]
     },
     "execution_count": 89,
     "metadata": {},
     "output_type": "execute_result"
    }
   ],
   "source": [
    "m.group().split('-')[2]"
   ]
  },
  {
   "cell_type": "code",
   "execution_count": 99,
   "metadata": {
    "ExecuteTime": {
     "end_time": "2023-01-04T06:40:34.941808Z",
     "start_time": "2023-01-04T06:40:34.927935Z"
    }
   },
   "outputs": [
    {
     "name": "stdout",
     "output_type": "stream",
     "text": [
      "ID:abc, 도메인:naver.com\n",
      "ID:test, 도메인:daum.net\n",
      "ID:my_mail, 도메인:gmail.com\n"
     ]
    }
   ],
   "source": [
    "txt = \"abc@naver.com, test@daum.net, my_mail@gmail.com\"\n",
    "# email 주소: 계정@도메인\n",
    "pattern = r\"(\\w+)@(\\w+.\\w+)\"\n",
    "p = re.compile(pattern)\n",
    "for id, email in p.findall(txt):  # 찾은 문자열들을 리스트로 반환\n",
    "    print(f\"ID:{id}, 도메인:{email}\")"
   ]
  },
  {
   "cell_type": "code",
   "execution_count": 104,
   "metadata": {
    "ExecuteTime": {
     "end_time": "2023-01-04T06:43:15.328775Z",
     "start_time": "2023-01-04T06:43:15.312759Z"
    }
   },
   "outputs": [
    {
     "name": "stdout",
     "output_type": "stream",
     "text": [
      "abc@naver.com\n",
      "계정ID: abc\n",
      "도메인: naver.com\n",
      "==============================\n",
      "test@daum.net\n",
      "계정ID: test\n",
      "도메인: daum.net\n",
      "==============================\n",
      "my_mail@gmail.com\n",
      "계정ID: my_mail\n",
      "도메인: gmail.com\n",
      "==============================\n"
     ]
    }
   ],
   "source": [
    "for m in p.finditer(txt):\n",
    "    print(m.group())\n",
    "    print(\"계정ID:\", m.group(1))\n",
    "    print(\"도메인:\", m.group(2))\n",
    "    print(\"=\"*30)"
   ]
  },
  {
   "cell_type": "markdown",
   "metadata": {
    "slideshow": {
     "slide_type": "subslide"
    }
   },
   "source": [
    "### 4.1.2 패턴 내에서 하위그룹 참조\n",
    "- `\\번호`\n",
    "- 지정한 '번호' 번째 패턴으로 매칭된 문자열과 같은 문자열을 의미"
   ]
  },
  {
   "cell_type": "code",
   "execution_count": 108,
   "metadata": {
    "ExecuteTime": {
     "end_time": "2023-01-04T06:48:31.386448Z",
     "start_time": "2023-01-04T06:48:31.362496Z"
    },
    "slideshow": {
     "slide_type": "fragment"
    }
   },
   "outputs": [
    {
     "name": "stdout",
     "output_type": "stream",
     "text": [
      "010-2222-2222 2222 2222\n",
      "010-5555-5555 5555 5555\n"
     ]
    }
   ],
   "source": [
    "txt = \"\"\"010-1111-2222\n",
    "010-2222-2222\n",
    "010-3333-4444\n",
    "010-5555-5555\n",
    "\"\"\"\n",
    "\n",
    "# 패턴: 국번과 번호가 같은 전화번호\n",
    "pattern = r'\\d{2,3}-(\\d{3,4})-(\\1)'  # \\1 : 1번 하위그룹으로 찾은 값과 같은 값을 가진 것  (패턴뿐 아니라 값도 같아야 한다.)\n",
    "p = re.compile(pattern)\n",
    "for m in p.finditer(txt):\n",
    "    print(m.group(), m.group(1), m.group(2))"
   ]
  },
  {
   "cell_type": "markdown",
   "metadata": {
    "slideshow": {
     "slide_type": "slide"
    }
   },
   "source": [
    "### 4.1.3 패턴내의 특정 부분만 변경"
   ]
  },
  {
   "cell_type": "code",
   "execution_count": 6,
   "metadata": {
    "ExecuteTime": {
     "end_time": "2023-01-04T07:16:03.684984Z",
     "start_time": "2023-01-04T07:16:03.676668Z"
    },
    "scrolled": true,
    "slideshow": {
     "slide_type": "fragment"
    }
   },
   "outputs": [
    {
     "name": "stdout",
     "output_type": "stream",
     "text": [
      "김정수 kjs@gmail.com 801023-1010221\n",
      "박영수 pys.abc@gmail.com 700121-1120212\n",
      "이민영 lmy-abc@naver.com 820301-2020122\n",
      "김순희 ksh@daum.net 781223-2012212\n",
      "오주연 ojy@daum.net 900522-1023218\n",
      "\n",
      "801023-1010221 -> 801023-1\n",
      "700121-1120212 -> 700121-1\n",
      "820301-2020122 -> 820301-2\n",
      "781223-2012212 -> 781223-2\n",
      "900522-1023218 -> 900522-1\n"
     ]
    }
   ],
   "source": [
    "import re\n",
    "\n",
    "print(info)\n",
    "# 주민번호중에 마지막 6개 숫자를 #으로 변경\n",
    "pattern = r\"(\\d{6}-[012349])\\d{6}\"  # 찾은 것 중 남길것(변경안할 것)을 그룹으로 묶는다.\n",
    "p = re.compile(pattern)\n",
    "for m in p.finditer(info):\n",
    "    print(m.group(), m.group(1), sep=' -> ')"
   ]
  },
  {
   "cell_type": "code",
   "execution_count": 10,
   "metadata": {
    "ExecuteTime": {
     "end_time": "2023-01-04T07:16:58.209563Z",
     "start_time": "2023-01-04T07:16:58.189286Z"
    }
   },
   "outputs": [
    {
     "name": "stdout",
     "output_type": "stream",
     "text": [
      "김정수 kjs@gmail.com 801023-1******\n",
      "박영수 pys.abc@gmail.com 700121-1******\n",
      "이민영 lmy-abc@naver.com 820301-2******\n",
      "김순희 ksh@daum.net 781223-2******\n",
      "오주연 ojy@daum.net 900522-1******\n",
      "\n"
     ]
    }
   ],
   "source": [
    "result = p.sub(\"\\g<1>******\", info)   #\\g<1>: 1번 그룹의 값으로 변경\n",
    "print(result)"
   ]
  },
  {
   "cell_type": "markdown",
   "metadata": {
    "slideshow": {
     "slide_type": "fragment"
    }
   },
   "source": [
    "### group으로 묶인 것 참조(조회)\n",
    "- 패턴 안에서 참조 \n",
    "    - `\\번호` , `r'(\\d{3}) \\1'` => 중복되는 것을 패턴으로 표현할 때.\n",
    "- match 조회\n",
    "    - match객체.group(번호)\n",
    "- sub() 함수에서 대체 문자로 참조\n",
    "    - `\\g<번호>`"
   ]
  },
  {
   "cell_type": "code",
   "execution_count": 11,
   "metadata": {
    "ExecuteTime": {
     "end_time": "2023-01-04T07:24:15.527778Z",
     "start_time": "2023-01-04T07:24:15.510822Z"
    },
    "slideshow": {
     "slide_type": "fragment"
    }
   },
   "outputs": [
    {
     "name": "stdout",
     "output_type": "stream",
     "text": [
      "<re.Match object; span=(0, 13), match='010-1111-2222'>\n",
      "010-1111-2222\n",
      "010-1111\n",
      "010\n",
      "1111\n",
      "2222\n"
     ]
    }
   ],
   "source": [
    "txt = \"\"\"010-1111-2222\n",
    "010-2222-2222\n",
    "010-3333-4444\n",
    "010-5555-5555\n",
    "\"\"\"\n",
    "# 하위그룹 내에 하위그룹이 있을 경우\n",
    "pattern = r\"((\\d{2,3})-(\\d{3,4}))-(\\d{4})\"\n",
    "# (1 (2 ) - (3 ) ) - (4 ) -> 앞에서부터 번호 매김\n",
    "p = re.compile(pattern)\n",
    "m = p.search(txt)\n",
    "print(m)\n",
    "print(m.group())\n",
    "print(m.group(1))\n",
    "print(m.group(2))\n",
    "print(m.group(3))\n",
    "print(m.group(4))"
   ]
  },
  {
   "cell_type": "markdown",
   "metadata": {
    "slideshow": {
     "slide_type": "slide"
    }
   },
   "source": [
    "# 5. Greedy 와 Non-Greedy\n",
    "- Greedy(탐욕스러운-최대일치) 의 의미\n",
    "    - 주어진 패턴에 만족하는 문자열을 최대한 넓게(길게) 잡아 찾는다.\n",
    "    - 매칭시 기본 방식\n",
    "- Non-Greedy(최소일치)\n",
    "    - 주어진 패턴에 만족하는 문자열을 최초의 일치하는 위치까지 찾는다\n",
    "    - 개수를 나타내는 메타문자(수량자)에 **`?`**를 붙인다.\n",
    "    - `*?`, `+?`, `{m,n}?`"
   ]
  },
  {
   "cell_type": "code",
   "execution_count": 15,
   "metadata": {
    "ExecuteTime": {
     "end_time": "2023-01-04T07:40:13.077605Z",
     "start_time": "2023-01-04T07:40:13.060592Z"
    },
    "slideshow": {
     "slide_type": "fragment"
    }
   },
   "outputs": [
    {
     "data": {
      "text/plain": [
       "['<div>파이썬 <b>정규표현식</b> </div>']"
      ]
     },
     "execution_count": 15,
     "metadata": {},
     "output_type": "execute_result"
    }
   ],
   "source": [
    "txt = \"<div>파이썬 <b>정규표현식</b> </div>\"\n",
    "# <div><b></b></div> 태그만 조회\n",
    "pattern = r\"<.+>\"\n",
    "p = re.compile(pattern)\n",
    "p.findall(txt)"
   ]
  },
  {
   "cell_type": "code",
   "execution_count": 16,
   "metadata": {
    "ExecuteTime": {
     "end_time": "2023-01-04T07:40:26.878731Z",
     "start_time": "2023-01-04T07:40:26.859699Z"
    }
   },
   "outputs": [
    {
     "data": {
      "text/plain": [
       "['<div>', '<b>', '</b>', '</div>']"
      ]
     },
     "execution_count": 16,
     "metadata": {},
     "output_type": "execute_result"
    }
   ],
   "source": [
    "txt = \"<div>파이썬 <b>정규표현식</b> </div>\"\n",
    "# <div><b></b></div> 태그만 조회\n",
    "pattern = r\"<.+?>\"\n",
    "p = re.compile(pattern)\n",
    "p.findall(txt)"
   ]
  },
  {
   "cell_type": "markdown",
   "metadata": {
    "slideshow": {
     "slide_type": "slide"
    }
   },
   "source": [
    "# 6. 전방/후방 탐색\n",
    "- 패턴과 일치하는 문자열을 찾을 때는 사용하되 반환(소비) 되지 않도록 하는 패턴이 있을 때 사용. \n",
    "- **전방탐색**\n",
    "    - 반환(소비)될 문자열들이 앞에 있는 경우.  ex) (원)을 찾아 숫자만 가지고 오고 싶을 때\n",
    "    - 긍정 전방탐색\n",
    "        - %%%(?=패턴) : %%%-반환될 패턴\n",
    "    - 부정 전방탐색\n",
    "        - %%%(?!패턴)  : 부정은 =를 !로 바꾼다.\n",
    "- **후방탐색**\n",
    "    - 반환(소비)될 문자열이 뒤에 있는 경우.    ex) (\\$)를 찾아 숫자만 가지고 오고 싶을 때\n",
    "    - 긍정 후방탐색\n",
    "        - (?<=패턴)%%%\n",
    "    - 부정 후방탐색\n",
    "        - (?<!패턴)%%%"
   ]
  },
  {
   "cell_type": "code",
   "execution_count": 18,
   "metadata": {
    "ExecuteTime": {
     "end_time": "2023-01-04T08:12:24.513952Z",
     "start_time": "2023-01-04T08:12:24.496210Z"
    },
    "slideshow": {
     "slide_type": "fragment"
    }
   },
   "outputs": [
    {
     "name": "stdout",
     "output_type": "stream",
     "text": [
      "['300001', '2300001', '42000001']\n"
     ]
    }
   ],
   "source": [
    "info = \"\"\"TV 300001원 30개\n",
    "컴퓨터 2300001원 50개\n",
    "모니터 42000001원 70개\n",
    "\"\"\"\n",
    "# 가격만 조회\n",
    "# pattern = r'\\d+원'\n",
    "# 가격만 조회 -> 조회 결과에서 '원'은 뺀다.\n",
    "pattern = r'\\d+(?=원)'\n",
    "p = re.compile(pattern)\n",
    "print(p.findall(info))"
   ]
  },
  {
   "cell_type": "code",
   "execution_count": 23,
   "metadata": {
    "ExecuteTime": {
     "end_time": "2023-01-04T08:16:33.400636Z",
     "start_time": "2023-01-04T08:16:33.383596Z"
    }
   },
   "outputs": [
    {
     "name": "stdout",
     "output_type": "stream",
     "text": [
      "['300001', '2300001', '42000001']\n"
     ]
    }
   ],
   "source": [
    "info = \"\"\"TV $300001 30개\n",
    "컴퓨터 $2300001 50개\n",
    "모니터 $42000001 70개\n",
    "\"\"\"\n",
    "# 가격만 조회\n",
    "# pattern = r'\\$\\d+'\n",
    "# 가격만 조회 -> 조회 결과에서 '$'은 뺀다.\n",
    "pattern = r'(?<=\\$)\\d+'\n",
    "p = re.compile(pattern)\n",
    "print(p.findall(info))"
   ]
  }
 ],
 "metadata": {
  "kernelspec": {
   "display_name": "Python 3 (ipykernel)",
   "language": "python",
   "name": "python3"
  },
  "language_info": {
   "codemirror_mode": {
    "name": "ipython",
    "version": 3
   },
   "file_extension": ".py",
   "mimetype": "text/x-python",
   "name": "python",
   "nbconvert_exporter": "python",
   "pygments_lexer": "ipython3",
   "version": "3.9.13"
  },
  "toc": {
   "base_numbering": 1,
   "nav_menu": {},
   "number_sections": false,
   "sideBar": false,
   "skip_h1_title": false,
   "title_cell": "Table of Contents",
   "title_sidebar": "Contents",
   "toc_cell": false,
   "toc_position": {
    "height": "606.297px",
    "left": "364px",
    "top": "111.125px",
    "width": "336.875px"
   },
   "toc_section_display": true,
   "toc_window_display": false
  },
  "varInspector": {
   "cols": {
    "lenName": 16,
    "lenType": 16,
    "lenVar": 40
   },
   "kernels_config": {
    "python": {
     "delete_cmd_postfix": "",
     "delete_cmd_prefix": "del ",
     "library": "var_list.py",
     "varRefreshCmd": "print(var_dic_list())"
    },
    "r": {
     "delete_cmd_postfix": ") ",
     "delete_cmd_prefix": "rm(",
     "library": "var_list.r",
     "varRefreshCmd": "cat(var_dic_list()) "
    }
   },
   "types_to_exclude": [
    "module",
    "function",
    "builtin_function_or_method",
    "instance",
    "_Feature"
   ],
   "window_display": false
  }
 },
 "nbformat": 4,
 "nbformat_minor": 2
}
