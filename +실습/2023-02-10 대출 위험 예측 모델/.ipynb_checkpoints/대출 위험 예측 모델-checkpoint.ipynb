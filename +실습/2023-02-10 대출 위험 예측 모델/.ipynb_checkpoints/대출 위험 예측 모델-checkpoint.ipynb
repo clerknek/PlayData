{
 "cells": [
  {
   "cell_type": "markdown",
   "id": "45b409b4",
   "metadata": {
    "ExecuteTime": {
     "end_time": "2023-02-10T02:03:56.488651Z",
     "start_time": "2023-02-10T02:03:56.460651Z"
    }
   },
   "source": [
    "**kgmyh@naver.com** (월요일 수업 전까지)\n",
    "이름_머신러닝미니프로젝트.html\n",
    "\n",
    "\n",
    "- 전처리 \n",
    "    - 결측치\n",
    "    - 이상치\n",
    "    - FE\n",
    "    - 업무지식\n",
    "\n",
    "- 모델선택 -> 기본 parameter 생성\n",
    "        - svm 사용 X\n",
    "    - ->튜링\n",
    "\n",
    "- roc - auc가\n",
    "    - 0.85를 넘는 것을 목표로"
   ]
  },
  {
   "cell_type": "markdown",
   "id": "82f6afaf",
   "metadata": {},
   "source": [
    "## 데이터 셋을 살펴보고 관련 내용 예상\n",
    "\n",
    "- 값:1 (연체한 적 있음)\n",
    "- 값:0 (연체한 적 없음)\n",
    "\n",
    "- RevolvingUtilizationOfUnsecuredLines\n",
    "    - 전체 운용가능한 돈 대비 현재 운용가능한 돈의 비율\n",
    "    - 현재 운용할 수 있는 돈의 비율이 높으면 좋긴 하지만 그 대출자가 어느 정도 버는 지를 모르기 때문에 현재 운용할 수 있는 돈을 모를 수도 있을 것 같다\n",
    "        - 약간 애매하지만 **높을 수록 0값에 가까울 듯**\n",
    "- Age\n",
    "    - 나이\n",
    "    - 나이와 금액 지불 능력이랑은 별개일 것 같다.\n",
    "        - **관련이 없는 열 일듯**\n",
    "    \n",
    "- NumberOfTime30 59DaysPastDueNotWorse\n",
    "    - 최근 2 년 동안 30 일 ~ 59 일 연체한 횟수\n",
    "    - 과거 연체한 횟수가 높을 수록 대출자가 다음번에도 연체할 가능성이 높아질 것 같다\n",
    "        - **높을 수록 1값에 가까울 듯**\n",
    "        \n",
    "- DebtRatio\n"
   ]
  },
  {
   "cell_type": "code",
   "execution_count": 1,
   "id": "53b1679d",
   "metadata": {
    "ExecuteTime": {
     "end_time": "2023-02-12T08:57:36.110763Z",
     "start_time": "2023-02-12T08:57:34.004785Z"
    }
   },
   "outputs": [
    {
     "data": {
      "text/plain": [
       "(150000, 11)"
      ]
     },
     "execution_count": 1,
     "metadata": {},
     "output_type": "execute_result"
    }
   ],
   "source": [
    "# 데이터 불러오기\n",
    "import pandas as pd\n",
    "\n",
    "cols = ['target', 'buget-rate', 'age', 'pastdue30-59', 'debt-ratio', 'monthly-income', 'num-of-creditline', 'pastdue90','num-of-real-estateline', 'pastdue60-80', 'dependents']\n",
    "\n",
    "df = pd.read_csv(\"cs_data.csv\", index_col=0)\n",
    "df.columns = cols\n",
    "df.shape"
   ]
  },
  {
   "cell_type": "code",
   "execution_count": 2,
   "id": "78e11d37",
   "metadata": {
    "ExecuteTime": {
     "end_time": "2023-02-12T08:57:40.338009Z",
     "start_time": "2023-02-12T08:57:40.277001Z"
    },
    "scrolled": false
   },
   "outputs": [
    {
     "name": "stdout",
     "output_type": "stream",
     "text": [
      "<class 'pandas.core.frame.DataFrame'>\n",
      "Int64Index: 120269 entries, 1 to 150000\n",
      "Data columns (total 11 columns):\n",
      " #   Column                  Non-Null Count   Dtype  \n",
      "---  ------                  --------------   -----  \n",
      " 0   target                  120269 non-null  int64  \n",
      " 1   buget-rate              120269 non-null  float64\n",
      " 2   age                     120269 non-null  int64  \n",
      " 3   pastdue30-59            120269 non-null  int64  \n",
      " 4   debt-ratio              120269 non-null  float64\n",
      " 5   monthly-income          120269 non-null  float64\n",
      " 6   num-of-creditline       120269 non-null  int64  \n",
      " 7   pastdue90               120269 non-null  int64  \n",
      " 8   num-of-real-estateline  120269 non-null  int64  \n",
      " 9   pastdue60-80            120269 non-null  int64  \n",
      " 10  dependents              120269 non-null  float64\n",
      "dtypes: float64(4), int64(7)\n",
      "memory usage: 11.0 MB\n"
     ]
    }
   ],
   "source": [
    "# none 값 지우기\n",
    "df.dropna(inplace=True)\n",
    "df.info()"
   ]
  },
  {
   "cell_type": "code",
   "execution_count": 3,
   "id": "4ed0b4f6",
   "metadata": {
    "ExecuteTime": {
     "end_time": "2023-02-12T08:57:41.690156Z",
     "start_time": "2023-02-12T08:57:41.648121Z"
    },
    "scrolled": false
   },
   "outputs": [
    {
     "data": {
      "text/html": [
       "<div>\n",
       "<style scoped>\n",
       "    .dataframe tbody tr th:only-of-type {\n",
       "        vertical-align: middle;\n",
       "    }\n",
       "\n",
       "    .dataframe tbody tr th {\n",
       "        vertical-align: top;\n",
       "    }\n",
       "\n",
       "    .dataframe thead th {\n",
       "        text-align: right;\n",
       "    }\n",
       "</style>\n",
       "<table border=\"1\" class=\"dataframe\">\n",
       "  <thead>\n",
       "    <tr style=\"text-align: right;\">\n",
       "      <th></th>\n",
       "      <th>target</th>\n",
       "      <th>buget-rate</th>\n",
       "      <th>age</th>\n",
       "      <th>pastdue30-59</th>\n",
       "      <th>debt-ratio</th>\n",
       "      <th>monthly-income</th>\n",
       "      <th>num-of-creditline</th>\n",
       "      <th>pastdue90</th>\n",
       "      <th>num-of-real-estateline</th>\n",
       "      <th>pastdue60-80</th>\n",
       "      <th>dependents</th>\n",
       "    </tr>\n",
       "  </thead>\n",
       "  <tbody>\n",
       "    <tr>\n",
       "      <th>1</th>\n",
       "      <td>1</td>\n",
       "      <td>0.766127</td>\n",
       "      <td>45</td>\n",
       "      <td>2</td>\n",
       "      <td>0.802982</td>\n",
       "      <td>9120.0</td>\n",
       "      <td>13</td>\n",
       "      <td>0</td>\n",
       "      <td>6</td>\n",
       "      <td>0</td>\n",
       "      <td>2.0</td>\n",
       "    </tr>\n",
       "    <tr>\n",
       "      <th>2</th>\n",
       "      <td>0</td>\n",
       "      <td>0.957151</td>\n",
       "      <td>40</td>\n",
       "      <td>0</td>\n",
       "      <td>0.121876</td>\n",
       "      <td>2600.0</td>\n",
       "      <td>4</td>\n",
       "      <td>0</td>\n",
       "      <td>0</td>\n",
       "      <td>0</td>\n",
       "      <td>1.0</td>\n",
       "    </tr>\n",
       "    <tr>\n",
       "      <th>3</th>\n",
       "      <td>0</td>\n",
       "      <td>0.658180</td>\n",
       "      <td>38</td>\n",
       "      <td>1</td>\n",
       "      <td>0.085113</td>\n",
       "      <td>3042.0</td>\n",
       "      <td>2</td>\n",
       "      <td>1</td>\n",
       "      <td>0</td>\n",
       "      <td>0</td>\n",
       "      <td>0.0</td>\n",
       "    </tr>\n",
       "    <tr>\n",
       "      <th>4</th>\n",
       "      <td>0</td>\n",
       "      <td>0.233810</td>\n",
       "      <td>30</td>\n",
       "      <td>0</td>\n",
       "      <td>0.036050</td>\n",
       "      <td>3300.0</td>\n",
       "      <td>5</td>\n",
       "      <td>0</td>\n",
       "      <td>0</td>\n",
       "      <td>0</td>\n",
       "      <td>0.0</td>\n",
       "    </tr>\n",
       "    <tr>\n",
       "      <th>5</th>\n",
       "      <td>0</td>\n",
       "      <td>0.907239</td>\n",
       "      <td>49</td>\n",
       "      <td>1</td>\n",
       "      <td>0.024926</td>\n",
       "      <td>63588.0</td>\n",
       "      <td>7</td>\n",
       "      <td>0</td>\n",
       "      <td>1</td>\n",
       "      <td>0</td>\n",
       "      <td>0.0</td>\n",
       "    </tr>\n",
       "  </tbody>\n",
       "</table>\n",
       "</div>"
      ],
      "text/plain": [
       "   target  buget-rate  age  pastdue30-59  debt-ratio  monthly-income  \\\n",
       "1       1    0.766127   45             2    0.802982          9120.0   \n",
       "2       0    0.957151   40             0    0.121876          2600.0   \n",
       "3       0    0.658180   38             1    0.085113          3042.0   \n",
       "4       0    0.233810   30             0    0.036050          3300.0   \n",
       "5       0    0.907239   49             1    0.024926         63588.0   \n",
       "\n",
       "   num-of-creditline  pastdue90  num-of-real-estateline  pastdue60-80  \\\n",
       "1                 13          0                       6             0   \n",
       "2                  4          0                       0             0   \n",
       "3                  2          1                       0             0   \n",
       "4                  5          0                       0             0   \n",
       "5                  7          0                       1             0   \n",
       "\n",
       "   dependents  \n",
       "1         2.0  \n",
       "2         1.0  \n",
       "3         0.0  \n",
       "4         0.0  \n",
       "5         0.0  "
      ]
     },
     "execution_count": 3,
     "metadata": {},
     "output_type": "execute_result"
    }
   ],
   "source": [
    "df.head()"
   ]
  },
  {
   "cell_type": "code",
   "execution_count": 4,
   "id": "cfa53c22",
   "metadata": {
    "ExecuteTime": {
     "end_time": "2023-02-12T08:57:42.540186Z",
     "start_time": "2023-02-12T08:57:42.503001Z"
    }
   },
   "outputs": [
    {
     "name": "stdout",
     "output_type": "stream",
     "text": [
      "<class 'pandas.core.series.Series'>\n",
      "Int64Index: 120269 entries, 1 to 150000\n",
      "Series name: target\n",
      "Non-Null Count   Dtype\n",
      "--------------   -----\n",
      "120269 non-null  int64\n",
      "dtypes: int64(1)\n",
      "memory usage: 1.8 MB\n"
     ]
    }
   ],
   "source": [
    "X = df.drop(['target'], axis=1)\n",
    "y = df['target']\n",
    "y.info()"
   ]
  },
  {
   "cell_type": "markdown",
   "id": "f587f789",
   "metadata": {},
   "source": [
    "### 결과 값이 2년내에 대출금 연체할 가능성이 있는 지 여부를 예측하는 것이기 때문에 Clasification을 진행한다\n",
    "- Decision Tree\n",
    "- Random Forest\n",
    "- SVM\n",
    "- KNN\n",
    "- Logistic Regression"
   ]
  },
  {
   "cell_type": "markdown",
   "id": "ef910bf7",
   "metadata": {},
   "source": [
    "- import 하기"
   ]
  },
  {
   "cell_type": "code",
   "execution_count": 45,
   "id": "719c9aeb",
   "metadata": {
    "ExecuteTime": {
     "end_time": "2023-02-12T12:14:56.986752Z",
     "start_time": "2023-02-12T12:14:56.970752Z"
    }
   },
   "outputs": [],
   "source": [
    "from sklearn.model_selection import train_test_split, GridSearchCV\n",
    "from sklearn.preprocessing import StandardScaler\n",
    "\n",
    "from sklearn.tree import DecisionTreeClassifier\n",
    "from sklearn.ensemble import RandomForestClassifier\n",
    "from sklearn.svm import SVC\n",
    "from sklearn.neighbors import KNeighborsClassifier\n",
    "from sklearn.linear_model import LogisticRegression\n",
    "\n",
    "from sklearn.pipeline import Pipeline"
   ]
  },
  {
   "cell_type": "markdown",
   "id": "b8721649",
   "metadata": {},
   "source": [
    "- 데이터 나누기"
   ]
  },
  {
   "cell_type": "code",
   "execution_count": 46,
   "id": "df7363c7",
   "metadata": {
    "ExecuteTime": {
     "end_time": "2023-02-12T12:14:58.422483Z",
     "start_time": "2023-02-12T12:14:58.335203Z"
    },
    "scrolled": false
   },
   "outputs": [
    {
     "data": {
      "text/plain": [
       "((90201, 10), (30068, 10))"
      ]
     },
     "execution_count": 46,
     "metadata": {},
     "output_type": "execute_result"
    }
   ],
   "source": [
    "X_train, X_test, y_train, y_test = train_test_split(X, y, stratify=y)\n",
    "X_train.shape, X_test.shape"
   ]
  },
  {
   "cell_type": "code",
   "execution_count": 47,
   "id": "20604ce0",
   "metadata": {
    "ExecuteTime": {
     "end_time": "2023-02-12T12:14:59.049668Z",
     "start_time": "2023-02-12T12:14:59.031602Z"
    }
   },
   "outputs": [],
   "source": [
    "from sklearn.metrics import average_precision_score, roc_auc_score\n",
    "def pmc(y, pred_pos_proba, title=None):\n",
    "    \"\"\"\n",
    "    Average Precision Score와 roc-auc score를 출력\n",
    "    [parameter]\n",
    "        y: ndarray - 정답의 label\n",
    "        pred_pos_proba: ndarray - 모델이 추론한 positive(양성)의 확률\n",
    "    \"\"\"\n",
    "    if title:\n",
    "        print(title)\n",
    "    print('roc_auc', roc_auc_score(y, pred_pos_proba))"
   ]
  },
  {
   "cell_type": "code",
   "execution_count": 58,
   "id": "2f293ff8",
   "metadata": {
    "ExecuteTime": {
     "end_time": "2023-02-12T12:21:10.987276Z",
     "start_time": "2023-02-12T12:21:10.963711Z"
    }
   },
   "outputs": [],
   "source": [
    "def print_result(name, model, params):\n",
    "    gs = GridSearchCV(model, params, cv=4, n_jobs = -1)\n",
    "    gs.fit(X_train, y_train)\n",
    "    train_pred = gs.best_estimator_.predict(X_train)\n",
    "    test_pred = gs.best_estimator_.predict(X_test)\n",
    "\n",
    "    test_pred_dict[name] = test_pred\n",
    "    pmc(y_train, train_pred, f'{name}의 train set')\n",
    "    print(\"-\"*50)\n",
    "    pmc(y_test, test_pred, f'{name}의 test set')\n",
    "    print(\"=\"*100)"
   ]
  },
  {
   "cell_type": "code",
   "execution_count": 48,
   "id": "d86a31c9",
   "metadata": {
    "ExecuteTime": {
     "end_time": "2023-02-12T12:15:00.983390Z",
     "start_time": "2023-02-12T12:15:00.966397Z"
    }
   },
   "outputs": [],
   "source": [
    "\n"
   ]
  },
  {
   "cell_type": "markdown",
   "id": "188e8a04",
   "metadata": {},
   "source": [
    "### Decision Tree"
   ]
  },
  {
   "cell_type": "code",
   "execution_count": 59,
   "id": "587d71a8",
   "metadata": {
    "ExecuteTime": {
     "end_time": "2023-02-12T12:21:32.274435Z",
     "start_time": "2023-02-12T12:21:15.225691Z"
    }
   },
   "outputs": [
    {
     "name": "stdout",
     "output_type": "stream",
     "text": [
      "Decision Tree의 train set\n",
      "roc_auc 0.5738556588017893\n",
      "--------------------------------------------------\n",
      "Decision Tree의 test set\n",
      "roc_auc 0.5799472612734186\n",
      "====================================================================================================\n"
     ]
    }
   ],
   "source": [
    "tree = DecisionTreeClassifier()\n",
    "\n",
    "params = {\n",
    "    'max_depth':range(1, 10),\n",
    "    'max_leaf_nodes':[3, 5, 7, 9]\n",
    "}\n",
    "name = \"Decision Tree\"\n",
    "\n",
    "print_result(name, tree, params)"
   ]
  },
  {
   "cell_type": "markdown",
   "id": "4f6626bb",
   "metadata": {},
   "source": [
    "### Random Forest"
   ]
  },
  {
   "cell_type": "code",
   "execution_count": null,
   "id": "5e577e4b",
   "metadata": {
    "ExecuteTime": {
     "start_time": "2023-02-12T12:25:49.474Z"
    }
   },
   "outputs": [],
   "source": [
    "rfc = RandomForestClassifier()\n",
    "\n",
    "params = {\n",
    "    'n_estimators':[500],\n",
    "    'max_depth':[3, 5]\n",
    "}\n",
    "name = \"Random Forest\"\n",
    "print_result(name, rfc, params)"
   ]
  },
  {
   "cell_type": "code",
   "execution_count": null,
   "id": "16be370b",
   "metadata": {},
   "outputs": [],
   "source": []
  },
  {
   "cell_type": "code",
   "execution_count": null,
   "id": "bf67ce41",
   "metadata": {},
   "outputs": [],
   "source": [
    "svc = Pipeline(steps=[('scaler', StandardScaler()),\n",
    "                     ('svc', SVC())])\n",
    "\n",
    "params = {\n",
    "    'n_estimators':[200, 400, 600, 1000],\n",
    "    'max_depth':range(1, 10)\n",
    "}\n",
    "name = \"SVC\"\n",
    "print_result(name, svc, params)"
   ]
  },
  {
   "cell_type": "code",
   "execution_count": null,
   "id": "4ae55e24",
   "metadata": {},
   "outputs": [],
   "source": []
  },
  {
   "cell_type": "code",
   "execution_count": null,
   "id": "2c77a94e",
   "metadata": {},
   "outputs": [],
   "source": [
    "knn = Pipeline(steps=[('scaler', StandardScaler()),\n",
    "                     ('knn', KNeighborsClassifier())])\n",
    "\n",
    "params = {\n",
    "    'n_estimators':[200, 400, 600, 1000],\n",
    "    'max_depth':range(1, 10)\n",
    "}\n",
    "name = \"KNN\"\n",
    "print_result(name, knn, params)"
   ]
  },
  {
   "cell_type": "code",
   "execution_count": null,
   "id": "db1f0a8a",
   "metadata": {},
   "outputs": [],
   "source": []
  },
  {
   "cell_type": "code",
   "execution_count": null,
   "id": "ce9d688a",
   "metadata": {},
   "outputs": [],
   "source": [
    "lr = Pipeline(steps=[('scaler', StandardScaler()),\n",
    "                     ('lr', LogisticRegression())])\n",
    "\n",
    "params = {\n",
    "    'n_estimators':[200, 400, 600, 1000],\n",
    "    'max_depth':range(1, 10)\n",
    "}\n",
    "name = \"Logistic Regression\"\n",
    "print_result(name, lr, params)"
   ]
  }
 ],
 "metadata": {
  "kernelspec": {
   "display_name": "Python 3 (ipykernel)",
   "language": "python",
   "name": "python3"
  },
  "language_info": {
   "codemirror_mode": {
    "name": "ipython",
    "version": 3
   },
   "file_extension": ".py",
   "mimetype": "text/x-python",
   "name": "python",
   "nbconvert_exporter": "python",
   "pygments_lexer": "ipython3",
   "version": "3.9.15"
  },
  "toc": {
   "base_numbering": 1,
   "nav_menu": {},
   "number_sections": true,
   "sideBar": true,
   "skip_h1_title": false,
   "title_cell": "Table of Contents",
   "title_sidebar": "Contents",
   "toc_cell": false,
   "toc_position": {},
   "toc_section_display": true,
   "toc_window_display": false
  },
  "varInspector": {
   "cols": {
    "lenName": 16,
    "lenType": 16,
    "lenVar": 40
   },
   "kernels_config": {
    "python": {
     "delete_cmd_postfix": "",
     "delete_cmd_prefix": "del ",
     "library": "var_list.py",
     "varRefreshCmd": "print(var_dic_list())"
    },
    "r": {
     "delete_cmd_postfix": ") ",
     "delete_cmd_prefix": "rm(",
     "library": "var_list.r",
     "varRefreshCmd": "cat(var_dic_list()) "
    }
   },
   "types_to_exclude": [
    "module",
    "function",
    "builtin_function_or_method",
    "instance",
    "_Feature"
   ],
   "window_display": false
  }
 },
 "nbformat": 4,
 "nbformat_minor": 5
}
