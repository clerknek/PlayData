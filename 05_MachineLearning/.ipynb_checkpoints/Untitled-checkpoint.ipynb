{
 "cells": [
  {
   "cell_type": "code",
   "execution_count": 16,
   "id": "f991bad1",
   "metadata": {
    "ExecuteTime": {
     "end_time": "2023-02-03T00:29:34.164995Z",
     "start_time": "2023-02-03T00:29:34.130600Z"
    }
   },
   "outputs": [],
   "source": []
  },
  {
   "cell_type": "code",
   "execution_count": 24,
   "id": "a10ca336",
   "metadata": {
    "ExecuteTime": {
     "end_time": "2023-02-03T00:37:52.286972Z",
     "start_time": "2023-02-03T00:37:52.233514Z"
    }
   },
   "outputs": [
    {
     "name": "stdout",
     "output_type": "stream",
     "text": [
      "1 True False\n",
      "2 True True\n",
      "3 False True\n",
      "4 True True\n",
      "5 False True\n",
      "6 True True\n",
      "7 True True\n",
      "8 True True\n",
      "9 True True\n",
      "10 True True\n",
      "11 False True\n",
      "12 True False\n",
      "13 False True\n",
      "14 True False\n",
      "15 False False\n",
      "[1, 1, 1, 1, 9, 1, 1, 1, 1, 1]\n",
      "[1, 9, 9, 1, 9, 0, 0, 0, 0, 1]\n",
      "[1, 0, 9, 1, 1, 1, 0, 0, 9, 1]\n",
      "[1, 0, 9, 9, 9, 9, 9, 1, 9, 1]\n",
      "[1, 0, 0, 0, 0, 0, 9, 1, 0, 1]\n",
      "[1, 0, 0, 0, 0, 1, 9, 1, 0, 1]\n",
      "[1, 0, 0, 0, 0, 1, 2, 1, 0, 1]\n",
      "[1, 0, 0, 0, 0, 1, 0, 0, 0, 1]\n",
      "[1, 0, 0, 0, 0, 0, 0, 0, 0, 1]\n",
      "[1, 1, 1, 1, 1, 1, 1, 1, 1, 1]\n"
     ]
    }
   ],
   "source": [
    "l = [[1, 1, 1, 1, 1, 1, 1, 1, 1, 1],\n",
    "[1, 0, 0, 1, 0, 0, 0, 0, 0, 1],\n",
    "[1, 0, 0, 1, 1, 1, 0, 0, 0, 1],\n",
    "[1, 0, 0, 0, 0, 0, 0, 1, 0, 1],\n",
    "[1, 0, 0, 0, 0, 0, 0, 1, 0, 1],\n",
    "[1, 0, 0, 0, 0, 1, 0, 1, 0, 1],\n",
    "[1, 0, 0, 0, 0, 1, 2, 1, 0, 1],\n",
    "[1, 0, 0, 0, 0, 1, 0, 0, 0, 1],\n",
    "[1, 0, 0, 0, 0, 0, 0, 0, 0, 1],\n",
    "[1, 1, 1, 1, 1, 1, 1, 1, 1, 1]]\n",
    "\n",
    "a = [1, 1]\n",
    "\n",
    "i = 1\n",
    "j = 0\n",
    "\n",
    "\n",
    "while True:\n",
    "    right = (l[a[1]][a[0]] == 0)\n",
    "    down = (l[a[1]+1][a[0]-1] == 0)\n",
    "    \n",
    "    print(i, right, down)\n",
    "    \n",
    "    \n",
    "    if right == True:\n",
    "        l[a[1]][a[0]] = 9\n",
    "        a[0] += 1\n",
    "    elif right == False and down == True:\n",
    "        l[a[1]-1][a[0]+1] = 9\n",
    "        a[1] += 1\n",
    "        a[0] -= 1\n",
    "    elif right == 2:\n",
    "        l[a[1]][a[0]] = 9\n",
    "        break\n",
    "    else:\n",
    "        break\n",
    "    \n",
    "    i += 1\n",
    "    \n",
    "for lst in l:\n",
    "    print(lst)"
   ]
  },
  {
   "cell_type": "code",
   "execution_count": 15,
   "id": "38b462a6",
   "metadata": {
    "ExecuteTime": {
     "end_time": "2023-02-03T00:28:13.093228Z",
     "start_time": "2023-02-03T00:28:13.061484Z"
    }
   },
   "outputs": [
    {
     "name": "stdout",
     "output_type": "stream",
     "text": [
      "False\n"
     ]
    }
   ],
   "source": [
    "print(l[a[1]][a[0]] == 0)"
   ]
  },
  {
   "cell_type": "code",
   "execution_count": null,
   "id": "626e7bd3",
   "metadata": {},
   "outputs": [],
   "source": []
  }
 ],
 "metadata": {
  "kernelspec": {
   "display_name": "Python 3 (ipykernel)",
   "language": "python",
   "name": "python3"
  },
  "language_info": {
   "codemirror_mode": {
    "name": "ipython",
    "version": 3
   },
   "file_extension": ".py",
   "mimetype": "text/x-python",
   "name": "python",
   "nbconvert_exporter": "python",
   "pygments_lexer": "ipython3",
   "version": "3.9.15"
  },
  "toc": {
   "base_numbering": 1,
   "nav_menu": {},
   "number_sections": true,
   "sideBar": true,
   "skip_h1_title": false,
   "title_cell": "Table of Contents",
   "title_sidebar": "Contents",
   "toc_cell": false,
   "toc_position": {},
   "toc_section_display": true,
   "toc_window_display": false
  },
  "varInspector": {
   "cols": {
    "lenName": 16,
    "lenType": 16,
    "lenVar": 40
   },
   "kernels_config": {
    "python": {
     "delete_cmd_postfix": "",
     "delete_cmd_prefix": "del ",
     "library": "var_list.py",
     "varRefreshCmd": "print(var_dic_list())"
    },
    "r": {
     "delete_cmd_postfix": ") ",
     "delete_cmd_prefix": "rm(",
     "library": "var_list.r",
     "varRefreshCmd": "cat(var_dic_list()) "
    }
   },
   "types_to_exclude": [
    "module",
    "function",
    "builtin_function_or_method",
    "instance",
    "_Feature"
   ],
   "window_display": false
  }
 },
 "nbformat": 4,
 "nbformat_minor": 5
}
