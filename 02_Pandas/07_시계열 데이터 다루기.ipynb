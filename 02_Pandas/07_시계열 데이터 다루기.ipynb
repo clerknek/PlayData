{
 "cells": [
  {
   "cell_type": "markdown",
   "id": "760af56f",
   "metadata": {
    "slideshow": {
     "slide_type": "slide"
    }
   },
   "source": [
    "# 시계열 데이터개요\n",
    "\n",
    "- 시계열 데이터란\n",
    "    - 시간의 흐름에 따라 수집된 데이터를 말한다.\n",
    "    - 일반적으로는 시간의 간격이 균등한 **고정 빈도(fixed frequency)** 데이터가 대부분이지만 불규칙적인 데이터셋도 될 수 있다.                                    \n",
    "    - 판다스는 날짜를 조작하고 다른 시구간에 대해 집계하고 다른 시간대를 샘플링 하는등의 시계열 데이터 분석을 위한 다양한 기능을 제공한다."
   ]
  },
  {
   "cell_type": "markdown",
   "id": "8724dc8d",
   "metadata": {
    "slideshow": {
     "slide_type": "slide"
    }
   },
   "source": [
    "# 파이썬과 판다스의  날짜/시간 데이터 다루기\n",
    "\n",
    "- **파이썬**은 `datetime` 모듈을 이용해 일시를 처리한다. datetime 모듈은 날짜/시간 관련 타입으로 `date, time, datetime` 세개의 클래스를 제공한다.\n",
    "- **판다스**는 `Timestamp` 단일 타입으로 일시를 처리한다. `Timestamp`는 나노초(10억분의 1초)의 정밀도를 가진다.\n",
    "- 파이썬, 판다스 모두 timedelta를 이용해 일시의 차이를 관리한다."
   ]
  },
  {
   "cell_type": "markdown",
   "id": "cd6c1307",
   "metadata": {
    "slideshow": {
     "slide_type": "subslide"
    }
   },
   "source": [
    "## 파이썬 datetime module\n",
    "|클래스|설명|\n",
    "|:-|-:|\n",
    "|**date**|날짜타입 - 년/월/일을 저장|\n",
    "|**time**|시간타입 - 시/분/초/마이크로초를 저장|\n",
    "|**datetime**|날짜,시간을 저장|\n",
    "|**timedelta**|두 datetime 간의 차이를 일/초/마이크로초로 표현|\n",
    "|**tzinfo**|타임존-시간대-를 표현|"
   ]
  },
  {
   "cell_type": "markdown",
   "id": "0b64b0a6",
   "metadata": {
    "slideshow": {
     "slide_type": "fragment"
    }
   },
   "source": [
    "### 날짜 시간 객체 생성"
   ]
  },
  {
   "cell_type": "code",
   "execution_count": 13,
   "id": "775b2721",
   "metadata": {
    "ExecuteTime": {
     "end_time": "2023-01-12T05:44:47.541258Z",
     "start_time": "2023-01-12T05:44:47.525233Z"
    },
    "slideshow": {
     "slide_type": "fragment"
    }
   },
   "outputs": [
    {
     "name": "stdout",
     "output_type": "stream",
     "text": [
      "date: 2023-01-02\n",
      "time: 14:40:20.999999\n",
      "datetime: 2022-12-30 11:30:10.999999\n",
      "2022 30 10\n"
     ]
    }
   ],
   "source": [
    "import datetime  # datetime 모듈 import\n",
    "d = datetime.date(year=2023, month=1, day=2)  # 날짜\n",
    "t = datetime.time(hour=14, minute=40, second=20, microsecond=999999) # 시간  / 100만 마이크로초 = 1초\n",
    "dt = datetime.datetime(year=2022, month=12, day=30, hour=11, minute=30, second=10, microsecond=999999)\n",
    "print(f\"date: {d}\\ntime: {t}\\ndatetime: {dt}\")\n",
    "print(dt.year, dt.day, dt.second)"
   ]
  },
  {
   "cell_type": "code",
   "execution_count": 19,
   "id": "37da4c97",
   "metadata": {
    "ExecuteTime": {
     "end_time": "2023-01-12T05:47:06.563115Z",
     "start_time": "2023-01-12T05:47:06.548095Z"
    }
   },
   "outputs": [
    {
     "name": "stdout",
     "output_type": "stream",
     "text": [
      "현재날짜: 2023-01-12\n",
      "현재일시: 2023-01-12 14:47:06.553074\n"
     ]
    }
   ],
   "source": [
    "from datetime import datetime, time, date\n",
    "# 실행시점의 날짜, 일시 조회\n",
    "print(\"현재날짜:\", date.today())\n",
    "print(\"현재일시:\", datetime.now())  # 컴퓨터 내부의 날짜"
   ]
  },
  {
   "cell_type": "markdown",
   "id": "a8eb826d",
   "metadata": {
    "slideshow": {
     "slide_type": "subslide"
    }
   },
   "source": [
    "### timedelta 를 이용한 계산\n",
    "- datetime간의 간격을 표현한다.\n",
    "    - 특정 날짜나 시간에서 일정 기간을 더하거나 뺀 일시를 계산할 때 사용\n",
    "    - 날짜/시간 간의 차이를 계산한 결과로 사용 (두 일시간의 뺄셈의 결과)\n",
    "    - 차이를 day, second, microseconds로 표현한다.\n",
    "    - 객체 생성시  weeks, days, hours, minutes, seconds, milliseconds, microseconds 를 넣어 차이를 표현한다."
   ]
  },
  {
   "cell_type": "code",
   "execution_count": 24,
   "id": "d5e34d11",
   "metadata": {
    "ExecuteTime": {
     "end_time": "2023-01-12T06:17:47.931953Z",
     "start_time": "2023-01-12T06:17:47.908956Z"
    },
    "slideshow": {
     "slide_type": "fragment"
    }
   },
   "outputs": [
    {
     "name": "stdout",
     "output_type": "stream",
     "text": [
      "2023-01-12 15:17:47.914955\n",
      "2022-12-26 10:07:17.714955\n",
      "2023-01-29 20:28:18.114955\n"
     ]
    }
   ],
   "source": [
    "from datetime import timedelta\n",
    "tdelta = timedelta(days=1)  # 1일차\n",
    "tdelta = timedelta(weeks=1) # 1주일차\n",
    "tdelta = timedelta(weeks=2, days=3, hours=5, minutes=10, seconds=30, milliseconds=100, microseconds=100000)\n",
    "\n",
    "c = datetime.now()\n",
    "print(c)\n",
    "print(c - tdelta)\n",
    "print(c + tdelta)"
   ]
  },
  {
   "cell_type": "code",
   "execution_count": 26,
   "id": "0d429551",
   "metadata": {
    "ExecuteTime": {
     "end_time": "2023-01-12T06:20:01.509557Z",
     "start_time": "2023-01-12T06:20:01.484546Z"
    }
   },
   "outputs": [
    {
     "data": {
      "text/plain": [
       "datetime.timedelta(days=376)"
      ]
     },
     "execution_count": 26,
     "metadata": {},
     "output_type": "execute_result"
    }
   ],
   "source": [
    "date(2023, 1, 12) - date(2022, 1, 1) # 날짜 차이를 timedelta"
   ]
  },
  {
   "cell_type": "code",
   "execution_count": 27,
   "id": "62171b16",
   "metadata": {
    "ExecuteTime": {
     "end_time": "2023-01-12T06:20:33.419287Z",
     "start_time": "2023-01-12T06:20:33.403242Z"
    }
   },
   "outputs": [
    {
     "data": {
      "text/plain": [
       "datetime.timedelta(days=376, seconds=18011, microseconds=406242)"
      ]
     },
     "execution_count": 27,
     "metadata": {},
     "output_type": "execute_result"
    }
   ],
   "source": [
    "datetime.now() - datetime(2022, 1, 1, 10, 20, 22)"
   ]
  },
  {
   "cell_type": "markdown",
   "id": "3459ecda",
   "metadata": {
    "slideshow": {
     "slide_type": "subslide"
    }
   },
   "source": [
    "### datetime 과 문자열간 변환\n",
    "\n",
    "- strftime()\n",
    "    - datetime, date, time 객체를 지정한 형식의 문자열로 변환\n",
    "- strptime()\n",
    "    - 일시 형태의 문자열로 부터 datetime 객체를 생성한다.\n",
    "- 요소를 나타내는 주요 형식문자\n",
    "    - %Y, %m, %d : 년, 월, 일\n",
    "    - %H, %M, %S : 시, 분, 초\n",
    "    - https://docs.python.org/ko/3/library/datetime.html#strftime-and-strptime-format-codes"
   ]
  },
  {
   "cell_type": "code",
   "execution_count": 20,
   "id": "e0df384b",
   "metadata": {
    "ExecuteTime": {
     "end_time": "2023-01-12T07:13:33.676536Z",
     "start_time": "2023-01-12T07:13:33.651525Z"
    },
    "slideshow": {
     "slide_type": "fragment"
    }
   },
   "outputs": [
    {
     "name": "stdout",
     "output_type": "stream",
     "text": [
      "2023-01-12\n",
      "2023년 01월 12일 Thu\n",
      "2023-01-12 16:13:33.657528\n",
      "2023/01/12 16, 04 PM\n"
     ]
    }
   ],
   "source": [
    "from datetime import datetime, date\n",
    "today = date.today()\n",
    "print(today)\n",
    "print(today.strftime(\"%Y년 %m월 %d일 %a\")) # %a: 요일 3글자 /  %A: 요일 풀네임\n",
    "curr = datetime.now()\n",
    "print(curr)\n",
    "print(curr.strftime(\"%Y/%m/%d %H, %I %p\"))  # %I : 12시간 기준 hour /   %p : 오전, 오후"
   ]
  },
  {
   "cell_type": "code",
   "execution_count": 21,
   "id": "991fc7b2",
   "metadata": {
    "ExecuteTime": {
     "end_time": "2023-01-12T07:13:36.821671Z",
     "start_time": "2023-01-12T07:13:36.804646Z"
    }
   },
   "outputs": [
    {
     "name": "stdout",
     "output_type": "stream",
     "text": [
      "목\n",
      "2023년 01월 12일 Thu 목요일\n"
     ]
    }
   ],
   "source": [
    "dow=list('월화수목금토일')\n",
    "print(dow[today.weekday()])  # date.weekday(), datetime.weekday() => 요일을 정수반환 (0:월, 6:일)\n",
    "print(today.strftime(f\"%Y년 %m월 %d일 %a {dow[today.weekday()]}요일\"))"
   ]
  },
  {
   "cell_type": "code",
   "execution_count": 5,
   "id": "d99cf7f6",
   "metadata": {
    "ExecuteTime": {
     "end_time": "2023-01-12T06:36:17.512087Z",
     "start_time": "2023-01-12T06:36:17.496086Z"
    }
   },
   "outputs": [
    {
     "data": {
      "text/plain": [
       "datetime.datetime(2000, 10, 30, 0, 0)"
      ]
     },
     "execution_count": 5,
     "metadata": {},
     "output_type": "execute_result"
    }
   ],
   "source": [
    "s = \"2000년 10월 30일\"\n",
    "# 문자열 -> datetime\n",
    "datetime.strptime(s, \"%Y년 %m월 %d일\")"
   ]
  },
  {
   "cell_type": "markdown",
   "id": "8a5b5f26",
   "metadata": {
    "slideshow": {
     "slide_type": "slide"
    }
   },
   "source": [
    "## 판다스 Timestamp\n",
    "- 날짜 시간을 나노초(10억분의 1초) 단위의 정밀도로 표현한다.\n",
    "- 다양한 방식으로 객체를 생성할 수 있다.\n",
    "    - 직접 원하는 일시를 넣어 생성\n",
    "    - 일시 형태의 문자열을 이용해 생성\n",
    "    - unix time 부터 계산하여 생성 - 1970년 1월 1일 0시 0분 0초 0나노초\n"
   ]
  },
  {
   "cell_type": "code",
   "execution_count": 11,
   "id": "b25f11fc",
   "metadata": {
    "ExecuteTime": {
     "end_time": "2023-01-12T06:42:22.730155Z",
     "start_time": "2023-01-12T06:42:22.707155Z"
    },
    "slideshow": {
     "slide_type": "fragment"
    }
   },
   "outputs": [
    {
     "data": {
      "text/plain": [
       "Timestamp('2020-11-21 10:30:10.000001001')"
      ]
     },
     "execution_count": 11,
     "metadata": {},
     "output_type": "execute_result"
    }
   ],
   "source": [
    "import pandas as pd\n",
    "# 원하는 일시를 넣어서 생성\n",
    "print(pd.Timestamp(year=2020, month=11, day=21))  # 날짜까지는 필수\n",
    "print(pd.Timestamp(year=2020, month=11, day=21, hour=10))\n",
    "print(pd.Timestamp(year=2020, month=11, day=21, hour=10, minute=30))\n",
    "print(pd.Timestamp(year=2020, month=11, day=21, hour=10, minute=30, second=10, microsecond=1, nanosecond=1))"
   ]
  },
  {
   "cell_type": "code",
   "execution_count": 15,
   "id": "5ebbfa71",
   "metadata": {
    "ExecuteTime": {
     "end_time": "2023-01-12T06:45:48.404542Z",
     "start_time": "2023-01-12T06:45:48.387504Z"
    }
   },
   "outputs": [
    {
     "name": "stdout",
     "output_type": "stream",
     "text": [
      "2023-01-02 00:00:00\n",
      "2023-01-12 12:23:00\n",
      "2023-01-12 12:23:12.123300\n",
      "2023-01-12 12:23:12.123300\n"
     ]
    }
   ],
   "source": [
    "# 문자열 생성\n",
    "# 날짜: '/'나 '-'로 구분자를 사용, 시간: ':'을 구분자로 사용\n",
    "print(pd.Timestamp('2023/1/2'))\n",
    "print(pd.Timestamp('2023/1/12 12:23'))\n",
    "print(pd.Timestamp('2023/1/12 12:23:12.1233'))\n",
    "print(pd.Timestamp('2023-1-12T12:23:12.1233')) # 날짜와 시간 구분: 공백이나 T"
   ]
  },
  {
   "cell_type": "code",
   "execution_count": 18,
   "id": "35c74e3b",
   "metadata": {
    "ExecuteTime": {
     "end_time": "2023-01-12T06:48:36.492642Z",
     "start_time": "2023-01-12T06:48:36.474649Z"
    }
   },
   "outputs": [
    {
     "name": "stdout",
     "output_type": "stream",
     "text": [
      "1970-01-01 00:00:00.000000100\n",
      "1980-01-01 00:00:00\n",
      "1970-11-01 00:00:00\n",
      "1970-03-12 00:00:00\n"
     ]
    }
   ],
   "source": [
    "# 유닉스 타입을 기준으로 경과한 날짜.\n",
    "print(pd.Timestamp(100)) # 100 나노초 경과한 일시\n",
    "print(pd.Timestamp(10, unit='Y')) # 10년\n",
    "print(pd.Timestamp(10, unit='M')) # 10개월\n",
    "print(pd.Timestamp(10, unit='W')) # 10주"
   ]
  },
  {
   "cell_type": "markdown",
   "id": "f156ff64",
   "metadata": {
    "slideshow": {
     "slide_type": "subslide"
    }
   },
   "source": [
    "### to_datetime()\n",
    "- 날짜와 관련된 다양한 값들을 Timestamp로 변환한다.\n",
    "- Series나 리스트의 값들을 한번에 변환할 수 있다. "
   ]
  },
  {
   "cell_type": "code",
   "execution_count": 24,
   "id": "fcd81b07",
   "metadata": {
    "ExecuteTime": {
     "end_time": "2023-01-12T07:19:37.774029Z",
     "start_time": "2023-01-12T07:19:37.741025Z"
    },
    "slideshow": {
     "slide_type": "fragment"
    }
   },
   "outputs": [
    {
     "data": {
      "text/plain": [
       "0   1970-01-11\n",
       "1   1970-04-11\n",
       "2   1970-04-11\n",
       "3   1997-05-19\n",
       "dtype: datetime64[ns]"
      ]
     },
     "execution_count": 24,
     "metadata": {},
     "output_type": "execute_result"
    }
   ],
   "source": [
    "s1 = pd.Series([10, 100, 100, 10000])\n",
    "pd.to_datetime(s1, unit='D')"
   ]
  },
  {
   "cell_type": "code",
   "execution_count": 31,
   "id": "3b4f2558",
   "metadata": {
    "ExecuteTime": {
     "end_time": "2023-01-12T07:23:16.144011Z",
     "start_time": "2023-01-12T07:23:16.121996Z"
    }
   },
   "outputs": [
    {
     "data": {
      "text/plain": [
       "0    2000-01-01\n",
       "1    2001-03-10\n",
       "2    2023-01-12\n",
       "dtype: object"
      ]
     },
     "execution_count": 31,
     "metadata": {},
     "output_type": "execute_result"
    }
   ],
   "source": [
    "pd.Series(['2000-01-01', '2001-03-10', '2023-01-12'])"
   ]
  },
  {
   "cell_type": "code",
   "execution_count": 33,
   "id": "26a503fe",
   "metadata": {
    "ExecuteTime": {
     "end_time": "2023-01-12T07:25:47.318476Z",
     "start_time": "2023-01-12T07:25:47.297477Z"
    }
   },
   "outputs": [
    {
     "data": {
      "text/plain": [
       "0   2000-01-01\n",
       "1   2001-03-10\n",
       "2   2023-01-12\n",
       "3          NaT\n",
       "dtype: datetime64[ns]"
      ]
     },
     "execution_count": 33,
     "metadata": {},
     "output_type": "execute_result"
    }
   ],
   "source": [
    "s2 = pd.Series(['2000-01-01', '2001-03-10', '2023-01-12', 'aaadfhiewjog'])  \n",
    "result = pd.to_datetime(s2, errors=\"coerce\")# errors=\"ignore\": 변환못하는 문자일 경우 무시\n",
    "                                            # errors=\"coerce\": NaT 결측치 처리\n",
    "                                            # errors=\"raise\": Exception 발생 - Default\n",
    "result"
   ]
  },
  {
   "cell_type": "code",
   "execution_count": 30,
   "id": "10475982",
   "metadata": {
    "ExecuteTime": {
     "end_time": "2023-01-12T07:22:29.470108Z",
     "start_time": "2023-01-12T07:22:29.449105Z"
    }
   },
   "outputs": [
    {
     "data": {
      "text/plain": [
       "Timestamp('2000-01-01 00:00:00')"
      ]
     },
     "execution_count": 30,
     "metadata": {},
     "output_type": "execute_result"
    }
   ],
   "source": [
    "result[0]"
   ]
  },
  {
   "cell_type": "code",
   "execution_count": 34,
   "id": "989b909a",
   "metadata": {
    "ExecuteTime": {
     "end_time": "2023-01-12T07:28:38.057774Z",
     "start_time": "2023-01-12T07:28:38.035780Z"
    }
   },
   "outputs": [
    {
     "data": {
      "text/plain": [
       "0   2000-01-01\n",
       "1   2001-03-10\n",
       "2   2023-01-12\n",
       "dtype: datetime64[ns]"
      ]
     },
     "execution_count": 34,
     "metadata": {},
     "output_type": "execute_result"
    }
   ],
   "source": [
    "s3 = pd.Series(['2000년 01월 01일', '2001년 03월 10일', '2023년 01월 12일']) \n",
    "pd.to_datetime(s3, format='%Y년 %m월 %d일') # parsing안되는 형식의 일시는 그 형식을 지정해 준다."
   ]
  },
  {
   "cell_type": "code",
   "execution_count": 35,
   "id": "cdce3d7b",
   "metadata": {
    "ExecuteTime": {
     "end_time": "2023-01-12T07:30:16.746465Z",
     "start_time": "2023-01-12T07:30:16.665496Z"
    }
   },
   "outputs": [
    {
     "name": "stdout",
     "output_type": "stream",
     "text": [
      "<class 'pandas.core.frame.DataFrame'>\n",
      "RangeIndex: 1258 entries, 0 to 1257\n",
      "Data columns (total 7 columns):\n",
      " #   Column     Non-Null Count  Dtype  \n",
      "---  ------     --------------  -----  \n",
      " 0   Date       1258 non-null   object \n",
      " 1   Open       1258 non-null   float64\n",
      " 2   High       1258 non-null   float64\n",
      " 3   Low        1258 non-null   float64\n",
      " 4   Close      1258 non-null   float64\n",
      " 5   Volume     1258 non-null   int64  \n",
      " 6   Adj Close  1258 non-null   float64\n",
      "dtypes: float64(5), int64(1), object(1)\n",
      "memory usage: 68.9+ KB\n"
     ]
    }
   ],
   "source": [
    "df = pd.read_csv('data/walmart_stock.csv')\n",
    "df.info()"
   ]
  },
  {
   "cell_type": "code",
   "execution_count": 36,
   "id": "1336407c",
   "metadata": {
    "ExecuteTime": {
     "end_time": "2023-01-12T07:30:36.362641Z",
     "start_time": "2023-01-12T07:30:36.313604Z"
    }
   },
   "outputs": [
    {
     "data": {
      "text/html": [
       "<div>\n",
       "<style scoped>\n",
       "    .dataframe tbody tr th:only-of-type {\n",
       "        vertical-align: middle;\n",
       "    }\n",
       "\n",
       "    .dataframe tbody tr th {\n",
       "        vertical-align: top;\n",
       "    }\n",
       "\n",
       "    .dataframe thead th {\n",
       "        text-align: right;\n",
       "    }\n",
       "</style>\n",
       "<table border=\"1\" class=\"dataframe\">\n",
       "  <thead>\n",
       "    <tr style=\"text-align: right;\">\n",
       "      <th></th>\n",
       "      <th>Date</th>\n",
       "      <th>Open</th>\n",
       "      <th>High</th>\n",
       "      <th>Low</th>\n",
       "      <th>Close</th>\n",
       "      <th>Volume</th>\n",
       "      <th>Adj Close</th>\n",
       "    </tr>\n",
       "  </thead>\n",
       "  <tbody>\n",
       "    <tr>\n",
       "      <th>0</th>\n",
       "      <td>2012-01-03</td>\n",
       "      <td>59.970001</td>\n",
       "      <td>61.060001</td>\n",
       "      <td>59.869999</td>\n",
       "      <td>60.330002</td>\n",
       "      <td>12668800</td>\n",
       "      <td>52.619235</td>\n",
       "    </tr>\n",
       "    <tr>\n",
       "      <th>1</th>\n",
       "      <td>2012-01-04</td>\n",
       "      <td>60.209999</td>\n",
       "      <td>60.349998</td>\n",
       "      <td>59.470001</td>\n",
       "      <td>59.709999</td>\n",
       "      <td>9593300</td>\n",
       "      <td>52.078475</td>\n",
       "    </tr>\n",
       "    <tr>\n",
       "      <th>2</th>\n",
       "      <td>2012-01-05</td>\n",
       "      <td>59.349998</td>\n",
       "      <td>59.619999</td>\n",
       "      <td>58.369999</td>\n",
       "      <td>59.419998</td>\n",
       "      <td>12768200</td>\n",
       "      <td>51.825539</td>\n",
       "    </tr>\n",
       "    <tr>\n",
       "      <th>3</th>\n",
       "      <td>2012-01-06</td>\n",
       "      <td>59.419998</td>\n",
       "      <td>59.450001</td>\n",
       "      <td>58.869999</td>\n",
       "      <td>59.000000</td>\n",
       "      <td>8069400</td>\n",
       "      <td>51.459220</td>\n",
       "    </tr>\n",
       "    <tr>\n",
       "      <th>4</th>\n",
       "      <td>2012-01-09</td>\n",
       "      <td>59.029999</td>\n",
       "      <td>59.549999</td>\n",
       "      <td>58.919998</td>\n",
       "      <td>59.180000</td>\n",
       "      <td>6679300</td>\n",
       "      <td>51.616215</td>\n",
       "    </tr>\n",
       "  </tbody>\n",
       "</table>\n",
       "</div>"
      ],
      "text/plain": [
       "         Date       Open       High        Low      Close    Volume  Adj Close\n",
       "0  2012-01-03  59.970001  61.060001  59.869999  60.330002  12668800  52.619235\n",
       "1  2012-01-04  60.209999  60.349998  59.470001  59.709999   9593300  52.078475\n",
       "2  2012-01-05  59.349998  59.619999  58.369999  59.419998  12768200  51.825539\n",
       "3  2012-01-06  59.419998  59.450001  58.869999  59.000000   8069400  51.459220\n",
       "4  2012-01-09  59.029999  59.549999  58.919998  59.180000   6679300  51.616215"
      ]
     },
     "execution_count": 36,
     "metadata": {},
     "output_type": "execute_result"
    }
   ],
   "source": [
    "df.head()"
   ]
  },
  {
   "cell_type": "code",
   "execution_count": 39,
   "id": "4a397784",
   "metadata": {
    "ExecuteTime": {
     "end_time": "2023-01-12T07:33:19.461223Z",
     "start_time": "2023-01-12T07:33:19.449183Z"
    }
   },
   "outputs": [],
   "source": [
    "df2 = df.copy()"
   ]
  },
  {
   "cell_type": "code",
   "execution_count": 40,
   "id": "78ca714d",
   "metadata": {
    "ExecuteTime": {
     "end_time": "2023-01-12T07:33:47.884741Z",
     "start_time": "2023-01-12T07:33:47.849736Z"
    }
   },
   "outputs": [
    {
     "name": "stdout",
     "output_type": "stream",
     "text": [
      "<class 'pandas.core.frame.DataFrame'>\n",
      "RangeIndex: 1258 entries, 0 to 1257\n",
      "Data columns (total 7 columns):\n",
      " #   Column     Non-Null Count  Dtype         \n",
      "---  ------     --------------  -----         \n",
      " 0   Date       1258 non-null   datetime64[ns]\n",
      " 1   Open       1258 non-null   float64       \n",
      " 2   High       1258 non-null   float64       \n",
      " 3   Low        1258 non-null   float64       \n",
      " 4   Close      1258 non-null   float64       \n",
      " 5   Volume     1258 non-null   int64         \n",
      " 6   Adj Close  1258 non-null   float64       \n",
      "dtypes: datetime64[ns](1), float64(5), int64(1)\n",
      "memory usage: 68.9 KB\n"
     ]
    }
   ],
   "source": [
    "# Date: object -> datetime 타입의 컬럼으로 변환\n",
    "df['Date'] = pd.to_datetime(df['Date']) # to_datetime을 통해 변환\n",
    "df.info()"
   ]
  },
  {
   "cell_type": "code",
   "execution_count": 43,
   "id": "b5ec7168",
   "metadata": {
    "ExecuteTime": {
     "end_time": "2023-01-12T07:36:22.237132Z",
     "start_time": "2023-01-12T07:36:22.211104Z"
    }
   },
   "outputs": [
    {
     "name": "stdout",
     "output_type": "stream",
     "text": [
      "<class 'pandas.core.frame.DataFrame'>\n",
      "RangeIndex: 1258 entries, 0 to 1257\n",
      "Data columns (total 7 columns):\n",
      " #   Column     Non-Null Count  Dtype         \n",
      "---  ------     --------------  -----         \n",
      " 0   Date       1258 non-null   datetime64[ns]\n",
      " 1   Open       1258 non-null   float64       \n",
      " 2   High       1258 non-null   float64       \n",
      " 3   Low        1258 non-null   float64       \n",
      " 4   Close      1258 non-null   float64       \n",
      " 5   Volume     1258 non-null   int64         \n",
      " 6   Adj Close  1258 non-null   float64       \n",
      "dtypes: datetime64[ns](1), float64(5), int64(1)\n",
      "memory usage: 68.9 KB\n"
     ]
    }
   ],
   "source": [
    "df2['Date'] = df2['Date'].astype(\"datetime64\") # astype을 통해 변환\n",
    "df2.info()"
   ]
  },
  {
   "cell_type": "code",
   "execution_count": 45,
   "id": "f5f6ad63",
   "metadata": {
    "ExecuteTime": {
     "end_time": "2023-01-12T07:39:52.389130Z",
     "start_time": "2023-01-12T07:39:52.347172Z"
    }
   },
   "outputs": [
    {
     "name": "stdout",
     "output_type": "stream",
     "text": [
      "<class 'pandas.core.frame.DataFrame'>\n",
      "RangeIndex: 1258 entries, 0 to 1257\n",
      "Data columns (total 7 columns):\n",
      " #   Column     Non-Null Count  Dtype         \n",
      "---  ------     --------------  -----         \n",
      " 0   Date       1258 non-null   datetime64[ns]\n",
      " 1   Open       1258 non-null   float64       \n",
      " 2   High       1258 non-null   float64       \n",
      " 3   Low        1258 non-null   float64       \n",
      " 4   Close      1258 non-null   float64       \n",
      " 5   Volume     1258 non-null   int64         \n",
      " 6   Adj Close  1258 non-null   float64       \n",
      "dtypes: datetime64[ns](1), float64(5), int64(1)\n",
      "memory usage: 68.9 KB\n"
     ]
    }
   ],
   "source": [
    "df3 = pd.read_csv('data/walmart_stock.csv', parse_dates=[0]) # 0번째 컬럼은 datetime 타입으로 변환해라\n",
    "df3.info()"
   ]
  },
  {
   "cell_type": "markdown",
   "id": "c4a54404",
   "metadata": {
    "slideshow": {
     "slide_type": "subslide"
    }
   },
   "source": [
    "### Timestamp 간 연산 및 TimeDelta\n",
    "- element-wise 연산 가능"
   ]
  },
  {
   "cell_type": "code",
   "execution_count": 46,
   "id": "b7f72000",
   "metadata": {
    "ExecuteTime": {
     "end_time": "2023-01-12T07:43:44.160079Z",
     "start_time": "2023-01-12T07:43:44.146086Z"
    },
    "slideshow": {
     "slide_type": "fragment"
    }
   },
   "outputs": [
    {
     "data": {
      "text/plain": [
       "dtype('<M8[ns]')"
      ]
     },
     "execution_count": 46,
     "metadata": {},
     "output_type": "execute_result"
    }
   ],
   "source": [
    "s1 = pd.to_datetime(pd.Series(['2010-01-01', '2010-03-01', '2010-06-01']))\n",
    "s2 = pd.to_datetime(pd.Series(['2012-01-01', '2012-03-01', '2012-06-01']))\n",
    "s2.dtype"
   ]
  },
  {
   "cell_type": "code",
   "execution_count": 49,
   "id": "a56a4e33",
   "metadata": {
    "ExecuteTime": {
     "end_time": "2023-01-12T07:44:46.115163Z",
     "start_time": "2023-01-12T07:44:46.097149Z"
    }
   },
   "outputs": [
    {
     "data": {
      "text/plain": [
       "0   730 days\n",
       "1   731 days\n",
       "2   731 days\n",
       "dtype: timedelta64[ns]"
      ]
     },
     "execution_count": 49,
     "metadata": {},
     "output_type": "execute_result"
    }
   ],
   "source": [
    "result = s2 - s1 # 같은 index의 원소끼리의 날짜 차이 계산\n",
    "result"
   ]
  },
  {
   "cell_type": "code",
   "execution_count": 50,
   "id": "0d17a24c",
   "metadata": {
    "ExecuteTime": {
     "end_time": "2023-01-12T07:44:53.830147Z",
     "start_time": "2023-01-12T07:44:53.817107Z"
    }
   },
   "outputs": [
    {
     "data": {
      "text/plain": [
       "Timedelta('730 days 00:00:00')"
      ]
     },
     "execution_count": 50,
     "metadata": {},
     "output_type": "execute_result"
    }
   ],
   "source": [
    "result[0]"
   ]
  },
  {
   "cell_type": "code",
   "execution_count": 54,
   "id": "3cd5a2ec",
   "metadata": {
    "ExecuteTime": {
     "end_time": "2023-01-12T08:08:15.383272Z",
     "start_time": "2023-01-12T08:08:15.367644Z"
    }
   },
   "outputs": [
    {
     "data": {
      "text/plain": [
       "0   2010-01-18\n",
       "1   2010-03-18\n",
       "2   2010-06-18\n",
       "dtype: datetime64[ns]"
      ]
     },
     "execution_count": 54,
     "metadata": {},
     "output_type": "execute_result"
    }
   ],
   "source": [
    "# TimeDelta 객체 생성\n",
    "# 간격: days, second, milisecond, microsecond, minutes, hours, weeks\n",
    "t_delta = pd.Timedelta(days=3) # 3일차\n",
    "t_delta = pd.Timedelta(weeks=2, days=3)\n",
    "s1 + t_delta # s1의 날짜에서 3일후 날짜를 계산 => element-wise 연산\n",
    "s1 + t_delta"
   ]
  },
  {
   "cell_type": "markdown",
   "id": "b7743ec6",
   "metadata": {
    "slideshow": {
     "slide_type": "slide"
    }
   },
   "source": [
    "# 시계열 데이터셋\n",
    "\n",
    "- 판다스에서 시계열 데이터셋의 가장 기본적인 형태는 Index가 datetime 타입인 Series나 DataFrame 객체이다.\n",
    "    - DateTimeIndex: datetime 타입의 index 타입"
   ]
  },
  {
   "cell_type": "code",
   "execution_count": 57,
   "id": "7f5090fe",
   "metadata": {
    "ExecuteTime": {
     "end_time": "2023-01-12T08:18:57.107690Z",
     "start_time": "2023-01-12T08:18:57.061968Z"
    },
    "slideshow": {
     "slide_type": "fragment"
    }
   },
   "outputs": [
    {
     "name": "stdout",
     "output_type": "stream",
     "text": [
      "<class 'pandas.core.series.Series'>\n",
      "DatetimeIndex: 24 entries, 2022-01-01 to 2023-03-04\n",
      "Series name: None\n",
      "Non-Null Count  Dtype  \n",
      "--------------  -----  \n",
      "24 non-null     float64\n",
      "dtypes: float64(1)\n",
      "memory usage: 384.0 bytes\n"
     ]
    },
    {
     "data": {
      "text/plain": [
       "2022-01-01    1.764052\n",
       "2022-01-02    0.400157\n",
       "2022-01-03    0.978738\n",
       "2022-01-04    2.240893\n",
       "2022-02-01    1.867558\n",
       "2022-02-02   -0.977278\n",
       "2022-02-03    0.950088\n",
       "2022-02-04   -0.151357\n",
       "2022-03-01   -0.103219\n",
       "2022-03-02    0.410599\n",
       "2022-03-03    0.144044\n",
       "2022-03-04    1.454274\n",
       "2023-01-01    0.761038\n",
       "2023-01-02    0.121675\n",
       "2023-01-03    0.443863\n",
       "2023-01-04    0.333674\n",
       "2023-02-01    1.494079\n",
       "2023-02-02   -0.205158\n",
       "2023-02-03    0.313068\n",
       "2023-02-04   -0.854096\n",
       "2023-03-01   -2.552990\n",
       "2023-03-02    0.653619\n",
       "2023-03-03    0.864436\n",
       "2023-03-04   -0.742165\n",
       "dtype: float64"
      ]
     },
     "execution_count": 57,
     "metadata": {},
     "output_type": "execute_result"
    }
   ],
   "source": [
    "from datetime import datetime\n",
    "import pandas as pd\n",
    "import numpy as np\n",
    "\n",
    "dates = [\n",
    "    datetime(2022, 1, 1), datetime(2022, 1, 2),\n",
    "    datetime(2022, 1, 3), datetime(2022, 1, 4),\n",
    "    datetime(2022, 2, 1), datetime(2022, 2, 2),\n",
    "    datetime(2022, 2, 3), datetime(2022, 2, 4),\n",
    "    datetime(2022, 3, 1), datetime(2022, 3, 2),\n",
    "    datetime(2022, 3, 3), datetime(2022, 3, 4),\n",
    "    datetime(2023, 1, 1), datetime(2023, 1, 2),\n",
    "    datetime(2023, 1, 3), datetime(2023, 1, 4),\n",
    "    datetime(2023, 2, 1), datetime(2023, 2, 2),\n",
    "    datetime(2023, 2, 3), datetime(2023, 2, 4),\n",
    "    datetime(2023, 3, 1), datetime(2023, 3, 2),\n",
    "    datetime(2023, 3, 3), datetime(2023, 3, 4),\n",
    "]\n",
    "np.random.seed(0)\n",
    "values = np.random.standard_normal(size=24)  # 표준정규분포(평균:0, 표준편차:1) 난수\n",
    "\n",
    "s = pd.Series(values, index=dates)\n",
    "s.info()\n",
    "s  # 문자열로 적은 날짜와는 다르게 날짜 요소(년, 월, 일)을 사용 할 수 있다는 장점이 있다."
   ]
  },
  {
   "cell_type": "code",
   "execution_count": 58,
   "id": "1e37d4ae",
   "metadata": {
    "ExecuteTime": {
     "end_time": "2023-01-12T08:21:00.255670Z",
     "start_time": "2023-01-12T08:21:00.239629Z"
    }
   },
   "outputs": [
    {
     "data": {
      "text/plain": [
       "DatetimeIndex(['2022-01-01', '2022-01-02', '2022-01-03', '2022-01-04',\n",
       "               '2022-02-01', '2022-02-02', '2022-02-03', '2022-02-04',\n",
       "               '2022-03-01', '2022-03-02', '2022-03-03', '2022-03-04',\n",
       "               '2023-01-01', '2023-01-02', '2023-01-03', '2023-01-04',\n",
       "               '2023-02-01', '2023-02-02', '2023-02-03', '2023-02-04',\n",
       "               '2023-03-01', '2023-03-02', '2023-03-03', '2023-03-04'],\n",
       "              dtype='datetime64[ns]', freq=None)"
      ]
     },
     "execution_count": 58,
     "metadata": {},
     "output_type": "execute_result"
    }
   ],
   "source": [
    "s.index"
   ]
  },
  {
   "cell_type": "code",
   "execution_count": 59,
   "id": "4f5659d3",
   "metadata": {
    "ExecuteTime": {
     "end_time": "2023-01-12T08:21:37.302925Z",
     "start_time": "2023-01-12T08:21:37.290097Z"
    }
   },
   "outputs": [
    {
     "data": {
      "text/plain": [
       "Timestamp('2022-01-01 00:00:00')"
      ]
     },
     "execution_count": 59,
     "metadata": {},
     "output_type": "execute_result"
    }
   ],
   "source": [
    "s.index[0]  # DateTimeIndex의 원소들은 Timestamp 타입."
   ]
  },
  {
   "cell_type": "markdown",
   "id": "8b37f70c",
   "metadata": {
    "slideshow": {
     "slide_type": "subslide"
    }
   },
   "source": [
    "## DatatimeIndex indexing 과 slicing\n",
    "- Index가 Datetime 타입일 경우(DatetimeIndex) 날짜 시간의 각 요소들(ex: 년도, 월, 시간등등)을 이용해 다양한 조회가 가능하다."
   ]
  },
  {
   "cell_type": "code",
   "execution_count": 62,
   "id": "8389df1a",
   "metadata": {
    "ExecuteTime": {
     "end_time": "2023-01-12T08:24:45.790483Z",
     "start_time": "2023-01-12T08:24:45.778495Z"
    },
    "slideshow": {
     "slide_type": "fragment"
    }
   },
   "outputs": [
    {
     "data": {
      "text/plain": [
       "1.764052345967664"
      ]
     },
     "execution_count": 62,
     "metadata": {},
     "output_type": "execute_result"
    }
   ],
   "source": [
    "# indexing - Timestamp로 조회\n",
    "s[pd.Timestamp(2022, 1, 1)]  # 타임스탬프 값 넣기 귀찮음"
   ]
  },
  {
   "cell_type": "code",
   "execution_count": 63,
   "id": "a5382a10",
   "metadata": {
    "ExecuteTime": {
     "end_time": "2023-01-12T08:25:07.828538Z",
     "start_time": "2023-01-12T08:25:07.818527Z"
    }
   },
   "outputs": [
    {
     "data": {
      "text/plain": [
       "1.764052345967664"
      ]
     },
     "execution_count": 63,
     "metadata": {},
     "output_type": "execute_result"
    }
   ],
   "source": [
    "# indexing - 문자열로 조회\n",
    "s['2022-01-01']"
   ]
  },
  {
   "cell_type": "code",
   "execution_count": 69,
   "id": "466968ba",
   "metadata": {
    "ExecuteTime": {
     "end_time": "2023-01-12T08:28:20.803037Z",
     "start_time": "2023-01-12T08:28:20.785038Z"
    }
   },
   "outputs": [
    {
     "data": {
      "text/plain": [
       "2022-01-01    1.764052\n",
       "2022-01-02    0.400157\n",
       "2022-01-03    0.978738\n",
       "2022-01-04    2.240893\n",
       "2022-02-01    1.867558\n",
       "2022-02-02   -0.977278\n",
       "2022-02-03    0.950088\n",
       "2022-02-04   -0.151357\n",
       "2022-03-01   -0.103219\n",
       "2022-03-02    0.410599\n",
       "2022-03-03    0.144044\n",
       "2022-03-04    1.454274\n",
       "dtype: float64"
      ]
     },
     "execution_count": 69,
     "metadata": {},
     "output_type": "execute_result"
    }
   ],
   "source": [
    "# 부분일치 조회\n",
    "s['2022'] # 2022년 원소들"
   ]
  },
  {
   "cell_type": "code",
   "execution_count": 70,
   "id": "b4160f45",
   "metadata": {
    "ExecuteTime": {
     "end_time": "2023-01-12T08:28:21.807266Z",
     "start_time": "2023-01-12T08:28:21.782784Z"
    }
   },
   "outputs": [
    {
     "data": {
      "text/plain": [
       "2022-02-01    1.867558\n",
       "2022-02-02   -0.977278\n",
       "2022-02-03    0.950088\n",
       "2022-02-04   -0.151357\n",
       "dtype: float64"
      ]
     },
     "execution_count": 70,
     "metadata": {},
     "output_type": "execute_result"
    }
   ],
   "source": [
    "s['2022-02'] # 2022년 2월 원소들"
   ]
  },
  {
   "cell_type": "markdown",
   "id": "d16307c7",
   "metadata": {
    "slideshow": {
     "slide_type": "subslide"
    }
   },
   "source": [
    "### slicing\n",
    "- 부분 매칭(날짜/시간의 특정 요소만으로 매칭)으로 slicing이 가능하다."
   ]
  },
  {
   "cell_type": "code",
   "execution_count": 66,
   "id": "5bc93932",
   "metadata": {
    "ExecuteTime": {
     "end_time": "2023-01-12T08:27:11.177868Z",
     "start_time": "2023-01-12T08:27:11.150177Z"
    },
    "slideshow": {
     "slide_type": "fragment"
    }
   },
   "outputs": [
    {
     "data": {
      "text/plain": [
       "2022-02-02   -0.977278\n",
       "2022-02-03    0.950088\n",
       "2022-02-04   -0.151357\n",
       "2022-03-01   -0.103219\n",
       "2022-03-02    0.410599\n",
       "2022-03-03    0.144044\n",
       "2022-03-04    1.454274\n",
       "2023-01-01    0.761038\n",
       "2023-01-02    0.121675\n",
       "2023-01-03    0.443863\n",
       "dtype: float64"
      ]
     },
     "execution_count": 66,
     "metadata": {},
     "output_type": "execute_result"
    }
   ],
   "source": [
    "s['2022-02-02':'2023-01-03'] # start, stop 포함(loc index와 비슷)"
   ]
  },
  {
   "cell_type": "code",
   "execution_count": 67,
   "id": "3228f71b",
   "metadata": {
    "ExecuteTime": {
     "end_time": "2023-01-12T08:27:53.715180Z",
     "start_time": "2023-01-12T08:27:53.697620Z"
    }
   },
   "outputs": [
    {
     "data": {
      "text/plain": [
       "2022-02-02   -0.977278\n",
       "2022-03-01   -0.103219\n",
       "2022-03-04    1.454274\n",
       "2023-01-03    0.443863\n",
       "dtype: float64"
      ]
     },
     "execution_count": 67,
     "metadata": {},
     "output_type": "execute_result"
    }
   ],
   "source": [
    "s['2022-02-02':'2023-01-03':3] # 3일씩 건너 뛰기"
   ]
  },
  {
   "cell_type": "code",
   "execution_count": 73,
   "id": "6664e38b",
   "metadata": {
    "ExecuteTime": {
     "end_time": "2023-01-12T08:29:55.628609Z",
     "start_time": "2023-01-12T08:29:55.604946Z"
    },
    "scrolled": true
   },
   "outputs": [
    {
     "data": {
      "text/plain": [
       "2022-01-01    1.764052\n",
       "2022-01-02    0.400157\n",
       "2022-01-03    0.978738\n",
       "2022-01-04    2.240893\n",
       "2022-02-01    1.867558\n",
       "2022-02-02   -0.977278\n",
       "2022-02-03    0.950088\n",
       "2022-02-04   -0.151357\n",
       "2022-03-01   -0.103219\n",
       "2022-03-02    0.410599\n",
       "2022-03-03    0.144044\n",
       "2022-03-04    1.454274\n",
       "2023-01-01    0.761038\n",
       "2023-01-02    0.121675\n",
       "2023-01-03    0.443863\n",
       "2023-01-04    0.333674\n",
       "2023-02-01    1.494079\n",
       "2023-02-02   -0.205158\n",
       "2023-02-03    0.313068\n",
       "2023-02-04   -0.854096\n",
       "dtype: float64"
      ]
     },
     "execution_count": 73,
     "metadata": {},
     "output_type": "execute_result"
    }
   ],
   "source": [
    "s['2022-01':'2023-02'] # 2022년 1월 1일 ~ 2023년 2월 28일(끝 월의 마지막날)"
   ]
  },
  {
   "cell_type": "code",
   "execution_count": 74,
   "id": "0984d81e",
   "metadata": {
    "ExecuteTime": {
     "end_time": "2023-01-12T08:30:23.630487Z",
     "start_time": "2023-01-12T08:30:23.599575Z"
    },
    "scrolled": true
   },
   "outputs": [
    {
     "data": {
      "text/plain": [
       "2022-01-01    1.764052\n",
       "2022-01-02    0.400157\n",
       "2022-01-03    0.978738\n",
       "2022-01-04    2.240893\n",
       "2022-02-01    1.867558\n",
       "2022-02-02   -0.977278\n",
       "2022-02-03    0.950088\n",
       "2022-02-04   -0.151357\n",
       "2022-03-01   -0.103219\n",
       "2022-03-02    0.410599\n",
       "2022-03-03    0.144044\n",
       "2022-03-04    1.454274\n",
       "2023-01-01    0.761038\n",
       "2023-01-02    0.121675\n",
       "2023-01-03    0.443863\n",
       "2023-01-04    0.333674\n",
       "2023-02-01    1.494079\n",
       "2023-02-02   -0.205158\n",
       "2023-02-03    0.313068\n",
       "2023-02-04   -0.854096\n",
       "2023-03-01   -2.552990\n",
       "2023-03-02    0.653619\n",
       "2023-03-03    0.864436\n",
       "2023-03-04   -0.742165\n",
       "dtype: float64"
      ]
     },
     "execution_count": 74,
     "metadata": {},
     "output_type": "execute_result"
    }
   ],
   "source": [
    "s['2022':'2023'] # 2022년 1월 1일 ~ 2023년 12월 31일"
   ]
  },
  {
   "cell_type": "code",
   "execution_count": 75,
   "id": "3f5e1d21",
   "metadata": {
    "ExecuteTime": {
     "end_time": "2023-01-12T08:31:53.690843Z",
     "start_time": "2023-01-12T08:31:53.633933Z"
    }
   },
   "outputs": [
    {
     "data": {
      "text/html": [
       "<div>\n",
       "<style scoped>\n",
       "    .dataframe tbody tr th:only-of-type {\n",
       "        vertical-align: middle;\n",
       "    }\n",
       "\n",
       "    .dataframe tbody tr th {\n",
       "        vertical-align: top;\n",
       "    }\n",
       "\n",
       "    .dataframe thead th {\n",
       "        text-align: right;\n",
       "    }\n",
       "</style>\n",
       "<table border=\"1\" class=\"dataframe\">\n",
       "  <thead>\n",
       "    <tr style=\"text-align: right;\">\n",
       "      <th></th>\n",
       "      <th>Open</th>\n",
       "      <th>High</th>\n",
       "      <th>Low</th>\n",
       "      <th>Close</th>\n",
       "      <th>Volume</th>\n",
       "      <th>Adj Close</th>\n",
       "    </tr>\n",
       "    <tr>\n",
       "      <th>Date</th>\n",
       "      <th></th>\n",
       "      <th></th>\n",
       "      <th></th>\n",
       "      <th></th>\n",
       "      <th></th>\n",
       "      <th></th>\n",
       "    </tr>\n",
       "  </thead>\n",
       "  <tbody>\n",
       "    <tr>\n",
       "      <th>2012-01-03</th>\n",
       "      <td>59.970001</td>\n",
       "      <td>61.060001</td>\n",
       "      <td>59.869999</td>\n",
       "      <td>60.330002</td>\n",
       "      <td>12668800</td>\n",
       "      <td>52.619235</td>\n",
       "    </tr>\n",
       "    <tr>\n",
       "      <th>2012-01-04</th>\n",
       "      <td>60.209999</td>\n",
       "      <td>60.349998</td>\n",
       "      <td>59.470001</td>\n",
       "      <td>59.709999</td>\n",
       "      <td>9593300</td>\n",
       "      <td>52.078475</td>\n",
       "    </tr>\n",
       "    <tr>\n",
       "      <th>2012-01-05</th>\n",
       "      <td>59.349998</td>\n",
       "      <td>59.619999</td>\n",
       "      <td>58.369999</td>\n",
       "      <td>59.419998</td>\n",
       "      <td>12768200</td>\n",
       "      <td>51.825539</td>\n",
       "    </tr>\n",
       "    <tr>\n",
       "      <th>2012-01-06</th>\n",
       "      <td>59.419998</td>\n",
       "      <td>59.450001</td>\n",
       "      <td>58.869999</td>\n",
       "      <td>59.000000</td>\n",
       "      <td>8069400</td>\n",
       "      <td>51.459220</td>\n",
       "    </tr>\n",
       "    <tr>\n",
       "      <th>2012-01-09</th>\n",
       "      <td>59.029999</td>\n",
       "      <td>59.549999</td>\n",
       "      <td>58.919998</td>\n",
       "      <td>59.180000</td>\n",
       "      <td>6679300</td>\n",
       "      <td>51.616215</td>\n",
       "    </tr>\n",
       "    <tr>\n",
       "      <th>...</th>\n",
       "      <td>...</td>\n",
       "      <td>...</td>\n",
       "      <td>...</td>\n",
       "      <td>...</td>\n",
       "      <td>...</td>\n",
       "      <td>...</td>\n",
       "    </tr>\n",
       "    <tr>\n",
       "      <th>2016-12-23</th>\n",
       "      <td>69.430000</td>\n",
       "      <td>69.750000</td>\n",
       "      <td>69.360001</td>\n",
       "      <td>69.540001</td>\n",
       "      <td>4803900</td>\n",
       "      <td>69.032411</td>\n",
       "    </tr>\n",
       "    <tr>\n",
       "      <th>2016-12-27</th>\n",
       "      <td>69.300003</td>\n",
       "      <td>69.820000</td>\n",
       "      <td>69.250000</td>\n",
       "      <td>69.699997</td>\n",
       "      <td>4435700</td>\n",
       "      <td>69.191240</td>\n",
       "    </tr>\n",
       "    <tr>\n",
       "      <th>2016-12-28</th>\n",
       "      <td>69.940002</td>\n",
       "      <td>70.000000</td>\n",
       "      <td>69.260002</td>\n",
       "      <td>69.309998</td>\n",
       "      <td>4875700</td>\n",
       "      <td>68.804087</td>\n",
       "    </tr>\n",
       "    <tr>\n",
       "      <th>2016-12-29</th>\n",
       "      <td>69.209999</td>\n",
       "      <td>69.519997</td>\n",
       "      <td>69.120003</td>\n",
       "      <td>69.260002</td>\n",
       "      <td>4298400</td>\n",
       "      <td>68.754456</td>\n",
       "    </tr>\n",
       "    <tr>\n",
       "      <th>2016-12-30</th>\n",
       "      <td>69.120003</td>\n",
       "      <td>69.430000</td>\n",
       "      <td>68.830002</td>\n",
       "      <td>69.120003</td>\n",
       "      <td>6889500</td>\n",
       "      <td>68.615479</td>\n",
       "    </tr>\n",
       "  </tbody>\n",
       "</table>\n",
       "<p>1258 rows × 6 columns</p>\n",
       "</div>"
      ],
      "text/plain": [
       "                 Open       High        Low      Close    Volume  Adj Close\n",
       "Date                                                                       \n",
       "2012-01-03  59.970001  61.060001  59.869999  60.330002  12668800  52.619235\n",
       "2012-01-04  60.209999  60.349998  59.470001  59.709999   9593300  52.078475\n",
       "2012-01-05  59.349998  59.619999  58.369999  59.419998  12768200  51.825539\n",
       "2012-01-06  59.419998  59.450001  58.869999  59.000000   8069400  51.459220\n",
       "2012-01-09  59.029999  59.549999  58.919998  59.180000   6679300  51.616215\n",
       "...               ...        ...        ...        ...       ...        ...\n",
       "2016-12-23  69.430000  69.750000  69.360001  69.540001   4803900  69.032411\n",
       "2016-12-27  69.300003  69.820000  69.250000  69.699997   4435700  69.191240\n",
       "2016-12-28  69.940002  70.000000  69.260002  69.309998   4875700  68.804087\n",
       "2016-12-29  69.209999  69.519997  69.120003  69.260002   4298400  68.754456\n",
       "2016-12-30  69.120003  69.430000  68.830002  69.120003   6889500  68.615479\n",
       "\n",
       "[1258 rows x 6 columns]"
      ]
     },
     "execution_count": 75,
     "metadata": {},
     "output_type": "execute_result"
    }
   ],
   "source": [
    "df = pd.read_csv('data/walmart_stock.csv', parse_dates=[0], index_col=0)\n",
    "df"
   ]
  },
  {
   "cell_type": "code",
   "execution_count": 76,
   "id": "cf3eb068",
   "metadata": {
    "ExecuteTime": {
     "end_time": "2023-01-12T08:32:03.143404Z",
     "start_time": "2023-01-12T08:32:03.129401Z"
    }
   },
   "outputs": [
    {
     "data": {
      "text/plain": [
       "DatetimeIndex(['2012-01-03', '2012-01-04', '2012-01-05', '2012-01-06',\n",
       "               '2012-01-09', '2012-01-10', '2012-01-11', '2012-01-12',\n",
       "               '2012-01-13', '2012-01-17',\n",
       "               ...\n",
       "               '2016-12-16', '2016-12-19', '2016-12-20', '2016-12-21',\n",
       "               '2016-12-22', '2016-12-23', '2016-12-27', '2016-12-28',\n",
       "               '2016-12-29', '2016-12-30'],\n",
       "              dtype='datetime64[ns]', name='Date', length=1258, freq=None)"
      ]
     },
     "execution_count": 76,
     "metadata": {},
     "output_type": "execute_result"
    }
   ],
   "source": [
    "df.index"
   ]
  },
  {
   "cell_type": "code",
   "execution_count": 77,
   "id": "8eef2273",
   "metadata": {
    "ExecuteTime": {
     "end_time": "2023-01-12T08:33:00.441506Z",
     "start_time": "2023-01-12T08:33:00.426471Z"
    }
   },
   "outputs": [
    {
     "data": {
      "text/plain": [
       "Open         5.997000e+01\n",
       "High         6.106000e+01\n",
       "Low          5.987000e+01\n",
       "Close        6.033000e+01\n",
       "Volume       1.266880e+07\n",
       "Adj Close    5.261924e+01\n",
       "Name: 2012-01-03 00:00:00, dtype: float64"
      ]
     },
     "execution_count": 77,
     "metadata": {},
     "output_type": "execute_result"
    }
   ],
   "source": [
    "df.loc['2012-01-03']"
   ]
  },
  {
   "cell_type": "code",
   "execution_count": 78,
   "id": "a36db2bc",
   "metadata": {
    "ExecuteTime": {
     "end_time": "2023-01-12T08:33:44.625235Z",
     "start_time": "2023-01-12T08:33:44.585235Z"
    }
   },
   "outputs": [
    {
     "data": {
      "text/html": [
       "<div>\n",
       "<style scoped>\n",
       "    .dataframe tbody tr th:only-of-type {\n",
       "        vertical-align: middle;\n",
       "    }\n",
       "\n",
       "    .dataframe tbody tr th {\n",
       "        vertical-align: top;\n",
       "    }\n",
       "\n",
       "    .dataframe thead th {\n",
       "        text-align: right;\n",
       "    }\n",
       "</style>\n",
       "<table border=\"1\" class=\"dataframe\">\n",
       "  <thead>\n",
       "    <tr style=\"text-align: right;\">\n",
       "      <th></th>\n",
       "      <th>Open</th>\n",
       "      <th>High</th>\n",
       "      <th>Low</th>\n",
       "      <th>Close</th>\n",
       "      <th>Volume</th>\n",
       "      <th>Adj Close</th>\n",
       "    </tr>\n",
       "    <tr>\n",
       "      <th>Date</th>\n",
       "      <th></th>\n",
       "      <th></th>\n",
       "      <th></th>\n",
       "      <th></th>\n",
       "      <th></th>\n",
       "      <th></th>\n",
       "    </tr>\n",
       "  </thead>\n",
       "  <tbody>\n",
       "    <tr>\n",
       "      <th>2012-01-03</th>\n",
       "      <td>59.970001</td>\n",
       "      <td>61.060001</td>\n",
       "      <td>59.869999</td>\n",
       "      <td>60.330002</td>\n",
       "      <td>12668800</td>\n",
       "      <td>52.619235</td>\n",
       "    </tr>\n",
       "    <tr>\n",
       "      <th>2012-01-04</th>\n",
       "      <td>60.209999</td>\n",
       "      <td>60.349998</td>\n",
       "      <td>59.470001</td>\n",
       "      <td>59.709999</td>\n",
       "      <td>9593300</td>\n",
       "      <td>52.078475</td>\n",
       "    </tr>\n",
       "    <tr>\n",
       "      <th>2012-01-05</th>\n",
       "      <td>59.349998</td>\n",
       "      <td>59.619999</td>\n",
       "      <td>58.369999</td>\n",
       "      <td>59.419998</td>\n",
       "      <td>12768200</td>\n",
       "      <td>51.825539</td>\n",
       "    </tr>\n",
       "    <tr>\n",
       "      <th>2012-01-06</th>\n",
       "      <td>59.419998</td>\n",
       "      <td>59.450001</td>\n",
       "      <td>58.869999</td>\n",
       "      <td>59.000000</td>\n",
       "      <td>8069400</td>\n",
       "      <td>51.459220</td>\n",
       "    </tr>\n",
       "    <tr>\n",
       "      <th>2012-01-09</th>\n",
       "      <td>59.029999</td>\n",
       "      <td>59.549999</td>\n",
       "      <td>58.919998</td>\n",
       "      <td>59.180000</td>\n",
       "      <td>6679300</td>\n",
       "      <td>51.616215</td>\n",
       "    </tr>\n",
       "    <tr>\n",
       "      <th>2012-01-10</th>\n",
       "      <td>59.430000</td>\n",
       "      <td>59.709999</td>\n",
       "      <td>58.980000</td>\n",
       "      <td>59.040001</td>\n",
       "      <td>6907300</td>\n",
       "      <td>51.494109</td>\n",
       "    </tr>\n",
       "    <tr>\n",
       "      <th>2012-01-11</th>\n",
       "      <td>59.060001</td>\n",
       "      <td>59.529999</td>\n",
       "      <td>59.040001</td>\n",
       "      <td>59.400002</td>\n",
       "      <td>6365600</td>\n",
       "      <td>51.808098</td>\n",
       "    </tr>\n",
       "    <tr>\n",
       "      <th>2012-01-12</th>\n",
       "      <td>59.790001</td>\n",
       "      <td>60.000000</td>\n",
       "      <td>59.400002</td>\n",
       "      <td>59.500000</td>\n",
       "      <td>7236400</td>\n",
       "      <td>51.895316</td>\n",
       "    </tr>\n",
       "    <tr>\n",
       "      <th>2012-01-13</th>\n",
       "      <td>59.180000</td>\n",
       "      <td>59.610001</td>\n",
       "      <td>59.009998</td>\n",
       "      <td>59.540001</td>\n",
       "      <td>7729300</td>\n",
       "      <td>51.930204</td>\n",
       "    </tr>\n",
       "    <tr>\n",
       "      <th>2012-01-17</th>\n",
       "      <td>59.869999</td>\n",
       "      <td>60.110001</td>\n",
       "      <td>59.520000</td>\n",
       "      <td>59.849998</td>\n",
       "      <td>8500000</td>\n",
       "      <td>52.200581</td>\n",
       "    </tr>\n",
       "    <tr>\n",
       "      <th>2012-01-18</th>\n",
       "      <td>59.790001</td>\n",
       "      <td>60.029999</td>\n",
       "      <td>59.650002</td>\n",
       "      <td>60.009998</td>\n",
       "      <td>5911400</td>\n",
       "      <td>52.340131</td>\n",
       "    </tr>\n",
       "    <tr>\n",
       "      <th>2012-01-19</th>\n",
       "      <td>59.930000</td>\n",
       "      <td>60.730000</td>\n",
       "      <td>59.750000</td>\n",
       "      <td>60.610001</td>\n",
       "      <td>9234600</td>\n",
       "      <td>52.863447</td>\n",
       "    </tr>\n",
       "    <tr>\n",
       "      <th>2012-01-20</th>\n",
       "      <td>60.750000</td>\n",
       "      <td>61.250000</td>\n",
       "      <td>60.669998</td>\n",
       "      <td>61.009998</td>\n",
       "      <td>10378800</td>\n",
       "      <td>53.212321</td>\n",
       "    </tr>\n",
       "  </tbody>\n",
       "</table>\n",
       "</div>"
      ],
      "text/plain": [
       "                 Open       High        Low      Close    Volume  Adj Close\n",
       "Date                                                                       \n",
       "2012-01-03  59.970001  61.060001  59.869999  60.330002  12668800  52.619235\n",
       "2012-01-04  60.209999  60.349998  59.470001  59.709999   9593300  52.078475\n",
       "2012-01-05  59.349998  59.619999  58.369999  59.419998  12768200  51.825539\n",
       "2012-01-06  59.419998  59.450001  58.869999  59.000000   8069400  51.459220\n",
       "2012-01-09  59.029999  59.549999  58.919998  59.180000   6679300  51.616215\n",
       "2012-01-10  59.430000  59.709999  58.980000  59.040001   6907300  51.494109\n",
       "2012-01-11  59.060001  59.529999  59.040001  59.400002   6365600  51.808098\n",
       "2012-01-12  59.790001  60.000000  59.400002  59.500000   7236400  51.895316\n",
       "2012-01-13  59.180000  59.610001  59.009998  59.540001   7729300  51.930204\n",
       "2012-01-17  59.869999  60.110001  59.520000  59.849998   8500000  52.200581\n",
       "2012-01-18  59.790001  60.029999  59.650002  60.009998   5911400  52.340131\n",
       "2012-01-19  59.930000  60.730000  59.750000  60.610001   9234600  52.863447\n",
       "2012-01-20  60.750000  61.250000  60.669998  61.009998  10378800  53.212321"
      ]
     },
     "execution_count": 78,
     "metadata": {},
     "output_type": "execute_result"
    }
   ],
   "source": [
    "df.loc['2012-01-03':'2012-01-20']"
   ]
  },
  {
   "cell_type": "code",
   "execution_count": 79,
   "id": "e8b26dd3",
   "metadata": {
    "ExecuteTime": {
     "end_time": "2023-01-12T08:34:18.368552Z",
     "start_time": "2023-01-12T08:34:18.313527Z"
    },
    "scrolled": true
   },
   "outputs": [
    {
     "data": {
      "text/html": [
       "<div>\n",
       "<style scoped>\n",
       "    .dataframe tbody tr th:only-of-type {\n",
       "        vertical-align: middle;\n",
       "    }\n",
       "\n",
       "    .dataframe tbody tr th {\n",
       "        vertical-align: top;\n",
       "    }\n",
       "\n",
       "    .dataframe thead th {\n",
       "        text-align: right;\n",
       "    }\n",
       "</style>\n",
       "<table border=\"1\" class=\"dataframe\">\n",
       "  <thead>\n",
       "    <tr style=\"text-align: right;\">\n",
       "      <th></th>\n",
       "      <th>Open</th>\n",
       "      <th>High</th>\n",
       "      <th>Low</th>\n",
       "      <th>Close</th>\n",
       "      <th>Volume</th>\n",
       "      <th>Adj Close</th>\n",
       "    </tr>\n",
       "    <tr>\n",
       "      <th>Date</th>\n",
       "      <th></th>\n",
       "      <th></th>\n",
       "      <th></th>\n",
       "      <th></th>\n",
       "      <th></th>\n",
       "      <th></th>\n",
       "    </tr>\n",
       "  </thead>\n",
       "  <tbody>\n",
       "    <tr>\n",
       "      <th>2012-01-03</th>\n",
       "      <td>59.970001</td>\n",
       "      <td>61.060001</td>\n",
       "      <td>59.869999</td>\n",
       "      <td>60.330002</td>\n",
       "      <td>12668800</td>\n",
       "      <td>52.619235</td>\n",
       "    </tr>\n",
       "    <tr>\n",
       "      <th>2012-01-04</th>\n",
       "      <td>60.209999</td>\n",
       "      <td>60.349998</td>\n",
       "      <td>59.470001</td>\n",
       "      <td>59.709999</td>\n",
       "      <td>9593300</td>\n",
       "      <td>52.078475</td>\n",
       "    </tr>\n",
       "    <tr>\n",
       "      <th>2012-01-05</th>\n",
       "      <td>59.349998</td>\n",
       "      <td>59.619999</td>\n",
       "      <td>58.369999</td>\n",
       "      <td>59.419998</td>\n",
       "      <td>12768200</td>\n",
       "      <td>51.825539</td>\n",
       "    </tr>\n",
       "    <tr>\n",
       "      <th>2012-01-06</th>\n",
       "      <td>59.419998</td>\n",
       "      <td>59.450001</td>\n",
       "      <td>58.869999</td>\n",
       "      <td>59.000000</td>\n",
       "      <td>8069400</td>\n",
       "      <td>51.459220</td>\n",
       "    </tr>\n",
       "    <tr>\n",
       "      <th>2012-01-09</th>\n",
       "      <td>59.029999</td>\n",
       "      <td>59.549999</td>\n",
       "      <td>58.919998</td>\n",
       "      <td>59.180000</td>\n",
       "      <td>6679300</td>\n",
       "      <td>51.616215</td>\n",
       "    </tr>\n",
       "    <tr>\n",
       "      <th>2012-01-10</th>\n",
       "      <td>59.430000</td>\n",
       "      <td>59.709999</td>\n",
       "      <td>58.980000</td>\n",
       "      <td>59.040001</td>\n",
       "      <td>6907300</td>\n",
       "      <td>51.494109</td>\n",
       "    </tr>\n",
       "    <tr>\n",
       "      <th>2012-01-11</th>\n",
       "      <td>59.060001</td>\n",
       "      <td>59.529999</td>\n",
       "      <td>59.040001</td>\n",
       "      <td>59.400002</td>\n",
       "      <td>6365600</td>\n",
       "      <td>51.808098</td>\n",
       "    </tr>\n",
       "    <tr>\n",
       "      <th>2012-01-12</th>\n",
       "      <td>59.790001</td>\n",
       "      <td>60.000000</td>\n",
       "      <td>59.400002</td>\n",
       "      <td>59.500000</td>\n",
       "      <td>7236400</td>\n",
       "      <td>51.895316</td>\n",
       "    </tr>\n",
       "    <tr>\n",
       "      <th>2012-01-13</th>\n",
       "      <td>59.180000</td>\n",
       "      <td>59.610001</td>\n",
       "      <td>59.009998</td>\n",
       "      <td>59.540001</td>\n",
       "      <td>7729300</td>\n",
       "      <td>51.930204</td>\n",
       "    </tr>\n",
       "    <tr>\n",
       "      <th>2012-01-17</th>\n",
       "      <td>59.869999</td>\n",
       "      <td>60.110001</td>\n",
       "      <td>59.520000</td>\n",
       "      <td>59.849998</td>\n",
       "      <td>8500000</td>\n",
       "      <td>52.200581</td>\n",
       "    </tr>\n",
       "    <tr>\n",
       "      <th>2012-01-18</th>\n",
       "      <td>59.790001</td>\n",
       "      <td>60.029999</td>\n",
       "      <td>59.650002</td>\n",
       "      <td>60.009998</td>\n",
       "      <td>5911400</td>\n",
       "      <td>52.340131</td>\n",
       "    </tr>\n",
       "    <tr>\n",
       "      <th>2012-01-19</th>\n",
       "      <td>59.930000</td>\n",
       "      <td>60.730000</td>\n",
       "      <td>59.750000</td>\n",
       "      <td>60.610001</td>\n",
       "      <td>9234600</td>\n",
       "      <td>52.863447</td>\n",
       "    </tr>\n",
       "    <tr>\n",
       "      <th>2012-01-20</th>\n",
       "      <td>60.750000</td>\n",
       "      <td>61.250000</td>\n",
       "      <td>60.669998</td>\n",
       "      <td>61.009998</td>\n",
       "      <td>10378800</td>\n",
       "      <td>53.212321</td>\n",
       "    </tr>\n",
       "    <tr>\n",
       "      <th>2012-01-23</th>\n",
       "      <td>60.810001</td>\n",
       "      <td>60.980000</td>\n",
       "      <td>60.509998</td>\n",
       "      <td>60.910000</td>\n",
       "      <td>7134100</td>\n",
       "      <td>53.125104</td>\n",
       "    </tr>\n",
       "    <tr>\n",
       "      <th>2012-01-24</th>\n",
       "      <td>60.750000</td>\n",
       "      <td>62.000000</td>\n",
       "      <td>60.750000</td>\n",
       "      <td>61.389999</td>\n",
       "      <td>7362800</td>\n",
       "      <td>53.543754</td>\n",
       "    </tr>\n",
       "    <tr>\n",
       "      <th>2012-01-25</th>\n",
       "      <td>61.180000</td>\n",
       "      <td>61.610001</td>\n",
       "      <td>61.040001</td>\n",
       "      <td>61.470001</td>\n",
       "      <td>5915800</td>\n",
       "      <td>53.613531</td>\n",
       "    </tr>\n",
       "    <tr>\n",
       "      <th>2012-01-26</th>\n",
       "      <td>61.799999</td>\n",
       "      <td>61.840000</td>\n",
       "      <td>60.770000</td>\n",
       "      <td>60.970001</td>\n",
       "      <td>7436200</td>\n",
       "      <td>53.177436</td>\n",
       "    </tr>\n",
       "    <tr>\n",
       "      <th>2012-01-27</th>\n",
       "      <td>60.860001</td>\n",
       "      <td>61.119999</td>\n",
       "      <td>60.540001</td>\n",
       "      <td>60.709999</td>\n",
       "      <td>6287300</td>\n",
       "      <td>52.950665</td>\n",
       "    </tr>\n",
       "    <tr>\n",
       "      <th>2012-01-30</th>\n",
       "      <td>60.470001</td>\n",
       "      <td>61.320000</td>\n",
       "      <td>60.349998</td>\n",
       "      <td>61.299999</td>\n",
       "      <td>7636900</td>\n",
       "      <td>53.465257</td>\n",
       "    </tr>\n",
       "    <tr>\n",
       "      <th>2012-01-31</th>\n",
       "      <td>61.529999</td>\n",
       "      <td>61.570000</td>\n",
       "      <td>60.580002</td>\n",
       "      <td>61.360001</td>\n",
       "      <td>9761500</td>\n",
       "      <td>53.517590</td>\n",
       "    </tr>\n",
       "  </tbody>\n",
       "</table>\n",
       "</div>"
      ],
      "text/plain": [
       "                 Open       High        Low      Close    Volume  Adj Close\n",
       "Date                                                                       \n",
       "2012-01-03  59.970001  61.060001  59.869999  60.330002  12668800  52.619235\n",
       "2012-01-04  60.209999  60.349998  59.470001  59.709999   9593300  52.078475\n",
       "2012-01-05  59.349998  59.619999  58.369999  59.419998  12768200  51.825539\n",
       "2012-01-06  59.419998  59.450001  58.869999  59.000000   8069400  51.459220\n",
       "2012-01-09  59.029999  59.549999  58.919998  59.180000   6679300  51.616215\n",
       "2012-01-10  59.430000  59.709999  58.980000  59.040001   6907300  51.494109\n",
       "2012-01-11  59.060001  59.529999  59.040001  59.400002   6365600  51.808098\n",
       "2012-01-12  59.790001  60.000000  59.400002  59.500000   7236400  51.895316\n",
       "2012-01-13  59.180000  59.610001  59.009998  59.540001   7729300  51.930204\n",
       "2012-01-17  59.869999  60.110001  59.520000  59.849998   8500000  52.200581\n",
       "2012-01-18  59.790001  60.029999  59.650002  60.009998   5911400  52.340131\n",
       "2012-01-19  59.930000  60.730000  59.750000  60.610001   9234600  52.863447\n",
       "2012-01-20  60.750000  61.250000  60.669998  61.009998  10378800  53.212321\n",
       "2012-01-23  60.810001  60.980000  60.509998  60.910000   7134100  53.125104\n",
       "2012-01-24  60.750000  62.000000  60.750000  61.389999   7362800  53.543754\n",
       "2012-01-25  61.180000  61.610001  61.040001  61.470001   5915800  53.613531\n",
       "2012-01-26  61.799999  61.840000  60.770000  60.970001   7436200  53.177436\n",
       "2012-01-27  60.860001  61.119999  60.540001  60.709999   6287300  52.950665\n",
       "2012-01-30  60.470001  61.320000  60.349998  61.299999   7636900  53.465257\n",
       "2012-01-31  61.529999  61.570000  60.580002  61.360001   9761500  53.517590"
      ]
     },
     "execution_count": 79,
     "metadata": {},
     "output_type": "execute_result"
    }
   ],
   "source": [
    "df.loc['2012-01']"
   ]
  },
  {
   "cell_type": "code",
   "execution_count": 82,
   "id": "4df7e95b",
   "metadata": {
    "ExecuteTime": {
     "end_time": "2023-01-12T08:35:51.883870Z",
     "start_time": "2023-01-12T08:35:51.842357Z"
    },
    "scrolled": false
   },
   "outputs": [
    {
     "data": {
      "text/html": [
       "<div>\n",
       "<style scoped>\n",
       "    .dataframe tbody tr th:only-of-type {\n",
       "        vertical-align: middle;\n",
       "    }\n",
       "\n",
       "    .dataframe tbody tr th {\n",
       "        vertical-align: top;\n",
       "    }\n",
       "\n",
       "    .dataframe thead th {\n",
       "        text-align: right;\n",
       "    }\n",
       "</style>\n",
       "<table border=\"1\" class=\"dataframe\">\n",
       "  <thead>\n",
       "    <tr style=\"text-align: right;\">\n",
       "      <th></th>\n",
       "      <th>Open</th>\n",
       "      <th>High</th>\n",
       "      <th>Low</th>\n",
       "      <th>Close</th>\n",
       "      <th>Volume</th>\n",
       "      <th>Adj Close</th>\n",
       "    </tr>\n",
       "    <tr>\n",
       "      <th>Date</th>\n",
       "      <th></th>\n",
       "      <th></th>\n",
       "      <th></th>\n",
       "      <th></th>\n",
       "      <th></th>\n",
       "      <th></th>\n",
       "    </tr>\n",
       "  </thead>\n",
       "  <tbody>\n",
       "    <tr>\n",
       "      <th>2012-01-03</th>\n",
       "      <td>59.970001</td>\n",
       "      <td>61.060001</td>\n",
       "      <td>59.869999</td>\n",
       "      <td>60.330002</td>\n",
       "      <td>12668800</td>\n",
       "      <td>52.619235</td>\n",
       "    </tr>\n",
       "    <tr>\n",
       "      <th>2012-01-10</th>\n",
       "      <td>59.430000</td>\n",
       "      <td>59.709999</td>\n",
       "      <td>58.980000</td>\n",
       "      <td>59.040001</td>\n",
       "      <td>6907300</td>\n",
       "      <td>51.494109</td>\n",
       "    </tr>\n",
       "    <tr>\n",
       "      <th>2012-01-18</th>\n",
       "      <td>59.790001</td>\n",
       "      <td>60.029999</td>\n",
       "      <td>59.650002</td>\n",
       "      <td>60.009998</td>\n",
       "      <td>5911400</td>\n",
       "      <td>52.340131</td>\n",
       "    </tr>\n",
       "    <tr>\n",
       "      <th>2012-01-25</th>\n",
       "      <td>61.180000</td>\n",
       "      <td>61.610001</td>\n",
       "      <td>61.040001</td>\n",
       "      <td>61.470001</td>\n",
       "      <td>5915800</td>\n",
       "      <td>53.613531</td>\n",
       "    </tr>\n",
       "    <tr>\n",
       "      <th>2012-02-01</th>\n",
       "      <td>61.790001</td>\n",
       "      <td>62.630001</td>\n",
       "      <td>61.790001</td>\n",
       "      <td>62.180000</td>\n",
       "      <td>12130600</td>\n",
       "      <td>54.232785</td>\n",
       "    </tr>\n",
       "    <tr>\n",
       "      <th>2012-02-08</th>\n",
       "      <td>61.910000</td>\n",
       "      <td>62.020000</td>\n",
       "      <td>61.230000</td>\n",
       "      <td>61.619999</td>\n",
       "      <td>7260000</td>\n",
       "      <td>53.744358</td>\n",
       "    </tr>\n",
       "    <tr>\n",
       "      <th>2012-02-15</th>\n",
       "      <td>62.320000</td>\n",
       "      <td>62.439999</td>\n",
       "      <td>61.590000</td>\n",
       "      <td>61.759998</td>\n",
       "      <td>5833700</td>\n",
       "      <td>53.866464</td>\n",
       "    </tr>\n",
       "    <tr>\n",
       "      <th>2012-02-23</th>\n",
       "      <td>58.590000</td>\n",
       "      <td>58.900002</td>\n",
       "      <td>58.209999</td>\n",
       "      <td>58.540001</td>\n",
       "      <td>14880300</td>\n",
       "      <td>51.058014</td>\n",
       "    </tr>\n",
       "  </tbody>\n",
       "</table>\n",
       "</div>"
      ],
      "text/plain": [
       "                 Open       High        Low      Close    Volume  Adj Close\n",
       "Date                                                                       \n",
       "2012-01-03  59.970001  61.060001  59.869999  60.330002  12668800  52.619235\n",
       "2012-01-10  59.430000  59.709999  58.980000  59.040001   6907300  51.494109\n",
       "2012-01-18  59.790001  60.029999  59.650002  60.009998   5911400  52.340131\n",
       "2012-01-25  61.180000  61.610001  61.040001  61.470001   5915800  53.613531\n",
       "2012-02-01  61.790001  62.630001  61.790001  62.180000  12130600  54.232785\n",
       "2012-02-08  61.910000  62.020000  61.230000  61.619999   7260000  53.744358\n",
       "2012-02-15  62.320000  62.439999  61.590000  61.759998   5833700  53.866464\n",
       "2012-02-23  58.590000  58.900002  58.209999  58.540001  14880300  51.058014"
      ]
     },
     "execution_count": 82,
     "metadata": {},
     "output_type": "execute_result"
    }
   ],
   "source": [
    "df.loc['2012-01':'2012-02':5]"
   ]
  },
  {
   "cell_type": "markdown",
   "id": "56ca1838",
   "metadata": {
    "slideshow": {
     "slide_type": "slide"
    }
   },
   "source": [
    "## DateOffsets\n",
    "- 빈도를 표현하는 타입이다.\n",
    "- DateOffsets 타입 객체나 문자 별칭을 이용하여 빈도간격을 표현한다.\n",
    "    - 타입: https://pandas.pydata.org/docs/user_guide/timeseries.html#dateoffset-objects\n",
    "    - 별칭: https://pandas.pydata.org/pandas-docs/stable/user_guide/timeseries.html#offset-aliases"
   ]
  },
  {
   "cell_type": "markdown",
   "id": "9066abc1",
   "metadata": {
    "slideshow": {
     "slide_type": "fragment"
    }
   },
   "source": [
    "### DateOffset 이용 메소드\n",
    "- **pd.date_range()**\n",
    "    - 동일한 간격 일시로 구성된(고정빈도)의 DatetimeIndex 생성한다.\n",
    "    - DatetimeIndex\n",
    "        - 일시 타입의 Index\n",
    "    - 주요 매개변수\n",
    "        - start: str 또는 datetime 형식 - 시작 날짜\n",
    "        - end: str 또는 datetime 형식 - 종료 날짜\n",
    "        - period:  생성할 개수\n",
    "            - start에서 end까지 periods에 지정한 개수에 맞춰 등분한 날짜로 구성된 DatetimeIndex를 반환한다.\n",
    "            - end 대신 period로 \n",
    "        - freq: str 또는 DateOffsets - 빈도 기준\n",
    "            - https://pandas.pydata.org/pandas-docs/stable/user_guide/timeseries.html#offset-aliases\n",
    "        - periods와 freq는 둘중 하나만 사용한다. 둘다 생략하면 **일별**로 생성한다.\n",
    "\n",
    "- **first(offset)**\n",
    "    - offset 빈도의 앞의 N개 행을 조회한다."
   ]
  },
  {
   "cell_type": "code",
   "execution_count": 1,
   "id": "7ac5ca1e",
   "metadata": {
    "ExecuteTime": {
     "end_time": "2023-01-13T04:53:05.708991Z",
     "start_time": "2023-01-13T04:53:04.128005Z"
    },
    "slideshow": {
     "slide_type": "fragment"
    }
   },
   "outputs": [
    {
     "data": {
      "text/plain": [
       "DatetimeIndex(['2022-01-01', '2025-01-01', '2028-01-01'], dtype='datetime64[ns]', freq='3AS-JAN')"
      ]
     },
     "execution_count": 1,
     "metadata": {},
     "output_type": "execute_result"
    }
   ],
   "source": [
    "# date_range()\n",
    "\n",
    "import pandas as pd\n",
    "\n",
    "pd.date_range(start='2022-01', end='2022-02') #default 간격:  날짜기준\n",
    "pd.date_range(start='2022-01', end='2022-02', periods=3) # 3등분한 분위의 날짜\n",
    "pd.date_range(start='2022-01', periods=3)\n",
    "pd.date_range(start='2022-01', periods=3, freq='y') # y: YearEnd\n",
    "pd.date_range(start='2022-01', periods=3, freq='ys')# ys: YearStart\n",
    "pd.date_range(start='2022-01', periods=3, freq='3ys') # 3ys: 3년"
   ]
  },
  {
   "cell_type": "code",
   "execution_count": 2,
   "id": "3698d186",
   "metadata": {
    "ExecuteTime": {
     "end_time": "2023-01-13T04:53:22.172093Z",
     "start_time": "2023-01-13T04:53:22.130745Z"
    }
   },
   "outputs": [
    {
     "data": {
      "text/plain": [
       "DatetimeIndex(['2022-01-01 00:00:00', '2022-01-01 01:00:00',\n",
       "               '2022-01-01 02:00:00', '2022-01-01 03:00:00',\n",
       "               '2022-01-01 04:00:00', '2022-01-01 05:00:00',\n",
       "               '2022-01-01 06:00:00', '2022-01-01 07:00:00',\n",
       "               '2022-01-01 08:00:00', '2022-01-01 09:00:00',\n",
       "               ...\n",
       "               '2022-01-31 15:00:00', '2022-01-31 16:00:00',\n",
       "               '2022-01-31 17:00:00', '2022-01-31 18:00:00',\n",
       "               '2022-01-31 19:00:00', '2022-01-31 20:00:00',\n",
       "               '2022-01-31 21:00:00', '2022-01-31 22:00:00',\n",
       "               '2022-01-31 23:00:00', '2022-02-01 00:00:00'],\n",
       "              dtype='datetime64[ns]', length=745, freq='H')"
      ]
     },
     "execution_count": 2,
     "metadata": {},
     "output_type": "execute_result"
    }
   ],
   "source": [
    "# pd.date_range('2000', '2023', freq='5y')\n",
    "# pd.date_range('2000', '2023', freq='5ys')\n",
    "# pd.date_range('2000', '2023', freq='m')\n",
    "pd.date_range('2000', '2023', freq='MS')  #ms: 밀리초\n",
    "pd.date_range('2022-01-01', '2022-02', freq='H')"
   ]
  },
  {
   "cell_type": "code",
   "execution_count": 3,
   "id": "04277b73",
   "metadata": {
    "ExecuteTime": {
     "end_time": "2023-01-13T04:53:33.758752Z",
     "start_time": "2023-01-13T04:53:33.724116Z"
    },
    "scrolled": true
   },
   "outputs": [
    {
     "data": {
      "text/plain": [
       "DatetimeIndex(['2000-01-01', '2000-04-01', '2000-07-01', '2000-10-01',\n",
       "               '2001-01-01', '2001-04-01', '2001-07-01', '2001-10-01',\n",
       "               '2002-01-01', '2002-04-01', '2002-07-01', '2002-10-01',\n",
       "               '2003-01-01', '2003-04-01', '2003-07-01', '2003-10-01',\n",
       "               '2004-01-01', '2004-04-01', '2004-07-01', '2004-10-01',\n",
       "               '2005-01-01', '2005-04-01', '2005-07-01', '2005-10-01',\n",
       "               '2006-01-01', '2006-04-01', '2006-07-01', '2006-10-01',\n",
       "               '2007-01-01', '2007-04-01', '2007-07-01', '2007-10-01',\n",
       "               '2008-01-01', '2008-04-01', '2008-07-01', '2008-10-01',\n",
       "               '2009-01-01', '2009-04-01', '2009-07-01', '2009-10-01',\n",
       "               '2010-01-01', '2010-04-01', '2010-07-01', '2010-10-01',\n",
       "               '2011-01-01', '2011-04-01', '2011-07-01', '2011-10-01',\n",
       "               '2012-01-01', '2012-04-01', '2012-07-01', '2012-10-01',\n",
       "               '2013-01-01', '2013-04-01', '2013-07-01', '2013-10-01',\n",
       "               '2014-01-01', '2014-04-01', '2014-07-01', '2014-10-01',\n",
       "               '2015-01-01', '2015-04-01', '2015-07-01', '2015-10-01',\n",
       "               '2016-01-01', '2016-04-01', '2016-07-01', '2016-10-01',\n",
       "               '2017-01-01', '2017-04-01', '2017-07-01', '2017-10-01',\n",
       "               '2018-01-01', '2018-04-01', '2018-07-01', '2018-10-01',\n",
       "               '2019-01-01', '2019-04-01', '2019-07-01', '2019-10-01',\n",
       "               '2020-01-01', '2020-04-01', '2020-07-01', '2020-10-01',\n",
       "               '2021-01-01', '2021-04-01', '2021-07-01', '2021-10-01',\n",
       "               '2022-01-01', '2022-04-01', '2022-07-01', '2022-10-01',\n",
       "               '2023-01-01'],\n",
       "              dtype='datetime64[ns]', freq='QS-JAN')"
      ]
     },
     "execution_count": 3,
     "metadata": {},
     "output_type": "execute_result"
    }
   ],
   "source": [
    "pd.date_range('2023-01-01', '2023-01-12', freq='B')\n",
    "pd.date_range('2000', '2023', freq='Q')\n",
    "pd.date_range('2000', '2023', freq='QS')"
   ]
  },
  {
   "cell_type": "code",
   "execution_count": 4,
   "id": "c8f28d83",
   "metadata": {
    "ExecuteTime": {
     "end_time": "2023-01-13T04:53:58.230667Z",
     "start_time": "2023-01-13T04:53:58.196371Z"
    },
    "scrolled": true
   },
   "outputs": [
    {
     "data": {
      "text/plain": [
       "0     2020-01-07\n",
       "1     2020-01-14\n",
       "2     2020-01-21\n",
       "3     2020-01-28\n",
       "4     2020-02-04\n",
       "         ...    \n",
       "151   2022-11-29\n",
       "152   2022-12-06\n",
       "153   2022-12-13\n",
       "154   2022-12-20\n",
       "155   2022-12-27\n",
       "Length: 156, dtype: datetime64[ns]"
      ]
     },
     "execution_count": 4,
     "metadata": {},
     "output_type": "execute_result"
    }
   ],
   "source": [
    "# 시리즈의 값으로 사용.\n",
    "pd.Series(pd.date_range('2020', '2023', freq='W-TUE') )"
   ]
  },
  {
   "cell_type": "code",
   "execution_count": 5,
   "id": "a1d285e8",
   "metadata": {
    "ExecuteTime": {
     "end_time": "2023-01-13T04:54:06.372305Z",
     "start_time": "2023-01-13T04:54:06.336124Z"
    }
   },
   "outputs": [
    {
     "data": {
      "text/plain": [
       "2023-01-01 00:00:00      0\n",
       "2023-01-01 00:03:10      1\n",
       "2023-01-01 00:06:20      2\n",
       "2023-01-01 00:09:30      3\n",
       "2023-01-01 00:12:40      4\n",
       "                      ... \n",
       "2023-01-01 23:45:00    450\n",
       "2023-01-01 23:48:10    451\n",
       "2023-01-01 23:51:20    452\n",
       "2023-01-01 23:54:30    453\n",
       "2023-01-01 23:57:40    454\n",
       "Freq: 190S, Length: 455, dtype: int64"
      ]
     },
     "execution_count": 5,
     "metadata": {},
     "output_type": "execute_result"
    }
   ],
   "source": [
    "s = pd.Series(range(455), \n",
    "              index=pd.date_range('2023/01/01', '2023/01/01 23:59:59', freq='3T10S'))  # T 분  (3분 10초))\n",
    "s"
   ]
  },
  {
   "cell_type": "code",
   "execution_count": 6,
   "id": "d1bd05de",
   "metadata": {
    "ExecuteTime": {
     "end_time": "2023-01-13T04:54:16.483689Z",
     "start_time": "2023-01-13T04:54:16.457909Z"
    },
    "scrolled": true
   },
   "outputs": [
    {
     "data": {
      "text/plain": [
       "2023-01-01 00:00:00     0\n",
       "2023-01-01 00:03:10     1\n",
       "2023-01-01 00:06:20     2\n",
       "2023-01-01 00:09:30     3\n",
       "2023-01-01 00:12:40     4\n",
       "2023-01-01 00:15:50     5\n",
       "2023-01-01 00:19:00     6\n",
       "2023-01-01 00:22:10     7\n",
       "2023-01-01 00:25:20     8\n",
       "2023-01-01 00:28:30     9\n",
       "2023-01-01 00:31:40    10\n",
       "2023-01-01 00:34:50    11\n",
       "2023-01-01 00:38:00    12\n",
       "2023-01-01 00:41:10    13\n",
       "2023-01-01 00:44:20    14\n",
       "2023-01-01 00:47:30    15\n",
       "2023-01-01 00:50:40    16\n",
       "2023-01-01 00:53:50    17\n",
       "2023-01-01 00:57:00    18\n",
       "2023-01-01 01:00:10    19\n",
       "2023-01-01 01:03:20    20\n",
       "2023-01-01 01:06:30    21\n",
       "2023-01-01 01:09:40    22\n",
       "2023-01-01 01:12:50    23\n",
       "2023-01-01 01:16:00    24\n",
       "2023-01-01 01:19:10    25\n",
       "2023-01-01 01:22:20    26\n",
       "2023-01-01 01:25:30    27\n",
       "2023-01-01 01:28:40    28\n",
       "2023-01-01 01:31:50    29\n",
       "2023-01-01 01:35:00    30\n",
       "2023-01-01 01:38:10    31\n",
       "2023-01-01 01:41:20    32\n",
       "2023-01-01 01:44:30    33\n",
       "2023-01-01 01:47:40    34\n",
       "2023-01-01 01:50:50    35\n",
       "2023-01-01 01:54:00    36\n",
       "2023-01-01 01:57:10    37\n",
       "2023-01-01 02:00:20    38\n",
       "2023-01-01 02:03:30    39\n",
       "2023-01-01 02:06:40    40\n",
       "2023-01-01 02:09:50    41\n",
       "2023-01-01 02:13:00    42\n",
       "2023-01-01 02:16:10    43\n",
       "2023-01-01 02:19:20    44\n",
       "2023-01-01 02:22:30    45\n",
       "2023-01-01 02:25:40    46\n",
       "2023-01-01 02:28:50    47\n",
       "2023-01-01 02:32:00    48\n",
       "2023-01-01 02:35:10    49\n",
       "2023-01-01 02:38:20    50\n",
       "2023-01-01 02:41:30    51\n",
       "2023-01-01 02:44:40    52\n",
       "2023-01-01 02:47:50    53\n",
       "2023-01-01 02:51:00    54\n",
       "2023-01-01 02:54:10    55\n",
       "2023-01-01 02:57:20    56\n",
       "Freq: 190S, dtype: int64"
      ]
     },
     "execution_count": 6,
     "metadata": {},
     "output_type": "execute_result"
    }
   ],
   "source": [
    "# first()\n",
    "s.first('900S')\n",
    "s.first('20T')\n",
    "s.first('3H')"
   ]
  },
  {
   "cell_type": "markdown",
   "id": "240e6347",
   "metadata": {
    "slideshow": {
     "slide_type": "slide"
    }
   },
   "source": [
    "## 데이터 shift\n",
    "- DatetimeIndex의 index는 그대로 두고 데이터를 앞 또는 뒤로 이동시킨다.\n",
    "- DataFrame/Series객체.shift() 이용\n",
    "    - 매개변수\n",
    "        - periods=1 : 이동할 기간 (기본값 1)\n",
    "        - freq: 이동시킬 날짜/시간의 단위. DateOffset 객체/alias, timedelta\n",
    "        "
   ]
  },
  {
   "cell_type": "code",
   "execution_count": 7,
   "id": "e0fffde6",
   "metadata": {
    "ExecuteTime": {
     "end_time": "2023-01-13T04:54:34.758222Z",
     "start_time": "2023-01-13T04:54:34.736603Z"
    },
    "slideshow": {
     "slide_type": "fragment"
    }
   },
   "outputs": [
    {
     "data": {
      "text/plain": [
       "2022-01-01    10\n",
       "2022-01-02    11\n",
       "2022-01-03    12\n",
       "2022-01-04    13\n",
       "2022-01-05    14\n",
       "Freq: D, dtype: int64"
      ]
     },
     "execution_count": 7,
     "metadata": {},
     "output_type": "execute_result"
    }
   ],
   "source": [
    "s = pd.Series(range(10, 15), index=pd.date_range('2022/01/01', '2022/01/05'))\n",
    "s"
   ]
  },
  {
   "cell_type": "code",
   "execution_count": 8,
   "id": "1128e64c",
   "metadata": {
    "ExecuteTime": {
     "end_time": "2023-01-13T04:54:39.986990Z",
     "start_time": "2023-01-13T04:54:39.966930Z"
    }
   },
   "outputs": [
    {
     "data": {
      "text/plain": [
       "2022-01-01     NaN\n",
       "2022-01-02     NaN\n",
       "2022-01-03    10.0\n",
       "2022-01-04    11.0\n",
       "2022-01-05    12.0\n",
       "Freq: D, dtype: float64"
      ]
     },
     "execution_count": 8,
     "metadata": {},
     "output_type": "execute_result"
    }
   ],
   "source": [
    "s.shift(2)"
   ]
  },
  {
   "cell_type": "code",
   "execution_count": 9,
   "id": "bd2c3f63",
   "metadata": {
    "ExecuteTime": {
     "end_time": "2023-01-13T05:10:51.973558Z",
     "start_time": "2023-01-13T05:10:51.956405Z"
    }
   },
   "outputs": [
    {
     "data": {
      "text/plain": [
       "2022-01-01    12.0\n",
       "2022-01-02    13.0\n",
       "2022-01-03    14.0\n",
       "2022-01-04     NaN\n",
       "2022-01-05     NaN\n",
       "Freq: D, dtype: float64"
      ]
     },
     "execution_count": 9,
     "metadata": {},
     "output_type": "execute_result"
    }
   ],
   "source": [
    "s.shift(-2)"
   ]
  },
  {
   "cell_type": "code",
   "execution_count": null,
   "id": "eb126e06",
   "metadata": {},
   "outputs": [],
   "source": []
  },
  {
   "cell_type": "code",
   "execution_count": null,
   "id": "edd28ca7",
   "metadata": {},
   "outputs": [],
   "source": []
  },
  {
   "cell_type": "code",
   "execution_count": null,
   "id": "f78cabe7",
   "metadata": {},
   "outputs": [],
   "source": []
  },
  {
   "cell_type": "markdown",
   "id": "8665fa8b",
   "metadata": {
    "slideshow": {
     "slide_type": "slide"
    }
   },
   "source": [
    "## resample()을 이용한 집계\n",
    "- resample()은 시계열 데이터를 지정한 구간별로 나눠서 집계할 수 있도록 grouping 한다.\n",
    "- groupby() 로 묶을 수도 있지만 DatetimeIndex의 경우 resample이 더 편리하다.\n",
    "    - 매개변수\n",
    "        - rule: group으로 묶을 기준을 offset으로 지정한다.\n",
    "        - closed : \"left\" 또는 \"right\" - 간격의 시작과 끝중 어느부분을 포함시킬지(닫을지)를 설정. \"left\"가 기본으로 왼쪽은 포함하고 오른쪽은 포함되지 않는다.\n",
    "        - on : 기준 컬럼을 지정한다. Index가 아니라 datetime 타입의 열(컬럼)을 기준으로 resample 할 때 사용"
   ]
  },
  {
   "cell_type": "code",
   "execution_count": null,
   "id": "8d1406d7",
   "metadata": {
    "slideshow": {
     "slide_type": "fragment"
    }
   },
   "outputs": [],
   "source": []
  },
  {
   "cell_type": "markdown",
   "id": "de0d5ddb",
   "metadata": {
    "slideshow": {
     "slide_type": "slide"
    }
   },
   "source": [
    "##  기간 이동 집계\n",
    "- 현재값을 기준으로 N개씩 묶어서 집계를 한다.\n",
    "    - 예) 이동평균 구하기\n",
    "- rolling(window, min_periods=None)    \n",
    "    - window: 범위. 정수\n",
    "    - min_periods: 집계할 최소 개수. 생략하면 window size로 지정.\n",
    "    - center: bool - 집계결과를 window의 중간에 둘지 여부. 기본값은 False로 레이블이 창 맨 뒤에 둔다. "
   ]
  },
  {
   "cell_type": "code",
   "execution_count": null,
   "id": "23e68179",
   "metadata": {
    "slideshow": {
     "slide_type": "fragment"
    }
   },
   "outputs": [],
   "source": []
  }
 ],
 "metadata": {
  "kernelspec": {
   "display_name": "Python 3 (ipykernel)",
   "language": "python",
   "name": "python3"
  },
  "language_info": {
   "codemirror_mode": {
    "name": "ipython",
    "version": 3
   },
   "file_extension": ".py",
   "mimetype": "text/x-python",
   "name": "python",
   "nbconvert_exporter": "python",
   "pygments_lexer": "ipython3",
   "version": "3.9.13"
  },
  "toc": {
   "base_numbering": 1,
   "nav_menu": {},
   "number_sections": true,
   "sideBar": true,
   "skip_h1_title": false,
   "title_cell": "Table of Contents",
   "title_sidebar": "Contents",
   "toc_cell": false,
   "toc_position": {},
   "toc_section_display": true,
   "toc_window_display": false
  },
  "varInspector": {
   "cols": {
    "lenName": 16,
    "lenType": 16,
    "lenVar": 40
   },
   "kernels_config": {
    "python": {
     "delete_cmd_postfix": "",
     "delete_cmd_prefix": "del ",
     "library": "var_list.py",
     "varRefreshCmd": "print(var_dic_list())"
    },
    "r": {
     "delete_cmd_postfix": ") ",
     "delete_cmd_prefix": "rm(",
     "library": "var_list.r",
     "varRefreshCmd": "cat(var_dic_list()) "
    }
   },
   "position": {
    "height": "378.844px",
    "left": "408px",
    "right": "20px",
    "top": "479px",
    "width": "350px"
   },
   "types_to_exclude": [
    "module",
    "function",
    "builtin_function_or_method",
    "instance",
    "_Feature"
   ],
   "window_display": false
  }
 },
 "nbformat": 4,
 "nbformat_minor": 5
}
