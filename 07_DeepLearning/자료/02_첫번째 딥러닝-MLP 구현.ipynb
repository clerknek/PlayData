{
 "cells": [
  {
   "cell_type": "markdown",
   "metadata": {
    "slideshow": {
     "slide_type": "slide"
    }
   },
   "source": [
    "# Keras 개발 Process"
   ]
  },
  {
   "cell_type": "markdown",
   "metadata": {
    "slideshow": {
     "slide_type": "fragment"
    }
   },
   "source": [
    "1. 입력 텐서(X)와 출력 텐서(y)로 이뤄진 **훈련 데이터를 정의**"
   ]
  },
  {
   "cell_type": "markdown",
   "metadata": {
    "slideshow": {
     "slide_type": "fragment"
    }
   },
   "source": [
    "2. 입력과 출력을 연결하는 Layer(층)으로 이뤄진 **네트워크(모델)을 정의**\n",
    "    - Sequential 방식: 순서대로 쌓아올린 네트워크로 이뤄진 모델을 생성하는 방식\n",
    "    - Functional API 방식: 다양한 구조의 네트워크로 이뤄진 모델을 생성하는 방식\n",
    "    - Subclass 방식: 네트워크를 정의하는 클래스를 구현.\n",
    "    "
   ]
  },
  {
   "cell_type": "markdown",
   "metadata": {
    "slideshow": {
     "slide_type": "fragment"
    }
   },
   "source": [
    "3. **모델 Compile(컴파일)**\n",
    "    - 모델이 Train(학습)할때 사용할 손실함수(Loss Function), 최적화기법(Optimizer), 학습과정을 모니터링할 평가지표(Metrics)를 설정\n",
    "    \n",
    "    > Compile: 실행할 수 있는 상태로 만들어 주는 것."
   ]
  },
  {
   "cell_type": "markdown",
   "metadata": {
    "slideshow": {
     "slide_type": "fragment"
    }
   },
   "source": [
    "4. **Training(학습/훈련)**\n",
    "    - Train dataset을 이용해 모델을 Train 시킨다."
   ]
  },
  {
   "cell_type": "markdown",
   "metadata": {
    "slideshow": {
     "slide_type": "slide"
    }
   },
   "source": [
    "# MNIST 이미지 분류 \n",
    "- ### [MNIST](https://ko.wikipedia.org/wiki/MNIST_%EB%8D%B0%EC%9D%B4%ED%84%B0%EB%B2%A0%EC%9D%B4%EC%8A%A4)(Modified National Institute of Standards and Technology) database\n",
    "- 흑백 손글씨 숫자 0-9까지 10개의 범주로 구분해놓은 데이터셋\n",
    "- 하나의 이미지는 28 * 28 pixel 의 크기\n",
    "- 6만개의 Train 이미지와 1만개의 Test 이미지로 구성됨."
   ]
  },
  {
   "cell_type": "markdown",
   "metadata": {},
   "source": [
    "##### import"
   ]
  },
  {
   "cell_type": "code",
   "execution_count": 4,
   "metadata": {
    "ExecuteTime": {
     "end_time": "2023-02-16T03:20:48.433607Z",
     "start_time": "2023-02-16T03:20:48.419723Z"
    }
   },
   "outputs": [
    {
     "name": "stdout",
     "output_type": "stream",
     "text": [
      "2.11.0\n"
     ]
    }
   ],
   "source": [
    "import random\n",
    "import numpy as np\n",
    "import tensorflow as tf\n",
    "from tensorflow import keras\n",
    "\n",
    "print(tf.__version__)\n",
    " # seed값 설정\n",
    "np.random.seed(0)\n",
    "tf.random.set_seed(0)\n",
    "random.seed(0)"
   ]
  },
  {
   "cell_type": "markdown",
   "metadata": {
    "ExecuteTime": {
     "end_time": "2021-08-30T05:02:52.852140Z",
     "start_time": "2021-08-30T05:02:52.563117Z"
    },
    "slideshow": {
     "slide_type": "slide"
    }
   },
   "source": [
    "##### MNIST dataset Loading"
   ]
  },
  {
   "cell_type": "code",
   "execution_count": 5,
   "metadata": {
    "ExecuteTime": {
     "end_time": "2023-02-16T03:21:14.140059Z",
     "start_time": "2023-02-16T03:21:13.885481Z"
    }
   },
   "outputs": [],
   "source": [
    "(train_image, train_label), (test_image, test_label) = keras.datasets.mnist.load_data()"
   ]
  },
  {
   "cell_type": "code",
   "execution_count": 6,
   "metadata": {
    "ExecuteTime": {
     "end_time": "2023-02-16T03:21:47.294987Z",
     "start_time": "2023-02-16T03:21:47.277572Z"
    }
   },
   "outputs": [
    {
     "data": {
      "text/plain": [
       "((60000, 28, 28), (60000,), (10000, 28, 28), (10000,))"
      ]
     },
     "execution_count": 6,
     "metadata": {},
     "output_type": "execute_result"
    }
   ],
   "source": [
    "train_image.shape, train_label.shape, test_image.shape, test_label.shape\n",
    "# (60000, 28, 28) : (개수, 데이터shape-28,28), (60000, )"
   ]
  },
  {
   "cell_type": "code",
   "execution_count": 7,
   "metadata": {
    "ExecuteTime": {
     "end_time": "2023-02-16T03:22:55.920904Z",
     "start_time": "2023-02-16T03:22:55.916182Z"
    }
   },
   "outputs": [
    {
     "data": {
      "text/plain": [
       "array([5, 0, 4, 1, 9], dtype=uint8)"
      ]
     },
     "execution_count": 7,
     "metadata": {},
     "output_type": "execute_result"
    }
   ],
   "source": [
    "#y값 확인\n",
    "train_label[:5]"
   ]
  },
  {
   "cell_type": "code",
   "execution_count": 10,
   "metadata": {
    "ExecuteTime": {
     "end_time": "2023-02-16T03:26:38.777829Z",
     "start_time": "2023-02-16T03:26:38.126525Z"
    }
   },
   "outputs": [
    {
     "data": {
      "image/png": "[encoded data removed]",
      "text/plain": [
       "<Figure size 1000x500 with 10 Axes>"
      ]
     },
     "metadata": {},
     "output_type": "display_data"
    }
   ],
   "source": [
    "# X값-image 확인\n",
    "import matplotlib.pyplot as plt\n",
    "plt.figure(figsize=(10,5))\n",
    "\n",
    "for i in range(10):\n",
    "    plt.subplot(2, 5, i+1)\n",
    "    plt.imshow(train_image[i], cmap='gray')\n",
    "    plt.title(f'{train_label[i]}', fontsize=20)\n",
    "    plt.axis('off')\n",
    "\n",
    "plt.tight_layout()\n",
    "plt.show()"
   ]
  },
  {
   "cell_type": "code",
   "execution_count": 12,
   "metadata": {
    "ExecuteTime": {
     "end_time": "2023-02-16T03:32:44.632294Z",
     "start_time": "2023-02-16T03:32:44.614367Z"
    }
   },
   "outputs": [
    {
     "data": {
      "text/plain": [
       "(0, 255)"
      ]
     },
     "execution_count": 12,
     "metadata": {},
     "output_type": "execute_result"
    }
   ],
   "source": [
    "train_image[0].min(), train_image[0].max()"
   ]
  },
  {
   "cell_type": "markdown",
   "metadata": {
    "slideshow": {
     "slide_type": "slide"
    }
   },
   "source": [
    "## 데이터 준비\n",
    "- X (Input Data Image)\n",
    "    - 0 ~ 1 사이의 값으로 정규화 시킨다.\n",
    "- y (Output Data)\n",
    "    - one hot encoding 처리\n",
    "        - Label이 다중분류(Multi class classification)일 경우 One Hot Encoding 한다.\n",
    "            - 딥러닝 모델이 각 Label별 확률을 출력하도록 정의 되기 때문에 y(정답)도 같은 형태로 만들어 줘야 한다.\n",
    "    - Keras의 onehot encoding 처리 함수\n",
    "        - tensorflow.keras.utils.to_categorical()"
   ]
  },
  {
   "cell_type": "markdown",
   "metadata": {
    "ExecuteTime": {
     "end_time": "2021-08-30T05:07:46.170159Z",
     "start_time": "2021-08-30T05:07:45.800170Z"
    },
    "slideshow": {
     "slide_type": "fragment"
    }
   },
   "source": [
    "##### input image(X)를 정규화. \n",
    "- 이미지를 0 ~ 1 로 정규화 하고 타입을 float32로 변환"
   ]
  },
  {
   "cell_type": "code",
   "execution_count": 14,
   "metadata": {
    "ExecuteTime": {
     "end_time": "2023-02-16T03:35:11.106186Z",
     "start_time": "2023-02-16T03:35:11.094777Z"
    }
   },
   "outputs": [
    {
     "data": {
      "text/plain": [
       "dtype('uint8')"
      ]
     },
     "execution_count": 14,
     "metadata": {},
     "output_type": "execute_result"
    }
   ],
   "source": [
    "train_image.dtype"
   ]
  },
  {
   "cell_type": "code",
   "execution_count": 15,
   "metadata": {
    "ExecuteTime": {
     "end_time": "2023-02-16T03:36:52.354918Z",
     "start_time": "2023-02-16T03:36:52.102118Z"
    }
   },
   "outputs": [],
   "source": [
    "X_train = train_image.astype(\"float32\")/255\n",
    "X_test = test_image.astype('float32')/255"
   ]
  },
  {
   "cell_type": "markdown",
   "metadata": {
    "ExecuteTime": {
     "end_time": "2021-08-30T05:08:02.687904Z",
     "start_time": "2021-08-30T05:08:02.678864Z"
    },
    "slideshow": {
     "slide_type": "slide"
    }
   },
   "source": [
    "##### label(y)를 one hot encoding"
   ]
  },
  {
   "cell_type": "code",
   "execution_count": 19,
   "metadata": {
    "ExecuteTime": {
     "end_time": "2023-02-16T03:37:51.451003Z",
     "start_time": "2023-02-16T03:37:51.431050Z"
    }
   },
   "outputs": [
    {
     "data": {
      "text/plain": [
       "(array([0, 1, 2, 3, 4, 5, 6, 7, 8, 9], dtype=uint8),\n",
       " array([5923, 6742, 5958, 6131, 5842, 5421, 5918, 6265, 5851, 5949],\n",
       "       dtype=int64))"
      ]
     },
     "execution_count": 19,
     "metadata": {},
     "output_type": "execute_result"
    }
   ],
   "source": [
    "np.unique(train_label, return_counts=True)"
   ]
  },
  {
   "cell_type": "code",
   "execution_count": 22,
   "metadata": {
    "ExecuteTime": {
     "end_time": "2023-02-16T03:40:32.217915Z",
     "start_time": "2023-02-16T03:40:32.206405Z"
    }
   },
   "outputs": [
    {
     "data": {
      "text/plain": [
       "((60000, 10), (10000, 10))"
      ]
     },
     "execution_count": 22,
     "metadata": {},
     "output_type": "execute_result"
    }
   ],
   "source": [
    "y_train = keras.utils.to_categorical(train_label, num_classes=10)\n",
    "y_test = keras.utils.to_categorical(test_label)\n",
    "\n",
    "y_train.shape, y_test.shape"
   ]
  },
  {
   "cell_type": "code",
   "execution_count": 21,
   "metadata": {
    "ExecuteTime": {
     "end_time": "2023-02-16T03:40:22.519231Z",
     "start_time": "2023-02-16T03:40:22.510914Z"
    }
   },
   "outputs": [
    {
     "data": {
      "text/plain": [
       "array([5, 0, 4, 1, 9], dtype=uint8)"
      ]
     },
     "execution_count": 21,
     "metadata": {},
     "output_type": "execute_result"
    }
   ],
   "source": [
    "train_label[:5]"
   ]
  },
  {
   "cell_type": "code",
   "execution_count": 23,
   "metadata": {
    "ExecuteTime": {
     "end_time": "2023-02-16T03:40:55.521024Z",
     "start_time": "2023-02-16T03:40:55.503266Z"
    }
   },
   "outputs": [
    {
     "data": {
      "text/plain": [
       "array([[0., 0., 0., 0., 0., 1., 0., 0., 0., 0.],\n",
       "       [1., 0., 0., 0., 0., 0., 0., 0., 0., 0.],\n",
       "       [0., 0., 0., 0., 1., 0., 0., 0., 0., 0.],\n",
       "       [0., 1., 0., 0., 0., 0., 0., 0., 0., 0.],\n",
       "       [0., 0., 0., 0., 0., 0., 0., 0., 0., 1.]], dtype=float32)"
      ]
     },
     "execution_count": 23,
     "metadata": {},
     "output_type": "execute_result"
    }
   ],
   "source": [
    "y_train[:5]"
   ]
  },
  {
   "cell_type": "markdown",
   "metadata": {
    "slideshow": {
     "slide_type": "slide"
    }
   },
   "source": [
    "## 네트워크(모델) 정의\n",
    "- Network : 전체 모델 구조"
   ]
  },
  {
   "cell_type": "code",
   "execution_count": 70,
   "metadata": {
    "ExecuteTime": {
     "end_time": "2023-02-16T08:08:09.938461Z",
     "start_time": "2023-02-16T08:08:09.868904Z"
    }
   },
   "outputs": [],
   "source": [
    "model = keras.Sequential()  # (빈)모델생성\n",
    "# 모델에 Layer 들을 추가한다.(쌓는다.)\n",
    "# 각 레이어는 이전 Layer의 출력결과를 입력으로 받아서 처리한 뒤에 출력한다.\n",
    "# Layer는 Unit/Node/Neuron 들로 구성된다. -> feature들을 입력받아서 처리후 출력하는 함수.\n",
    "\n",
    "# 첫번째 Layer를 추가 -> 첫번째: InputLayer를 추가. -> (모델의) 입력 데이터의 shape을 설정하는 역할.\n",
    "model.add(keras.layers.InputLayer((28, 28))) \n",
    "\n",
    "model.add(keras.layers.Flatten())  # 입력데이터를 1차원 배열로 변환.\n",
    "\n",
    "model.add(keras.layers.Dense(units=256)) # unit 256개로 이뤄진 Layer를 생성. 각 unit은 선형회귀(W*X + B) 계산을 처리.\n",
    "\n",
    "model.add(keras.layers.ReLU())  # max(X, 0) -> Activation(활성) 함수. => 비선형함수를 사용.\n",
    "\n",
    "model.add(keras.layers.Dense(units=128))\n",
    "\n",
    "model.add(keras.layers.ReLU())\n",
    "\n",
    "model.add(keras.layers.Dense(units=10))\n",
    "\n",
    "model.add(keras.layers.Softmax(name='output'))  # Output Layer->모델의 출력 결과를 출력하는 Layer"
   ]
  },
  {
   "cell_type": "code",
   "execution_count": 26,
   "metadata": {
    "ExecuteTime": {
     "end_time": "2023-02-16T06:15:59.015393Z",
     "start_time": "2023-02-16T06:15:58.941283Z"
    }
   },
   "outputs": [],
   "source": [
    "model2 = keras.Sequential([\n",
    "    keras.layers.InputLayer((28,28)), \n",
    "    keras.layers.Flatten(),\n",
    "    keras.layers.Dense(256),\n",
    "    keras.layers.ReLU(),\n",
    "    keras.layers.Dense(10),\n",
    "    keras.layers.Softmax()\n",
    "])\n"
   ]
  },
  {
   "cell_type": "code",
   "execution_count": 29,
   "metadata": {
    "ExecuteTime": {
     "end_time": "2023-02-16T06:18:05.265825Z",
     "start_time": "2023-02-16T06:18:05.236750Z"
    }
   },
   "outputs": [
    {
     "name": "stdout",
     "output_type": "stream",
     "text": [
      "Model: \"sequential_2\"\n",
      "_________________________________________________________________\n",
      " Layer (type)                Output Shape              Param #   \n",
      "=================================================================\n",
      " flatten_2 (Flatten)         (None, 784)               0         \n",
      "                                                                 \n",
      " dense_5 (Dense)             (None, 256)               200960    \n",
      "                                                                 \n",
      " re_lu_3 (ReLU)              (None, 256)               0         \n",
      "                                                                 \n",
      " dense_6 (Dense)             (None, 128)               32896     \n",
      "                                                                 \n",
      " re_lu_4 (ReLU)              (None, 128)               0         \n",
      "                                                                 \n",
      " dense_7 (Dense)             (None, 10)                1290      \n",
      "                                                                 \n",
      " output (Softmax)            (None, 10)                0         \n",
      "                                                                 \n",
      "=================================================================\n",
      "Total params: 235,146\n",
      "Trainable params: 235,146\n",
      "Non-trainable params: 0\n",
      "_________________________________________________________________\n"
     ]
    }
   ],
   "source": [
    "# 모델의 구조를 확인\n",
    "model.summary()"
   ]
  },
  {
   "cell_type": "code",
   "execution_count": 40,
   "metadata": {
    "ExecuteTime": {
     "end_time": "2023-02-16T07:23:12.446091Z",
     "start_time": "2023-02-16T07:23:12.216672Z"
    }
   },
   "outputs": [
    {
     "data": {
      "image/png": "[encoded data removed]",
      "text/plain": [
       "<IPython.core.display.Image object>"
      ]
     },
     "execution_count": 40,
     "metadata": {},
     "output_type": "execute_result"
    }
   ],
   "source": [
    "# 모델구조를 시각화 - graphviz\n",
    "# pip install graphviz pydot pydotplus\n",
    "keras.utils.plot_model(model, \n",
    "                       show_shapes=True  # 각 Layer의 input/output의 shape을 확인\n",
    "                       , to_file='model_shapes.png'  # 저장할 파일명. 생략하면 model.png로 저장\n",
    "                      )"
   ]
  },
  {
   "cell_type": "markdown",
   "metadata": {
    "slideshow": {
     "slide_type": "slide"
    }
   },
   "source": [
    "## 컴파일 단계\n",
    "- 정의된 딥러닝 모델을 학습할 수 있는 상태로 만들어 주기 위해 다음을 추가적으로 설정 한다.\n",
    "    - Optimizer\n",
    "    - 손실함수\n",
    "    - 평가지표"
   ]
  },
  {
   "cell_type": "code",
   "execution_count": 71,
   "metadata": {
    "ExecuteTime": {
     "end_time": "2023-02-16T08:08:14.774991Z",
     "start_time": "2023-02-16T08:08:14.755335Z"
    }
   },
   "outputs": [],
   "source": [
    "model.compile(optimizer='adam', \n",
    "             loss='categorical_crossentropy', \n",
    "             metrics=['accuracy'] # 학습로그, 모델 평가 할때 loss(loss함수가 계산한 오차값)와 같이 나올 평가지표\n",
    "             )"
   ]
  },
  {
   "cell_type": "markdown",
   "metadata": {
    "slideshow": {
     "slide_type": "slide"
    }
   },
   "source": [
    "## 학습 (fit)\n",
    "- model.fit()\n",
    "    - 모델 학습 메소드. \n",
    "    - 학습과정의 Log를 History 객체로 반환한다.\n",
    "- History : train 시 에폭별 평가지표값들을 모아서 제공.    "
   ]
  },
  {
   "cell_type": "code",
   "execution_count": 72,
   "metadata": {
    "ExecuteTime": {
     "end_time": "2023-02-16T08:09:04.975920Z",
     "start_time": "2023-02-16T08:08:22.595564Z"
    },
    "scrolled": true
   },
   "outputs": [
    {
     "name": "stdout",
     "output_type": "stream",
     "text": [
      "Epoch 1/20\n",
      "420/420 [==============================] - 3s 5ms/step - loss: 0.3044 - accuracy: 0.9121 - val_loss: 0.1599 - val_accuracy: 0.9537\n",
      "Epoch 2/20\n",
      "420/420 [==============================] - 2s 5ms/step - loss: 0.1149 - accuracy: 0.9657 - val_loss: 0.1210 - val_accuracy: 0.9639\n",
      "Epoch 3/20\n",
      "420/420 [==============================] - 2s 5ms/step - loss: 0.0744 - accuracy: 0.9773 - val_loss: 0.1020 - val_accuracy: 0.9691\n",
      "Epoch 4/20\n",
      "420/420 [==============================] - 2s 5ms/step - loss: 0.0508 - accuracy: 0.9850 - val_loss: 0.1048 - val_accuracy: 0.9693\n",
      "Epoch 5/20\n",
      "420/420 [==============================] - 2s 5ms/step - loss: 0.0363 - accuracy: 0.9891 - val_loss: 0.0937 - val_accuracy: 0.9734\n",
      "Epoch 6/20\n",
      "420/420 [==============================] - 2s 5ms/step - loss: 0.0272 - accuracy: 0.9918 - val_loss: 0.0969 - val_accuracy: 0.9718\n",
      "Epoch 7/20\n",
      "420/420 [==============================] - 2s 5ms/step - loss: 0.0215 - accuracy: 0.9931 - val_loss: 0.0992 - val_accuracy: 0.9734\n",
      "Epoch 8/20\n",
      "420/420 [==============================] - 2s 5ms/step - loss: 0.0162 - accuracy: 0.9952 - val_loss: 0.0962 - val_accuracy: 0.9753\n",
      "Epoch 9/20\n",
      "420/420 [==============================] - 2s 5ms/step - loss: 0.0134 - accuracy: 0.9958 - val_loss: 0.1084 - val_accuracy: 0.9717\n",
      "Epoch 10/20\n",
      "420/420 [==============================] - 2s 5ms/step - loss: 0.0155 - accuracy: 0.9949 - val_loss: 0.1066 - val_accuracy: 0.9749\n",
      "Epoch 11/20\n",
      "420/420 [==============================] - 2s 5ms/step - loss: 0.0115 - accuracy: 0.9963 - val_loss: 0.1107 - val_accuracy: 0.9744\n",
      "Epoch 12/20\n",
      "420/420 [==============================] - 2s 5ms/step - loss: 0.0098 - accuracy: 0.9972 - val_loss: 0.1172 - val_accuracy: 0.9745\n",
      "Epoch 13/20\n",
      "420/420 [==============================] - 2s 5ms/step - loss: 0.0048 - accuracy: 0.9987 - val_loss: 0.1132 - val_accuracy: 0.9775\n",
      "Epoch 14/20\n",
      "420/420 [==============================] - 2s 5ms/step - loss: 0.0181 - accuracy: 0.9943 - val_loss: 0.1297 - val_accuracy: 0.9722\n",
      "Epoch 15/20\n",
      "420/420 [==============================] - 2s 5ms/step - loss: 0.0101 - accuracy: 0.9965 - val_loss: 0.1142 - val_accuracy: 0.9772\n",
      "Epoch 16/20\n",
      "420/420 [==============================] - 2s 5ms/step - loss: 0.0060 - accuracy: 0.9979 - val_loss: 0.1295 - val_accuracy: 0.9749\n",
      "Epoch 17/20\n",
      "420/420 [==============================] - 2s 5ms/step - loss: 0.0079 - accuracy: 0.9974 - val_loss: 0.1433 - val_accuracy: 0.9730\n",
      "Epoch 18/20\n",
      "420/420 [==============================] - 2s 5ms/step - loss: 0.0081 - accuracy: 0.9973 - val_loss: 0.1532 - val_accuracy: 0.9709\n",
      "Epoch 19/20\n",
      "420/420 [==============================] - 2s 5ms/step - loss: 0.0084 - accuracy: 0.9970 - val_loss: 0.1344 - val_accuracy: 0.9742\n",
      "Epoch 20/20\n",
      "420/420 [==============================] - 2s 5ms/step - loss: 0.0050 - accuracy: 0.9983 - val_loss: 0.1247 - val_accuracy: 0.9767\n"
     ]
    }
   ],
   "source": [
    "history = model.fit(X_train, y_train,   # train dataset\n",
    "                      epochs=10,  # train dataset을 몇 번 반복해서 학습할 것인지.\n",
    "                      batch_size=100, # 파라미터(wegith-학습대상)를 업데이터 하기 위한 데이터 단위. 업데이트 단위: step. 1 step에 입력할 데이터개수: batch_size\n",
    "                      validation_split=0.3   # train set중 validation으로 사용할 데이터 비율.(전체중 70은 train에 30은 검증에 사용하겠다.)\n",
    "                     )"
   ]
  },
  {
   "cell_type": "code",
   "execution_count": null,
   "metadata": {},
   "outputs": [],
   "source": [
    "Epoch 1/10   # 현재 에폭/전체 에폭수 => 몇번째 에폭 결과.\n",
    "420/420 [==============================] - 4s 8ms/step - loss: 0.3090 - accuracy: 0.9111 - val_loss: 0.1656 - val_accuracy: 0.9514\n",
    "\n",
    "420/420: 현재학습중인step/전체step      \n",
    "4s: 에폭당 걸린 학습시간 \n",
    "8ms: 스텝당 걸린 학습시간\n",
    "\n",
    "train set 평가결과\n",
    "loss: 0.3090 - loss(손실-오차값)\n",
    "accuracy: 0.9111 - 컴파일 때 지정한 metrics의 결과.\n",
    "    \n",
    "validation set 평가 결과\n",
    "val_loss: 0.1656 - val_accuracy: 0.9514"
   ]
  },
  {
   "cell_type": "code",
   "execution_count": 55,
   "metadata": {
    "ExecuteTime": {
     "end_time": "2023-02-16T07:35:32.510921Z",
     "start_time": "2023-02-16T07:35:32.315893Z"
    },
    "collapsed": true
   },
   "outputs": [
    {
     "ename": "RuntimeError",
     "evalue": "You must compile your model before training/testing. Use `model.compile(optimizer, loss)`.",
     "output_type": "error",
     "traceback": [
      "\u001b[1;31m-------------------------------------------------------------------------\u001b[0m",
      "\u001b[1;31mRuntimeError\u001b[0m                            Traceback (most recent call last)",
      "Cell \u001b[1;32mIn[55], line 2\u001b[0m\n\u001b[0;32m      1\u001b[0m \u001b[38;5;66;03m# model2는 compile안한 모델\u001b[39;00m\n\u001b[1;32m----> 2\u001b[0m \u001b[43mmodel2\u001b[49m\u001b[38;5;241;43m.\u001b[39;49m\u001b[43mfit\u001b[49m\u001b[43m(\u001b[49m\u001b[43mX_train\u001b[49m\u001b[43m,\u001b[49m\u001b[43m \u001b[49m\u001b[43my_train\u001b[49m\u001b[43m,\u001b[49m\u001b[43m   \u001b[49m\u001b[38;5;66;43;03m# train dataset\u001b[39;49;00m\n\u001b[0;32m      3\u001b[0m \u001b[43m                 \u001b[49m\u001b[43mepochs\u001b[49m\u001b[38;5;241;43m=\u001b[39;49m\u001b[38;5;241;43m8\u001b[39;49m\u001b[43m,\u001b[49m\u001b[43m  \u001b[49m\u001b[38;5;66;43;03m# train dataset을 몇 번 반복해서 학습할 것인지.\u001b[39;49;00m\n\u001b[0;32m      4\u001b[0m \u001b[43m                 \u001b[49m\u001b[43mbatch_size\u001b[49m\u001b[38;5;241;43m=\u001b[39;49m\u001b[38;5;241;43m100\u001b[39;49m\u001b[43m,\u001b[49m\u001b[43m \u001b[49m\u001b[38;5;66;43;03m# 파라미터(wegith-학습대상)를 업데이터 하기 위한 데이터 단위. 업데이트 단위: step. 1 step에 입력할 데이터개수: batch_size\u001b[39;49;00m\n\u001b[0;32m      5\u001b[0m \u001b[43m                 \u001b[49m\u001b[43mvalidation_split\u001b[49m\u001b[38;5;241;43m=\u001b[39;49m\u001b[38;5;241;43m0.3\u001b[39;49m\u001b[43m   \u001b[49m\u001b[38;5;66;43;03m# train set중 validation으로 사용할 데이터 비율.(전체중 70은 train에 30은 검증에 사용하겠다.)\u001b[39;49;00m\n\u001b[0;32m      6\u001b[0m \u001b[43m                \u001b[49m\u001b[43m)\u001b[49m\n",
      "File \u001b[1;32m~\\anaconda3\\envs\\tf\\lib\\site-packages\\keras\\utils\\traceback_utils.py:70\u001b[0m, in \u001b[0;36mfilter_traceback.<locals>.error_handler\u001b[1;34m(*args, **kwargs)\u001b[0m\n\u001b[0;32m     67\u001b[0m     filtered_tb \u001b[38;5;241m=\u001b[39m _process_traceback_frames(e\u001b[38;5;241m.\u001b[39m__traceback__)\n\u001b[0;32m     68\u001b[0m     \u001b[38;5;66;03m# To get the full stack trace, call:\u001b[39;00m\n\u001b[0;32m     69\u001b[0m     \u001b[38;5;66;03m# `tf.debugging.disable_traceback_filtering()`\u001b[39;00m\n\u001b[1;32m---> 70\u001b[0m     \u001b[38;5;28;01mraise\u001b[39;00m e\u001b[38;5;241m.\u001b[39mwith_traceback(filtered_tb) \u001b[38;5;28;01mfrom\u001b[39;00m \u001b[38;5;28mNone\u001b[39m\n\u001b[0;32m     71\u001b[0m \u001b[38;5;28;01mfinally\u001b[39;00m:\n\u001b[0;32m     72\u001b[0m     \u001b[38;5;28;01mdel\u001b[39;00m filtered_tb\n",
      "File \u001b[1;32m~\\anaconda3\\envs\\tf\\lib\\site-packages\\keras\\engine\\training.py:3690\u001b[0m, in \u001b[0;36mModel._assert_compile_was_called\u001b[1;34m(self)\u001b[0m\n\u001b[0;32m   3684\u001b[0m \u001b[38;5;28;01mdef\u001b[39;00m \u001b[38;5;21m_assert_compile_was_called\u001b[39m(\u001b[38;5;28mself\u001b[39m):\n\u001b[0;32m   3685\u001b[0m     \u001b[38;5;66;03m# Checks whether `compile` has been called. If it has been called,\u001b[39;00m\n\u001b[0;32m   3686\u001b[0m     \u001b[38;5;66;03m# then the optimizer is set. This is different from whether the\u001b[39;00m\n\u001b[0;32m   3687\u001b[0m     \u001b[38;5;66;03m# model is compiled\u001b[39;00m\n\u001b[0;32m   3688\u001b[0m     \u001b[38;5;66;03m# (i.e. whether the model is built and its inputs/outputs are set).\u001b[39;00m\n\u001b[0;32m   3689\u001b[0m     \u001b[38;5;28;01mif\u001b[39;00m \u001b[38;5;129;01mnot\u001b[39;00m \u001b[38;5;28mself\u001b[39m\u001b[38;5;241m.\u001b[39m_is_compiled:\n\u001b[1;32m-> 3690\u001b[0m         \u001b[38;5;28;01mraise\u001b[39;00m \u001b[38;5;167;01mRuntimeError\u001b[39;00m(\n\u001b[0;32m   3691\u001b[0m             \u001b[38;5;124m\"\u001b[39m\u001b[38;5;124mYou must compile your model before \u001b[39m\u001b[38;5;124m\"\u001b[39m\n\u001b[0;32m   3692\u001b[0m             \u001b[38;5;124m\"\u001b[39m\u001b[38;5;124mtraining/testing. \u001b[39m\u001b[38;5;124m\"\u001b[39m\n\u001b[0;32m   3693\u001b[0m             \u001b[38;5;124m\"\u001b[39m\u001b[38;5;124mUse `model.compile(optimizer, loss)`.\u001b[39m\u001b[38;5;124m\"\u001b[39m\n\u001b[0;32m   3694\u001b[0m         )\n",
      "\u001b[1;31mRuntimeError\u001b[0m: You must compile your model before training/testing. Use `model.compile(optimizer, loss)`."
     ]
    }
   ],
   "source": [
    " # model2는 compile안한 모델\n",
    "# model2.fit(X_train, y_train,   # train dataset\n",
    "#                   epochs=8,  # train dataset을 몇 번 반복해서 학습할 것인지.\n",
    "#                   batch_size=100, # 파라미터(wegith-학습대상)를 업데이터 하기 위한 데이터 단위. 업데이트 단위: step. 1 step에 입력할 데이터개수: batch_size\n",
    "#                   validation_split=0.3   # train set중 validation으로 사용할 데이터 비율.(전체중 70은 train에 30은 검증에 사용하겠다.)\n",
    "#                  )"
   ]
  },
  {
   "cell_type": "markdown",
   "metadata": {
    "slideshow": {
     "slide_type": "slide"
    }
   },
   "source": [
    "##### History 시각화"
   ]
  },
  {
   "cell_type": "code",
   "execution_count": 61,
   "metadata": {
    "ExecuteTime": {
     "end_time": "2023-02-16T07:39:35.622530Z",
     "start_time": "2023-02-16T07:39:35.609399Z"
    }
   },
   "outputs": [
    {
     "name": "stdout",
     "output_type": "stream",
     "text": [
      "<class 'keras.callbacks.History'>\n",
      "학습 에폭리스트:  [0, 1, 2, 3, 4, 5, 6, 7]\n",
      "에폭수, 에폭당 step수:  {'verbose': 1, 'epochs': 8, 'steps': 420}\n"
     ]
    }
   ],
   "source": [
    "print(type(history))  # 학습 과정의 평가지표들 등의 정보를 저장한 객체.\n",
    "print(\"학습 에폭리스트: \", history.epoch)\n",
    "print(\"에폭수, 에폭당 step수: \", history.params)"
   ]
  },
  {
   "cell_type": "code",
   "execution_count": 62,
   "metadata": {
    "ExecuteTime": {
     "end_time": "2023-02-16T07:40:28.620274Z",
     "start_time": "2023-02-16T07:40:28.603628Z"
    },
    "collapsed": true
   },
   "outputs": [
    {
     "data": {
      "text/plain": [
       "{'loss': [0.3054959177970886,\n",
       "  0.11499524861574173,\n",
       "  0.07353251427412033,\n",
       "  0.05075525492429733,\n",
       "  0.035763245075941086,\n",
       "  0.02890659309923649,\n",
       "  0.020926883444190025,\n",
       "  0.015581362880766392],\n",
       " 'accuracy': [0.9127143025398254,\n",
       "  0.9653333425521851,\n",
       "  0.9785476326942444,\n",
       "  0.9842380881309509,\n",
       "  0.9887619018554688,\n",
       "  0.990928590297699,\n",
       "  0.9934762120246887,\n",
       "  0.9950476288795471],\n",
       " 'val_loss': [0.16690774261951447,\n",
       "  0.12181917577981949,\n",
       "  0.10000590234994888,\n",
       "  0.09521613270044327,\n",
       "  0.09938190132379532,\n",
       "  0.09510716050863266,\n",
       "  0.09942014515399933,\n",
       "  0.09931609779596329],\n",
       " 'val_accuracy': [0.9513333439826965,\n",
       "  0.9635000228881836,\n",
       "  0.9717222452163696,\n",
       "  0.9722222089767456,\n",
       "  0.9718888998031616,\n",
       "  0.9735000133514404,\n",
       "  0.9732221961021423,\n",
       "  0.9753333330154419]}"
      ]
     },
     "execution_count": 62,
     "metadata": {},
     "output_type": "execute_result"
    }
   ],
   "source": [
    "history.history"
   ]
  },
  {
   "cell_type": "code",
   "execution_count": 73,
   "metadata": {
    "ExecuteTime": {
     "end_time": "2023-02-16T08:11:53.204454Z",
     "start_time": "2023-02-16T08:11:52.779911Z"
    },
    "scrolled": false
   },
   "outputs": [
    {
     "data": {
      "image/png": "[encoded data removed]",
      "text/plain": [
       "<Figure size 1500x600 with 2 Axes>"
      ]
     },
     "metadata": {},
     "output_type": "display_data"
    }
   ],
   "source": [
    "import matplotlib.pyplot as plt\n",
    "\n",
    "plt.rcParams['font.family'] = 'malgun gothic'\n",
    "plt.rcParams['axes.unicode_minus'] = False\n",
    "\n",
    "plt.figure(figsize=(15, 6))\n",
    "plt.suptitle('학습 평가 결과')  #figure 제목\n",
    "\n",
    "plt.subplot(1, 2, 1)\n",
    "plt.plot(history.history['loss'], label='train loss')\n",
    "plt.plot(history.history['val_loss'], label='val loss')\n",
    "plt.title('Loss')\n",
    "# plt.ylim(0.09, 0.15)\n",
    "plt.legend()\n",
    "\n",
    "plt.subplot(1, 2, 2)\n",
    "plt.plot(history.history['accuracy'], label='train acc')\n",
    "plt.plot(history.history['val_accuracy'], label='val acc')\n",
    "plt.title('Accuracy')\n",
    "\n",
    "plt.legend()\n",
    "plt.tight_layout()\n",
    "plt.show()"
   ]
  },
  {
   "cell_type": "markdown",
   "metadata": {
    "slideshow": {
     "slide_type": "slide"
    }
   },
   "source": [
    "## 테스트셋 평가"
   ]
  },
  {
   "cell_type": "code",
   "execution_count": 74,
   "metadata": {
    "ExecuteTime": {
     "end_time": "2023-02-16T08:17:44.893342Z",
     "start_time": "2023-02-16T08:17:43.764278Z"
    }
   },
   "outputs": [
    {
     "name": "stdout",
     "output_type": "stream",
     "text": [
      "313/313 [==============================] - 1s 3ms/step - loss: 0.1009 - accuracy: 0.9791\n"
     ]
    }
   ],
   "source": [
    "result = model.evaluate(X_test, y_test)   #loss, compile시 지정한 metrics 로 평가."
   ]
  },
  {
   "cell_type": "code",
   "execution_count": 75,
   "metadata": {
    "ExecuteTime": {
     "end_time": "2023-02-16T08:17:59.356241Z",
     "start_time": "2023-02-16T08:17:59.342233Z"
    }
   },
   "outputs": [
    {
     "data": {
      "text/plain": [
       "[0.10085034370422363, 0.9790999889373779]"
      ]
     },
     "execution_count": 75,
     "metadata": {},
     "output_type": "execute_result"
    }
   ],
   "source": [
    "result"
   ]
  },
  {
   "cell_type": "markdown",
   "metadata": {
    "slideshow": {
     "slide_type": "slide"
    }
   },
   "source": [
    "## 새로운 데이터 추론\n",
    "- 새로운 데이터를 추론하기 전에 학습데이터에 했던 전처리과정을 동일하게 적용 한 뒤 추론한다."
   ]
  },
  {
   "cell_type": "markdown",
   "metadata": {
    "slideshow": {
     "slide_type": "fragment"
    }
   },
   "source": [
    "### 추론 메소드\n",
    "- predict()\n",
    "    - **분류:** 각 클래스 별 확률 반환\n",
    "    - **회귀:** 최종 예측 결과\n",
    "- 분류문제일때 predict() 결과에서 class label 출력하기    \n",
    "    - 이진 분류(binary classification)\n",
    "        - `numpy.where(model.predict(x) > 0.5, 1, 0).astype(\"int32\")`\n",
    "    - 다중클래스 분류(multi-class classification)\n",
    "        - `numpy.argmax(model.predict(x), axis=1)`"
   ]
  },
  {
   "cell_type": "code",
   "execution_count": 76,
   "metadata": {
    "ExecuteTime": {
     "end_time": "2023-02-16T08:23:59.329678Z",
     "start_time": "2023-02-16T08:23:59.308596Z"
    }
   },
   "outputs": [
    {
     "data": {
      "text/plain": [
       "(3, 28, 28)"
      ]
     },
     "execution_count": 76,
     "metadata": {},
     "output_type": "execute_result"
    }
   ],
   "source": [
    "X_new = X_test[:3]\n",
    "X_new.shape"
   ]
  },
  {
   "cell_type": "code",
   "execution_count": 77,
   "metadata": {
    "ExecuteTime": {
     "end_time": "2023-02-16T08:25:16.393732Z",
     "start_time": "2023-02-16T08:25:16.212227Z"
    }
   },
   "outputs": [
    {
     "name": "stdout",
     "output_type": "stream",
     "text": [
      "1/1 [==============================] - 0s 102ms/step\n"
     ]
    }
   ],
   "source": [
    "pred = model.predict(X_new) # 추론: (개수, 데이터 shape)"
   ]
  },
  {
   "cell_type": "code",
   "execution_count": 79,
   "metadata": {
    "ExecuteTime": {
     "end_time": "2023-02-16T08:25:40.648671Z",
     "start_time": "2023-02-16T08:25:40.642125Z"
    }
   },
   "outputs": [
    {
     "name": "stdout",
     "output_type": "stream",
     "text": [
      "(3, 10)\n"
     ]
    },
    {
     "data": {
      "text/plain": [
       "array([[1.81493804e-13, 1.30902157e-14, 1.80874093e-10, 4.95270003e-09,\n",
       "        3.38690571e-16, 7.90734448e-13, 1.00298170e-19, 1.00000000e+00,\n",
       "        3.90846773e-12, 4.86274807e-08],\n",
       "       [8.25622296e-12, 1.57559799e-09, 1.00000000e+00, 1.09999447e-10,\n",
       "        9.22005440e-25, 4.13619165e-14, 7.26302753e-13, 6.97436394e-16,\n",
       "        9.94776761e-11, 5.86178577e-25],\n",
       "       [8.47691847e-11, 9.99998689e-01, 1.70764874e-10, 8.55923242e-13,\n",
       "        7.91088041e-07, 6.00948735e-11, 1.11622905e-10, 4.59925360e-07,\n",
       "        8.26831226e-09, 1.17512423e-11]], dtype=float32)"
      ]
     },
     "execution_count": 79,
     "metadata": {},
     "output_type": "execute_result"
    }
   ],
   "source": [
    "print(pred.shape)\n",
    "pred"
   ]
  },
  {
   "cell_type": "code",
   "execution_count": 80,
   "metadata": {
    "ExecuteTime": {
     "end_time": "2023-02-16T08:27:01.280688Z",
     "start_time": "2023-02-16T08:27:01.259406Z"
    }
   },
   "outputs": [
    {
     "data": {
      "text/plain": [
       "array([7, 2, 1], dtype=int64)"
      ]
     },
     "execution_count": 80,
     "metadata": {},
     "output_type": "execute_result"
    }
   ],
   "source": [
    "np.argmax(pred, axis=-1)"
   ]
  },
  {
   "cell_type": "code",
   "execution_count": 82,
   "metadata": {
    "ExecuteTime": {
     "end_time": "2023-02-16T08:28:02.002672Z",
     "start_time": "2023-02-16T08:28:01.988483Z"
    }
   },
   "outputs": [
    {
     "data": {
      "text/plain": [
       "array([7, 2, 1], dtype=int64)"
      ]
     },
     "execution_count": 82,
     "metadata": {},
     "output_type": "execute_result"
    }
   ],
   "source": [
    "np.argmax(y_test[:3], axis=-1)"
   ]
  },
  {
   "cell_type": "markdown",
   "metadata": {},
   "source": [
    "# TODO\n",
    "1. opencv로 그림판으로 그린 숫자이미지들을 읽는다. (grayscale)\n",
    "\n",
    "2. 28 X 28 로 resize \n",
    "\n",
    "3. 모델을 이용해서 추론"
   ]
  },
  {
   "cell_type": "code",
   "execution_count": null,
   "metadata": {},
   "outputs": [],
   "source": []
  },
  {
   "cell_type": "code",
   "execution_count": null,
   "metadata": {},
   "outputs": [],
   "source": []
  },
  {
   "cell_type": "code",
   "execution_count": null,
   "metadata": {},
   "outputs": [],
   "source": []
  },
  {
   "cell_type": "code",
   "execution_count": null,
   "metadata": {},
   "outputs": [],
   "source": []
  },
  {
   "cell_type": "code",
   "execution_count": null,
   "metadata": {},
   "outputs": [],
   "source": []
  },
  {
   "cell_type": "code",
   "execution_count": null,
   "metadata": {},
   "outputs": [],
   "source": []
  },
  {
   "cell_type": "code",
   "execution_count": null,
   "metadata": {},
   "outputs": [],
   "source": []
  },
  {
   "cell_type": "code",
   "execution_count": null,
   "metadata": {},
   "outputs": [],
   "source": []
  },
  {
   "cell_type": "code",
   "execution_count": null,
   "metadata": {},
   "outputs": [],
   "source": []
  }
 ],
 "metadata": {
  "kernelspec": {
   "display_name": "Python 3 (ipykernel)",
   "language": "python",
   "name": "python3"
  },
  "language_info": {
   "codemirror_mode": {
    "name": "ipython",
    "version": 3
   },
   "file_extension": ".py",
   "mimetype": "text/x-python",
   "name": "python",
   "nbconvert_exporter": "python",
   "pygments_lexer": "ipython3",
   "version": "3.9.16"
  },
  "toc": {
   "base_numbering": 1,
   "nav_menu": {},
   "number_sections": false,
   "sideBar": true,
   "skip_h1_title": false,
   "title_cell": "Table of Contents",
   "title_sidebar": "Contents",
   "toc_cell": false,
   "toc_position": {},
   "toc_section_display": true,
   "toc_window_display": false
  },
  "varInspector": {
   "cols": {
    "lenName": 16,
    "lenType": 16,
    "lenVar": 40
   },
   "kernels_config": {
    "python": {
     "delete_cmd_postfix": "",
     "delete_cmd_prefix": "del ",
     "library": "var_list.py",
     "varRefreshCmd": "print(var_dic_list())"
    },
    "r": {
     "delete_cmd_postfix": ") ",
     "delete_cmd_prefix": "rm(",
     "library": "var_list.r",
     "varRefreshCmd": "cat(var_dic_list()) "
    }
   },
   "types_to_exclude": [
    "module",
    "function",
    "builtin_function_or_method",
    "instance",
    "_Feature"
   ],
   "window_display": false
  }
 },
 "nbformat": 4,
 "nbformat_minor": 2
}
