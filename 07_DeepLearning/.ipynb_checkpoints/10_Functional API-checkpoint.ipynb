{
 "cells": [
  {
   "cell_type": "markdown",
   "metadata": {
    "slideshow": {
     "slide_type": "slide"
    }
   },
   "source": [
    "# \\_\\_call\\_\\_ magic method\n",
    "- 객체를 함수처럼 호출 할 수 있도록 한다.\n",
    "- `객체()` 로 호출 할 때 \\_\\_call\\_\\_ 메소드가 호출되어 실행된다."
   ]
  },
  {
   "cell_type": "code",
   "execution_count": 7,
   "metadata": {
    "ExecuteTime": {
     "end_time": "2023-03-02T07:22:30.707081Z",
     "start_time": "2023-03-02T07:22:30.684474Z"
    }
   },
   "outputs": [],
   "source": [
    "class Person:\n",
    "    def __init__(self, name):\n",
    "        self.name = name\n",
    "        \n",
    "    def __call__(self, age=0):\n",
    "        print(f'이름: {self.name}, 나이: {age}') # name: 객체의 attribute, age: 매개변수로 받은 값\n",
    "        return f'이름: {self.name}, 나이: {age} - 문자열' # return value"
   ]
  },
  {
   "cell_type": "code",
   "execution_count": 10,
   "metadata": {
    "ExecuteTime": {
     "end_time": "2023-03-02T07:24:56.666866Z",
     "start_time": "2023-03-02T07:24:56.650872Z"
    }
   },
   "outputs": [
    {
     "name": "stdout",
     "output_type": "stream",
     "text": [
      "이름: 홍길동, 나이: 20\n"
     ]
    }
   ],
   "source": [
    "p = Person('홍길동')\n",
    "r = p(20)"
   ]
  },
  {
   "cell_type": "code",
   "execution_count": 11,
   "metadata": {
    "ExecuteTime": {
     "end_time": "2023-03-02T07:24:58.183541Z",
     "start_time": "2023-03-02T07:24:58.173542Z"
    }
   },
   "outputs": [
    {
     "name": "stdout",
     "output_type": "stream",
     "text": [
      "이름: 홍길동, 나이: 20 - 문자열\n"
     ]
    }
   ],
   "source": [
    "print(r)"
   ]
  },
  {
   "cell_type": "code",
   "execution_count": 12,
   "metadata": {
    "ExecuteTime": {
     "end_time": "2023-03-02T07:25:30.061517Z",
     "start_time": "2023-03-02T07:25:30.048516Z"
    }
   },
   "outputs": [
    {
     "name": "stdout",
     "output_type": "stream",
     "text": [
      "이름: 길동, 나이: 25\n",
      "이름: 길동, 나이: 25 - 문자열\n"
     ]
    }
   ],
   "source": [
    "r = Person(\"길동\")(25)  # 객체 생성하면서 __call__() 바로 호출\n",
    "print(r)"
   ]
  },
  {
   "cell_type": "markdown",
   "metadata": {
    "slideshow": {
     "slide_type": "slide"
    }
   },
   "source": [
    "# Functional API\n",
    "- Sequential 모델은 각 Layer들의 입력과 출력이 하나라고 가정한다. 그리고 각각의 Layer(입력층, 은닉층, 출력층)들을 차례대로 쌓아 구성한다. 그래서 다양한 구조의 네트워크를 만드는데 한계가 있다.\n",
    "- 함수형 API를 사용하면 **다중입력, 다중출력, 그래프 형태**의 다양한 형태의 레이어들을 유연하게 구성할 수 있다.\n",
    "\n",
    "- Functional API는 직접 텐서들의 입출력을 다룬다. \n",
    "- 함수호출 처럼 Layer를 이용하여 입력 텐서(Input Tensor)를 입력 받고 그 결과를 출력 텐서(Output Tensor)로 반환하는 형식으로 모델을 구현한다.\n",
    "\n",
    "```python\n",
    "input_tensor = Input(shape=(16,))\n",
    "dense = layers.Dense(32, activation='relu')(input_tensor)\n",
    "output_tensor = layers.Dense(32, activation='sigmoid')(dense)\n",
    "\n",
    "model = models.Model(input_tensor, output_tensor)\n",
    "```"
   ]
  },
  {
   "cell_type": "markdown",
   "metadata": {
    "slideshow": {
     "slide_type": "slide"
    }
   },
   "source": [
    "## Sequential, Functional API "
   ]
  },
  {
   "cell_type": "markdown",
   "metadata": {
    "slideshow": {
     "slide_type": "slide"
    }
   },
   "source": [
    "### Sequential"
   ]
  },
  {
   "cell_type": "code",
   "execution_count": 1,
   "metadata": {
    "ExecuteTime": {
     "end_time": "2023-03-03T02:24:13.277927Z",
     "start_time": "2023-03-03T02:24:02.135971Z"
    },
    "slideshow": {
     "slide_type": "fragment"
    }
   },
   "outputs": [],
   "source": [
    "import tensorflow as tf\n",
    "from tensorflow import keras\n",
    "from tensorflow.keras import applications\n",
    "from tensorflow.keras import layers, models"
   ]
  },
  {
   "cell_type": "code",
   "execution_count": 14,
   "metadata": {
    "ExecuteTime": {
     "end_time": "2023-03-02T07:30:43.953576Z",
     "start_time": "2023-03-02T07:30:43.656805Z"
    },
    "slideshow": {
     "slide_type": "fragment"
    }
   },
   "outputs": [
    {
     "name": "stdout",
     "output_type": "stream",
     "text": [
      "Model: \"sequential\"\n",
      "_________________________________________________________________\n",
      " Layer (type)                Output Shape              Param #   \n",
      "=================================================================\n",
      " conv2d (Conv2D)             (None, 32, 32, 64)        1792      \n",
      "                                                                 \n",
      " max_pooling2d (MaxPooling2D  (None, 16, 16, 64)       0         \n",
      " )                                                               \n",
      "                                                                 \n",
      " flatten (Flatten)           (None, 16384)             0         \n",
      "                                                                 \n",
      " dense (Dense)               (None, 256)               4194560   \n",
      "                                                                 \n",
      " output_layer (Dense)        (None, 10)                2570      \n",
      "                                                                 \n",
      "=================================================================\n",
      "Total params: 4,198,922\n",
      "Trainable params: 4,198,922\n",
      "Non-trainable params: 0\n",
      "_________________________________________________________________\n"
     ]
    }
   ],
   "source": [
    "seq_model = keras.Sequential()\n",
    "seq_model.add(layers.Input(shape=(32,32,3)))\n",
    "\n",
    "seq_model.add(layers.Conv2D(filters=64, kernel_size=3, padding='same', activation='relu'))\n",
    "seq_model.add(layers.MaxPooling2D(padding=\"same\"))\n",
    "seq_model.add(layers.Flatten())\n",
    "\n",
    "seq_model.add(layers.Dense(units=256, activation='relu'))\n",
    "seq_model.add(layers.Dense(units=10, activation='softmax', name='output_layer'))\n",
    "seq_model.summary()"
   ]
  },
  {
   "cell_type": "markdown",
   "metadata": {
    "slideshow": {
     "slide_type": "slide"
    }
   },
   "source": [
    "### Functional API"
   ]
  },
  {
   "cell_type": "code",
   "execution_count": 18,
   "metadata": {
    "ExecuteTime": {
     "end_time": "2023-03-02T07:51:17.436420Z",
     "start_time": "2023-03-02T07:51:17.301216Z"
    }
   },
   "outputs": [],
   "source": [
    "# 레이어의 흐름 구조를 구현\n",
    "input_tensor = layers.Input(shape=(32, 32, 3))  # 입력 값을 생성(레이어가 아님)\n",
    "\n",
    "# y = f(input_tensor) # unit/layer/model 모두 함수\n",
    "conv_tensor = layers.Conv2D(filters=64, kernel_size=3, padding='same', activation='relu')(input_tensor) # 2갈래로 나눌 수 있다.\n",
    "conv_tensor2 = layers.Conv2D(filters=64, kernel_size=3, padding='same', activation='relu')(input_tensor)\n",
    "\n",
    "\n",
    "pool_tensor = layers.MaxPooling2D(padding='same')(conv_tensor)\n",
    "flatten_tensor = layers.Flatten()(pool_tensor)\n",
    "dense_tensor = layers.Dense(256, activation='relu')(flatten_tensor)\n",
    "output_tensor = layers.Dense(10, activation='softmax')(dense_tensor)\n",
    "\n",
    "# 모델 생성 -> input들과 output들을 넣어서 생성 \n",
    "    # => input들/output들 : 학습/추론 할때 실제 생성될 입력값, 출력값을 표현하는 tensor 객체, 여러개일 경우 리스트로 묶어서 전달.\n",
    "fn_model = models.Model(input_tensor, output_tensor)"
   ]
  },
  {
   "cell_type": "code",
   "execution_count": 19,
   "metadata": {
    "ExecuteTime": {
     "end_time": "2023-03-02T07:51:18.462074Z",
     "start_time": "2023-03-02T07:51:18.408972Z"
    }
   },
   "outputs": [
    {
     "name": "stdout",
     "output_type": "stream",
     "text": [
      "Model: \"model\"\n",
      "_________________________________________________________________\n",
      " Layer (type)                Output Shape              Param #   \n",
      "=================================================================\n",
      " input_3 (InputLayer)        [(None, 32, 32, 3)]       0         \n",
      "                                                                 \n",
      " conv2d_2 (Conv2D)           (None, 32, 32, 64)        1792      \n",
      "                                                                 \n",
      " max_pooling2d_2 (MaxPooling  (None, 16, 16, 64)       0         \n",
      " 2D)                                                             \n",
      "                                                                 \n",
      " flatten_1 (Flatten)         (None, 16384)             0         \n",
      "                                                                 \n",
      " dense_1 (Dense)             (None, 256)               4194560   \n",
      "                                                                 \n",
      " dense_2 (Dense)             (None, 10)                2570      \n",
      "                                                                 \n",
      "=================================================================\n",
      "Total params: 4,198,922\n",
      "Trainable params: 4,198,922\n",
      "Non-trainable params: 0\n",
      "_________________________________________________________________\n"
     ]
    }
   ],
   "source": [
    "fn_model.summary()"
   ]
  },
  {
   "cell_type": "markdown",
   "metadata": {
    "collapsed": true,
    "slideshow": {
     "slide_type": "slide"
    }
   },
   "source": [
    "##### 각 Layer의 출력 변수들 통일. \n",
    "- 일반적으로 block 단위로 동일한 변수명을 사용.\n",
    "- hidden laye들의 출력결과는 모두 동일한 함수명을 사용"
   ]
  },
  {
   "cell_type": "markdown",
   "metadata": {},
   "source": [
    "```\n",
    "x = 10\n",
    "r = f1(x)\n",
    "r = f2(r)\n",
    "r = f3(r)\n",
    "o = f4(r)\n",
    "```"
   ]
  },
  {
   "cell_type": "code",
   "execution_count": 21,
   "metadata": {
    "ExecuteTime": {
     "end_time": "2023-03-02T08:23:09.613081Z",
     "start_time": "2023-03-02T08:23:09.365086Z"
    }
   },
   "outputs": [
    {
     "name": "stdout",
     "output_type": "stream",
     "text": [
      "Model: \"model_2\"\n",
      "_________________________________________________________________\n",
      " Layer (type)                Output Shape              Param #   \n",
      "=================================================================\n",
      " input_5 (InputLayer)        [(None, 32, 32, 3)]       0         \n",
      "                                                                 \n",
      " conv2d_8 (Conv2D)           (None, 32, 32, 16)        448       \n",
      "                                                                 \n",
      " max_pooling2d_6 (MaxPooling  (None, 16, 16, 16)       0         \n",
      " 2D)                                                             \n",
      "                                                                 \n",
      " conv2d_9 (Conv2D)           (None, 16, 16, 16)        2320      \n",
      "                                                                 \n",
      " max_pooling2d_7 (MaxPooling  (None, 8, 8, 16)         0         \n",
      " 2D)                                                             \n",
      "                                                                 \n",
      " conv2d_10 (Conv2D)          (None, 8, 8, 16)          2320      \n",
      "                                                                 \n",
      " conv2d_11 (Conv2D)          (None, 8, 8, 16)          2320      \n",
      "                                                                 \n",
      " max_pooling2d_8 (MaxPooling  (None, 4, 4, 16)         0         \n",
      " 2D)                                                             \n",
      "                                                                 \n",
      " flatten_3 (Flatten)         (None, 256)               0         \n",
      "                                                                 \n",
      " dense_4 (Dense)             (None, 10)                2570      \n",
      "                                                                 \n",
      "=================================================================\n",
      "Total params: 9,978\n",
      "Trainable params: 9,978\n",
      "Non-trainable params: 0\n",
      "_________________________________________________________________\n"
     ]
    }
   ],
   "source": [
    "input_tensor = layers.Input(shape=(32, 32, 3))\n",
    "\n",
    "c1 = layers.Conv2D(filters=16, kernel_size=3, padding='same', activation='relu')\n",
    "c1.trainable = False\n",
    "x1 = c1(input_tensor)\n",
    "\n",
    "x1 = layers.Conv2D(filters=16, kernel_size=3, padding='same', activation='relu')(input_tensor)\n",
    "x1 = layers.MaxPooling2D(padding='same')(x1)\n",
    "\n",
    "x2 = layers.Conv2D(filters=16, kernel_size=3, padding='same', activation='relu')(x1)\n",
    "x2 = layers.MaxPooling2D(padding='same')(x2)\n",
    "\n",
    "x3 = layers.Conv2D(filters=16, kernel_size=3, padding='same', activation='relu')(x2)\n",
    "x3 = layers.Conv2D(filters=16, kernel_size=3, padding='same', activation='relu')(x3)\n",
    "x3 = layers.MaxPooling2D(padding='same')(x3)\n",
    "\n",
    "x4 = layers.Flatten()(x3)\n",
    "output_tensor = layers.Dense(10, activation='softmax')(x4)\n",
    "\n",
    "model3 = models.Model(input_tensor, output_tensor)\n",
    "\n",
    "model3.summary()"
   ]
  },
  {
   "cell_type": "markdown",
   "metadata": {
    "slideshow": {
     "slide_type": "slide"
    }
   },
   "source": [
    "##### trainable 설정"
   ]
  },
  {
   "cell_type": "code",
   "execution_count": null,
   "metadata": {},
   "outputs": [],
   "source": [
    "input_tensor = layers.Input(shape=(32,32,3))\n",
    "\n",
    "c1 = layers.Conv2D(filters=16, kernel_size=3, padding='same', activation='relu')\n",
    "c1.trainable = False\n",
    "x1 = c1(input_tensor)\n",
    "\n",
    "x1 = layers.MaxPooling2D(padding='same')(x1)\n",
    "\n",
    "x2 = layers.Conv2D(filters=16, kernel_size=3, padding='same', activation='relu')(x1)\n",
    "x2 = layers.MaxPooling2D(padding='same')(x2)\n",
    "\n",
    "x3 = layers.Conv2D(filters=16, kernel_size=3, padding='same', activation='relu')(x2)\n",
    "x3 = layers.Conv2D(filters=16, kernel_size=3, padding='same', activation='relu')(x3)\n",
    "x3 = layers.MaxPooling2D(padding='same')(x3)\n",
    "\n",
    "x4 = layers.Flatten()(x3)\n",
    "output_tensor = layers.Dense(10, activation='softmax')(x4)\n",
    "\n",
    "model3 = models.Model(input_tensor, output_tensor)\n",
    "\n",
    "model3.summary()"
   ]
  },
  {
   "cell_type": "markdown",
   "metadata": {
    "slideshow": {
     "slide_type": "slide"
    }
   },
   "source": [
    "##### Transfer learning"
   ]
  },
  {
   "cell_type": "code",
   "execution_count": 26,
   "metadata": {
    "ExecuteTime": {
     "end_time": "2023-03-02T08:30:25.173194Z",
     "start_time": "2023-03-02T08:30:24.257947Z"
    }
   },
   "outputs": [
    {
     "name": "stdout",
     "output_type": "stream",
     "text": [
      "Model: \"model_5\"\n",
      "__________________________________________________________________________________________________\n",
      " Layer (type)                   Output Shape         Param #     Connected to                     \n",
      "==================================================================================================\n",
      " input_13 (InputLayer)          [(None, 224, 224, 3  0           []                               \n",
      "                                )]                                                                \n",
      "                                                                                                  \n",
      " vgg16 (Functional)             (None, None, None,   14714688    ['input_13[0][0]']               \n",
      "                                512)                                                              \n",
      "                                                                                                  \n",
      " global_average_pooling2d_2 (Gl  (None, 512)         0           ['vgg16[0][0]']                  \n",
      " obalAveragePooling2D)                                                                            \n",
      "                                                                                                  \n",
      " dropout_1 (Dropout)            (None, 512)          0           ['global_average_pooling2d_2[0][0\n",
      "                                                                 ]']                              \n",
      "                                                                                                  \n",
      " dense_8 (Dense)                (None, 512)          262656      ['dropout_1[0][0]']              \n",
      "                                                                                                  \n",
      " dense_9 (Dense)                (None, 1)            513         ['dense_8[0][0]']                \n",
      "                                                                                                  \n",
      " dense_10 (Dense)               (None, 10)           5130        ['dense_8[0][0]']                \n",
      "                                                                                                  \n",
      "==================================================================================================\n",
      "Total params: 14,982,987\n",
      "Trainable params: 268,299\n",
      "Non-trainable params: 14,714,688\n",
      "__________________________________________________________________________________________________\n"
     ]
    }
   ],
   "source": [
    "backbone = applications.VGG16(include_top=False)\n",
    "backbone.trainable = False\n",
    "\n",
    "input_tensor = layers.Input(shape=(224, 224, 3))\n",
    "x = backbone(input_tensor)\n",
    "x = layers.GlobalAveragePooling2D()(x)\n",
    "x = layers.Dropout(0.3)(x)\n",
    "x = layers.Dense(512, activation='relu')(x)\n",
    "output_tensor = layers.Dense(1, activation='sigmoid')(x)\n",
    "output_tensor2 = layers.Dense(10, activation='softmax')(x)\n",
    "\n",
    "model4 = models.Model(input_tensor, [output_tensor, output_tensor2])\n",
    "model4.summary()"
   ]
  },
  {
   "cell_type": "code",
   "execution_count": 27,
   "metadata": {
    "ExecuteTime": {
     "end_time": "2023-03-02T08:30:32.160193Z",
     "start_time": "2023-03-02T08:30:31.407547Z"
    }
   },
   "outputs": [
    {
     "data": {
      "image/png": "[encoded data removed]",
      "text/plain": [
       "<IPython.core.display.Image object>"
      ]
     },
     "execution_count": 27,
     "metadata": {},
     "output_type": "execute_result"
    }
   ],
   "source": [
    "keras.utils.plot_model(model4, show_shapes=True)"
   ]
  },
  {
   "cell_type": "markdown",
   "metadata": {
    "slideshow": {
     "slide_type": "slide"
    }
   },
   "source": [
    "## 여러개의 출력결과를  합치는 Layer\n",
    "\n",
    "- 앞 레이어들에서 출력된 값이 여러개이고 이것을 하나의 Layer의 입력으로 넣어 줄 경우 **여러개의 출력값을 합쳐 줘야 한다.** 이때 단순이 합치거나 element wise 연산을 통해 합칠 수 있다. \n",
    "- 함수와 Layer class 두가지 방식을 제공한다.\n",
    "    - tensorflow.keras.layers 모듈로 제공\n",
    "- **concatenate(list, axis=-1)/Concatenate(axis=-1)([list])**\n",
    "    - 레이어들을 단순히 합친다. (붙이는 처리)\n",
    "    - list: 합칠 레이어들을 리스트에 묶어 전달\n",
    "    - axis: 합칠 기준축. (기본값: -1 : 마지막 축기준)\n",
    "- **add(list)/Add()(list), substract(list)/Subtract()(list), multiply(list)/Multiply()(list)**\n",
    "    - 같은 index의 값들을 계산해서(더하기, 빼기, 곱하기) 하나의 레이어로 만든다.\n",
    "    - list: 합칠 레이어들을 리스트에 묶어 전달"
   ]
  },
  {
   "cell_type": "code",
   "execution_count": 14,
   "metadata": {
    "ExecuteTime": {
     "end_time": "2023-03-03T01:05:45.306769Z",
     "start_time": "2023-03-03T01:05:45.139955Z"
    }
   },
   "outputs": [],
   "source": [
    "# ResNet의 Residual Block을 구현\n",
    "input_tensor = layers.Input(shape=(32, 32, 3))\n",
    "x = layers.Conv2D(filters=64, kernel_size=7, padding='same', activation='relu')(input_tensor)\n",
    "x = layers.MaxPooling2D(padding='same')(x)\n",
    "\n",
    "# redual block\n",
    "x1 = layers.Conv2D(filters=64, kernel_size=3, padding='same')(x)\n",
    "x1 = layers.BatchNormalization()(x1)\n",
    "x1 = layers.ReLU()(x1)\n",
    "x1 = layers.Conv2D(filters=128, kernel_size=3, padding='same')(x1)\n",
    "x1 = layers.BatchNormalization()(x1)\n",
    "# point wise conv를 사용해 channel size 조정\n",
    "x1= layers.Conv2D(filters=64, kernel_size=1, padding='same')(x1)\n",
    "# x와 x1을 더하기\n",
    "x1  = layers.Add()([x, x1]) # x1 = layers.add([x, x1])\n",
    "\n",
    "output_tensor = layers.ReLU()(x1)\n",
    "\n",
    "\n",
    "rb_model = models.Model(input_tensor, output_tensor)"
   ]
  },
  {
   "cell_type": "code",
   "execution_count": 15,
   "metadata": {
    "ExecuteTime": {
     "end_time": "2023-03-03T01:05:46.737880Z",
     "start_time": "2023-03-03T01:05:46.641319Z"
    }
   },
   "outputs": [
    {
     "name": "stdout",
     "output_type": "stream",
     "text": [
      "Model: \"model_1\"\n",
      "__________________________________________________________________________________________________\n",
      " Layer (type)                   Output Shape         Param #     Connected to                     \n",
      "==================================================================================================\n",
      " input_10 (InputLayer)          [(None, 32, 32, 3)]  0           []                               \n",
      "                                                                                                  \n",
      " conv2d_21 (Conv2D)             (None, 32, 32, 64)   9472        ['input_10[0][0]']               \n",
      "                                                                                                  \n",
      " max_pooling2d_10 (MaxPooling2D  (None, 16, 16, 64)  0           ['conv2d_21[0][0]']              \n",
      " )                                                                                                \n",
      "                                                                                                  \n",
      " conv2d_22 (Conv2D)             (None, 16, 16, 64)   36928       ['max_pooling2d_10[0][0]']       \n",
      "                                                                                                  \n",
      " batch_normalization_5 (BatchNo  (None, 16, 16, 64)  256         ['conv2d_22[0][0]']              \n",
      " rmalization)                                                                                     \n",
      "                                                                                                  \n",
      " re_lu_7 (ReLU)                 (None, 16, 16, 64)   0           ['batch_normalization_5[0][0]']  \n",
      "                                                                                                  \n",
      " conv2d_23 (Conv2D)             (None, 16, 16, 128)  73856       ['re_lu_7[0][0]']                \n",
      "                                                                                                  \n",
      " batch_normalization_6 (BatchNo  (None, 16, 16, 128)  512        ['conv2d_23[0][0]']              \n",
      " rmalization)                                                                                     \n",
      "                                                                                                  \n",
      " conv2d_24 (Conv2D)             (None, 16, 16, 64)   8256        ['batch_normalization_6[0][0]']  \n",
      "                                                                                                  \n",
      " add_2 (Add)                    (None, 16, 16, 64)   0           ['max_pooling2d_10[0][0]',       \n",
      "                                                                  'conv2d_24[0][0]']              \n",
      "                                                                                                  \n",
      " re_lu_8 (ReLU)                 (None, 16, 16, 64)   0           ['add_2[0][0]']                  \n",
      "                                                                                                  \n",
      "==================================================================================================\n",
      "Total params: 129,280\n",
      "Trainable params: 128,896\n",
      "Non-trainable params: 384\n",
      "__________________________________________________________________________________________________\n"
     ]
    }
   ],
   "source": [
    "rb_model.summary()"
   ]
  },
  {
   "cell_type": "code",
   "execution_count": 16,
   "metadata": {
    "ExecuteTime": {
     "end_time": "2023-03-03T01:05:49.145610Z",
     "start_time": "2023-03-03T01:05:48.422810Z"
    },
    "scrolled": false
   },
   "outputs": [
    {
     "data": {
      "image/png": "[encoded data removed]",
      "text/plain": [
       "<IPython.core.display.Image object>"
      ]
     },
     "execution_count": 16,
     "metadata": {},
     "output_type": "execute_result"
    }
   ],
   "source": [
    "keras.utils.plot_model(rb_model, show_shapes=True)"
   ]
  },
  {
   "cell_type": "markdown",
   "metadata": {
    "slideshow": {
     "slide_type": "slide"
    }
   },
   "source": [
    "### 다중 출력 모델\n",
    "- 가정\n",
    "    - iris 데이터셋에서 꽃받침의 너비와 높이로 꽃잎의 너비, 높이, 꽃 종류를 예측하는 모델\n",
    "    - 출력결과가 3개가 나와야 한다.\n",
    "- X: 꽃받침 너비, 높이\n",
    "- y: 꽃잎 너비, 높이, 꽃 종류"
   ]
  },
  {
   "cell_type": "code",
   "execution_count": 2,
   "metadata": {
    "ExecuteTime": {
     "end_time": "2023-03-03T02:24:40.114005Z",
     "start_time": "2023-03-03T02:24:38.409775Z"
    }
   },
   "outputs": [
    {
     "data": {
      "text/plain": [
       "(150, 4)"
      ]
     },
     "execution_count": 2,
     "metadata": {},
     "output_type": "execute_result"
    }
   ],
   "source": [
    "from sklearn.datasets import load_iris\n",
    "\n",
    "X, y = load_iris(return_X_y=True)\n",
    "X.shape"
   ]
  },
  {
   "cell_type": "code",
   "execution_count": 3,
   "metadata": {
    "ExecuteTime": {
     "end_time": "2023-03-03T02:24:40.796047Z",
     "start_time": "2023-03-03T02:24:40.767014Z"
    }
   },
   "outputs": [
    {
     "data": {
      "text/plain": [
       "((150, 2), (150,), (150,), (150,))"
      ]
     },
     "execution_count": 3,
     "metadata": {},
     "output_type": "execute_result"
    }
   ],
   "source": [
    "# X, y의 형태를 변환\n",
    "\n",
    "# y1: petal length, y2: petal width, y3:target\n",
    "y1 = X[:, 2]\n",
    "y2 = X[:, 3]\n",
    "y3 = y\n",
    "\n",
    "# X: sepal length, width\n",
    "X = X[:, [0, 1]]\n",
    "X.shape, y1.shape, y2.shape, y3.shape"
   ]
  },
  {
   "cell_type": "markdown",
   "metadata": {
    "slideshow": {
     "slide_type": "fragment"
    }
   },
   "source": [
    "##### 모델 정의 및 컴파일"
   ]
  },
  {
   "cell_type": "code",
   "execution_count": 4,
   "metadata": {
    "ExecuteTime": {
     "end_time": "2023-03-03T02:24:42.987912Z",
     "start_time": "2023-03-03T02:24:42.784018Z"
    }
   },
   "outputs": [],
   "source": [
    "# 모델 정의 - 입력: X, 출력: y1, y2, y3 (다중 출력)\n",
    "# 다중 출력을 해야하기 때문에 Sequential 대신 함수 형식으로 작성한다.\n",
    "input_tensor = layers.Input(shape=(2, ))\n",
    "x = layers.Dense(units=16, activation='relu')(input_tensor)\n",
    "x = layers.Dense(units=8, activation='relu')(x)\n",
    "\n",
    "# output layer\n",
    "output_tensor1 = layers.Dense(1, name='petal_length_output')(x)\n",
    "output_tensor2 = layers.Dense(1, name='petal_width_output')(x)\n",
    "output_tensor3 = layers.Dense(3, activation='softmax', name='species_out-output')(x)\n",
    "\n",
    "model = models.Model(input_tensor, [output_tensor1, output_tensor2, output_tensor3])"
   ]
  },
  {
   "cell_type": "code",
   "execution_count": 5,
   "metadata": {
    "ExecuteTime": {
     "end_time": "2023-03-03T02:24:43.635594Z",
     "start_time": "2023-03-03T02:24:43.575597Z"
    }
   },
   "outputs": [
    {
     "name": "stdout",
     "output_type": "stream",
     "text": [
      "Model: \"model\"\n",
      "__________________________________________________________________________________________________\n",
      " Layer (type)                   Output Shape         Param #     Connected to                     \n",
      "==================================================================================================\n",
      " input_1 (InputLayer)           [(None, 2)]          0           []                               \n",
      "                                                                                                  \n",
      " dense (Dense)                  (None, 16)           48          ['input_1[0][0]']                \n",
      "                                                                                                  \n",
      " dense_1 (Dense)                (None, 8)            136         ['dense[0][0]']                  \n",
      "                                                                                                  \n",
      " petal_length_output (Dense)    (None, 1)            9           ['dense_1[0][0]']                \n",
      "                                                                                                  \n",
      " petal_width_output (Dense)     (None, 1)            9           ['dense_1[0][0]']                \n",
      "                                                                                                  \n",
      " species_out-output (Dense)     (None, 3)            27          ['dense_1[0][0]']                \n",
      "                                                                                                  \n",
      "==================================================================================================\n",
      "Total params: 229\n",
      "Trainable params: 229\n",
      "Non-trainable params: 0\n",
      "__________________________________________________________________________________________________\n"
     ]
    }
   ],
   "source": [
    "model.summary()"
   ]
  },
  {
   "cell_type": "code",
   "execution_count": 6,
   "metadata": {
    "ExecuteTime": {
     "end_time": "2023-03-03T02:24:45.189746Z",
     "start_time": "2023-03-03T02:24:44.504390Z"
    }
   },
   "outputs": [
    {
     "data": {
      "image/png": "[encoded data removed]",
      "text/plain": [
       "<IPython.core.display.Image object>"
      ]
     },
     "execution_count": 6,
     "metadata": {},
     "output_type": "execute_result"
    }
   ],
   "source": [
    "keras.utils.plot_model(model, show_shapes=True)"
   ]
  },
  {
   "cell_type": "code",
   "execution_count": 7,
   "metadata": {
    "ExecuteTime": {
     "end_time": "2023-03-03T02:24:45.820231Z",
     "start_time": "2023-03-03T02:24:45.785228Z"
    }
   },
   "outputs": [],
   "source": [
    "# compile\n",
    "model.compile(optimizer='adam', loss=['mse', 'mse', 'sparse_categorical_crossentropy']) \n",
    "# 출력 결과순서별로 loss를 수해서 모두 더한 Total loss를 이용해 최적화작업을 수행한다."
   ]
  },
  {
   "cell_type": "markdown",
   "metadata": {
    "slideshow": {
     "slide_type": "slide"
    }
   },
   "source": [
    "##### 학습"
   ]
  },
  {
   "cell_type": "code",
   "execution_count": 8,
   "metadata": {
    "ExecuteTime": {
     "end_time": "2023-03-03T02:24:58.986881Z",
     "start_time": "2023-03-03T02:24:47.327049Z"
    }
   },
   "outputs": [
    {
     "name": "stdout",
     "output_type": "stream",
     "text": [
      "Epoch 1/100\n",
      "4/4 [==============================] - 3s 173ms/step - loss: 12.7028 - petal_length_output_loss: 7.4180 - petal_width_output_loss: 3.9189 - species_out-output_loss: 1.3660 - val_loss: 26.7964 - val_petal_length_output_loss: 17.5686 - val_petal_width_output_loss: 8.7200 - val_species_out-output_loss: 0.5078\n",
      "Epoch 2/100\n",
      "4/4 [==============================] - 0s 25ms/step - loss: 12.3761 - petal_length_output_loss: 7.1542 - petal_width_output_loss: 3.8689 - species_out-output_loss: 1.3530 - val_loss: 26.2539 - val_petal_length_output_loss: 16.8482 - val_petal_width_output_loss: 8.9119 - val_species_out-output_loss: 0.4939\n",
      "Epoch 3/100\n",
      "4/4 [==============================] - 0s 25ms/step - loss: 11.9795 - petal_length_output_loss: 6.8002 - petal_width_output_loss: 3.8292 - species_out-output_loss: 1.3500 - val_loss: 25.2975 - val_petal_length_output_loss: 16.0362 - val_petal_width_output_loss: 8.7773 - val_species_out-output_loss: 0.4841\n",
      "Epoch 4/100\n",
      "4/4 [==============================] - 0s 34ms/step - loss: 11.3715 - petal_length_output_loss: 6.4114 - petal_width_output_loss: 3.5946 - species_out-output_loss: 1.3655 - val_loss: 23.7922 - val_petal_length_output_loss: 15.1283 - val_petal_width_output_loss: 8.1811 - val_species_out-output_loss: 0.4828\n",
      "Epoch 5/100\n",
      "4/4 [==============================] - 0s 39ms/step - loss: 10.6345 - petal_length_output_loss: 5.9917 - petal_width_output_loss: 3.2478 - species_out-output_loss: 1.3949 - val_loss: 22.2310 - val_petal_length_output_loss: 14.2550 - val_petal_width_output_loss: 7.4863 - val_species_out-output_loss: 0.4897\n",
      "Epoch 6/100\n",
      "4/4 [==============================] - 0s 38ms/step - loss: 9.9318 - petal_length_output_loss: 5.6116 - petal_width_output_loss: 2.8937 - species_out-output_loss: 1.4265 - val_loss: 20.6595 - val_petal_length_output_loss: 13.3842 - val_petal_width_output_loss: 6.7725 - val_species_out-output_loss: 0.5027\n",
      "Epoch 7/100\n",
      "4/4 [==============================] - 0s 30ms/step - loss: 9.2171 - petal_length_output_loss: 5.2204 - petal_width_output_loss: 2.5338 - species_out-output_loss: 1.4629 - val_loss: 19.1395 - val_petal_length_output_loss: 12.5413 - val_petal_width_output_loss: 6.0762 - val_species_out-output_loss: 0.5220\n",
      "Epoch 8/100\n",
      "4/4 [==============================] - 0s 26ms/step - loss: 8.5935 - petal_length_output_loss: 4.8798 - petal_width_output_loss: 2.2205 - species_out-output_loss: 1.4932 - val_loss: 17.6627 - val_petal_length_output_loss: 11.6980 - val_petal_width_output_loss: 5.4197 - val_species_out-output_loss: 0.5450\n",
      "Epoch 9/100\n",
      "4/4 [==============================] - 0s 24ms/step - loss: 7.9727 - petal_length_output_loss: 4.5217 - petal_width_output_loss: 1.9173 - species_out-output_loss: 1.5338 - val_loss: 16.2781 - val_petal_length_output_loss: 10.8906 - val_petal_width_output_loss: 4.8154 - val_species_out-output_loss: 0.5722\n",
      "Epoch 10/100\n",
      "4/4 [==============================] - 0s 27ms/step - loss: 7.4276 - petal_length_output_loss: 4.1997 - petal_width_output_loss: 1.6568 - species_out-output_loss: 1.5710 - val_loss: 14.9594 - val_petal_length_output_loss: 10.0897 - val_petal_width_output_loss: 4.2687 - val_species_out-output_loss: 0.6009\n",
      "Epoch 11/100\n",
      "4/4 [==============================] - 0s 26ms/step - loss: 6.9160 - petal_length_output_loss: 3.8792 - petal_width_output_loss: 1.4274 - species_out-output_loss: 1.6094 - val_loss: 13.7250 - val_petal_length_output_loss: 9.3163 - val_petal_width_output_loss: 3.7779 - val_species_out-output_loss: 0.6307\n",
      "Epoch 12/100\n",
      "4/4 [==============================] - 0s 27ms/step - loss: 6.4871 - petal_length_output_loss: 3.6012 - petal_width_output_loss: 1.2422 - species_out-output_loss: 1.6437 - val_loss: 12.5497 - val_petal_length_output_loss: 8.5480 - val_petal_width_output_loss: 3.3432 - val_species_out-output_loss: 0.6585\n",
      "Epoch 13/100\n",
      "4/4 [==============================] - 0s 26ms/step - loss: 6.0837 - petal_length_output_loss: 3.3254 - petal_width_output_loss: 1.0777 - species_out-output_loss: 1.6806 - val_loss: 11.4637 - val_petal_length_output_loss: 7.8176 - val_petal_width_output_loss: 2.9613 - val_species_out-output_loss: 0.6848\n",
      "Epoch 14/100\n",
      "4/4 [==============================] - 0s 29ms/step - loss: 5.7496 - petal_length_output_loss: 3.0896 - petal_width_output_loss: 0.9461 - species_out-output_loss: 1.7140 - val_loss: 10.4455 - val_petal_length_output_loss: 7.1150 - val_petal_width_output_loss: 2.6229 - val_species_out-output_loss: 0.7076\n",
      "Epoch 15/100\n",
      "4/4 [==============================] - 0s 26ms/step - loss: 5.4423 - petal_length_output_loss: 2.8667 - petal_width_output_loss: 0.8311 - species_out-output_loss: 1.7445 - val_loss: 9.5568 - val_petal_length_output_loss: 6.4816 - val_petal_width_output_loss: 2.3468 - val_species_out-output_loss: 0.7284\n",
      "Epoch 16/100\n",
      "4/4 [==============================] - 0s 27ms/step - loss: 5.1798 - petal_length_output_loss: 2.6742 - petal_width_output_loss: 0.7345 - species_out-output_loss: 1.7710 - val_loss: 8.7407 - val_petal_length_output_loss: 5.9130 - val_petal_width_output_loss: 2.0791 - val_species_out-output_loss: 0.7486\n",
      "Epoch 17/100\n",
      "4/4 [==============================] - 0s 26ms/step - loss: 4.9899 - petal_length_output_loss: 2.5348 - petal_width_output_loss: 0.6671 - species_out-output_loss: 1.7879 - val_loss: 7.9985 - val_petal_length_output_loss: 5.3750 - val_petal_width_output_loss: 1.8597 - val_species_out-output_loss: 0.7638\n",
      "Epoch 18/100\n",
      "4/4 [==============================] - 0s 28ms/step - loss: 4.8112 - petal_length_output_loss: 2.3984 - petal_width_output_loss: 0.6100 - species_out-output_loss: 1.8028 - val_loss: 7.3629 - val_petal_length_output_loss: 4.9078 - val_petal_width_output_loss: 1.6783 - val_species_out-output_loss: 0.7768\n",
      "Epoch 19/100\n",
      "4/4 [==============================] - 0s 26ms/step - loss: 4.6874 - petal_length_output_loss: 2.3051 - petal_width_output_loss: 0.5689 - species_out-output_loss: 1.8134 - val_loss: 6.8036 - val_petal_length_output_loss: 4.4804 - val_petal_width_output_loss: 1.5374 - val_species_out-output_loss: 0.7858\n",
      "Epoch 20/100\n",
      "4/4 [==============================] - 0s 24ms/step - loss: 4.5791 - petal_length_output_loss: 2.2216 - petal_width_output_loss: 0.5371 - species_out-output_loss: 1.8204 - val_loss: 6.2987 - val_petal_length_output_loss: 4.1090 - val_petal_width_output_loss: 1.3973 - val_species_out-output_loss: 0.7925\n",
      "Epoch 21/100\n",
      "4/4 [==============================] - 0s 27ms/step - loss: 4.4854 - petal_length_output_loss: 2.1548 - petal_width_output_loss: 0.5099 - species_out-output_loss: 1.8207 - val_loss: 5.8870 - val_petal_length_output_loss: 3.8067 - val_petal_width_output_loss: 1.2828 - val_species_out-output_loss: 0.7975\n",
      "Epoch 22/100\n",
      "4/4 [==============================] - 0s 29ms/step - loss: 4.4152 - petal_length_output_loss: 2.1081 - petal_width_output_loss: 0.4912 - species_out-output_loss: 1.8160 - val_loss: 5.5648 - val_petal_length_output_loss: 3.5625 - val_petal_width_output_loss: 1.2006 - val_species_out-output_loss: 0.8017\n",
      "Epoch 23/100\n",
      "4/4 [==============================] - 0s 27ms/step - loss: 4.3595 - petal_length_output_loss: 2.0743 - petal_width_output_loss: 0.4775 - species_out-output_loss: 1.8077 - val_loss: 5.3065 - val_petal_length_output_loss: 3.3643 - val_petal_width_output_loss: 1.1375 - val_species_out-output_loss: 0.8046\n",
      "Epoch 24/100\n",
      "4/4 [==============================] - 0s 30ms/step - loss: 4.3155 - petal_length_output_loss: 2.0521 - petal_width_output_loss: 0.4670 - species_out-output_loss: 1.7964 - val_loss: 5.0776 - val_petal_length_output_loss: 3.1928 - val_petal_width_output_loss: 1.0796 - val_species_out-output_loss: 0.8052\n",
      "Epoch 25/100\n",
      "4/4 [==============================] - 0s 25ms/step - loss: 4.2575 - petal_length_output_loss: 2.0219 - petal_width_output_loss: 0.4557 - species_out-output_loss: 1.7799 - val_loss: 4.9438 - val_petal_length_output_loss: 3.0929 - val_petal_width_output_loss: 1.0433 - val_species_out-output_loss: 0.8076\n",
      "Epoch 26/100\n",
      "4/4 [==============================] - 0s 25ms/step - loss: 4.2102 - petal_length_output_loss: 2.0027 - petal_width_output_loss: 0.4475 - species_out-output_loss: 1.7600 - val_loss: 4.8627 - val_petal_length_output_loss: 3.0300 - val_petal_width_output_loss: 1.0220 - val_species_out-output_loss: 0.8107\n"
     ]
    },
    {
     "name": "stdout",
     "output_type": "stream",
     "text": [
      "Epoch 27/100\n",
      "4/4 [==============================] - 0s 27ms/step - loss: 4.1640 - petal_length_output_loss: 1.9859 - petal_width_output_loss: 0.4405 - species_out-output_loss: 1.7377 - val_loss: 4.8076 - val_petal_length_output_loss: 2.9831 - val_petal_width_output_loss: 1.0114 - val_species_out-output_loss: 0.8131\n",
      "Epoch 28/100\n",
      "4/4 [==============================] - 0s 24ms/step - loss: 4.1167 - petal_length_output_loss: 1.9683 - petal_width_output_loss: 0.4333 - species_out-output_loss: 1.7152 - val_loss: 4.7524 - val_petal_length_output_loss: 2.9477 - val_petal_width_output_loss: 0.9905 - val_species_out-output_loss: 0.8142\n",
      "Epoch 29/100\n",
      "4/4 [==============================] - 0s 24ms/step - loss: 4.0694 - petal_length_output_loss: 1.9525 - petal_width_output_loss: 0.4266 - species_out-output_loss: 1.6903 - val_loss: 4.7143 - val_petal_length_output_loss: 2.9255 - val_petal_width_output_loss: 0.9728 - val_species_out-output_loss: 0.8159\n",
      "Epoch 30/100\n",
      "4/4 [==============================] - 0s 25ms/step - loss: 4.0230 - petal_length_output_loss: 1.9373 - petal_width_output_loss: 0.4203 - species_out-output_loss: 1.6655 - val_loss: 4.6881 - val_petal_length_output_loss: 2.9084 - val_petal_width_output_loss: 0.9621 - val_species_out-output_loss: 0.8176\n",
      "Epoch 31/100\n",
      "4/4 [==============================] - 0s 26ms/step - loss: 3.9768 - petal_length_output_loss: 1.9211 - petal_width_output_loss: 0.4140 - species_out-output_loss: 1.6417 - val_loss: 4.6226 - val_petal_length_output_loss: 2.8643 - val_petal_width_output_loss: 0.9413 - val_species_out-output_loss: 0.8170\n",
      "Epoch 32/100\n",
      "4/4 [==============================] - 0s 26ms/step - loss: 3.9287 - petal_length_output_loss: 1.9037 - petal_width_output_loss: 0.4074 - species_out-output_loss: 1.6176 - val_loss: 4.6045 - val_petal_length_output_loss: 2.8458 - val_petal_width_output_loss: 0.9395 - val_species_out-output_loss: 0.8192\n",
      "Epoch 33/100\n",
      "4/4 [==============================] - 0s 24ms/step - loss: 3.8826 - petal_length_output_loss: 1.8873 - petal_width_output_loss: 0.4013 - species_out-output_loss: 1.5940 - val_loss: 4.6013 - val_petal_length_output_loss: 2.8347 - val_petal_width_output_loss: 0.9439 - val_species_out-output_loss: 0.8227\n",
      "Epoch 34/100\n",
      "4/4 [==============================] - 0s 24ms/step - loss: 3.8348 - petal_length_output_loss: 1.8695 - petal_width_output_loss: 0.3947 - species_out-output_loss: 1.5706 - val_loss: 4.5707 - val_petal_length_output_loss: 2.8147 - val_petal_width_output_loss: 0.9312 - val_species_out-output_loss: 0.8248\n",
      "Epoch 35/100\n",
      "4/4 [==============================] - 0s 26ms/step - loss: 3.7880 - petal_length_output_loss: 1.8523 - petal_width_output_loss: 0.3880 - species_out-output_loss: 1.5477 - val_loss: 4.5208 - val_petal_length_output_loss: 2.7761 - val_petal_width_output_loss: 0.9182 - val_species_out-output_loss: 0.8264\n",
      "Epoch 36/100\n",
      "4/4 [==============================] - 0s 26ms/step - loss: 3.7427 - petal_length_output_loss: 1.8347 - petal_width_output_loss: 0.3813 - species_out-output_loss: 1.5267 - val_loss: 4.4583 - val_petal_length_output_loss: 2.7332 - val_petal_width_output_loss: 0.8982 - val_species_out-output_loss: 0.8269\n",
      "Epoch 37/100\n",
      "4/4 [==============================] - 0s 24ms/step - loss: 3.6948 - petal_length_output_loss: 1.8151 - petal_width_output_loss: 0.3742 - species_out-output_loss: 1.5055 - val_loss: 4.4511 - val_petal_length_output_loss: 2.7230 - val_petal_width_output_loss: 0.8966 - val_species_out-output_loss: 0.8315\n",
      "Epoch 38/100\n",
      "4/4 [==============================] - 0s 25ms/step - loss: 3.6466 - petal_length_output_loss: 1.7968 - petal_width_output_loss: 0.3678 - species_out-output_loss: 1.4820 - val_loss: 4.4827 - val_petal_length_output_loss: 2.7345 - val_petal_width_output_loss: 0.9084 - val_species_out-output_loss: 0.8398\n",
      "Epoch 39/100\n",
      "4/4 [==============================] - 0s 24ms/step - loss: 3.6012 - petal_length_output_loss: 1.7786 - petal_width_output_loss: 0.3619 - species_out-output_loss: 1.4607 - val_loss: 4.4886 - val_petal_length_output_loss: 2.7321 - val_petal_width_output_loss: 0.9092 - val_species_out-output_loss: 0.8473\n",
      "Epoch 40/100\n",
      "4/4 [==============================] - 0s 28ms/step - loss: 3.5550 - petal_length_output_loss: 1.7605 - petal_width_output_loss: 0.3559 - species_out-output_loss: 1.4386 - val_loss: 4.4697 - val_petal_length_output_loss: 2.7146 - val_petal_width_output_loss: 0.9005 - val_species_out-output_loss: 0.8546\n",
      "Epoch 41/100\n",
      "4/4 [==============================] - 0s 26ms/step - loss: 3.5071 - petal_length_output_loss: 1.7407 - petal_width_output_loss: 0.3482 - species_out-output_loss: 1.4183 - val_loss: 4.4321 - val_petal_length_output_loss: 2.6910 - val_petal_width_output_loss: 0.8801 - val_species_out-output_loss: 0.8610\n",
      "Epoch 42/100\n",
      "4/4 [==============================] - 0s 23ms/step - loss: 3.4617 - petal_length_output_loss: 1.7214 - petal_width_output_loss: 0.3405 - species_out-output_loss: 1.3998 - val_loss: 4.3958 - val_petal_length_output_loss: 2.6677 - val_petal_width_output_loss: 0.8606 - val_species_out-output_loss: 0.8675\n",
      "Epoch 43/100\n",
      "4/4 [==============================] - 0s 24ms/step - loss: 3.4148 - petal_length_output_loss: 1.7014 - petal_width_output_loss: 0.3332 - species_out-output_loss: 1.3802 - val_loss: 4.2956 - val_petal_length_output_loss: 2.5999 - val_petal_width_output_loss: 0.8264 - val_species_out-output_loss: 0.8693\n",
      "Epoch 44/100\n",
      "4/4 [==============================] - 0s 24ms/step - loss: 3.3669 - petal_length_output_loss: 1.6795 - petal_width_output_loss: 0.3249 - species_out-output_loss: 1.3626 - val_loss: 4.2332 - val_petal_length_output_loss: 2.5475 - val_petal_width_output_loss: 0.8116 - val_species_out-output_loss: 0.8740\n",
      "Epoch 45/100\n",
      "4/4 [==============================] - 0s 24ms/step - loss: 3.3211 - petal_length_output_loss: 1.6578 - petal_width_output_loss: 0.3176 - species_out-output_loss: 1.3457 - val_loss: 4.1666 - val_petal_length_output_loss: 2.4955 - val_petal_width_output_loss: 0.7929 - val_species_out-output_loss: 0.8782\n",
      "Epoch 46/100\n",
      "4/4 [==============================] - 0s 24ms/step - loss: 3.2741 - petal_length_output_loss: 1.6359 - petal_width_output_loss: 0.3102 - species_out-output_loss: 1.3280 - val_loss: 4.1423 - val_petal_length_output_loss: 2.4643 - val_petal_width_output_loss: 0.7922 - val_species_out-output_loss: 0.8858\n",
      "Epoch 47/100\n",
      "4/4 [==============================] - 0s 24ms/step - loss: 3.2298 - petal_length_output_loss: 1.6158 - petal_width_output_loss: 0.3052 - species_out-output_loss: 1.3087 - val_loss: 4.1712 - val_petal_length_output_loss: 2.4653 - val_petal_width_output_loss: 0.8075 - val_species_out-output_loss: 0.8985\n",
      "Epoch 48/100\n",
      "4/4 [==============================] - 0s 25ms/step - loss: 3.1808 - petal_length_output_loss: 1.5917 - petal_width_output_loss: 0.2976 - species_out-output_loss: 1.2914 - val_loss: 4.1290 - val_petal_length_output_loss: 2.4284 - val_petal_width_output_loss: 0.7950 - val_species_out-output_loss: 0.9056\n",
      "Epoch 49/100\n",
      "4/4 [==============================] - 0s 24ms/step - loss: 3.1341 - petal_length_output_loss: 1.5699 - petal_width_output_loss: 0.2908 - species_out-output_loss: 1.2734 - val_loss: 4.0953 - val_petal_length_output_loss: 2.3998 - val_petal_width_output_loss: 0.7806 - val_species_out-output_loss: 0.9149\n",
      "Epoch 50/100\n",
      "4/4 [==============================] - 0s 24ms/step - loss: 3.0886 - petal_length_output_loss: 1.5481 - petal_width_output_loss: 0.2839 - species_out-output_loss: 1.2566 - val_loss: 4.0657 - val_petal_length_output_loss: 2.3687 - val_petal_width_output_loss: 0.7726 - val_species_out-output_loss: 0.9243\n",
      "Epoch 51/100\n",
      "4/4 [==============================] - 0s 24ms/step - loss: 3.0435 - petal_length_output_loss: 1.5266 - petal_width_output_loss: 0.2771 - species_out-output_loss: 1.2398 - val_loss: 4.0239 - val_petal_length_output_loss: 2.3374 - val_petal_width_output_loss: 0.7537 - val_species_out-output_loss: 0.9329\n",
      "Epoch 52/100\n",
      "4/4 [==============================] - 0s 25ms/step - loss: 3.0000 - petal_length_output_loss: 1.5045 - petal_width_output_loss: 0.2695 - species_out-output_loss: 1.2259 - val_loss: 3.8906 - val_petal_length_output_loss: 2.2468 - val_petal_width_output_loss: 0.7107 - val_species_out-output_loss: 0.9331\n"
     ]
    },
    {
     "name": "stdout",
     "output_type": "stream",
     "text": [
      "Epoch 53/100\n",
      "4/4 [==============================] - 0s 24ms/step - loss: 2.9518 - petal_length_output_loss: 1.4801 - petal_width_output_loss: 0.2611 - species_out-output_loss: 1.2107 - val_loss: 3.8591 - val_petal_length_output_loss: 2.2161 - val_petal_width_output_loss: 0.6998 - val_species_out-output_loss: 0.9431\n",
      "Epoch 54/100\n",
      "4/4 [==============================] - 0s 25ms/step - loss: 2.9073 - petal_length_output_loss: 1.4572 - petal_width_output_loss: 0.2545 - species_out-output_loss: 1.1956 - val_loss: 3.8296 - val_petal_length_output_loss: 2.1777 - val_petal_width_output_loss: 0.6994 - val_species_out-output_loss: 0.9525\n",
      "Epoch 55/100\n",
      "4/4 [==============================] - 0s 26ms/step - loss: 2.8640 - petal_length_output_loss: 1.4342 - petal_width_output_loss: 0.2495 - species_out-output_loss: 1.1803 - val_loss: 3.8498 - val_petal_length_output_loss: 2.1739 - val_petal_width_output_loss: 0.7084 - val_species_out-output_loss: 0.9675\n",
      "Epoch 56/100\n",
      "4/4 [==============================] - 0s 23ms/step - loss: 2.8183 - petal_length_output_loss: 1.4108 - petal_width_output_loss: 0.2434 - species_out-output_loss: 1.1640 - val_loss: 3.8187 - val_petal_length_output_loss: 2.1487 - val_petal_width_output_loss: 0.6924 - val_species_out-output_loss: 0.9776\n",
      "Epoch 57/100\n",
      "4/4 [==============================] - 0s 23ms/step - loss: 2.7763 - petal_length_output_loss: 1.3888 - petal_width_output_loss: 0.2377 - species_out-output_loss: 1.1498 - val_loss: 3.8209 - val_petal_length_output_loss: 2.1420 - val_petal_width_output_loss: 0.6873 - val_species_out-output_loss: 0.9916\n",
      "Epoch 58/100\n",
      "4/4 [==============================] - 0s 25ms/step - loss: 2.7331 - petal_length_output_loss: 1.3661 - petal_width_output_loss: 0.2311 - species_out-output_loss: 1.1359 - val_loss: 3.7613 - val_petal_length_output_loss: 2.1016 - val_petal_width_output_loss: 0.6607 - val_species_out-output_loss: 0.9990\n",
      "Epoch 59/100\n",
      "4/4 [==============================] - 0s 25ms/step - loss: 2.6950 - petal_length_output_loss: 1.3457 - petal_width_output_loss: 0.2245 - species_out-output_loss: 1.1248 - val_loss: 3.6296 - val_petal_length_output_loss: 2.0123 - val_petal_width_output_loss: 0.6188 - val_species_out-output_loss: 0.9984\n",
      "Epoch 60/100\n",
      "4/4 [==============================] - 0s 26ms/step - loss: 2.6489 - petal_length_output_loss: 1.3195 - petal_width_output_loss: 0.2171 - species_out-output_loss: 1.1124 - val_loss: 3.6342 - val_petal_length_output_loss: 2.0064 - val_petal_width_output_loss: 0.6162 - val_species_out-output_loss: 1.0116\n",
      "Epoch 61/100\n",
      "4/4 [==============================] - 0s 26ms/step - loss: 2.6135 - petal_length_output_loss: 1.3006 - petal_width_output_loss: 0.2124 - species_out-output_loss: 1.1005 - val_loss: 3.5441 - val_petal_length_output_loss: 1.9387 - val_petal_width_output_loss: 0.5906 - val_species_out-output_loss: 1.0148\n",
      "Epoch 62/100\n",
      "4/4 [==============================] - 0s 24ms/step - loss: 2.5682 - petal_length_output_loss: 1.2749 - petal_width_output_loss: 0.2064 - species_out-output_loss: 1.0870 - val_loss: 3.6039 - val_petal_length_output_loss: 1.9588 - val_petal_width_output_loss: 0.6101 - val_species_out-output_loss: 1.0349\n",
      "Epoch 63/100\n",
      "4/4 [==============================] - 0s 23ms/step - loss: 2.5289 - petal_length_output_loss: 1.2511 - petal_width_output_loss: 0.2024 - species_out-output_loss: 1.0754 - val_loss: 3.6150 - val_petal_length_output_loss: 1.9520 - val_petal_width_output_loss: 0.6137 - val_species_out-output_loss: 1.0492\n",
      "Epoch 64/100\n",
      "4/4 [==============================] - 0s 25ms/step - loss: 2.4904 - petal_length_output_loss: 1.2302 - petal_width_output_loss: 0.1983 - species_out-output_loss: 1.0619 - val_loss: 3.5570 - val_petal_length_output_loss: 1.9084 - val_petal_width_output_loss: 0.5925 - val_species_out-output_loss: 1.0561\n",
      "Epoch 65/100\n",
      "4/4 [==============================] - 0s 25ms/step - loss: 2.4510 - petal_length_output_loss: 1.2067 - petal_width_output_loss: 0.1919 - species_out-output_loss: 1.0525 - val_loss: 3.4585 - val_petal_length_output_loss: 1.8440 - val_petal_width_output_loss: 0.5557 - val_species_out-output_loss: 1.0587\n",
      "Epoch 66/100\n",
      "4/4 [==============================] - 0s 25ms/step - loss: 2.4169 - petal_length_output_loss: 1.1872 - petal_width_output_loss: 0.1865 - species_out-output_loss: 1.0431 - val_loss: 3.3455 - val_petal_length_output_loss: 1.7644 - val_petal_width_output_loss: 0.5228 - val_species_out-output_loss: 1.0582\n",
      "Epoch 67/100\n",
      "4/4 [==============================] - 0s 24ms/step - loss: 2.3781 - petal_length_output_loss: 1.1640 - petal_width_output_loss: 0.1816 - species_out-output_loss: 1.0325 - val_loss: 3.3787 - val_petal_length_output_loss: 1.7689 - val_petal_width_output_loss: 0.5348 - val_species_out-output_loss: 1.0750\n",
      "Epoch 68/100\n",
      "4/4 [==============================] - 0s 24ms/step - loss: 2.3390 - petal_length_output_loss: 1.1400 - petal_width_output_loss: 0.1772 - species_out-output_loss: 1.0217 - val_loss: 3.3548 - val_petal_length_output_loss: 1.7427 - val_petal_width_output_loss: 0.5275 - val_species_out-output_loss: 1.0845\n",
      "Epoch 69/100\n",
      "4/4 [==============================] - 0s 26ms/step - loss: 2.3036 - petal_length_output_loss: 1.1187 - petal_width_output_loss: 0.1735 - species_out-output_loss: 1.0113 - val_loss: 3.3262 - val_petal_length_output_loss: 1.7067 - val_petal_width_output_loss: 0.5258 - val_species_out-output_loss: 1.0937\n",
      "Epoch 70/100\n",
      "4/4 [==============================] - 0s 25ms/step - loss: 2.2689 - petal_length_output_loss: 1.0972 - petal_width_output_loss: 0.1707 - species_out-output_loss: 1.0010 - val_loss: 3.3310 - val_petal_length_output_loss: 1.6956 - val_petal_width_output_loss: 0.5281 - val_species_out-output_loss: 1.1073\n",
      "Epoch 71/100\n",
      "4/4 [==============================] - 0s 24ms/step - loss: 2.2361 - petal_length_output_loss: 1.0758 - petal_width_output_loss: 0.1683 - species_out-output_loss: 0.9920 - val_loss: 3.3258 - val_petal_length_output_loss: 1.6824 - val_petal_width_output_loss: 0.5238 - val_species_out-output_loss: 1.1195\n",
      "Epoch 72/100\n",
      "4/4 [==============================] - 0s 25ms/step - loss: 2.1994 - petal_length_output_loss: 1.0534 - petal_width_output_loss: 0.1630 - species_out-output_loss: 0.9829 - val_loss: 3.2526 - val_petal_length_output_loss: 1.6385 - val_petal_width_output_loss: 0.4914 - val_species_out-output_loss: 1.1227\n",
      "Epoch 73/100\n",
      "4/4 [==============================] - 0s 25ms/step - loss: 2.1654 - petal_length_output_loss: 1.0326 - petal_width_output_loss: 0.1579 - species_out-output_loss: 0.9748 - val_loss: 3.1421 - val_petal_length_output_loss: 1.5641 - val_petal_width_output_loss: 0.4568 - val_species_out-output_loss: 1.1212\n",
      "Epoch 74/100\n",
      "4/4 [==============================] - 0s 26ms/step - loss: 2.1335 - petal_length_output_loss: 1.0123 - petal_width_output_loss: 0.1542 - species_out-output_loss: 0.9670 - val_loss: 3.0811 - val_petal_length_output_loss: 1.5213 - val_petal_width_output_loss: 0.4352 - val_species_out-output_loss: 1.1246\n",
      "Epoch 75/100\n",
      "4/4 [==============================] - 0s 26ms/step - loss: 2.1021 - petal_length_output_loss: 0.9924 - petal_width_output_loss: 0.1510 - species_out-output_loss: 0.9587 - val_loss: 3.0478 - val_petal_length_output_loss: 1.4875 - val_petal_width_output_loss: 0.4298 - val_species_out-output_loss: 1.1305\n",
      "Epoch 76/100\n",
      "4/4 [==============================] - 0s 32ms/step - loss: 2.0718 - petal_length_output_loss: 0.9724 - petal_width_output_loss: 0.1494 - species_out-output_loss: 0.9500 - val_loss: 3.0962 - val_petal_length_output_loss: 1.4990 - val_petal_width_output_loss: 0.4505 - val_species_out-output_loss: 1.1467\n",
      "Epoch 77/100\n",
      "4/4 [==============================] - 0s 29ms/step - loss: 2.0391 - petal_length_output_loss: 0.9501 - petal_width_output_loss: 0.1477 - species_out-output_loss: 0.9413 - val_loss: 3.0773 - val_petal_length_output_loss: 1.4700 - val_petal_width_output_loss: 0.4523 - val_species_out-output_loss: 1.1550\n",
      "Epoch 78/100\n",
      "4/4 [==============================] - 0s 25ms/step - loss: 2.0092 - petal_length_output_loss: 0.9305 - petal_width_output_loss: 0.1458 - species_out-output_loss: 0.9328 - val_loss: 3.0550 - val_petal_length_output_loss: 1.4455 - val_petal_width_output_loss: 0.4462 - val_species_out-output_loss: 1.1633\n"
     ]
    },
    {
     "name": "stdout",
     "output_type": "stream",
     "text": [
      "Epoch 79/100\n",
      "4/4 [==============================] - 0s 25ms/step - loss: 1.9804 - petal_length_output_loss: 0.9124 - petal_width_output_loss: 0.1431 - species_out-output_loss: 0.9250 - val_loss: 2.9618 - val_petal_length_output_loss: 1.3884 - val_petal_width_output_loss: 0.4127 - val_species_out-output_loss: 1.1606\n",
      "Epoch 80/100\n",
      "4/4 [==============================] - 0s 24ms/step - loss: 1.9509 - petal_length_output_loss: 0.8931 - petal_width_output_loss: 0.1396 - species_out-output_loss: 0.9182 - val_loss: 2.9601 - val_petal_length_output_loss: 1.3821 - val_petal_width_output_loss: 0.4081 - val_species_out-output_loss: 1.1698\n",
      "Epoch 81/100\n",
      "4/4 [==============================] - 0s 24ms/step - loss: 1.9232 - petal_length_output_loss: 0.8747 - petal_width_output_loss: 0.1385 - species_out-output_loss: 0.9101 - val_loss: 2.9679 - val_petal_length_output_loss: 1.3783 - val_petal_width_output_loss: 0.4092 - val_species_out-output_loss: 1.1804\n",
      "Epoch 82/100\n",
      "4/4 [==============================] - 0s 27ms/step - loss: 1.8969 - petal_length_output_loss: 0.8566 - petal_width_output_loss: 0.1372 - species_out-output_loss: 0.9030 - val_loss: 2.9896 - val_petal_length_output_loss: 1.3801 - val_petal_width_output_loss: 0.4163 - val_species_out-output_loss: 1.1932\n",
      "Epoch 83/100\n",
      "4/4 [==============================] - 0s 26ms/step - loss: 1.8681 - petal_length_output_loss: 0.8375 - petal_width_output_loss: 0.1353 - species_out-output_loss: 0.8953 - val_loss: 2.9034 - val_petal_length_output_loss: 1.3197 - val_petal_width_output_loss: 0.3929 - val_species_out-output_loss: 1.1908\n",
      "Epoch 84/100\n",
      "4/4 [==============================] - 0s 24ms/step - loss: 1.8423 - petal_length_output_loss: 0.8203 - petal_width_output_loss: 0.1338 - species_out-output_loss: 0.8882 - val_loss: 2.9016 - val_petal_length_output_loss: 1.3076 - val_petal_width_output_loss: 0.3937 - val_species_out-output_loss: 1.2003\n",
      "Epoch 85/100\n",
      "4/4 [==============================] - 0s 24ms/step - loss: 1.8170 - petal_length_output_loss: 0.8035 - petal_width_output_loss: 0.1325 - species_out-output_loss: 0.8810 - val_loss: 2.8638 - val_petal_length_output_loss: 1.2833 - val_petal_width_output_loss: 0.3760 - val_species_out-output_loss: 1.2045\n",
      "Epoch 86/100\n",
      "4/4 [==============================] - 0s 24ms/step - loss: 1.7966 - petal_length_output_loss: 0.7897 - petal_width_output_loss: 0.1316 - species_out-output_loss: 0.8753 - val_loss: 2.7532 - val_petal_length_output_loss: 1.2053 - val_petal_width_output_loss: 0.3508 - val_species_out-output_loss: 1.1971\n",
      "Epoch 87/100\n",
      "4/4 [==============================] - 0s 35ms/step - loss: 1.7676 - petal_length_output_loss: 0.7710 - petal_width_output_loss: 0.1292 - species_out-output_loss: 0.8674 - val_loss: 2.8093 - val_petal_length_output_loss: 1.2260 - val_petal_width_output_loss: 0.3703 - val_species_out-output_loss: 1.2130\n",
      "Epoch 88/100\n",
      "4/4 [==============================] - 0s 25ms/step - loss: 1.7431 - petal_length_output_loss: 0.7531 - petal_width_output_loss: 0.1296 - species_out-output_loss: 0.8604 - val_loss: 2.8597 - val_petal_length_output_loss: 1.2449 - val_petal_width_output_loss: 0.3866 - val_species_out-output_loss: 1.2283\n",
      "Epoch 89/100\n",
      "4/4 [==============================] - 0s 26ms/step - loss: 1.7211 - petal_length_output_loss: 0.7379 - petal_width_output_loss: 0.1298 - species_out-output_loss: 0.8534 - val_loss: 2.8312 - val_petal_length_output_loss: 1.2203 - val_petal_width_output_loss: 0.3793 - val_species_out-output_loss: 1.2316\n",
      "Epoch 90/100\n",
      "4/4 [==============================] - 0s 25ms/step - loss: 1.6981 - petal_length_output_loss: 0.7225 - petal_width_output_loss: 0.1287 - species_out-output_loss: 0.8468 - val_loss: 2.7965 - val_petal_length_output_loss: 1.1933 - val_petal_width_output_loss: 0.3690 - val_species_out-output_loss: 1.2343\n",
      "Epoch 91/100\n",
      "4/4 [==============================] - 0s 25ms/step - loss: 1.6772 - petal_length_output_loss: 0.7085 - petal_width_output_loss: 0.1281 - species_out-output_loss: 0.8405 - val_loss: 2.7597 - val_petal_length_output_loss: 1.1667 - val_petal_width_output_loss: 0.3561 - val_species_out-output_loss: 1.2368\n",
      "Epoch 92/100\n",
      "4/4 [==============================] - 0s 24ms/step - loss: 1.6549 - petal_length_output_loss: 0.6940 - petal_width_output_loss: 0.1264 - species_out-output_loss: 0.8345 - val_loss: 2.6789 - val_petal_length_output_loss: 1.1090 - val_petal_width_output_loss: 0.3382 - val_species_out-output_loss: 1.2317\n",
      "Epoch 93/100\n",
      "4/4 [==============================] - 0s 25ms/step - loss: 1.6375 - petal_length_output_loss: 0.6824 - petal_width_output_loss: 0.1267 - species_out-output_loss: 0.8284 - val_loss: 2.7070 - val_petal_length_output_loss: 1.1174 - val_petal_width_output_loss: 0.3469 - val_species_out-output_loss: 1.2427\n",
      "Epoch 94/100\n",
      "4/4 [==============================] - 0s 26ms/step - loss: 1.6137 - petal_length_output_loss: 0.6666 - petal_width_output_loss: 0.1255 - species_out-output_loss: 0.8216 - val_loss: 2.6298 - val_petal_length_output_loss: 1.0616 - val_petal_width_output_loss: 0.3307 - val_species_out-output_loss: 1.2375\n",
      "Epoch 95/100\n",
      "4/4 [==============================] - 0s 26ms/step - loss: 1.5961 - petal_length_output_loss: 0.6554 - petal_width_output_loss: 0.1250 - species_out-output_loss: 0.8157 - val_loss: 2.5993 - val_petal_length_output_loss: 1.0380 - val_petal_width_output_loss: 0.3230 - val_species_out-output_loss: 1.2383\n",
      "Epoch 96/100\n",
      "4/4 [==============================] - 0s 25ms/step - loss: 1.5755 - petal_length_output_loss: 0.6414 - petal_width_output_loss: 0.1242 - species_out-output_loss: 0.8099 - val_loss: 2.5723 - val_petal_length_output_loss: 1.0138 - val_petal_width_output_loss: 0.3185 - val_species_out-output_loss: 1.2400\n",
      "Epoch 97/100\n",
      "4/4 [==============================] - 0s 24ms/step - loss: 1.5576 - petal_length_output_loss: 0.6301 - petal_width_output_loss: 0.1239 - species_out-output_loss: 0.8036 - val_loss: 2.5321 - val_petal_length_output_loss: 0.9781 - val_petal_width_output_loss: 0.3161 - val_species_out-output_loss: 1.2379\n",
      "Epoch 98/100\n",
      "4/4 [==============================] - 0s 26ms/step - loss: 1.5415 - petal_length_output_loss: 0.6195 - petal_width_output_loss: 0.1243 - species_out-output_loss: 0.7977 - val_loss: 2.5111 - val_petal_length_output_loss: 0.9622 - val_petal_width_output_loss: 0.3105 - val_species_out-output_loss: 1.2384\n",
      "Epoch 99/100\n",
      "4/4 [==============================] - 0s 25ms/step - loss: 1.5222 - petal_length_output_loss: 0.6062 - petal_width_output_loss: 0.1241 - species_out-output_loss: 0.7918 - val_loss: 2.5637 - val_petal_length_output_loss: 0.9850 - val_petal_width_output_loss: 0.3281 - val_species_out-output_loss: 1.2506\n",
      "Epoch 100/100\n",
      "4/4 [==============================] - 0s 24ms/step - loss: 1.5052 - petal_length_output_loss: 0.5951 - petal_width_output_loss: 0.1243 - species_out-output_loss: 0.7858 - val_loss: 2.5701 - val_petal_length_output_loss: 0.9872 - val_petal_width_output_loss: 0.3269 - val_species_out-output_loss: 1.2560\n"
     ]
    }
   ],
   "source": [
    "hist = model.fit(X, [y1, y2, y3], epochs=100, validation_split=0.2)"
   ]
  },
  {
   "cell_type": "markdown",
   "metadata": {
    "slideshow": {
     "slide_type": "slide"
    }
   },
   "source": [
    "##### 결과 시각화"
   ]
  },
  {
   "cell_type": "code",
   "execution_count": 9,
   "metadata": {
    "ExecuteTime": {
     "end_time": "2023-03-03T02:25:00.198761Z",
     "start_time": "2023-03-03T02:25:00.183767Z"
    }
   },
   "outputs": [
    {
     "data": {
      "text/plain": [
       "dict_keys(['loss', 'petal_length_output_loss', 'petal_width_output_loss', 'species_out-output_loss', 'val_loss', 'val_petal_length_output_loss', 'val_petal_width_output_loss', 'val_species_out-output_loss'])"
      ]
     },
     "execution_count": 9,
     "metadata": {},
     "output_type": "execute_result"
    }
   ],
   "source": [
    "hist.history.keys()"
   ]
  },
  {
   "cell_type": "markdown",
   "metadata": {
    "slideshow": {
     "slide_type": "fragment"
    }
   },
   "source": [
    "##### 새로운 데이터 추론"
   ]
  },
  {
   "cell_type": "code",
   "execution_count": 10,
   "metadata": {
    "ExecuteTime": {
     "end_time": "2023-03-03T02:25:01.993815Z",
     "start_time": "2023-03-03T02:25:01.693820Z"
    }
   },
   "outputs": [
    {
     "name": "stdout",
     "output_type": "stream",
     "text": [
      "1/1 [==============================] - 0s 190ms/step\n"
     ]
    },
    {
     "data": {
      "text/plain": [
       "[array([[2.216855 ],\n",
       "        [2.5271528],\n",
       "        [2.0602136],\n",
       "        [2.0488122],\n",
       "        [1.9833859],\n",
       "        [2.1400268],\n",
       "        [1.7157109],\n",
       "        [2.2054532],\n",
       "        [2.0260084],\n",
       "        [2.416119 ]], dtype=float32),\n",
       " array([[0.3266548 ],\n",
       "        [0.59400487],\n",
       "        [0.31499493],\n",
       "        [0.3315931 ],\n",
       "        [0.1871502 ],\n",
       "        [0.19880976],\n",
       "        [0.09743913],\n",
       "        [0.3432526 ],\n",
       "        [0.3647884 ],\n",
       "        [0.51595366]], dtype=float32),\n",
       " array([[0.61320496, 0.2872319 , 0.09956314],\n",
       "        [0.5070337 , 0.3461231 , 0.14684318],\n",
       "        [0.58843476, 0.30236802, 0.1091972 ],\n",
       "        [0.57555246, 0.30990073, 0.11454684],\n",
       "        [0.65088695, 0.26451755, 0.0845954 ],\n",
       "        [0.6737759 , 0.24960512, 0.07661891],\n",
       "        [0.65188944, 0.26445064, 0.08365989],\n",
       "        [0.60061634, 0.2947975 , 0.10458623],\n",
       "        [0.54941565, 0.32481685, 0.12576751],\n",
       "        [0.5343683 , 0.33192927, 0.13370252]], dtype=float32)]"
      ]
     },
     "execution_count": 10,
     "metadata": {},
     "output_type": "execute_result"
    }
   ],
   "source": [
    "new_x = X[:10]\n",
    "pred = model.predict(new_x)\n",
    "pred # 세 layer의 출력결과를 리스트로 묶어서 출ㄹ"
   ]
  },
  {
   "cell_type": "code",
   "execution_count": 11,
   "metadata": {
    "ExecuteTime": {
     "end_time": "2023-03-03T02:25:02.778285Z",
     "start_time": "2023-03-03T02:25:02.759253Z"
    },
    "scrolled": true
   },
   "outputs": [
    {
     "name": "stdout",
     "output_type": "stream",
     "text": [
      "[2.216855] [0.3266548] [0.61320496 0.2872319  0.09956314] 0\n",
      "[2.5271528] [0.59400487] [0.5070337  0.3461231  0.14684318] 0\n",
      "[2.0602136] [0.31499493] [0.58843476 0.30236802 0.1091972 ] 0\n",
      "[2.0488122] [0.3315931] [0.57555246 0.30990073 0.11454684] 0\n",
      "[1.9833859] [0.1871502] [0.65088695 0.26451755 0.0845954 ] 0\n",
      "[2.1400268] [0.19880976] [0.6737759  0.24960512 0.07661891] 0\n",
      "[1.7157109] [0.09743913] [0.65188944 0.26445064 0.08365989] 0\n",
      "[2.2054532] [0.3432526] [0.60061634 0.2947975  0.10458623] 0\n",
      "[2.0260084] [0.3647884] [0.54941565 0.32481685 0.12576751] 0\n",
      "[2.416119] [0.51595366] [0.5343683  0.33192927 0.13370252] 0\n"
     ]
    }
   ],
   "source": [
    "for pl, pw, s in zip(pred[0], pred[1], pred[2]):\n",
    "    print(pl, pw, s, s.argmax(-1))"
   ]
  },
  {
   "cell_type": "code",
   "execution_count": 12,
   "metadata": {
    "ExecuteTime": {
     "end_time": "2023-03-03T02:25:10.105427Z",
     "start_time": "2023-03-03T02:25:10.082429Z"
    }
   },
   "outputs": [
    {
     "data": {
      "text/plain": [
       "array([0, 0, 0, 0, 0, 0, 0, 0, 0, 0])"
      ]
     },
     "execution_count": 12,
     "metadata": {},
     "output_type": "execute_result"
    }
   ],
   "source": [
    "y[:10]"
   ]
  },
  {
   "cell_type": "markdown",
   "metadata": {
    "slideshow": {
     "slide_type": "slide"
    }
   },
   "source": [
    "## 다중 입력 모델\n",
    "- 가정 \n",
    "    - IRIS 꽃 데이터 + 꽃의 사진을 입력해서 꽃의 종류를 예측한다.\n",
    "- X: 꽃 데이터, 꽃 사진\n",
    "- y: 꽃 종류"
   ]
  },
  {
   "cell_type": "markdown",
   "metadata": {
    "slideshow": {
     "slide_type": "fragment"
    }
   },
   "source": [
    "##### 데이터 로드"
   ]
  },
  {
   "cell_type": "code",
   "execution_count": 13,
   "metadata": {
    "ExecuteTime": {
     "end_time": "2023-03-03T02:26:20.481705Z",
     "start_time": "2023-03-03T02:26:20.457695Z"
    },
    "scrolled": true,
    "slideshow": {
     "slide_type": "fragment"
    }
   },
   "outputs": [
    {
     "data": {
      "text/plain": [
       "((150, 4), (150,))"
      ]
     },
     "execution_count": 13,
     "metadata": {},
     "output_type": "execute_result"
    }
   ],
   "source": [
    "X, y = load_iris(return_X_y=True)\n",
    "X.shape, y.shape"
   ]
  },
  {
   "cell_type": "code",
   "execution_count": 14,
   "metadata": {
    "ExecuteTime": {
     "end_time": "2023-03-03T02:26:21.533275Z",
     "start_time": "2023-03-03T02:26:21.037266Z"
    },
    "slideshow": {
     "slide_type": "fragment"
    }
   },
   "outputs": [
    {
     "data": {
      "text/plain": [
       "((60000, 28, 28), (150, 28, 28))"
      ]
     },
     "execution_count": 14,
     "metadata": {},
     "output_type": "execute_result"
    }
   ],
   "source": [
    "(X_train, _), (_, _) = keras.datasets.mnist.load_data()\n",
    "X_img = X_train[:150]\n",
    "X_train.shape, X_img.shape"
   ]
  },
  {
   "cell_type": "markdown",
   "metadata": {
    "slideshow": {
     "slide_type": "slide"
    }
   },
   "source": [
    "##### 모델생성, 컴파일"
   ]
  },
  {
   "cell_type": "code",
   "execution_count": 16,
   "metadata": {
    "ExecuteTime": {
     "end_time": "2023-03-03T02:32:26.502682Z",
     "start_time": "2023-03-03T02:32:26.034647Z"
    }
   },
   "outputs": [],
   "source": [
    "# table 데이터와 영상데이터 두개를 입력으로 받는 모델\n",
    "# table 데이터는 Dense Layer를, 영상데이터는 Conv layer를 이용해 Feature Extraction을 처리\n",
    "# 추출된 두가지 특징을 합쳐서 품종을 추론하는 모델\n",
    "\n",
    "iris_info_tensor = layers.Input(shape=(4, ))\n",
    "x1 = layers.Dense(units=32, activation='relu')(iris_info_tensor)\n",
    "x1 = layers.Dense(units=16, activation='relu')(x1)\n",
    "\n",
    "\n",
    "iris_img_tensor = layers.Input(shape=(28, 28, 1))\n",
    "x2 = layers.Conv2D(filters=32, kernel_size=3, padding='same', activation='relu')(iris_img_tensor)\n",
    "x2 = layers.Conv2D(filters=32, kernel_size=3, padding='same', activation='relu')(x2)\n",
    "x2 = layers.MaxPooling2D(padding='same')(x2)\n",
    "\n",
    "x2 = layers.Conv2D(filters=64, kernel_size=3, padding='same', activation='relu')(x2)\n",
    "x2 = layers.Conv2D(filters=64, kernel_size=3, padding='same', activation='relu')(x2)\n",
    "x2 = layers.MaxPooling2D(padding='same')(x2)\n",
    "x2 = layers.Flatten()(x2)\n",
    "\n",
    "# x1과 x2를 합치기 -> 둘다 1차원 배열 ==> info의 특징과 image의 특징을 합친다.\n",
    "x3 = layers.Concatenate()([x1, x2])  # layers.concatenate([x1, x2])\n",
    "\n",
    "# output layer\n",
    "output_tensor = layers.Dense(units=3, activation='softmax')(x3)\n",
    "\n",
    "# 모델 생성\n",
    "model2 = models.Model([iris_info_tensor, iris_img_tensor], output_tensor)\n",
    "\n",
    "model2.compile(optimizer='adam', loss='sparse_categorical_crossentropy', metrics=['accuracy'])"
   ]
  },
  {
   "cell_type": "code",
   "execution_count": 17,
   "metadata": {
    "ExecuteTime": {
     "end_time": "2023-03-03T02:32:36.430040Z",
     "start_time": "2023-03-03T02:32:36.409042Z"
    }
   },
   "outputs": [
    {
     "data": {
      "text/plain": [
       "(150, 28, 28)"
      ]
     },
     "execution_count": 17,
     "metadata": {},
     "output_type": "execute_result"
    }
   ],
   "source": [
    "X_img.shape"
   ]
  },
  {
   "cell_type": "code",
   "execution_count": 19,
   "metadata": {
    "ExecuteTime": {
     "end_time": "2023-03-03T02:33:55.382341Z",
     "start_time": "2023-03-03T02:33:55.362304Z"
    }
   },
   "outputs": [
    {
     "data": {
      "text/plain": [
       "(150, 28, 28, 1)"
      ]
     },
     "execution_count": 19,
     "metadata": {},
     "output_type": "execute_result"
    }
   ],
   "source": [
    "iris_img = X_img[..., np.newaxis]\n",
    "iris_img.shape"
   ]
  },
  {
   "cell_type": "code",
   "execution_count": 21,
   "metadata": {
    "ExecuteTime": {
     "end_time": "2023-03-03T02:34:49.290929Z",
     "start_time": "2023-03-03T02:34:47.960931Z"
    }
   },
   "outputs": [
    {
     "name": "stdout",
     "output_type": "stream",
     "text": [
      "Epoch 1/3\n",
      "5/5 [==============================] - 0s 79ms/step - loss: 1.1470 - accuracy: 0.4600\n",
      "Epoch 2/3\n",
      "5/5 [==============================] - 0s 76ms/step - loss: 1.0591 - accuracy: 0.4867\n",
      "Epoch 3/3\n",
      "5/5 [==============================] - 0s 80ms/step - loss: 0.8822 - accuracy: 0.6200\n"
     ]
    }
   ],
   "source": [
    "hist = model2.fit([X, iris_img],\n",
    "          y,\n",
    "          epochs=3,\n",
    "          validation_steps=0.2)"
   ]
  },
  {
   "cell_type": "code",
   "execution_count": 22,
   "metadata": {
    "ExecuteTime": {
     "end_time": "2023-03-03T02:36:26.972432Z",
     "start_time": "2023-03-03T02:36:26.193821Z"
    }
   },
   "outputs": [
    {
     "data": {
      "image/png": "[encoded data removed]",
      "text/plain": [
       "<IPython.core.display.Image object>"
      ]
     },
     "execution_count": 22,
     "metadata": {},
     "output_type": "execute_result"
    }
   ],
   "source": [
    "keras.utils.plot_model(model2, show_shapes=True)"
   ]
  },
  {
   "cell_type": "markdown",
   "metadata": {},
   "source": [
    "## Subclass 방식\n",
    "- 모델을 class로 구현\n",
    "- \\_\\_init\\_\\_() 메소드에서 모델에 필요한 자원들(layer들)을 생성\n",
    "- call() 메소드에서 모델 구조 정의"
   ]
  },
  {
   "cell_type": "code",
   "execution_count": 1,
   "metadata": {
    "ExecuteTime": {
     "end_time": "2023-03-03T03:09:43.495403Z",
     "start_time": "2023-03-03T03:09:33.362155Z"
    }
   },
   "outputs": [
    {
     "data": {
      "text/plain": [
       "((60000, 28, 28, 1), (10000, 28, 28, 1))"
      ]
     },
     "execution_count": 1,
     "metadata": {},
     "output_type": "execute_result"
    }
   ],
   "source": [
    "import tensorflow as tf\n",
    "from tensorflow import keras\n",
    "from tensorflow.keras import layers, models\n",
    "\n",
    "(X_train, y_train), (X_test, y_test) = keras.datasets.mnist.load_data()\n",
    "X_train=X_train.astype('float32')/255\n",
    "X_test = X_test.astype('float32')/255\n",
    "\n",
    "X_train = X_train[..., np.newaxis]\n",
    "X_test = X_test[..., np.newaxis]\n",
    "X_train.shape, X_test.shape"
   ]
  },
  {
   "cell_type": "code",
   "execution_count": 2,
   "metadata": {
    "ExecuteTime": {
     "end_time": "2023-03-03T03:09:43.527396Z",
     "start_time": "2023-03-03T03:09:43.503394Z"
    }
   },
   "outputs": [],
   "source": [
    "class MnistModel(models.Model):\n",
    "    \n",
    "    def __init__(self):\n",
    "        super().__init__()\n",
    "        self.conv_block1 = keras.Sequential([\n",
    "            layers.Conv2D(filters=32, kernel_size=3, padding='same', activation='relu'),\n",
    "            layers.Conv2D(filters=32, kernel_size=3, padding='same', activation='relu'),\n",
    "            layers.MaxPooling2D(padding='same')\n",
    "        ])\n",
    "        \n",
    "        self.conv_block2 = keras.Sequential([\n",
    "            layers.Conv2D(filters=64, kernel_size=3, padding='same', activation='relu'),\n",
    "            layers.Conv2D(filters=64, kernel_size=3, padding='same', activation='relu'),\n",
    "            layers.MaxPooling2D(padding='same')\n",
    "        ])\n",
    "        \n",
    "        self.flatten = layers.Flatten()\n",
    "        self.output_layer = layers.Dense(units=10, activation='softmax')\n",
    "        \n",
    "        \n",
    "    \n",
    "    def call(self, x):\n",
    "        # input data를 받아서 forward propagation을 처리 그 추론 결과를 반환\n",
    "        x = self.conv_block1(x)\n",
    "        x = self.conv_block2(x)\n",
    "        x = self.flatten(x)\n",
    "        output_tensor = self.output_layer(x)\n",
    "        return output_tensor"
   ]
  },
  {
   "cell_type": "code",
   "execution_count": 3,
   "metadata": {
    "ExecuteTime": {
     "end_time": "2023-03-03T03:15:08.412996Z",
     "start_time": "2023-03-03T03:09:43.533398Z"
    }
   },
   "outputs": [
    {
     "name": "stdout",
     "output_type": "stream",
     "text": [
      "Epoch 1/3\n",
      "1407/1407 [==============================] - 109s 76ms/step - loss: 0.1392 - val_loss: 0.0788\n",
      "Epoch 2/3\n",
      "1407/1407 [==============================] - 110s 78ms/step - loss: 0.0440 - val_loss: 0.0518\n",
      "Epoch 3/3\n",
      "1407/1407 [==============================] - 106s 75ms/step - loss: 0.0300 - val_loss: 0.0403\n"
     ]
    }
   ],
   "source": [
    "# 모델 생성\n",
    "model = MnistModel()\n",
    "\n",
    "# 컴파일\n",
    "model.compile(optimizer='adam', loss='sparse_categorical_crossentropy')\n",
    "# 학습\n",
    "hist = model.fit(X_train, y_train, epochs=3 , validation_split=0.25)"
   ]
  },
  {
   "cell_type": "code",
   "execution_count": 4,
   "metadata": {
    "ExecuteTime": {
     "end_time": "2023-03-03T03:16:31.655873Z",
     "start_time": "2023-03-03T03:16:31.638844Z"
    }
   },
   "outputs": [
    {
     "data": {
      "text/plain": [
       "1406.25"
      ]
     },
     "execution_count": 4,
     "metadata": {},
     "output_type": "execute_result"
    }
   ],
   "source": [
    "60000*0.75/32"
   ]
  }
 ],
 "metadata": {
  "kernelspec": {
   "display_name": "Python 3 (ipykernel)",
   "language": "python",
   "name": "python3"
  },
  "language_info": {
   "codemirror_mode": {
    "name": "ipython",
    "version": 3
   },
   "file_extension": ".py",
   "mimetype": "text/x-python",
   "name": "python",
   "nbconvert_exporter": "python",
   "pygments_lexer": "ipython3",
   "version": "3.9.16"
  },
  "toc": {
   "base_numbering": 1,
   "nav_menu": {},
   "number_sections": true,
   "sideBar": true,
   "skip_h1_title": false,
   "title_cell": "Table of Contents",
   "title_sidebar": "Contents",
   "toc_cell": false,
   "toc_position": {},
   "toc_section_display": true,
   "toc_window_display": false
  },
  "varInspector": {
   "cols": {
    "lenName": 16,
    "lenType": 16,
    "lenVar": 40
   },
   "kernels_config": {
    "python": {
     "delete_cmd_postfix": "",
     "delete_cmd_prefix": "del ",
     "library": "var_list.py",
     "varRefreshCmd": "print(var_dic_list())"
    },
    "r": {
     "delete_cmd_postfix": ") ",
     "delete_cmd_prefix": "rm(",
     "library": "var_list.r",
     "varRefreshCmd": "cat(var_dic_list()) "
    }
   },
   "types_to_exclude": [
    "module",
    "function",
    "builtin_function_or_method",
    "instance",
    "_Feature"
   ],
   "window_display": false
  }
 },
 "nbformat": 4,
 "nbformat_minor": 4
}
