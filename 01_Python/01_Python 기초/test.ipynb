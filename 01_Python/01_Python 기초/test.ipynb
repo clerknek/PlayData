{
 "cells": [
  {
   "cell_type": "markdown",
   "id": "a26a19b3",
   "metadata": {},
   "source": [
    "# 마크다운 테스트\n",
    "~~취소선~~\n",
    "_기울이기_\n",
    "**굵은 글씨**\n"
   ]
  },
  {
   "cell_type": "code",
   "execution_count": 6,
   "id": "1572a1f6",
   "metadata": {},
   "outputs": [
    {
     "data": {
      "text/plain": [
       "4"
      ]
     },
     "execution_count": 6,
     "metadata": {},
     "output_type": "execute_result"
    }
   ],
   "source": [
    "2+2"
   ]
  },
  {
   "cell_type": "markdown",
   "id": "2c8f61ae",
   "metadata": {},
   "source": [
    "## 마크모드"
   ]
  },
  {
   "cell_type": "code",
   "execution_count": 6,
   "id": "7fb8f62c",
   "metadata": {},
   "outputs": [
    {
     "data": {
      "text/plain": [
       "4"
      ]
     },
     "execution_count": 6,
     "metadata": {},
     "output_type": "execute_result"
    }
   ],
   "source": [
    "2+2"
   ]
  },
  {
   "cell_type": "code",
   "execution_count": 1,
   "id": "94326053",
   "metadata": {},
   "outputs": [
    {
     "ename": "NameError",
     "evalue": "name 'name' is not defined",
     "output_type": "error",
     "traceback": [
      "\u001b[1;31m---------------------------------------------------------------------------\u001b[0m",
      "\u001b[1;31mNameError\u001b[0m                                 Traceback (most recent call last)",
      "\u001b[1;32m~\\AppData\\Local\\Temp\\ipykernel_18000\\3474671970.py\u001b[0m in \u001b[0;36m<module>\u001b[1;34m\u001b[0m\n\u001b[1;32m----> 1\u001b[1;33m \u001b[0mname\u001b[0m\u001b[1;33m\u001b[0m\u001b[1;33m\u001b[0m\u001b[0m\n\u001b[0m",
      "\u001b[1;31mNameError\u001b[0m: name 'name' is not defined"
     ]
    }
   ],
   "source": [
    "name"
   ]
  },
  {
   "cell_type": "code",
   "execution_count": 2,
   "id": "7a914d8a",
   "metadata": {},
   "outputs": [],
   "source": [
    "name=None\n",
    "name"
   ]
  },
  {
   "cell_type": "code",
   "execution_count": 3,
   "id": "0a22485b",
   "metadata": {},
   "outputs": [
    {
     "data": {
      "text/plain": [
       "\"jong's\""
      ]
     },
     "execution_count": 3,
     "metadata": {},
     "output_type": "execute_result"
    }
   ],
   "source": [
    "a = \"jong's\"\n",
    "a"
   ]
  },
  {
   "cell_type": "code",
   "execution_count": 4,
   "id": "d0e781fb",
   "metadata": {},
   "outputs": [
    {
     "data": {
      "text/plain": [
       "str"
      ]
     },
     "execution_count": 4,
     "metadata": {},
     "output_type": "execute_result"
    }
   ],
   "source": [
    "type(a)"
   ]
  },
  {
   "cell_type": "code",
   "execution_count": 5,
   "id": "0b12d438",
   "metadata": {},
   "outputs": [
    {
     "data": {
      "text/plain": [
       "'jong'"
      ]
     },
     "execution_count": 5,
     "metadata": {},
     "output_type": "execute_result"
    }
   ],
   "source": [
    "b = \"jong\"\n",
    "b"
   ]
  },
  {
   "cell_type": "code",
   "execution_count": 7,
   "id": "438c123c",
   "metadata": {},
   "outputs": [],
   "source": [
    "a, b, c = 30, 20, 10"
   ]
  },
  {
   "cell_type": "code",
   "execution_count": 8,
   "id": "dd0ea601",
   "metadata": {},
   "outputs": [
    {
     "data": {
      "text/plain": [
       "10"
      ]
     },
     "execution_count": 8,
     "metadata": {},
     "output_type": "execute_result"
    }
   ],
   "source": [
    "c"
   ]
  },
  {
   "cell_type": "code",
   "execution_count": 9,
   "id": "04c62dde",
   "metadata": {
    "scrolled": true
   },
   "outputs": [
    {
     "ename": "TypeError",
     "evalue": "unsupported operand type(s) for +: 'NoneType' and 'int'",
     "output_type": "error",
     "traceback": [
      "\u001b[1;31m---------------------------------------------------------------------------\u001b[0m",
      "\u001b[1;31mTypeError\u001b[0m                                 Traceback (most recent call last)",
      "\u001b[1;32m~\\AppData\\Local\\Temp\\ipykernel_18000\\3863227520.py\u001b[0m in \u001b[0;36m<module>\u001b[1;34m\u001b[0m\n\u001b[0;32m      1\u001b[0m \u001b[0mname\u001b[0m \u001b[1;33m=\u001b[0m \u001b[1;32mNone\u001b[0m\u001b[1;33m\u001b[0m\u001b[1;33m\u001b[0m\u001b[0m\n\u001b[0;32m      2\u001b[0m \u001b[0mb\u001b[0m \u001b[1;33m=\u001b[0m \u001b[1;36m10\u001b[0m\u001b[1;33m\u001b[0m\u001b[1;33m\u001b[0m\u001b[0m\n\u001b[1;32m----> 3\u001b[1;33m \u001b[0mprint\u001b[0m\u001b[1;33m(\u001b[0m\u001b[0mname\u001b[0m \u001b[1;33m+\u001b[0m \u001b[0mb\u001b[0m\u001b[1;33m)\u001b[0m\u001b[1;33m\u001b[0m\u001b[1;33m\u001b[0m\u001b[0m\n\u001b[0m",
      "\u001b[1;31mTypeError\u001b[0m: unsupported operand type(s) for +: 'NoneType' and 'int'"
     ]
    }
   ],
   "source": [
    "name = None\n",
    "b = 10\n",
    "print(name + b)"
   ]
  },
  {
   "cell_type": "code",
   "execution_count": 10,
   "id": "69f30e11",
   "metadata": {},
   "outputs": [
    {
     "data": {
      "text/plain": [
       "False"
      ]
     },
     "execution_count": 10,
     "metadata": {},
     "output_type": "execute_result"
    }
   ],
   "source": [
    "bool(None)"
   ]
  },
  {
   "cell_type": "code",
   "execution_count": 11,
   "id": "3060be82",
   "metadata": {},
   "outputs": [
    {
     "data": {
      "text/plain": [
       "False"
      ]
     },
     "execution_count": 11,
     "metadata": {},
     "output_type": "execute_result"
    }
   ],
   "source": [
    "bool(0)"
   ]
  },
  {
   "cell_type": "code",
   "execution_count": 12,
   "id": "107f0ee3",
   "metadata": {},
   "outputs": [
    {
     "data": {
      "text/plain": [
       "False"
      ]
     },
     "execution_count": 12,
     "metadata": {},
     "output_type": "execute_result"
    }
   ],
   "source": [
    "bool()"
   ]
  },
  {
   "cell_type": "code",
   "execution_count": 13,
   "id": "ab4bb647",
   "metadata": {},
   "outputs": [
    {
     "data": {
      "text/plain": [
       "False"
      ]
     },
     "execution_count": 13,
     "metadata": {},
     "output_type": "execute_result"
    }
   ],
   "source": [
    "bool([])"
   ]
  },
  {
   "cell_type": "code",
   "execution_count": 1,
   "id": "83933257",
   "metadata": {
    "ExecuteTime": {
     "end_time": "2022-12-20T06:30:14.562321Z",
     "start_time": "2022-12-20T06:30:14.544321Z"
    }
   },
   "outputs": [
    {
     "name": "stdout",
     "output_type": "stream",
     "text": [
      "\n",
      "                 -----------\n",
      "               --------------\n",
      "              --         -----\n",
      "             -           -------\n",
      "                        ---------\n",
      "                    ----------------\n",
      "                ---------------------\n",
      "            ---------------------------\n",
      "    \n"
     ]
    }
   ],
   "source": [
    "print('''\n",
    "                 -----------\n",
    "               --------------\n",
    "              --         -----\n",
    "             -           -------\n",
    "                        ---------\n",
    "                    ----------------\n",
    "                ---------------------\n",
    "            ---------------------------\n",
    "    ''')"
   ]
  },
  {
   "cell_type": "code",
   "execution_count": 8,
   "id": "b2dc672d",
   "metadata": {
    "ExecuteTime": {
     "end_time": "2022-12-20T06:37:53.294474Z",
     "start_time": "2022-12-20T06:37:41.030921Z"
    }
   },
   "outputs": [
    {
     "name": "stdout",
     "output_type": "stream",
     "text": [
      "0 1 2 2 2 7\n",
      "1 0 0 0 0 1\n",
      "[]\n"
     ]
    }
   ],
   "source": [
    "l = [1, 1, 2, 2, 2, 8]\n",
    "s = input().split(\" \")\n",
    "for i in range(6):\n",
    "    if i != 5:\n",
    "        print(l[i]-int(s[i]), end = \" \")\n",
    "    else:\n",
    "        print(l[i]-int(s[i]))"
   ]
  },
  {
   "cell_type": "code",
   "execution_count": 15,
   "id": "853c543d",
   "metadata": {
    "ExecuteTime": {
     "end_time": "2022-12-20T06:56:38.243650Z",
     "start_time": "2022-12-20T06:56:24.863379Z"
    }
   },
   "outputs": [
    {
     "name": "stdout",
     "output_type": "stream",
     "text": [
      "11\n",
      "1 3 1 2 3 2 3 2 3 4 4\n",
      "5\n",
      "0\n"
     ]
    }
   ],
   "source": [
    "N = int(input())\n",
    "l = list(map(int, input().split(\" \")))\n",
    "if N == len(l):\n",
    "    v = int(input())\n",
    "    print(l.count(v))\n"
   ]
  },
  {
   "cell_type": "code",
   "execution_count": null,
   "id": "d8d3a34d",
   "metadata": {},
   "outputs": [],
   "source": [
    "c = int(input())\n",
    "\n",
    "n, m = int(input().split(\" \"))\n",
    "for i in range()"
   ]
  },
  {
   "cell_type": "code",
   "execution_count": 21,
   "id": "3062646e",
   "metadata": {
    "ExecuteTime": {
     "end_time": "2022-12-21T02:57:37.383058Z",
     "start_time": "2022-12-21T02:57:06.377529Z"
    },
    "scrolled": true
   },
   "outputs": [
    {
     "name": "stdout",
     "output_type": "stream",
     "text": [
      "3\n",
      "1\n",
      "4\n",
      "5\n",
      "7\n",
      "9\n",
      "6\n",
      "10\n",
      "11\n",
      "12\n",
      "13\n",
      "14\n",
      "15\n",
      "16\n",
      "17\n",
      "18\n",
      "19\n",
      "20\n",
      "21\n",
      "22\n",
      "23\n",
      "24\n",
      "25\n",
      "26\n",
      "27\n",
      "28\n",
      "29\n",
      "30\n",
      "2\n",
      "8\n"
     ]
    }
   ],
   "source": [
    "student = [i+1 for i in range(30)]\n",
    "\n",
    "for j in range(28):\n",
    "    a = int(input())\n",
    "    student.remove(a)\n",
    "\n",
    "for k in range(len(student)):\n",
    "    print(student[k])"
   ]
  },
  {
   "cell_type": "code",
   "execution_count": 32,
   "id": "1d533c7f",
   "metadata": {
    "ExecuteTime": {
     "end_time": "2022-12-21T05:03:12.539874Z",
     "start_time": "2022-12-21T05:03:07.427025Z"
    }
   },
   "outputs": [
    {
     "name": "stdout",
     "output_type": "stream",
     "text": [
      "1\n",
      "0 0 4 0 2 1\n",
      "0\n"
     ]
    }
   ],
   "source": [
    "import math\n",
    "\n",
    "test_case = int(input())\n",
    "for i in range(test_case):\n",
    "    x1, y1, r1, x2, y2, r2 = map(int, input().split())\n",
    "    d = math.sqrt((x1 - x2)**2 + (y1 - y2)**2)\n",
    "    pr = r1 + r2\n",
    "    mr = abs(r1 - r2)\n",
    "    if x1==x2 and y1==y2 and r1==r2:\n",
    "        print(-1)\n",
    "    elif mr < d and d < pr:\n",
    "        print(2)\n",
    "    elif d == pr:\n",
    "        print(1)\n",
    "    elif d == mr:\n",
    "        print(1)\n",
    "    elif d < mr:\n",
    "        print(0)\n",
    "    else: print(0)\n",
    "    "
   ]
  },
  {
   "cell_type": "code",
   "execution_count": 44,
   "id": "b7ded775",
   "metadata": {
    "ExecuteTime": {
     "end_time": "2022-12-21T06:11:24.351658Z",
     "start_time": "2022-12-21T06:11:22.815602Z"
    }
   },
   "outputs": [
    {
     "name": "stdout",
     "output_type": "stream",
     "text": [
      "3\n"
     ]
    },
    {
     "ename": "UnboundLocalError",
     "evalue": "local variable 'b' referenced before assignment",
     "output_type": "error",
     "traceback": [
      "\u001b[1;31m---------------------------------------------------------------------------\u001b[0m",
      "\u001b[1;31mUnboundLocalError\u001b[0m                         Traceback (most recent call last)",
      "\u001b[1;32m~\\AppData\\Local\\Temp\\ipykernel_14488\\3599226154.py\u001b[0m in \u001b[0;36m<module>\u001b[1;34m\u001b[0m\n\u001b[0;32m     12\u001b[0m     \u001b[1;32melse\u001b[0m\u001b[1;33m:\u001b[0m\u001b[1;33m\u001b[0m\u001b[1;33m\u001b[0m\u001b[0m\n\u001b[0;32m     13\u001b[0m         \u001b[1;32mreturn\u001b[0m \u001b[0mfibonacci\u001b[0m\u001b[1;33m(\u001b[0m\u001b[0mn\u001b[0m\u001b[1;33m-\u001b[0m\u001b[1;36m1\u001b[0m\u001b[1;33m)\u001b[0m \u001b[1;33m+\u001b[0m \u001b[0mfibonacci\u001b[0m\u001b[1;33m(\u001b[0m\u001b[0mn\u001b[0m\u001b[1;33m-\u001b[0m\u001b[1;36m2\u001b[0m\u001b[1;33m)\u001b[0m\u001b[1;33m;\u001b[0m\u001b[1;33m\u001b[0m\u001b[1;33m\u001b[0m\u001b[0m\n\u001b[1;32m---> 14\u001b[1;33m \u001b[0mfibonacci\u001b[0m\u001b[1;33m(\u001b[0m\u001b[0mtest_case\u001b[0m\u001b[1;33m)\u001b[0m\u001b[1;33m\u001b[0m\u001b[1;33m\u001b[0m\u001b[0m\n\u001b[0m",
      "\u001b[1;32m~\\AppData\\Local\\Temp\\ipykernel_14488\\3599226154.py\u001b[0m in \u001b[0;36mfibonacci\u001b[1;34m(n)\u001b[0m\n\u001b[0;32m     11\u001b[0m         \u001b[1;32mreturn\u001b[0m \u001b[1;36m1\u001b[0m\u001b[1;33m;\u001b[0m\u001b[1;33m\u001b[0m\u001b[1;33m\u001b[0m\u001b[0m\n\u001b[0;32m     12\u001b[0m     \u001b[1;32melse\u001b[0m\u001b[1;33m:\u001b[0m\u001b[1;33m\u001b[0m\u001b[1;33m\u001b[0m\u001b[0m\n\u001b[1;32m---> 13\u001b[1;33m         \u001b[1;32mreturn\u001b[0m \u001b[0mfibonacci\u001b[0m\u001b[1;33m(\u001b[0m\u001b[0mn\u001b[0m\u001b[1;33m-\u001b[0m\u001b[1;36m1\u001b[0m\u001b[1;33m)\u001b[0m \u001b[1;33m+\u001b[0m \u001b[0mfibonacci\u001b[0m\u001b[1;33m(\u001b[0m\u001b[0mn\u001b[0m\u001b[1;33m-\u001b[0m\u001b[1;36m2\u001b[0m\u001b[1;33m)\u001b[0m\u001b[1;33m;\u001b[0m\u001b[1;33m\u001b[0m\u001b[1;33m\u001b[0m\u001b[0m\n\u001b[0m\u001b[0;32m     14\u001b[0m \u001b[0mfibonacci\u001b[0m\u001b[1;33m(\u001b[0m\u001b[0mtest_case\u001b[0m\u001b[1;33m)\u001b[0m\u001b[1;33m\u001b[0m\u001b[1;33m\u001b[0m\u001b[0m\n",
      "\u001b[1;32m~\\AppData\\Local\\Temp\\ipykernel_14488\\3599226154.py\u001b[0m in \u001b[0;36mfibonacci\u001b[1;34m(n)\u001b[0m\n\u001b[0;32m     11\u001b[0m         \u001b[1;32mreturn\u001b[0m \u001b[1;36m1\u001b[0m\u001b[1;33m;\u001b[0m\u001b[1;33m\u001b[0m\u001b[1;33m\u001b[0m\u001b[0m\n\u001b[0;32m     12\u001b[0m     \u001b[1;32melse\u001b[0m\u001b[1;33m:\u001b[0m\u001b[1;33m\u001b[0m\u001b[1;33m\u001b[0m\u001b[0m\n\u001b[1;32m---> 13\u001b[1;33m         \u001b[1;32mreturn\u001b[0m \u001b[0mfibonacci\u001b[0m\u001b[1;33m(\u001b[0m\u001b[0mn\u001b[0m\u001b[1;33m-\u001b[0m\u001b[1;36m1\u001b[0m\u001b[1;33m)\u001b[0m \u001b[1;33m+\u001b[0m \u001b[0mfibonacci\u001b[0m\u001b[1;33m(\u001b[0m\u001b[0mn\u001b[0m\u001b[1;33m-\u001b[0m\u001b[1;36m2\u001b[0m\u001b[1;33m)\u001b[0m\u001b[1;33m;\u001b[0m\u001b[1;33m\u001b[0m\u001b[1;33m\u001b[0m\u001b[0m\n\u001b[0m\u001b[0;32m     14\u001b[0m \u001b[0mfibonacci\u001b[0m\u001b[1;33m(\u001b[0m\u001b[0mtest_case\u001b[0m\u001b[1;33m)\u001b[0m\u001b[1;33m\u001b[0m\u001b[1;33m\u001b[0m\u001b[0m\n",
      "\u001b[1;32m~\\AppData\\Local\\Temp\\ipykernel_14488\\3599226154.py\u001b[0m in \u001b[0;36mfibonacci\u001b[1;34m(n)\u001b[0m\n\u001b[0;32m      8\u001b[0m         \u001b[1;32mreturn\u001b[0m \u001b[1;36m0\u001b[0m\u001b[1;33m;\u001b[0m\u001b[1;33m\u001b[0m\u001b[1;33m\u001b[0m\u001b[0m\n\u001b[0;32m      9\u001b[0m     \u001b[1;32melif\u001b[0m \u001b[1;33m(\u001b[0m\u001b[0mn\u001b[0m \u001b[1;33m==\u001b[0m \u001b[1;36m1\u001b[0m\u001b[1;33m)\u001b[0m\u001b[1;33m:\u001b[0m\u001b[1;33m\u001b[0m\u001b[1;33m\u001b[0m\u001b[0m\n\u001b[1;32m---> 10\u001b[1;33m         \u001b[0mb\u001b[0m\u001b[1;33m+=\u001b[0m\u001b[1;36m1\u001b[0m\u001b[1;33m\u001b[0m\u001b[1;33m\u001b[0m\u001b[0m\n\u001b[0m\u001b[0;32m     11\u001b[0m         \u001b[1;32mreturn\u001b[0m \u001b[1;36m1\u001b[0m\u001b[1;33m;\u001b[0m\u001b[1;33m\u001b[0m\u001b[1;33m\u001b[0m\u001b[0m\n\u001b[0;32m     12\u001b[0m     \u001b[1;32melse\u001b[0m\u001b[1;33m:\u001b[0m\u001b[1;33m\u001b[0m\u001b[1;33m\u001b[0m\u001b[0m\n",
      "\u001b[1;31mUnboundLocalError\u001b[0m: local variable 'b' referenced before assignment"
     ]
    }
   ],
   "source": [
    "test_case = int(input())\n",
    "a = 0\n",
    "b = 0\n",
    "\n",
    "def fibonacci(n):\n",
    "    if (n == 0):\n",
    "        a+=1\n",
    "        return 0;\n",
    "    elif (n == 1):\n",
    "        b+=1\n",
    "        return 1;\n",
    "    else:\n",
    "        return fibonacci(n-1) + fibonacci(n-2);\n",
    "fibonacci(test_case)"
   ]
  },
  {
   "cell_type": "code",
   "execution_count": 46,
   "id": "df2a5024",
   "metadata": {
    "ExecuteTime": {
     "end_time": "2022-12-21T07:26:38.128233Z",
     "start_time": "2022-12-21T07:26:09.435372Z"
    }
   },
   "outputs": [
    {
     "name": "stdout",
     "output_type": "stream",
     "text": [
      "260000\n",
      "2\n",
      "2 60000\n",
      "2 70000\n",
      "Yes\n"
     ]
    }
   ],
   "source": [
    "x = int(input())\n",
    "n = int(input())\n",
    "total = 0\n",
    "for i in range(n):\n",
    "    a, b = map(int, input().split())\n",
    "    total += a*b\n",
    "if x == total:\n",
    "    print(\"Yes\")\n",
    "else:\n",
    "    print(\"No\")"
   ]
  },
  {
   "cell_type": "code",
   "execution_count": 53,
   "id": "34b96a33",
   "metadata": {
    "ExecuteTime": {
     "end_time": "2022-12-21T07:40:26.552105Z",
     "start_time": "2022-12-21T07:40:25.423489Z"
    }
   },
   "outputs": [
    {
     "name": "stdout",
     "output_type": "stream",
     "text": [
      "10\n",
      "4/1\n",
      "[2, 2, 2]\n"
     ]
    }
   ],
   "source": [
    "\n",
    "x = int(input())\n",
    "\n",
    "a = 1\n",
    "b = 1\n",
    "\n",
    "for i in range(x-1):\n",
    "    if b == 1:\n",
    "        b = a+1\n",
    "        a = 1\n",
    "    else:\n",
    "        b -= 1\n",
    "        a += 1\n",
    "print(f\"{a}/{b}\")"
   ]
  },
  {
   "cell_type": "code",
   "execution_count": null,
   "id": "fd1f9e3e",
   "metadata": {},
   "outputs": [],
   "source": [
    "a = 1\n",
    "b = 1\n",
    "c = 1\n",
    "\n",
    "while 1:\n",
    "    if a < x:\n",
    "        a += b\n",
    "        b += 1\n",
    "        c = 1\n",
    "    else: \n",
    "        c += 1"
   ]
  },
  {
   "cell_type": "code",
   "execution_count": 5,
   "id": "e80231e4",
   "metadata": {
    "ExecuteTime": {
     "end_time": "2023-01-02T06:06:33.214577Z",
     "start_time": "2023-01-02T06:06:25.090664Z"
    }
   },
   "outputs": [
    {
     "name": "stdout",
     "output_type": "stream",
     "text": [
      "5\n",
      "1,1\n",
      "2\n",
      "2,3\n",
      "5\n",
      "3\n"
     ]
    },
    {
     "ename": "ValueError",
     "evalue": "not enough values to unpack (expected 2, got 1)",
     "output_type": "error",
     "traceback": [
      "\u001b[1;31m---------------------------------------------------------------------------\u001b[0m",
      "\u001b[1;31mValueError\u001b[0m                                Traceback (most recent call last)",
      "\u001b[1;32m~\\AppData\\Local\\Temp\\ipykernel_10820\\2308512745.py\u001b[0m in \u001b[0;36m<module>\u001b[1;34m\u001b[0m\n\u001b[0;32m      1\u001b[0m \u001b[0mnum\u001b[0m \u001b[1;33m=\u001b[0m \u001b[0mint\u001b[0m\u001b[1;33m(\u001b[0m\u001b[0minput\u001b[0m\u001b[1;33m(\u001b[0m\u001b[1;33m)\u001b[0m\u001b[1;33m)\u001b[0m\u001b[1;33m\u001b[0m\u001b[1;33m\u001b[0m\u001b[0m\n\u001b[0;32m      2\u001b[0m \u001b[1;32mfor\u001b[0m \u001b[0mi\u001b[0m \u001b[1;32min\u001b[0m \u001b[0mrange\u001b[0m\u001b[1;33m(\u001b[0m\u001b[0mnum\u001b[0m\u001b[1;33m)\u001b[0m\u001b[1;33m:\u001b[0m\u001b[1;33m\u001b[0m\u001b[1;33m\u001b[0m\u001b[0m\n\u001b[1;32m----> 3\u001b[1;33m     \u001b[0ma\u001b[0m\u001b[1;33m,\u001b[0m \u001b[0mb\u001b[0m \u001b[1;33m=\u001b[0m \u001b[0mmap\u001b[0m\u001b[1;33m(\u001b[0m\u001b[0mint\u001b[0m\u001b[1;33m,\u001b[0m \u001b[0minput\u001b[0m\u001b[1;33m(\u001b[0m\u001b[1;33m)\u001b[0m\u001b[1;33m.\u001b[0m\u001b[0msplit\u001b[0m\u001b[1;33m(\u001b[0m\u001b[1;34m\",\"\u001b[0m\u001b[1;33m)\u001b[0m\u001b[1;33m)\u001b[0m\u001b[1;33m\u001b[0m\u001b[1;33m\u001b[0m\u001b[0m\n\u001b[0m\u001b[0;32m      4\u001b[0m     \u001b[0mprint\u001b[0m\u001b[1;33m(\u001b[0m\u001b[0ma\u001b[0m\u001b[1;33m+\u001b[0m\u001b[0mb\u001b[0m\u001b[1;33m)\u001b[0m\u001b[1;33m\u001b[0m\u001b[1;33m\u001b[0m\u001b[0m\n",
      "\u001b[1;31mValueError\u001b[0m: not enough values to unpack (expected 2, got 1)"
     ]
    }
   ],
   "source": [
    "num = int(input())\n",
    "for i in range(num):\n",
    "    a, b = map(int, input().split(\",\"))\n",
    "    print(a+b)"
   ]
  },
  {
   "cell_type": "markdown",
   "id": "bbbc8805",
   "metadata": {},
   "source": [
    "# "
   ]
  }
 ],
 "metadata": {
  "kernelspec": {
   "display_name": "Python 3 (ipykernel)",
   "language": "python",
   "name": "python3"
  },
  "language_info": {
   "codemirror_mode": {
    "name": "ipython",
    "version": 3
   },
   "file_extension": ".py",
   "mimetype": "text/x-python",
   "name": "python",
   "nbconvert_exporter": "python",
   "pygments_lexer": "ipython3",
   "version": "3.9.13"
  },
  "toc": {
   "base_numbering": 1,
   "nav_menu": {},
   "number_sections": true,
   "sideBar": true,
   "skip_h1_title": false,
   "title_cell": "Table of Contents",
   "title_sidebar": "Contents",
   "toc_cell": false,
   "toc_position": {},
   "toc_section_display": true,
   "toc_window_display": false
  },
  "varInspector": {
   "cols": {
    "lenName": 16,
    "lenType": 16,
    "lenVar": 40
   },
   "kernels_config": {
    "python": {
     "delete_cmd_postfix": "",
     "delete_cmd_prefix": "del ",
     "library": "var_list.py",
     "varRefreshCmd": "print(var_dic_list())"
    },
    "r": {
     "delete_cmd_postfix": ") ",
     "delete_cmd_prefix": "rm(",
     "library": "var_list.r",
     "varRefreshCmd": "cat(var_dic_list()) "
    }
   },
   "types_to_exclude": [
    "module",
    "function",
    "builtin_function_or_method",
    "instance",
    "_Feature"
   ],
   "window_display": false
  }
 },
 "nbformat": 4,
 "nbformat_minor": 5
}
