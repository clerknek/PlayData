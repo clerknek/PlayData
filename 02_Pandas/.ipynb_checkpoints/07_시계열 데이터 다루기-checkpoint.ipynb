{
 "cells": [
  {
   "cell_type": "markdown",
   "id": "760af56f",
   "metadata": {
    "slideshow": {
     "slide_type": "slide"
    }
   },
   "source": [
    "# 시계열 데이터개요\n",
    "\n",
    "- 시계열 데이터란\n",
    "    - 시간의 흐름에 따라 수집된 데이터를 말한다.\n",
    "    - 일반적으로는 시간의 간격이 균등한 **고정 빈도(fixed frequency)** 데이터가 대부분이지만 불규칙적인 데이텃세도 될 수 있다.                                    \n",
    "    - 판다스는 날짜를 조작하고 다른 시구간에 대해 집계하고 다른 시간대를 샘플링 하는등의 시계열 데이터 분석을 위한 다양한 기능을 제공한다."
   ]
  },
  {
   "cell_type": "markdown",
   "id": "8724dc8d",
   "metadata": {
    "slideshow": {
     "slide_type": "slide"
    }
   },
   "source": [
    "# 파이썬과 판다스의  날짜/시간 데이터 다루기\n",
    "\n",
    "- **파이썬**은 `datetime` 모듈을 이용해 일시를 처리한다. datetime 모듈은 날짜/시간 관련 타입으로 `date, time, datetime` 세개의 클래스를 제공한다.\n",
    "- **판다스**는 `Timestamp` 단일 타입으로 일시를 처리한다. `Timestamp`는 나노초(10억분의 1초)의 정밀도를 가진다.\n",
    "- 파이썬, 판다스 모두 timedelta를 이용해 일시의 차이를 관리한다."
   ]
  },
  {
   "cell_type": "markdown",
   "id": "cd6c1307",
   "metadata": {
    "slideshow": {
     "slide_type": "subslide"
    }
   },
   "source": [
    "## 파이썬 datatime module\n",
    "|클래스|설명|\n",
    "|:-|-:|\n",
    "|**date**|날짜타입 - 년/월/일을 저장|\n",
    "|**time**|시간타입 - 시/분/초/마이크로초를 저장|\n",
    "|**datetime**|날짜,시간을 저장|\n",
    "|**timedelta**|두 datetime 간의 차이를 일/초/마이크로초로 표현|\n",
    "|**tzinfo**|타임존-시간대-를 표현|"
   ]
  },
  {
   "cell_type": "markdown",
   "id": "0b64b0a6",
   "metadata": {
    "slideshow": {
     "slide_type": "fragment"
    }
   },
   "source": [
    "### 날짜 시간 객체 생성"
   ]
  },
  {
   "cell_type": "code",
   "execution_count": null,
   "id": "775b2721",
   "metadata": {
    "slideshow": {
     "slide_type": "fragment"
    }
   },
   "outputs": [],
   "source": []
  },
  {
   "cell_type": "markdown",
   "id": "a8eb826d",
   "metadata": {
    "slideshow": {
     "slide_type": "subslide"
    }
   },
   "source": [
    "### timedetla 를 이용한 계산\n",
    "- datetime간의 간격을 표현한다.\n",
    "    - 특정 날짜나 시간에서 일정 기간을 더하거나 뺀 일시를 계산할 때 사용\n",
    "    - 날짜/시간 간의 차이를 계산한 결과로 사용 (두 일시간의 뺄셈의 결과)\n",
    "    - 차이를 day, second, microsends로 표현한다.\n",
    "    - 객체 생성시  weeks, days, hours, minutes, seconds, milliseconds, microseconds 를 넣어 차이를 표현한다."
   ]
  },
  {
   "cell_type": "code",
   "execution_count": null,
   "id": "d5e34d11",
   "metadata": {
    "slideshow": {
     "slide_type": "fragment"
    }
   },
   "outputs": [],
   "source": []
  },
  {
   "cell_type": "markdown",
   "id": "3459ecda",
   "metadata": {
    "slideshow": {
     "slide_type": "subslide"
    }
   },
   "source": [
    "### datetime 과 문자열간 변환\n",
    "\n",
    "- strftime()\n",
    "    - datetime, date, time 객체를 지정한 형식의 문자열로 변환\n",
    "- strptime()\n",
    "    - 일시 형태의 문자열로 부터 datetime 객체를 생성한다.\n",
    "- 요소를 나타내는 주요 형식문자\n",
    "    - %Y, %m, %d : 년, 월, 일\n",
    "    - %H, %M, %S : 시, 분, 초\n",
    "    - https://docs.python.org/ko/3/library/datetime.html#strftime-and-strptime-format-codes"
   ]
  },
  {
   "cell_type": "code",
   "execution_count": null,
   "id": "e0df384b",
   "metadata": {
    "slideshow": {
     "slide_type": "fragment"
    }
   },
   "outputs": [],
   "source": []
  },
  {
   "cell_type": "markdown",
   "id": "8a5b5f26",
   "metadata": {
    "slideshow": {
     "slide_type": "slide"
    }
   },
   "source": [
    "## 판다스 Timestamp\n",
    "- 날짜 시간을 나노초(10억분의 1초) 단위의 정밀도로 표현한다.\n",
    "- 다양한 방식으로 객체를 생성할 수 있다.\n",
    "    - 직접 원하는 일시를 넣어 생성\n",
    "    - 일시 형태의 문자열을 이용해 생성\n",
    "    - unix time 부터 계산하여 생성\n"
   ]
  },
  {
   "cell_type": "code",
   "execution_count": null,
   "id": "b25f11fc",
   "metadata": {
    "slideshow": {
     "slide_type": "fragment"
    }
   },
   "outputs": [],
   "source": []
  },
  {
   "cell_type": "markdown",
   "id": "f156ff64",
   "metadata": {
    "slideshow": {
     "slide_type": "subslide"
    }
   },
   "source": [
    "### to_datetime()\n",
    "- 날짜와 관련된 다양한 값들을 Timestamp로 변환한다.\n",
    "- Series나 리스트의 값들을 한번에 변환할 수 있다. "
   ]
  },
  {
   "cell_type": "code",
   "execution_count": null,
   "id": "fcd81b07",
   "metadata": {
    "slideshow": {
     "slide_type": "fragment"
    }
   },
   "outputs": [],
   "source": []
  },
  {
   "cell_type": "markdown",
   "id": "c4a54404",
   "metadata": {
    "slideshow": {
     "slide_type": "subslide"
    }
   },
   "source": [
    "### Timestamp 간 연산 및 TimeDelta"
   ]
  },
  {
   "cell_type": "code",
   "execution_count": null,
   "id": "b7f72000",
   "metadata": {
    "slideshow": {
     "slide_type": "fragment"
    }
   },
   "outputs": [],
   "source": []
  },
  {
   "cell_type": "markdown",
   "id": "b7743ec6",
   "metadata": {
    "slideshow": {
     "slide_type": "slide"
    }
   },
   "source": [
    "# 시계열 데이터셋\n",
    "\n",
    "- 판다스에서 시계열 데이터셋의 가장 기본적인 형태는 Index가 datetime 타입인 Series나 DataFrame 객체이다.\n",
    "    - DateTimeIndex: datetime 타입의 index 타입"
   ]
  },
  {
   "cell_type": "code",
   "execution_count": null,
   "id": "7f5090fe",
   "metadata": {
    "slideshow": {
     "slide_type": "fragment"
    }
   },
   "outputs": [],
   "source": []
  },
  {
   "cell_type": "markdown",
   "id": "8b37f70c",
   "metadata": {
    "slideshow": {
     "slide_type": "subslide"
    }
   },
   "source": [
    "## DatatimeIndex indexing 과 slicing\n",
    "- Index가 Datetime 타입일 경우(DatetimeIndex) 날짜 시간의 각 요소들(ex: 년도, 월, 시간등등)을 이용해 다양한 조회가 가능하다."
   ]
  },
  {
   "cell_type": "code",
   "execution_count": null,
   "id": "8389df1a",
   "metadata": {
    "slideshow": {
     "slide_type": "fragment"
    }
   },
   "outputs": [],
   "source": []
  },
  {
   "cell_type": "markdown",
   "id": "d16307c7",
   "metadata": {
    "slideshow": {
     "slide_type": "subslide"
    }
   },
   "source": [
    "### slicing\n",
    "- 부분 매칭(날짜/시간의 특정 요소만으로 매칭)으로 slicing이 가능하다."
   ]
  },
  {
   "cell_type": "code",
   "execution_count": null,
   "id": "5bc93932",
   "metadata": {
    "slideshow": {
     "slide_type": "fragment"
    }
   },
   "outputs": [],
   "source": []
  },
  {
   "cell_type": "markdown",
   "id": "56ca1838",
   "metadata": {
    "slideshow": {
     "slide_type": "slide"
    }
   },
   "source": [
    "## DateOffsets\n",
    "- 빈도를 표현하는 타입이다.\n",
    "- DateOffsets 타입 객체나 문자 별칭을 이용하여 빈도간격을 표현한다.\n",
    "    - 타입: https://pandas.pydata.org/docs/user_guide/timeseries.html#dateoffset-objects\n",
    "    - 별칭: https://pandas.pydata.org/pandas-docs/stable/user_guide/timeseries.html#offset-aliases"
   ]
  },
  {
   "cell_type": "markdown",
   "id": "9066abc1",
   "metadata": {
    "slideshow": {
     "slide_type": "fragment"
    }
   },
   "source": [
    "### DateOffset 이용 메소드\n",
    "- **pd.date_range()**\n",
    "    - 동일한 간격 일시로 구성된(고정빈도)의 DatetimeIndex 생성한다.\n",
    "    - DatetimeIndex\n",
    "        - 일시 타입의 Index\n",
    "    - 주요 매개변수\n",
    "        - start: str 또는 datetime 형식 - 시작 날짜\n",
    "        - end: str 또는 datetime 형식 - 종료 날짜\n",
    "        - period:  생성할 개수\n",
    "            - start에서 end까지 periods에 지정한 개수에 맞춰 등분한 날짜로 구성된 DatetimeIndex를 반환한다.\n",
    "            - end 대신 period로 \n",
    "        - freq: str 또는 DateOffsets - 빈도 기준\n",
    "            - https://pandas.pydata.org/pandas-docs/stable/user_guide/timeseries.html#offset-aliases\n",
    "        - periods와 freq는 둘중 하나만 사용한다. 둘다 생략하면 **일별**로 생성한다.\n",
    "\n",
    "- **first(offset)**\n",
    "    - offset 빈도의 앞의 N개 행을 조회한다."
   ]
  },
  {
   "cell_type": "code",
   "execution_count": null,
   "id": "7ac5ca1e",
   "metadata": {
    "slideshow": {
     "slide_type": "fragment"
    }
   },
   "outputs": [],
   "source": []
  },
  {
   "cell_type": "markdown",
   "id": "240e6347",
   "metadata": {
    "slideshow": {
     "slide_type": "slide"
    }
   },
   "source": [
    "## 데이터 shift\n",
    "- DatetimeIndex의 index는 그대로 두고 데이터를 앞 또는 뒤로 이동시킨다.\n",
    "- DataFrame/Series객체.shift() 이용\n",
    "    - 매개변수\n",
    "        - periods=1 : 이동할 기간 (기본값 1)\n",
    "        - freq: 이동시킬 날짜/시간의 단위. DateOffset 객체/alias, timedelta\n",
    "        "
   ]
  },
  {
   "cell_type": "code",
   "execution_count": null,
   "id": "e0fffde6",
   "metadata": {
    "slideshow": {
     "slide_type": "fragment"
    }
   },
   "outputs": [],
   "source": []
  },
  {
   "cell_type": "markdown",
   "id": "8665fa8b",
   "metadata": {
    "slideshow": {
     "slide_type": "slide"
    }
   },
   "source": [
    "## resample()을 이용한 집계\n",
    "- resample()은 시계열 데이터를 지정한 구간별로 나눠서 집계할 수 있도록 grouping 한다.\n",
    "- groupby() 로 묶을 수도 있지만 DatetimeIndex의 경우 resample이 더 편리하다.\n",
    "    - 매개변수\n",
    "        - rule: group으로 묶을 기준을 offset으로 지정한다.\n",
    "        - closed : \"left\" 또는 \"right\" - 간격의 시작과 끝중 어느부분을 포함시킬지(닫을지)를 설정. \"left\"가 기본으로 왼쪽은 포함하고 오른쪽은 포함되지 않는다.\n",
    "        - on : 기준 컬럼을 지정한다. Index가 아니라 datetime 타입의 열(컬럼)을 기준으로 resample 할 때 사용"
   ]
  },
  {
   "cell_type": "code",
   "execution_count": null,
   "id": "8d1406d7",
   "metadata": {
    "slideshow": {
     "slide_type": "fragment"
    }
   },
   "outputs": [],
   "source": []
  },
  {
   "cell_type": "markdown",
   "id": "de0d5ddb",
   "metadata": {
    "slideshow": {
     "slide_type": "slide"
    }
   },
   "source": [
    "##  기간 이동 집계\n",
    "- 현재값을 기준으로 N개씩 묶어서 집계를 한다.\n",
    "    - 예) 이동평균 구하기\n",
    "- rolling(window, min_periods=None)    \n",
    "    - window: 범위. 정수\n",
    "    - min_periods: 집계할 최소 개수. 생략하면 window size로 지정.\n",
    "    - center: bool - 집계결과를 window의 중간에 둘지 여부. 기본값은 False로 레이블이 창 맨 뒤에 둔다. "
   ]
  },
  {
   "cell_type": "code",
   "execution_count": null,
   "id": "23e68179",
   "metadata": {
    "slideshow": {
     "slide_type": "fragment"
    }
   },
   "outputs": [],
   "source": []
  }
 ],
 "metadata": {
  "kernelspec": {
   "display_name": "Python 3 (ipykernel)",
   "language": "python",
   "name": "python3"
  },
  "language_info": {
   "codemirror_mode": {
    "name": "ipython",
    "version": 3
   },
   "file_extension": ".py",
   "mimetype": "text/x-python",
   "name": "python",
   "nbconvert_exporter": "python",
   "pygments_lexer": "ipython3",
   "version": "3.9.15"
  },
  "toc": {
   "base_numbering": 1,
   "nav_menu": {},
   "number_sections": true,
   "sideBar": true,
   "skip_h1_title": false,
   "title_cell": "Table of Contents",
   "title_sidebar": "Contents",
   "toc_cell": false,
   "toc_position": {},
   "toc_section_display": true,
   "toc_window_display": false
  },
  "varInspector": {
   "cols": {
    "lenName": 16,
    "lenType": 16,
    "lenVar": 40
   },
   "kernels_config": {
    "python": {
     "delete_cmd_postfix": "",
     "delete_cmd_prefix": "del ",
     "library": "var_list.py",
     "varRefreshCmd": "print(var_dic_list())"
    },
    "r": {
     "delete_cmd_postfix": ") ",
     "delete_cmd_prefix": "rm(",
     "library": "var_list.r",
     "varRefreshCmd": "cat(var_dic_list()) "
    }
   },
   "types_to_exclude": [
    "module",
    "function",
    "builtin_function_or_method",
    "instance",
    "_Feature"
   ],
   "window_display": false
  }
 },
 "nbformat": 4,
 "nbformat_minor": 5
}
