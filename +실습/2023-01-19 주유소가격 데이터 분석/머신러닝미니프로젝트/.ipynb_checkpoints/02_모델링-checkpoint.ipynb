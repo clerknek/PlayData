{
 "cells": [
  {
   "cell_type": "code",
   "execution_count": 1,
   "metadata": {
    "ExecuteTime": {
     "end_time": "2023-02-13T00:14:23.897310Z",
     "start_time": "2023-02-13T00:14:23.873319Z"
    }
   },
   "outputs": [],
   "source": [
    "# 경고(Warning)가 출력되지 않도록 설정.\n",
    "import warnings\n",
    "warnings.filterwarnings(action='ignore')"
   ]
  },
  {
   "cell_type": "code",
   "execution_count": 2,
   "metadata": {
    "ExecuteTime": {
     "end_time": "2023-02-13T00:14:25.183357Z",
     "start_time": "2023-02-13T00:14:23.905317Z"
    }
   },
   "outputs": [],
   "source": [
    "import pandas as pd\n",
    "import numpy as np"
   ]
  },
  {
   "cell_type": "code",
   "execution_count": 3,
   "metadata": {
    "ExecuteTime": {
     "end_time": "2023-02-13T00:14:25.533312Z",
     "start_time": "2023-02-13T00:14:25.188312Z"
    },
    "scrolled": true
   },
   "outputs": [
    {
     "data": {
      "text/plain": [
       "(150000, 11)"
      ]
     },
     "execution_count": 3,
     "metadata": {},
     "output_type": "execute_result"
    }
   ],
   "source": [
    "data = pd.read_csv('data/data-v01.csv')\n",
    "data.shape"
   ]
  },
  {
   "cell_type": "code",
   "execution_count": 4,
   "metadata": {
    "ExecuteTime": {
     "end_time": "2023-02-13T00:14:25.580321Z",
     "start_time": "2023-02-13T00:14:25.544318Z"
    }
   },
   "outputs": [
    {
     "name": "stdout",
     "output_type": "stream",
     "text": [
      "<class 'pandas.core.frame.DataFrame'>\n",
      "RangeIndex: 150000 entries, 0 to 149999\n",
      "Data columns (total 11 columns):\n",
      " #   Column                                Non-Null Count   Dtype  \n",
      "---  ------                                --------------   -----  \n",
      " 0   seriousdlqin2yrs                      150000 non-null  int64  \n",
      " 1   revolvingutilizationofunsecuredlines  150000 non-null  float64\n",
      " 2   age                                   150000 non-null  int64  \n",
      " 3   numberoftime30-59dayspastduenotworse  150000 non-null  int64  \n",
      " 4   debtratio                             150000 non-null  float64\n",
      " 5   monthlyincome                         150000 non-null  float64\n",
      " 6   numberofopencreditlinesandloans       150000 non-null  int64  \n",
      " 7   numberoftimes90dayslate               150000 non-null  int64  \n",
      " 8   numberrealestateloansorlines          150000 non-null  int64  \n",
      " 9   numberoftime60-89dayspastduenotworse  150000 non-null  int64  \n",
      " 10  numberofdependents                    150000 non-null  float64\n",
      "dtypes: float64(4), int64(7)\n",
      "memory usage: 12.6 MB\n"
     ]
    }
   ],
   "source": [
    "data.info()"
   ]
  },
  {
   "cell_type": "code",
   "execution_count": 5,
   "metadata": {
    "ExecuteTime": {
     "end_time": "2023-02-13T00:14:25.643318Z",
     "start_time": "2023-02-13T00:14:25.588318Z"
    }
   },
   "outputs": [
    {
     "data": {
      "text/html": [
       "<div>\n",
       "<style scoped>\n",
       "    .dataframe tbody tr th:only-of-type {\n",
       "        vertical-align: middle;\n",
       "    }\n",
       "\n",
       "    .dataframe tbody tr th {\n",
       "        vertical-align: top;\n",
       "    }\n",
       "\n",
       "    .dataframe thead th {\n",
       "        text-align: right;\n",
       "    }\n",
       "</style>\n",
       "<table border=\"1\" class=\"dataframe\">\n",
       "  <thead>\n",
       "    <tr style=\"text-align: right;\">\n",
       "      <th></th>\n",
       "      <th>seriousdlqin2yrs</th>\n",
       "      <th>revolvingutilizationofunsecuredlines</th>\n",
       "      <th>age</th>\n",
       "      <th>numberoftime30-59dayspastduenotworse</th>\n",
       "      <th>debtratio</th>\n",
       "      <th>monthlyincome</th>\n",
       "      <th>numberofopencreditlinesandloans</th>\n",
       "      <th>numberoftimes90dayslate</th>\n",
       "      <th>numberrealestateloansorlines</th>\n",
       "      <th>numberoftime60-89dayspastduenotworse</th>\n",
       "      <th>numberofdependents</th>\n",
       "    </tr>\n",
       "  </thead>\n",
       "  <tbody>\n",
       "    <tr>\n",
       "      <th>0</th>\n",
       "      <td>1</td>\n",
       "      <td>0.766127</td>\n",
       "      <td>45</td>\n",
       "      <td>2</td>\n",
       "      <td>0.802982</td>\n",
       "      <td>9120.0</td>\n",
       "      <td>13</td>\n",
       "      <td>0</td>\n",
       "      <td>6</td>\n",
       "      <td>0</td>\n",
       "      <td>2.0</td>\n",
       "    </tr>\n",
       "    <tr>\n",
       "      <th>1</th>\n",
       "      <td>0</td>\n",
       "      <td>0.957151</td>\n",
       "      <td>40</td>\n",
       "      <td>0</td>\n",
       "      <td>0.121876</td>\n",
       "      <td>2600.0</td>\n",
       "      <td>4</td>\n",
       "      <td>0</td>\n",
       "      <td>0</td>\n",
       "      <td>0</td>\n",
       "      <td>1.0</td>\n",
       "    </tr>\n",
       "    <tr>\n",
       "      <th>2</th>\n",
       "      <td>0</td>\n",
       "      <td>0.658180</td>\n",
       "      <td>38</td>\n",
       "      <td>1</td>\n",
       "      <td>0.085113</td>\n",
       "      <td>3042.0</td>\n",
       "      <td>2</td>\n",
       "      <td>1</td>\n",
       "      <td>0</td>\n",
       "      <td>0</td>\n",
       "      <td>0.0</td>\n",
       "    </tr>\n",
       "    <tr>\n",
       "      <th>3</th>\n",
       "      <td>0</td>\n",
       "      <td>0.233810</td>\n",
       "      <td>30</td>\n",
       "      <td>0</td>\n",
       "      <td>0.036050</td>\n",
       "      <td>3300.0</td>\n",
       "      <td>5</td>\n",
       "      <td>0</td>\n",
       "      <td>0</td>\n",
       "      <td>0</td>\n",
       "      <td>0.0</td>\n",
       "    </tr>\n",
       "    <tr>\n",
       "      <th>4</th>\n",
       "      <td>0</td>\n",
       "      <td>0.907239</td>\n",
       "      <td>49</td>\n",
       "      <td>1</td>\n",
       "      <td>0.024926</td>\n",
       "      <td>12645.0</td>\n",
       "      <td>7</td>\n",
       "      <td>0</td>\n",
       "      <td>1</td>\n",
       "      <td>0</td>\n",
       "      <td>0.0</td>\n",
       "    </tr>\n",
       "  </tbody>\n",
       "</table>\n",
       "</div>"
      ],
      "text/plain": [
       "   seriousdlqin2yrs  revolvingutilizationofunsecuredlines  age  \\\n",
       "0                 1                              0.766127   45   \n",
       "1                 0                              0.957151   40   \n",
       "2                 0                              0.658180   38   \n",
       "3                 0                              0.233810   30   \n",
       "4                 0                              0.907239   49   \n",
       "\n",
       "   numberoftime30-59dayspastduenotworse  debtratio  monthlyincome  \\\n",
       "0                                     2   0.802982         9120.0   \n",
       "1                                     0   0.121876         2600.0   \n",
       "2                                     1   0.085113         3042.0   \n",
       "3                                     0   0.036050         3300.0   \n",
       "4                                     1   0.024926        12645.0   \n",
       "\n",
       "   numberofopencreditlinesandloans  numberoftimes90dayslate  \\\n",
       "0                               13                        0   \n",
       "1                                4                        0   \n",
       "2                                2                        1   \n",
       "3                                5                        0   \n",
       "4                                7                        0   \n",
       "\n",
       "   numberrealestateloansorlines  numberoftime60-89dayspastduenotworse  \\\n",
       "0                             6                                     0   \n",
       "1                             0                                     0   \n",
       "2                             0                                     0   \n",
       "3                             0                                     0   \n",
       "4                             1                                     0   \n",
       "\n",
       "   numberofdependents  \n",
       "0                 2.0  \n",
       "1                 1.0  \n",
       "2                 0.0  \n",
       "3                 0.0  \n",
       "4                 0.0  "
      ]
     },
     "execution_count": 5,
     "metadata": {},
     "output_type": "execute_result"
    }
   ],
   "source": [
    "data.head()"
   ]
  },
  {
   "cell_type": "code",
   "execution_count": 6,
   "metadata": {
    "ExecuteTime": {
     "end_time": "2023-02-13T00:14:30.091370Z",
     "start_time": "2023-02-13T00:14:25.652313Z"
    }
   },
   "outputs": [],
   "source": [
    "from sklearn.linear_model import LogisticRegression\n",
    "from sklearn.ensemble import GradientBoostingClassifier, RandomForestClassifier\n",
    "from sklearn.neighbors import KNeighborsClassifier\n",
    "from xgboost import XGBClassifier\n",
    "\n",
    "from sklearn.pipeline import make_pipeline\n",
    "\n",
    "from sklearn.model_selection import train_test_split, GridSearchCV, RandomizedSearchCV\n",
    "from sklearn.preprocessing import StandardScaler, MinMaxScaler\n",
    "from sklearn.metrics import roc_auc_score, accuracy_score, recall_score, precision_score\n",
    "\n",
    "import pickle"
   ]
  },
  {
   "cell_type": "code",
   "execution_count": 7,
   "metadata": {
    "ExecuteTime": {
     "end_time": "2023-02-13T00:14:30.137316Z",
     "start_time": "2023-02-13T00:14:30.098310Z"
    }
   },
   "outputs": [],
   "source": [
    "# X, y 분리\n",
    "y = data.seriousdlqin2yrs\n",
    "X = data.drop('seriousdlqin2yrs', axis='columns')"
   ]
  },
  {
   "cell_type": "code",
   "execution_count": 8,
   "metadata": {
    "ExecuteTime": {
     "end_time": "2023-02-13T00:14:30.329309Z",
     "start_time": "2023-02-13T00:14:30.143312Z"
    }
   },
   "outputs": [],
   "source": [
    "X_train, X_test, y_train, y_test = train_test_split(X, y, stratify=y, random_state=0)"
   ]
  },
  {
   "cell_type": "code",
   "execution_count": 9,
   "metadata": {
    "ExecuteTime": {
     "end_time": "2023-02-13T00:14:30.361325Z",
     "start_time": "2023-02-13T00:14:30.335318Z"
    }
   },
   "outputs": [
    {
     "data": {
      "text/plain": [
       "((112500,), (37500,))"
      ]
     },
     "execution_count": 9,
     "metadata": {},
     "output_type": "execute_result"
    }
   ],
   "source": [
    "y_train.shape,y_test.shape"
   ]
  },
  {
   "cell_type": "code",
   "execution_count": 10,
   "metadata": {
    "ExecuteTime": {
     "end_time": "2023-02-13T00:14:30.409316Z",
     "start_time": "2023-02-13T00:14:30.375314Z"
    }
   },
   "outputs": [
    {
     "data": {
      "text/plain": [
       "array([0.93315556, 0.06684444])"
      ]
     },
     "execution_count": 10,
     "metadata": {},
     "output_type": "execute_result"
    }
   ],
   "source": [
    "# y의 label별 비율\n",
    "np.unique(y_train, return_counts=True)[1]/y_train.size"
   ]
  },
  {
   "cell_type": "markdown",
   "metadata": {},
   "source": [
    "## Feature Scaler생성"
   ]
  },
  {
   "cell_type": "code",
   "execution_count": 11,
   "metadata": {
    "ExecuteTime": {
     "end_time": "2023-02-13T00:14:30.440317Z",
     "start_time": "2023-02-13T00:14:30.416318Z"
    }
   },
   "outputs": [],
   "source": [
    "scaler = StandardScaler()\n",
    "# scaler = MinMaxScaler()"
   ]
  },
  {
   "cell_type": "markdown",
   "metadata": {},
   "source": [
    "## Base-line 모델 정의"
   ]
  },
  {
   "cell_type": "code",
   "execution_count": 12,
   "metadata": {
    "ExecuteTime": {
     "end_time": "2023-02-13T00:14:30.471329Z",
     "start_time": "2023-02-13T00:14:30.448316Z"
    }
   },
   "outputs": [],
   "source": [
    "# knn. losgistic은 scaler 적용\n",
    "knn = make_pipeline(scaler, KNeighborsClassifier())\n",
    "lr = make_pipeline(scaler, LogisticRegression(max_iter=2000, random_state=0))\n",
    "rf = RandomForestClassifier(random_state=0)\n",
    "grb = GradientBoostingClassifier(random_state=0)\n",
    "xgb = XGBClassifier(random_state=0)"
   ]
  },
  {
   "cell_type": "code",
   "execution_count": null,
   "metadata": {
    "ExecuteTime": {
     "start_time": "2023-02-13T00:14:23.925Z"
    }
   },
   "outputs": [],
   "source": [
    "knn.fit(X_train, y_train)\n",
    "lr.fit(X_train, y_train)\n",
    "xgb.fit(X_train, y_train)\n",
    "grb.fit(X_train, y_train)\n",
    "rf.fit(X_train, y_train)"
   ]
  },
  {
   "cell_type": "code",
   "execution_count": null,
   "metadata": {
    "ExecuteTime": {
     "start_time": "2023-02-13T00:14:23.929Z"
    }
   },
   "outputs": [],
   "source": [
    "base_line = [knn, lr, xgb, grb, rf]\n",
    "model_names = ['KNN', 'LogisticRegression', 'XGBoost', 'GradientBoosting', 'RandomForest']"
   ]
  },
  {
   "cell_type": "code",
   "execution_count": null,
   "metadata": {
    "ExecuteTime": {
     "start_time": "2023-02-13T00:14:23.933Z"
    }
   },
   "outputs": [],
   "source": [
    "for model, name in zip(base_line, model_names):\n",
    "\n",
    "    pred_train = model.predict(X_train)\n",
    "    pred_test = model.predict(X_test)\n",
    "    \n",
    "    pred_train_proba = model.predict_proba(X_train)\n",
    "    pred_test_proba = model.predict_proba(X_test)\n",
    "    \n",
    "    acc_train = np.round(accuracy_score(y_train,pred_train),3)\n",
    "    acc_test = np.round(accuracy_score(y_test, pred_test), 3)\n",
    "    \n",
    "    auc_train = np.round(roc_auc_score(y_train, pred_train_proba[:, 1]), 3)\n",
    "    auc_test = np.round(roc_auc_score(y_test, pred_test_proba[:, 1]), 3)\n",
    "    \n",
    "    print(f'{name}')\n",
    "    print(f'train정확도:{acc_train}, Test정확도:{acc_test}\\t train AUC:{auc_train}, Test AUC:{auc_test}')\n",
    "    print('='*50)"
   ]
  },
  {
   "cell_type": "markdown",
   "metadata": {},
   "source": [
    "# GridSearchCV를 이용한 하이퍼파라미터 튜닝"
   ]
  },
  {
   "cell_type": "markdown",
   "metadata": {},
   "source": [
    "### XGBoost"
   ]
  },
  {
   "cell_type": "code",
   "execution_count": null,
   "metadata": {
    "ExecuteTime": {
     "start_time": "2023-02-13T00:14:23.938Z"
    }
   },
   "outputs": [],
   "source": [
    "param = {\n",
    "    'learning_rate':[0.01,0.1,0.5,1],\n",
    "    'n_estimators':[100,200,300,400,500],\n",
    "    'max_depth':range(1,6),\n",
    "    'subsample':[0.6,0.7,0.8,0.9,1],\n",
    "}"
   ]
  },
  {
   "cell_type": "code",
   "execution_count": null,
   "metadata": {
    "ExecuteTime": {
     "start_time": "2023-02-13T00:14:23.942Z"
    }
   },
   "outputs": [],
   "source": [
    "rs_xgb = RandomizedSearchCV(XGBClassifier(random_state=0), \n",
    "                            param, \n",
    "                            n_iter=60, \n",
    "                            scoring='roc_auc',\n",
    "                            cv=5,\n",
    "                            n_jobs=-1 )"
   ]
  },
  {
   "cell_type": "code",
   "execution_count": null,
   "metadata": {
    "ExecuteTime": {
     "start_time": "2023-02-13T00:14:23.946Z"
    }
   },
   "outputs": [],
   "source": [
    "rs_xgb.fit(X_train, y_train)"
   ]
  },
  {
   "cell_type": "code",
   "execution_count": null,
   "metadata": {
    "ExecuteTime": {
     "start_time": "2023-02-13T00:14:23.949Z"
    }
   },
   "outputs": [],
   "source": [
    "rs_xgb.best_params_"
   ]
  },
  {
   "cell_type": "code",
   "execution_count": null,
   "metadata": {
    "ExecuteTime": {
     "start_time": "2023-02-13T00:14:23.962Z"
    }
   },
   "outputs": [],
   "source": [
    "rs_df = pd.DataFrame(rs_xgb.cv_results_)\n",
    "rs_df.sort_values('rank_test_score').head()"
   ]
  },
  {
   "cell_type": "code",
   "execution_count": null,
   "metadata": {
    "ExecuteTime": {
     "start_time": "2023-02-13T00:14:23.966Z"
    }
   },
   "outputs": [],
   "source": [
    "# 상세하게 찾기\n",
    "param = {\n",
    "    \"subsample\":[0.6,0.7,0.8,0.9,1], \n",
    "    \"max_depth\":[2,3,4]\n",
    "}\n",
    "gs_xgb = GridSearchCV(XGBClassifier(n_estimators=400, learning_rate=0.1, random_state=0), \n",
    "                      param, \n",
    "                      scoring='roc_auc', \n",
    "                      cv=5,\n",
    "                      n_jobs=-1 )\n",
    "\n",
    "gs_xgb.fit(X_train, y_train)"
   ]
  },
  {
   "cell_type": "code",
   "execution_count": null,
   "metadata": {
    "ExecuteTime": {
     "start_time": "2023-02-13T00:14:23.970Z"
    }
   },
   "outputs": [],
   "source": [
    "gs_xgb.best_params_"
   ]
  },
  {
   "cell_type": "code",
   "execution_count": null,
   "metadata": {
    "ExecuteTime": {
     "start_time": "2023-02-13T00:14:23.975Z"
    }
   },
   "outputs": [],
   "source": [
    "gs_xgb.best_score_"
   ]
  },
  {
   "cell_type": "code",
   "execution_count": null,
   "metadata": {
    "ExecuteTime": {
     "start_time": "2023-02-13T00:14:23.980Z"
    },
    "scrolled": true
   },
   "outputs": [],
   "source": [
    "gs_df = pd.DataFrame(gs_xgb.cv_results_)\n",
    "gs_df.sort_values('rank_test_score').head()"
   ]
  },
  {
   "cell_type": "code",
   "execution_count": null,
   "metadata": {
    "ExecuteTime": {
     "start_time": "2023-02-13T00:14:23.984Z"
    }
   },
   "outputs": [],
   "source": [
    "best_model_xgb = gs_xgb.best_estimator_"
   ]
  },
  {
   "cell_type": "code",
   "execution_count": null,
   "metadata": {
    "ExecuteTime": {
     "start_time": "2023-02-13T00:14:23.988Z"
    }
   },
   "outputs": [],
   "source": [
    "# 모델저장\n",
    "import os\n",
    "save_dir = 'saved_model'\n",
    "os.makedirs(save_dir, exist_ok=True) #디렉토리 만들기(없으면 만들고 있으면 안 만든다.)\n",
    "\n",
    "\n",
    "xgb_file_path = os.path.join(save_dir, 'xgb_best.pkl')\n",
    "best_model_xgb.save_model(xgb_file_path) #xgb객체.save_model(경로) => 모델을 파일로 저장."
   ]
  },
  {
   "cell_type": "code",
   "execution_count": null,
   "metadata": {
    "ExecuteTime": {
     "start_time": "2023-02-13T00:14:23.996Z"
    }
   },
   "outputs": [],
   "source": [
    "# Load Model\n",
    "saved_xgb = XGBClassifier()\n",
    "saved_xgb.load_model(xgb_file_path)"
   ]
  },
  {
   "cell_type": "markdown",
   "metadata": {},
   "source": [
    "### GradientBoosting"
   ]
  },
  {
   "cell_type": "code",
   "execution_count": null,
   "metadata": {
    "ExecuteTime": {
     "start_time": "2023-02-13T00:14:24.005Z"
    }
   },
   "outputs": [],
   "source": [
    "param_gb = {\n",
    "    'learning_rate':[0.001, 0.01,0.1,0.5,1,10],\n",
    "    'n_estimators':[100,200,300,400,500],\n",
    "    'max_depth':range(1,6),\n",
    "    'subsample':[0.6,0.7,0.8,0.9,1],\n",
    "}\n",
    "rs_gb = RandomizedSearchCV(GradientBoostingClassifier(random_state=0), \n",
    "                           param_distributions=param_gb, \n",
    "                           n_iter=60, \n",
    "                           cv=5, \n",
    "                           scoring='roc_auc', \n",
    "                           n_jobs=-1)"
   ]
  },
  {
   "cell_type": "code",
   "execution_count": null,
   "metadata": {
    "ExecuteTime": {
     "start_time": "2023-02-13T00:14:24.011Z"
    },
    "scrolled": true
   },
   "outputs": [],
   "source": [
    "rs_gb.fit(X_train, y_train)"
   ]
  },
  {
   "cell_type": "code",
   "execution_count": null,
   "metadata": {
    "ExecuteTime": {
     "start_time": "2023-02-13T00:14:24.016Z"
    }
   },
   "outputs": [],
   "source": [
    "rs_gb.best_params_"
   ]
  },
  {
   "cell_type": "code",
   "execution_count": null,
   "metadata": {
    "ExecuteTime": {
     "start_time": "2023-02-13T00:14:24.022Z"
    }
   },
   "outputs": [],
   "source": [
    "rs_gb.best_score_"
   ]
  },
  {
   "cell_type": "code",
   "execution_count": null,
   "metadata": {
    "ExecuteTime": {
     "start_time": "2023-02-13T00:14:24.028Z"
    },
    "scrolled": true
   },
   "outputs": [],
   "source": [
    "rs_df2 = pd.DataFrame(rs_gb.cv_results_)\n",
    "rs_df2.sort_values('rank_test_score').head()"
   ]
  },
  {
   "cell_type": "code",
   "execution_count": null,
   "metadata": {
    "ExecuteTime": {
     "start_time": "2023-02-13T00:14:24.034Z"
    }
   },
   "outputs": [],
   "source": [
    "param={\n",
    "    \"subsample\":[0.6, 0.7, 0.8], \n",
    "    \"n_estimators\":[300,400,500],\n",
    "    \"max_depth\":[2,3,4]\n",
    "}\n",
    "gs_gb = GridSearchCV(GradientBoostingClassifier(learning_rate=0.1, random_state=0),\n",
    "                    param_grid=param, \n",
    "                    scoring='roc_auc',\n",
    "                    cv=5,\n",
    "                    n_jobs=-1)"
   ]
  },
  {
   "cell_type": "code",
   "execution_count": null,
   "metadata": {
    "ExecuteTime": {
     "start_time": "2023-02-13T00:14:24.039Z"
    }
   },
   "outputs": [],
   "source": [
    "gs_gb.fit(X_train, y_train)"
   ]
  },
  {
   "cell_type": "code",
   "execution_count": null,
   "metadata": {
    "ExecuteTime": {
     "start_time": "2023-02-13T00:14:24.045Z"
    }
   },
   "outputs": [],
   "source": [
    "gs_gb.best_params_"
   ]
  },
  {
   "cell_type": "code",
   "execution_count": null,
   "metadata": {
    "ExecuteTime": {
     "start_time": "2023-02-13T00:14:24.049Z"
    }
   },
   "outputs": [],
   "source": [
    "gs_gb.best_score_"
   ]
  },
  {
   "cell_type": "code",
   "execution_count": null,
   "metadata": {
    "ExecuteTime": {
     "start_time": "2023-02-13T00:14:24.054Z"
    },
    "scrolled": true
   },
   "outputs": [],
   "source": [
    "gs_df2 = pd.DataFrame(gs_gb.cv_results_)\n",
    "gs_df2.sort_values('rank_test_score').head()"
   ]
  },
  {
   "cell_type": "code",
   "execution_count": null,
   "metadata": {
    "ExecuteTime": {
     "start_time": "2023-02-13T00:14:24.059Z"
    }
   },
   "outputs": [],
   "source": [
    "best_model_gb = gs_gb.best_estimator_"
   ]
  },
  {
   "cell_type": "code",
   "execution_count": null,
   "metadata": {
    "ExecuteTime": {
     "start_time": "2023-02-13T00:14:24.063Z"
    }
   },
   "outputs": [],
   "source": [
    "# 모델 저장\n",
    "gb_file_path = os.path.join(save_dir, 'gradient_boosting_best.pkl')\n",
    "with open(gb_file_path, 'wb') as fw:\n",
    "    pickle.dump(best_model_gb, fw) "
   ]
  },
  {
   "cell_type": "code",
   "execution_count": null,
   "metadata": {
    "ExecuteTime": {
     "start_time": "2023-02-13T00:14:24.066Z"
    }
   },
   "outputs": [],
   "source": [
    "gb_file_path = os.path.join(save_dir, 'gradient_boosting_best.pkl')\n",
    "with open(gb_file_path, 'rb') as fr:\n",
    "    saved_gb = pickle.load(fr) "
   ]
  },
  {
   "cell_type": "markdown",
   "metadata": {},
   "source": [
    "### RandomForest"
   ]
  },
  {
   "cell_type": "code",
   "execution_count": null,
   "metadata": {
    "ExecuteTime": {
     "start_time": "2023-02-13T00:14:24.071Z"
    }
   },
   "outputs": [],
   "source": [
    "param_rf = {\n",
    "    'n_estimators':[100,200,300,400,500],\n",
    "    'max_depth':range(1,5),\n",
    "    'max_features':range(5,11)\n",
    "}\n",
    "rs_rf = RandomizedSearchCV(RandomForestClassifier(random_state=0), \n",
    "                                 param_distributions=param_rf, \n",
    "                                 n_iter=60, \n",
    "                                 cv=5, \n",
    "                                 scoring='roc_auc', \n",
    "                                 n_jobs=-1)"
   ]
  },
  {
   "cell_type": "code",
   "execution_count": null,
   "metadata": {
    "ExecuteTime": {
     "start_time": "2023-02-13T00:14:24.075Z"
    }
   },
   "outputs": [],
   "source": [
    "rs_rf.fit(X_train, y_train)"
   ]
  },
  {
   "cell_type": "code",
   "execution_count": null,
   "metadata": {
    "ExecuteTime": {
     "start_time": "2023-02-13T00:14:24.082Z"
    }
   },
   "outputs": [],
   "source": [
    "rs_rf.best_params_"
   ]
  },
  {
   "cell_type": "code",
   "execution_count": null,
   "metadata": {
    "ExecuteTime": {
     "start_time": "2023-02-13T00:14:24.089Z"
    }
   },
   "outputs": [],
   "source": [
    "rs_rf.best_score_"
   ]
  },
  {
   "cell_type": "code",
   "execution_count": null,
   "metadata": {
    "ExecuteTime": {
     "start_time": "2023-02-13T00:14:24.098Z"
    },
    "scrolled": true
   },
   "outputs": [],
   "source": [
    "rs_df3 = pd.DataFrame(rs_rf.cv_results_)\n",
    "rs_df3.sort_values('rank_test_score').head()"
   ]
  },
  {
   "cell_type": "code",
   "execution_count": null,
   "metadata": {
    "ExecuteTime": {
     "start_time": "2023-02-13T00:14:24.103Z"
    }
   },
   "outputs": [],
   "source": [
    "param = {\n",
    "    \"n_estimators\":[400,500,600,700], \n",
    "    \"max_features\":[3,4,5,6],\n",
    "    \"max_depth\":[3,4,5,6]\n",
    "}\n",
    "\n",
    "gs_rf = GridSearchCV(RandomForestClassifier(random_state=0),\n",
    "                    param_grid=param, \n",
    "                    scoring='roc_auc',\n",
    "                    cv=5,\n",
    "                    n_jobs=-1)"
   ]
  },
  {
   "cell_type": "code",
   "execution_count": null,
   "metadata": {
    "ExecuteTime": {
     "start_time": "2023-02-13T00:14:24.108Z"
    }
   },
   "outputs": [],
   "source": [
    "gs_rf.fit(X_train, y_train)"
   ]
  },
  {
   "cell_type": "code",
   "execution_count": null,
   "metadata": {
    "ExecuteTime": {
     "start_time": "2023-02-13T00:14:24.113Z"
    }
   },
   "outputs": [],
   "source": [
    "gs_rf.best_params_"
   ]
  },
  {
   "cell_type": "code",
   "execution_count": null,
   "metadata": {
    "ExecuteTime": {
     "start_time": "2023-02-13T00:14:24.117Z"
    },
    "scrolled": true
   },
   "outputs": [],
   "source": [
    "gs_rf.best_score_"
   ]
  },
  {
   "cell_type": "code",
   "execution_count": null,
   "metadata": {
    "ExecuteTime": {
     "start_time": "2023-02-13T00:14:24.133Z"
    }
   },
   "outputs": [],
   "source": [
    "gs_df3 = pd.DataFrame(gs_rf.cv_results_)\n",
    "gs_df3.sort_values('rank_test_score').head()"
   ]
  },
  {
   "cell_type": "code",
   "execution_count": null,
   "metadata": {
    "ExecuteTime": {
     "start_time": "2023-02-13T00:14:24.138Z"
    }
   },
   "outputs": [],
   "source": [
    "best_model_rf = gs_rf.best_estimator_"
   ]
  },
  {
   "cell_type": "code",
   "execution_count": null,
   "metadata": {
    "ExecuteTime": {
     "start_time": "2023-02-13T00:14:24.143Z"
    }
   },
   "outputs": [],
   "source": [
    "rf_file_path = os.path.join(save_dir, \"random_forest_best.pkl\")\n",
    "with open(rf_file_path, 'wb') as fo:\n",
    "    pickle.dump(best_model_rf, fo)"
   ]
  },
  {
   "cell_type": "code",
   "execution_count": null,
   "metadata": {
    "ExecuteTime": {
     "start_time": "2023-02-13T00:14:24.147Z"
    }
   },
   "outputs": [],
   "source": [
    "rf_file_path = os.path.join(save_dir, \"random_forest_best.pkl\")\n",
    "with open(rf_file_path, 'rb') as fo:\n",
    "    saved_rf = pickle.load(fo)\n"
   ]
  },
  {
   "cell_type": "markdown",
   "metadata": {},
   "source": [
    "## VotingClassifier\n",
    "- best model들 사용"
   ]
  },
  {
   "cell_type": "code",
   "execution_count": null,
   "metadata": {
    "ExecuteTime": {
     "start_time": "2023-02-13T00:14:24.155Z"
    }
   },
   "outputs": [],
   "source": [
    "from sklearn.ensemble import VotingClassifier\n",
    "estimators = [('xgb', saved_xgb), ('gradient boost', saved_gb), ('random forest', saved_rf)]\n",
    "voting_clf = VotingClassifier(estimators=estimators, voting='soft', n_jobs=-1)"
   ]
  },
  {
   "cell_type": "code",
   "execution_count": null,
   "metadata": {
    "ExecuteTime": {
     "start_time": "2023-02-13T00:14:24.161Z"
    }
   },
   "outputs": [],
   "source": [
    "voting_clf.fit(X_train, y_train)"
   ]
  },
  {
   "cell_type": "code",
   "execution_count": null,
   "metadata": {
    "ExecuteTime": {
     "start_time": "2023-02-13T00:14:24.167Z"
    }
   },
   "outputs": [],
   "source": [
    "pred_proba  = voting_clf.predict_proba(X_test)\n",
    "auc_score = roc_auc_score(y_test, pred_proba[:, 1])\n",
    "auc_score"
   ]
  },
  {
   "cell_type": "markdown",
   "metadata": {},
   "source": [
    "- xgboost : 0.8657477556440014\n",
    "- grandient boosting : 0.8651901976338401\n",
    "- RandomForest: 0.861018496990928\n",
    "- voting: 0.8618094979187302"
   ]
  },
  {
   "cell_type": "code",
   "execution_count": null,
   "metadata": {},
   "outputs": [],
   "source": []
  },
  {
   "cell_type": "markdown",
   "metadata": {},
   "source": [
    "## Test Set 으로 검증"
   ]
  },
  {
   "cell_type": "code",
   "execution_count": null,
   "metadata": {
    "ExecuteTime": {
     "start_time": "2023-02-13T00:14:24.176Z"
    }
   },
   "outputs": [],
   "source": [
    "def test(estimator, X, y):\n",
    "    pred_prob = estimator.predict_proba(X)\n",
    "    return roc_auc_score(y, pred_prob[:, 1])"
   ]
  },
  {
   "cell_type": "code",
   "execution_count": null,
   "metadata": {
    "ExecuteTime": {
     "start_time": "2023-02-13T00:14:24.182Z"
    }
   },
   "outputs": [],
   "source": [
    "# XGB\n",
    "test(saved_xgb, X_test, y_test)"
   ]
  },
  {
   "cell_type": "code",
   "execution_count": null,
   "metadata": {
    "ExecuteTime": {
     "start_time": "2023-02-13T00:14:24.187Z"
    }
   },
   "outputs": [],
   "source": [
    "# Gradient Boosting\n",
    "test(saved_gb, X_test, y_test)"
   ]
  },
  {
   "cell_type": "markdown",
   "metadata": {},
   "source": [
    "### Test set 최종 검증결과\n",
    "- xgboost : 0.870387089730717\n",
    "- grandient boosting : 0.8734470316904399"
   ]
  },
  {
   "cell_type": "code",
   "execution_count": null,
   "metadata": {},
   "outputs": [],
   "source": []
  }
 ],
 "metadata": {
  "kernelspec": {
   "display_name": "Python 3 (ipykernel)",
   "language": "python",
   "name": "python3"
  },
  "language_info": {
   "codemirror_mode": {
    "name": "ipython",
    "version": 3
   },
   "file_extension": ".py",
   "mimetype": "text/x-python",
   "name": "python",
   "nbconvert_exporter": "python",
   "pygments_lexer": "ipython3",
   "version": "3.9.15"
  },
  "toc": {
   "base_numbering": 1,
   "nav_menu": {},
   "number_sections": false,
   "sideBar": true,
   "skip_h1_title": false,
   "title_cell": "Table of Contents",
   "title_sidebar": "Contents",
   "toc_cell": false,
   "toc_position": {},
   "toc_section_display": true,
   "toc_window_display": false
  },
  "varInspector": {
   "cols": {
    "lenName": 16,
    "lenType": 16,
    "lenVar": 40
   },
   "kernels_config": {
    "python": {
     "delete_cmd_postfix": "",
     "delete_cmd_prefix": "del ",
     "library": "var_list.py",
     "varRefreshCmd": "print(var_dic_list())"
    },
    "r": {
     "delete_cmd_postfix": ") ",
     "delete_cmd_prefix": "rm(",
     "library": "var_list.r",
     "varRefreshCmd": "cat(var_dic_list()) "
    }
   },
   "types_to_exclude": [
    "module",
    "function",
    "builtin_function_or_method",
    "instance",
    "_Feature"
   ],
   "window_display": false
  }
 },
 "nbformat": 4,
 "nbformat_minor": 2
}
