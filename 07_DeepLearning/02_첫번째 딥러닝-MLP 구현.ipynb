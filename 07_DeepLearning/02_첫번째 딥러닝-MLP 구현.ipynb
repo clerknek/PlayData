{
 "cells": [
  {
   "cell_type": "markdown",
   "metadata": {
    "slideshow": {
     "slide_type": "slide"
    }
   },
   "source": [
    "# Keras 개발 Process"
   ]
  },
  {
   "cell_type": "markdown",
   "metadata": {
    "slideshow": {
     "slide_type": "fragment"
    }
   },
   "source": [
    "1. 입력 텐서(X)와 출력 텐서(y)로 이뤄진 **훈련 데이터를 정의**"
   ]
  },
  {
   "cell_type": "markdown",
   "metadata": {
    "slideshow": {
     "slide_type": "fragment"
    }
   },
   "source": [
    "2. 입력과 출력을 연결하는 Layer(층)으로 이뤄진 **네트워크(모델)을 정의**\n",
    "    - Sequential 방식: 순서대로 쌓아올린 네트워크로 이뤄진 모델을 생성하는 방식\n",
    "    - Functional API 방식: 다양한 구조의 네트워크로 이뤄진 모델을 생성하는 방식\n",
    "    - Subclass 방식: 네트워크를 정의하는 클래스를 구현.\n",
    "    "
   ]
  },
  {
   "cell_type": "markdown",
   "metadata": {
    "slideshow": {
     "slide_type": "fragment"
    }
   },
   "source": [
    "3. **모델 Compile(컴파일)**\n",
    "    - 모델이 Train(학습)할때 사용할 손실함수(Loss Function), 최적화기법(Optimizer), 학습과정을 모니터링할 평가지표(Metrics)를 설정\n",
    "    \n",
    "    > Compile: 실행할 수 있는 상태로 만들어 주는 것."
   ]
  },
  {
   "cell_type": "markdown",
   "metadata": {
    "slideshow": {
     "slide_type": "fragment"
    }
   },
   "source": [
    "4. **Training(학습/훈련)**\n",
    "    - Train dataset을 이용해 모델을 Train 시킨다."
   ]
  },
  {
   "cell_type": "markdown",
   "metadata": {
    "slideshow": {
     "slide_type": "slide"
    }
   },
   "source": [
    "# MNIST 이미지 분류 \n",
    "- ### [MNIST](https://ko.wikipedia.org/wiki/MNIST_%EB%8D%B0%EC%9D%B4%ED%84%B0%EB%B2%A0%EC%9D%B4%EC%8A%A4)(Modified National Institute of Standards and Technology) database\n",
    "- 흑백 손글씨 숫자 0-9까지 10개의 범주로 구분해놓은 데이터셋\n",
    "- 하나의 이미지는 28 * 28 pixel 의 크기\n",
    "- 6만개의 Train 이미지와 1만개의 Test 이미지로 구성됨."
   ]
  },
  {
   "cell_type": "markdown",
   "metadata": {},
   "source": [
    "##### import"
   ]
  },
  {
   "cell_type": "code",
   "execution_count": 1,
   "metadata": {
    "ExecuteTime": {
     "end_time": "2023-02-17T01:18:41.903288Z",
     "start_time": "2023-02-17T01:18:26.744711Z"
    }
   },
   "outputs": [
    {
     "name": "stdout",
     "output_type": "stream",
     "text": [
      "2.11.0\n"
     ]
    }
   ],
   "source": [
    "import random\n",
    "import numpy as np\n",
    "import tensorflow as tf\n",
    "from tensorflow import keras\n",
    "\n",
    "print(tf.__version__)\n",
    "# seed 값 설정\n",
    "np.random.seed(0)\n",
    "tf.random.set_seed(0)\n",
    "random.seed(0)"
   ]
  },
  {
   "cell_type": "markdown",
   "metadata": {
    "ExecuteTime": {
     "end_time": "2021-08-30T05:02:52.852140Z",
     "start_time": "2021-08-30T05:02:52.563117Z"
    },
    "slideshow": {
     "slide_type": "slide"
    }
   },
   "source": [
    "##### MNIST dataset Loading"
   ]
  },
  {
   "cell_type": "code",
   "execution_count": 2,
   "metadata": {
    "ExecuteTime": {
     "end_time": "2023-02-17T01:18:42.475285Z",
     "start_time": "2023-02-17T01:18:41.910289Z"
    }
   },
   "outputs": [],
   "source": [
    "(train_image, train_label), (test_image, test_label) = keras.datasets.mnist.load_data()"
   ]
  },
  {
   "cell_type": "code",
   "execution_count": 3,
   "metadata": {
    "ExecuteTime": {
     "end_time": "2023-02-17T01:18:42.521294Z",
     "start_time": "2023-02-17T01:18:42.480286Z"
    }
   },
   "outputs": [
    {
     "data": {
      "text/plain": [
       "((60000, 28, 28), (60000,), (10000, 28, 28), (10000,))"
      ]
     },
     "execution_count": 3,
     "metadata": {},
     "output_type": "execute_result"
    }
   ],
   "source": [
    "train_image.shape, train_label.shape, test_image.shape, test_label.shape\n",
    "# (60000, 28, 28) : (개수, 데이터 shape-28 28)"
   ]
  },
  {
   "cell_type": "code",
   "execution_count": 4,
   "metadata": {
    "ExecuteTime": {
     "end_time": "2023-02-17T01:18:42.553303Z",
     "start_time": "2023-02-17T01:18:42.527294Z"
    }
   },
   "outputs": [
    {
     "data": {
      "text/plain": [
       "array([5, 0, 4, 1, 9], dtype=uint8)"
      ]
     },
     "execution_count": 4,
     "metadata": {},
     "output_type": "execute_result"
    }
   ],
   "source": [
    "# y값 확인\n",
    "train_label[:5]"
   ]
  },
  {
   "cell_type": "code",
   "execution_count": 5,
   "metadata": {
    "ExecuteTime": {
     "end_time": "2023-02-17T01:18:45.121387Z",
     "start_time": "2023-02-17T01:18:42.564287Z"
    }
   },
   "outputs": [
    {
     "data": {
      "image/png": "[encoded data removed]",
      "text/plain": [
       "<Figure size 1000x500 with 10 Axes>"
      ]
     },
     "metadata": {},
     "output_type": "display_data"
    }
   ],
   "source": [
    "# X값 -image 확인\n",
    "import matplotlib.pyplot as plt\n",
    "plt.figure(figsize=(10, 5))\n",
    "\n",
    "for i in range(10):\n",
    "    plt.subplot(2, 5, i+1)\n",
    "    plt.imshow(train_image[i], cmap='gray')\n",
    "    plt.title(f'answer: {train_label[i]}', fontsize=20)\n",
    "    plt.axis('off')\n",
    "plt.tight_layout()\n",
    "plt.show()"
   ]
  },
  {
   "cell_type": "markdown",
   "metadata": {
    "slideshow": {
     "slide_type": "slide"
    }
   },
   "source": [
    "## 데이터 준비\n",
    "- X (Input Data Image)\n",
    "    - 0 ~ 1 사이의 값으로 정규화 시킨다.\n",
    "- y (Output Data)\n",
    "    - one hot encoding 처리\n",
    "        - Label이 다중분류(Multi class classification)일 경우 One Hot Encoding 한다.\n",
    "            - 딥러닝 모델이 각 Label별 확률을 출력하도록 정의 되기 때문에 y(정답)도 같은 형태로 만들어 줘야 한다.\n",
    "    - Keras의 onehot encoding 처리 함수\n",
    "        - tensorflow.keras.utils.to_categorical()"
   ]
  },
  {
   "cell_type": "code",
   "execution_count": 6,
   "metadata": {
    "ExecuteTime": {
     "end_time": "2023-02-17T01:18:45.152348Z",
     "start_time": "2023-02-17T01:18:45.126350Z"
    }
   },
   "outputs": [
    {
     "data": {
      "text/plain": [
       "dtype('uint8')"
      ]
     },
     "execution_count": 6,
     "metadata": {},
     "output_type": "execute_result"
    }
   ],
   "source": [
    "train_image.dtype"
   ]
  },
  {
   "cell_type": "markdown",
   "metadata": {
    "ExecuteTime": {
     "end_time": "2021-08-30T05:07:46.170159Z",
     "start_time": "2021-08-30T05:07:45.800170Z"
    },
    "slideshow": {
     "slide_type": "fragment"
    }
   },
   "source": [
    "##### input image(X)를 정규화. \n",
    "- 이미지를 0 ~ 1 로 정규화 하고 타입을 float32로 변환"
   ]
  },
  {
   "cell_type": "code",
   "execution_count": 7,
   "metadata": {
    "ExecuteTime": {
     "end_time": "2023-02-17T01:18:45.455345Z",
     "start_time": "2023-02-17T01:18:45.161349Z"
    }
   },
   "outputs": [],
   "source": [
    "X_train = train_image.astype('float32')/255\n",
    "X_test = test_image.astype('float32')/255"
   ]
  },
  {
   "cell_type": "markdown",
   "metadata": {
    "ExecuteTime": {
     "end_time": "2021-08-30T05:08:02.687904Z",
     "start_time": "2021-08-30T05:08:02.678864Z"
    },
    "slideshow": {
     "slide_type": "slide"
    }
   },
   "source": [
    "##### label(y)를 one hot encoding"
   ]
  },
  {
   "cell_type": "code",
   "execution_count": 8,
   "metadata": {
    "ExecuteTime": {
     "end_time": "2023-02-17T01:18:45.487385Z",
     "start_time": "2023-02-17T01:18:45.461348Z"
    }
   },
   "outputs": [
    {
     "data": {
      "text/plain": [
       "(array([0, 1, 2, 3, 4, 5, 6, 7, 8, 9], dtype=uint8),\n",
       " array([5923, 6742, 5958, 6131, 5842, 5421, 5918, 6265, 5851, 5949],\n",
       "       dtype=int64))"
      ]
     },
     "execution_count": 8,
     "metadata": {},
     "output_type": "execute_result"
    }
   ],
   "source": [
    "np.unique(train_label, return_counts=True)"
   ]
  },
  {
   "cell_type": "code",
   "execution_count": 9,
   "metadata": {
    "ExecuteTime": {
     "end_time": "2023-02-17T01:18:45.519348Z",
     "start_time": "2023-02-17T01:18:45.492346Z"
    }
   },
   "outputs": [],
   "source": [
    "y_train = keras.utils.to_categorical(train_label, num_classes=10)\n",
    "y_test = keras.utils.to_categorical(test_label)"
   ]
  },
  {
   "cell_type": "code",
   "execution_count": 10,
   "metadata": {
    "ExecuteTime": {
     "end_time": "2023-02-17T01:18:45.551346Z",
     "start_time": "2023-02-17T01:18:45.527348Z"
    }
   },
   "outputs": [
    {
     "data": {
      "text/plain": [
       "array([5, 0, 4, 1, 9], dtype=uint8)"
      ]
     },
     "execution_count": 10,
     "metadata": {},
     "output_type": "execute_result"
    }
   ],
   "source": [
    "train_label[:5]"
   ]
  },
  {
   "cell_type": "code",
   "execution_count": 11,
   "metadata": {
    "ExecuteTime": {
     "end_time": "2023-02-17T01:18:45.583354Z",
     "start_time": "2023-02-17T01:18:45.558352Z"
    }
   },
   "outputs": [
    {
     "data": {
      "text/plain": [
       "array([[0., 0., 0., 0., 0., 1., 0., 0., 0., 0.],\n",
       "       [1., 0., 0., 0., 0., 0., 0., 0., 0., 0.],\n",
       "       [0., 0., 0., 0., 1., 0., 0., 0., 0., 0.],\n",
       "       [0., 1., 0., 0., 0., 0., 0., 0., 0., 0.],\n",
       "       [0., 0., 0., 0., 0., 0., 0., 0., 0., 1.]], dtype=float32)"
      ]
     },
     "execution_count": 11,
     "metadata": {},
     "output_type": "execute_result"
    }
   ],
   "source": [
    "y_train[:5]"
   ]
  },
  {
   "cell_type": "markdown",
   "metadata": {
    "slideshow": {
     "slide_type": "slide"
    }
   },
   "source": [
    "## 네트워크(모델) 정의\n",
    "- Network : 전체 모델 구조"
   ]
  },
  {
   "cell_type": "code",
   "execution_count": 12,
   "metadata": {
    "ExecuteTime": {
     "end_time": "2023-02-17T01:18:45.949343Z",
     "start_time": "2023-02-17T01:18:45.589348Z"
    }
   },
   "outputs": [],
   "source": [
    "model = keras.Sequential() # (빈) 모델 생성\n",
    "# 모델에 layer 들을 추가한다(받는다)\n",
    "# 각 레이어는 이전 layer의 출력결과를 입력으로 받아서 처리한 뒤에 출력한다.\n",
    "# layer는 Unit/Node/Neuron 들로 구성된다. -> feature들을 입력받아서 처리 후 출력하는 함수\n",
    "\n",
    "# 첫번째 layer를 추가 -> 첫번째: Inputlayer를 추가\n",
    "model.add(keras.layers.InputLayer((28, 28)))\n",
    "\n",
    "model.add(keras.layers.Flatten()) # 입력데이터를 1차원 배열로 변환\n",
    "\n",
    "model.add(keras.layers.Dense(units=256)) # unit 256개로 이뤄진 layer를 생성, 각 unit은 선형회귀(W*X + 8) 계산을 처리\n",
    "\n",
    "model.add(keras.layers.ReLU()) # max(X, 0) -> Activation(활성) 함수 => 비선형 함수를 사용\n",
    "\n",
    "model.add(keras.layers.Dense(units=128))\n",
    "\n",
    "model.add(keras.layers.ReLU())\n",
    "\n",
    "model.add(keras.layers.Dense(units=10))\n",
    "\n",
    "model.add(keras.layers.Softmax(name ='output'))  # Output layer -> 모델의 출력 결과를 출력하는 layer"
   ]
  },
  {
   "cell_type": "code",
   "execution_count": 13,
   "metadata": {
    "ExecuteTime": {
     "end_time": "2023-02-17T01:18:46.043349Z",
     "start_time": "2023-02-17T01:18:45.955347Z"
    }
   },
   "outputs": [],
   "source": [
    "model2 = keras.Sequential([\n",
    "    keras.layers.InputLayer((28, 28)),\n",
    "    keras.layers.Flatten(),\n",
    "    keras.layers.Dense(256),\n",
    "    keras.layers.ReLU(),\n",
    "    keras.layers.Dense(10),\n",
    "    keras.layers.Softmax()\n",
    "])"
   ]
  },
  {
   "cell_type": "code",
   "execution_count": 14,
   "metadata": {
    "ExecuteTime": {
     "end_time": "2023-02-17T01:18:46.122370Z",
     "start_time": "2023-02-17T01:18:46.056344Z"
    }
   },
   "outputs": [
    {
     "name": "stdout",
     "output_type": "stream",
     "text": [
      "Model: \"sequential\"\n",
      "_________________________________________________________________\n",
      " Layer (type)                Output Shape              Param #   \n",
      "=================================================================\n",
      " flatten (Flatten)           (None, 784)               0         \n",
      "                                                                 \n",
      " dense (Dense)               (None, 256)               200960    \n",
      "                                                                 \n",
      " re_lu (ReLU)                (None, 256)               0         \n",
      "                                                                 \n",
      " dense_1 (Dense)             (None, 128)               32896     \n",
      "                                                                 \n",
      " re_lu_1 (ReLU)              (None, 128)               0         \n",
      "                                                                 \n",
      " dense_2 (Dense)             (None, 10)                1290      \n",
      "                                                                 \n",
      " output (Softmax)            (None, 10)                0         \n",
      "                                                                 \n",
      "=================================================================\n",
      "Total params: 235,146\n",
      "Trainable params: 235,146\n",
      "Non-trainable params: 0\n",
      "_________________________________________________________________\n"
     ]
    }
   ],
   "source": [
    "model.summary()"
   ]
  },
  {
   "cell_type": "code",
   "execution_count": 15,
   "metadata": {
    "ExecuteTime": {
     "end_time": "2023-02-17T01:18:47.485835Z",
     "start_time": "2023-02-17T01:18:46.127344Z"
    }
   },
   "outputs": [
    {
     "data": {
      "image/png": "[encoded data removed]",
      "text/plain": [
       "<IPython.core.display.Image object>"
      ]
     },
     "execution_count": 15,
     "metadata": {},
     "output_type": "execute_result"
    }
   ],
   "source": [
    "# 모델구조를 시각화 - graphviz\n",
    "# pip install graphviz pydot pydotplus\n",
    "keras.utils.plot_model(model,\n",
    "                      show_shapes=True, # 각 layer의 input/output의 shape를 확인\n",
    "                       to_file = 'model_shapes.png' # 저장할 파일명, 생략하면 model\n",
    "                      )"
   ]
  },
  {
   "cell_type": "markdown",
   "metadata": {
    "slideshow": {
     "slide_type": "slide"
    }
   },
   "source": [
    "## 컴파일 단계\n",
    "- 정의된 딥러닝 모델을 학습할 수 있는 상태로 만들어 주기 위해 다음을 추가적으로 설정 한다.\n",
    "    - Optimizer\n",
    "    - 손실함수\n",
    "    - 평가지표"
   ]
  },
  {
   "cell_type": "code",
   "execution_count": 16,
   "metadata": {
    "ExecuteTime": {
     "end_time": "2023-02-17T01:18:47.531833Z",
     "start_time": "2023-02-17T01:18:47.490831Z"
    }
   },
   "outputs": [],
   "source": [
    "model.compile(optimizer='adam',\n",
    "             loss='categorical_crossentropy',\n",
    "             metrics=['accuracy']) # 학습로그, 모델 평가 할 때 loss(loss함수가 계산한 오차값)와 같이 나올 평가지표"
   ]
  },
  {
   "cell_type": "markdown",
   "metadata": {
    "slideshow": {
     "slide_type": "slide"
    }
   },
   "source": [
    "## 학습 (fit)\n",
    "- model.fit()\n",
    "    - 모델 학습 메소드. \n",
    "    - 학습과정의 Log를 History 객체로 반환한다.\n",
    "- History : train 시 에폭별 평가지표값들을 모아서 제공.    "
   ]
  },
  {
   "cell_type": "code",
   "execution_count": 17,
   "metadata": {
    "ExecuteTime": {
     "end_time": "2023-02-17T01:19:19.670269Z",
     "start_time": "2023-02-17T01:18:47.538833Z"
    },
    "scrolled": false
   },
   "outputs": [
    {
     "name": "stdout",
     "output_type": "stream",
     "text": [
      "Epoch 1/10\n",
      "420/420 [==============================] - 5s 8ms/step - loss: 0.3011 - accuracy: 0.9131 - val_loss: 0.1626 - val_accuracy: 0.9524\n",
      "Epoch 2/10\n",
      "420/420 [==============================] - 3s 7ms/step - loss: 0.1164 - accuracy: 0.9657 - val_loss: 0.1224 - val_accuracy: 0.9648\n",
      "Epoch 3/10\n",
      "420/420 [==============================] - 3s 7ms/step - loss: 0.0736 - accuracy: 0.9779 - val_loss: 0.1042 - val_accuracy: 0.9691\n",
      "Epoch 4/10\n",
      "420/420 [==============================] - 3s 7ms/step - loss: 0.0505 - accuracy: 0.9841 - val_loss: 0.1033 - val_accuracy: 0.9696\n",
      "Epoch 5/10\n",
      "420/420 [==============================] - 3s 7ms/step - loss: 0.0356 - accuracy: 0.9890 - val_loss: 0.1065 - val_accuracy: 0.9702\n",
      "Epoch 6/10\n",
      "420/420 [==============================] - 3s 7ms/step - loss: 0.0280 - accuracy: 0.9916 - val_loss: 0.0917 - val_accuracy: 0.9744\n",
      "Epoch 7/10\n",
      "420/420 [==============================] - 3s 7ms/step - loss: 0.0219 - accuracy: 0.9930 - val_loss: 0.0983 - val_accuracy: 0.9738\n",
      "Epoch 8/10\n",
      "420/420 [==============================] - 3s 7ms/step - loss: 0.0187 - accuracy: 0.9941 - val_loss: 0.0991 - val_accuracy: 0.9750\n",
      "Epoch 9/10\n",
      "420/420 [==============================] - 3s 7ms/step - loss: 0.0136 - accuracy: 0.9958 - val_loss: 0.1054 - val_accuracy: 0.9739\n",
      "Epoch 10/10\n",
      "420/420 [==============================] - 3s 8ms/step - loss: 0.0119 - accuracy: 0.9964 - val_loss: 0.1164 - val_accuracy: 0.9739\n"
     ]
    }
   ],
   "source": [
    "history = model.fit(X_train, y_train, # train dataset\n",
    "                      epochs=10, # train dataset을 몇 번 반복해서 학습할 것인지, 한 epoch이 돌면 shuffle을 하게 된다.\n",
    "                      batch_size = 100, # 파라미터(wight-학습대상) 업데이트 하기 위한 데이터 단위 -> 내접 계산으로 한번에 계산 가능(행렬)\n",
    "                      # 한번 업데이트 되는 것을 1 step이라고 함. 1step에 입력할 데이터 개수: batch_size\n",
    "                      # 위 모델에서 input 안에 있는 None이 batch_size를 의미한다 -> 설정 가능\n",
    "                      # 작게 하면 시간이 오래 걸리고 이상치가 많아진다. / 크게 하면 메모리 공간이 부족해진다.\n",
    "                      validation_split=0.3  # train set 중 validation으로 사용할 데이터 비율. 전체중 70은 train에 30은 검증에 사용하겠다.\n",
    "                     )"
   ]
  },
  {
   "cell_type": "markdown",
   "metadata": {},
   "source": [
    "```python\n",
    "Epoch 1/10 # 현재 epoch/전체 epoch -> 몇번째 epoch 결과\n",
    "420/420 # 현재 학습중인 step/전체step 600*0.7\n",
    "- 5s 8ms/step   #epoch당 걸린시간(s) 1step당 걸린 학습시간(ms)\n",
    "\n",
    "# train set 평가 결과\n",
    "- loss: 0.2978  # loss(손실-오차값)\n",
    "- accuracy: 0.9154  # 컴파일 때 지정한 metrics의 결과\n",
    "\n",
    "# validation set 평가 결과\n",
    "- val_loss: 0.1620\n",
    "- val_accuracy: 0.9526\n",
    "\n",
    "```"
   ]
  },
  {
   "cell_type": "markdown",
   "metadata": {
    "slideshow": {
     "slide_type": "slide"
    }
   },
   "source": [
    "##### History 시각화"
   ]
  },
  {
   "cell_type": "code",
   "execution_count": 18,
   "metadata": {
    "ExecuteTime": {
     "end_time": "2023-02-17T01:19:19.702280Z",
     "start_time": "2023-02-17T01:19:19.677273Z"
    }
   },
   "outputs": [
    {
     "name": "stdout",
     "output_type": "stream",
     "text": [
      "<class 'keras.callbacks.History'>\n",
      "학습 epoch 리스트 [0, 1, 2, 3, 4, 5, 6, 7, 8, 9]\n",
      "epoch수, epoch당 step수 {'verbose': 1, 'epochs': 10, 'steps': 420}\n"
     ]
    }
   ],
   "source": [
    "print(type(history))  # 학습 과정의 평가지표들 등의 정보를 저장한 객체\n",
    "print('학습 epoch 리스트',history.epoch)\n",
    "print('epoch수, epoch당 step수',history.params)"
   ]
  },
  {
   "cell_type": "code",
   "execution_count": 19,
   "metadata": {
    "ExecuteTime": {
     "end_time": "2023-02-17T01:19:19.735276Z",
     "start_time": "2023-02-17T01:19:19.708273Z"
    }
   },
   "outputs": [
    {
     "data": {
      "text/plain": [
       "{'loss': [0.3011314570903778,\n",
       "  0.11638977378606796,\n",
       "  0.07362967729568481,\n",
       "  0.05045871064066887,\n",
       "  0.03561565652489662,\n",
       "  0.027958042919635773,\n",
       "  0.021855616942048073,\n",
       "  0.01869449019432068,\n",
       "  0.013603350147604942,\n",
       "  0.011853620409965515],\n",
       " 'accuracy': [0.9130714535713196,\n",
       "  0.9657381176948547,\n",
       "  0.9778571724891663,\n",
       "  0.9841428399085999,\n",
       "  0.9890000224113464,\n",
       "  0.9915714263916016,\n",
       "  0.9930238127708435,\n",
       "  0.9940952658653259,\n",
       "  0.9957619309425354,\n",
       "  0.9963571429252625],\n",
       " 'val_loss': [0.16256049275398254,\n",
       "  0.12243920564651489,\n",
       "  0.10424549132585526,\n",
       "  0.1033269390463829,\n",
       "  0.10645263642072678,\n",
       "  0.09173499792814255,\n",
       "  0.09834321588277817,\n",
       "  0.09907286614179611,\n",
       "  0.10540685802698135,\n",
       "  0.11643087863922119],\n",
       " 'val_accuracy': [0.9524444341659546,\n",
       "  0.9648333191871643,\n",
       "  0.9690555334091187,\n",
       "  0.9696111083030701,\n",
       "  0.9702222347259521,\n",
       "  0.9743888974189758,\n",
       "  0.9738333225250244,\n",
       "  0.9750000238418579,\n",
       "  0.9739444255828857,\n",
       "  0.9738888740539551]}"
      ]
     },
     "execution_count": 19,
     "metadata": {},
     "output_type": "execute_result"
    }
   ],
   "source": [
    "history.history"
   ]
  },
  {
   "cell_type": "code",
   "execution_count": 20,
   "metadata": {
    "ExecuteTime": {
     "end_time": "2023-02-17T01:19:21.115411Z",
     "start_time": "2023-02-17T01:19:19.750276Z"
    }
   },
   "outputs": [
    {
     "data": {
      "image/png": "[encoded data removed]",
      "text/plain": [
       "<Figure size 1500x600 with 2 Axes>"
      ]
     },
     "metadata": {},
     "output_type": "display_data"
    }
   ],
   "source": [
    "import matplotlib.pyplot as plt\n",
    "\n",
    "plt.rcParams['font.family'] = 'malgun gothic'\n",
    "plt.rcParams['axes.unicode_minus'] = True\n",
    "\n",
    "plt.figure(figsize=(15, 6))\n",
    "plt.suptitle('학습 평가 결과') # figure 제목\n",
    "\n",
    "plt.subplot(1, 2, 1)\n",
    "plt.plot(history.history['loss'], label='train loss')\n",
    "plt.plot(history.history['val_loss'], label='val loss')\n",
    "plt.title('loss')\n",
    "\n",
    "plt.subplot(1, 2, 2)\n",
    "plt.plot(history.history['accuracy'], label='train acc')\n",
    "plt.plot(history.history['val_accuracy'], label='val acc')\n",
    "plt.title('accuracy')\n",
    "\n",
    "plt.legend()\n",
    "plt.tight_layout()\n",
    "plt.show()"
   ]
  },
  {
   "cell_type": "markdown",
   "metadata": {},
   "source": [
    "> epoch가 클수록 성능이 나빠질 수 있다. 다만 좋아질 수도 있다 -> epoch를 최대한 높게 잡아줘서 확인해봐야한다."
   ]
  },
  {
   "cell_type": "markdown",
   "metadata": {
    "slideshow": {
     "slide_type": "slide"
    }
   },
   "source": [
    "## 테스트셋 평가"
   ]
  },
  {
   "cell_type": "code",
   "execution_count": 21,
   "metadata": {
    "ExecuteTime": {
     "end_time": "2023-02-17T01:19:22.575040Z",
     "start_time": "2023-02-17T01:19:21.120445Z"
    }
   },
   "outputs": [
    {
     "name": "stdout",
     "output_type": "stream",
     "text": [
      "313/313 [==============================] - 1s 3ms/step - loss: 0.0866 - accuracy: 0.9777\n"
     ]
    }
   ],
   "source": [
    "result = model.evaluate(X_test, y_test)  # loss, compile시 지정한 metrics로 평가"
   ]
  },
  {
   "cell_type": "markdown",
   "metadata": {
    "slideshow": {
     "slide_type": "slide"
    }
   },
   "source": [
    "## 새로운 데이터 추론\n",
    "- 새로운 데이터를 추론하기 전에 학습데이터에 했던 전처리과정을 동일하게 적용 한 뒤 추론한다."
   ]
  },
  {
   "cell_type": "markdown",
   "metadata": {
    "slideshow": {
     "slide_type": "fragment"
    }
   },
   "source": [
    "### 추론 메소드\n",
    "- predict()\n",
    "    - **분류:** 각 클래스 별 확률 반환\n",
    "    - **회귀:** 최종 예측 결과\n",
    "- 분류문제일때 predict() 결과에서 class label 출력하기    \n",
    "    - 이진 분류(binary classification)\n",
    "        - `numpy.where(model.predict(x) > 0.5, 1, 0).astype(\"int32\")`\n",
    "    - 다중클래스 분류(multi-class classification)\n",
    "        - `numpy.argmax(model.predict(x), axis=1)`"
   ]
  },
  {
   "cell_type": "code",
   "execution_count": 22,
   "metadata": {
    "ExecuteTime": {
     "end_time": "2023-02-17T01:19:22.590918Z",
     "start_time": "2023-02-17T01:19:22.578959Z"
    }
   },
   "outputs": [
    {
     "data": {
      "text/plain": [
       "(3, 28, 28)"
      ]
     },
     "execution_count": 22,
     "metadata": {},
     "output_type": "execute_result"
    }
   ],
   "source": [
    "X_new = X_test[:3]\n",
    "X_new.shape"
   ]
  },
  {
   "cell_type": "code",
   "execution_count": 23,
   "metadata": {
    "ExecuteTime": {
     "end_time": "2023-02-17T01:19:22.892960Z",
     "start_time": "2023-02-17T01:19:22.596921Z"
    }
   },
   "outputs": [
    {
     "name": "stdout",
     "output_type": "stream",
     "text": [
      "1/1 [==============================] - 0s 192ms/step\n"
     ]
    }
   ],
   "source": [
    "pred = model.predict(X_new)  # 추론: (개수, 데이터 shape)"
   ]
  },
  {
   "cell_type": "code",
   "execution_count": 24,
   "metadata": {
    "ExecuteTime": {
     "end_time": "2023-02-17T01:19:22.923924Z",
     "start_time": "2023-02-17T01:19:22.896969Z"
    }
   },
   "outputs": [
    {
     "name": "stdout",
     "output_type": "stream",
     "text": [
      "(3, 10)\n"
     ]
    },
    {
     "data": {
      "text/plain": [
       "array([[4.38040892e-08, 2.06434070e-09, 1.68668635e-06, 1.94175300e-06,\n",
       "        2.66654069e-14, 5.64318370e-10, 1.65416053e-12, 9.99996185e-01,\n",
       "        3.71172426e-08, 1.28337945e-07],\n",
       "       [5.40912042e-13, 4.94899854e-09, 1.00000000e+00, 7.49300275e-11,\n",
       "        3.60161185e-19, 5.41380043e-19, 9.58043603e-16, 8.74524757e-15,\n",
       "        1.08660074e-10, 1.11546711e-20],\n",
       "       [6.34963897e-07, 9.99662876e-01, 2.67261603e-05, 7.74690108e-08,\n",
       "        1.04325678e-04, 7.78529152e-09, 2.46357459e-08, 1.79896233e-04,\n",
       "        1.92662737e-05, 6.29496162e-06]], dtype=float32)"
      ]
     },
     "execution_count": 24,
     "metadata": {},
     "output_type": "execute_result"
    }
   ],
   "source": [
    "print(pred.shape)\n",
    "pred"
   ]
  },
  {
   "cell_type": "code",
   "execution_count": 27,
   "metadata": {
    "ExecuteTime": {
     "end_time": "2023-02-17T01:19:49.884758Z",
     "start_time": "2023-02-17T01:19:49.854725Z"
    }
   },
   "outputs": [
    {
     "data": {
      "text/plain": [
       "array([[0., 0., 0., 0., 0., 0., 0., 1., 0., 0.],\n",
       "       [0., 0., 1., 0., 0., 0., 0., 0., 0., 0.],\n",
       "       [0., 1., 0., 0., 0., 0., 0., 0., 0., 0.]], dtype=float32)"
      ]
     },
     "execution_count": 27,
     "metadata": {},
     "output_type": "execute_result"
    }
   ],
   "source": [
    "np.round(pred)"
   ]
  },
  {
   "cell_type": "code",
   "execution_count": 25,
   "metadata": {
    "ExecuteTime": {
     "end_time": "2023-02-17T01:19:22.955960Z",
     "start_time": "2023-02-17T01:19:22.928921Z"
    }
   },
   "outputs": [
    {
     "data": {
      "text/plain": [
       "array([7, 2, 1], dtype=int64)"
      ]
     },
     "execution_count": 25,
     "metadata": {},
     "output_type": "execute_result"
    }
   ],
   "source": [
    "np.argmax(pred, axis=-1)"
   ]
  },
  {
   "cell_type": "code",
   "execution_count": 26,
   "metadata": {
    "ExecuteTime": {
     "end_time": "2023-02-17T01:19:22.987780Z",
     "start_time": "2023-02-17T01:19:22.960921Z"
    }
   },
   "outputs": [
    {
     "data": {
      "text/plain": [
       "array([7, 2, 1], dtype=int64)"
      ]
     },
     "execution_count": 26,
     "metadata": {},
     "output_type": "execute_result"
    }
   ],
   "source": [
    "np.argmax(y_test[:3], axis=-1)"
   ]
  },
  {
   "cell_type": "markdown",
   "metadata": {},
   "source": [
    "# TODO"
   ]
  },
  {
   "cell_type": "markdown",
   "metadata": {},
   "source": [
    "1. opencv로 그림판 숫자이미지들을 읽는다. (grayscale)"
   ]
  },
  {
   "cell_type": "code",
   "execution_count": 29,
   "metadata": {
    "ExecuteTime": {
     "end_time": "2023-02-16T08:40:40.800262Z",
     "start_time": "2023-02-16T08:40:32.980792Z"
    }
   },
   "outputs": [
    {
     "name": "stdout",
     "output_type": "stream",
     "text": [
      "Collecting opencv-contrib-python\n",
      "  Using cached opencv_contrib_python-4.7.0.68-cp37-abi3-win_amd64.whl (44.9 MB)\n",
      "Requirement already satisfied: numpy>=1.17.3 in c:\\users\\jeonj\\anaconda3\\envs\\tf\\lib\\site-packages (from opencv-contrib-python) (1.24.2)\n",
      "Installing collected packages: opencv-contrib-python\n",
      "Successfully installed opencv-contrib-python-4.7.0.68\n"
     ]
    }
   ],
   "source": [
    "!pip install opencv-contrib-python"
   ]
  },
  {
   "cell_type": "code",
   "execution_count": 29,
   "metadata": {
    "ExecuteTime": {
     "end_time": "2023-02-17T01:20:47.840891Z",
     "start_time": "2023-02-17T01:20:47.620883Z"
    }
   },
   "outputs": [
    {
     "data": {
      "image/png": "[encoded data removed]",
      "text/plain": [
       "<Figure size 640x480 with 3 Axes>"
      ]
     },
     "metadata": {},
     "output_type": "display_data"
    }
   ],
   "source": [
    "import cv2\n",
    "import numpy as np\n",
    "\n",
    "img1 = cv2.imread('test_img/number_2.png', cv2.IMREAD_GRAYSCALE)\n",
    "img2 = cv2.imread('test_img/number_7.png', cv2.IMREAD_GRAYSCALE)\n",
    "img3 = cv2.imread('test_img/number_8.png', cv2.IMREAD_GRAYSCALE)\n",
    "\n",
    "\n",
    "plt.subplot(1, 3, 1)\n",
    "plt.imshow(img1)\n",
    "plt.axis('off')\n",
    "\n",
    "plt.subplot(1, 3, 2)\n",
    "plt.imshow(img2)\n",
    "plt.axis('off')\n",
    "\n",
    "plt.subplot(1, 3, 3)\n",
    "plt.imshow(img3)\n",
    "plt.axis('off')\n",
    "\n",
    "plt.tight_layout()\n",
    "plt.show()"
   ]
  },
  {
   "cell_type": "markdown",
   "metadata": {},
   "source": [
    "2. 28 X 28 로 resize"
   ]
  },
  {
   "cell_type": "code",
   "execution_count": 35,
   "metadata": {
    "ExecuteTime": {
     "end_time": "2023-02-17T01:25:09.202525Z",
     "start_time": "2023-02-17T01:25:09.189566Z"
    }
   },
   "outputs": [],
   "source": [
    "two = cv2.resize(img1, dsize=(28, 28), interpolation = cv2.INTER_AREA)\n",
    "seven = cv2.resize(img2, dsize=(28, 28), interpolation = cv2.INTER_AREA)\n",
    "eight = cv2.resize(img3, dsize=(28, 28), interpolation = cv2.INTER_AREA)"
   ]
  },
  {
   "cell_type": "code",
   "execution_count": 36,
   "metadata": {
    "ExecuteTime": {
     "end_time": "2023-02-17T01:25:10.337869Z",
     "start_time": "2023-02-17T01:25:10.315829Z"
    }
   },
   "outputs": [
    {
     "data": {
      "text/plain": [
       "(28, 28)"
      ]
     },
     "execution_count": 36,
     "metadata": {},
     "output_type": "execute_result"
    }
   ],
   "source": [
    "resized_img1.shape"
   ]
  },
  {
   "cell_type": "code",
   "execution_count": 39,
   "metadata": {
    "ExecuteTime": {
     "end_time": "2023-02-17T01:26:39.266511Z",
     "start_time": "2023-02-17T01:26:33.085479Z"
    }
   },
   "outputs": [],
   "source": [
    "cv2.imshow('frame', two)\n",
    "cv2.waitKey(0)\n",
    "cv2.imshow('frame', seven)\n",
    "cv2.waitKey(0)\n",
    "cv2.imshow('frame', eight)\n",
    "cv2.waitKey(0)\n",
    "cv2.destroyAllWindows()"
   ]
  },
  {
   "cell_type": "markdown",
   "metadata": {},
   "source": [
    "3. 모델을 이용해서 추론"
   ]
  },
  {
   "cell_type": "markdown",
   "metadata": {
    "ExecuteTime": {
     "end_time": "2023-02-17T01:30:03.349972Z",
     "start_time": "2023-02-17T01:30:03.333955Z"
    }
   },
   "source": [
    "### 이미지 전처리\n",
    "- float으로 변환, scaling"
   ]
  },
  {
   "cell_type": "code",
   "execution_count": 42,
   "metadata": {
    "ExecuteTime": {
     "end_time": "2023-02-17T01:31:02.555358Z",
     "start_time": "2023-02-17T01:31:02.534348Z"
    }
   },
   "outputs": [],
   "source": [
    "new_data = np.array([two.astype('float32')/255,\n",
    "                   seven.astype('float32')/255,\n",
    "                   eight.astype('float32')/255])"
   ]
  },
  {
   "cell_type": "code",
   "execution_count": 43,
   "metadata": {
    "ExecuteTime": {
     "end_time": "2023-02-17T01:31:08.988741Z",
     "start_time": "2023-02-17T01:31:08.834768Z"
    },
    "scrolled": true
   },
   "outputs": [
    {
     "name": "stdout",
     "output_type": "stream",
     "text": [
      "1/1 [==============================] - 0s 46ms/step\n"
     ]
    }
   ],
   "source": [
    "newX = np.array([two, seven, eight])\n",
    "pred = model.predict(newX)"
   ]
  },
  {
   "cell_type": "code",
   "execution_count": 44,
   "metadata": {
    "ExecuteTime": {
     "end_time": "2023-02-17T01:31:10.011918Z",
     "start_time": "2023-02-17T01:31:09.987873Z"
    }
   },
   "outputs": [
    {
     "data": {
      "text/plain": [
       "array([2, 7, 8], dtype=int64)"
      ]
     },
     "execution_count": 44,
     "metadata": {},
     "output_type": "execute_result"
    }
   ],
   "source": [
    "np.argmax(pred, axis=-1)"
   ]
  }
 ],
 "metadata": {
  "kernelspec": {
   "display_name": "Python 3 (ipykernel)",
   "language": "python",
   "name": "python3"
  },
  "language_info": {
   "codemirror_mode": {
    "name": "ipython",
    "version": 3
   },
   "file_extension": ".py",
   "mimetype": "text/x-python",
   "name": "python",
   "nbconvert_exporter": "python",
   "pygments_lexer": "ipython3",
   "version": "3.9.16"
  },
  "toc": {
   "base_numbering": 1,
   "nav_menu": {},
   "number_sections": false,
   "sideBar": true,
   "skip_h1_title": false,
   "title_cell": "Table of Contents",
   "title_sidebar": "Contents",
   "toc_cell": false,
   "toc_position": {},
   "toc_section_display": true,
   "toc_window_display": false
  },
  "varInspector": {
   "cols": {
    "lenName": 16,
    "lenType": 16,
    "lenVar": 40
   },
   "kernels_config": {
    "python": {
     "delete_cmd_postfix": "",
     "delete_cmd_prefix": "del ",
     "library": "var_list.py",
     "varRefreshCmd": "print(var_dic_list())"
    },
    "r": {
     "delete_cmd_postfix": ") ",
     "delete_cmd_prefix": "rm(",
     "library": "var_list.r",
     "varRefreshCmd": "cat(var_dic_list()) "
    }
   },
   "types_to_exclude": [
    "module",
    "function",
    "builtin_function_or_method",
    "instance",
    "_Feature"
   ],
   "window_display": false
  }
 },
 "nbformat": 4,
 "nbformat_minor": 2
}
