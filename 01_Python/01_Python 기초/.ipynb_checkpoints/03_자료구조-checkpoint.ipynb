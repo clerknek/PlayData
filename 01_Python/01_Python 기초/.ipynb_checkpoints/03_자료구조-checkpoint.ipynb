{
 "cells": [
  {
   "cell_type": "markdown",
   "id": "da193321",
   "metadata": {
    "slideshow": {
     "slide_type": "slide"
    }
   },
   "source": [
    "# 자료구조란\n",
    "\n",
    "- 여러 개의 값들을 모아서 관리하는 데이터 타입.\n",
    "    - 한 개의 변수는 한 개의 값 밖에는 가지지 못한다. 그러나 하나의 변수로 여러 개의 값 묶어서 저장해 관리해야 할 경우가 있다. \n",
    "    - 예) 고객의 정보의 경우 이름, 나이, 주소, 전화번호 등 여러개의 값이 모여서 하나의 값이 된다. \n",
    "- 파이썬은 데이터를 모으는 방식에 따라 다음과 같이 4개의 타입을 제공한다.\n",
    "    - List: 순서가 있으며 중복된 값들을 모으는 것을 허용하고 구성하는 값들(원소)을 변경할 수 있다.\n",
    "    - Tuple: 순서가 있으며 중복된 값들을 모으는 것을 허용하는데 구성하는 값들을 변경할 수 없다.\n",
    "    - Dictionary: key-value 형태로 값들을 저장해 관리한다. (key: 인덱스 역할을 하는 것을 직접 지정함, 중복이 안됨, 키 값만 다르면 중복된 값 허용)\n",
    "    - Set: 중복을 허용하지 않고 값들의 순서가 없다.\n",
    "- 원소, 성분, 요소, element\n",
    "    - 자료구조의 값들을 구성하는 개별 값들을 말한다.\n",
    "    - len(자료구조) 함수\n",
    "        - 자료구조 내의 원소의 개수를 반환한다."
   ]
  },
  {
   "cell_type": "markdown",
   "id": "1c91dd23",
   "metadata": {},
   "source": [
    "|자료구조| 순서가 있는가?<br>(ordered) | 중복된 값을 허용하나?<br>(mutable) | 수정이 가능한가?<br>(changeable)|식별자 유무<br>(indexing)|구문|특징|\n",
    "|----|----|----|----|----|----|----|\n",
    "|List|O|O|O|O|[값, 값, 값]||\n",
    "|Tuple|O|O|X|O|1. (값, 값, 값)<br>2. 값, 값, 값|함수에 넣을 때는 반드시 괄호 튜플 사용<br>원소가 1개 일때는 마지막에 쉼표 붙여주기|\n",
    "|Dictionary|X|key:X, value:O|O|O|1. {키 : 값, 키 : 값, 키 : 값}<br>2. dict(key=value, key=value)|key값은 불변(Immutable)의 값들만 사용 가능|\n",
    "|Set|X|X|O|X|{값, 값, 값}|{}(빈 중괄호는 dictionary)"
   ]
  },
  {
   "cell_type": "markdown",
   "id": "84431cfd",
   "metadata": {
    "slideshow": {
     "slide_type": "slide"
    }
   },
   "source": [
    "# List (리스트)\n",
    "\n",
    "- 값을 순서대로 모아서 관리하는 자료구조. 원소(element)들을 순번을 이용해 식별한다.\n",
    "    - 각각의 원소가 어떤 값인지를 순번을 가지고 식별하기 때문에 순서가 매우 중요하다. 즉 같은 값에 대해 순서가 바뀌면 안된다.\n",
    "- 각 원소들은 순번을 index라고 하며 값을 조회하거나 변경할 때 index를 이용해 식별한다.\n",
    "    - index는 문자열과 마찮가지로 양수 index와 음수 index 두개가 각 값에 생긴다.\n",
    "    - 양수 index는 앞에서부터 음수 index는 뒤에서 부터 값을 식별할 때 사용하는 것이 편리하다.\n",
    "- 중복된 값들을 저장할 수 있다.\n",
    "- 각 원소들의 데이터 타입은 달라도 상관없다. (문법적으로는 상관 없음)\n",
    "    - 보통은 같은 타입의 데이터를 모은다.\n",
    "- 리스트를 구성하는 원소들을 변경할 수 있다. (추가, 삭제, 변경이 가능)\n",
    "\n",
    "## List 생성 구문\n",
    "```python\n",
    "[값, 값, 값, ..]\n",
    "```"
   ]
  },
  {
   "cell_type": "code",
   "execution_count": 1,
   "id": "efc59691",
   "metadata": {
    "ExecuteTime": {
     "end_time": "2022-12-20T07:42:24.203559Z",
     "start_time": "2022-12-20T07:42:24.182556Z"
    },
    "slideshow": {
     "slide_type": "fragment"
    }
   },
   "outputs": [
    {
     "name": "stdout",
     "output_type": "stream",
     "text": [
      "[10, 20, 30, 40, 50]\n"
     ]
    }
   ],
   "source": [
    "l1 = [10, 20, 30, 40, 50]             \n",
    "print(l1)"
   ]
  },
  {
   "cell_type": "code",
   "execution_count": 2,
   "id": "71faa4be",
   "metadata": {
    "ExecuteTime": {
     "end_time": "2022-12-20T07:43:55.526790Z",
     "start_time": "2022-12-20T07:43:55.500794Z"
    }
   },
   "outputs": [
    {
     "data": {
      "text/plain": [
       "(int, float, bool, str)"
      ]
     },
     "execution_count": 2,
     "metadata": {},
     "output_type": "execute_result"
    }
   ],
   "source": [
    "# type(값): 값의 데이터 타입 반환\n",
    "type(30), type(3.2), type(True), type(\"abc\")"
   ]
  },
  {
   "cell_type": "code",
   "execution_count": 3,
   "id": "f130f34f",
   "metadata": {
    "ExecuteTime": {
     "end_time": "2022-12-20T07:45:33.652956Z",
     "start_time": "2022-12-20T07:45:33.633965Z"
    }
   },
   "outputs": [
    {
     "data": {
      "text/plain": [
       "list"
      ]
     },
     "execution_count": 3,
     "metadata": {},
     "output_type": "execute_result"
    }
   ],
   "source": [
    "type(l1)"
   ]
  },
  {
   "cell_type": "code",
   "execution_count": 4,
   "id": "e9bf07d0",
   "metadata": {
    "ExecuteTime": {
     "end_time": "2022-12-20T07:45:47.392526Z",
     "start_time": "2022-12-20T07:45:47.375536Z"
    }
   },
   "outputs": [
    {
     "name": "stdout",
     "output_type": "stream",
     "text": [
      "<class 'list'>\n"
     ]
    }
   ],
   "source": [
    "print(type(l1))"
   ]
  },
  {
   "cell_type": "code",
   "execution_count": 5,
   "id": "fe8ea3d9",
   "metadata": {
    "ExecuteTime": {
     "end_time": "2022-12-20T07:46:16.372885Z",
     "start_time": "2022-12-20T07:46:16.351889Z"
    }
   },
   "outputs": [
    {
     "data": {
      "text/plain": [
       "[100, 4.5, True, 'abcd']"
      ]
     },
     "execution_count": 5,
     "metadata": {},
     "output_type": "execute_result"
    }
   ],
   "source": [
    "l2 = [100, 4.5, True, \"abcd\"]\n",
    "l2"
   ]
  },
  {
   "cell_type": "code",
   "execution_count": 7,
   "id": "ec772365",
   "metadata": {
    "ExecuteTime": {
     "end_time": "2022-12-20T07:47:54.084263Z",
     "start_time": "2022-12-20T07:47:54.061363Z"
    }
   },
   "outputs": [
    {
     "data": {
      "text/plain": [
       "[100, [1, 2, 3]]"
      ]
     },
     "execution_count": 7,
     "metadata": {},
     "output_type": "execute_result"
    }
   ],
   "source": [
    "l3 = [100, [1, 2, 3]] # 리스트(자료구조)도 값\n",
    "l3"
   ]
  },
  {
   "cell_type": "markdown",
   "id": "08d634bf",
   "metadata": {
    "slideshow": {
     "slide_type": "subslide"
    }
   },
   "source": [
    "## Indexing과 Slicing을 이용한 원소(element) 조회 및 변경\n",
    "\n",
    "### Indexing\n",
    "- 하나의 원소를 조회하거나 변경할 때 사용\n",
    "- 리스트\\[index\\] \n",
    "    - index의 원소를 조회\n",
    "- 리스트\\[index\\] = 값\n",
    "    - index의 원소를 변경 (문자열과 다른 부분)"
   ]
  },
  {
   "cell_type": "markdown",
   "id": "ab5a40cb",
   "metadata": {
    "slideshow": {
     "slide_type": "fragment"
    }
   },
   "source": [
    "### Slicing\n",
    "- 범위로 조회하거나 그 범위의 값들을 변경한다.\n",
    "- 기본구문: **리스트\\[ 시작 index : 종료 index : 간격\\]**\n",
    "    - 시작 index ~ (종료 index – 1)\n",
    "    - 간격을 지정하면 간격만큼 index를 증/감한다. (생략 시 1이 기본 간격)\n",
    "- **0번 index 부터 조회 할 경우 시작 index는 생략가능**\n",
    "    - 리스트 \\[ : 5\\] => 0 ~ 4 까지 조회\n",
    "- **마지막 index까지 (끝까지) 조회 할 경우 종료 index는 생략 가능**\n",
    "    - 리스트\\[2 : \\] => 2번 index 에서 끝까지\n",
    "- **명시적으로 간격을 줄 경우**\n",
    "    - 리스트\\[ : : 3 \\] => 0, 3, 6, 9.. index의 값 조회\n",
    "    - 리스트\\[1 : 9 : 2\\] => 1, 3, 5, 7 index의 값 조회\n",
    "- **시작 index > 종료 index, 간격을 음수로 하면 역으로 반환한다.(Reverse)**\n",
    "    - 리스트\\[5: 1: -1\\] => 5, 4, 3, 2 index의 값 조회\n",
    "    - 리스트\\[: : -1\\]  => 마지막 index ~ 0번 index 까지 의미. Reverse 한다.\n",
    "\n",
    "#### slicing을 이용한 값 변경 (문자열과 다른 부분)\n",
    "- slicing 을 이용할 경우 slicing된 원소 개수와 동일한 개수의 값들을 대입한다.\n",
    "    - `리스트[1:5] = 10,20,30,40` : index 1, 2, 3, 4의 값을 20으로 변경"
   ]
  },
  {
   "cell_type": "code",
   "execution_count": 6,
   "id": "5d462776",
   "metadata": {
    "ExecuteTime": {
     "end_time": "2022-12-21T01:16:00.872303Z",
     "start_time": "2022-12-21T01:16:00.860299Z"
    },
    "slideshow": {
     "slide_type": "fragment"
    }
   },
   "outputs": [
    {
     "name": "stdout",
     "output_type": "stream",
     "text": [
      "2\n",
      "7\n"
     ]
    }
   ],
   "source": [
    "l = [0, 1, 2, 3, 4, 5, 6, 7, 8, 9]\n",
    "# indexing - 한 개 값을 조회\n",
    "print(l[2]) # 앞에서 3번째 값\n",
    "print(l[-3]) # 뒤에서 3번째 값"
   ]
  },
  {
   "cell_type": "code",
   "execution_count": 7,
   "id": "12788af3",
   "metadata": {
    "ExecuteTime": {
     "end_time": "2022-12-21T01:16:01.122297Z",
     "start_time": "2022-12-21T01:16:01.109297Z"
    }
   },
   "outputs": [
    {
     "name": "stdout",
     "output_type": "stream",
     "text": [
      "[0, 1, 2, 3, 4, 5, 6, 7, 8, 9]\n",
      "[0, 100, 2, 3, 4, 5, 6, 7, 8, 9]\n",
      "[0, 100, 2, 3, 4, 5, 6, 7, 800, 9]\n"
     ]
    }
   ],
   "source": [
    "# 변경\n",
    "print(l)\n",
    "l[1] = 100\n",
    "print(l)\n",
    "l[-2] = 800\n",
    "print(l)"
   ]
  },
  {
   "cell_type": "code",
   "execution_count": 11,
   "id": "6e548fcb",
   "metadata": {
    "ExecuteTime": {
     "end_time": "2022-12-21T01:17:34.689656Z",
     "start_time": "2022-12-21T01:17:34.676621Z"
    }
   },
   "outputs": [
    {
     "data": {
      "text/plain": [
       "[2, 4, 6]"
      ]
     },
     "execution_count": 11,
     "metadata": {},
     "output_type": "execute_result"
    }
   ],
   "source": [
    "# slicing: 범위로 여러개의 원소 조회\n",
    "l[2:7:2]"
   ]
  },
  {
   "cell_type": "code",
   "execution_count": 12,
   "id": "1859ccbd",
   "metadata": {
    "ExecuteTime": {
     "end_time": "2022-12-21T01:18:05.361836Z",
     "start_time": "2022-12-21T01:18:05.350833Z"
    }
   },
   "outputs": [
    {
     "data": {
      "text/plain": [
       "[2, 3, 4, 5, 6]"
      ]
     },
     "execution_count": 12,
     "metadata": {},
     "output_type": "execute_result"
    }
   ],
   "source": [
    "l[2:7]"
   ]
  },
  {
   "cell_type": "code",
   "execution_count": 13,
   "id": "bbcb11f4",
   "metadata": {
    "ExecuteTime": {
     "end_time": "2022-12-21T01:18:34.180249Z",
     "start_time": "2022-12-21T01:18:34.164210Z"
    }
   },
   "outputs": [
    {
     "data": {
      "text/plain": [
       "[0, 100, 2, 3, 4, 5, 6]"
      ]
     },
     "execution_count": 13,
     "metadata": {},
     "output_type": "execute_result"
    }
   ],
   "source": [
    "l[:7] # 0 ~ 7-1, 1씩 증가"
   ]
  },
  {
   "cell_type": "code",
   "execution_count": 14,
   "id": "43659160",
   "metadata": {
    "ExecuteTime": {
     "end_time": "2022-12-21T01:19:25.154733Z",
     "start_time": "2022-12-21T01:19:25.130734Z"
    }
   },
   "outputs": [
    {
     "data": {
      "text/plain": [
       "[4, 5, 6, 7, 800, 9]"
      ]
     },
     "execution_count": 14,
     "metadata": {},
     "output_type": "execute_result"
    }
   ],
   "source": [
    "l[4:] # 4 ~ 끝, 1씩 증가"
   ]
  },
  {
   "cell_type": "code",
   "execution_count": 15,
   "id": "e073d786",
   "metadata": {
    "ExecuteTime": {
     "end_time": "2022-12-21T01:19:49.022486Z",
     "start_time": "2022-12-21T01:19:48.999445Z"
    }
   },
   "outputs": [
    {
     "data": {
      "text/plain": [
       "[4, 7]"
      ]
     },
     "execution_count": 15,
     "metadata": {},
     "output_type": "execute_result"
    }
   ],
   "source": [
    "l[4::3] # 4 ~ 끝, 3씩 증가"
   ]
  },
  {
   "cell_type": "code",
   "execution_count": 16,
   "id": "97e9e3a5",
   "metadata": {
    "ExecuteTime": {
     "end_time": "2022-12-21T01:20:45.129512Z",
     "start_time": "2022-12-21T01:20:45.116988Z"
    }
   },
   "outputs": [
    {
     "name": "stdout",
     "output_type": "stream",
     "text": [
      "[0, 100, 2, 3, 4, 5, 6, 7, 800, 9]\n",
      "[800, 7, 6, 5, 4, 3]\n"
     ]
    }
   ],
   "source": [
    "print(l)\n",
    "print(l[8:2:-1]) # 8 ~ 2-(-1)"
   ]
  },
  {
   "cell_type": "code",
   "execution_count": 17,
   "id": "225deb99",
   "metadata": {
    "ExecuteTime": {
     "end_time": "2022-12-21T01:21:48.580777Z",
     "start_time": "2022-12-21T01:21:48.557777Z"
    }
   },
   "outputs": [
    {
     "data": {
      "text/plain": [
       "[9, 800, 7, 6, 5, 4, 3, 2, 100, 0]"
      ]
     },
     "execution_count": 17,
     "metadata": {},
     "output_type": "execute_result"
    }
   ],
   "source": [
    "l[::-1] # 전체 reverse"
   ]
  },
  {
   "cell_type": "markdown",
   "id": "a4f9fe12",
   "metadata": {
    "slideshow": {
     "slide_type": "slide"
    }
   },
   "source": [
    "## List 연산자\n",
    "- 리스트 + 리스트\n",
    "    - 두 리스트의 원소들을 합친 리스트를 반환한다.  ex) [1,2] + [3,4] -> [1,2,3,4]\n",
    "- 리스트 * 정수\n",
    "    - 같은 리스트의 원소들을 정수번 합친 리스트를 반환한다.   ex) [1,2] * 3 -> [1,2,1,2,1,2]\n",
    "- in, not in 연산자\n",
    "    - 값 in 리스트\n",
    "        - 리스트의 원소로 값이 **있으면** True, 없으면 False 반환\n",
    "    - 값 not in 리스트\n",
    "        - 리스트의 원소로 값이 **없으면** True, 있으면 False 반환  \n",
    "- len(리스트)\n",
    "    - 리스트 내의 원소수를 반환.        "
   ]
  },
  {
   "cell_type": "code",
   "execution_count": 19,
   "id": "f085e817",
   "metadata": {
    "ExecuteTime": {
     "end_time": "2022-12-21T01:25:22.391262Z",
     "start_time": "2022-12-21T01:25:22.375222Z"
    },
    "slideshow": {
     "slide_type": "fragment"
    }
   },
   "outputs": [
    {
     "name": "stdout",
     "output_type": "stream",
     "text": [
      "[1, 2, 3, 10, 20, 30]\n"
     ]
    }
   ],
   "source": [
    "a = [1, 2, 3]\n",
    "b = [10, 20, 30]\n",
    "c = a + b\n",
    "print(c)"
   ]
  },
  {
   "cell_type": "code",
   "execution_count": 22,
   "id": "8ade4446",
   "metadata": {
    "ExecuteTime": {
     "end_time": "2022-12-21T01:26:26.329534Z",
     "start_time": "2022-12-21T01:26:26.311539Z"
    }
   },
   "outputs": [
    {
     "name": "stdout",
     "output_type": "stream",
     "text": [
      "[1, 2, 3]\n",
      "[1, 2, 3, 1, 2, 3, 1, 2, 3, 1, 2, 3, 1, 2, 3]\n"
     ]
    }
   ],
   "source": [
    "print(a)\n",
    "d = a * 5  # a + a + a + a + a\n",
    "print(d)"
   ]
  },
  {
   "cell_type": "code",
   "execution_count": 26,
   "id": "727602c2",
   "metadata": {
    "ExecuteTime": {
     "end_time": "2022-12-21T01:27:39.007360Z",
     "start_time": "2022-12-21T01:27:38.992358Z"
    }
   },
   "outputs": [
    {
     "name": "stdout",
     "output_type": "stream",
     "text": [
      "True\n",
      "False\n"
     ]
    }
   ],
   "source": [
    "print(10 in c)  # 10이 리스트 c의 원소로 있는지 여부\n",
    "print(100 in c)"
   ]
  },
  {
   "cell_type": "code",
   "execution_count": 27,
   "id": "4d580b2e",
   "metadata": {
    "ExecuteTime": {
     "end_time": "2022-12-21T01:28:17.155290Z",
     "start_time": "2022-12-21T01:28:17.137295Z"
    }
   },
   "outputs": [
    {
     "name": "stdout",
     "output_type": "stream",
     "text": [
      "False\n",
      "True\n"
     ]
    }
   ],
   "source": [
    "print(10 not in c) # 10이 리스트 c의 원소로 없는지 여부\n",
    "print(100 not in c)"
   ]
  },
  {
   "cell_type": "code",
   "execution_count": 29,
   "id": "1052b0cf",
   "metadata": {
    "ExecuteTime": {
     "end_time": "2022-12-21T01:30:07.516013Z",
     "start_time": "2022-12-21T01:30:07.505021Z"
    }
   },
   "outputs": [
    {
     "name": "stdout",
     "output_type": "stream",
     "text": [
      "False\n",
      "True\n"
     ]
    }
   ],
   "source": [
    "print([1, 2] in c) # [1, 2]가 리스트 c의 원소로 있는지 여부\n",
    "c = [[1, 2], 3, 4]\n",
    "print([1, 2] in c)"
   ]
  },
  {
   "cell_type": "code",
   "execution_count": 32,
   "id": "d1221c10",
   "metadata": {
    "ExecuteTime": {
     "end_time": "2022-12-21T01:32:21.509987Z",
     "start_time": "2022-12-21T01:32:21.493956Z"
    }
   },
   "outputs": [
    {
     "name": "stdout",
     "output_type": "stream",
     "text": [
      "True\n",
      "True\n"
     ]
    }
   ],
   "source": [
    "print(3 in c and 4 in c)  # c안에 3, 4 둘다 있는지 여부\n",
    "print(3 in c or 100 in c) # c안에 3 또는 둘중 하나가 있는지 여부"
   ]
  },
  {
   "cell_type": "code",
   "execution_count": 35,
   "id": "a9eb0837",
   "metadata": {
    "ExecuteTime": {
     "end_time": "2022-12-21T01:34:56.834342Z",
     "start_time": "2022-12-21T01:34:56.823338Z"
    }
   },
   "outputs": [
    {
     "name": "stdout",
     "output_type": "stream",
     "text": [
      "False\n"
     ]
    }
   ],
   "source": [
    "print([2, 1] in c) # 순서가 달라서 False가 나옴"
   ]
  },
  {
   "cell_type": "code",
   "execution_count": 37,
   "id": "0e2ef30d",
   "metadata": {
    "ExecuteTime": {
     "end_time": "2022-12-21T01:35:46.107654Z",
     "start_time": "2022-12-21T01:35:46.085653Z"
    }
   },
   "outputs": [
    {
     "data": {
      "text/plain": [
       "[[1, 2], 3, 4]"
      ]
     },
     "execution_count": 37,
     "metadata": {},
     "output_type": "execute_result"
    }
   ],
   "source": [
    "c"
   ]
  },
  {
   "cell_type": "code",
   "execution_count": 38,
   "id": "3aeed16b",
   "metadata": {
    "ExecuteTime": {
     "end_time": "2022-12-21T01:36:06.831330Z",
     "start_time": "2022-12-21T01:36:06.811357Z"
    }
   },
   "outputs": [
    {
     "data": {
      "text/plain": [
       "(3, 4)"
      ]
     },
     "execution_count": 38,
     "metadata": {},
     "output_type": "execute_result"
    }
   ],
   "source": [
    "c[1], c[2]"
   ]
  },
  {
   "cell_type": "markdown",
   "id": "f90af754",
   "metadata": {
    "slideshow": {
     "slide_type": "slide"
    }
   },
   "source": [
    "## 중첩 리스트 (Nested List)\n",
    "- List가 원소로 List를 가지는 것을 말한다.\n",
    "    - List를 포함한 모든 자료구조 타입들도 다 값이므로 다른 자료구조의 원소로 들어갈 수 있다.    "
   ]
  },
  {
   "cell_type": "code",
   "execution_count": 40,
   "id": "01bede57",
   "metadata": {
    "ExecuteTime": {
     "end_time": "2022-12-21T01:39:03.667313Z",
     "start_time": "2022-12-21T01:39:03.652274Z"
    },
    "slideshow": {
     "slide_type": "fragment"
    }
   },
   "outputs": [
    {
     "name": "stdout",
     "output_type": "stream",
     "text": [
      "[[1, 2, 3], [4, 5, 6], [7, 8, 9]]\n"
     ]
    }
   ],
   "source": [
    "l = [\n",
    "    [1, 2, 3],\n",
    "    [4, 5, 6],\n",
    "    [7, 8, 9]\n",
    "]\n",
    "print(l)"
   ]
  },
  {
   "cell_type": "code",
   "execution_count": 41,
   "id": "d15bf045",
   "metadata": {
    "ExecuteTime": {
     "end_time": "2022-12-21T01:43:59.009117Z",
     "start_time": "2022-12-21T01:43:58.999122Z"
    }
   },
   "outputs": [
    {
     "data": {
      "text/plain": [
       "3"
      ]
     },
     "execution_count": 41,
     "metadata": {},
     "output_type": "execute_result"
    }
   ],
   "source": [
    "len(l)"
   ]
  },
  {
   "cell_type": "code",
   "execution_count": 44,
   "id": "95aeb7e8",
   "metadata": {
    "ExecuteTime": {
     "end_time": "2022-12-21T01:46:02.813277Z",
     "start_time": "2022-12-21T01:46:02.800283Z"
    }
   },
   "outputs": [
    {
     "name": "stdout",
     "output_type": "stream",
     "text": [
      "[1, 2, 3]\n",
      "2\n",
      "9\n"
     ]
    }
   ],
   "source": [
    "print(l[0])\n",
    "print(l[0][1])\n",
    "print(l[2][2])"
   ]
  },
  {
   "cell_type": "markdown",
   "id": "29ff0e07",
   "metadata": {
    "slideshow": {
     "slide_type": "slide"
    }
   },
   "source": [
    "## List 대입\n",
    "리스트의 원소들을 각각 다른 변수에 대입하는 표현식"
   ]
  },
  {
   "cell_type": "code",
   "execution_count": 46,
   "id": "2dfd6c46",
   "metadata": {
    "ExecuteTime": {
     "end_time": "2022-12-21T01:48:09.969015Z",
     "start_time": "2022-12-21T01:48:09.956017Z"
    },
    "slideshow": {
     "slide_type": "fragment"
    }
   },
   "outputs": [
    {
     "name": "stdout",
     "output_type": "stream",
     "text": [
      "1, 2, 3\n"
     ]
    }
   ],
   "source": [
    "l = [1, 2, 3]  # 처리 결과가 여러개일 경우에 변수를 선언하기 위해 사용\n",
    "num1, num2, num3 = l\n",
    "print(num1, num2, num3, sep=', ')"
   ]
  },
  {
   "cell_type": "code",
   "execution_count": 51,
   "id": "bd151aa5",
   "metadata": {
    "ExecuteTime": {
     "end_time": "2022-12-21T01:52:15.401373Z",
     "start_time": "2022-12-21T01:52:15.392366Z"
    }
   },
   "outputs": [
    {
     "name": "stdout",
     "output_type": "stream",
     "text": [
      "100 200 300\n"
     ]
    }
   ],
   "source": [
    "a, b, c = [100, 200, 300]  # 굳이 괄호를 할 필요가 없기 때문에 안쓴다.\n",
    "print(a, b, c)"
   ]
  },
  {
   "cell_type": "code",
   "execution_count": 49,
   "id": "568057a7",
   "metadata": {
    "ExecuteTime": {
     "end_time": "2022-12-21T01:49:49.816684Z",
     "start_time": "2022-12-21T01:49:49.800682Z"
    }
   },
   "outputs": [
    {
     "name": "stdout",
     "output_type": "stream",
     "text": [
      "100 200 300\n"
     ]
    }
   ],
   "source": [
    "d, e, f = 100, 200, 300  # tuple 대입\n",
    "print(d, e, f)"
   ]
  },
  {
   "cell_type": "markdown",
   "id": "826b8780",
   "metadata": {
    "slideshow": {
     "slide_type": "slide"
    }
   },
   "source": [
    "## List 주요 메소드\n",
    "|메소드|설명|\n",
    "|:-|-|\n",
    "|append(value)|value를  추가한다.(1개)|\n",
    "|extend(List)|List의 원소들을 추가한다.(2개 이상)|\n",
    "|sort(\\[reverse=False\\])|원소들을 오름차순 정렬한다. reverse=True로 하면 내림차순정렬 한다.|\n",
    "|insert(index, 삽입할값)|지정한 index에 '삽입할값'을 삽입한다.|\n",
    "|remove(삭제할값)|'삭제할값' 값과 같은 원소를 삭제한다.|\n",
    "|_del list[index] (메소드 X)_ | '삭제할값의 index'값과 같은 원소를 삭제한다|\n",
    "|index(찾을값\\[, 시작index\\])|'찾을값'의 index를 반환한다.|\n",
    "|pop(\\[index\\])|index의 값을 반환하면서 삭제한다. index 생략하면 가장 마지막 값을 반환하며 삭제한다.|\n",
    "|count(값)|'값'이 리스트의 원소로 몇개 있는지 반환한다.|\n",
    "|clear()|리스트 안의 모든 원소들을 삭제한다.|\n",
    "\n"
   ]
  },
  {
   "cell_type": "markdown",
   "id": "65929f87",
   "metadata": {},
   "source": [
    "- append()"
   ]
  },
  {
   "cell_type": "code",
   "execution_count": 82,
   "id": "4b14d8e8",
   "metadata": {
    "ExecuteTime": {
     "end_time": "2022-12-21T02:35:37.384934Z",
     "start_time": "2022-12-21T02:35:37.366938Z"
    },
    "slideshow": {
     "slide_type": "fragment"
    }
   },
   "outputs": [
    {
     "name": "stdout",
     "output_type": "stream",
     "text": [
      "[1, 2, 3]\n",
      "[1, 2, 3, 10]\n"
     ]
    }
   ],
   "source": [
    "l = [1, 2, 3]\n",
    "print(l)\n",
    "l.append(10) # 10을 l에 추가\n",
    "print(l)"
   ]
  },
  {
   "cell_type": "code",
   "execution_count": 83,
   "id": "4ccb75f3",
   "metadata": {
    "ExecuteTime": {
     "end_time": "2022-12-21T02:35:37.826133Z",
     "start_time": "2022-12-21T02:35:37.811130Z"
    }
   },
   "outputs": [
    {
     "name": "stdout",
     "output_type": "stream",
     "text": [
      "['첫번째 결과', '두번째 결과', '세번째 결과']\n"
     ]
    }
   ],
   "source": [
    "result = [] # 빈 리스트\n",
    "# 처리\n",
    "result.append(\"첫번째 결과\")\n",
    "# 처리\n",
    "result.append(\"두번째 결과\")\n",
    "# 처리\n",
    "result.append(\"세번째 결과\")\n",
    "print(result)"
   ]
  },
  {
   "cell_type": "markdown",
   "id": "e83fdd30",
   "metadata": {},
   "source": [
    "- extend()"
   ]
  },
  {
   "cell_type": "code",
   "execution_count": 84,
   "id": "f7efdea9",
   "metadata": {
    "ExecuteTime": {
     "end_time": "2022-12-21T02:35:38.360173Z",
     "start_time": "2022-12-21T02:35:38.344131Z"
    }
   },
   "outputs": [
    {
     "name": "stdout",
     "output_type": "stream",
     "text": [
      "[1, 2, 3, 10, 100, 200, 300]\n"
     ]
    }
   ],
   "source": [
    "l.extend([100, 200, 300])\n",
    "print(l)"
   ]
  },
  {
   "cell_type": "markdown",
   "id": "3265273a",
   "metadata": {},
   "source": [
    "- sort(), sorted"
   ]
  },
  {
   "cell_type": "code",
   "execution_count": 85,
   "id": "18d248b2",
   "metadata": {
    "ExecuteTime": {
     "end_time": "2022-12-21T02:35:38.818922Z",
     "start_time": "2022-12-21T02:35:38.798926Z"
    }
   },
   "outputs": [
    {
     "name": "stdout",
     "output_type": "stream",
     "text": [
      "[2, 100, 7, 20, 30, 4, 8]\n",
      "[2, 4, 7, 8, 20, 30, 100]\n",
      "[100, 30, 20, 8, 7, 4, 2]\n"
     ]
    }
   ],
   "source": [
    "l2 = [2, 100, 7, 20, 30, 4, 8]\n",
    "# 정렬\n",
    "print(l2)\n",
    "l2.sort()\n",
    "print(l2)\n",
    "l2.sort(reverse = True)\n",
    "print(l2)"
   ]
  },
  {
   "cell_type": "code",
   "execution_count": 86,
   "id": "41fdc086",
   "metadata": {
    "ExecuteTime": {
     "end_time": "2022-12-21T02:35:39.827657Z",
     "start_time": "2022-12-21T02:35:39.807658Z"
    }
   },
   "outputs": [
    {
     "data": {
      "text/plain": [
       "[2, 4, 7, 8, 20, 30, 100]"
      ]
     },
     "execution_count": 86,
     "metadata": {},
     "output_type": "execute_result"
    }
   ],
   "source": [
    "sorted(l2)  #l2를 정렬한 결과 담은 새로운 리스트를 반환 <-> l2.sort()는 결과값을 반환하지 않음\n",
    "# list 만 아니라 다른 자료구조들도 정렬한다."
   ]
  },
  {
   "cell_type": "code",
   "execution_count": 98,
   "id": "4cd70cae",
   "metadata": {
    "ExecuteTime": {
     "end_time": "2022-12-21T02:40:50.125067Z",
     "start_time": "2022-12-21T02:40:50.104028Z"
    }
   },
   "outputs": [
    {
     "data": {
      "text/plain": [
       "['-', '3', 'A', 'a', '가']"
      ]
     },
     "execution_count": 98,
     "metadata": {},
     "output_type": "execute_result"
    }
   ],
   "source": [
    "l4 = ['A', 'a', '가', '3', '-']\n",
    "sorted(l4)"
   ]
  },
  {
   "cell_type": "markdown",
   "id": "ac2c1226",
   "metadata": {},
   "source": [
    "- insert()"
   ]
  },
  {
   "cell_type": "code",
   "execution_count": 87,
   "id": "e9693355",
   "metadata": {
    "ExecuteTime": {
     "end_time": "2022-12-21T02:35:40.411661Z",
     "start_time": "2022-12-21T02:35:40.402657Z"
    }
   },
   "outputs": [
    {
     "name": "stdout",
     "output_type": "stream",
     "text": [
      "[100, 30, 1000, 20, 8, 7, 4, 2]\n"
     ]
    }
   ],
   "source": [
    "l2.insert(2, 1000)\n",
    "print(l2)"
   ]
  },
  {
   "cell_type": "markdown",
   "id": "23ae7209",
   "metadata": {},
   "source": [
    "- remove(), del"
   ]
  },
  {
   "cell_type": "code",
   "execution_count": 88,
   "id": "15455c2e",
   "metadata": {
    "ExecuteTime": {
     "end_time": "2022-12-21T02:35:41.555220Z",
     "start_time": "2022-12-21T02:35:41.536177Z"
    }
   },
   "outputs": [
    {
     "name": "stdout",
     "output_type": "stream",
     "text": [
      "[100, 30, 20, 8, 7, 4, 2]\n"
     ]
    }
   ],
   "source": [
    "l2.remove(1000) #값으로 삭제, 처음 찾은 한개만 삭제\n",
    "print(l2)"
   ]
  },
  {
   "cell_type": "code",
   "execution_count": 89,
   "id": "57c7a0fb",
   "metadata": {
    "ExecuteTime": {
     "end_time": "2022-12-21T02:35:42.278594Z",
     "start_time": "2022-12-21T02:35:42.260590Z"
    }
   },
   "outputs": [
    {
     "name": "stdout",
     "output_type": "stream",
     "text": [
      "[1, 1, 1, 1]\n"
     ]
    }
   ],
   "source": [
    "l3 = [1, 1, 1, 1, 1]\n",
    "l3.remove(1)\n",
    "print(l3)\n",
    "#print(l3.remove(2)) # 없는 값을 삭제하면 에러(Exception - 예외)발생"
   ]
  },
  {
   "cell_type": "code",
   "execution_count": 90,
   "id": "98b28f0b",
   "metadata": {
    "ExecuteTime": {
     "end_time": "2022-12-21T02:35:42.945596Z",
     "start_time": "2022-12-21T02:35:42.936634Z"
    }
   },
   "outputs": [
    {
     "name": "stdout",
     "output_type": "stream",
     "text": [
      "[100, 30, 20, 8, 7, 4, 2]\n",
      "[100, 30, 20, 7, 4, 2]\n"
     ]
    }
   ],
   "source": [
    "# index로 삭제\n",
    "print(l2)\n",
    "del l2[3]\n",
    "print(l2)"
   ]
  },
  {
   "cell_type": "markdown",
   "id": "d603b03e",
   "metadata": {},
   "source": [
    "- pop()"
   ]
  },
  {
   "cell_type": "code",
   "execution_count": 91,
   "id": "81e19509",
   "metadata": {
    "ExecuteTime": {
     "end_time": "2022-12-21T02:35:43.596007Z",
     "start_time": "2022-12-21T02:35:43.576010Z"
    }
   },
   "outputs": [
    {
     "name": "stdout",
     "output_type": "stream",
     "text": [
      "2\n",
      "[100, 30, 20, 7, 4]\n"
     ]
    }
   ],
   "source": [
    "# 삭제한 뒤에 삭제한 값을 반환\n",
    "r = l2.pop() # 마지막 index의 값을 삭제하면서 반환\n",
    "print(r)\n",
    "print(l2)"
   ]
  },
  {
   "cell_type": "code",
   "execution_count": 92,
   "id": "74e8b49d",
   "metadata": {
    "ExecuteTime": {
     "end_time": "2022-12-21T02:35:44.453467Z",
     "start_time": "2022-12-21T02:35:44.434462Z"
    }
   },
   "outputs": [
    {
     "name": "stdout",
     "output_type": "stream",
     "text": [
      "20\n",
      "[100, 30, 7, 4]\n"
     ]
    }
   ],
   "source": [
    "r2 = l2.pop(2) # 2번 index의 값을 삭제하면서 반환\n",
    "print(r2)\n",
    "print(l2)"
   ]
  },
  {
   "cell_type": "markdown",
   "id": "73c6f4c1",
   "metadata": {},
   "source": [
    "- clear()"
   ]
  },
  {
   "cell_type": "code",
   "execution_count": 93,
   "id": "816499d7",
   "metadata": {
    "ExecuteTime": {
     "end_time": "2022-12-21T02:35:45.083470Z",
     "start_time": "2022-12-21T02:35:45.065461Z"
    }
   },
   "outputs": [
    {
     "name": "stdout",
     "output_type": "stream",
     "text": [
      "[100, 30, 7, 4]\n",
      "[]\n",
      "0\n"
     ]
    }
   ],
   "source": [
    "print(l2)\n",
    "l2.clear()  # 리스트 삭제\n",
    "print(l2)\n",
    "print(len(l2))"
   ]
  },
  {
   "cell_type": "markdown",
   "id": "666083e3",
   "metadata": {},
   "source": [
    "- index()"
   ]
  },
  {
   "cell_type": "code",
   "execution_count": 96,
   "id": "fbf14284",
   "metadata": {
    "ExecuteTime": {
     "end_time": "2022-12-21T02:38:14.042594Z",
     "start_time": "2022-12-21T02:38:14.018584Z"
    }
   },
   "outputs": [
    {
     "name": "stdout",
     "output_type": "stream",
     "text": [
      "[1, 1, 1, 1]\n",
      "0\n",
      "3\n"
     ]
    }
   ],
   "source": [
    "print(l3)\n",
    "print(l3.index(1)) # 원소값 1이 몇번 index에 있는지 조회, 조회는 앞에서부터 (index 0부터) 찾는다.\n",
    "print(l3.index(1, 3)) # 원소값 1이 몇번 index에 있는지 조회, 조회는 index 3부터 찾는다."
   ]
  },
  {
   "cell_type": "markdown",
   "id": "c672133a",
   "metadata": {},
   "source": [
    "- count()"
   ]
  },
  {
   "cell_type": "code",
   "execution_count": 97,
   "id": "96df66ad",
   "metadata": {
    "ExecuteTime": {
     "end_time": "2022-12-21T02:39:06.601146Z",
     "start_time": "2022-12-21T02:39:06.588106Z"
    }
   },
   "outputs": [
    {
     "data": {
      "text/plain": [
       "4"
      ]
     },
     "execution_count": 97,
     "metadata": {},
     "output_type": "execute_result"
    }
   ],
   "source": [
    "l3.count(1) # 원소 1이 몇개 있는지?"
   ]
  },
  {
   "cell_type": "markdown",
   "id": "5b28f033",
   "metadata": {
    "slideshow": {
     "slide_type": "slide"
    }
   },
   "source": [
    "# Tuple (튜플)\n",
    "- List와 같이 순서대로 원소들을 관리한다. 단 저장된 원소를 변경할 수 없다.\n",
    "- Tuple 은 각 위치(Index) 마다 정해진 의미가 있고 그 값이 한번 설정되면 바뀌지 않는 경우에 사용한다.  ex) 특정 장소의 위도, 경도\n",
    "    - Tuple은 값의 변경되지 않으므로 안전하다.\n",
    "    \n",
    "## Tuple 생성\n",
    "- `(value, value, value, ...)`\n",
    "- 소괄호를 생략할 수 있다.\n",
    "- 원소가 하나인 Tuple 표현식\n",
    "    - `(value,)` 또는 `value,` \n",
    "        - 값 뒤에 `,` 를 붙여준다. `,`를 붙이지 않으면 ( )가 연산자 우선순위 괄호가 된다. "
   ]
  },
  {
   "cell_type": "code",
   "execution_count": 280,
   "id": "17099a9e",
   "metadata": {
    "ExecuteTime": {
     "end_time": "2022-12-21T08:46:16.718668Z",
     "start_time": "2022-12-21T08:46:16.698148Z"
    },
    "slideshow": {
     "slide_type": "fragment"
    }
   },
   "outputs": [
    {
     "name": "stdout",
     "output_type": "stream",
     "text": [
      "(1, 2, 3, 4, 5)\n",
      "('A', 'B', 'C')\n",
      "('A', 20, True)\n",
      "(1, 2, 3, 4, 5)\n"
     ]
    }
   ],
   "source": [
    "t1 = (1, 2, 3, 4, 5)\n",
    "t2 = ('A', 'B', 'C')\n",
    "t3 = ('A', 20, True)\n",
    "t4 = 1, 2, 3, 4, 5\n",
    "print(t1)\n",
    "print(t2)\n",
    "print(t3)\n",
    "print(t4)"
   ]
  },
  {
   "cell_type": "code",
   "execution_count": 100,
   "id": "1ac018a3",
   "metadata": {
    "ExecuteTime": {
     "end_time": "2022-12-21T03:13:52.834863Z",
     "start_time": "2022-12-21T03:13:52.814866Z"
    }
   },
   "outputs": [
    {
     "name": "stdout",
     "output_type": "stream",
     "text": [
      "<class 'tuple'>\n"
     ]
    },
    {
     "data": {
      "text/plain": [
       "tuple"
      ]
     },
     "execution_count": 100,
     "metadata": {},
     "output_type": "execute_result"
    }
   ],
   "source": [
    "print(type(t1))\n",
    "type(t1)"
   ]
  },
  {
   "cell_type": "code",
   "execution_count": 102,
   "id": "d1220b98",
   "metadata": {
    "ExecuteTime": {
     "end_time": "2022-12-21T03:14:31.791618Z",
     "start_time": "2022-12-21T03:14:31.775619Z"
    }
   },
   "outputs": [
    {
     "name": "stdout",
     "output_type": "stream",
     "text": [
      "True\n",
      "False\n"
     ]
    }
   ],
   "source": [
    "print(type(t1) == tuple)\n",
    "print(type(t1) == list)"
   ]
  },
  {
   "cell_type": "code",
   "execution_count": 106,
   "id": "ba39f2cb",
   "metadata": {
    "ExecuteTime": {
     "end_time": "2022-12-21T03:19:23.280713Z",
     "start_time": "2022-12-21T03:19:23.260713Z"
    }
   },
   "outputs": [
    {
     "data": {
      "text/plain": [
       "(int, tuple)"
      ]
     },
     "execution_count": 106,
     "metadata": {},
     "output_type": "execute_result"
    }
   ],
   "source": [
    "t5 = (1)\n",
    "t6 = (1,)\n",
    "type(t5), type(t6)"
   ]
  },
  {
   "cell_type": "markdown",
   "id": "16954356",
   "metadata": {
    "slideshow": {
     "slide_type": "slide"
    }
   },
   "source": [
    "## Indexing과 Slicing을 이용한 원소(element) 조회\n",
    "- 리스트와 동일하다.\n",
    "- 단 튜플은 조회만 가능하고 원소를 변경할 수 없다."
   ]
  },
  {
   "cell_type": "code",
   "execution_count": 103,
   "id": "6c5b9b2c",
   "metadata": {
    "ExecuteTime": {
     "end_time": "2022-12-21T03:17:18.446608Z",
     "start_time": "2022-12-21T03:17:18.429569Z"
    },
    "slideshow": {
     "slide_type": "fragment"
    }
   },
   "outputs": [
    {
     "data": {
      "text/plain": [
       "(0, 1, 2, 3, 4, 5, 6, 7, 8, 9)"
      ]
     },
     "execution_count": 103,
     "metadata": {},
     "output_type": "execute_result"
    }
   ],
   "source": [
    "t = (0, 1, 2, 3, 4, 5, 6, 7, 8, 9)\n",
    "t"
   ]
  },
  {
   "cell_type": "code",
   "execution_count": 104,
   "id": "afff65a9",
   "metadata": {
    "ExecuteTime": {
     "end_time": "2022-12-21T03:17:32.737265Z",
     "start_time": "2022-12-21T03:17:32.718297Z"
    }
   },
   "outputs": [
    {
     "data": {
      "text/plain": [
       "(0, 5, 8)"
      ]
     },
     "execution_count": 104,
     "metadata": {},
     "output_type": "execute_result"
    }
   ],
   "source": [
    "t[0], t[5], t[8] # 원소랑 확인함과 동시에 튜플 생성"
   ]
  },
  {
   "cell_type": "code",
   "execution_count": 108,
   "id": "313e7126",
   "metadata": {
    "ExecuteTime": {
     "end_time": "2022-12-21T03:21:54.532323Z",
     "start_time": "2022-12-21T03:21:54.509325Z"
    }
   },
   "outputs": [
    {
     "ename": "TypeError",
     "evalue": "'tuple' object does not support item assignment",
     "output_type": "error",
     "traceback": [
      "\u001b[1;31m---------------------------------------------------------------------------\u001b[0m",
      "\u001b[1;31mTypeError\u001b[0m                                 Traceback (most recent call last)",
      "\u001b[1;32m~\\AppData\\Local\\Temp\\ipykernel_22868\\4046549411.py\u001b[0m in \u001b[0;36m<module>\u001b[1;34m\u001b[0m\n\u001b[1;32m----> 1\u001b[1;33m \u001b[0mt\u001b[0m\u001b[1;33m[\u001b[0m\u001b[1;36m0\u001b[0m\u001b[1;33m]\u001b[0m \u001b[1;33m=\u001b[0m \u001b[1;36m100\u001b[0m \u001b[1;31m# 튜플은 값을 변경할 수 없다.\u001b[0m\u001b[1;33m\u001b[0m\u001b[1;33m\u001b[0m\u001b[0m\n\u001b[0m",
      "\u001b[1;31mTypeError\u001b[0m: 'tuple' object does not support item assignment"
     ]
    }
   ],
   "source": [
    "t[0] = 100 # 튜플은 값을 변경할 수 없다."
   ]
  },
  {
   "cell_type": "code",
   "execution_count": 115,
   "id": "8ec47d32",
   "metadata": {
    "ExecuteTime": {
     "end_time": "2022-12-21T03:25:10.646282Z",
     "start_time": "2022-12-21T03:25:10.630247Z"
    }
   },
   "outputs": [
    {
     "name": "stdout",
     "output_type": "stream",
     "text": [
      "(0, 1, 2, 3, 4, 5, 6, 7, 8, 9)\n",
      "(2, 4, 6)\n",
      "(0, 2, 4, 6)\n",
      "(0, 2, 4, 6, 8)\n",
      "(2, 3, 4)\n",
      "(7, 5, 3)\n",
      "(9, 8, 7, 6, 5, 4, 3, 2, 1, 0)\n"
     ]
    }
   ],
   "source": [
    "# slicing\n",
    "print(t)\n",
    "print(t[2:8:2])\n",
    "print(t[:8:2])\n",
    "print(t[::2])\n",
    "print(t[2:5])\n",
    "print(t[7:2:-2])\n",
    "print(t[::-1])"
   ]
  },
  {
   "cell_type": "markdown",
   "id": "135101f3",
   "metadata": {
    "slideshow": {
     "slide_type": "slide"
    }
   },
   "source": [
    "## Tuple 연산자\n",
    "- tuple + tuple\n",
    "    - 두 tuple의 원소들을 합친 tuple을 반환한다.\n",
    "- tuple * 정수\n",
    "    - 같은 tuple의 원소들을 정수번 합친 tuple를 반환한다.  \n",
    "- in, not in 연산자\n",
    "    - 값 in tuple\n",
    "        - tuple의 원소로 값이 **있으면** True, 없으면 False 반환\n",
    "    - 값 not in tuple\n",
    "        - tuple의 원소로 값이 **없으면** True, 있으면 False 반환    \n",
    "- len(tuple)\n",
    "    - tuple의 원소 개수 반환        "
   ]
  },
  {
   "cell_type": "code",
   "execution_count": 117,
   "id": "5903e00f",
   "metadata": {
    "ExecuteTime": {
     "end_time": "2022-12-21T03:27:48.925785Z",
     "start_time": "2022-12-21T03:27:48.904784Z"
    },
    "slideshow": {
     "slide_type": "fragment"
    }
   },
   "outputs": [
    {
     "name": "stdout",
     "output_type": "stream",
     "text": [
      "(1, 2, 3, 4, 5)\n",
      "('A', 'B', 'C')\n",
      "(1, 2, 3, 4, 5, 'A', 'B', 'C')\n"
     ]
    }
   ],
   "source": [
    "print(t1)\n",
    "print(t2)\n",
    "\n",
    "result = t1 + t2\n",
    "print(result)\n"
   ]
  },
  {
   "cell_type": "code",
   "execution_count": 118,
   "id": "954dac68",
   "metadata": {
    "ExecuteTime": {
     "end_time": "2022-12-21T03:29:15.742844Z",
     "start_time": "2022-12-21T03:29:15.724805Z"
    }
   },
   "outputs": [
    {
     "name": "stdout",
     "output_type": "stream",
     "text": [
      "(1, 2, 3, 4, 5, 1, 2, 3, 4, 5, 1, 2, 3, 4, 5)\n"
     ]
    }
   ],
   "source": [
    "result2 = t1 * 3 # t1 + t1 + t1\n",
    "print(result2)"
   ]
  },
  {
   "cell_type": "code",
   "execution_count": 121,
   "id": "680068bc",
   "metadata": {
    "ExecuteTime": {
     "end_time": "2022-12-21T03:30:44.882758Z",
     "start_time": "2022-12-21T03:30:44.869760Z"
    }
   },
   "outputs": [
    {
     "name": "stdout",
     "output_type": "stream",
     "text": [
      "True\n",
      "False\n",
      "False\n",
      "True\n"
     ]
    }
   ],
   "source": [
    "print(\"B\" in result)\n",
    "print(\"가\" in result)\n",
    "print(\"B\" not in result)\n",
    "print(\"가\" not in result)"
   ]
  },
  {
   "cell_type": "code",
   "execution_count": 124,
   "id": "c02a3099",
   "metadata": {
    "ExecuteTime": {
     "end_time": "2022-12-21T03:32:13.223749Z",
     "start_time": "2022-12-21T03:32:13.207753Z"
    }
   },
   "outputs": [
    {
     "data": {
      "text/plain": [
       "tuple"
      ]
     },
     "execution_count": 124,
     "metadata": {},
     "output_type": "execute_result"
    }
   ],
   "source": [
    "length = len(t), len(t2), len(result)\n",
    "type(length)"
   ]
  },
  {
   "cell_type": "code",
   "execution_count": 125,
   "id": "6d0d8466",
   "metadata": {
    "ExecuteTime": {
     "end_time": "2022-12-21T03:33:33.472010Z",
     "start_time": "2022-12-21T03:33:33.457010Z"
    }
   },
   "outputs": [
    {
     "name": "stdout",
     "output_type": "stream",
     "text": [
      "10 3 8\n"
     ]
    }
   ],
   "source": [
    "# 튜플 대입\n",
    "len1, len2, len3 = len(t), len(t2), len(result)\n",
    "print(len1, len2, len3)"
   ]
  },
  {
   "cell_type": "markdown",
   "id": "89803fdd",
   "metadata": {
    "slideshow": {
     "slide_type": "subslide"
    }
   },
   "source": [
    "## Tuple의 주요 메소드\n",
    "|메소드|설명|\n",
    "|:-|-|\n",
    "|index(찾을값 \\[, 시작index\\])|'찾을값'이 몇번 index인지 반환한다.|\n",
    "|count(값)|원소로 '값'이 몇개 있는지 반환한다.|"
   ]
  },
  {
   "cell_type": "code",
   "execution_count": 127,
   "id": "6fdb211b",
   "metadata": {
    "ExecuteTime": {
     "end_time": "2022-12-21T03:35:59.643342Z",
     "start_time": "2022-12-21T03:35:59.621314Z"
    }
   },
   "outputs": [
    {
     "name": "stdout",
     "output_type": "stream",
     "text": [
      "(1, 2, 3, 4, 5, 'A', 'B', 'C')\n"
     ]
    }
   ],
   "source": [
    "print(result)"
   ]
  },
  {
   "cell_type": "code",
   "execution_count": 128,
   "id": "93a527af",
   "metadata": {
    "ExecuteTime": {
     "end_time": "2022-12-21T03:37:03.846312Z",
     "start_time": "2022-12-21T03:37:03.833323Z"
    },
    "slideshow": {
     "slide_type": "fragment"
    }
   },
   "outputs": [
    {
     "name": "stdout",
     "output_type": "stream",
     "text": [
      "5\n"
     ]
    }
   ],
   "source": [
    "print(result.index('A'))\n",
    "# print(result.index('A', 6)) # index 6에서 부터 'A'를 찾는다.\n",
    "# 없는 값을 찾을 경우 Exception(예외-에러)가 발생."
   ]
  },
  {
   "cell_type": "code",
   "execution_count": 129,
   "id": "6c9603ba",
   "metadata": {
    "ExecuteTime": {
     "end_time": "2022-12-21T03:38:18.217409Z",
     "start_time": "2022-12-21T03:38:18.198413Z"
    }
   },
   "outputs": [
    {
     "data": {
      "text/plain": [
       "3"
      ]
     },
     "execution_count": 129,
     "metadata": {},
     "output_type": "execute_result"
    }
   ],
   "source": [
    "t = (1, 1, 2, 3, 3, 2, 2, 3)\n",
    "t.count(2)  # 2의 개수"
   ]
  },
  {
   "cell_type": "markdown",
   "id": "e6c196f5",
   "metadata": {
    "slideshow": {
     "slide_type": "slide"
    }
   },
   "source": [
    "# Dictionary\n",
    "- 값을 키(key)-값(value) 쌍으로 묶어서 저장하는 자료구조이다.\n",
    "    - 리스트나 튜플의 index의 역할을 하는 key를 직접 지정한다.\n",
    "    - 서로 의미가 다른 값들을 하나로 묶을 때 그 값의 의미를 key로 가질 수 있는 dictionary를 사용한다.\n",
    "        - cf) 값의 의미가 같을 경우 List나 Tuple을 사용한다.\n",
    "    - key-value 쌍으로 묶은 데이터 한개를 **item(파이썬) 또는 entry(자바)**라고 한다.\n",
    "    \n",
    "## Dictionary 생성\n",
    "- 구문\n",
    "    1. `{ 키 : 값, 키 : 값, 키 : 값 }`\n",
    "    2. dict(key=value, key=value) 함수 이용\n",
    "    - 키(key)는 불변(Immutable)의 값들만 사용 가능하다. (숫자, 문자열, 튜플) 일반적으로 문자열을 사용한다.\n",
    "    - dict() 함수를 사용할 경우 key는 변수로 정의한다"
   ]
  },
  {
   "cell_type": "code",
   "execution_count": 133,
   "id": "d9d37f28",
   "metadata": {
    "ExecuteTime": {
     "end_time": "2022-12-21T05:23:43.091659Z",
     "start_time": "2022-12-21T05:23:43.069133Z"
    },
    "slideshow": {
     "slide_type": "fragment"
    }
   },
   "outputs": [
    {
     "name": "stdout",
     "output_type": "stream",
     "text": [
      "{'사과': 10, '귤': 20, '배': 15, '복숭아': 70, '수박': 5}\n",
      "----------\n",
      "{'이름': '홍길동', '나이': '20', '주소': '서울', '직업': '학생'}\n"
     ]
    }
   ],
   "source": [
    "# 사과가 10개, 귤이 20개, ......\n",
    "# fruit_counts = [10, 20, 50, 70, 90, 5]\n",
    "# fruit_counts[0]\n",
    "\n",
    "fruit_counts = {'사과':10, '귤':20, '배':15, '복숭아':70, '수박':5}\n",
    "\n",
    "# 한 사람의 고객 정보: 이름, 나이, 주소, 직업\n",
    "customer = {\"이름\":\"홍길동\", \"나이\":\"20\", \"주소\":\"서울\", \"직업\":\"학생\"}\n",
    "print(fruit_counts)\n",
    "print('-'*10)\n",
    "print(customer)"
   ]
  },
  {
   "cell_type": "code",
   "execution_count": 136,
   "id": "eb96627b",
   "metadata": {
    "ExecuteTime": {
     "end_time": "2022-12-21T05:25:45.248226Z",
     "start_time": "2022-12-21T05:25:45.240222Z"
    }
   },
   "outputs": [
    {
     "name": "stdout",
     "output_type": "stream",
     "text": [
      "{'name': '홍길동', 'nickname': '홍길동'}\n"
     ]
    }
   ],
   "source": [
    "# key는 중복 허용 X, value는 가능\n",
    "d = {\"name\":\"홍길동\",'nickname':\"홍길동\"}\n",
    "print(d)"
   ]
  },
  {
   "cell_type": "code",
   "execution_count": 138,
   "id": "89a9f1ce",
   "metadata": {
    "ExecuteTime": {
     "end_time": "2022-12-21T05:26:14.132608Z",
     "start_time": "2022-12-21T05:26:14.120650Z"
    }
   },
   "outputs": [
    {
     "name": "stdout",
     "output_type": "stream",
     "text": [
      "{'name': '유관순'}\n"
     ]
    }
   ],
   "source": [
    "d2 = {\"name\":\"홍길동\",\"name\":\"이순신\",\"name\":\"유관순\"}\n",
    "print(d2) # 마지막에 들어간 값만 남음"
   ]
  },
  {
   "cell_type": "code",
   "execution_count": 140,
   "id": "71077fe2",
   "metadata": {
    "ExecuteTime": {
     "end_time": "2022-12-21T05:27:22.717488Z",
     "start_time": "2022-12-21T05:27:22.700489Z"
    }
   },
   "outputs": [
    {
     "name": "stdout",
     "output_type": "stream",
     "text": [
      "{'name': '홍길동', 'age': 30, 'address': '부산'}\n"
     ]
    }
   ],
   "source": [
    "customer2 = dict(name = \"홍길동\", age = 30, address = \"부산\") # key 값은 \"\"를 치지 않음\n",
    "print(customer2)"
   ]
  },
  {
   "cell_type": "markdown",
   "id": "f8c87bd3",
   "metadata": {
    "slideshow": {
     "slide_type": "subslide"
    }
   },
   "source": [
    "## Dictionary 원소 조회 및 변경\n",
    "- 조회: index에 key값을 식별자로 지정한다.\n",
    "    - dictionary\\[ key \\]\n",
    "    - 없는 키로 조회 시 KeyError 발생\n",
    "- 변경\n",
    "    - dictionary\\[ key \\] = 값\n",
    "    - 있는 key값에 값을 대입하면 변경이고 없는 key 일 경우는 새로운 item을 추가하는 것이다."
   ]
  },
  {
   "cell_type": "code",
   "execution_count": 141,
   "id": "459db630",
   "metadata": {
    "ExecuteTime": {
     "end_time": "2022-12-21T05:31:08.701689Z",
     "start_time": "2022-12-21T05:31:08.691653Z"
    },
    "slideshow": {
     "slide_type": "fragment"
    }
   },
   "outputs": [
    {
     "name": "stdout",
     "output_type": "stream",
     "text": [
      "{'이름': '홍길동', '나이': '20', '주소': '서울', '직업': '학생'}\n"
     ]
    }
   ],
   "source": [
    "print(customer)"
   ]
  },
  {
   "cell_type": "code",
   "execution_count": 142,
   "id": "14a844bc",
   "metadata": {
    "ExecuteTime": {
     "end_time": "2022-12-21T05:31:51.542204Z",
     "start_time": "2022-12-21T05:31:51.525192Z"
    }
   },
   "outputs": [
    {
     "name": "stdout",
     "output_type": "stream",
     "text": [
      "이름: 홍길동\n",
      "직업: 학생\n"
     ]
    }
   ],
   "source": [
    "print(\"이름:\", customer[\"이름\"])\n",
    "print(\"직업:\", customer[\"직업\"])"
   ]
  },
  {
   "cell_type": "code",
   "execution_count": 144,
   "id": "06036f92",
   "metadata": {
    "ExecuteTime": {
     "end_time": "2022-12-21T05:32:40.280958Z",
     "start_time": "2022-12-21T05:32:40.263749Z"
    }
   },
   "outputs": [
    {
     "ename": "KeyError",
     "evalue": "'키'",
     "output_type": "error",
     "traceback": [
      "\u001b[1;31m---------------------------------------------------------------------------\u001b[0m",
      "\u001b[1;31mKeyError\u001b[0m                                  Traceback (most recent call last)",
      "\u001b[1;32m~\\AppData\\Local\\Temp\\ipykernel_22868\\4240661108.py\u001b[0m in \u001b[0;36m<module>\u001b[1;34m\u001b[0m\n\u001b[0;32m      1\u001b[0m \u001b[1;31m# 없는 키로 조회 -> Exception 발생\u001b[0m\u001b[1;33m\u001b[0m\u001b[1;33m\u001b[0m\u001b[0m\n\u001b[1;32m----> 2\u001b[1;33m \u001b[0mcustomer\u001b[0m\u001b[1;33m[\u001b[0m\u001b[1;34m\"키\"\u001b[0m\u001b[1;33m]\u001b[0m\u001b[1;33m\u001b[0m\u001b[1;33m\u001b[0m\u001b[0m\n\u001b[0m",
      "\u001b[1;31mKeyError\u001b[0m: '키'"
     ]
    }
   ],
   "source": [
    "# 없는 키로 조회 -> Exception 발생\n",
    "customer[\"키\"]"
   ]
  },
  {
   "cell_type": "code",
   "execution_count": 145,
   "id": "acda6ecd",
   "metadata": {
    "ExecuteTime": {
     "end_time": "2022-12-21T05:33:24.531711Z",
     "start_time": "2022-12-21T05:33:24.512748Z"
    }
   },
   "outputs": [
    {
     "data": {
      "text/plain": [
       "{'이름': '홍길동', '나이': 10, '주소': '서울', '직업': '학생'}"
      ]
     },
     "execution_count": 145,
     "metadata": {},
     "output_type": "execute_result"
    }
   ],
   "source": [
    "customer[\"나이\"] = 10 # 있는 키의 값을 대입 -> 변경\n",
    "customer"
   ]
  },
  {
   "cell_type": "code",
   "execution_count": 146,
   "id": "a9f01ccf",
   "metadata": {
    "ExecuteTime": {
     "end_time": "2022-12-21T05:33:56.202667Z",
     "start_time": "2022-12-21T05:33:56.188668Z"
    }
   },
   "outputs": [
    {
     "data": {
      "text/plain": [
       "{'이름': '홍길동', '나이': 10, '주소': '서울', '직업': '학생', '몸무게': 70.58}"
      ]
     },
     "execution_count": 146,
     "metadata": {},
     "output_type": "execute_result"
    }
   ],
   "source": [
    "customer[\"몸무게\"] = 70.58 # 없는 키에 값을 대입 -> 추가\n",
    "customer"
   ]
  },
  {
   "cell_type": "markdown",
   "id": "d5aade1e",
   "metadata": {
    "slideshow": {
     "slide_type": "slide"
    }
   },
   "source": [
    "## Dictionary 연산자\n",
    "\n",
    "- in, not in 연산자\n",
    "    - 값 in dictionary\n",
    "        - dictionary의 **Key**로 값이 **있으면** True, 없으면 False 반환\n",
    "    - 값 not in tuple\n",
    "        - dictionary의 **Key**로 값이 **없으면** True, 있으면 False 반환    \n",
    "- len(dictionary)\n",
    "    - dictionary의 **Item의 개수** 반환        "
   ]
  },
  {
   "cell_type": "code",
   "execution_count": 147,
   "id": "4a7c9061",
   "metadata": {
    "ExecuteTime": {
     "end_time": "2022-12-21T05:37:50.102899Z",
     "start_time": "2022-12-21T05:37:50.082861Z"
    },
    "slideshow": {
     "slide_type": "fragment"
    }
   },
   "outputs": [
    {
     "data": {
      "text/plain": [
       "True"
      ]
     },
     "execution_count": 147,
     "metadata": {},
     "output_type": "execute_result"
    }
   ],
   "source": [
    "print(\"나이\" in customer) # 딕셔너리에 \"나이\" key가 있는지 여부\n",
    "print(\"나이\" not in customer) # 딕셔너리에 \"나이\" key가 없는지 여부"
   ]
  },
  {
   "cell_type": "code",
   "execution_count": 148,
   "id": "7e8b5f57",
   "metadata": {
    "ExecuteTime": {
     "end_time": "2022-12-21T05:39:24.012615Z",
     "start_time": "2022-12-21T05:39:23.996571Z"
    }
   },
   "outputs": [
    {
     "data": {
      "text/plain": [
       "False"
      ]
     },
     "execution_count": 148,
     "metadata": {},
     "output_type": "execute_result"
    }
   ],
   "source": [
    "10 in customer # key 값만 찾음"
   ]
  },
  {
   "cell_type": "code",
   "execution_count": 149,
   "id": "db2d59ed",
   "metadata": {
    "ExecuteTime": {
     "end_time": "2022-12-21T05:39:44.582003Z",
     "start_time": "2022-12-21T05:39:44.567962Z"
    }
   },
   "outputs": [
    {
     "data": {
      "text/plain": [
       "5"
      ]
     },
     "execution_count": 149,
     "metadata": {},
     "output_type": "execute_result"
    }
   ],
   "source": [
    "len(customer) # item의 개수 반환"
   ]
  },
  {
   "cell_type": "markdown",
   "id": "9f620ec1",
   "metadata": {
    "slideshow": {
     "slide_type": "slide"
    }
   },
   "source": [
    "## Dictionary 주요 메소드\n",
    "\n",
    "|메소드|설명|\n",
    "|:-|-|\n",
    "|get(key\\[, 기본값\\])|key의 item의 값을 반환한다. 단 key가 없을 경우 None또는 기본값을 반환한다.|\n",
    "|pop(key)|key의 item의 값을 반환하면서 dictionary에서 삭제한다. 없는 key일 경우 KeyError발생(리스트와는 다르게 순서가 없기 때문)|\n",
    "|clear()|dictionary의 모든 item들을 삭제한다.|\n",
    "|_del dict\\[key\\] (메소드 X)_|key의 item을 제거한다.|\n",
    "|items()|item의 key, value를 튜플로 묶어 모아 반환한다.|\n",
    "|keys()|key값들만 모아 반환한다.|\n",
    "|values()|value값들만 모아 반환한다.|"
   ]
  },
  {
   "cell_type": "code",
   "execution_count": 150,
   "id": "350e7ad5",
   "metadata": {
    "ExecuteTime": {
     "end_time": "2022-12-21T05:44:36.458862Z",
     "start_time": "2022-12-21T05:44:36.434864Z"
    },
    "slideshow": {
     "slide_type": "fragment"
    }
   },
   "outputs": [
    {
     "data": {
      "text/plain": [
       "{'이름': '홍길동', '나이': 10, '주소': '서울', '직업': '학생', '몸무게': 70.58}"
      ]
     },
     "execution_count": 150,
     "metadata": {},
     "output_type": "execute_result"
    }
   ],
   "source": [
    "customer"
   ]
  },
  {
   "cell_type": "code",
   "execution_count": 153,
   "id": "e2428a46",
   "metadata": {
    "ExecuteTime": {
     "end_time": "2022-12-21T05:45:53.954253Z",
     "start_time": "2022-12-21T05:45:53.934249Z"
    }
   },
   "outputs": [
    {
     "name": "stdout",
     "output_type": "stream",
     "text": [
      "None\n",
      "70.58\n"
     ]
    }
   ],
   "source": [
    "v = customer.get(\"키\") # key가 없을 경우 None을 반환한다.(default)\n",
    "print(v)\n",
    "v2 = customer.get(\"몸무게\")\n",
    "print(v2)"
   ]
  },
  {
   "cell_type": "code",
   "execution_count": 154,
   "id": "5bc70531",
   "metadata": {
    "ExecuteTime": {
     "end_time": "2022-12-21T05:47:06.962596Z",
     "start_time": "2022-12-21T05:47:06.945606Z"
    }
   },
   "outputs": [
    {
     "name": "stdout",
     "output_type": "stream",
     "text": [
      "키는 수집 못함\n",
      "70.58\n"
     ]
    }
   ],
   "source": [
    "v = customer.get(\"키\", \"키는 수집 못함\") # key가 없을 경우 \"키는 수집 못함\"을 반환한다.\n",
    "print(v)\n",
    "v2 = customer.get(\"몸무게\", \"몸무게는 수집 못함\")\n",
    "print(v2)"
   ]
  },
  {
   "cell_type": "code",
   "execution_count": 155,
   "id": "e6992ba4",
   "metadata": {
    "ExecuteTime": {
     "end_time": "2022-12-21T05:48:21.682554Z",
     "start_time": "2022-12-21T05:48:21.660560Z"
    }
   },
   "outputs": [
    {
     "name": "stdout",
     "output_type": "stream",
     "text": [
      "{'이름': '홍길동', '나이': 10, '주소': '서울', '직업': '학생', '몸무게': 70.58}\n",
      "10\n",
      "{'이름': '홍길동', '주소': '서울', '직업': '학생', '몸무게': 70.58}\n"
     ]
    }
   ],
   "source": [
    "print(customer)\n",
    "age = customer.pop('나이')\n",
    "print(age)\n",
    "print(customer)"
   ]
  },
  {
   "cell_type": "code",
   "execution_count": 156,
   "id": "ff0f45a3",
   "metadata": {
    "ExecuteTime": {
     "end_time": "2022-12-21T05:49:21.456171Z",
     "start_time": "2022-12-21T05:49:21.440129Z"
    }
   },
   "outputs": [
    {
     "name": "stdout",
     "output_type": "stream",
     "text": [
      "{'이름': '홍길동', '주소': '서울', '직업': '학생', '몸무게': 70.58}\n",
      "{'이름': '홍길동', '주소': '서울', '직업': '학생'}\n"
     ]
    }
   ],
   "source": [
    "print(customer)\n",
    "del customer['몸무게']\n",
    "print(customer)"
   ]
  },
  {
   "cell_type": "code",
   "execution_count": 160,
   "id": "6831b7f2",
   "metadata": {
    "ExecuteTime": {
     "end_time": "2022-12-21T05:51:12.680201Z",
     "start_time": "2022-12-21T05:51:12.657204Z"
    }
   },
   "outputs": [
    {
     "data": {
      "text/plain": [
       "dict_items([('이름', '홍길동'), ('주소', '서울'), ('직업', '학생')])"
      ]
     },
     "execution_count": 160,
     "metadata": {},
     "output_type": "execute_result"
    }
   ],
   "source": [
    "customer.items() # dict_items == 딕셔너리 용 list"
   ]
  },
  {
   "cell_type": "code",
   "execution_count": 161,
   "id": "aa6f715f",
   "metadata": {
    "ExecuteTime": {
     "end_time": "2022-12-21T05:51:23.244709Z",
     "start_time": "2022-12-21T05:51:23.227300Z"
    }
   },
   "outputs": [
    {
     "data": {
      "text/plain": [
       "dict_keys(['이름', '주소', '직업'])"
      ]
     },
     "execution_count": 161,
     "metadata": {},
     "output_type": "execute_result"
    }
   ],
   "source": [
    "customer.keys()"
   ]
  },
  {
   "cell_type": "code",
   "execution_count": 165,
   "id": "5ff69f18",
   "metadata": {
    "ExecuteTime": {
     "end_time": "2022-12-21T05:52:17.690200Z",
     "start_time": "2022-12-21T05:52:17.680707Z"
    }
   },
   "outputs": [
    {
     "data": {
      "text/plain": [
       "dict_values(['홍길동', '서울', '학생'])"
      ]
     },
     "execution_count": 165,
     "metadata": {},
     "output_type": "execute_result"
    }
   ],
   "source": [
    "customer.values()"
   ]
  },
  {
   "cell_type": "code",
   "execution_count": 166,
   "id": "9660c71f",
   "metadata": {
    "ExecuteTime": {
     "end_time": "2022-12-21T06:12:55.206816Z",
     "start_time": "2022-12-21T06:12:55.184819Z"
    }
   },
   "outputs": [
    {
     "name": "stdout",
     "output_type": "stream",
     "text": [
      "이름 , 홍길동\n",
      "주소 , 서울\n",
      "직업 , 학생\n"
     ]
    }
   ],
   "source": [
    "for k, v in customer.items():\n",
    "    print(k, v, sep=\" , \")"
   ]
  },
  {
   "cell_type": "code",
   "execution_count": 167,
   "id": "623a53f5",
   "metadata": {
    "ExecuteTime": {
     "end_time": "2022-12-21T06:14:34.771439Z",
     "start_time": "2022-12-21T06:14:34.759399Z"
    }
   },
   "outputs": [
    {
     "name": "stdout",
     "output_type": "stream",
     "text": [
      "10\n",
      "20\n"
     ]
    }
   ],
   "source": [
    "print(10);print(20) # 이렇게 한줄에 명령문을 2개를 쓸 수는 있지만 쓰지 않는 편이 좋다"
   ]
  },
  {
   "cell_type": "markdown",
   "id": "d97869af",
   "metadata": {
    "slideshow": {
     "slide_type": "slide"
    }
   },
   "source": [
    "# Set \n",
    "\n",
    "- Set은 중복되는 값을 허용하지 않고 순서를 신경 쓰지 않는다.\n",
    "    - 원소를 식별할 수 있는 식별자가 없기 때문에 Set은 indexing과 slicing을 지원하지 않는다\n",
    "\n",
    "## Set 생성\n",
    "- 구문\n",
    "    - {값, 값, 값 }\n",
    "\n",
    "> -빈 Dictionary 만들기\n",
    ">    - info = {}\n",
    ">    - 중괄호만 사용하면 빈 set이 아니라 빈 dictionary를 생성하는 것임.\n"
   ]
  },
  {
   "cell_type": "code",
   "execution_count": 168,
   "id": "5c88480a",
   "metadata": {
    "ExecuteTime": {
     "end_time": "2022-12-21T06:20:34.712822Z",
     "start_time": "2022-12-21T06:20:34.695779Z"
    },
    "slideshow": {
     "slide_type": "fragment"
    }
   },
   "outputs": [
    {
     "name": "stdout",
     "output_type": "stream",
     "text": [
      "{1, 2, 3, 4}\n"
     ]
    }
   ],
   "source": [
    "s = {1, 2, 3, 4}\n",
    "print(s)"
   ]
  },
  {
   "cell_type": "code",
   "execution_count": 175,
   "id": "68822b41",
   "metadata": {
    "ExecuteTime": {
     "end_time": "2022-12-21T06:24:27.902251Z",
     "start_time": "2022-12-21T06:24:27.878736Z"
    }
   },
   "outputs": [
    {
     "name": "stdout",
     "output_type": "stream",
     "text": [
      "{1, 2, 3, 4, 5, 6, 7, 8, 9, 10}\n"
     ]
    }
   ],
   "source": [
    "s2 = {9, 10, 1, 1, 1, 2, 2, 2, 2, 2, 3, 4, 5, 5, 5, 6, 8, 7} # 중복된 값을 허용하지 않는다.\n",
    "print(s2)"
   ]
  },
  {
   "cell_type": "code",
   "execution_count": 176,
   "id": "51b30bba",
   "metadata": {
    "ExecuteTime": {
     "end_time": "2022-12-21T06:24:28.313742Z",
     "start_time": "2022-12-21T06:24:28.298740Z"
    }
   },
   "outputs": [
    {
     "ename": "TypeError",
     "evalue": "'set' object is not subscriptable",
     "output_type": "error",
     "traceback": [
      "\u001b[1;31m---------------------------------------------------------------------------\u001b[0m",
      "\u001b[1;31mTypeError\u001b[0m                                 Traceback (most recent call last)",
      "\u001b[1;32m~\\AppData\\Local\\Temp\\ipykernel_22868\\774807155.py\u001b[0m in \u001b[0;36m<module>\u001b[1;34m\u001b[0m\n\u001b[1;32m----> 1\u001b[1;33m \u001b[0ms2\u001b[0m\u001b[1;33m[\u001b[0m\u001b[1;36m2\u001b[0m\u001b[1;33m]\u001b[0m \u001b[1;31m# 개별 원소를 조회할 수 없다.\u001b[0m\u001b[1;33m\u001b[0m\u001b[1;33m\u001b[0m\u001b[0m\n\u001b[0m",
      "\u001b[1;31mTypeError\u001b[0m: 'set' object is not subscriptable"
     ]
    }
   ],
   "source": [
    "s2[2] # 개별 원소를 조회할 수 없다."
   ]
  },
  {
   "cell_type": "code",
   "execution_count": 177,
   "id": "9ff81ff3",
   "metadata": {
    "ExecuteTime": {
     "end_time": "2022-12-21T06:24:28.781540Z",
     "start_time": "2022-12-21T06:24:28.759939Z"
    }
   },
   "outputs": [
    {
     "name": "stdout",
     "output_type": "stream",
     "text": [
      "3\n"
     ]
    }
   ],
   "source": [
    "for v in s2:\n",
    "    #print(v) # 전체 조회하는 것은 가능\n",
    "    if v == 3:\n",
    "        print(v)"
   ]
  },
  {
   "cell_type": "markdown",
   "id": "79cf0f20",
   "metadata": {
    "slideshow": {
     "slide_type": "slide"
    }
   },
   "source": [
    "## Set 연산자\n",
    "\n",
    "- in, not in 연산자\n",
    "    - 값 in Set\n",
    "        - Set의 원소로 값이 **있으면** True, 없으면 False 반환\n",
    "    - 값 not in Set\n",
    "        - Set의 원소로 값이 **없으면** True, 있으면 False 반환    \n",
    "- len(Set)\n",
    "    - Set의 **원소의 개수** 반환        "
   ]
  },
  {
   "cell_type": "code",
   "execution_count": 178,
   "id": "80be18ad",
   "metadata": {
    "ExecuteTime": {
     "end_time": "2022-12-21T06:26:02.461834Z",
     "start_time": "2022-12-21T06:26:02.439795Z"
    },
    "slideshow": {
     "slide_type": "fragment"
    }
   },
   "outputs": [
    {
     "name": "stdout",
     "output_type": "stream",
     "text": [
      "True\n",
      "False\n"
     ]
    }
   ],
   "source": [
    "print(10 in s2) # s2에 10이 있는지 여부\n",
    "print(10 not in s2) # s2에 10이 없는지 여부"
   ]
  },
  {
   "cell_type": "code",
   "execution_count": 179,
   "id": "7bd61ded",
   "metadata": {
    "ExecuteTime": {
     "end_time": "2022-12-21T06:26:18.177063Z",
     "start_time": "2022-12-21T06:26:18.164535Z"
    }
   },
   "outputs": [
    {
     "data": {
      "text/plain": [
       "10"
      ]
     },
     "execution_count": 179,
     "metadata": {},
     "output_type": "execute_result"
    }
   ],
   "source": [
    "len(s2)"
   ]
  },
  {
   "cell_type": "markdown",
   "id": "080c2a17",
   "metadata": {
    "slideshow": {
     "slide_type": "slide"
    }
   },
   "source": [
    "## Set의 주요 메소드\n",
    "\n",
    "|메소드|설명|\n",
    "|-|-|\n",
    "|add(값)|집합에 값 추가|\n",
    "|update(자료구조)|자료구조내의 원소들을 모두 집합에 추가|\n",
    "|pop()|원소를 반환하고 Set에서 삭제한다.(set 값을 넣어주면 자동으로 sort가 되기 때문에 무엇을 반환할 지 모름)|\n",
    "|remove(값)|값을 찾아서 Set에서 삭제한다.|"
   ]
  },
  {
   "cell_type": "code",
   "execution_count": 180,
   "id": "b12f08b0",
   "metadata": {
    "ExecuteTime": {
     "end_time": "2022-12-21T06:29:07.473875Z",
     "start_time": "2022-12-21T06:29:07.455866Z"
    },
    "slideshow": {
     "slide_type": "fragment"
    }
   },
   "outputs": [
    {
     "name": "stdout",
     "output_type": "stream",
     "text": [
      "{1, 2, 3, 4, 5, 6, 7, 8, 9, 10, 11}\n"
     ]
    }
   ],
   "source": [
    "s2.add(11)\n",
    "print(s2)"
   ]
  },
  {
   "cell_type": "code",
   "execution_count": 181,
   "id": "8d2de86f",
   "metadata": {
    "ExecuteTime": {
     "end_time": "2022-12-21T06:29:21.706445Z",
     "start_time": "2022-12-21T06:29:21.686921Z"
    }
   },
   "outputs": [
    {
     "name": "stdout",
     "output_type": "stream",
     "text": [
      "{1, 2, 3, 4, 5, 6, 7, 8, 9, 10, 11, -11}\n"
     ]
    }
   ],
   "source": [
    "s2.add(-11)\n",
    "print(s2)"
   ]
  },
  {
   "cell_type": "code",
   "execution_count": 186,
   "id": "cedaa7e1",
   "metadata": {
    "ExecuteTime": {
     "end_time": "2022-12-21T06:31:02.571111Z",
     "start_time": "2022-12-21T06:31:02.561592Z"
    }
   },
   "outputs": [
    {
     "name": "stdout",
     "output_type": "stream",
     "text": [
      "{0, 1, 2, 3, 4, 5, 6, 7, 8, 9, 10, 11, -11, -9, -8, 'a'}\n",
      "{0, 1, 2, 3, 4, 5, 6, 7, 8, 9, 10, 11, -11, -9, -8, 'a'}\n",
      "{0, 1, 2, 3, 4, 5, 6, 7, 8, 9, 10, 11, -11, -10, -9, -8, 'a'}\n"
     ]
    }
   ],
   "source": [
    "s2.add(0)\n",
    "print(s2)\n",
    "s2.add('a')\n",
    "print(s2)\n",
    "s2.add(-9)\n",
    "s2.add(-10)\n",
    "print(s2)"
   ]
  },
  {
   "cell_type": "code",
   "execution_count": 187,
   "id": "33d04b4b",
   "metadata": {
    "ExecuteTime": {
     "end_time": "2022-12-21T06:31:33.239138Z",
     "start_time": "2022-12-21T06:31:33.225123Z"
    }
   },
   "outputs": [
    {
     "name": "stdout",
     "output_type": "stream",
     "text": [
      "{0, 1, 2, 3, 4, 5, 6, 7, 8, 9, 10, 11, 300, 200, 100, -11, -10, -9, -8, 'a'}\n"
     ]
    }
   ],
   "source": [
    "s2.update([1,1,1,2,100,200,200,200,300])\n",
    "print(s2)"
   ]
  },
  {
   "cell_type": "code",
   "execution_count": 188,
   "id": "aac9c4bd",
   "metadata": {
    "ExecuteTime": {
     "end_time": "2022-12-21T06:32:10.267254Z",
     "start_time": "2022-12-21T06:32:10.255744Z"
    }
   },
   "outputs": [
    {
     "name": "stdout",
     "output_type": "stream",
     "text": [
      "{0, 1, 2, 3, 4, 5, 6, 7, 8, 9, 10, 11, 300, 'b', 200, 100, -11, -10, -9, -8, 'a'}\n"
     ]
    }
   ],
   "source": [
    "s2.update({'a':100, 'b':200})\n",
    "print(s2)"
   ]
  },
  {
   "cell_type": "code",
   "execution_count": 189,
   "id": "c6ea2a8f",
   "metadata": {
    "ExecuteTime": {
     "end_time": "2022-12-21T06:32:35.951975Z",
     "start_time": "2022-12-21T06:32:35.937975Z"
    }
   },
   "outputs": [
    {
     "name": "stdout",
     "output_type": "stream",
     "text": [
      "0\n",
      "{1, 2, 3, 4, 5, 6, 7, 8, 9, 10, 11, 300, 'b', 200, 100, -11, -10, -9, -8, 'a'}\n"
     ]
    }
   ],
   "source": [
    "v = s2.pop()\n",
    "print(v)\n",
    "print(s2)"
   ]
  },
  {
   "cell_type": "code",
   "execution_count": 190,
   "id": "5db31db3",
   "metadata": {
    "ExecuteTime": {
     "end_time": "2022-12-21T06:32:56.597534Z",
     "start_time": "2022-12-21T06:32:56.588563Z"
    }
   },
   "outputs": [
    {
     "name": "stdout",
     "output_type": "stream",
     "text": [
      "{1, 2, 3, 4, 5, 6, 8, 9, 10, 11, 300, 'b', 200, 100, -11, -10, -9, -8, 'a'}\n"
     ]
    }
   ],
   "source": [
    "s2.remove(7)\n",
    "print(s2)"
   ]
  },
  {
   "cell_type": "code",
   "execution_count": 191,
   "id": "7329597a",
   "metadata": {
    "ExecuteTime": {
     "end_time": "2022-12-21T06:33:16.729044Z",
     "start_time": "2022-12-21T06:33:16.713029Z"
    }
   },
   "outputs": [
    {
     "ename": "KeyError",
     "evalue": "1000",
     "output_type": "error",
     "traceback": [
      "\u001b[1;31m---------------------------------------------------------------------------\u001b[0m",
      "\u001b[1;31mKeyError\u001b[0m                                  Traceback (most recent call last)",
      "\u001b[1;32m~\\AppData\\Local\\Temp\\ipykernel_22868\\3509685758.py\u001b[0m in \u001b[0;36m<module>\u001b[1;34m\u001b[0m\n\u001b[1;32m----> 1\u001b[1;33m \u001b[0ms2\u001b[0m\u001b[1;33m.\u001b[0m\u001b[0mremove\u001b[0m\u001b[1;33m(\u001b[0m\u001b[1;36m1000\u001b[0m\u001b[1;33m)\u001b[0m\u001b[1;33m\u001b[0m\u001b[1;33m\u001b[0m\u001b[0m\n\u001b[0m\u001b[0;32m      2\u001b[0m \u001b[0mprint\u001b[0m\u001b[1;33m(\u001b[0m\u001b[0ms2\u001b[0m\u001b[1;33m)\u001b[0m\u001b[1;33m\u001b[0m\u001b[1;33m\u001b[0m\u001b[0m\n",
      "\u001b[1;31mKeyError\u001b[0m: 1000"
     ]
    }
   ],
   "source": [
    "s2.remove(1000) # 없는 것 삭제시 Exception 발생\n",
    "print(s2)"
   ]
  },
  {
   "cell_type": "markdown",
   "id": "33d115cd",
   "metadata": {
    "slideshow": {
     "slide_type": "subslide"
    }
   },
   "source": [
    "## Set의 집합연산 연산자 및 메소드\n",
    "\n",
    "- 합집합\n",
    "    - 집합A | 집합B\n",
    "    - 집합A.union(집합B)\n",
    "- 교집합\n",
    "    - 집합A & 집합B\n",
    "    - 집합A.intersection(집합B)\n",
    "- 차집합\n",
    "    - 집합A - 집합B\n",
    "    - 집합A.difference(집합B)"
   ]
  },
  {
   "cell_type": "code",
   "execution_count": 192,
   "id": "64bf5839",
   "metadata": {
    "ExecuteTime": {
     "end_time": "2022-12-21T06:36:53.211945Z",
     "start_time": "2022-12-21T06:36:53.194942Z"
    },
    "slideshow": {
     "slide_type": "fragment"
    }
   },
   "outputs": [
    {
     "name": "stdout",
     "output_type": "stream",
     "text": [
      "{1, 2, 3, 4, 5}\n",
      "{3, 4, 5, 6, 7}\n",
      "{1, 2, 3, 4, 5, 6, 7}\n"
     ]
    }
   ],
   "source": [
    "s1 = {1, 2, 3, 4, 5}\n",
    "s2 = {3, 4, 5, 6, 7}\n",
    "\n",
    "s3 = s1 | s2  #합집합\n",
    "print(s1)\n",
    "print(s2)\n",
    "print(s3)"
   ]
  },
  {
   "cell_type": "code",
   "execution_count": 193,
   "id": "15d2a680",
   "metadata": {
    "ExecuteTime": {
     "end_time": "2022-12-21T06:37:26.751244Z",
     "start_time": "2022-12-21T06:37:26.734246Z"
    }
   },
   "outputs": [
    {
     "name": "stdout",
     "output_type": "stream",
     "text": [
      "{1, 2, 3, 4, 5, 6, 7}\n"
     ]
    }
   ],
   "source": [
    "print(s1.union(s2))"
   ]
  },
  {
   "cell_type": "code",
   "execution_count": 194,
   "id": "47f5ef45",
   "metadata": {
    "ExecuteTime": {
     "end_time": "2022-12-21T06:38:07.968239Z",
     "start_time": "2022-12-21T06:38:07.949239Z"
    }
   },
   "outputs": [
    {
     "name": "stdout",
     "output_type": "stream",
     "text": [
      "{3, 4, 5}\n"
     ]
    }
   ],
   "source": [
    "s4 = s1 & s2  #교집합\n",
    "print(s4)"
   ]
  },
  {
   "cell_type": "code",
   "execution_count": 195,
   "id": "5ea17d4d",
   "metadata": {
    "ExecuteTime": {
     "end_time": "2022-12-21T06:38:22.775566Z",
     "start_time": "2022-12-21T06:38:22.766599Z"
    }
   },
   "outputs": [
    {
     "name": "stdout",
     "output_type": "stream",
     "text": [
      "{3, 4, 5}\n"
     ]
    }
   ],
   "source": [
    "print(s1.intersection(s2))"
   ]
  },
  {
   "cell_type": "code",
   "execution_count": 197,
   "id": "7f9f4c95",
   "metadata": {
    "ExecuteTime": {
     "end_time": "2022-12-21T06:38:56.406470Z",
     "start_time": "2022-12-21T06:38:56.390463Z"
    }
   },
   "outputs": [
    {
     "name": "stdout",
     "output_type": "stream",
     "text": [
      "{1, 2}\n"
     ]
    }
   ],
   "source": [
    "print(s1 - s2)  #차집합"
   ]
  },
  {
   "cell_type": "code",
   "execution_count": 198,
   "id": "ffbf377b",
   "metadata": {
    "ExecuteTime": {
     "end_time": "2022-12-21T06:38:58.014371Z",
     "start_time": "2022-12-21T06:38:58.005342Z"
    }
   },
   "outputs": [
    {
     "name": "stdout",
     "output_type": "stream",
     "text": [
      "{1, 2}\n"
     ]
    }
   ],
   "source": [
    "print(s1.difference(s2))"
   ]
  },
  {
   "cell_type": "markdown",
   "id": "a3778f41",
   "metadata": {
    "slideshow": {
     "slide_type": "slide"
    }
   },
   "source": [
    "# 자료구조 변환 함수\n",
    "\n",
    "- list(자료구조)\n",
    "    - 대상 자료구조/Iterable을 List로 변환한다.\n",
    "- tuple(자료구조)\n",
    "    - 대상 자료구조/Iterable을 Tuple로 변환\n",
    "- set(자료구조)\n",
    "    - 대상 자료구조/Iterable을 Set으로 변환\n",
    "    - 다른 자료구조의 원소 중 중복을 빼고 조회할 때 set()를 이용해 Set으로 변환한다.\n",
    "- Dictionary로 변환하는 함수는 없다. (dict는 dictionary를 만드는 함수이다.)\n",
    "- 변경할 대상이 Dictionary 일 경우에는 key값들만 모아서 변환한다.\n",
    "\n",
    "> - Iterable\n",
    ">    - 반복가능한 객체. 반복문(for in)을 이용해 일련의 값들을 반복적으로 각각 제공하는 객체를 말한다. \n",
    ">    - 대표적으로 자료구조, 문자열 등이 있다."
   ]
  },
  {
   "cell_type": "code",
   "execution_count": 200,
   "id": "07fd6373",
   "metadata": {
    "ExecuteTime": {
     "end_time": "2022-12-21T06:46:19.411204Z",
     "start_time": "2022-12-21T06:46:19.401162Z"
    },
    "slideshow": {
     "slide_type": "fragment"
    }
   },
   "outputs": [
    {
     "name": "stdout",
     "output_type": "stream",
     "text": [
      "{1, 2, 3, 10, 20}\n"
     ]
    }
   ],
   "source": [
    "l = [1, 2, 2, 2, 3, 3, 3, 2, 1, 2,10, 2, 3, 20, 1]\n",
    "고유값 = set(l)\n",
    "print(고유값)"
   ]
  },
  {
   "cell_type": "code",
   "execution_count": 201,
   "id": "268ee2b5",
   "metadata": {
    "ExecuteTime": {
     "end_time": "2022-12-21T06:46:51.591780Z",
     "start_time": "2022-12-21T06:46:51.580762Z"
    }
   },
   "outputs": [
    {
     "name": "stdout",
     "output_type": "stream",
     "text": [
      "{1, 2, 3, 4}\n"
     ]
    }
   ],
   "source": [
    "t = (1, 1, 1, 1, 2, 3, 3, 4)\n",
    "print(set(t))"
   ]
  },
  {
   "cell_type": "code",
   "execution_count": 202,
   "id": "eb3eac08",
   "metadata": {
    "ExecuteTime": {
     "end_time": "2022-12-21T06:47:22.851619Z",
     "start_time": "2022-12-21T06:47:22.835620Z"
    }
   },
   "outputs": [
    {
     "name": "stdout",
     "output_type": "stream",
     "text": [
      "{'C', 'B', 'A'}\n"
     ]
    }
   ],
   "source": [
    "d = {'A':1, 'B':2, 'C':3}\n",
    "print(set(d))"
   ]
  },
  {
   "cell_type": "code",
   "execution_count": 203,
   "id": "792fedb4",
   "metadata": {
    "ExecuteTime": {
     "end_time": "2022-12-21T06:48:41.786091Z",
     "start_time": "2022-12-21T06:48:41.763091Z"
    }
   },
   "outputs": [
    {
     "name": "stdout",
     "output_type": "stream",
     "text": [
      "[1, 2, 3]\n",
      "(1, 2, 30)\n"
     ]
    }
   ],
   "source": [
    "t = (1, 2, 3) # 3->30\n",
    "l = list(t)\n",
    "print(l)\n",
    "l[2] = 30\n",
    "t = tuple(l)\n",
    "print(t)"
   ]
  },
  {
   "cell_type": "code",
   "execution_count": 205,
   "id": "d51d9f92",
   "metadata": {
    "ExecuteTime": {
     "end_time": "2022-12-21T06:50:30.978100Z",
     "start_time": "2022-12-21T06:50:30.961058Z"
    }
   },
   "outputs": [
    {
     "name": "stdout",
     "output_type": "stream",
     "text": [
      "['a', 'b', 'c', 'd', 'e', 'f', '가', '나', '다', '라', '1', '2', '3', '4']\n"
     ]
    }
   ],
   "source": [
    "a = list(\"abcdef가나다라1234\") # 문자열 -> 리스트\n",
    "print(a)"
   ]
  },
  {
   "cell_type": "code",
   "execution_count": 206,
   "id": "4302277f",
   "metadata": {
    "ExecuteTime": {
     "end_time": "2022-12-21T06:51:18.130392Z",
     "start_time": "2022-12-21T06:51:18.120381Z"
    }
   },
   "outputs": [
    {
     "data": {
      "text/plain": [
       "('a', 'b', 'c', 'd', 'e')"
      ]
     },
     "execution_count": 206,
     "metadata": {},
     "output_type": "execute_result"
    }
   ],
   "source": [
    "tuple(\"abcde\")"
   ]
  },
  {
   "cell_type": "code",
   "execution_count": 207,
   "id": "8b3ef611",
   "metadata": {
    "ExecuteTime": {
     "end_time": "2022-12-21T06:51:26.623061Z",
     "start_time": "2022-12-21T06:51:26.597973Z"
    }
   },
   "outputs": [
    {
     "data": {
      "text/plain": [
       "{'a', 'b', 'c', 'd', 'e'}"
      ]
     },
     "execution_count": 207,
     "metadata": {},
     "output_type": "execute_result"
    }
   ],
   "source": [
    "set(\"aabceeed\")"
   ]
  },
  {
   "cell_type": "markdown",
   "id": "b4671a5d",
   "metadata": {
    "slideshow": {
     "slide_type": "skip"
    }
   },
   "source": [
    "# TODO"
   ]
  },
  {
   "cell_type": "code",
   "execution_count": 208,
   "id": "f6b78e60",
   "metadata": {
    "ExecuteTime": {
     "end_time": "2022-12-21T06:59:46.782843Z",
     "start_time": "2022-12-21T06:59:46.769840Z"
    },
    "slideshow": {
     "slide_type": "skip"
    }
   },
   "outputs": [],
   "source": [
    "# 문제 1 ~ 7\n",
    "jumsu = [100, 90, 100, 80, 70, 100, 80, 90, 95, 85] \n",
    "# 위 리스트는 학생번호 1번 ~ 10번까지 10명의 시험 점수이다. "
   ]
  },
  {
   "cell_type": "code",
   "execution_count": 210,
   "id": "64659a80",
   "metadata": {
    "ExecuteTime": {
     "end_time": "2022-12-21T07:00:08.891560Z",
     "start_time": "2022-12-21T07:00:08.874550Z"
    },
    "slideshow": {
     "slide_type": "skip"
    }
   },
   "outputs": [
    {
     "name": "stdout",
     "output_type": "stream",
     "text": [
      "80\n"
     ]
    }
   ],
   "source": [
    "#(1)  7번의 점수를 출력하세요 \n",
    "print(jumsu[6])"
   ]
  },
  {
   "cell_type": "code",
   "execution_count": 212,
   "id": "f4bba07f",
   "metadata": {
    "ExecuteTime": {
     "end_time": "2022-12-21T07:00:35.756055Z",
     "start_time": "2022-12-21T07:00:35.739965Z"
    },
    "slideshow": {
     "slide_type": "skip"
    }
   },
   "outputs": [
    {
     "name": "stdout",
     "output_type": "stream",
     "text": [
      "[100, 90, 100, 80, 70]\n"
     ]
    }
   ],
   "source": [
    "#(2)  1번부터 5번까지의 점수를 출력하세요.\n",
    "print(jumsu[:5])"
   ]
  },
  {
   "cell_type": "code",
   "execution_count": 213,
   "id": "17bd6556",
   "metadata": {
    "ExecuteTime": {
     "end_time": "2022-12-21T07:00:46.515032Z",
     "start_time": "2022-12-21T07:00:46.499033Z"
    },
    "slideshow": {
     "slide_type": "skip"
    }
   },
   "outputs": [
    {
     "name": "stdout",
     "output_type": "stream",
     "text": [
      "[80, 70, 100, 80]\n"
     ]
    }
   ],
   "source": [
    "#(3)  4, 5, 6, 7번의 점수를 출력하세요.\n",
    "print(jumsu[3:7])"
   ]
  },
  {
   "cell_type": "code",
   "execution_count": 250,
   "id": "51da4efa",
   "metadata": {
    "ExecuteTime": {
     "end_time": "2022-12-21T08:06:09.144157Z",
     "start_time": "2022-12-21T08:06:09.127160Z"
    },
    "slideshow": {
     "slide_type": "skip"
    }
   },
   "outputs": [
    {
     "name": "stdout",
     "output_type": "stream",
     "text": [
      "[90, 80, 100, 90, 85]\n"
     ]
    }
   ],
   "source": [
    "#(4) 짝수번째 점수를 출력하세요.\n",
    "print(jumsu[1::2])"
   ]
  },
  {
   "cell_type": "code",
   "execution_count": 251,
   "id": "a95906f1",
   "metadata": {
    "ExecuteTime": {
     "end_time": "2022-12-21T08:06:11.882616Z",
     "start_time": "2022-12-21T08:06:11.863625Z"
    },
    "slideshow": {
     "slide_type": "skip"
    }
   },
   "outputs": [
    {
     "name": "stdout",
     "output_type": "stream",
     "text": [
      "[100, 100, 70, 80, 20]\n"
     ]
    }
   ],
   "source": [
    "#(5) 홀수번째 점수를 출력하세요.\n",
    "print(jumsu[::2])"
   ]
  },
  {
   "cell_type": "code",
   "execution_count": 216,
   "id": "6c20dcea",
   "metadata": {
    "ExecuteTime": {
     "end_time": "2022-12-21T07:01:28.274491Z",
     "start_time": "2022-12-21T07:01:28.251837Z"
    },
    "slideshow": {
     "slide_type": "skip"
    }
   },
   "outputs": [
    {
     "name": "stdout",
     "output_type": "stream",
     "text": [
      "[100, 90, 100, 80, 70, 100, 80, 90, 20, 85]\n"
     ]
    }
   ],
   "source": [
    "#(6) 9번의 점수를 20으로 변경하고 전체 출력하세요.\n",
    "jumsu[8] = 20\n",
    "print(jumsu)"
   ]
  },
  {
   "cell_type": "code",
   "execution_count": 260,
   "id": "280fdcf1",
   "metadata": {
    "ExecuteTime": {
     "end_time": "2022-12-21T08:19:48.410063Z",
     "start_time": "2022-12-21T08:19:48.391023Z"
    },
    "slideshow": {
     "slide_type": "skip"
    }
   },
   "outputs": [
    {
     "name": "stdout",
     "output_type": "stream",
     "text": [
      "[100, 70, 80, 20, 85, 90]\n"
     ]
    }
   ],
   "source": [
    "#(7) 중복된 점수는 제거하고 하나씩만 나오도록 출력하세요.\n",
    "print(list(set(jumsu)))"
   ]
  },
  {
   "cell_type": "code",
   "execution_count": 261,
   "id": "e2d1ed54",
   "metadata": {
    "ExecuteTime": {
     "end_time": "2022-12-21T08:21:50.779921Z",
     "start_time": "2022-12-21T08:21:50.759922Z"
    },
    "slideshow": {
     "slide_type": "skip"
    }
   },
   "outputs": [],
   "source": [
    "# 문제 8 ~ 9\n",
    "fruits = [\"복숭아\", \"수박\", \"딸기\"]"
   ]
  },
  {
   "cell_type": "code",
   "execution_count": 262,
   "id": "9159a59b",
   "metadata": {
    "ExecuteTime": {
     "end_time": "2022-12-21T08:23:39.086683Z",
     "start_time": "2022-12-21T08:23:39.073673Z"
    },
    "slideshow": {
     "slide_type": "skip"
    }
   },
   "outputs": [
    {
     "name": "stdout",
     "output_type": "stream",
     "text": [
      "['복숭아', '수박', '딸기', '사과', '귤']\n"
     ]
    }
   ],
   "source": [
    "#(8) fruits 리스트에 마지막 원소로 \"사과\", \"귤\"을 추가하세요.\n",
    "#fruits.append(\"사과\") # 리스트를 2개 만듬\n",
    "#fruits.append(\"귤\")\n",
    "fruits.extend(['사과', '귤'])\n",
    "#fruits + ['사과', '귤'] # 새로운 리스트를 만듬\n",
    "print(fruits)"
   ]
  },
  {
   "cell_type": "code",
   "execution_count": 225,
   "id": "0f1f1f82",
   "metadata": {
    "ExecuteTime": {
     "end_time": "2022-12-21T07:03:56.301766Z",
     "start_time": "2022-12-21T07:03:56.285767Z"
    },
    "slideshow": {
     "slide_type": "skip"
    }
   },
   "outputs": [
    {
     "name": "stdout",
     "output_type": "stream",
     "text": [
      "['수박', '딸기', '사과', '귤']\n"
     ]
    }
   ],
   "source": [
    "#(9) fruits 리스트에서 \"복숭아\"를 제거하세요.\n",
    "fruits.remove(\"복숭아\")\n",
    "print(fruits)"
   ]
  },
  {
   "cell_type": "code",
   "execution_count": 274,
   "id": "fa3d29ed",
   "metadata": {
    "ExecuteTime": {
     "end_time": "2022-12-21T08:30:56.902704Z",
     "start_time": "2022-12-21T08:30:56.879704Z"
    },
    "slideshow": {
     "slide_type": "skip"
    }
   },
   "outputs": [
    {
     "name": "stdout",
     "output_type": "stream",
     "text": [
      "{'이름': '전종민', '나이': 24, 'email주소': 'jongmin1701@naver.com', '취미': ['게임', '운동'], '결혼유무': False}\n",
      "{'이름': '전종민', '나이': 24, 'email주소': 'jongmin1701@naver.com', '취미': ['게임', '운동'], '결혼유무': False}\n"
     ]
    }
   ],
   "source": [
    "# 문제 10 ~ 15\n",
    "#(10)본인의 이름, 나이, email주소, 취미, 결혼유무를 사전(딕셔너리)으로 생성. \n",
    "# 취미는 2개 이상의 값을 넣는다..\n",
    "info = dict(이름=\"전종민\", 나이=24, email주소=\"jongmin1701@naver.com\", 취미=[\"게임\",\"운동\"], 결혼유무=False)\n",
    "info2 = {\n",
    "    \"이름\":\"전종민\", \n",
    "    \"나이\":24, \n",
    "    \"email주소\":\"jongmin1701@naver.com\", \n",
    "    \"취미\":[\"게임\",\"운동\"], \n",
    "    \"결혼유무\":False}\n",
    "print(info)\n",
    "print(info2)"
   ]
  },
  {
   "cell_type": "code",
   "execution_count": 275,
   "id": "c6f91836",
   "metadata": {
    "ExecuteTime": {
     "end_time": "2022-12-21T08:31:39.705049Z",
     "start_time": "2022-12-21T08:31:39.688020Z"
    },
    "slideshow": {
     "slide_type": "skip"
    }
   },
   "outputs": [
    {
     "name": "stdout",
     "output_type": "stream",
     "text": [
      "전종민 jongmin1701@naver.com\n"
     ]
    }
   ],
   "source": [
    "#(11) 위 딕셔너리에서 이름과 email주소를 조회해서 출력하세요.\n",
    "print(info[\"이름\"], info[\"email주소\"])"
   ]
  },
  {
   "cell_type": "code",
   "execution_count": 276,
   "id": "fc2caf8b",
   "metadata": {
    "ExecuteTime": {
     "end_time": "2022-12-21T08:31:40.079645Z",
     "start_time": "2022-12-21T08:31:40.058683Z"
    },
    "slideshow": {
     "slide_type": "skip"
    }
   },
   "outputs": [
    {
     "name": "stdout",
     "output_type": "stream",
     "text": [
      "운동\n"
     ]
    }
   ],
   "source": [
    "#(12) 위 딕셔너리에서 취미중 두번째 취미를 조회해서 출력하세요.\n",
    "print(info[\"취미\"][1])"
   ]
  },
  {
   "cell_type": "code",
   "execution_count": 277,
   "id": "14af69a8",
   "metadata": {
    "ExecuteTime": {
     "end_time": "2022-12-21T08:31:40.482337Z",
     "start_time": "2022-12-21T08:31:40.462337Z"
    },
    "slideshow": {
     "slide_type": "skip"
    }
   },
   "outputs": [
    {
     "name": "stdout",
     "output_type": "stream",
     "text": [
      "{'이름': '전종민', '나이': 24, 'email주소': 'jongmin1701@naver.com', '취미': ['게임', '운동'], '결혼유무': False, '몸무게': 60.0, '키': 175}\n"
     ]
    }
   ],
   "source": [
    "#(13) 위 딕셔너리에 몸무게와 키 항목을 추가하세요.\n",
    "info['몸무게'] = 60.0\n",
    "info['키'] = 175\n",
    "print(info)"
   ]
  },
  {
   "cell_type": "code",
   "execution_count": 278,
   "id": "4a35b505",
   "metadata": {
    "ExecuteTime": {
     "end_time": "2022-12-21T08:31:40.936815Z",
     "start_time": "2022-12-21T08:31:40.917167Z"
    },
    "slideshow": {
     "slide_type": "skip"
    }
   },
   "outputs": [
    {
     "name": "stdout",
     "output_type": "stream",
     "text": [
      "{'이름': '전종민', 'email주소': 'jongmin1701@naver.com', '취미': ['게임', '운동'], '결혼유무': False, '몸무게': 60.0, '키': 175}\n"
     ]
    }
   ],
   "source": [
    "#(14) 위 딕셔너리에서 나이를 제거하세요.\n",
    "del info['나이']\n",
    "print(info)"
   ]
  },
  {
   "cell_type": "code",
   "execution_count": 279,
   "id": "12398809",
   "metadata": {
    "ExecuteTime": {
     "end_time": "2022-12-21T08:31:41.499577Z",
     "start_time": "2022-12-21T08:31:41.480581Z"
    },
    "slideshow": {
     "slide_type": "skip"
    }
   },
   "outputs": [
    {
     "name": "stdout",
     "output_type": "stream",
     "text": [
      "{'이름': '전종민', 'email주소': 'jeon.jongmin@gmail.com', '취미': ['게임', '운동'], '결혼유무': False, '몸무게': 60.0, '키': 175}\n"
     ]
    }
   ],
   "source": [
    "#(15) 위 딕셔너리에서 email 주소를 다른 값으로 변경하세요.\n",
    "info['email주소'] = 'jeon.jongmin@gmail.com'\n",
    "print(info)"
   ]
  },
  {
   "cell_type": "markdown",
   "id": "a318cc83",
   "metadata": {},
   "source": [
    "### Mutable & Immutable "
   ]
  },
  {
   "cell_type": "code",
   "execution_count": 259,
   "id": "0777412b",
   "metadata": {
    "ExecuteTime": {
     "end_time": "2022-12-21T08:16:11.533182Z",
     "start_time": "2022-12-21T08:16:11.523172Z"
    }
   },
   "outputs": [
    {
     "name": "stdout",
     "output_type": "stream",
     "text": [
      "10\n",
      "10 500\n",
      "[1, 2, 3]\n",
      "[1, 2, 4] [1, 2, 4]\n"
     ]
    }
   ],
   "source": [
    "# Immutable한 값(string, 정수, 실수, 논리, 튜플)\n",
    "# 변수를 이용해서 다른 변수에 대입한 다음에 다른 변수에서 값을 바꿔도 원본은 안바뀐다.\n",
    "a = 10\n",
    "print(a)\n",
    "b = a\n",
    "b = 500\n",
    "print(a, b)\n",
    "\n",
    "# Mutable한 값(리스트, 셋, 딕셔너리)\n",
    "# 변수를 이용해서 다른 변수에 대입한 다음에 다른 변수에서 값을 바꾸면 원본도 바뀐다.\n",
    "a = [1, 2, 3]\n",
    "print(a)\n",
    "b = a\n",
    "b[2] = 4\n",
    "print(a, b)"
   ]
  }
 ],
 "metadata": {
  "kernelspec": {
   "display_name": "Python 3 (ipykernel)",
   "language": "python",
   "name": "python3"
  },
  "language_info": {
   "codemirror_mode": {
    "name": "ipython",
    "version": 3
   },
   "file_extension": ".py",
   "mimetype": "text/x-python",
   "name": "python",
   "nbconvert_exporter": "python",
   "pygments_lexer": "ipython3",
   "version": "3.9.13"
  },
  "toc": {
   "base_numbering": 1,
   "nav_menu": {},
   "number_sections": true,
   "sideBar": true,
   "skip_h1_title": false,
   "title_cell": "Table of Contents",
   "title_sidebar": "Contents",
   "toc_cell": false,
   "toc_position": {},
   "toc_section_display": true,
   "toc_window_display": false
  },
  "varInspector": {
   "cols": {
    "lenName": 16,
    "lenType": 16,
    "lenVar": 40
   },
   "kernels_config": {
    "python": {
     "delete_cmd_postfix": "",
     "delete_cmd_prefix": "del ",
     "library": "var_list.py",
     "varRefreshCmd": "print(var_dic_list())"
    },
    "r": {
     "delete_cmd_postfix": ") ",
     "delete_cmd_prefix": "rm(",
     "library": "var_list.r",
     "varRefreshCmd": "cat(var_dic_list()) "
    }
   },
   "types_to_exclude": [
    "module",
    "function",
    "builtin_function_or_method",
    "instance",
    "_Feature"
   ],
   "window_display": false
  }
 },
 "nbformat": 4,
 "nbformat_minor": 5
}
